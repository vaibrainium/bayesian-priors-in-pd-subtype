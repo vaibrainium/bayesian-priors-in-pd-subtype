{
 "cells": [
  {
   "cell_type": "code",
   "execution_count": 1,
   "metadata": {},
   "outputs": [],
   "source": [
    "%matplotlib inline\n",
    "%load_ext autoreload\n",
    "%autoreload 2"
   ]
  },
  {
   "cell_type": "code",
   "execution_count": 2,
   "metadata": {},
   "outputs": [],
   "source": [
    "import numpy as np\n",
    "import numpy.random as npr\n",
    "import pandas as pd\n",
    "import matplotlib.pyplot as plt\n",
    "import ssm\n",
    "from sklearn import preprocessing\n",
    "from sklearn.model_selection import KFold\n",
    "from scipy import stats\n",
    "\n",
    "from notebooks.imports import *\n",
    "from config import dir_config, main_config\n",
    "from src.utils.glm_hmm_utils import *\n",
    "import pickle\n",
    "import copy"
   ]
  },
  {
   "cell_type": "markdown",
   "metadata": {},
   "source": [
    "### Configuration"
   ]
  },
  {
   "cell_type": "code",
   "execution_count": 3,
   "metadata": {},
   "outputs": [],
   "source": [
    "from config import dir_config, main_config\n",
    "\n",
    "raw_dir = Path(dir_config.data.raw)\n",
    "processed_dir = Path(dir_config.data.processed)\n",
    "\n",
    "metadata = pd.read_csv(Path(processed_dir, \"processed_metadata_accu_60.csv\"))\n",
    "data = pd.read_csv(Path(processed_dir, \"processed_data_accu_60_all.csv\"))"
   ]
  },
  {
   "cell_type": "code",
   "execution_count": 4,
   "metadata": {},
   "outputs": [],
   "source": [
    "experiment_sites = [\"Stanford\"]\n",
    "\n",
    "metadata = metadata[metadata['experiment_site'].isin(experiment_sites)].reset_index(drop=True)\n",
    "data = data[data['subject_id'].isin(metadata['subject_id'])].reset_index(drop=True)\n",
    "\n",
    "# add session_id to data with matching subject_id and medication\n",
    "metadata['session_id'] = metadata[['subject_id', 'treatment']].apply(lambda x: '_'.join(x.astype(str).str.upper()), axis=1)\n",
    "data['session_id'] = data[['subject_id', 'medication']].apply(lambda x: '_'.join(x.astype(str).str.upper()), axis=1)\n",
    "data.choice = data.choice.fillna(-1).astype(int)\n",
    "data.target = data.target.fillna(-1).astype(int)\n",
    "data.outcome = data.outcome.fillna(-1).astype(int)"
   ]
  },
  {
   "cell_type": "markdown",
   "metadata": {},
   "source": [
    "### Helper Functions"
   ]
  },
  {
   "cell_type": "code",
   "execution_count": 5,
   "metadata": {},
   "outputs": [],
   "source": [
    "def extract_previous_data(trial_data, invalid_idx):\n",
    "    npr.seed(1)\n",
    "    prev_choice = np.hstack([trial_data.choice[0], trial_data.choice[:-1]])  # 0:awayPrior, 1:toPrior of previous valid trial\n",
    "    prev_target = np.hstack([trial_data.target[0], trial_data.target[:-1]]) * 2 - 1  # 0:awayPrior, 1:toPrior of previous valid trial\n",
    "    prev_color = np.hstack([trial_data.color[0], trial_data.color[:-1]])  # 0:equalPrior, 1:UnequalPrior of previous valid trial\n",
    "\n",
    "    # indices where the previous trial is invalid/valid\n",
    "    prev_invalid_idx = np.array(invalid_idx) + 1\n",
    "    if 0 in invalid_idx:\n",
    "        prev_invalid_idx = np.append(0, prev_invalid_idx)\n",
    "    prev_valid_idx = np.setdiff1d(np.arange(len(trial_data)), prev_invalid_idx)\n",
    "\n",
    "    for i in prev_invalid_idx[prev_invalid_idx < len(trial_data)]:\n",
    "        if i < prev_valid_idx[0]: #randomly sample if no previous valid trials\n",
    "            prev_choice[i] = np.random.binomial(1,0.5)\n",
    "            prev_target[i] = np.random.binomial(1,0.5) * 2 - 1\n",
    "            prev_color[i]  = np.random.binomial(1,0.5)\n",
    "        else:\n",
    "            last_valid =  np.where(prev_valid_idx<i)[0][-1]\n",
    "            prev_choice[i] = prev_choice[prev_valid_idx[last_valid]]\n",
    "            prev_target[i] = prev_target[prev_valid_idx[last_valid]]\n",
    "            prev_color[i] = prev_color[prev_valid_idx[last_valid]]\n",
    "\n",
    "    prev_choice = (prev_choice * 2) - 1 # -1:awayPrior, 1:toPrior of previous valid trial\n",
    "    return prev_choice.astype(int), prev_target.astype(int), prev_color.astype(int)\n",
    "\n",
    "def prepare_input_data(data, input_dim, invalid_idx):\n",
    "    X = np.ones((1, data.shape[0], input_dim))\n",
    "\n",
    "    X[0,:,0] = data.signed_coherence / 100\n",
    "    X[0,:,1] = data.color\n",
    "    X[0,:,3], X[0,:,4], X[0,:,5] = extract_previous_data(data, invalid_idx)\n",
    "    return list(X)"
   ]
  },
  {
   "cell_type": "markdown",
   "metadata": {},
   "source": [
    "### Data processing"
   ]
  },
  {
   "cell_type": "code",
   "execution_count": 6,
   "metadata": {},
   "outputs": [
    {
     "name": "stdout",
     "output_type": "stream",
     "text": [
      "------------- info ----------------\n",
      "<class 'pandas.core.frame.DataFrame'>\n",
      "RangeIndex: 20585 entries, 0 to 20584\n",
      "Data columns (total 15 columns):\n",
      " #   Column            Non-Null Count  Dtype  \n",
      "---  ------            --------------  -----  \n",
      " 0   subject_id        20585 non-null  object \n",
      " 1   medication        20585 non-null  object \n",
      " 2   prior             20585 non-null  object \n",
      " 3   prior_direction   20585 non-null  object \n",
      " 4   prior_color       20585 non-null  object \n",
      " 5   color             20307 non-null  float64\n",
      " 6   coherence         20307 non-null  float64\n",
      " 7   target            20585 non-null  int64  \n",
      " 8   is_valid          20585 non-null  bool   \n",
      " 9   outcome           20585 non-null  int64  \n",
      " 10  choice            20585 non-null  int64  \n",
      " 11  reaction_time     20585 non-null  float64\n",
      " 12  session_filename  20585 non-null  object \n",
      " 13  signed_coherence  20307 non-null  float64\n",
      " 14  session_id        20585 non-null  object \n",
      "dtypes: bool(1), float64(4), int64(3), object(7)\n",
      "memory usage: 2.2+ MB\n",
      "None\n",
      "------------- Head ----------------\n",
      "  subject_id medication prior prior_direction prior_color  color  coherence  \\\n",
      "0        P11        off    gr           right       green    1.0       13.0   \n",
      "1        P11        off    gr           right       green    1.0        0.0   \n",
      "2        P11        off    gr           right       green    0.0        0.0   \n",
      "3        P11        off    gr           right       green    1.0        0.0   \n",
      "4        P11        off    gr           right       green    1.0      100.0   \n",
      "\n",
      "   target  is_valid  outcome  choice  reaction_time    session_filename  \\\n",
      "0       0      True        0       1    1605.292423  P11_OFFmeds_gr.mat   \n",
      "1       1      True        0       0    1444.102487  P11_OFFmeds_gr.mat   \n",
      "2       0      True        0       1    1314.854267  P11_OFFmeds_gr.mat   \n",
      "3       1     False       -1      -1    1648.912344  P11_OFFmeds_gr.mat   \n",
      "4       0      True        1       0     712.549048  P11_OFFmeds_gr.mat   \n",
      "\n",
      "   signed_coherence session_id  \n",
      "0             -13.0    P11_OFF  \n",
      "1               0.0    P11_OFF  \n",
      "2              -0.0    P11_OFF  \n",
      "3               0.0    P11_OFF  \n",
      "4            -100.0    P11_OFF  \n",
      "\n",
      "\n",
      "------------- describe ----------------\n",
      "\n",
      "\n",
      "              color     coherence        target       outcome        choice  \\\n",
      "count  20307.000000  20307.000000  20585.000000  20585.000000  20585.000000   \n",
      "mean       0.499975     37.134880      0.594462      0.642798      0.499247   \n",
      "std        0.500012     38.531784      0.517784      0.562396      0.580242   \n",
      "min        0.000000      0.000000     -1.000000     -1.000000     -1.000000   \n",
      "25%        0.000000     13.000000      0.000000      0.000000      0.000000   \n",
      "50%        0.000000     35.000000      1.000000      1.000000      1.000000   \n",
      "75%        1.000000    100.000000      1.000000      1.000000      1.000000   \n",
      "max        1.000000    100.000000      1.000000      1.000000      1.000000   \n",
      "\n",
      "       reaction_time  signed_coherence  \n",
      "count   2.058500e+04      20307.000000  \n",
      "mean    5.530039e+02          8.597429  \n",
      "std     4.950787e+04         52.818994  \n",
      "min    -7.102090e+06       -100.000000  \n",
      "25%     6.816330e+02        -13.000000  \n",
      "50%     8.382396e+02          0.000000  \n",
      "75%     1.077466e+03         35.000000  \n",
      "max     1.821451e+03        100.000000  \n",
      "------------- nan counts ----------------\n",
      "subject_id            0\n",
      "medication            0\n",
      "prior                 0\n",
      "prior_direction       0\n",
      "prior_color           0\n",
      "color               278\n",
      "coherence           278\n",
      "target                0\n",
      "is_valid              0\n",
      "outcome               0\n",
      "choice                0\n",
      "reaction_time         0\n",
      "session_filename      0\n",
      "signed_coherence    278\n",
      "session_id            0\n",
      "dtype: int64\n",
      "\n",
      "\n",
      "------------- dtypes ----------------\n",
      "\n",
      "\n",
      "subject_id           object\n",
      "medication           object\n",
      "prior                object\n",
      "prior_direction      object\n",
      "prior_color          object\n",
      "color               float64\n",
      "coherence           float64\n",
      "target                int64\n",
      "is_valid               bool\n",
      "outcome               int64\n",
      "choice                int64\n",
      "reaction_time       float64\n",
      "session_filename     object\n",
      "signed_coherence    float64\n",
      "session_id           object\n",
      "dtype: object\n",
      "\n",
      "\n",
      "------------- shape ----------------\n",
      "\n",
      "\n",
      "(20585, 15)\n"
     ]
    }
   ],
   "source": [
    "print(\"------------- info ----------------\")\n",
    "print(data.info())\n",
    "print(\"------------- Head ----------------\")\n",
    "print(data.head())\n",
    "print(\"\\n\\n------------- describe ----------------\\n\\n\")\n",
    "print(data.describe())\n",
    "print(\"------------- nan counts ----------------\")\n",
    "print(data.isnull().sum())\n",
    "print(\"\\n\\n------------- dtypes ----------------\\n\\n\")\n",
    "print(data.dtypes)\n",
    "print(\"\\n\\n------------- shape ----------------\\n\\n\")\n",
    "print(data.shape)"
   ]
  },
  {
   "cell_type": "markdown",
   "metadata": {},
   "source": [
    "#### Data preparation"
   ]
  },
  {
   "cell_type": "code",
   "execution_count": 7,
   "metadata": {},
   "outputs": [
    {
     "data": {
      "text/plain": [
       "(array(['P1_OFF', 'P3_OFF', 'P4_OFF', 'P6_OFF', 'P7_OFF', 'P9_OFF',\n",
       "        'P11_OFF', 'P12_OFF', 'P13_OFF', 'P17_OFF', 'P18_OFF', 'P19_OFF',\n",
       "        'P20_OFF', 'P22_OFF', 'P23_OFF', 'P24_OFF'], dtype=object),\n",
       " array(['P1_ON', 'P3_ON', 'P4_ON', 'P6_ON', 'P7_ON', 'P9_ON', 'P11_ON',\n",
       "        'P12_ON', 'P13_ON', 'P17_ON', 'P18_ON', 'P19_ON', 'P20_ON',\n",
       "        'P22_ON', 'P23_ON', 'P24_ON'], dtype=object))"
      ]
     },
     "execution_count": 7,
     "metadata": {},
     "output_type": "execute_result"
    }
   ],
   "source": [
    "off_med_sessions = metadata[metadata['treatment'] == 'OFF'].session_id.unique()\n",
    "on_med_sessions = metadata[metadata['treatment'] == 'ON'].session_id.unique()\n",
    "off_med_sessions, on_med_sessions"
   ]
  },
  {
   "cell_type": "markdown",
   "metadata": {},
   "source": [
    "#### Create design matrix (input, output, mask)"
   ]
  },
  {
   "cell_type": "code",
   "execution_count": 8,
   "metadata": {},
   "outputs": [],
   "source": [
    "n_states = 2       # number of discrete states\n",
    "obs_dim = 1           # number of observed dimensions: choice(toPrior/awayPrior)\n",
    "num_categories = 2    # number of categories for output\n",
    "input_dim = 6        # input dimensions: current signed coherence, current stimulus color, 1(bias), previous choice(toPrior/awayPrior), previous target side(toPrior/awayPrior), previous color(toPrior/awayPrior)"
   ]
  },
  {
   "cell_type": "markdown",
   "metadata": {},
   "source": [
    "### Off medication sessions"
   ]
  },
  {
   "cell_type": "code",
   "execution_count": 9,
   "metadata": {},
   "outputs": [],
   "source": [
    "inputs_session_wise = []\n",
    "choices_session_wise = []\n",
    "invalid_idx_session_wise = []\n",
    "masks_session_wise = []\n",
    "reaction_time_session_wise = []\n",
    "\n",
    "# off medication sessions\n",
    "for session in off_med_sessions:\n",
    "    session_data = data[data['session_id'] == session].reset_index(drop=True)\n",
    "\n",
    "\n",
    "    invalid_idx = np.where(session_data.outcome < 0)[0]\n",
    "    valid_idx = np.where(session_data.outcome >= 0)[0]\n",
    "\n",
    "    inputs = prepare_input_data(session_data, input_dim, invalid_idx)\n",
    "    choices = session_data.choice.values.reshape(-1,1).astype('int')\n",
    "\n",
    "    # for training, replace -1 with random sample from 0,1\n",
    "    choices[choices == -1] = npr.choice([0,1],invalid_idx.shape[0])\n",
    "    mask = np.ones_like(choices, dtype=bool)\n",
    "    mask[invalid_idx] = 0\n",
    "    reaction_time = np.array(session_data.reaction_time)\n",
    "\n",
    "    masks_session_wise.append(mask)\n",
    "    inputs_session_wise += inputs\n",
    "    choices_session_wise.append(choices)\n",
    "    reaction_time_session_wise.append(reaction_time)\n",
    "\n",
    "off_med_inputs_aggregate, off_med_choices_aggregate, off_med_masks_aggregate = [], [], []\n",
    "off_med_inputs_aggregate.append(np.vstack(inputs_session_wise))\n",
    "off_med_choices_aggregate.append(np.vstack(choices_session_wise))\n",
    "off_med_masks_aggregate.append(np.vstack(masks_session_wise))\n",
    "\n",
    "unnormalized_off_med_inputs = copy.deepcopy(inputs_session_wise)\n",
    "\n",
    "# scaling signed coherence\n",
    "off_med_inputs_aggregate[0][off_med_masks_aggregate[0][:,0],0] = preprocessing.scale(off_med_inputs_aggregate[0][off_med_masks_aggregate[0][:,0],0], axis=0)\n",
    "for idx in range(len(off_med_sessions)):\n",
    "    inputs_session_wise[idx][masks_session_wise[idx][:,0]] = preprocessing.scale(inputs_session_wise[idx][masks_session_wise[idx][:,0]], axis=0)\n"
   ]
  },
  {
   "cell_type": "code",
   "execution_count": 10,
   "metadata": {},
   "outputs": [
    {
     "name": "stdout",
     "output_type": "stream",
     "text": [
      "Fitting GLM globally...\n"
     ]
    },
    {
     "data": {
      "application/vnd.jupyter.widget-view+json": {
       "model_id": "60884f8ca49940b0988ef0a5fe4510e7",
       "version_major": 2,
       "version_minor": 0
      },
      "text/plain": [
       "  0%|          | 0/1000 [00:00<?, ?it/s]"
      ]
     },
     "metadata": {},
     "output_type": "display_data"
    },
    {
     "name": "stdout",
     "output_type": "stream",
     "text": [
      "Fitting 2 states...\n"
     ]
    },
    {
     "name": "stderr",
     "output_type": "stream",
     "text": [
      "Converged to LP: -5361.9:   0%|          | 2/1000 [00:00<01:01, 16.30it/s]\n",
      "Converged to LP: -5132.0:   7%|▋         | 66/1000 [00:02<00:30, 30.65it/s]\n",
      "Converged to LP: -5132.0:   7%|▋         | 70/1000 [00:02<00:32, 28.63it/s]\n",
      "Converged to LP: -5132.0:  10%|▉         | 95/1000 [00:02<00:27, 32.89it/s]\n",
      "Converged to LP: -5132.0:   7%|▋         | 74/1000 [00:02<00:34, 26.55it/s]\n",
      "Converged to LP: -5132.0:  10%|█         | 104/1000 [00:03<00:28, 30.92it/s]\n",
      "Converged to LP: -5132.0:  11%|█         | 108/1000 [00:03<00:27, 32.77it/s]\n",
      "Converged to LP: -5132.0:   9%|▉         | 89/1000 [00:03<00:33, 26.99it/s]\n",
      "Converged to LP: -5132.0:  11%|█         | 108/1000 [00:03<00:28, 31.79it/s]\n",
      "Converged to LP: -5132.0:  11%|█         | 111/1000 [00:03<00:27, 32.71it/s]\n",
      "Converged to LP: -5132.0:  10%|▉         | 97/1000 [00:03<00:33, 27.28it/s]\n",
      "Converged to LP: -5132.0:  12%|█▏        | 117/1000 [00:03<00:27, 32.46it/s]\n",
      "Converged to LP: -5132.0:  10%|█         | 100/1000 [00:03<00:33, 26.95it/s]\n",
      "Converged to LP: -5132.0:  12%|█▏        | 118/1000 [00:03<00:27, 32.30it/s]\n",
      "Converged to LP: -5132.0:  11%|█         | 110/1000 [00:03<00:32, 27.81it/s]\n",
      "Converged to LP: -5132.0:  11%|█         | 112/1000 [00:03<00:30, 29.18it/s]\n",
      "Converged to LP: -5132.0:  13%|█▎        | 127/1000 [00:04<00:31, 28.07it/s]\n",
      "Converged to LP: -5132.0:  14%|█▍        | 141/1000 [00:04<00:28, 30.50it/s]\n",
      "Converged to LP: -5132.0:  16%|█▌        | 156/1000 [00:05<00:27, 30.77it/s]\n",
      "Converged to LP: -5301.8:  38%|███▊      | 377/1000 [00:09<00:14, 41.78it/s]\n",
      "LP: -5409.5:   0%|          | 0/1000 [00:00<?, ?it/s]"
     ]
    },
    {
     "name": "stdout",
     "output_type": "stream",
     "text": [
      "Fitting 3 states...\n"
     ]
    },
    {
     "name": "stderr",
     "output_type": "stream",
     "text": [
      "Converged to LP: -5075.4:   9%|▉         | 89/1000 [00:03<00:39, 23.21it/s]\n",
      "Converged to LP: -5075.2:   6%|▌         | 62/1000 [00:03<00:47, 19.56it/s]\n",
      "Converged to LP: -5075.4:   7%|▋         | 70/1000 [00:03<00:43, 21.39it/s]\n",
      "Converged to LP: -5075.4:   9%|▉         | 92/1000 [00:04<00:42, 21.21it/s]\n",
      "Converged to LP: -5075.4:  10%|█         | 100/1000 [00:04<00:37, 23.87it/s]\n",
      "Converged to LP: -5075.4:  11%|█         | 107/1000 [00:05<00:41, 21.32it/s]\n",
      "Converged to LP: -5075.4:  13%|█▎        | 134/1000 [00:06<00:38, 22.33it/s]\n",
      "Converged to LP: -5075.4:  14%|█▍        | 139/1000 [00:05<00:36, 23.59it/s]\n",
      "Converged to LP: -5075.2:  17%|█▋        | 173/1000 [00:06<00:29, 28.28it/s]\n",
      "Converged to LP: -5075.4:  14%|█▎        | 135/1000 [00:06<00:38, 22.40it/s]\n",
      "Converged to LP: -5075.4:  12%|█▏        | 124/1000 [00:06<00:43, 19.92it/s]\n",
      "Converged to LP: -5075.1:  18%|█▊        | 177/1000 [00:07<00:33, 24.29it/s]\n",
      "Converged to LP: -5075.4:  19%|█▉        | 189/1000 [00:08<00:35, 22.97it/s]\n",
      "Converged to LP: -5071.3:  26%|██▌       | 261/1000 [00:10<00:30, 24.12it/s]\n",
      "Converged to LP: -5071.3:  28%|██▊       | 281/1000 [00:10<00:26, 27.38it/s]\n",
      "Converged to LP: -5075.4:  32%|███▏      | 320/1000 [00:11<00:25, 27.05it/s]\n",
      "Converged to LP: -5155.5:  44%|████▍     | 438/1000 [00:13<00:17, 31.39it/s]\n",
      "Converged to LP: -5071.3:  40%|████      | 400/1000 [00:14<00:21, 27.96it/s]\n",
      "Converged to LP: -5156.3:  47%|████▋     | 473/1000 [00:14<00:16, 32.14it/s]\n",
      "Converged to LP: -5156.3:  56%|█████▋    | 565/1000 [00:18<00:13, 31.35it/s]\n",
      "LP: -5481.7:   0%|          | 0/1000 [00:00<?, ?it/s]"
     ]
    },
    {
     "name": "stdout",
     "output_type": "stream",
     "text": [
      "Fitting 4 states...\n"
     ]
    },
    {
     "name": "stderr",
     "output_type": "stream",
     "text": [
      "Converged to LP: -5455.8:   2%|▏         | 18/1000 [00:00<00:49, 19.73it/s]\n",
      "Converged to LP: -5031.9:  16%|█▌        | 157/1000 [00:08<00:47, 17.82it/s]\n",
      "Converged to LP: -5107.4:  18%|█▊        | 185/1000 [00:11<00:48, 16.79it/s]\n",
      "Converged to LP: -5031.9:  20%|██        | 203/1000 [00:12<00:48, 16.49it/s]\n",
      "Converged to LP: -5108.5:  29%|██▉       | 294/1000 [00:13<00:33, 21.13it/s]\n",
      "Converged to LP: -5111.5:  29%|██▉       | 294/1000 [00:15<00:36, 19.22it/s]\n",
      "Converged to LP: -5111.0:  29%|██▊       | 287/1000 [00:15<00:39, 18.27it/s]\n",
      "Converged to LP: -5031.9:  30%|██▉       | 295/1000 [00:16<00:38, 18.18it/s]\n",
      "Converged to LP: -5112.2:  31%|███       | 309/1000 [00:16<00:37, 18.52it/s]\n",
      "Converged to LP: -5111.0:  33%|███▎      | 333/1000 [00:17<00:35, 18.58it/s]\n",
      "Converged to LP: -5115.2:  42%|████▏     | 423/1000 [00:19<00:26, 21.60it/s]\n",
      "Converged to LP: -5115.4:  39%|███▉      | 393/1000 [00:22<00:34, 17.50it/s]\n",
      "Converged to LP: -5031.9:  47%|████▋     | 469/1000 [00:24<00:27, 19.14it/s]\n",
      "Converged to LP: -5034.4:  45%|████▍     | 449/1000 [00:24<00:30, 18.12it/s]\n",
      "Converged to LP: -5034.4:  54%|█████▍    | 538/1000 [00:25<00:22, 20.85it/s]\n",
      "Converged to LP: -5109.0:  61%|██████    | 610/1000 [00:26<00:16, 23.34it/s]\n",
      "Converged to LP: -5120.2:  51%|█████     | 512/1000 [00:26<00:24, 19.56it/s]\n",
      "Converged to LP: -5096.7:  61%|██████    | 606/1000 [00:28<00:18, 21.18it/s]\n",
      "Converged to LP: -5096.6:  64%|██████▍   | 642/1000 [00:30<00:17, 20.73it/s]\n",
      "Converged to LP: -5125.2:  66%|██████▌   | 656/1000 [00:31<00:16, 20.86it/s]\n"
     ]
    },
    {
     "name": "stdout",
     "output_type": "stream",
     "text": [
      "Fitting 5 states...\n"
     ]
    },
    {
     "name": "stderr",
     "output_type": "stream",
     "text": [
      "Converged to LP: -5147.0:  29%|██▊       | 287/1000 [00:19<00:49, 14.50it/s]\n",
      "Converged to LP: -5069.8:  36%|███▋      | 365/1000 [00:24<00:42, 14.87it/s]\n",
      "Converged to LP: -5144.7:  39%|███▉      | 394/1000 [00:25<00:38, 15.67it/s]\n",
      "Converged to LP: -5029.6:  49%|████▊     | 486/1000 [00:33<00:35, 14.36it/s]\n",
      "Converged to LP: -5144.5:  52%|█████▏    | 515/1000 [00:35<00:33, 14.66it/s]\n",
      "Converged to LP: -5162.9:  60%|██████    | 602/1000 [00:36<00:24, 16.27it/s]\n",
      "Converged to LP: -5064.0:  60%|██████    | 603/1000 [00:37<00:25, 15.87it/s]\n",
      "Converged to LP: -5071.2:  60%|█████▉    | 597/1000 [00:39<00:26, 14.96it/s]\n",
      "Converged to LP: -5069.8:  72%|███████▏  | 721/1000 [00:40<00:15, 17.62it/s]\n",
      "Converged to LP: -5059.1:  67%|██████▋   | 673/1000 [00:43<00:20, 15.57it/s]\n",
      "Converged to LP: -5065.1:  70%|███████   | 701/1000 [00:44<00:18, 15.93it/s]\n",
      "Converged to LP: -5064.4:  71%|███████▏  | 714/1000 [00:44<00:17, 16.07it/s]\n",
      "Converged to LP: -5066.6:  74%|███████▍  | 741/1000 [00:46<00:16, 15.78it/s]\n",
      "Converged to LP: -5030.5:  77%|███████▋  | 774/1000 [00:47<00:13, 16.46it/s]\n",
      "Converged to LP: -5059.1:  75%|███████▍  | 748/1000 [00:47<00:15, 15.88it/s]\n",
      "Converged to LP: -5074.1:  76%|███████▋  | 765/1000 [00:48<00:15, 15.65it/s]\n",
      "Converged to LP: -5146.8:  93%|█████████▎| 927/1000 [00:50<00:04, 18.20it/s]\n",
      "LP: -5119.8: 100%|██████████| 1000/1000 [00:54<00:00, 18.46it/s]\n",
      "Converged to LP: -5059.1:  89%|████████▉ | 893/1000 [00:56<00:06, 15.90it/s]\n",
      "LP: -5060.2: 100%|██████████| 1000/1000 [00:57<00:00, 17.36it/s]\n"
     ]
    }
   ],
   "source": [
    "models_glm_hmm_off_med, fit_lls_glm_hmm_off_med = global_fit(off_med_choices_aggregate, off_med_inputs_aggregate, masks=off_med_masks_aggregate, n_iters= 1000, n_initializations=20)"
   ]
  },
  {
   "cell_type": "code",
   "execution_count": 11,
   "metadata": {},
   "outputs": [],
   "source": [
    "# get best model of 20 initializations for each state\n",
    "init_params = {\n",
    "    'glm_weights': {},\n",
    "    'transition_matrices': {}\n",
    "}\n",
    "for n_states in np.arange(2,6):\n",
    "    best_idx = fit_lls_glm_hmm_off_med[n_states].index(max(fit_lls_glm_hmm_off_med[n_states]))\n",
    "    init_params['glm_weights'][n_states] = models_glm_hmm_off_med[n_states][best_idx].observations.params\n",
    "    init_params['transition_matrices'][n_states] = models_glm_hmm_off_med[n_states][best_idx].transitions.params"
   ]
  },
  {
   "cell_type": "code",
   "execution_count": 12,
   "metadata": {},
   "outputs": [
    {
     "name": "stdout",
     "output_type": "stream",
     "text": [
      "Fitting session 0...\n",
      "Fitting 2 states...\n"
     ]
    },
    {
     "name": "stderr",
     "output_type": "stream",
     "text": [
      "Converged to LP: -318.9:   2%|▏         | 20/1000 [00:00<00:03, 298.66it/s]\n",
      "Converged to LP: -310.4:   2%|▎         | 25/1000 [00:00<00:04, 212.22it/s]\n",
      "Converged to LP: -315.1:   4%|▍         | 41/1000 [00:00<00:02, 336.31it/s]\n",
      "Converged to LP: -319.2:   2%|▎         | 25/1000 [00:00<00:05, 164.07it/s]\n",
      "Converged to LP: -316.8:   9%|▉         | 88/1000 [00:00<00:03, 242.27it/s]\n",
      "LP: -364.8:   0%|          | 0/1000 [00:00<?, ?it/s]"
     ]
    },
    {
     "name": "stdout",
     "output_type": "stream",
     "text": [
      "Fitting 3 states...\n"
     ]
    },
    {
     "name": "stderr",
     "output_type": "stream",
     "text": [
      "Converged to LP: -356.6:   2%|▏         | 24/1000 [00:00<00:05, 190.75it/s]\n",
      "Converged to LP: -361.6:   4%|▎         | 36/1000 [00:00<00:04, 195.42it/s]\n",
      "Converged to LP: -353.5:   7%|▋         | 74/1000 [00:00<00:03, 235.56it/s]\n",
      "Converged to LP: -346.6:  11%|█         | 110/1000 [00:00<00:03, 235.13it/s]\n",
      "Converged to LP: -353.5:  11%|█         | 106/1000 [00:00<00:04, 214.43it/s]\n",
      "LP: -400.8:   1%|▏         | 14/1000 [00:00<00:07, 135.23it/s]"
     ]
    },
    {
     "name": "stdout",
     "output_type": "stream",
     "text": [
      "Fitting 4 states...\n"
     ]
    },
    {
     "name": "stderr",
     "output_type": "stream",
     "text": [
      "Converged to LP: -397.2:   8%|▊         | 75/1000 [00:00<00:04, 200.43it/s]\n",
      "Converged to LP: -396.7:   8%|▊         | 80/1000 [00:00<00:05, 178.08it/s]\n",
      "Converged to LP: -397.8:   9%|▉         | 94/1000 [00:00<00:05, 169.24it/s]\n",
      "Converged to LP: -398.5:  16%|█▋        | 163/1000 [00:00<00:03, 216.95it/s]\n",
      "Converged to LP: -388.2:  16%|█▌        | 157/1000 [00:00<00:04, 181.23it/s]\n",
      "LP: -460.2:   0%|          | 0/1000 [00:00<?, ?it/s]"
     ]
    },
    {
     "name": "stdout",
     "output_type": "stream",
     "text": [
      "Fitting 5 states...\n"
     ]
    },
    {
     "name": "stderr",
     "output_type": "stream",
     "text": [
      "Converged to LP: -458.8:   4%|▍         | 38/1000 [00:00<00:05, 173.59it/s]\n",
      "Converged to LP: -437.0:  12%|█▏        | 122/1000 [00:00<00:05, 170.76it/s]\n",
      "Converged to LP: -455.1:  17%|█▋        | 170/1000 [00:00<00:04, 197.76it/s]\n",
      "Converged to LP: -439.5:  19%|█▉        | 192/1000 [00:01<00:04, 179.39it/s]\n",
      "Converged to LP: -429.2:  33%|███▎      | 328/1000 [00:01<00:03, 189.39it/s]\n",
      "Converged to LP: -301.8:   1%|          | 6/1000 [00:00<00:03, 248.82it/s]\n",
      "Converged to LP: -314.0:   1%|          | 8/1000 [00:00<00:03, 260.89it/s]\n",
      "Converged to LP: -308.5:   1%|          | 9/1000 [00:00<00:06, 156.76it/s]\n",
      "Converged to LP: -314.0:   2%|▏         | 22/1000 [00:00<00:03, 292.59it/s]\n",
      "Converged to LP: -316.7:   3%|▎         | 32/1000 [00:00<00:03, 258.70it/s]\n"
     ]
    },
    {
     "name": "stdout",
     "output_type": "stream",
     "text": [
      "Fitting session 1...\n",
      "Fitting 2 states...\n",
      "Fitting 3 states...\n"
     ]
    },
    {
     "name": "stderr",
     "output_type": "stream",
     "text": [
      "Converged to LP: -343.4:   1%|          | 10/1000 [00:00<00:04, 204.47it/s]\n",
      "Converged to LP: -357.5:   1%|▏         | 13/1000 [00:00<00:04, 223.93it/s]\n",
      "Converged to LP: -351.3:   1%|          | 11/1000 [00:00<00:06, 155.72it/s]\n",
      "Converged to LP: -348.3:   2%|▏         | 16/1000 [00:00<00:05, 170.32it/s]\n",
      "Converged to LP: -354.8:   7%|▋         | 73/1000 [00:00<00:03, 240.69it/s]\n",
      "LP: -393.6:   0%|          | 0/1000 [00:00<?, ?it/s]"
     ]
    },
    {
     "name": "stdout",
     "output_type": "stream",
     "text": [
      "Fitting 4 states...\n"
     ]
    },
    {
     "name": "stderr",
     "output_type": "stream",
     "text": [
      "Converged to LP: -385.0:   2%|▏         | 24/1000 [00:00<00:06, 143.70it/s]\n",
      "Converged to LP: -392.3:   4%|▍         | 38/1000 [00:00<00:05, 175.95it/s]\n",
      "Converged to LP: -399.0:   5%|▌         | 50/1000 [00:00<00:04, 195.06it/s]\n",
      "Converged to LP: -393.3:  15%|█▌        | 151/1000 [00:00<00:03, 224.66it/s]\n",
      "Converged to LP: -387.6:  15%|█▌        | 151/1000 [00:00<00:03, 222.09it/s]\n",
      "LP: -471.6:   0%|          | 0/1000 [00:00<?, ?it/s]"
     ]
    },
    {
     "name": "stdout",
     "output_type": "stream",
     "text": [
      "Fitting 5 states...\n"
     ]
    },
    {
     "name": "stderr",
     "output_type": "stream",
     "text": [
      "Converged to LP: -431.8:   6%|▌         | 59/1000 [00:00<00:05, 166.47it/s]\n",
      "Converged to LP: -442.2:   8%|▊         | 80/1000 [00:00<00:05, 175.62it/s]\n",
      "Converged to LP: -437.1:   9%|▉         | 92/1000 [00:00<00:04, 184.71it/s]\n",
      "Converged to LP: -416.5:  13%|█▎        | 130/1000 [00:00<00:04, 195.97it/s]\n",
      "Converged to LP: -432.6:  15%|█▍        | 149/1000 [00:00<00:04, 187.85it/s]\n",
      "LP: -362.4:   0%|          | 0/1000 [00:00<?, ?it/s]"
     ]
    },
    {
     "name": "stdout",
     "output_type": "stream",
     "text": [
      "Fitting session 2...\n",
      "Fitting 2 states...\n",
      "Fitting 3 states...\n"
     ]
    },
    {
     "name": "stderr",
     "output_type": "stream",
     "text": [
      "Converged to LP: -332.9:   1%|          | 12/1000 [00:00<00:03, 253.31it/s]\n",
      "Converged to LP: -350.1:   2%|▏         | 18/1000 [00:00<00:03, 303.59it/s]\n",
      "Converged to LP: -343.9:   2%|▏         | 20/1000 [00:00<00:03, 280.18it/s]\n",
      "Converged to LP: -355.6:   3%|▎         | 27/1000 [00:00<00:04, 222.48it/s]\n",
      "Converged to LP: -353.5:   4%|▎         | 37/1000 [00:00<00:04, 219.44it/s]\n",
      "Converged to LP: -397.8:   3%|▎         | 31/1000 [00:00<00:04, 222.09it/s]\n",
      "Converged to LP: -370.7:   2%|▏         | 21/1000 [00:00<00:06, 148.63it/s]\n",
      "Converged to LP: -402.0:   2%|▎         | 25/1000 [00:00<00:06, 162.47it/s]\n",
      "Converged to LP: -384.8:   6%|▋         | 65/1000 [00:00<00:04, 214.33it/s]\n",
      "Converged to LP: -378.1:  12%|█▏        | 118/1000 [00:00<00:03, 230.81it/s]\n",
      "LP: -422.2:   1%|          | 10/1000 [00:00<00:10, 97.62it/s]]"
     ]
    },
    {
     "name": "stdout",
     "output_type": "stream",
     "text": [
      "Fitting 4 states...\n"
     ]
    },
    {
     "name": "stderr",
     "output_type": "stream",
     "text": [
      "Converged to LP: -417.9:   5%|▌         | 50/1000 [00:00<00:06, 144.13it/s]\n",
      "Converged to LP: -440.9:   8%|▊         | 81/1000 [00:00<00:04, 191.55it/s]\n",
      "Converged to LP: -436.0:   7%|▋         | 68/1000 [00:00<00:06, 140.62it/s]\n",
      "Converged to LP: -417.0:   8%|▊         | 82/1000 [00:00<00:05, 162.51it/s]\n",
      "Converged to LP: -431.3:  10%|▉         | 98/1000 [00:00<00:04, 187.91it/s]\n",
      "LP: -472.2:   1%|          | 11/1000 [00:00<00:09, 107.55it/s]"
     ]
    },
    {
     "name": "stdout",
     "output_type": "stream",
     "text": [
      "Fitting 5 states...\n"
     ]
    },
    {
     "name": "stderr",
     "output_type": "stream",
     "text": [
      "Converged to LP: -459.3:   8%|▊         | 82/1000 [00:00<00:05, 170.41it/s]\n",
      "Converged to LP: -475.8:   8%|▊         | 84/1000 [00:00<00:07, 123.66it/s]\n",
      "Converged to LP: -460.7:  13%|█▎        | 128/1000 [00:00<00:05, 163.66it/s]\n",
      "Converged to LP: -483.2:  20%|█▉        | 195/1000 [00:01<00:04, 192.30it/s]\n",
      "Converged to LP: -470.8:  30%|██▉       | 296/1000 [00:01<00:03, 195.53it/s]\n",
      "LP: -299.7:   0%|          | 0/1000 [00:00<?, ?it/s]"
     ]
    },
    {
     "name": "stdout",
     "output_type": "stream",
     "text": [
      "Fitting session 3...\n",
      "Fitting 2 states...\n"
     ]
    },
    {
     "name": "stderr",
     "output_type": "stream",
     "text": [
      "Converged to LP: -275.2:   4%|▎         | 35/1000 [00:00<00:03, 246.91it/s]\n",
      "Converged to LP: -297.3:   4%|▍         | 38/1000 [00:00<00:05, 191.62it/s]\n",
      "Converged to LP: -287.6:   9%|▉         | 90/1000 [00:00<00:03, 296.62it/s]\n",
      "Converged to LP: -294.5:  12%|█▏        | 117/1000 [00:00<00:03, 286.04it/s]\n",
      "Converged to LP: -286.3:  12%|█▎        | 125/1000 [00:00<00:02, 298.29it/s]\n",
      "LP: -344.1:   0%|          | 0/1000 [00:00<?, ?it/s]"
     ]
    },
    {
     "name": "stdout",
     "output_type": "stream",
     "text": [
      "Fitting 3 states...\n"
     ]
    },
    {
     "name": "stderr",
     "output_type": "stream",
     "text": [
      "Converged to LP: -335.3:   3%|▎         | 29/1000 [00:00<00:05, 189.04it/s]\n",
      "Converged to LP: -335.8:   4%|▍         | 45/1000 [00:00<00:04, 221.88it/s]\n",
      "Converged to LP: -330.8:   6%|▌         | 62/1000 [00:00<00:03, 234.87it/s]\n",
      "Converged to LP: -333.4:  10%|█         | 105/1000 [00:00<00:03, 251.39it/s]\n",
      "Converged to LP: -310.7:  24%|██▍       | 239/1000 [00:01<00:03, 231.05it/s]\n",
      "LP: -418.0:   0%|          | 0/1000 [00:00<?, ?it/s]"
     ]
    },
    {
     "name": "stdout",
     "output_type": "stream",
     "text": [
      "Fitting 4 states...\n"
     ]
    },
    {
     "name": "stderr",
     "output_type": "stream",
     "text": [
      "Converged to LP: -374.8:   5%|▍         | 46/1000 [00:00<00:05, 159.11it/s]\n",
      "Converged to LP: -375.1:   8%|▊         | 79/1000 [00:00<00:04, 189.76it/s]\n",
      "Converged to LP: -374.5:  28%|██▊       | 280/1000 [00:01<00:03, 229.06it/s]\n",
      "Converged to LP: -362.3:  29%|██▊       | 287/1000 [00:01<00:03, 214.21it/s]\n",
      "Converged to LP: -365.1:  61%|██████    | 606/1000 [00:02<00:01, 236.15it/s]\n",
      "LP: -438.6:   0%|          | 0/1000 [00:00<?, ?it/s]"
     ]
    },
    {
     "name": "stdout",
     "output_type": "stream",
     "text": [
      "Fitting 5 states...\n"
     ]
    },
    {
     "name": "stderr",
     "output_type": "stream",
     "text": [
      "Converged to LP: -412.1:   6%|▌         | 58/1000 [00:00<00:09, 99.74it/s] \n",
      "Converged to LP: -410.3:  13%|█▎        | 132/1000 [00:00<00:05, 154.81it/s]\n",
      "Converged to LP: -413.7:  15%|█▌        | 153/1000 [00:01<00:06, 139.27it/s]\n",
      "Converged to LP: -406.5:  20%|██        | 201/1000 [00:01<00:05, 147.08it/s]\n",
      "Converged to LP: -400.8:  26%|██▋       | 263/1000 [00:01<00:04, 168.41it/s]\n",
      "Converged to LP: -378.7:   1%|▏         | 13/1000 [00:00<00:04, 238.63it/s]\n",
      "Converged to LP: -382.0:   2%|▏         | 18/1000 [00:00<00:03, 274.35it/s]\n",
      "LP: -389.2:   0%|          | 0/1000 [00:00<?, ?it/s]"
     ]
    },
    {
     "name": "stdout",
     "output_type": "stream",
     "text": [
      "Fitting session 4...\n",
      "Fitting 2 states...\n"
     ]
    },
    {
     "name": "stderr",
     "output_type": "stream",
     "text": [
      "Converged to LP: -376.4:   5%|▌         | 50/1000 [00:00<00:03, 280.35it/s]\n",
      "Converged to LP: -384.4:   7%|▋         | 68/1000 [00:00<00:03, 283.79it/s]\n",
      "Converged to LP: -388.6:   9%|▉         | 90/1000 [00:00<00:03, 260.94it/s]\n",
      "Converged to LP: -421.3:   2%|▏         | 16/1000 [00:00<00:04, 220.34it/s]\n",
      "Converged to LP: -426.7:   2%|▎         | 25/1000 [00:00<00:04, 228.21it/s]\n",
      "Converged to LP: -416.8:   1%|▏         | 13/1000 [00:00<00:08, 112.93it/s]\n",
      "LP: -421.6:   1%|▏         | 14/1000 [00:00<00:07, 139.03it/s]"
     ]
    },
    {
     "name": "stdout",
     "output_type": "stream",
     "text": [
      "Fitting 3 states...\n"
     ]
    },
    {
     "name": "stderr",
     "output_type": "stream",
     "text": [
      "Converged to LP: -421.6:   4%|▎         | 37/1000 [00:00<00:05, 191.27it/s]\n",
      "Converged to LP: -428.7:   4%|▍         | 39/1000 [00:00<00:05, 177.37it/s]\n",
      "LP: -471.3:   1%|          | 11/1000 [00:00<00:09, 109.50it/s]"
     ]
    },
    {
     "name": "stdout",
     "output_type": "stream",
     "text": [
      "Fitting 4 states...\n"
     ]
    },
    {
     "name": "stderr",
     "output_type": "stream",
     "text": [
      "Converged to LP: -460.6:   4%|▍         | 43/1000 [00:00<00:05, 189.94it/s]\n",
      "Converged to LP: -455.8:   4%|▍         | 44/1000 [00:00<00:05, 180.63it/s]\n",
      "Converged to LP: -463.3:  13%|█▎        | 133/1000 [00:00<00:03, 222.63it/s]\n",
      "Converged to LP: -453.1:  21%|██        | 212/1000 [00:00<00:03, 236.30it/s]\n",
      "Converged to LP: -469.9:  21%|██        | 210/1000 [00:00<00:03, 214.92it/s]\n",
      "LP: -502.2:   1%|          | 12/1000 [00:00<00:08, 118.92it/s]"
     ]
    },
    {
     "name": "stdout",
     "output_type": "stream",
     "text": [
      "Fitting 5 states...\n"
     ]
    },
    {
     "name": "stderr",
     "output_type": "stream",
     "text": [
      "Converged to LP: -499.7:   5%|▌         | 52/1000 [00:00<00:06, 152.97it/s]\n",
      "Converged to LP: -494.2:   7%|▋         | 68/1000 [00:00<00:06, 151.52it/s]\n",
      "Converged to LP: -491.9:  10%|▉         | 97/1000 [00:00<00:05, 171.00it/s]\n",
      "Converged to LP: -496.5:   9%|▉         | 89/1000 [00:00<00:06, 144.05it/s]\n",
      "Converged to LP: -508.3:  15%|█▌        | 150/1000 [00:00<00:05, 161.59it/s]\n"
     ]
    },
    {
     "name": "stdout",
     "output_type": "stream",
     "text": [
      "Fitting session 5...\n",
      "Fitting 2 states...\n",
      "Fitting 3 states...\n",
      "Fitting 4 states...\n"
     ]
    },
    {
     "name": "stderr",
     "output_type": "stream",
     "text": [
      "Converged to LP: -392.2:   1%|          | 7/1000 [00:00<00:04, 218.13it/s]\n",
      "Converged to LP: -392.8:   1%|          | 11/1000 [00:00<00:04, 233.94it/s]\n",
      "Converged to LP: -387.3:   1%|          | 11/1000 [00:00<00:04, 242.54it/s]\n",
      "Converged to LP: -398.1:   1%|          | 11/1000 [00:00<00:04, 223.39it/s]\n",
      "Converged to LP: -383.3:   2%|▏         | 17/1000 [00:00<00:06, 154.63it/s]\n",
      "Converged to LP: -418.3:   1%|          | 8/1000 [00:00<00:05, 190.78it/s]\n",
      "Converged to LP: -429.6:   1%|          | 9/1000 [00:00<00:05, 182.77it/s]\n",
      "Converged to LP: -430.2:   1%|          | 10/1000 [00:00<00:05, 185.21it/s]\n",
      "Converged to LP: -438.9:   1%|          | 11/1000 [00:00<00:05, 176.76it/s]\n",
      "Converged to LP: -423.9:   1%|          | 12/1000 [00:00<00:05, 187.68it/s]\n",
      "Converged to LP: -430.9:   4%|▍         | 39/1000 [00:00<00:05, 163.67it/s]\n",
      "Converged to LP: -434.7:   4%|▍         | 44/1000 [00:00<00:05, 177.19it/s]\n",
      "Converged to LP: -441.8:   6%|▌         | 59/1000 [00:00<00:04, 199.72it/s]\n",
      "Converged to LP: -437.1:   7%|▋         | 66/1000 [00:00<00:04, 189.72it/s]\n",
      "Converged to LP: -450.2:   8%|▊         | 75/1000 [00:00<00:04, 190.93it/s]\n",
      "  0%|          | 0/1000 [00:00<?, ?it/s]00<?, ?it/s]"
     ]
    },
    {
     "name": "stdout",
     "output_type": "stream",
     "text": [
      "Fitting 5 states...\n"
     ]
    },
    {
     "name": "stderr",
     "output_type": "stream",
     "text": [
      "Converged to LP: -492.0:   4%|▍         | 41/1000 [00:00<00:06, 145.06it/s]\n",
      "Converged to LP: -511.3:   5%|▌         | 51/1000 [00:00<00:06, 146.18it/s]\n",
      "Converged to LP: -483.2:   5%|▍         | 47/1000 [00:00<00:07, 121.90it/s]\n",
      "Converged to LP: -498.4:   5%|▌         | 52/1000 [00:00<00:07, 126.66it/s]\n",
      "Converged to LP: -490.5:   7%|▋         | 68/1000 [00:00<00:07, 132.41it/s]\n",
      "Converged to LP: -256.5:   1%|          | 11/1000 [00:00<00:03, 278.35it/s]\n",
      "Converged to LP: -269.5:   1%|          | 11/1000 [00:00<00:03, 248.49it/s]\n",
      "LP: -272.7:   0%|          | 0/1000 [00:00<?, ?it/s]"
     ]
    },
    {
     "name": "stdout",
     "output_type": "stream",
     "text": [
      "Fitting session 6...\n",
      "Fitting 2 states...\n"
     ]
    },
    {
     "name": "stderr",
     "output_type": "stream",
     "text": [
      "Converged to LP: -270.3:   2%|▎         | 25/1000 [00:00<00:05, 183.39it/s]\n",
      "Converged to LP: -270.0:   6%|▋         | 65/1000 [00:00<00:03, 264.81it/s]\n",
      "Converged to LP: -266.6:  13%|█▎        | 133/1000 [00:00<00:02, 289.96it/s]\n",
      "LP: -339.1:   0%|          | 0/1000 [00:00<?, ?it/s]"
     ]
    },
    {
     "name": "stdout",
     "output_type": "stream",
     "text": [
      "Fitting 3 states...\n"
     ]
    },
    {
     "name": "stderr",
     "output_type": "stream",
     "text": [
      "Converged to LP: -314.6:   2%|▏         | 19/1000 [00:00<00:04, 205.28it/s]\n",
      "Converged to LP: -310.1:   4%|▎         | 36/1000 [00:00<00:04, 195.33it/s]\n",
      "Converged to LP: -297.4:   4%|▍         | 42/1000 [00:00<00:04, 227.08it/s]\n",
      "Converged to LP: -312.5:   4%|▍         | 44/1000 [00:00<00:04, 210.72it/s]\n",
      "Converged to LP: -296.9:  19%|█▊        | 186/1000 [00:00<00:03, 252.72it/s]\n",
      "LP: -358.0:   0%|          | 0/1000 [00:00<?, ?it/s]"
     ]
    },
    {
     "name": "stdout",
     "output_type": "stream",
     "text": [
      "Fitting 4 states...\n"
     ]
    },
    {
     "name": "stderr",
     "output_type": "stream",
     "text": [
      "Converged to LP: -350.4:   6%|▌         | 57/1000 [00:00<00:05, 171.99it/s]\n",
      "Converged to LP: -341.1:   7%|▋         | 68/1000 [00:00<00:04, 200.08it/s]\n",
      "Converged to LP: -356.0:   7%|▋         | 71/1000 [00:00<00:04, 198.11it/s]\n",
      "Converged to LP: -350.9:  17%|█▋        | 171/1000 [00:00<00:03, 207.40it/s]\n",
      "Converged to LP: -354.7:  24%|██▍       | 244/1000 [00:01<00:03, 208.47it/s]\n",
      "LP: -406.1:   0%|          | 0/1000 [00:00<?, ?it/s]"
     ]
    },
    {
     "name": "stdout",
     "output_type": "stream",
     "text": [
      "Fitting 5 states...\n"
     ]
    },
    {
     "name": "stderr",
     "output_type": "stream",
     "text": [
      "Converged to LP: -400.2:   5%|▌         | 51/1000 [00:00<00:05, 162.38it/s]\n",
      "Converged to LP: -403.8:   5%|▌         | 54/1000 [00:00<00:06, 140.43it/s]\n",
      "Converged to LP: -402.7:   7%|▋         | 66/1000 [00:00<00:05, 165.79it/s]\n",
      "Converged to LP: -385.0:  23%|██▎       | 229/1000 [00:01<00:03, 193.27it/s]\n",
      "Converged to LP: -385.5:  28%|██▊       | 284/1000 [00:01<00:04, 171.18it/s]\n",
      "LP: -276.2:   0%|          | 0/1000 [00:00<?, ?it/s]"
     ]
    },
    {
     "name": "stdout",
     "output_type": "stream",
     "text": [
      "Fitting session 7...\n",
      "Fitting 2 states...\n"
     ]
    },
    {
     "name": "stderr",
     "output_type": "stream",
     "text": [
      "Converged to LP: -284.4:   2%|▏         | 17/1000 [00:00<00:03, 298.50it/s]\n",
      "Converged to LP: -282.7:   2%|▏         | 17/1000 [00:00<00:04, 207.64it/s]\n",
      "Converged to LP: -276.0:   3%|▎         | 31/1000 [00:00<00:02, 347.14it/s]\n",
      "Converged to LP: -289.2:   2%|▎         | 25/1000 [00:00<00:04, 216.19it/s]\n",
      "Converged to LP: -281.6:  10%|▉         | 95/1000 [00:00<00:02, 311.56it/s]\n",
      "Converged to LP: -328.8:   2%|▏         | 22/1000 [00:00<00:04, 223.26it/s]\n",
      "LP: -327.4:   2%|▏         | 21/1000 [00:00<00:04, 205.75it/s]"
     ]
    },
    {
     "name": "stdout",
     "output_type": "stream",
     "text": [
      "Fitting 3 states...\n"
     ]
    },
    {
     "name": "stderr",
     "output_type": "stream",
     "text": [
      "Converged to LP: -326.7:   4%|▍         | 42/1000 [00:00<00:04, 227.08it/s]\n",
      "Converged to LP: -322.3:   4%|▍         | 39/1000 [00:00<00:04, 192.85it/s]\n",
      "Converged to LP: -326.5:   4%|▍         | 43/1000 [00:00<00:04, 205.83it/s]\n",
      "Converged to LP: -332.3:   5%|▍         | 49/1000 [00:00<00:04, 224.80it/s]\n",
      "LP: -379.8:   2%|▏         | 15/1000 [00:00<00:06, 149.06it/s]"
     ]
    },
    {
     "name": "stdout",
     "output_type": "stream",
     "text": [
      "Fitting 4 states...\n"
     ]
    },
    {
     "name": "stderr",
     "output_type": "stream",
     "text": [
      "Converged to LP: -364.9:   9%|▉         | 94/1000 [00:00<00:06, 141.55it/s]\n",
      "Converged to LP: -360.6:  20%|█▉        | 196/1000 [00:01<00:04, 171.45it/s]\n",
      "Converged to LP: -363.2:  23%|██▎       | 230/1000 [00:01<00:03, 195.95it/s]\n",
      "Converged to LP: -351.5:  34%|███▍      | 342/1000 [00:01<00:03, 208.36it/s]\n",
      "Converged to LP: -369.1:  62%|██████▏   | 622/1000 [00:02<00:01, 214.90it/s]\n",
      "LP: -428.0:   0%|          | 0/1000 [00:00<?, ?it/s]"
     ]
    },
    {
     "name": "stdout",
     "output_type": "stream",
     "text": [
      "Fitting 5 states...\n"
     ]
    },
    {
     "name": "stderr",
     "output_type": "stream",
     "text": [
      "Converged to LP: -408.8:   8%|▊         | 83/1000 [00:00<00:06, 148.60it/s]\n",
      "Converged to LP: -418.8:  12%|█▏        | 120/1000 [00:00<00:04, 182.38it/s]\n",
      "Converged to LP: -408.4:  27%|██▋       | 267/1000 [00:01<00:03, 195.87it/s]\n",
      "Converged to LP: -417.9:  36%|███▋      | 365/1000 [00:01<00:03, 197.23it/s]\n",
      "Converged to LP: -403.0:  36%|███▋      | 365/1000 [00:02<00:03, 176.85it/s]\n",
      "Converged to LP: -373.1:   1%|          | 10/1000 [00:00<00:03, 270.62it/s]\n",
      "Converged to LP: -360.0:   1%|          | 10/1000 [00:00<00:03, 249.96it/s]\n",
      "Converged to LP: -363.9:   1%|          | 12/1000 [00:00<00:03, 273.37it/s]\n",
      "Converged to LP: -373.7:   1%|▏         | 13/1000 [00:00<00:03, 261.72it/s]\n",
      "Converged to LP: -367.7:   2%|▏         | 19/1000 [00:00<00:05, 186.44it/s]\n",
      "LP: -418.1:   0%|          | 0/1000 [00:00<?, ?it/s]"
     ]
    },
    {
     "name": "stdout",
     "output_type": "stream",
     "text": [
      "Fitting session 8...\n",
      "Fitting 2 states...\n",
      "Fitting 3 states...\n"
     ]
    },
    {
     "name": "stderr",
     "output_type": "stream",
     "text": [
      "Converged to LP: -403.7:   1%|          | 12/1000 [00:00<00:05, 190.51it/s]\n",
      "Converged to LP: -418.1:   2%|▏         | 15/1000 [00:00<00:04, 217.39it/s]\n",
      "Converged to LP: -409.4:   2%|▏         | 15/1000 [00:00<00:07, 134.40it/s]\n",
      "Converged to LP: -416.0:   2%|▏         | 19/1000 [00:00<00:06, 156.54it/s]\n",
      "Converged to LP: -407.7:   6%|▌         | 57/1000 [00:00<00:04, 201.69it/s]\n",
      "LP: -452.9:   2%|▏         | 16/1000 [00:00<00:06, 156.18it/s]"
     ]
    },
    {
     "name": "stdout",
     "output_type": "stream",
     "text": [
      "Fitting 4 states...\n"
     ]
    },
    {
     "name": "stderr",
     "output_type": "stream",
     "text": [
      "Converged to LP: -447.4:   5%|▍         | 47/1000 [00:00<00:05, 185.45it/s]\n",
      "Converged to LP: -451.3:   8%|▊         | 85/1000 [00:00<00:05, 171.53it/s]\n",
      "Converged to LP: -454.9:  11%|█         | 112/1000 [00:00<00:04, 199.65it/s]\n",
      "Converged to LP: -443.4:  13%|█▎        | 134/1000 [00:00<00:04, 191.15it/s]\n",
      "Converged to LP: -447.7:  25%|██▌       | 251/1000 [00:01<00:03, 240.26it/s]\n",
      "LP: -506.1:   1%|▏         | 14/1000 [00:00<00:07, 136.04it/s]"
     ]
    },
    {
     "name": "stdout",
     "output_type": "stream",
     "text": [
      "Fitting 5 states...\n"
     ]
    },
    {
     "name": "stderr",
     "output_type": "stream",
     "text": [
      "Converged to LP: -480.3:  10%|▉         | 95/1000 [00:00<00:06, 149.00it/s]\n",
      "Converged to LP: -481.8:  11%|█         | 112/1000 [00:00<00:06, 136.47it/s]\n",
      "Converged to LP: -499.1:  13%|█▎        | 129/1000 [00:00<00:05, 153.13it/s]\n",
      "Converged to LP: -494.1:  12%|█▏        | 122/1000 [00:00<00:06, 135.02it/s]\n",
      "Converged to LP: -478.8:  21%|██        | 210/1000 [00:01<00:04, 161.59it/s]\n",
      "Converged to LP: -348.6:   1%|          | 7/1000 [00:00<00:03, 269.66it/s]\n",
      "Converged to LP: -338.2:   1%|          | 6/1000 [00:00<00:03, 263.84it/s]\n",
      "Converged to LP: -346.5:   1%|          | 6/1000 [00:00<00:05, 187.21it/s]\n",
      "Converged to LP: -346.4:   1%|          | 8/1000 [00:00<00:03, 260.62it/s]\n",
      "LP: -339.3:   0%|          | 0/1000 [00:00<?, ?it/s]"
     ]
    },
    {
     "name": "stdout",
     "output_type": "stream",
     "text": [
      "Fitting session 9...\n",
      "Fitting 2 states...\n",
      "Fitting 3 states...\n"
     ]
    },
    {
     "name": "stderr",
     "output_type": "stream",
     "text": [
      "Converged to LP: -339.2:   1%|          | 11/1000 [00:00<00:04, 236.30it/s]\n",
      "Converged to LP: -391.4:   2%|▏         | 21/1000 [00:00<00:03, 259.32it/s]\n",
      "Converged to LP: -382.0:   2%|▏         | 18/1000 [00:00<00:04, 229.48it/s]\n",
      "Converged to LP: -392.5:   3%|▎         | 30/1000 [00:00<00:03, 254.12it/s]\n",
      "Converged to LP: -381.7:   4%|▍         | 39/1000 [00:00<00:04, 205.98it/s]\n",
      "Converged to LP: -392.0:   6%|▋         | 65/1000 [00:00<00:04, 198.17it/s]\n",
      "LP: -430.9:   0%|          | 0/1000 [00:00<?, ?it/s]"
     ]
    },
    {
     "name": "stdout",
     "output_type": "stream",
     "text": [
      "Fitting 4 states...\n"
     ]
    },
    {
     "name": "stderr",
     "output_type": "stream",
     "text": [
      "Converged to LP: -436.2:   3%|▎         | 33/1000 [00:00<00:04, 194.82it/s]\n",
      "Converged to LP: -423.9:   4%|▍         | 42/1000 [00:00<00:05, 173.92it/s]\n",
      "Converged to LP: -419.5:   8%|▊         | 81/1000 [00:00<00:04, 213.45it/s]\n",
      "Converged to LP: -431.2:  15%|█▍        | 146/1000 [00:00<00:04, 206.10it/s]\n",
      "Converged to LP: -402.2:  15%|█▌        | 151/1000 [00:00<00:04, 187.32it/s]\n",
      "LP: -486.8:   0%|          | 0/1000 [00:00<?, ?it/s]"
     ]
    },
    {
     "name": "stdout",
     "output_type": "stream",
     "text": [
      "Fitting 5 states...\n"
     ]
    },
    {
     "name": "stderr",
     "output_type": "stream",
     "text": [
      "Converged to LP: -454.2:   4%|▎         | 37/1000 [00:00<00:06, 152.90it/s]\n",
      "Converged to LP: -475.4:   8%|▊         | 83/1000 [00:00<00:05, 157.70it/s]\n",
      "Converged to LP: -459.7:   9%|▉         | 90/1000 [00:00<00:06, 150.30it/s]\n",
      "Converged to LP: -460.6:  10%|█         | 105/1000 [00:00<00:05, 151.87it/s]\n",
      "Converged to LP: -461.5:  12%|█▏        | 117/1000 [00:00<00:05, 152.99it/s]\n",
      "Converged to LP: -337.3:   1%|▏         | 14/1000 [00:00<00:03, 247.08it/s]\n",
      "LP: -338.3:   0%|          | 0/1000 [00:00<?, ?it/s]"
     ]
    },
    {
     "name": "stdout",
     "output_type": "stream",
     "text": [
      "Fitting session 10...\n",
      "Fitting 2 states...\n"
     ]
    },
    {
     "name": "stderr",
     "output_type": "stream",
     "text": [
      "Converged to LP: -330.4:   4%|▍         | 40/1000 [00:00<00:03, 271.17it/s]\n",
      "Converged to LP: -335.8:  10%|▉         | 95/1000 [00:00<00:02, 312.71it/s]\n",
      "Converged to LP: -336.7:  11%|█         | 108/1000 [00:00<00:03, 289.39it/s]\n",
      "Converged to LP: -346.6:  30%|███       | 300/1000 [00:00<00:02, 300.72it/s]\n",
      "LP: -379.9:   0%|          | 0/1000 [00:00<?, ?it/s]"
     ]
    },
    {
     "name": "stdout",
     "output_type": "stream",
     "text": [
      "Fitting 3 states...\n"
     ]
    },
    {
     "name": "stderr",
     "output_type": "stream",
     "text": [
      "Converged to LP: -385.8:   8%|▊         | 77/1000 [00:00<00:04, 216.07it/s]\n",
      "Converged to LP: -377.8:  12%|█▏        | 121/1000 [00:00<00:04, 213.00it/s]\n",
      "Converged to LP: -373.5:  12%|█▎        | 125/1000 [00:00<00:04, 200.44it/s]\n",
      "Converged to LP: -376.2:  15%|█▍        | 149/1000 [00:00<00:03, 229.23it/s]\n",
      "Converged to LP: -375.7:  16%|█▋        | 164/1000 [00:00<00:03, 233.48it/s]\n",
      "LP: -440.7:   2%|▏         | 16/1000 [00:00<00:06, 150.65it/s]"
     ]
    },
    {
     "name": "stdout",
     "output_type": "stream",
     "text": [
      "Fitting 4 states...\n"
     ]
    },
    {
     "name": "stderr",
     "output_type": "stream",
     "text": [
      "Converged to LP: -413.9:   7%|▋         | 69/1000 [00:00<00:05, 176.91it/s]\n",
      "Converged to LP: -439.2:   9%|▉         | 91/1000 [00:00<00:04, 202.42it/s]\n",
      "Converged to LP: -418.3:   9%|▉         | 93/1000 [00:00<00:04, 190.29it/s]\n",
      "Converged to LP: -419.3:  19%|█▉        | 192/1000 [00:00<00:04, 200.01it/s]\n",
      "Converged to LP: -413.3:  32%|███▏      | 319/1000 [00:01<00:03, 200.51it/s]\n",
      "LP: -465.4:   1%|          | 12/1000 [00:00<00:08, 118.02it/s]"
     ]
    },
    {
     "name": "stdout",
     "output_type": "stream",
     "text": [
      "Fitting 5 states...\n"
     ]
    },
    {
     "name": "stderr",
     "output_type": "stream",
     "text": [
      "Converged to LP: -451.5:  11%|█▏        | 113/1000 [00:00<00:05, 164.79it/s]\n",
      "Converged to LP: -449.9:  14%|█▍        | 140/1000 [00:00<00:05, 166.83it/s]\n",
      "Converged to LP: -471.6:  19%|█▉        | 193/1000 [00:01<00:04, 178.11it/s]\n",
      "Converged to LP: -471.9:  25%|██▍       | 247/1000 [00:01<00:04, 187.93it/s]\n",
      "Converged to LP: -453.4:  30%|██▉       | 299/1000 [00:01<00:03, 178.44it/s]\n",
      "Converged to LP: -387.5:   1%|          | 12/1000 [00:00<00:03, 287.91it/s]\n",
      "LP: -384.5:   0%|          | 0/1000 [00:00<?, ?it/s]"
     ]
    },
    {
     "name": "stdout",
     "output_type": "stream",
     "text": [
      "Fitting session 11...\n",
      "Fitting 2 states...\n"
     ]
    },
    {
     "name": "stderr",
     "output_type": "stream",
     "text": [
      "Converged to LP: -374.7:   3%|▎         | 26/1000 [00:00<00:05, 181.16it/s]\n",
      "Converged to LP: -377.5:   3%|▎         | 33/1000 [00:00<00:04, 204.42it/s]\n",
      "Converged to LP: -372.8:   4%|▎         | 37/1000 [00:00<00:05, 186.45it/s]\n",
      "Converged to LP: -376.7:  10%|▉         | 97/1000 [00:00<00:03, 268.75it/s]\n",
      "Converged to LP: -411.8:   2%|▎         | 25/1000 [00:00<00:04, 216.58it/s]\n",
      "Converged to LP: -421.8:   3%|▎         | 26/1000 [00:00<00:04, 215.78it/s]\n",
      "LP: -431.2:   2%|▏         | 20/1000 [00:00<00:04, 199.07it/s]"
     ]
    },
    {
     "name": "stdout",
     "output_type": "stream",
     "text": [
      "Fitting 3 states...\n"
     ]
    },
    {
     "name": "stderr",
     "output_type": "stream",
     "text": [
      "Converged to LP: -419.8:   3%|▎         | 31/1000 [00:00<00:06, 154.33it/s]\n",
      "Converged to LP: -404.2:   6%|▋         | 64/1000 [00:00<00:05, 175.75it/s]\n",
      "Converged to LP: -431.1:  10%|▉         | 97/1000 [00:00<00:03, 234.35it/s]\n",
      "LP: -452.5:   1%|▏         | 13/1000 [00:00<00:07, 127.62it/s]"
     ]
    },
    {
     "name": "stdout",
     "output_type": "stream",
     "text": [
      "Fitting 4 states...\n"
     ]
    },
    {
     "name": "stderr",
     "output_type": "stream",
     "text": [
      "Converged to LP: -464.9:   7%|▋         | 72/1000 [00:00<00:04, 199.57it/s]\n",
      "Converged to LP: -437.7:  10%|▉         | 97/1000 [00:00<00:04, 192.85it/s]\n",
      "Converged to LP: -449.5:   9%|▉         | 94/1000 [00:00<00:05, 174.04it/s]\n",
      "Converged to LP: -451.5:  13%|█▎        | 127/1000 [00:00<00:04, 199.14it/s]\n",
      "Converged to LP: -459.6:  18%|█▊        | 183/1000 [00:00<00:03, 215.94it/s]\n",
      "LP: -508.6:   0%|          | 0/1000 [00:00<?, ?it/s]"
     ]
    },
    {
     "name": "stdout",
     "output_type": "stream",
     "text": [
      "Fitting 5 states...\n"
     ]
    },
    {
     "name": "stderr",
     "output_type": "stream",
     "text": [
      "Converged to LP: -503.3:  10%|█         | 102/1000 [00:00<00:06, 143.82it/s]\n",
      "Converged to LP: -490.0:  12%|█▏        | 122/1000 [00:00<00:05, 155.43it/s]\n",
      "Converged to LP: -492.2:  13%|█▎        | 131/1000 [00:00<00:05, 152.43it/s]\n",
      "Converged to LP: -502.5:  17%|█▋        | 166/1000 [00:01<00:05, 158.63it/s]\n",
      "Converged to LP: -497.3:  27%|██▋       | 272/1000 [00:01<00:03, 201.12it/s]\n",
      "Converged to LP: -359.1:   2%|▏         | 18/1000 [00:00<00:03, 271.67it/s]\n",
      "Converged to LP: -354.0:   1%|▏         | 14/1000 [00:00<00:06, 153.98it/s]\n",
      "Converged to LP: -357.8:   3%|▎         | 31/1000 [00:00<00:03, 285.51it/s]\n"
     ]
    },
    {
     "name": "stdout",
     "output_type": "stream",
     "text": [
      "Fitting session 12...\n",
      "Fitting 2 states...\n",
      "Fitting 3 states...\n"
     ]
    },
    {
     "name": "stderr",
     "output_type": "stream",
     "text": [
      "Converged to LP: -358.6:   3%|▎         | 26/1000 [00:00<00:04, 206.38it/s]\n",
      "Converged to LP: -368.4:   4%|▍         | 39/1000 [00:00<00:03, 282.06it/s]\n",
      "Converged to LP: -404.8:   2%|▏         | 20/1000 [00:00<00:04, 232.09it/s]\n",
      "Converged to LP: -406.1:   2%|▎         | 25/1000 [00:00<00:03, 261.53it/s]\n",
      "Converged to LP: -400.1:   2%|▏         | 24/1000 [00:00<00:06, 145.13it/s]\n",
      "Converged to LP: -409.1:   4%|▍         | 38/1000 [00:00<00:04, 211.33it/s]\n",
      "Converged to LP: -388.8:   8%|▊         | 79/1000 [00:00<00:04, 225.91it/s]\n",
      "  0%|          | 0/1000 [00:00<?, ?it/s]00<?, ?it/s]"
     ]
    },
    {
     "name": "stdout",
     "output_type": "stream",
     "text": [
      "Fitting 4 states...\n"
     ]
    },
    {
     "name": "stderr",
     "output_type": "stream",
     "text": [
      "Converged to LP: -422.3:   7%|▋         | 67/1000 [00:00<00:05, 163.96it/s]\n",
      "Converged to LP: -443.4:   8%|▊         | 79/1000 [00:00<00:05, 174.44it/s]\n",
      "Converged to LP: -434.1:  11%|█         | 108/1000 [00:00<00:04, 200.38it/s]\n",
      "Converged to LP: -429.3:   9%|▉         | 93/1000 [00:00<00:05, 174.18it/s]\n",
      "Converged to LP: -432.9:  22%|██▏       | 224/1000 [00:01<00:03, 211.01it/s]\n",
      "LP: -485.6:   1%|          | 12/1000 [00:00<00:08, 111.01it/s]"
     ]
    },
    {
     "name": "stdout",
     "output_type": "stream",
     "text": [
      "Fitting 5 states...\n"
     ]
    },
    {
     "name": "stderr",
     "output_type": "stream",
     "text": [
      "Converged to LP: -482.5:   5%|▌         | 50/1000 [00:00<00:06, 153.56it/s]\n",
      "Converged to LP: -476.6:   6%|▋         | 64/1000 [00:00<00:05, 161.98it/s]\n",
      "Converged to LP: -474.7:   6%|▌         | 61/1000 [00:00<00:06, 141.13it/s]\n",
      "Converged to LP: -477.8:   9%|▉         | 92/1000 [00:00<00:05, 174.76it/s]\n",
      "Converged to LP: -477.3:  20%|█▉        | 197/1000 [00:01<00:04, 170.14it/s]\n",
      "Converged to LP: -378.1:   1%|▏         | 14/1000 [00:00<00:03, 297.88it/s]\n",
      "Converged to LP: -377.5:   2%|▏         | 15/1000 [00:00<00:03, 256.42it/s]\n",
      "Converged to LP: -381.2:   2%|▏         | 15/1000 [00:00<00:03, 258.23it/s]\n",
      "Converged to LP: -373.0:   2%|▏         | 17/1000 [00:00<00:03, 256.77it/s]\n",
      "LP: -376.7:   3%|▎         | 29/1000 [00:00<00:03, 280.52it/s]"
     ]
    },
    {
     "name": "stdout",
     "output_type": "stream",
     "text": [
      "Fitting session 13...\n",
      "Fitting 2 states...\n"
     ]
    },
    {
     "name": "stderr",
     "output_type": "stream",
     "text": [
      "Converged to LP: -368.6:  20%|█▉        | 198/1000 [00:00<00:02, 291.81it/s]\n",
      "LP: -426.8:   0%|          | 0/1000 [00:00<?, ?it/s]76.90it/s]"
     ]
    },
    {
     "name": "stdout",
     "output_type": "stream",
     "text": [
      "Fitting 3 states...\n"
     ]
    },
    {
     "name": "stderr",
     "output_type": "stream",
     "text": [
      "Converged to LP: -426.0:   2%|▏         | 18/1000 [00:00<00:06, 157.66it/s]\n",
      "Converged to LP: -411.8:   2%|▎         | 25/1000 [00:00<00:04, 198.54it/s]\n",
      "Converged to LP: -414.3:  10%|▉         | 95/1000 [00:00<00:04, 209.69it/s]\n",
      "Converged to LP: -412.1:  20%|██        | 200/1000 [00:00<00:03, 211.39it/s]\n",
      "Converged to LP: -412.1:  24%|██▍       | 241/1000 [00:01<00:03, 214.39it/s]\n",
      "LP: -448.5:   1%|▏         | 13/1000 [00:00<00:07, 124.08it/s]"
     ]
    },
    {
     "name": "stdout",
     "output_type": "stream",
     "text": [
      "Fitting 4 states...\n"
     ]
    },
    {
     "name": "stderr",
     "output_type": "stream",
     "text": [
      "Converged to LP: -440.9:   7%|▋         | 67/1000 [00:00<00:05, 176.88it/s]\n",
      "Converged to LP: -455.8:   8%|▊         | 80/1000 [00:00<00:04, 185.34it/s]\n",
      "Converged to LP: -446.1:  17%|█▋        | 168/1000 [00:00<00:03, 218.35it/s]\n",
      "Converged to LP: -443.8:  16%|█▌        | 156/1000 [00:00<00:04, 200.61it/s]\n",
      "Converged to LP: -451.9:  21%|██        | 211/1000 [00:01<00:03, 205.74it/s]\n",
      "LP: -511.3:   1%|          | 11/1000 [00:00<00:08, 109.95it/s]"
     ]
    },
    {
     "name": "stdout",
     "output_type": "stream",
     "text": [
      "Fitting 5 states...\n"
     ]
    },
    {
     "name": "stderr",
     "output_type": "stream",
     "text": [
      "Converged to LP: -500.0:   6%|▌         | 57/1000 [00:00<00:06, 145.38it/s]\n",
      "Converged to LP: -502.4:   9%|▊         | 87/1000 [00:00<00:06, 142.25it/s]\n",
      "Converged to LP: -476.3:  13%|█▎        | 130/1000 [00:00<00:05, 160.15it/s]\n",
      "Converged to LP: -492.8:  24%|██▍       | 241/1000 [00:01<00:04, 170.15it/s]\n",
      "Converged to LP: -497.6:  26%|██▋       | 265/1000 [00:01<00:04, 169.77it/s]\n"
     ]
    },
    {
     "name": "stdout",
     "output_type": "stream",
     "text": [
      "Fitting session 14...\n",
      "Fitting 2 states...\n"
     ]
    },
    {
     "name": "stderr",
     "output_type": "stream",
     "text": [
      "Converged to LP: -343.4:   2%|▏         | 17/1000 [00:00<00:03, 273.65it/s]\n",
      "Converged to LP: -341.9:   2%|▏         | 23/1000 [00:00<00:03, 276.04it/s]\n",
      "Converged to LP: -340.1:   3%|▎         | 30/1000 [00:00<00:04, 229.48it/s]\n",
      "Converged to LP: -343.5:   4%|▍         | 42/1000 [00:00<00:03, 285.22it/s]\n",
      "Converged to LP: -329.5:  13%|█▎        | 127/1000 [00:00<00:02, 293.08it/s]\n",
      "Converged to LP: -385.6:   3%|▎         | 26/1000 [00:00<00:04, 200.89it/s]\n",
      "LP: -379.9:   2%|▏         | 20/1000 [00:00<00:05, 192.74it/s]"
     ]
    },
    {
     "name": "stdout",
     "output_type": "stream",
     "text": [
      "Fitting 3 states...\n"
     ]
    },
    {
     "name": "stderr",
     "output_type": "stream",
     "text": [
      "Converged to LP: -379.7:   5%|▌         | 52/1000 [00:00<00:04, 215.58it/s]\n",
      "Converged to LP: -386.1:   5%|▌         | 51/1000 [00:00<00:04, 195.29it/s]\n",
      "Converged to LP: -385.0:   6%|▌         | 62/1000 [00:00<00:04, 216.62it/s]\n",
      "Converged to LP: -369.9:   8%|▊         | 75/1000 [00:00<00:03, 260.29it/s]\n",
      "LP: -435.5:   0%|          | 0/1000 [00:00<?, ?it/s]"
     ]
    },
    {
     "name": "stdout",
     "output_type": "stream",
     "text": [
      "Fitting 4 states...\n"
     ]
    },
    {
     "name": "stderr",
     "output_type": "stream",
     "text": [
      "Converged to LP: -426.9:   7%|▋         | 68/1000 [00:00<00:04, 190.64it/s]\n",
      "Converged to LP: -425.0:   8%|▊         | 81/1000 [00:00<00:05, 164.77it/s]\n",
      "Converged to LP: -419.3:  13%|█▎        | 126/1000 [00:00<00:04, 186.30it/s]\n",
      "Converged to LP: -434.3:  18%|█▊        | 185/1000 [00:00<00:03, 231.00it/s]\n",
      "Converged to LP: -428.8:  19%|█▊        | 186/1000 [00:00<00:03, 212.51it/s]\n",
      "LP: -479.4:   1%|          | 12/1000 [00:00<00:08, 119.55it/s]"
     ]
    },
    {
     "name": "stdout",
     "output_type": "stream",
     "text": [
      "Fitting 5 states...\n"
     ]
    },
    {
     "name": "stderr",
     "output_type": "stream",
     "text": [
      "Converged to LP: -457.0:   6%|▋         | 64/1000 [00:00<00:06, 150.61it/s]\n",
      "Converged to LP: -453.0:  14%|█▎        | 135/1000 [00:00<00:05, 164.10it/s]\n",
      "Converged to LP: -465.1:  16%|█▌        | 157/1000 [00:01<00:05, 154.90it/s]\n",
      "Converged to LP: -465.8:  21%|██        | 208/1000 [00:01<00:04, 172.49it/s]\n",
      "Converged to LP: -463.8:  28%|██▊       | 275/1000 [00:01<00:03, 181.77it/s]\n",
      "Converged to LP: -311.2:   2%|▏         | 15/1000 [00:00<00:03, 292.29it/s]\n",
      "LP: -308.5:   0%|          | 0/1000 [00:00<?, ?it/s]"
     ]
    },
    {
     "name": "stdout",
     "output_type": "stream",
     "text": [
      "Fitting session 15...\n",
      "Fitting 2 states...\n"
     ]
    },
    {
     "name": "stderr",
     "output_type": "stream",
     "text": [
      "Converged to LP: -302.7:   3%|▎         | 26/1000 [00:00<00:03, 292.97it/s]\n",
      "Converged to LP: -291.6:   6%|▌         | 61/1000 [00:00<00:03, 296.39it/s]\n",
      "Converged to LP: -307.8:   6%|▌         | 57/1000 [00:00<00:03, 249.44it/s]\n",
      "Converged to LP: -298.5:   6%|▌         | 60/1000 [00:00<00:03, 261.03it/s]\n",
      "LP: -350.8:   0%|          | 0/1000 [00:00<?, ?it/s]"
     ]
    },
    {
     "name": "stdout",
     "output_type": "stream",
     "text": [
      "Fitting 3 states...\n"
     ]
    },
    {
     "name": "stderr",
     "output_type": "stream",
     "text": [
      "Converged to LP: -343.4:   2%|▏         | 18/1000 [00:00<00:05, 185.42it/s]\n",
      "Converged to LP: -340.8:   3%|▎         | 30/1000 [00:00<00:05, 165.46it/s]\n",
      "Converged to LP: -341.2:   4%|▍         | 39/1000 [00:00<00:04, 210.51it/s]\n",
      "Converged to LP: -342.5:   6%|▌         | 57/1000 [00:00<00:04, 198.49it/s]\n",
      "Converged to LP: -355.6:   8%|▊         | 81/1000 [00:00<00:03, 238.61it/s]\n",
      "LP: -382.7:   0%|          | 0/1000 [00:00<?, ?it/s]"
     ]
    },
    {
     "name": "stdout",
     "output_type": "stream",
     "text": [
      "Fitting 4 states...\n"
     ]
    },
    {
     "name": "stderr",
     "output_type": "stream",
     "text": [
      "Converged to LP: -378.5:   6%|▌         | 56/1000 [00:00<00:05, 184.03it/s]\n",
      "Converged to LP: -390.9:   6%|▌         | 61/1000 [00:00<00:05, 184.94it/s]\n",
      "Converged to LP: -374.7:   8%|▊         | 83/1000 [00:00<00:04, 203.94it/s]\n",
      "Converged to LP: -378.9:  14%|█▎        | 137/1000 [00:00<00:04, 189.40it/s]\n",
      "Converged to LP: -375.7:  18%|█▊        | 182/1000 [00:00<00:03, 220.13it/s]\n",
      "LP: -437.8:   0%|          | 0/1000 [00:00<?, ?it/s]"
     ]
    },
    {
     "name": "stdout",
     "output_type": "stream",
     "text": [
      "Fitting 5 states...\n"
     ]
    },
    {
     "name": "stderr",
     "output_type": "stream",
     "text": [
      "Converged to LP: -429.9:   9%|▉         | 91/1000 [00:00<00:05, 159.27it/s]\n",
      "Converged to LP: -420.3:  16%|█▌        | 160/1000 [00:00<00:04, 181.06it/s]\n",
      "Converged to LP: -423.0:  16%|█▌        | 162/1000 [00:00<00:05, 166.41it/s]\n",
      "Converged to LP: -416.3:  21%|██▏       | 213/1000 [00:01<00:04, 161.86it/s]\n",
      "Converged to LP: -425.3:  29%|██▉       | 293/1000 [00:01<00:03, 193.09it/s]\n"
     ]
    }
   ],
   "source": [
    "# session-wise fitting with 5 fold cross-validation\n",
    "models_session_state_fold_off_med, train_ll_session_off_med, test_ll_session_off_med = session_wise_fit_cv(choices_session_wise, inputs_session_wise, masks=masks_session_wise,\n",
    "                                                                                    n_sessions=len(off_med_sessions), init_params=init_params, n_iters= 1000)"
   ]
  },
  {
   "cell_type": "code",
   "execution_count": 13,
   "metadata": {},
   "outputs": [],
   "source": [
    "off_medication_results = {\n",
    "    'global':{\n",
    "\t\t'inputs': off_med_inputs_aggregate,\n",
    "\t\t'choices': off_med_choices_aggregate,\n",
    "\t\t'masks': off_med_masks_aggregate,\n",
    "\t\t'models': models_glm_hmm_off_med,\n",
    "\t\t'fit_lls': fit_lls_glm_hmm_off_med,\n",
    "\t\t'best_params': init_params\n",
    "\t},\n",
    "\t'session':{\n",
    "\t\t'session_ids': off_med_sessions,\n",
    "        'unnormalized_inputs': unnormalized_off_med_inputs,\n",
    "\t\t'inputs': inputs_session_wise,\n",
    "\t\t'choices': choices_session_wise,\n",
    "\t\t'masks': masks_session_wise,\n",
    "\t\t'reaction_time': reaction_time_session_wise,\n",
    "\t\t'models': models_session_state_fold_off_med,\n",
    "\t\t'train_lls': train_ll_session_off_med,\n",
    "\t\t'test_lls': test_ll_session_off_med\n",
    "\t}\n",
    "}\n",
    "\n",
    "\n",
    "with open(Path(processed_dir, f'glm_hmm_off_meds_result.pkl'), 'wb') as f:\n",
    "    pickle.dump(off_medication_results, f)"
   ]
  },
  {
   "cell_type": "markdown",
   "metadata": {},
   "source": [
    "### On medication sessions"
   ]
  },
  {
   "cell_type": "code",
   "execution_count": 14,
   "metadata": {},
   "outputs": [],
   "source": [
    "inputs_session_wise = []\n",
    "choices_session_wise = []\n",
    "invalid_idx_session_wise = []\n",
    "masks_session_wise = []\n",
    "reaction_time_session_wise = []\n",
    "\n",
    "# on medication sessions\n",
    "for session in on_med_sessions:\n",
    "    session_data = data[data['session_id'] == session].reset_index(drop=True)\n",
    "\n",
    "\n",
    "    invalid_idx = np.where(session_data.outcome < 0)[0]\n",
    "    valid_idx = np.where(session_data.outcome >= 0)[0]\n",
    "\n",
    "    inputs = prepare_input_data(session_data, input_dim, invalid_idx)\n",
    "    choices = session_data.choice.values.reshape(-1,1).astype('int')\n",
    "\n",
    "    # for training, replace -1 with random sample from 0,1\n",
    "    choices[choices == -1] = npr.choice([0,1],invalid_idx.shape[0])\n",
    "    mask = np.ones_like(choices, dtype=bool)\n",
    "    mask[invalid_idx] = 0\n",
    "    reaction_time = np.array(session_data.reaction_time)\n",
    "\n",
    "    masks_session_wise.append(mask)\n",
    "    inputs_session_wise += inputs\n",
    "    choices_session_wise.append(choices)\n",
    "    reaction_time_session_wise.append(reaction_time)\n",
    "\n",
    "on_med_inputs_aggregate, on_med_choices_aggregate, on_med_masks_aggregate = [], [], []\n",
    "on_med_inputs_aggregate.append(np.vstack(inputs_session_wise))\n",
    "on_med_choices_aggregate.append(np.vstack(choices_session_wise))\n",
    "on_med_masks_aggregate.append(np.vstack(masks_session_wise))\n",
    "\n",
    "unnormalized_on_med_inputs = copy.deepcopy(inputs_session_wise)\n",
    "\n",
    "# scaling signed coherence\n",
    "on_med_inputs_aggregate[0][on_med_masks_aggregate[0][:,0],0] = preprocessing.scale(on_med_inputs_aggregate[0][on_med_masks_aggregate[0][:,0],0], axis=0)\n",
    "for idx in range(len(on_med_sessions)):\n",
    "    inputs_session_wise[idx][masks_session_wise[idx][:,0]] = preprocessing.scale(inputs_session_wise[idx][masks_session_wise[idx][:,0]], axis=0)\n"
   ]
  },
  {
   "cell_type": "code",
   "execution_count": 15,
   "metadata": {},
   "outputs": [
    {
     "name": "stdout",
     "output_type": "stream",
     "text": [
      "Fitting GLM globally...\n"
     ]
    },
    {
     "data": {
      "application/vnd.jupyter.widget-view+json": {
       "model_id": "ec6c3b4f8784416b9d78d69b43e61571",
       "version_major": 2,
       "version_minor": 0
      },
      "text/plain": [
       "  0%|          | 0/1000 [00:00<?, ?it/s]"
      ]
     },
     "metadata": {},
     "output_type": "display_data"
    },
    {
     "name": "stdout",
     "output_type": "stream",
     "text": [
      "Fitting 2 states...\n"
     ]
    },
    {
     "name": "stderr",
     "output_type": "stream",
     "text": [
      "Converged to LP: -5013.1:   4%|▎         | 37/1000 [00:01<00:31, 30.96it/s]\n",
      "Converged to LP: -5013.1:   5%|▍         | 46/1000 [00:01<00:33, 28.83it/s]\n",
      "Converged to LP: -5013.1:   4%|▍         | 43/1000 [00:01<00:36, 26.10it/s]\n",
      "Converged to LP: -5013.1:   5%|▌         | 53/1000 [00:01<00:31, 29.85it/s]\n",
      "Converged to LP: -5013.1:   8%|▊         | 76/1000 [00:02<00:32, 28.39it/s]\n",
      "Converged to LP: -5013.1:   8%|▊         | 76/1000 [00:02<00:34, 27.13it/s]\n",
      "Converged to LP: -5013.1:   9%|▉         | 92/1000 [00:02<00:28, 32.22it/s]\n",
      "Converged to LP: -5013.1:   8%|▊         | 78/1000 [00:02<00:33, 27.58it/s]\n",
      "Converged to LP: -5013.1:  10%|▉         | 99/1000 [00:03<00:28, 31.89it/s]\n",
      "Converged to LP: -5013.1:  10%|█         | 102/1000 [00:03<00:27, 32.61it/s]\n",
      "Converged to LP: -5013.1:  10%|▉         | 97/1000 [00:03<00:29, 30.28it/s]\n",
      "Converged to LP: -5013.1:  11%|█         | 107/1000 [00:03<00:27, 32.25it/s]\n",
      "Converged to LP: -5013.1:  11%|█         | 112/1000 [00:03<00:26, 33.35it/s]\n",
      "Converged to LP: -5013.1:  11%|█         | 106/1000 [00:03<00:29, 30.56it/s]\n",
      "Converged to LP: -5013.1:  12%|█▏        | 115/1000 [00:03<00:27, 32.10it/s]\n",
      "Converged to LP: -5013.1:  11%|█▏        | 114/1000 [00:03<00:27, 31.85it/s]\n",
      "Converged to LP: -5013.1:  14%|█▍        | 138/1000 [00:03<00:24, 34.58it/s]\n",
      "Converged to LP: -5013.1:  13%|█▎        | 128/1000 [00:04<00:29, 29.36it/s]\n",
      "Converged to LP: -5013.1:  14%|█▍        | 142/1000 [00:04<00:26, 31.85it/s]\n",
      "Converged to LP: -5013.1:  17%|█▋        | 166/1000 [00:04<00:23, 34.81it/s]\n",
      "LP: -5299.3:   0%|          | 0/1000 [00:00<?, ?it/s]"
     ]
    },
    {
     "name": "stdout",
     "output_type": "stream",
     "text": [
      "Fitting 3 states...\n"
     ]
    },
    {
     "name": "stderr",
     "output_type": "stream",
     "text": [
      "Converged to LP: -4976.7:  11%|█         | 106/1000 [00:04<00:37, 23.58it/s]\n",
      "Converged to LP: -5052.3:  11%|█         | 110/1000 [00:05<00:40, 21.94it/s]\n",
      "Converged to LP: -4976.7:  12%|█▏        | 123/1000 [00:05<00:40, 21.88it/s]\n",
      "Converged to LP: -4976.7:  14%|█▍        | 145/1000 [00:05<00:35, 24.42it/s]\n",
      "Converged to LP: -4976.7:  12%|█▏        | 122/1000 [00:06<00:43, 20.22it/s]\n",
      "Converged to LP: -4976.7:  14%|█▍        | 143/1000 [00:06<00:40, 21.00it/s]\n",
      "Converged to LP: -4976.7:  14%|█▎        | 135/1000 [00:07<00:45, 19.02it/s]\n",
      "Converged to LP: -4976.7:  15%|█▍        | 148/1000 [00:07<00:41, 20.76it/s]\n",
      "Converged to LP: -4976.7:  16%|█▌        | 158/1000 [00:07<00:39, 21.36it/s]\n",
      "Converged to LP: -4976.7:  15%|█▌        | 154/1000 [00:07<00:43, 19.54it/s]\n",
      "Converged to LP: -4976.7:  17%|█▋        | 173/1000 [00:07<00:37, 21.85it/s]\n",
      "Converged to LP: -4976.7:  17%|█▋        | 171/1000 [00:08<00:43, 19.28it/s]\n",
      "Converged to LP: -4976.7:  22%|██▏       | 217/1000 [00:09<00:33, 23.61it/s]\n",
      "Converged to LP: -4976.7:  23%|██▎       | 226/1000 [00:09<00:33, 23.43it/s]\n",
      "Converged to LP: -4976.7:  19%|█▉        | 191/1000 [00:09<00:40, 19.80it/s]\n",
      "Converged to LP: -4976.7:  22%|██▏       | 218/1000 [00:09<00:35, 22.13it/s]\n",
      "Converged to LP: -4976.7:  24%|██▍       | 242/1000 [00:10<00:32, 23.27it/s]\n",
      "Converged to LP: -4976.7:  26%|██▋       | 264/1000 [00:10<00:30, 24.30it/s]\n",
      "Converged to LP: -5052.2:  32%|███▏      | 319/1000 [00:12<00:26, 25.49it/s]\n",
      "Converged to LP: -4976.7:  34%|███▎      | 337/1000 [00:14<00:28, 23.62it/s]\n",
      "LP: -5396.1:   0%|          | 0/1000 [00:00<?, ?it/s]"
     ]
    },
    {
     "name": "stdout",
     "output_type": "stream",
     "text": [
      "Fitting 4 states...\n"
     ]
    },
    {
     "name": "stderr",
     "output_type": "stream",
     "text": [
      "Converged to LP: -4991.1:  15%|█▌        | 154/1000 [00:09<00:50, 16.61it/s]\n",
      "Converged to LP: -5011.7:  17%|█▋        | 171/1000 [00:09<00:47, 17.42it/s]\n",
      "Converged to LP: -5012.7:  26%|██▋       | 264/1000 [00:14<00:39, 18.42it/s]\n",
      "Converged to LP: -5016.1:  34%|███▍      | 342/1000 [00:15<00:29, 22.17it/s]\n",
      "Converged to LP: -5011.3:  31%|███       | 309/1000 [00:16<00:37, 18.22it/s]\n",
      "Converged to LP: -5019.1:  28%|██▊       | 283/1000 [00:17<00:43, 16.36it/s]\n",
      "Converged to LP: -5011.7:  28%|██▊       | 275/1000 [00:17<00:46, 15.51it/s]\n",
      "Converged to LP: -4973.2:  28%|██▊       | 285/1000 [00:18<00:45, 15.77it/s]\n",
      "Converged to LP: -4972.8:  36%|███▌      | 360/1000 [00:21<00:37, 16.86it/s]\n",
      "Converged to LP: -4974.2:  43%|████▎     | 432/1000 [00:24<00:31, 17.87it/s]\n",
      "Converged to LP: -4974.2:  48%|████▊     | 479/1000 [00:25<00:28, 18.50it/s]\n",
      "Converged to LP: -4999.1:  51%|█████▏    | 514/1000 [00:27<00:26, 18.37it/s]\n",
      "Converged to LP: -5011.3:  71%|███████   | 710/1000 [00:33<00:13, 21.32it/s]\n",
      "Converged to LP: -4973.2:  70%|███████   | 704/1000 [00:34<00:14, 20.42it/s]\n",
      "Converged to LP: -4990.0:  76%|███████▌  | 761/1000 [00:35<00:11, 21.37it/s]\n",
      "Converged to LP: -4990.0:  92%|█████████▏| 924/1000 [00:39<00:03, 23.52it/s]\n",
      "Converged to LP: -4990.0:  96%|█████████▌| 962/1000 [00:42<00:01, 22.54it/s]\n",
      "LP: -4990.0: 100%|██████████| 1000/1000 [00:42<00:00, 23.39it/s]\n",
      "LP: -4990.0: 100%|██████████| 1000/1000 [00:42<00:00, 23.28it/s]\n",
      "LP: -5000.1: 100%|██████████| 1000/1000 [00:45<00:00, 22.22it/s]\n",
      "LP: -5371.6:   0%|          | 0/1000 [00:00<?, ?it/s]"
     ]
    },
    {
     "name": "stdout",
     "output_type": "stream",
     "text": [
      "Fitting 5 states...\n"
     ]
    },
    {
     "name": "stderr",
     "output_type": "stream",
     "text": [
      "Converged to LP: -5012.2:  38%|███▊      | 380/1000 [00:25<00:41, 14.92it/s]\n",
      "Converged to LP: -5013.0:  38%|███▊      | 378/1000 [00:25<00:42, 14.62it/s]\n",
      "Converged to LP: -5016.6:  35%|███▌      | 351/1000 [00:26<00:49, 13.17it/s]\n",
      "Converged to LP: -5033.9:  50%|████▉     | 497/1000 [00:29<00:29, 16.81it/s]\n",
      "Converged to LP: -4993.8:  42%|████▏     | 424/1000 [00:29<00:40, 14.25it/s]\n",
      "Converged to LP: -4997.8:  52%|█████▏    | 516/1000 [00:35<00:33, 14.61it/s]\n",
      "Converged to LP: -5007.9:  64%|██████▎   | 636/1000 [00:35<00:20, 17.75it/s]\n",
      "Converged to LP: -4994.4:  52%|█████▏    | 522/1000 [00:36<00:33, 14.31it/s]\n",
      "Converged to LP: -5000.9:  58%|█████▊    | 584/1000 [00:37<00:27, 15.38it/s]\n",
      "Converged to LP: -4998.1:  58%|█████▊    | 583/1000 [00:38<00:27, 15.29it/s]\n",
      "Converged to LP: -5038.3:  61%|██████▏   | 614/1000 [00:38<00:24, 15.89it/s]\n",
      "Converged to LP: -4997.8:  61%|██████    | 606/1000 [00:39<00:25, 15.16it/s]\n",
      "Converged to LP: -5043.4:  71%|███████▏  | 714/1000 [00:43<00:17, 16.40it/s]\n",
      "Converged to LP: -5018.0:  79%|███████▉  | 788/1000 [00:47<00:12, 16.46it/s]\n",
      "LP: -5012.3: 100%|██████████| 1000/1000 [00:53<00:00, 18.77it/s]\n",
      "Converged to LP: -5038.6:  92%|█████████▏| 917/1000 [00:54<00:04, 16.90it/s]\n",
      "LP: -5009.7: 100%|██████████| 1000/1000 [00:55<00:00, 18.09it/s]\n",
      "Converged to LP: -5009.3:  94%|█████████▎| 936/1000 [00:56<00:03, 16.61it/s]\n",
      "LP: -4985.1: 100%|██████████| 1000/1000 [00:56<00:00, 17.67it/s]\n",
      "LP: -5000.9: 100%|██████████| 1000/1000 [00:56<00:00, 17.67it/s]\n"
     ]
    }
   ],
   "source": [
    "models_glm_hmm_on_med, fit_lls_glm_hmm_on_med = global_fit(on_med_choices_aggregate, on_med_inputs_aggregate, masks=on_med_masks_aggregate, n_iters= 1000, n_initializations=20)"
   ]
  },
  {
   "cell_type": "code",
   "execution_count": 16,
   "metadata": {},
   "outputs": [],
   "source": [
    "# get best model of 20 initializations for each state\n",
    "init_params = {\n",
    "    'glm_weights': {},\n",
    "    'transition_matrices': {}\n",
    "}\n",
    "for n_states in np.arange(2,6):\n",
    "    best_idx = fit_lls_glm_hmm_on_med[n_states].index(max(fit_lls_glm_hmm_on_med[n_states]))\n",
    "    init_params['glm_weights'][n_states] = models_glm_hmm_on_med[n_states][best_idx].observations.params\n",
    "    init_params['transition_matrices'][n_states] = models_glm_hmm_on_med[n_states][best_idx].transitions.params"
   ]
  },
  {
   "cell_type": "code",
   "execution_count": 17,
   "metadata": {},
   "outputs": [
    {
     "name": "stderr",
     "output_type": "stream",
     "text": [
      "LP: -333.2:   0%|          | 0/1000 [00:00<?, ?it/s]"
     ]
    },
    {
     "name": "stdout",
     "output_type": "stream",
     "text": [
      "Fitting session 0...\n",
      "Fitting 2 states...\n",
      "Fitting 3 states...\n"
     ]
    },
    {
     "name": "stderr",
     "output_type": "stream",
     "text": [
      "Converged to LP: -316.6:   2%|▏         | 16/1000 [00:00<00:03, 284.05it/s]\n",
      "Converged to LP: -323.3:   1%|          | 12/1000 [00:00<00:05, 173.14it/s]\n",
      "Converged to LP: -315.9:   3%|▎         | 30/1000 [00:00<00:03, 282.41it/s]\n",
      "Converged to LP: -329.2:   3%|▎         | 28/1000 [00:00<00:04, 218.67it/s]\n",
      "Converged to LP: -326.3:   4%|▍         | 44/1000 [00:00<00:03, 295.79it/s]\n",
      "Converged to LP: -359.2:   2%|▏         | 21/1000 [00:00<00:04, 196.82it/s]\n",
      "Converged to LP: -368.5:   2%|▏         | 20/1000 [00:00<00:07, 139.15it/s]\n",
      "Converged to LP: -357.9:   4%|▎         | 36/1000 [00:00<00:04, 229.28it/s]\n",
      "Converged to LP: -368.7:   4%|▎         | 37/1000 [00:00<00:05, 173.92it/s]\n",
      "Converged to LP: -373.1:  11%|█         | 109/1000 [00:00<00:03, 250.55it/s]\n",
      "LP: -425.6:   0%|          | 0/1000 [00:00<?, ?it/s]"
     ]
    },
    {
     "name": "stdout",
     "output_type": "stream",
     "text": [
      "Fitting 4 states...\n"
     ]
    },
    {
     "name": "stderr",
     "output_type": "stream",
     "text": [
      "Converged to LP: -415.7:   3%|▎         | 26/1000 [00:00<00:06, 159.92it/s]\n",
      "Converged to LP: -401.5:   2%|▏         | 24/1000 [00:00<00:09, 104.57it/s]\n",
      "Converged to LP: -404.9:   4%|▎         | 35/1000 [00:00<00:06, 150.10it/s]\n",
      "Converged to LP: -411.2:   3%|▎         | 27/1000 [00:00<00:08, 111.30it/s]\n",
      "Converged to LP: -403.2:   9%|▉         | 88/1000 [00:00<00:05, 172.10it/s]\n",
      "LP: -449.9:   0%|          | 0/1000 [00:00<?, ?it/s]"
     ]
    },
    {
     "name": "stdout",
     "output_type": "stream",
     "text": [
      "Fitting 5 states...\n"
     ]
    },
    {
     "name": "stderr",
     "output_type": "stream",
     "text": [
      "Converged to LP: -441.1:   3%|▎         | 27/1000 [00:00<00:07, 138.08it/s]\n",
      "Converged to LP: -453.3:   3%|▎         | 30/1000 [00:00<00:06, 144.68it/s]\n",
      "Converged to LP: -445.0:   3%|▎         | 31/1000 [00:00<00:07, 127.03it/s]\n",
      "Converged to LP: -452.4:  12%|█▏        | 118/1000 [00:00<00:05, 173.49it/s]\n",
      "Converged to LP: -442.8:  16%|█▋        | 165/1000 [00:00<00:04, 194.85it/s]\n",
      "Converged to LP: -420.9:   1%|▏         | 13/1000 [00:00<00:03, 305.94it/s]\n",
      "LP: -425.7:   0%|          | 0/1000 [00:00<?, ?it/s]"
     ]
    },
    {
     "name": "stdout",
     "output_type": "stream",
     "text": [
      "Fitting session 1...\n",
      "Fitting 2 states...\n",
      "Fitting 3 states...\n"
     ]
    },
    {
     "name": "stderr",
     "output_type": "stream",
     "text": [
      "Converged to LP: -425.7:   2%|▏         | 17/1000 [00:00<00:03, 320.84it/s]\n",
      "Converged to LP: -411.7:   1%|          | 11/1000 [00:00<00:05, 165.56it/s]\n",
      "Converged to LP: -411.9:   2%|▏         | 18/1000 [00:00<00:03, 256.62it/s]\n",
      "Converged to LP: -410.4:   3%|▎         | 27/1000 [00:00<00:04, 221.91it/s]\n",
      "Converged to LP: -455.1:   2%|▏         | 16/1000 [00:00<00:04, 203.48it/s]\n",
      "Converged to LP: -462.8:   2%|▏         | 18/1000 [00:00<00:05, 177.34it/s]\n",
      "Converged to LP: -469.5:   2%|▏         | 20/1000 [00:00<00:05, 194.38it/s]\n",
      "Converged to LP: -455.3:   3%|▎         | 28/1000 [00:00<00:05, 178.68it/s]\n",
      "Converged to LP: -450.8:   6%|▌         | 56/1000 [00:00<00:04, 203.65it/s]\n",
      "LP: -511.2:   0%|          | 0/1000 [00:00<?, ?it/s]"
     ]
    },
    {
     "name": "stdout",
     "output_type": "stream",
     "text": [
      "Fitting 4 states...\n",
      "Fitting 5 states...\n"
     ]
    },
    {
     "name": "stderr",
     "output_type": "stream",
     "text": [
      "Converged to LP: -501.3:   1%|          | 11/1000 [00:00<00:06, 164.50it/s]\n",
      "Converged to LP: -504.1:   1%|▏         | 13/1000 [00:00<00:05, 167.32it/s]\n",
      "Converged to LP: -497.6:   1%|          | 9/1000 [00:00<00:12, 77.74it/s]\n",
      "Converged to LP: -506.9:   2%|▏         | 18/1000 [00:00<00:06, 158.72it/s]\n",
      "Converged to LP: -496.6:   2%|▏         | 19/1000 [00:00<00:06, 154.90it/s]\n",
      "Converged to LP: -542.0:   2%|▏         | 22/1000 [00:00<00:08, 112.41it/s]\n",
      "Converged to LP: -543.3:   5%|▌         | 51/1000 [00:00<00:06, 151.96it/s]\n",
      "Converged to LP: -541.9:   6%|▌         | 61/1000 [00:00<00:05, 157.23it/s]\n",
      "Converged to LP: -540.6:   8%|▊         | 81/1000 [00:00<00:05, 161.20it/s]\n",
      "Converged to LP: -552.0:  10%|█         | 103/1000 [00:00<00:04, 188.43it/s]\n",
      "Converged to LP: -301.8:   1%|          | 6/1000 [00:00<00:03, 290.73it/s]\n",
      "Converged to LP: -314.0:   1%|          | 8/1000 [00:00<00:05, 188.70it/s]\n",
      "Converged to LP: -309.1:   1%|          | 8/1000 [00:00<00:05, 190.07it/s]\n",
      "Converged to LP: -314.8:   1%|          | 10/1000 [00:00<00:05, 169.44it/s]\n",
      "Converged to LP: -316.7:   3%|▎         | 33/1000 [00:00<00:03, 290.29it/s]\n",
      "LP: -357.0:   0%|          | 0/1000 [00:00<?, ?it/s]"
     ]
    },
    {
     "name": "stdout",
     "output_type": "stream",
     "text": [
      "Fitting session 2...\n",
      "Fitting 2 states...\n",
      "Fitting 3 states...\n"
     ]
    },
    {
     "name": "stderr",
     "output_type": "stream",
     "text": [
      "Converged to LP: -352.5:   2%|▏         | 16/1000 [00:00<00:04, 226.90it/s]\n",
      "Converged to LP: -341.9:   2%|▏         | 15/1000 [00:00<00:05, 186.12it/s]\n",
      "Converged to LP: -350.6:   1%|▏         | 13/1000 [00:00<00:06, 151.55it/s]\n",
      "Converged to LP: -355.6:   2%|▏         | 19/1000 [00:00<00:05, 191.13it/s]\n",
      "Converged to LP: -356.4:   6%|▌         | 55/1000 [00:00<00:04, 231.71it/s]\n",
      "Converged to LP: -394.8:   1%|▏         | 14/1000 [00:00<00:05, 169.70it/s]\n",
      "Converged to LP: -385.9:   2%|▏         | 17/1000 [00:00<00:05, 179.03it/s]\n",
      "Converged to LP: -394.6:   1%|          | 11/1000 [00:00<00:09, 101.38it/s]\n",
      "LP: -392.1:   2%|▏         | 16/1000 [00:00<00:06, 154.95it/s]"
     ]
    },
    {
     "name": "stdout",
     "output_type": "stream",
     "text": [
      "Fitting 4 states...\n"
     ]
    },
    {
     "name": "stderr",
     "output_type": "stream",
     "text": [
      "Converged to LP: -390.7:   4%|▍         | 45/1000 [00:00<00:04, 212.97it/s]\n",
      "Converged to LP: -389.1:   6%|▌         | 60/1000 [00:00<00:04, 191.63it/s]\n",
      "LP: -443.3:   0%|          | 0/1000 [00:00<?, ?it/s]"
     ]
    },
    {
     "name": "stdout",
     "output_type": "stream",
     "text": [
      "Fitting 5 states...\n"
     ]
    },
    {
     "name": "stderr",
     "output_type": "stream",
     "text": [
      "Converged to LP: -435.6:   3%|▎         | 34/1000 [00:00<00:05, 169.17it/s]\n",
      "Converged to LP: -437.2:   4%|▎         | 37/1000 [00:00<00:06, 144.42it/s]\n",
      "Converged to LP: -438.4:   5%|▍         | 49/1000 [00:00<00:05, 179.27it/s]\n",
      "Converged to LP: -444.8:   4%|▍         | 39/1000 [00:00<00:07, 125.38it/s]\n",
      "Converged to LP: -424.3:   5%|▌         | 54/1000 [00:00<00:06, 148.40it/s]\n",
      "Converged to LP: -288.1:   1%|          | 12/1000 [00:00<00:03, 263.70it/s]\n",
      "LP: -284.9:   0%|          | 0/1000 [00:00<?, ?it/s]"
     ]
    },
    {
     "name": "stdout",
     "output_type": "stream",
     "text": [
      "Fitting session 3...\n",
      "Fitting 2 states...\n"
     ]
    },
    {
     "name": "stderr",
     "output_type": "stream",
     "text": [
      "Converged to LP: -265.9:   7%|▋         | 69/1000 [00:00<00:03, 285.03it/s]\n",
      "Converged to LP: -277.5:   9%|▊         | 87/1000 [00:00<00:03, 268.10it/s]\n",
      "Converged to LP: -285.1:  12%|█▏        | 118/1000 [00:00<00:02, 323.53it/s]\n",
      "Converged to LP: -273.2:  17%|█▋        | 171/1000 [00:00<00:02, 296.53it/s]\n",
      "LP: -334.9:   0%|          | 0/1000 [00:00<?, ?it/s]"
     ]
    },
    {
     "name": "stdout",
     "output_type": "stream",
     "text": [
      "Fitting 3 states...\n"
     ]
    },
    {
     "name": "stderr",
     "output_type": "stream",
     "text": [
      "Converged to LP: -326.7:   2%|▏         | 19/1000 [00:00<00:05, 179.74it/s]\n",
      "Converged to LP: -333.0:   6%|▌         | 60/1000 [00:00<00:04, 232.05it/s]\n",
      "Converged to LP: -327.9:   6%|▋         | 64/1000 [00:00<00:03, 243.16it/s]\n",
      "Converged to LP: -307.9:  16%|█▋        | 164/1000 [00:00<00:03, 230.44it/s]\n",
      "Converged to LP: -315.0:  26%|██▌       | 260/1000 [00:01<00:02, 253.84it/s]\n",
      "LP: -366.2:   0%|          | 0/1000 [00:00<?, ?it/s]"
     ]
    },
    {
     "name": "stdout",
     "output_type": "stream",
     "text": [
      "Fitting 4 states...\n"
     ]
    },
    {
     "name": "stderr",
     "output_type": "stream",
     "text": [
      "Converged to LP: -374.4:   2%|▎         | 25/1000 [00:00<00:05, 167.76it/s]\n",
      "Converged to LP: -363.2:   8%|▊         | 75/1000 [00:00<00:04, 207.45it/s]\n",
      "Converged to LP: -370.7:   8%|▊         | 85/1000 [00:00<00:05, 155.74it/s]\n",
      "Converged to LP: -370.1:   8%|▊         | 83/1000 [00:00<00:06, 146.98it/s]\n",
      "Converged to LP: -350.9:  22%|██▏       | 217/1000 [00:01<00:04, 187.63it/s]\n",
      "LP: -421.8:   1%|          | 12/1000 [00:00<00:08, 118.59it/s]"
     ]
    },
    {
     "name": "stdout",
     "output_type": "stream",
     "text": [
      "Fitting 5 states...\n"
     ]
    },
    {
     "name": "stderr",
     "output_type": "stream",
     "text": [
      "Converged to LP: -421.6:   3%|▎         | 29/1000 [00:00<00:06, 149.20it/s]\n",
      "Converged to LP: -418.6:   6%|▌         | 58/1000 [00:00<00:05, 167.26it/s]\n",
      "Converged to LP: -401.6:   5%|▍         | 48/1000 [00:00<00:06, 138.07it/s]\n",
      "Converged to LP: -418.3:   6%|▌         | 55/1000 [00:00<00:06, 137.44it/s]\n",
      "Converged to LP: -395.6:   9%|▉         | 88/1000 [00:00<00:05, 167.47it/s]\n",
      "Converged to LP: -293.8:   1%|▏         | 13/1000 [00:00<00:04, 220.33it/s]\n",
      "Converged to LP: -301.7:   2%|▏         | 23/1000 [00:00<00:03, 284.49it/s]\n",
      "Converged to LP: -303.7:   1%|▏         | 14/1000 [00:00<00:05, 179.24it/s]\n",
      "Converged to LP: -309.2:   2%|▏         | 21/1000 [00:00<00:05, 182.12it/s]\n",
      "Converged to LP: -297.0:   3%|▎         | 34/1000 [00:00<00:03, 264.73it/s]\n",
      "LP: -348.4:   0%|          | 0/1000 [00:00<?, ?it/s]"
     ]
    },
    {
     "name": "stdout",
     "output_type": "stream",
     "text": [
      "Fitting session 4...\n",
      "Fitting 2 states...\n",
      "Fitting 3 states...\n"
     ]
    },
    {
     "name": "stderr",
     "output_type": "stream",
     "text": [
      "Converged to LP: -336.0:   2%|▏         | 20/1000 [00:00<00:05, 188.18it/s]\n",
      "Converged to LP: -351.0:   4%|▎         | 37/1000 [00:00<00:04, 221.73it/s]\n",
      "Converged to LP: -336.3:   3%|▎         | 27/1000 [00:00<00:06, 152.38it/s]\n",
      "Converged to LP: -342.8:   5%|▌         | 53/1000 [00:00<00:04, 200.27it/s]\n",
      "Converged to LP: -344.0:   6%|▌         | 60/1000 [00:00<00:04, 209.27it/s]\n",
      "LP: -388.5:   1%|▏         | 13/1000 [00:00<00:07, 124.15it/s]"
     ]
    },
    {
     "name": "stdout",
     "output_type": "stream",
     "text": [
      "Fitting 4 states...\n"
     ]
    },
    {
     "name": "stderr",
     "output_type": "stream",
     "text": [
      "Converged to LP: -383.9:   2%|▎         | 25/1000 [00:00<00:06, 161.77it/s]\n",
      "Converged to LP: -387.2:   3%|▎         | 30/1000 [00:00<00:05, 165.65it/s]\n",
      "Converged to LP: -373.1:   4%|▎         | 36/1000 [00:00<00:07, 131.08it/s]\n",
      "Converged to LP: -387.0:   6%|▌         | 55/1000 [00:00<00:05, 176.50it/s]\n",
      "Converged to LP: -366.0:   7%|▋         | 68/1000 [00:00<00:05, 175.04it/s]\n",
      "LP: -423.0:   1%|          | 11/1000 [00:00<00:09, 101.21it/s]"
     ]
    },
    {
     "name": "stdout",
     "output_type": "stream",
     "text": [
      "Fitting 5 states...\n"
     ]
    },
    {
     "name": "stderr",
     "output_type": "stream",
     "text": [
      "Converged to LP: -437.1:   3%|▎         | 33/1000 [00:00<00:06, 144.09it/s]\n",
      "Converged to LP: -422.3:   5%|▍         | 46/1000 [00:00<00:06, 142.90it/s]\n",
      "Converged to LP: -428.8:   5%|▍         | 49/1000 [00:00<00:06, 152.27it/s]\n",
      "Converged to LP: -423.3:   6%|▌         | 55/1000 [00:00<00:06, 143.43it/s]\n",
      "Converged to LP: -429.2:  16%|█▌        | 159/1000 [00:00<00:04, 182.74it/s]\n",
      "LP: -328.9:   0%|          | 0/1000 [00:00<?, ?it/s]"
     ]
    },
    {
     "name": "stdout",
     "output_type": "stream",
     "text": [
      "Fitting session 5...\n",
      "Fitting 2 states...\n"
     ]
    },
    {
     "name": "stderr",
     "output_type": "stream",
     "text": [
      "Converged to LP: -322.5:   6%|▋         | 63/1000 [00:00<00:03, 289.46it/s]\n",
      "Converged to LP: -324.8:   6%|▌         | 55/1000 [00:00<00:04, 230.22it/s]\n",
      "Converged to LP: -327.6:   7%|▋         | 70/1000 [00:00<00:03, 259.22it/s]\n",
      "Converged to LP: -323.1:   5%|▌         | 54/1000 [00:00<00:05, 184.02it/s]\n",
      "Converged to LP: -326.2:  18%|█▊        | 181/1000 [00:00<00:02, 303.64it/s]\n",
      "LP: -374.3:   0%|          | 0/1000 [00:00<?, ?it/s]"
     ]
    },
    {
     "name": "stdout",
     "output_type": "stream",
     "text": [
      "Fitting 3 states...\n"
     ]
    },
    {
     "name": "stderr",
     "output_type": "stream",
     "text": [
      "Converged to LP: -375.9:   2%|▏         | 23/1000 [00:00<00:04, 227.97it/s]\n",
      "Converged to LP: -371.7:   2%|▏         | 23/1000 [00:00<00:04, 214.40it/s]\n",
      "Converged to LP: -366.0:   4%|▍         | 39/1000 [00:00<00:04, 234.47it/s]\n",
      "Converged to LP: -363.2:   8%|▊         | 85/1000 [00:00<00:04, 201.40it/s]\n",
      "Converged to LP: -368.0:  21%|██        | 209/1000 [00:00<00:03, 244.87it/s]\n",
      "Converged to LP: -408.3:   3%|▎         | 26/1000 [00:00<00:06, 157.44it/s]\n",
      "LP: -410.5:   1%|          | 11/1000 [00:00<00:09, 105.92it/s]"
     ]
    },
    {
     "name": "stdout",
     "output_type": "stream",
     "text": [
      "Fitting 4 states...\n"
     ]
    },
    {
     "name": "stderr",
     "output_type": "stream",
     "text": [
      "Converged to LP: -409.3:   5%|▍         | 46/1000 [00:00<00:05, 175.43it/s]\n",
      "Converged to LP: -417.1:   5%|▌         | 50/1000 [00:00<00:05, 173.87it/s]\n",
      "Converged to LP: -408.6:   7%|▋         | 72/1000 [00:00<00:05, 174.15it/s]\n",
      "Converged to LP: -395.2:  14%|█▍        | 139/1000 [00:00<00:04, 174.71it/s]\n",
      "LP: -453.6:   1%|▏         | 13/1000 [00:00<00:07, 128.62it/s]"
     ]
    },
    {
     "name": "stdout",
     "output_type": "stream",
     "text": [
      "Fitting 5 states...\n"
     ]
    },
    {
     "name": "stderr",
     "output_type": "stream",
     "text": [
      "Converged to LP: -457.5:   6%|▌         | 59/1000 [00:00<00:06, 136.41it/s]\n",
      "Converged to LP: -448.1:  11%|█         | 110/1000 [00:00<00:05, 164.97it/s]\n",
      "Converged to LP: -450.4:  14%|█▎        | 136/1000 [00:00<00:04, 175.52it/s]\n",
      "Converged to LP: -447.8:  18%|█▊        | 175/1000 [00:01<00:05, 163.24it/s]\n",
      "Converged to LP: -447.9:  25%|██▍       | 249/1000 [00:01<00:04, 165.18it/s]\n",
      "LP: -303.7:   3%|▎         | 27/1000 [00:00<00:03, 261.83it/s]"
     ]
    },
    {
     "name": "stdout",
     "output_type": "stream",
     "text": [
      "Fitting session 6...\n",
      "Fitting 2 states...\n"
     ]
    },
    {
     "name": "stderr",
     "output_type": "stream",
     "text": [
      "Converged to LP: -297.2:   4%|▍         | 38/1000 [00:00<00:03, 290.65it/s]\n",
      "Converged to LP: -290.4:  12%|█▏        | 121/1000 [00:00<00:03, 264.29it/s]\n",
      "Converged to LP: -306.1:  12%|█▏        | 122/1000 [00:00<00:04, 216.04it/s]\n",
      "Converged to LP: -299.7:  17%|█▋        | 169/1000 [00:00<00:03, 270.79it/s]\n",
      "Converged to LP: -301.6:  29%|██▉       | 293/1000 [00:00<00:02, 326.45it/s]\n",
      "Converged to LP: -350.1:   2%|▏         | 22/1000 [00:00<00:05, 187.47it/s]\n",
      "LP: -349.7:   1%|          | 12/1000 [00:00<00:08, 115.47it/s]"
     ]
    },
    {
     "name": "stdout",
     "output_type": "stream",
     "text": [
      "Fitting 3 states...\n"
     ]
    },
    {
     "name": "stderr",
     "output_type": "stream",
     "text": [
      "Converged to LP: -341.3:   5%|▍         | 47/1000 [00:00<00:04, 192.90it/s]\n",
      "Converged to LP: -332.1:   8%|▊         | 79/1000 [00:00<00:04, 225.32it/s]\n",
      "Converged to LP: -345.3:   7%|▋         | 66/1000 [00:00<00:05, 163.95it/s]\n",
      "Converged to LP: -340.7:  22%|██▎       | 225/1000 [00:00<00:03, 233.84it/s]\n",
      "LP: -384.7:   0%|          | 0/1000 [00:00<?, ?it/s]"
     ]
    },
    {
     "name": "stdout",
     "output_type": "stream",
     "text": [
      "Fitting 4 states...\n"
     ]
    },
    {
     "name": "stderr",
     "output_type": "stream",
     "text": [
      "Converged to LP: -388.1:   3%|▎         | 32/1000 [00:00<00:06, 156.92it/s]\n",
      "Converged to LP: -388.5:   6%|▌         | 58/1000 [00:00<00:05, 169.03it/s]\n",
      "Converged to LP: -381.2:   6%|▌         | 57/1000 [00:00<00:05, 166.26it/s]\n",
      "Converged to LP: -385.0:   4%|▍         | 39/1000 [00:00<00:08, 108.62it/s]\n",
      "Converged to LP: -382.6:   9%|▉         | 92/1000 [00:00<00:04, 206.76it/s]\n",
      "Converged to LP: -437.2:   2%|▏         | 22/1000 [00:00<00:06, 145.78it/s]\n",
      "LP: -431.6:   1%|▏         | 14/1000 [00:00<00:07, 134.75it/s]"
     ]
    },
    {
     "name": "stdout",
     "output_type": "stream",
     "text": [
      "Fitting 5 states...\n"
     ]
    },
    {
     "name": "stderr",
     "output_type": "stream",
     "text": [
      "Converged to LP: -441.5:   6%|▋         | 64/1000 [00:00<00:05, 169.84it/s]\n",
      "Converged to LP: -425.0:   9%|▉         | 91/1000 [00:00<00:05, 176.71it/s]\n",
      "Converged to LP: -431.7:  11%|█         | 108/1000 [00:00<00:05, 168.30it/s]\n",
      "Converged to LP: -420.9:  14%|█▍        | 144/1000 [00:00<00:05, 162.83it/s]\n",
      "Converged to LP: -329.0:   2%|▏         | 19/1000 [00:00<00:03, 309.16it/s]\n",
      "Converged to LP: -336.5:   2%|▏         | 24/1000 [00:00<00:02, 340.50it/s]\n",
      "Converged to LP: -327.3:   3%|▎         | 26/1000 [00:00<00:03, 275.23it/s]\n",
      "LP: -323.8:   3%|▎         | 29/1000 [00:00<00:03, 281.03it/s]"
     ]
    },
    {
     "name": "stdout",
     "output_type": "stream",
     "text": [
      "Fitting session 7...\n",
      "Fitting 2 states...\n"
     ]
    },
    {
     "name": "stderr",
     "output_type": "stream",
     "text": [
      "Converged to LP: -323.3:   6%|▌         | 56/1000 [00:00<00:03, 290.63it/s]\n",
      "Converged to LP: -316.8:  10%|█         | 102/1000 [00:00<00:03, 275.51it/s]\n",
      "Converged to LP: -371.0:   2%|▏         | 24/1000 [00:00<00:05, 192.68it/s]\n",
      "Converged to LP: -381.6:   3%|▎         | 30/1000 [00:00<00:04, 223.60it/s]\n",
      "Converged to LP: -367.4:   3%|▎         | 31/1000 [00:00<00:04, 202.96it/s]\n"
     ]
    },
    {
     "name": "stdout",
     "output_type": "stream",
     "text": [
      "Fitting 3 states...\n",
      "Fitting 4 states...\n"
     ]
    },
    {
     "name": "stderr",
     "output_type": "stream",
     "text": [
      "Converged to LP: -366.7:   2%|▏         | 21/1000 [00:00<00:07, 134.60it/s]\n",
      "Converged to LP: -371.3:   4%|▎         | 37/1000 [00:00<00:04, 224.50it/s]\n",
      "Converged to LP: -426.6:   2%|▏         | 20/1000 [00:00<00:05, 174.22it/s]\n",
      "Converged to LP: -416.3:   2%|▏         | 20/1000 [00:00<00:05, 166.63it/s]\n",
      "Converged to LP: -414.5:   2%|▏         | 24/1000 [00:00<00:06, 149.40it/s]\n",
      "Converged to LP: -413.0:   4%|▍         | 41/1000 [00:00<00:05, 183.71it/s]\n",
      "Converged to LP: -410.2:   8%|▊         | 77/1000 [00:00<00:04, 184.80it/s]\n",
      "LP: -455.0:   1%|▏         | 13/1000 [00:00<00:07, 124.23it/s]"
     ]
    },
    {
     "name": "stdout",
     "output_type": "stream",
     "text": [
      "Fitting 5 states...\n"
     ]
    },
    {
     "name": "stderr",
     "output_type": "stream",
     "text": [
      "Converged to LP: -455.0:   3%|▎         | 31/1000 [00:00<00:06, 153.91it/s]\n",
      "Converged to LP: -454.7:   4%|▎         | 36/1000 [00:00<00:06, 145.43it/s]\n",
      "Converged to LP: -444.4:   5%|▌         | 53/1000 [00:00<00:05, 159.82it/s]\n",
      "Converged to LP: -467.0:   6%|▌         | 61/1000 [00:00<00:05, 160.74it/s]\n",
      "Converged to LP: -443.1:  12%|█▎        | 125/1000 [00:00<00:04, 179.58it/s]\n",
      "Converged to LP: -344.4:   1%|          | 10/1000 [00:00<00:03, 257.25it/s]\n",
      "Converged to LP: -328.8:   1%|          | 12/1000 [00:00<00:03, 312.63it/s]\n",
      "Converged to LP: -334.4:   1%|          | 10/1000 [00:00<00:03, 296.47it/s]\n",
      "Converged to LP: -336.2:   1%|▏         | 13/1000 [00:00<00:03, 293.75it/s]\n",
      "Converged to LP: -335.4:   1%|          | 10/1000 [00:00<00:03, 249.51it/s]\n",
      "LP: -389.5:   0%|          | 0/1000 [00:00<?, ?it/s]"
     ]
    },
    {
     "name": "stdout",
     "output_type": "stream",
     "text": [
      "Fitting session 8...\n",
      "Fitting 2 states...\n",
      "Fitting 3 states...\n"
     ]
    },
    {
     "name": "stderr",
     "output_type": "stream",
     "text": [
      "Converged to LP: -369.1:   1%|▏         | 13/1000 [00:00<00:05, 195.81it/s]\n",
      "Converged to LP: -389.3:   2%|▏         | 15/1000 [00:00<00:04, 202.86it/s]\n",
      "Converged to LP: -381.1:   2%|▏         | 16/1000 [00:00<00:07, 133.46it/s]\n",
      "Converged to LP: -380.7:   2%|▏         | 23/1000 [00:00<00:06, 158.62it/s]\n",
      "Converged to LP: -375.5:   8%|▊         | 75/1000 [00:00<00:04, 199.18it/s]\n",
      "LP: -421.2:   2%|▏         | 16/1000 [00:00<00:06, 155.20it/s]"
     ]
    },
    {
     "name": "stdout",
     "output_type": "stream",
     "text": [
      "Fitting 4 states...\n"
     ]
    },
    {
     "name": "stderr",
     "output_type": "stream",
     "text": [
      "Converged to LP: -420.0:   4%|▍         | 39/1000 [00:00<00:05, 163.24it/s]\n",
      "Converged to LP: -426.5:   4%|▍         | 43/1000 [00:00<00:05, 169.40it/s]\n",
      "Converged to LP: -416.5:   6%|▌         | 61/1000 [00:00<00:05, 165.36it/s]\n",
      "Converged to LP: -409.5:   7%|▋         | 72/1000 [00:00<00:04, 190.47it/s]\n",
      "Converged to LP: -423.2:  14%|█▎        | 135/1000 [00:00<00:03, 216.42it/s]\n",
      "LP: -478.0:   1%|          | 10/1000 [00:00<00:10, 98.82it/s]]"
     ]
    },
    {
     "name": "stdout",
     "output_type": "stream",
     "text": [
      "Fitting 5 states...\n"
     ]
    },
    {
     "name": "stderr",
     "output_type": "stream",
     "text": [
      "Converged to LP: -452.5:   3%|▎         | 32/1000 [00:00<00:06, 152.72it/s]\n",
      "Converged to LP: -470.5:   3%|▎         | 34/1000 [00:00<00:07, 125.05it/s]\n",
      "Converged to LP: -464.2:   3%|▎         | 33/1000 [00:00<00:08, 112.77it/s]\n",
      "Converged to LP: -462.9:   5%|▍         | 47/1000 [00:00<00:06, 149.70it/s]\n",
      "Converged to LP: -464.9:  13%|█▎        | 130/1000 [00:00<00:05, 149.52it/s]\n",
      "Converged to LP: -297.9:   1%|          | 11/1000 [00:00<00:04, 243.67it/s]\n",
      "Converged to LP: -310.1:   1%|          | 12/1000 [00:00<00:04, 235.16it/s]\n",
      "Converged to LP: -318.2:   1%|▏         | 13/1000 [00:00<00:04, 241.71it/s]\n",
      "Converged to LP: -308.4:   1%|▏         | 13/1000 [00:00<00:04, 246.09it/s]\n",
      "Converged to LP: -316.4:   1%|          | 11/1000 [00:00<00:06, 144.11it/s]\n",
      "LP: -354.2:   0%|          | 0/1000 [00:00<?, ?it/s]"
     ]
    },
    {
     "name": "stdout",
     "output_type": "stream",
     "text": [
      "Fitting session 9...\n",
      "Fitting 2 states...\n",
      "Fitting 3 states...\n"
     ]
    },
    {
     "name": "stderr",
     "output_type": "stream",
     "text": [
      "Converged to LP: -360.7:   2%|▏         | 16/1000 [00:00<00:04, 202.32it/s]\n",
      "Converged to LP: -362.5:   2%|▏         | 19/1000 [00:00<00:04, 213.15it/s]\n",
      "Converged to LP: -352.4:   2%|▏         | 23/1000 [00:00<00:04, 210.48it/s]\n",
      "Converged to LP: -352.8:   2%|▏         | 19/1000 [00:00<00:07, 126.83it/s]\n",
      "Converged to LP: -341.6:   2%|▏         | 20/1000 [00:00<00:07, 128.39it/s]\n",
      "LP: -405.7:   0%|          | 0/1000 [00:00<?, ?it/s]"
     ]
    },
    {
     "name": "stdout",
     "output_type": "stream",
     "text": [
      "Fitting 4 states...\n"
     ]
    },
    {
     "name": "stderr",
     "output_type": "stream",
     "text": [
      "Converged to LP: -400.0:   1%|          | 12/1000 [00:00<00:06, 151.86it/s]\n",
      "Converged to LP: -406.7:   2%|▏         | 16/1000 [00:00<00:05, 179.38it/s]\n",
      "Converged to LP: -405.6:   2%|▏         | 18/1000 [00:00<00:05, 182.40it/s]\n",
      "Converged to LP: -384.3:   2%|▏         | 22/1000 [00:00<00:05, 189.31it/s]\n",
      "Converged to LP: -393.1:   4%|▍         | 44/1000 [00:00<00:04, 195.37it/s]\n",
      "LP: -423.5:   1%|▏         | 14/1000 [00:00<00:07, 133.01it/s]"
     ]
    },
    {
     "name": "stdout",
     "output_type": "stream",
     "text": [
      "Fitting 5 states...\n"
     ]
    },
    {
     "name": "stderr",
     "output_type": "stream",
     "text": [
      "Converged to LP: -437.7:   5%|▌         | 51/1000 [00:00<00:05, 167.21it/s]\n",
      "Converged to LP: -448.0:   6%|▋         | 63/1000 [00:00<00:05, 172.70it/s]\n",
      "Converged to LP: -446.4:   6%|▋         | 63/1000 [00:00<00:07, 133.00it/s]\n",
      "Converged to LP: -433.7:  10%|█         | 100/1000 [00:00<00:05, 153.60it/s]\n",
      "Converged to LP: -422.3:  19%|█▉        | 190/1000 [00:00<00:04, 191.37it/s]\n",
      "Converged to LP: -316.6:   2%|▏         | 17/1000 [00:00<00:03, 294.02it/s]\n",
      "Converged to LP: -323.4:   2%|▏         | 24/1000 [00:00<00:03, 304.92it/s]\n",
      "Converged to LP: -312.6:   2%|▎         | 25/1000 [00:00<00:03, 286.12it/s]\n",
      "Converged to LP: -310.1:   2%|▏         | 21/1000 [00:00<00:06, 160.16it/s]\n",
      "LP: -301.0:   3%|▎         | 31/1000 [00:00<00:03, 304.51it/s]"
     ]
    },
    {
     "name": "stdout",
     "output_type": "stream",
     "text": [
      "Fitting session 10...\n",
      "Fitting 2 states...\n"
     ]
    },
    {
     "name": "stderr",
     "output_type": "stream",
     "text": [
      "Converged to LP: -298.3:  13%|█▎        | 131/1000 [00:00<00:02, 322.45it/s]\n",
      "Converged to LP: -345.1:   2%|▎         | 25/1000 [00:00<00:04, 228.23it/s]\n",
      "Converged to LP: -367.5:   3%|▎         | 26/1000 [00:00<00:04, 211.08it/s]\n",
      "Converged to LP: -356.4:   2%|▏         | 21/1000 [00:00<00:06, 150.91it/s]\n",
      "LP: -353.8:   1%|▏         | 14/1000 [00:00<00:07, 138.17it/s]"
     ]
    },
    {
     "name": "stdout",
     "output_type": "stream",
     "text": [
      "Fitting 3 states...\n"
     ]
    },
    {
     "name": "stderr",
     "output_type": "stream",
     "text": [
      "Converged to LP: -356.6:   8%|▊         | 78/1000 [00:00<00:03, 237.37it/s]\n",
      "Converged to LP: -348.7:  11%|█         | 109/1000 [00:00<00:03, 223.31it/s]\n",
      "LP: -398.4:   2%|▏         | 16/1000 [00:00<00:06, 158.08it/s]"
     ]
    },
    {
     "name": "stdout",
     "output_type": "stream",
     "text": [
      "Fitting 4 states...\n"
     ]
    },
    {
     "name": "stderr",
     "output_type": "stream",
     "text": [
      "Converged to LP: -411.1:   3%|▎         | 26/1000 [00:00<00:05, 186.20it/s]\n",
      "Converged to LP: -399.3:   3%|▎         | 33/1000 [00:00<00:05, 174.88it/s]\n",
      "Converged to LP: -404.4:   6%|▌         | 55/1000 [00:00<00:05, 185.53it/s]\n",
      "Converged to LP: -386.1:   8%|▊         | 79/1000 [00:00<00:06, 152.21it/s]\n",
      "Converged to LP: -396.7:  12%|█▏        | 116/1000 [00:00<00:04, 213.35it/s]\n",
      "LP: -446.4:   1%|▏         | 14/1000 [00:00<00:07, 132.01it/s]"
     ]
    },
    {
     "name": "stdout",
     "output_type": "stream",
     "text": [
      "Fitting 5 states...\n"
     ]
    },
    {
     "name": "stderr",
     "output_type": "stream",
     "text": [
      "Converged to LP: -446.3:   3%|▎         | 32/1000 [00:00<00:06, 152.35it/s]\n",
      "Converged to LP: -441.9:   3%|▎         | 34/1000 [00:00<00:08, 112.98it/s]\n",
      "Converged to LP: -436.4:   6%|▋         | 64/1000 [00:00<00:06, 148.10it/s]\n",
      "Converged to LP: -426.3:  12%|█▏        | 124/1000 [00:00<00:06, 138.79it/s]\n",
      "Converged to LP: -452.1:  16%|█▌        | 161/1000 [00:00<00:05, 163.97it/s]\n",
      "Converged to LP: -373.4:   2%|▏         | 16/1000 [00:00<00:03, 286.10it/s]\n",
      "Converged to LP: -367.5:   1%|▏         | 13/1000 [00:00<00:06, 163.77it/s]\n",
      "Converged to LP: -373.2:   1%|▏         | 14/1000 [00:00<00:05, 166.11it/s]\n",
      "Converged to LP: -367.7:   2%|▏         | 15/1000 [00:00<00:06, 161.33it/s]\n",
      "Converged to LP: -361.6:   2%|▏         | 19/1000 [00:00<00:05, 179.32it/s]\n",
      "LP: -413.7:   0%|          | 0/1000 [00:00<?, ?it/s]"
     ]
    },
    {
     "name": "stdout",
     "output_type": "stream",
     "text": [
      "Fitting session 11...\n",
      "Fitting 2 states...\n",
      "Fitting 3 states...\n"
     ]
    },
    {
     "name": "stderr",
     "output_type": "stream",
     "text": [
      "Converged to LP: -415.7:   2%|▏         | 24/1000 [00:00<00:05, 177.49it/s]\n",
      "Converged to LP: -413.1:   3%|▎         | 31/1000 [00:00<00:04, 206.61it/s]\n",
      "Converged to LP: -409.6:   2%|▎         | 25/1000 [00:00<00:06, 145.62it/s]\n",
      "Converged to LP: -410.7:   4%|▍         | 45/1000 [00:00<00:04, 222.32it/s]\n",
      "Converged to LP: -398.9:   7%|▋         | 69/1000 [00:00<00:05, 180.75it/s]\n",
      "LP: -456.1:   1%|▏         | 14/1000 [00:00<00:07, 138.73it/s]"
     ]
    },
    {
     "name": "stdout",
     "output_type": "stream",
     "text": [
      "Fitting 4 states...\n"
     ]
    },
    {
     "name": "stderr",
     "output_type": "stream",
     "text": [
      "Converged to LP: -456.1:   2%|▏         | 17/1000 [00:00<00:06, 144.34it/s]\n",
      "Converged to LP: -462.0:   2%|▏         | 22/1000 [00:00<00:06, 159.05it/s]\n",
      "Converged to LP: -451.0:   3%|▎         | 28/1000 [00:00<00:06, 158.92it/s]\n",
      "Converged to LP: -454.0:   2%|▏         | 19/1000 [00:00<00:09, 99.52it/s]\n",
      "Converged to LP: -455.1:   4%|▎         | 36/1000 [00:00<00:05, 167.28it/s]\n",
      "LP: -507.6:   0%|          | 0/1000 [00:00<?, ?it/s]"
     ]
    },
    {
     "name": "stdout",
     "output_type": "stream",
     "text": [
      "Fitting 5 states...\n"
     ]
    },
    {
     "name": "stderr",
     "output_type": "stream",
     "text": [
      "Converged to LP: -494.9:   6%|▌         | 55/1000 [00:00<00:07, 123.96it/s]\n",
      "Converged to LP: -488.3:   8%|▊         | 80/1000 [00:00<00:07, 126.67it/s]\n",
      "Converged to LP: -491.0:  11%|█▏        | 114/1000 [00:00<00:05, 168.15it/s]\n",
      "Converged to LP: -494.6:  13%|█▎        | 131/1000 [00:00<00:05, 167.26it/s]\n",
      "Converged to LP: -498.3:  15%|█▍        | 148/1000 [00:00<00:05, 167.91it/s]\n",
      "Converged to LP: -339.3:   1%|          | 10/1000 [00:00<00:03, 274.54it/s]\n",
      "Converged to LP: -346.7:   1%|          | 11/1000 [00:00<00:03, 271.60it/s]\n",
      "Converged to LP: -336.0:   1%|          | 12/1000 [00:00<00:03, 255.14it/s]\n",
      "Converged to LP: -342.3:   1%|          | 11/1000 [00:00<00:05, 183.11it/s]\n",
      "Converged to LP: -335.6:   1%|          | 10/1000 [00:00<00:05, 181.51it/s]\n",
      "Converged to LP: -377.5:   1%|▏         | 14/1000 [00:00<00:05, 196.57it/s]\n",
      "LP: -381.2:   0%|          | 0/1000 [00:00<?, ?it/s]"
     ]
    },
    {
     "name": "stdout",
     "output_type": "stream",
     "text": [
      "Fitting session 12...\n",
      "Fitting 2 states...\n",
      "Fitting 3 states...\n"
     ]
    },
    {
     "name": "stderr",
     "output_type": "stream",
     "text": [
      "Converged to LP: -378.1:   3%|▎         | 26/1000 [00:00<00:07, 133.65it/s]\n",
      "Converged to LP: -377.7:   3%|▎         | 26/1000 [00:00<00:07, 130.39it/s]\n",
      "Converged to LP: -378.9:   4%|▎         | 37/1000 [00:00<00:06, 149.63it/s]\n",
      "Converged to LP: -387.9:  10%|█         | 104/1000 [00:00<00:03, 231.39it/s]\n",
      "LP: -427.1:   0%|          | 0/1000 [00:00<?, ?it/s]"
     ]
    },
    {
     "name": "stdout",
     "output_type": "stream",
     "text": [
      "Fitting 4 states...\n"
     ]
    },
    {
     "name": "stderr",
     "output_type": "stream",
     "text": [
      "Converged to LP: -424.0:   1%|          | 12/1000 [00:00<00:07, 136.31it/s]\n",
      "Converged to LP: -427.2:   2%|▏         | 19/1000 [00:00<00:08, 117.19it/s]\n",
      "Converged to LP: -423.1:   6%|▌         | 56/1000 [00:00<00:05, 176.26it/s]\n",
      "Converged to LP: -431.4:   7%|▋         | 73/1000 [00:00<00:04, 187.36it/s]\n",
      "Converged to LP: -420.7:   7%|▋         | 66/1000 [00:00<00:06, 144.25it/s]\n",
      "LP: -469.5:   1%|          | 9/1000 [00:00<00:11, 86.50it/s]s]"
     ]
    },
    {
     "name": "stdout",
     "output_type": "stream",
     "text": [
      "Fitting 5 states...\n"
     ]
    },
    {
     "name": "stderr",
     "output_type": "stream",
     "text": [
      "Converged to LP: -470.3:   5%|▍         | 48/1000 [00:00<00:06, 141.94it/s]\n",
      "Converged to LP: -477.7:   9%|▉         | 88/1000 [00:00<00:06, 149.67it/s]\n",
      "Converged to LP: -465.8:  11%|█         | 108/1000 [00:00<00:05, 173.90it/s]\n",
      "Converged to LP: -466.4:  10%|▉         | 98/1000 [00:00<00:06, 132.27it/s]\n",
      "Converged to LP: -467.9:  16%|█▌        | 158/1000 [00:00<00:04, 183.59it/s]\n",
      "Converged to LP: -342.2:   1%|          | 8/1000 [00:00<00:03, 274.49it/s]\n",
      "Converged to LP: -346.3:   1%|          | 9/1000 [00:00<00:03, 258.98it/s]\n",
      "Converged to LP: -346.2:   1%|          | 8/1000 [00:00<00:04, 236.93it/s]\n",
      "Converged to LP: -347.3:   1%|          | 8/1000 [00:00<00:04, 245.77it/s]\n",
      "Converged to LP: -346.1:   2%|▏         | 17/1000 [00:00<00:03, 261.28it/s]\n",
      "LP: -391.5:   0%|          | 0/1000 [00:00<?, ?it/s]"
     ]
    },
    {
     "name": "stdout",
     "output_type": "stream",
     "text": [
      "Fitting session 13...\n",
      "Fitting 2 states...\n",
      "Fitting 3 states...\n"
     ]
    },
    {
     "name": "stderr",
     "output_type": "stream",
     "text": [
      "Converged to LP: -387.3:   2%|▏         | 20/1000 [00:00<00:04, 210.19it/s]\n",
      "Converged to LP: -386.7:   1%|▏         | 13/1000 [00:00<00:08, 123.07it/s]\n",
      "Converged to LP: -390.4:   2%|▏         | 16/1000 [00:00<00:07, 136.51it/s]\n",
      "Converged to LP: -391.3:   2%|▏         | 17/1000 [00:00<00:06, 144.25it/s]\n",
      "Converged to LP: -390.2:   4%|▍         | 40/1000 [00:00<00:04, 219.46it/s]\n",
      "LP: -430.4:   0%|          | 0/1000 [00:00<?, ?it/s]"
     ]
    },
    {
     "name": "stdout",
     "output_type": "stream",
     "text": [
      "Fitting 4 states...\n"
     ]
    },
    {
     "name": "stderr",
     "output_type": "stream",
     "text": [
      "Converged to LP: -430.6:   3%|▎         | 32/1000 [00:00<00:06, 158.99it/s]\n",
      "Converged to LP: -435.6:   3%|▎         | 34/1000 [00:00<00:05, 167.21it/s]\n",
      "Converged to LP: -430.6:   5%|▍         | 48/1000 [00:00<00:05, 170.86it/s]\n",
      "Converged to LP: -428.0:   4%|▍         | 45/1000 [00:00<00:06, 152.25it/s]\n",
      "Converged to LP: -428.0:   7%|▋         | 66/1000 [00:00<00:05, 167.69it/s]\n",
      "LP: -477.3:   0%|          | 0/1000 [00:00<?, ?it/s]"
     ]
    },
    {
     "name": "stdout",
     "output_type": "stream",
     "text": [
      "Fitting 5 states...\n"
     ]
    },
    {
     "name": "stderr",
     "output_type": "stream",
     "text": [
      "Converged to LP: -475.3:   3%|▎         | 26/1000 [00:00<00:07, 136.02it/s]\n",
      "Converged to LP: -476.6:   2%|▏         | 23/1000 [00:00<00:08, 112.00it/s]\n",
      "Converged to LP: -473.5:   2%|▏         | 23/1000 [00:00<00:10, 89.44it/s]\n",
      "Converged to LP: -473.4:   3%|▎         | 28/1000 [00:00<00:09, 103.99it/s]\n",
      "Converged to LP: -472.5:  46%|████▌     | 462/1000 [00:02<00:02, 185.68it/s]\n",
      "Converged to LP: -353.4:   2%|▏         | 21/1000 [00:00<00:03, 289.80it/s]\n",
      "Converged to LP: -351.0:   3%|▎         | 30/1000 [00:00<00:03, 262.04it/s]\n",
      "Converged to LP: -352.4:   3%|▎         | 28/1000 [00:00<00:05, 193.79it/s]\n",
      "Converged to LP: -357.8:   3%|▎         | 30/1000 [00:00<00:04, 198.52it/s]\n",
      "LP: -348.5:   3%|▎         | 28/1000 [00:00<00:03, 277.70it/s]"
     ]
    },
    {
     "name": "stdout",
     "output_type": "stream",
     "text": [
      "Fitting session 14...\n",
      "Fitting 2 states...\n"
     ]
    },
    {
     "name": "stderr",
     "output_type": "stream",
     "text": [
      "Converged to LP: -344.8:  10%|▉         | 98/1000 [00:00<00:03, 277.51it/s]\n",
      "LP: -398.3:   0%|          | 0/1000 [00:00<?, ?it/s]"
     ]
    },
    {
     "name": "stdout",
     "output_type": "stream",
     "text": [
      "Fitting 3 states...\n"
     ]
    },
    {
     "name": "stderr",
     "output_type": "stream",
     "text": [
      "Converged to LP: -397.7:   1%|▏         | 14/1000 [00:00<00:04, 202.61it/s]\n",
      "Converged to LP: -398.5:   2%|▏         | 17/1000 [00:00<00:04, 212.81it/s]\n",
      "Converged to LP: -401.6:   2%|▏         | 22/1000 [00:00<00:04, 216.83it/s]\n",
      "Converged to LP: -391.3:   3%|▎         | 32/1000 [00:00<00:04, 199.04it/s]\n",
      "Converged to LP: -396.6:   6%|▌         | 60/1000 [00:00<00:04, 222.02it/s]\n",
      "Converged to LP: -445.7:   2%|▏         | 17/1000 [00:00<00:05, 165.37it/s]\n",
      "LP: -436.6:   1%|▏         | 14/1000 [00:00<00:07, 137.73it/s]"
     ]
    },
    {
     "name": "stdout",
     "output_type": "stream",
     "text": [
      "Fitting 4 states...\n"
     ]
    },
    {
     "name": "stderr",
     "output_type": "stream",
     "text": [
      "Converged to LP: -424.4:   6%|▋         | 65/1000 [00:00<00:06, 153.48it/s]\n",
      "Converged to LP: -432.8:  11%|█         | 112/1000 [00:00<00:04, 182.38it/s]\n",
      "Converged to LP: -427.9:  13%|█▎        | 132/1000 [00:00<00:04, 185.86it/s]\n",
      "Converged to LP: -435.0:  18%|█▊        | 179/1000 [00:01<00:04, 173.22it/s]\n",
      "LP: -481.0:   1%|          | 12/1000 [00:00<00:08, 113.03it/s]"
     ]
    },
    {
     "name": "stdout",
     "output_type": "stream",
     "text": [
      "Fitting 5 states...\n"
     ]
    },
    {
     "name": "stderr",
     "output_type": "stream",
     "text": [
      "Converged to LP: -489.8:   3%|▎         | 26/1000 [00:00<00:07, 124.61it/s]\n",
      "Converged to LP: -482.1:   5%|▌         | 53/1000 [00:00<00:06, 144.07it/s]\n",
      "Converged to LP: -478.8:   6%|▋         | 64/1000 [00:00<00:05, 156.87it/s]\n",
      "Converged to LP: -479.9:   8%|▊         | 84/1000 [00:00<00:05, 157.53it/s]\n",
      "Converged to LP: -457.2:   9%|▉         | 88/1000 [00:00<00:05, 158.10it/s]\n",
      "Converged to LP: -330.8:   1%|          | 10/1000 [00:00<00:04, 245.79it/s]\n",
      "Converged to LP: -334.8:   1%|▏         | 13/1000 [00:00<00:03, 272.76it/s]\n",
      "Converged to LP: -333.1:   1%|          | 12/1000 [00:00<00:03, 260.93it/s]\n",
      "Converged to LP: -323.1:   1%|          | 9/1000 [00:00<00:05, 179.15it/s]\n",
      "Converged to LP: -325.9:   1%|          | 10/1000 [00:00<00:05, 177.68it/s]\n",
      "Converged to LP: -379.0:   2%|▏         | 16/1000 [00:00<00:05, 184.65it/s]\n",
      "LP: -368.4:   0%|          | 0/1000 [00:00<?, ?it/s]"
     ]
    },
    {
     "name": "stdout",
     "output_type": "stream",
     "text": [
      "Fitting session 15...\n",
      "Fitting 2 states...\n",
      "Fitting 3 states...\n"
     ]
    },
    {
     "name": "stderr",
     "output_type": "stream",
     "text": [
      "Converged to LP: -367.8:   3%|▎         | 27/1000 [00:00<00:05, 186.72it/s]\n",
      "Converged to LP: -368.3:   5%|▌         | 51/1000 [00:00<00:04, 227.00it/s]\n",
      "Converged to LP: -374.9:   7%|▋         | 74/1000 [00:00<00:04, 211.89it/s]\n",
      "Converged to LP: -376.2:  10%|▉         | 95/1000 [00:00<00:03, 240.70it/s]\n",
      "LP: -422.9:   0%|          | 0/1000 [00:00<?, ?it/s]"
     ]
    },
    {
     "name": "stdout",
     "output_type": "stream",
     "text": [
      "Fitting 4 states...\n"
     ]
    },
    {
     "name": "stderr",
     "output_type": "stream",
     "text": [
      "Converged to LP: -420.9:   3%|▎         | 34/1000 [00:00<00:05, 162.41it/s]\n",
      "Converged to LP: -413.3:   3%|▎         | 29/1000 [00:00<00:07, 124.51it/s]\n",
      "Converged to LP: -417.9:   5%|▍         | 46/1000 [00:00<00:05, 172.50it/s]\n",
      "Converged to LP: -415.0:   5%|▍         | 48/1000 [00:00<00:05, 174.38it/s]\n",
      "Converged to LP: -419.4:   4%|▍         | 43/1000 [00:00<00:06, 148.76it/s]\n",
      "Converged to LP: -457.3:   2%|▏         | 22/1000 [00:00<00:06, 141.96it/s]\n",
      "LP: -469.2:   1%|▏         | 13/1000 [00:00<00:08, 122.89it/s]"
     ]
    },
    {
     "name": "stdout",
     "output_type": "stream",
     "text": [
      "Fitting 5 states...\n"
     ]
    },
    {
     "name": "stderr",
     "output_type": "stream",
     "text": [
      "Converged to LP: -461.0:   3%|▎         | 28/1000 [00:00<00:07, 138.55it/s]\n",
      "Converged to LP: -456.9:   4%|▍         | 40/1000 [00:00<00:06, 148.72it/s]\n",
      "Converged to LP: -468.9:   5%|▌         | 50/1000 [00:00<00:05, 159.72it/s]\n",
      "Converged to LP: -456.6:  11%|█▏        | 114/1000 [00:00<00:05, 173.96it/s]\n"
     ]
    }
   ],
   "source": [
    "# session-wise fitting with 5 fold cross-validation\n",
    "models_session_state_fold_on_med, train_ll_session_on_med, test_ll_session_on_med = session_wise_fit_cv(choices_session_wise, inputs_session_wise, masks=masks_session_wise,\n",
    "                                                                                    n_sessions=len(on_med_sessions), init_params=init_params, n_iters= 1000)"
   ]
  },
  {
   "cell_type": "code",
   "execution_count": null,
   "metadata": {},
   "outputs": [],
   "source": [
    "on_medication_results = {\n",
    "    'global':{\n",
    "\t\t'inputs': on_med_inputs_aggregate,\n",
    "\t\t'choices': on_med_choices_aggregate,\n",
    "\t\t'masks': on_med_masks_aggregate,\n",
    "\t\t'models': models_glm_hmm_on_med,\n",
    "\t\t'fit_lls': fit_lls_glm_hmm_on_med,\n",
    "\t\t'best_params': init_params\n",
    "\t},\n",
    "\t'session':{\n",
    "\t\t'session_ids': on_med_sessions,\n",
    "        'unnormalized_inputs': unnormalized_on_med_inputs,\n",
    "\t\t'inputs': inputs_session_wise,\n",
    "\t\t'choices': choices_session_wise,\n",
    "\t\t'masks': masks_session_wise,\n",
    "\t\t'reaction_time': reaction_time_session_wise,\n",
    "\t\t'models': models_session_state_fold_on_med,\n",
    "\t\t'train_lls': train_ll_session_on_med,\n",
    "\t\t'test_lls': test_ll_session_on_med\n",
    "\t}\n",
    "}\n",
    "\n",
    "with open(Path(processed_dir, f'glm_hmm_on_meds_result.pkl'), 'wb') as f:\n",
    "    pickle.dump(on_medication_results, f)"
   ]
  },
  {
   "cell_type": "code",
   "execution_count": 20,
   "metadata": {},
   "outputs": [
    {
     "data": {
      "text/plain": [
       "dict_keys([0, 1, 2, 3, 4, 5, 6, 7, 8, 9, 10, 11, 12, 13, 14, 15])"
      ]
     },
     "execution_count": 20,
     "metadata": {},
     "output_type": "execute_result"
    }
   ],
   "source": [
    "models_session_state_fold_on_med.keys()"
   ]
  },
  {
   "cell_type": "code",
   "execution_count": 37,
   "metadata": {},
   "outputs": [],
   "source": [
    "glm_hmm_results = {\n",
    "    \"off_med_global\": off_medication_results['global'],\n",
    "    \"on_med_global\": on_medication_results['global'],\n",
    "    \"session_wise\": {\n",
    "        # concatenate off and on medication results\n",
    "        \"session_ids\": off_medication_results['session']['session_ids'] + on_medication_results['session']['session_ids'],\n",
    "\t\t\"unnormalized_inputs\": off_medication_results['session']['unnormalized_inputs'] + on_medication_results['session']['unnormalized_inputs'],\n",
    "\t\t\"inputs\": off_medication_results['session']['inputs'] + on_medication_results['session']['inputs'],\n",
    "\t\t\"choices\": off_medication_results['session']['choices'] + on_medication_results['session']['choices'],\n",
    "\t\t\"masks\": off_medication_results['session']['masks'] + on_medication_results['session']['masks'],\n",
    "\t\t\"reaction_time\": off_medication_results['session']['reaction_time'] + on_medication_results['session']['reaction_time'],\n",
    "\t\t\"train_ll\": off_medication_results['session']['train_lls'] + on_medication_results['session']['train_lls'],\n",
    "\t\t\"test_ll\": off_medication_results['session']['test_lls'] + on_medication_results['session']['test_lls'],\n",
    "\t}\n",
    "}\n",
    "\n",
    "glm_hmm_results['session_wise']['models'] = models_session_state_fold_off_med\n",
    "# Shift the keys of on-medication models and merge\n",
    "off_session_len = len(models_session_state_fold_off_med)  # Fix variable name\n",
    "glm_hmm_results['session_wise']['models'].update({\n",
    "    key + off_session_len: value for key, value in models_session_state_fold_on_med.items()\n",
    "})\n",
    "\n",
    "\n",
    "with open(Path(processed_dir, f'glm_hmm_result.pkl'), 'wb') as f:\n",
    "    pickle.dump(glm_hmm_results, f)\n"
   ]
  }
 ],
 "metadata": {
  "kernelspec": {
   "display_name": "Python 3",
   "language": "python",
   "name": "python3"
  },
  "language_info": {
   "codemirror_mode": {
    "name": "ipython",
    "version": 3
   },
   "file_extension": ".py",
   "mimetype": "text/x-python",
   "name": "python",
   "nbconvert_exporter": "python",
   "pygments_lexer": "ipython3",
   "version": "3.10.12"
  }
 },
 "nbformat": 4,
 "nbformat_minor": 2
}
