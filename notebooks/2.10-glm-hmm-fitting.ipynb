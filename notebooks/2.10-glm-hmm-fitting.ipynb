{
 "cells": [
  {
   "cell_type": "code",
   "execution_count": 89,
   "metadata": {},
   "outputs": [
    {
     "name": "stdout",
     "output_type": "stream",
     "text": [
      "The autoreload extension is already loaded. To reload it, use:\n",
      "  %reload_ext autoreload\n"
     ]
    }
   ],
   "source": [
    "%matplotlib inline\n",
    "%load_ext autoreload\n",
    "%autoreload 2"
   ]
  },
  {
   "cell_type": "code",
   "execution_count": 90,
   "metadata": {},
   "outputs": [],
   "source": [
    "import numpy as np\n",
    "import numpy.random as npr\n",
    "import pandas as pd\n",
    "import matplotlib.pyplot as plt\n",
    "import ssm\n",
    "from sklearn import preprocessing\n",
    "from sklearn.model_selection import KFold\n",
    "from scipy import stats\n",
    "\n",
    "from notebooks.imports import *\n",
    "from config import dir_config, main_config\n",
    "from src.utils.glm_hmm_utils import *\n",
    "import pickle\n",
    "import copy"
   ]
  },
  {
   "cell_type": "markdown",
   "metadata": {},
   "source": [
    "### Configuration"
   ]
  },
  {
   "cell_type": "code",
   "execution_count": 91,
   "metadata": {},
   "outputs": [],
   "source": [
    "from config import dir_config, main_config\n",
    "\n",
    "raw_dir = Path(dir_config.data.raw)\n",
    "processed_dir = Path(dir_config.data.processed)\n",
    "\n",
    "metadata = pd.read_csv(Path(processed_dir, \"processed_metadata_accu_60.csv\"))\n",
    "data = pd.read_csv(Path(processed_dir, \"processed_data_accu_60_all.csv\"))"
   ]
  },
  {
   "cell_type": "code",
   "execution_count": 92,
   "metadata": {},
   "outputs": [],
   "source": [
    "experiment_sites = [\"Stanford\"]\n",
    "\n",
    "metadata = metadata[metadata['experiment_site'].isin(experiment_sites)].reset_index(drop=True)\n",
    "data = data[data['subject_id'].isin(metadata['subject_id'])].reset_index(drop=True)\n",
    "\n",
    "# add session_id to data with matching subject_id and medication\n",
    "metadata['session_id'] = metadata[['subject_id', 'treatment']].apply(lambda x: '_'.join(x.astype(str).str.upper()), axis=1)\n",
    "data['session_id'] = data[['subject_id', 'medication']].apply(lambda x: '_'.join(x.astype(str).str.upper()), axis=1)\n",
    "data.choice = data.choice.fillna(-1).astype(int)\n",
    "data.target = data.target.fillna(-1).astype(int)\n",
    "data.outcome = data.outcome.fillna(-1).astype(int)"
   ]
  },
  {
   "cell_type": "markdown",
   "metadata": {},
   "source": [
    "### Helper Functions"
   ]
  },
  {
   "cell_type": "code",
   "execution_count": 93,
   "metadata": {},
   "outputs": [],
   "source": [
    "def extract_previous_data(trial_data, invalid_idx):\n",
    "    npr.seed(1)\n",
    "    prev_choice = np.hstack([trial_data.choice[0], trial_data.choice[:-1]])  # 0:awayPrior, 1:toPrior of previous valid trial\n",
    "    prev_target = np.hstack([trial_data.target[0], trial_data.target[:-1]]) * 2 - 1  # 0:awayPrior, 1:toPrior of previous valid trial\n",
    "    prev_color = np.hstack([trial_data.color[0], trial_data.color[:-1]])  # 0:equalPrior, 1:UnequalPrior of previous valid trial\n",
    "\n",
    "    # indices where the previous trial is invalid/valid\n",
    "    prev_invalid_idx = np.array(invalid_idx) + 1\n",
    "    if 0 in invalid_idx:\n",
    "        prev_invalid_idx = np.append(0, prev_invalid_idx)\n",
    "    prev_valid_idx = np.setdiff1d(np.arange(len(trial_data)), prev_invalid_idx)\n",
    "\n",
    "    for i in prev_invalid_idx[prev_invalid_idx < len(trial_data)]:\n",
    "        if i < prev_valid_idx[0]: #randomly sample if no previous valid trials\n",
    "            prev_choice[i] = np.random.binomial(1,0.5)\n",
    "            prev_target[i] = np.random.binomial(1,0.5) * 2 - 1\n",
    "            prev_color[i]  = np.random.binomial(1,0.5)\n",
    "        else:\n",
    "            last_valid =  np.where(prev_valid_idx<i)[0][-1]\n",
    "            prev_choice[i] = prev_choice[prev_valid_idx[last_valid]]\n",
    "            prev_target[i] = prev_target[prev_valid_idx[last_valid]]\n",
    "            prev_color[i] = prev_color[prev_valid_idx[last_valid]]\n",
    "\n",
    "    prev_choice = (prev_choice * 2) - 1 # -1:awayPrior, 1:toPrior of previous valid trial\n",
    "    return prev_choice.astype(int), prev_target.astype(int), prev_color.astype(int)\n",
    "\n",
    "def prepare_input_data(data, input_dim, invalid_idx):\n",
    "    X = np.ones((1, data.shape[0], input_dim))\n",
    "\n",
    "    X[0,:,0] = data.signed_coherence / 100\n",
    "    X[0,:,1] = data.color\n",
    "    X[0,:,3], X[0,:,4], X[0,:,5] = extract_previous_data(data, invalid_idx)\n",
    "    return list(X)"
   ]
  },
  {
   "cell_type": "markdown",
   "metadata": {},
   "source": [
    "### Data processing"
   ]
  },
  {
   "cell_type": "code",
   "execution_count": 94,
   "metadata": {},
   "outputs": [
    {
     "name": "stdout",
     "output_type": "stream",
     "text": [
      "------------- info ----------------\n",
      "<class 'pandas.core.frame.DataFrame'>\n",
      "RangeIndex: 20585 entries, 0 to 20584\n",
      "Data columns (total 15 columns):\n",
      " #   Column            Non-Null Count  Dtype  \n",
      "---  ------            --------------  -----  \n",
      " 0   subject_id        20585 non-null  object \n",
      " 1   medication        20585 non-null  object \n",
      " 2   prior             20585 non-null  object \n",
      " 3   prior_direction   20585 non-null  object \n",
      " 4   prior_color       20585 non-null  object \n",
      " 5   color             20307 non-null  float64\n",
      " 6   coherence         20307 non-null  float64\n",
      " 7   target            20585 non-null  int64  \n",
      " 8   is_valid          20585 non-null  bool   \n",
      " 9   outcome           20585 non-null  int64  \n",
      " 10  choice            20585 non-null  int64  \n",
      " 11  reaction_time     20585 non-null  float64\n",
      " 12  session_filename  20585 non-null  object \n",
      " 13  signed_coherence  20307 non-null  float64\n",
      " 14  session_id        20585 non-null  object \n",
      "dtypes: bool(1), float64(4), int64(3), object(7)\n",
      "memory usage: 2.2+ MB\n",
      "None\n",
      "------------- Head ----------------\n",
      "  subject_id medication prior prior_direction prior_color  color  coherence  \\\n",
      "0        P11        off    gr           right       green    1.0       13.0   \n",
      "1        P11        off    gr           right       green    1.0        0.0   \n",
      "2        P11        off    gr           right       green    0.0        0.0   \n",
      "3        P11        off    gr           right       green    1.0        0.0   \n",
      "4        P11        off    gr           right       green    1.0      100.0   \n",
      "\n",
      "   target  is_valid  outcome  choice  reaction_time    session_filename  \\\n",
      "0       0      True        0       1    1605.292423  P11_OFFmeds_gr.mat   \n",
      "1       1      True        0       0    1444.102487  P11_OFFmeds_gr.mat   \n",
      "2       0      True        0       1    1314.854267  P11_OFFmeds_gr.mat   \n",
      "3       1     False       -1      -1    1648.912344  P11_OFFmeds_gr.mat   \n",
      "4       0      True        1       0     712.549048  P11_OFFmeds_gr.mat   \n",
      "\n",
      "   signed_coherence session_id  \n",
      "0             -13.0    P11_OFF  \n",
      "1               0.0    P11_OFF  \n",
      "2              -0.0    P11_OFF  \n",
      "3               0.0    P11_OFF  \n",
      "4            -100.0    P11_OFF  \n",
      "\n",
      "\n",
      "------------- describe ----------------\n",
      "\n",
      "\n",
      "              color     coherence        target       outcome        choice  \\\n",
      "count  20307.000000  20307.000000  20585.000000  20585.000000  20585.000000   \n",
      "mean       0.499975     37.134880      0.594462      0.642798      0.499247   \n",
      "std        0.500012     38.531784      0.517784      0.562396      0.580242   \n",
      "min        0.000000      0.000000     -1.000000     -1.000000     -1.000000   \n",
      "25%        0.000000     13.000000      0.000000      0.000000      0.000000   \n",
      "50%        0.000000     35.000000      1.000000      1.000000      1.000000   \n",
      "75%        1.000000    100.000000      1.000000      1.000000      1.000000   \n",
      "max        1.000000    100.000000      1.000000      1.000000      1.000000   \n",
      "\n",
      "       reaction_time  signed_coherence  \n",
      "count   2.058500e+04      20307.000000  \n",
      "mean    5.530039e+02          8.597429  \n",
      "std     4.950787e+04         52.818994  \n",
      "min    -7.102090e+06       -100.000000  \n",
      "25%     6.816330e+02        -13.000000  \n",
      "50%     8.382396e+02          0.000000  \n",
      "75%     1.077466e+03         35.000000  \n",
      "max     1.821451e+03        100.000000  \n",
      "------------- nan counts ----------------\n",
      "subject_id            0\n",
      "medication            0\n",
      "prior                 0\n",
      "prior_direction       0\n",
      "prior_color           0\n",
      "color               278\n",
      "coherence           278\n",
      "target                0\n",
      "is_valid              0\n",
      "outcome               0\n",
      "choice                0\n",
      "reaction_time         0\n",
      "session_filename      0\n",
      "signed_coherence    278\n",
      "session_id            0\n",
      "dtype: int64\n",
      "\n",
      "\n",
      "------------- dtypes ----------------\n",
      "\n",
      "\n",
      "subject_id           object\n",
      "medication           object\n",
      "prior                object\n",
      "prior_direction      object\n",
      "prior_color          object\n",
      "color               float64\n",
      "coherence           float64\n",
      "target                int64\n",
      "is_valid               bool\n",
      "outcome               int64\n",
      "choice                int64\n",
      "reaction_time       float64\n",
      "session_filename     object\n",
      "signed_coherence    float64\n",
      "session_id           object\n",
      "dtype: object\n",
      "\n",
      "\n",
      "------------- shape ----------------\n",
      "\n",
      "\n",
      "(20585, 15)\n"
     ]
    }
   ],
   "source": [
    "print(\"------------- info ----------------\")\n",
    "print(data.info())\n",
    "print(\"------------- Head ----------------\")\n",
    "print(data.head())\n",
    "print(\"\\n\\n------------- describe ----------------\\n\\n\")\n",
    "print(data.describe())\n",
    "print(\"------------- nan counts ----------------\")\n",
    "print(data.isnull().sum())\n",
    "print(\"\\n\\n------------- dtypes ----------------\\n\\n\")\n",
    "print(data.dtypes)\n",
    "print(\"\\n\\n------------- shape ----------------\\n\\n\")\n",
    "print(data.shape)"
   ]
  },
  {
   "cell_type": "markdown",
   "metadata": {},
   "source": [
    "#### Data preparation"
   ]
  },
  {
   "cell_type": "code",
   "execution_count": 95,
   "metadata": {},
   "outputs": [
    {
     "data": {
      "text/plain": [
       "(array(['P1_OFF', 'P3_OFF', 'P4_OFF', 'P6_OFF', 'P7_OFF', 'P9_OFF',\n",
       "        'P11_OFF', 'P12_OFF', 'P13_OFF', 'P17_OFF', 'P18_OFF', 'P19_OFF',\n",
       "        'P20_OFF', 'P22_OFF', 'P23_OFF', 'P24_OFF'], dtype=object),\n",
       " array(['P1_ON', 'P3_ON', 'P4_ON', 'P6_ON', 'P7_ON', 'P9_ON', 'P11_ON',\n",
       "        'P12_ON', 'P13_ON', 'P17_ON', 'P18_ON', 'P19_ON', 'P20_ON',\n",
       "        'P22_ON', 'P23_ON', 'P24_ON'], dtype=object))"
      ]
     },
     "execution_count": 95,
     "metadata": {},
     "output_type": "execute_result"
    }
   ],
   "source": [
    "off_med_sessions = metadata[metadata['treatment'] == 'OFF'].session_id.unique()\n",
    "on_med_sessions = metadata[metadata['treatment'] == 'ON'].session_id.unique()\n",
    "off_med_sessions, on_med_sessions"
   ]
  },
  {
   "cell_type": "markdown",
   "metadata": {},
   "source": [
    "#### Create design matrix (input, output, mask)"
   ]
  },
  {
   "cell_type": "code",
   "execution_count": 96,
   "metadata": {},
   "outputs": [],
   "source": [
    "n_states = 2       # number of discrete states\n",
    "obs_dim = 1           # number of observed dimensions: choice(toPrior/awayPrior)\n",
    "num_categories = 2    # number of categories for output\n",
    "input_dim = 6        # input dimensions: current signed coherence, current stimulus color, 1(bias), previous choice(toPrior/awayPrior), previous target side(toPrior/awayPrior), previous color(toPrior/awayPrior)"
   ]
  },
  {
   "cell_type": "markdown",
   "metadata": {},
   "source": [
    "### Off medication sessions"
   ]
  },
  {
   "cell_type": "code",
   "execution_count": 97,
   "metadata": {},
   "outputs": [],
   "source": [
    "inputs_session_wise = []\n",
    "choices_session_wise = []\n",
    "invalid_idx_session_wise = []\n",
    "masks_session_wise = []\n",
    "reaction_time_session_wise = []\n",
    "\n",
    "# off medication sessions\n",
    "for session in off_med_sessions:\n",
    "    session_data = data[data['session_id'] == session].reset_index(drop=True)\n",
    "\n",
    "\n",
    "    invalid_idx = np.where(session_data.outcome < 0)[0]\n",
    "    valid_idx = np.where(session_data.outcome >= 0)[0]\n",
    "\n",
    "    inputs = prepare_input_data(session_data, input_dim, invalid_idx)\n",
    "    choices = session_data.choice.values.reshape(-1,1).astype('int')\n",
    "\n",
    "    # for training, replace -1 with random sample from 0,1\n",
    "    choices[choices == -1] = npr.choice([0,1],invalid_idx.shape[0])\n",
    "    mask = np.ones_like(choices, dtype=bool)\n",
    "    mask[invalid_idx] = 0\n",
    "    reaction_time = np.array(session_data.reaction_time)\n",
    "\n",
    "    masks_session_wise.append(mask)\n",
    "    inputs_session_wise += inputs\n",
    "    choices_session_wise.append(choices)\n",
    "    reaction_time_session_wise.append(reaction_time)\n",
    "\n",
    "off_med_inputs_aggregate, off_med_choices_aggregate, off_med_masks_aggregate = [], [], []\n",
    "off_med_inputs_aggregate.append(np.vstack(inputs_session_wise))\n",
    "off_med_choices_aggregate.append(np.vstack(choices_session_wise))\n",
    "off_med_masks_aggregate.append(np.vstack(masks_session_wise))\n",
    "\n",
    "unnormalized_off_med_inputs = copy.deepcopy(inputs_session_wise)\n",
    "\n",
    "# scaling signed coherence\n",
    "off_med_inputs_aggregate[0][off_med_masks_aggregate[0][:,0],0] = preprocessing.scale(off_med_inputs_aggregate[0][off_med_masks_aggregate[0][:,0],0], axis=0)\n",
    "for idx in range(len(off_med_sessions)):\n",
    "    inputs_session_wise[idx][masks_session_wise[idx][:,0],0] = preprocessing.scale(inputs_session_wise[idx][masks_session_wise[idx][:,0],0], axis=0)\n"
   ]
  },
  {
   "cell_type": "code",
   "execution_count": 98,
   "metadata": {},
   "outputs": [
    {
     "name": "stdout",
     "output_type": "stream",
     "text": [
      "Fitting GLM globally...\n"
     ]
    },
    {
     "data": {
      "application/vnd.jupyter.widget-view+json": {
       "model_id": "f9a187421d44408987fd5ffd318a3b4a",
       "version_major": 2,
       "version_minor": 0
      },
      "text/plain": [
       "  0%|          | 0/1000 [00:00<?, ?it/s]"
      ]
     },
     "metadata": {},
     "output_type": "display_data"
    },
    {
     "name": "stdout",
     "output_type": "stream",
     "text": [
      "Fitting 2 states...\n"
     ]
    },
    {
     "name": "stderr",
     "output_type": "stream",
     "text": [
      "Converged to LP: -5361.9:   0%|          | 2/1000 [00:00<00:50, 19.61it/s]\n",
      "Converged to LP: -5132.0:   7%|▋         | 74/1000 [00:01<00:22, 40.69it/s]\n",
      "Converged to LP: -5132.0:   7%|▋         | 66/1000 [00:02<00:31, 29.92it/s]\n",
      "Converged to LP: -5132.0:   9%|▉         | 89/1000 [00:02<00:21, 41.67it/s]\n",
      "Converged to LP: -5132.0:  10%|▉         | 97/1000 [00:02<00:21, 41.25it/s]\n",
      "Converged to LP: -5132.0:  10%|█         | 100/1000 [00:02<00:21, 41.60it/s]\n",
      "Converged to LP: -5132.0:  11%|█         | 111/1000 [00:02<00:20, 42.60it/s]\n",
      "Converged to LP: -5132.0:   7%|▋         | 70/1000 [00:02<00:32, 28.57it/s]\n",
      "Converged to LP: -5132.0:  11%|█         | 108/1000 [00:02<00:21, 42.03it/s]\n",
      "Converged to LP: -5132.0:  11%|█         | 110/1000 [00:02<00:22, 39.91it/s]\n",
      "Converged to LP: -5132.0:  11%|█         | 108/1000 [00:02<00:21, 42.23it/s]\n",
      "Converged to LP: -5132.0:  10%|▉         | 95/1000 [00:02<00:26, 34.73it/s]\n",
      "Converged to LP: -5132.0:  12%|█▏        | 118/1000 [00:03<00:22, 39.11it/s]\n",
      "Converged to LP: -5132.0:  11%|█         | 112/1000 [00:03<00:25, 34.89it/s]\n",
      "Converged to LP: -5132.0:  13%|█▎        | 127/1000 [00:02<00:20, 42.44it/s]\n",
      "Converged to LP: -5132.0:  10%|█         | 104/1000 [00:03<00:27, 32.44it/s]\n",
      "Converged to LP: -5132.0:  12%|█▏        | 117/1000 [00:03<00:25, 34.20it/s]\n",
      "Converged to LP: -5132.0:  16%|█▌        | 156/1000 [00:03<00:19, 43.43it/s]\n",
      "Converged to LP: -5132.0:  14%|█▍        | 141/1000 [00:03<00:23, 36.55it/s]\n",
      "Converged to LP: -5301.8:  38%|███▊      | 377/1000 [00:08<00:13, 45.59it/s]\n"
     ]
    },
    {
     "name": "stdout",
     "output_type": "stream",
     "text": [
      "Fitting 3 states...\n"
     ]
    },
    {
     "name": "stderr",
     "output_type": "stream",
     "text": [
      "Converged to LP: -5075.2:   6%|▌         | 62/1000 [00:02<00:30, 30.90it/s]\n",
      "Converged to LP: -5075.4:   9%|▉         | 92/1000 [00:02<00:29, 30.68it/s]\n",
      "Converged to LP: -5075.4:  10%|█         | 100/1000 [00:03<00:29, 30.76it/s]\n",
      "Converged to LP: -5075.4:   7%|▋         | 70/1000 [00:03<00:42, 21.78it/s]\n",
      "Converged to LP: -5075.4:   9%|▉         | 89/1000 [00:04<00:41, 22.11it/s]\n",
      "Converged to LP: -5075.4:  13%|█▎        | 134/1000 [00:04<00:27, 31.17it/s]\n",
      "Converged to LP: -5075.4:  12%|█▏        | 124/1000 [00:04<00:28, 30.93it/s]\n",
      "Converged to LP: -5075.4:  11%|█         | 107/1000 [00:04<00:36, 24.55it/s]\n",
      "Converged to LP: -5075.4:  14%|█▎        | 135/1000 [00:05<00:34, 25.08it/s]\n",
      "Converged to LP: -5075.2:  17%|█▋        | 173/1000 [00:05<00:26, 31.42it/s]\n",
      "Converged to LP: -5075.4:  14%|█▍        | 139/1000 [00:05<00:34, 25.32it/s]\n",
      "Converged to LP: -5075.4:  19%|█▉        | 189/1000 [00:07<00:30, 26.71it/s]\n",
      "Converged to LP: -5075.1:  18%|█▊        | 177/1000 [00:06<00:29, 27.99it/s]\n",
      "Converged to LP: -5071.3:  26%|██▌       | 261/1000 [00:09<00:25, 28.54it/s]\n",
      "Converged to LP: -5071.3:  28%|██▊       | 281/1000 [00:08<00:22, 32.65it/s]\n",
      "Converged to LP: -5075.4:  32%|███▏      | 320/1000 [00:09<00:20, 33.59it/s]\n",
      "Converged to LP: -5155.5:  44%|████▍     | 438/1000 [00:11<00:14, 38.69it/s]\n",
      "Converged to LP: -5071.3:  40%|████      | 400/1000 [00:12<00:18, 32.06it/s]\n",
      "Converged to LP: -5156.3:  47%|████▋     | 473/1000 [00:12<00:13, 37.84it/s]\n",
      "Converged to LP: -5156.3:  56%|█████▋    | 565/1000 [00:14<00:10, 40.04it/s]\n",
      "LP: -5452.1:   0%|          | 3/1000 [00:00<00:47, 21.08it/s]"
     ]
    },
    {
     "name": "stdout",
     "output_type": "stream",
     "text": [
      "Fitting 4 states...\n"
     ]
    },
    {
     "name": "stderr",
     "output_type": "stream",
     "text": [
      "Converged to LP: -5455.8:   2%|▏         | 18/1000 [00:00<00:47, 20.82it/s]\n",
      "Converged to LP: -5107.4:  18%|█▊        | 185/1000 [00:07<00:31, 25.72it/s]\n",
      "Converged to LP: -5031.9:  16%|█▌        | 157/1000 [00:08<00:43, 19.25it/s]\n",
      "Converged to LP: -5031.9:  20%|██        | 203/1000 [00:10<00:39, 20.25it/s]\n",
      "Converged to LP: -5111.0:  29%|██▊       | 287/1000 [00:10<00:26, 26.79it/s]\n",
      "Converged to LP: -5111.5:  29%|██▉       | 294/1000 [00:10<00:25, 27.38it/s]\n",
      "Converged to LP: -5112.2:  31%|███       | 309/1000 [00:12<00:27, 25.08it/s]\n",
      "Converged to LP: -5108.5:  29%|██▉       | 294/1000 [00:13<00:31, 22.44it/s]\n",
      "Converged to LP: -5111.0:  33%|███▎      | 333/1000 [00:14<00:28, 23.33it/s]\n",
      "Converged to LP: -5031.9:  30%|██▉       | 295/1000 [00:14<00:34, 20.24it/s]\n",
      "Converged to LP: -5115.2:  42%|████▏     | 423/1000 [00:15<00:21, 26.70it/s]\n",
      "Converged to LP: -5115.4:  39%|███▉      | 393/1000 [00:16<00:25, 24.25it/s]\n",
      "Converged to LP: -5034.4:  45%|████▍     | 449/1000 [00:18<00:23, 23.86it/s]\n",
      "Converged to LP: -5031.9:  47%|████▋     | 469/1000 [00:19<00:22, 23.65it/s]\n",
      "Converged to LP: -5120.2:  51%|█████     | 512/1000 [00:20<00:19, 24.92it/s]\n",
      "Converged to LP: -5109.0:  61%|██████    | 610/1000 [00:21<00:13, 27.92it/s]\n",
      "Converged to LP: -5034.4:  54%|█████▍    | 538/1000 [00:22<00:19, 23.81it/s]\n",
      "Converged to LP: -5096.6:  64%|██████▍   | 642/1000 [00:23<00:13, 27.06it/s]\n",
      "Converged to LP: -5096.7:  61%|██████    | 606/1000 [00:23<00:15, 25.48it/s]\n",
      "Converged to LP: -5125.2:  66%|██████▌   | 656/1000 [00:25<00:13, 25.93it/s]\n",
      "LP: -5649.6:   0%|          | 1/1000 [00:00<01:59,  8.37it/s]"
     ]
    },
    {
     "name": "stdout",
     "output_type": "stream",
     "text": [
      "Fitting 5 states...\n"
     ]
    },
    {
     "name": "stderr",
     "output_type": "stream",
     "text": [
      "Converged to LP: -5147.0:  29%|██▊       | 287/1000 [00:13<00:33, 21.59it/s]\n",
      "Converged to LP: -5069.8:  36%|███▋      | 365/1000 [00:18<00:31, 20.11it/s]\n",
      "Converged to LP: -5144.7:  39%|███▉      | 394/1000 [00:22<00:34, 17.52it/s]\n",
      "Converged to LP: -5029.6:  49%|████▊     | 486/1000 [00:26<00:27, 18.55it/s]\n",
      "Converged to LP: -5144.5:  52%|█████▏    | 515/1000 [00:29<00:27, 17.72it/s]\n",
      "Converged to LP: -5064.0:  60%|██████    | 603/1000 [00:30<00:19, 20.02it/s]\n",
      "Converged to LP: -5064.4:  71%|███████▏  | 714/1000 [00:32<00:12, 22.29it/s]\n",
      "Converged to LP: -5071.2:  60%|█████▉    | 597/1000 [00:32<00:21, 18.56it/s]\n",
      "Converged to LP: -5162.9:  60%|██████    | 602/1000 [00:32<00:21, 18.61it/s]\n",
      "Converged to LP: -5066.6:  74%|███████▍  | 741/1000 [00:34<00:12, 21.27it/s]\n",
      "Converged to LP: -5074.1:  76%|███████▋  | 765/1000 [00:36<00:11, 20.86it/s]\n",
      "Converged to LP: -5069.8:  72%|███████▏  | 721/1000 [00:37<00:14, 19.27it/s]\n",
      "Converged to LP: -5065.1:  70%|███████   | 701/1000 [00:38<00:16, 18.08it/s]\n",
      "Converged to LP: -5030.5:  77%|███████▋  | 774/1000 [00:39<00:11, 19.80it/s]\n",
      "Converged to LP: -5059.1:  75%|███████▍  | 748/1000 [00:39<00:13, 18.94it/s]\n",
      "Converged to LP: -5059.1:  67%|██████▋   | 673/1000 [00:39<00:19, 17.02it/s]\n",
      "Converged to LP: -5059.1:  89%|████████▉ | 893/1000 [00:40<00:04, 21.93it/s]\n",
      "Converged to LP: -5146.8:  93%|█████████▎| 927/1000 [00:43<00:03, 21.32it/s]\n",
      "LP: -5119.8: 100%|██████████| 1000/1000 [00:44<00:00, 22.68it/s]\n",
      "LP: -5060.2: 100%|██████████| 1000/1000 [00:46<00:00, 21.68it/s]\n"
     ]
    }
   ],
   "source": [
    "models_glm_hmm_off_med, fit_lls_glm_hmm_off_med = global_fit(off_med_choices_aggregate, off_med_inputs_aggregate, masks=off_med_masks_aggregate, n_iters= 1000, n_initializations=20)"
   ]
  },
  {
   "cell_type": "code",
   "execution_count": 99,
   "metadata": {},
   "outputs": [],
   "source": [
    "# get best model of 20 initializations for each state\n",
    "init_params = {\n",
    "    'glm_weights': {},\n",
    "    'transition_matrices': {}\n",
    "}\n",
    "for n_states in np.arange(2,6):\n",
    "    best_idx = fit_lls_glm_hmm_off_med[n_states].index(max(fit_lls_glm_hmm_off_med[n_states]))\n",
    "    init_params['glm_weights'][n_states] = models_glm_hmm_off_med[n_states][best_idx].observations.params\n",
    "    init_params['transition_matrices'][n_states] = models_glm_hmm_off_med[n_states][best_idx].transitions.params"
   ]
  },
  {
   "cell_type": "code",
   "execution_count": 100,
   "metadata": {},
   "outputs": [
    {
     "name": "stdout",
     "output_type": "stream",
     "text": [
      "Fitting session 0...\n",
      "Fitting 2 states...\n"
     ]
    },
    {
     "name": "stderr",
     "output_type": "stream",
     "text": [
      "Converged to LP: -321.3:   1%|▏         | 13/1000 [00:00<00:03, 324.14it/s]\n",
      "Converged to LP: -318.6:   2%|▏         | 23/1000 [00:00<00:02, 369.70it/s]\n",
      "Converged to LP: -320.1:   3%|▎         | 31/1000 [00:00<00:03, 309.37it/s]\n",
      "Converged to LP: -312.8:   4%|▍         | 42/1000 [00:00<00:03, 316.83it/s]\n",
      "Converged to LP: -300.6:  13%|█▎        | 127/1000 [00:00<00:02, 298.38it/s]\n",
      "Converged to LP: -356.3:   3%|▎         | 29/1000 [00:00<00:03, 274.03it/s]\n",
      "Converged to LP: -358.1:   2%|▎         | 25/1000 [00:00<00:04, 224.53it/s]\n",
      "Converged to LP: -351.7:   2%|▏         | 21/1000 [00:00<00:05, 183.29it/s]\n",
      "Converged to LP: -360.5:   4%|▎         | 36/1000 [00:00<00:03, 268.32it/s]\n",
      "LP: -353.2:   2%|▏         | 16/1000 [00:00<00:06, 158.40it/s]"
     ]
    },
    {
     "name": "stdout",
     "output_type": "stream",
     "text": [
      "Fitting 3 states...\n",
      "Fitting 4 states...\n"
     ]
    },
    {
     "name": "stderr",
     "output_type": "stream",
     "text": [
      "Converged to LP: -353.2:   4%|▎         | 35/1000 [00:00<00:04, 211.66it/s]\n",
      "Converged to LP: -398.6:   5%|▍         | 48/1000 [00:00<00:04, 208.95it/s]\n",
      "Converged to LP: -399.9:   7%|▋         | 72/1000 [00:00<00:04, 208.30it/s]\n",
      "Converged to LP: -397.4:   8%|▊         | 75/1000 [00:00<00:04, 212.56it/s]\n",
      "Converged to LP: -387.2:  11%|█         | 107/1000 [00:00<00:03, 225.43it/s]\n",
      "Converged to LP: -384.5:  37%|███▋      | 370/1000 [00:01<00:02, 246.39it/s]\n",
      "LP: -448.0:   0%|          | 0/1000 [00:00<?, ?it/s]"
     ]
    },
    {
     "name": "stdout",
     "output_type": "stream",
     "text": [
      "Fitting 5 states...\n"
     ]
    },
    {
     "name": "stderr",
     "output_type": "stream",
     "text": [
      "Converged to LP: -448.0:   6%|▋         | 65/1000 [00:00<00:04, 208.83it/s]\n",
      "Converged to LP: -446.8:   7%|▋         | 73/1000 [00:00<00:05, 183.65it/s]\n",
      "Converged to LP: -434.1:  11%|█         | 108/1000 [00:00<00:04, 199.15it/s]\n",
      "Converged to LP: -440.2:  15%|█▌        | 153/1000 [00:00<00:03, 218.10it/s]\n",
      "Converged to LP: -438.6:  16%|█▋        | 163/1000 [00:00<00:03, 212.76it/s]\n",
      "Converged to LP: -307.7:   1%|          | 8/1000 [00:00<00:02, 331.68it/s]\n",
      "Converged to LP: -304.9:   1%|          | 8/1000 [00:00<00:03, 281.54it/s]\n",
      "Converged to LP: -298.9:   1%|          | 7/1000 [00:00<00:04, 198.93it/s]\n",
      "Converged to LP: -309.2:   2%|▏         | 22/1000 [00:00<00:03, 319.38it/s]\n",
      "Converged to LP: -309.6:   2%|▏         | 22/1000 [00:00<00:03, 259.41it/s]\n",
      "LP: -350.1:   0%|          | 0/1000 [00:00<?, ?it/s]"
     ]
    },
    {
     "name": "stdout",
     "output_type": "stream",
     "text": [
      "Fitting session 1...\n",
      "Fitting 2 states...\n",
      "Fitting 3 states...\n"
     ]
    },
    {
     "name": "stderr",
     "output_type": "stream",
     "text": [
      "Converged to LP: -339.9:   1%|          | 10/1000 [00:00<00:04, 226.05it/s]\n",
      "Converged to LP: -348.0:   1%|          | 11/1000 [00:00<00:04, 225.27it/s]\n",
      "Converged to LP: -351.4:   1%|          | 12/1000 [00:00<00:03, 254.42it/s]\n",
      "Converged to LP: -350.9:   1%|▏         | 14/1000 [00:00<00:03, 248.20it/s]\n",
      "Converged to LP: -347.6:   4%|▍         | 39/1000 [00:00<00:03, 255.01it/s]\n",
      "LP: -390.5:   0%|          | 0/1000 [00:00<?, ?it/s]"
     ]
    },
    {
     "name": "stdout",
     "output_type": "stream",
     "text": [
      "Fitting 4 states...\n"
     ]
    },
    {
     "name": "stderr",
     "output_type": "stream",
     "text": [
      "Converged to LP: -387.4:   2%|▏         | 23/1000 [00:00<00:04, 200.78it/s]\n",
      "Converged to LP: -389.2:   4%|▍         | 40/1000 [00:00<00:04, 218.91it/s]\n",
      "Converged to LP: -383.8:   4%|▍         | 45/1000 [00:00<00:03, 240.45it/s]\n",
      "Converged to LP: -385.9:   4%|▍         | 40/1000 [00:00<00:04, 200.05it/s]\n",
      "Converged to LP: -379.5:  12%|█▏        | 122/1000 [00:00<00:03, 275.33it/s]\n",
      "LP: -484.8:   0%|          | 0/1000 [00:00<?, ?it/s]"
     ]
    },
    {
     "name": "stdout",
     "output_type": "stream",
     "text": [
      "Fitting 5 states...\n"
     ]
    },
    {
     "name": "stderr",
     "output_type": "stream",
     "text": [
      "Converged to LP: -432.3:   6%|▌         | 56/1000 [00:00<00:04, 211.12it/s]\n",
      "Converged to LP: -435.7:   8%|▊         | 78/1000 [00:00<00:04, 202.39it/s]\n",
      "Converged to LP: -434.5:  13%|█▎        | 131/1000 [00:00<00:03, 229.53it/s]\n",
      "Converged to LP: -419.8:  12%|█▏        | 115/1000 [00:00<00:04, 197.96it/s]\n",
      "Converged to LP: -422.1:  19%|█▉        | 188/1000 [00:00<00:03, 224.91it/s]\n",
      "Converged to LP: -325.9:   1%|▏         | 14/1000 [00:00<00:03, 267.49it/s]\n",
      "Converged to LP: -313.1:   2%|▏         | 16/1000 [00:00<00:03, 275.87it/s]\n",
      "Converged to LP: -331.8:   3%|▎         | 28/1000 [00:00<00:03, 291.47it/s]\n",
      "Converged to LP: -342.9:   2%|▏         | 23/1000 [00:00<00:04, 220.72it/s]\n",
      "LP: -342.7:   2%|▏         | 21/1000 [00:00<00:04, 209.59it/s]"
     ]
    },
    {
     "name": "stdout",
     "output_type": "stream",
     "text": [
      "Fitting session 2...\n",
      "Fitting 2 states...\n",
      "Fitting 3 states...\n"
     ]
    },
    {
     "name": "stderr",
     "output_type": "stream",
     "text": [
      "Converged to LP: -342.7:   5%|▌         | 50/1000 [00:00<00:03, 271.75it/s]\n",
      "Converged to LP: -366.6:   3%|▎         | 27/1000 [00:00<00:04, 233.06it/s]\n",
      "Converged to LP: -355.3:   4%|▎         | 37/1000 [00:00<00:04, 228.65it/s]\n",
      "Converged to LP: -382.0:   5%|▍         | 48/1000 [00:00<00:03, 241.47it/s]\n",
      "Converged to LP: -358.8:   5%|▌         | 54/1000 [00:00<00:04, 217.89it/s]\n",
      "Converged to LP: -382.9:   6%|▋         | 64/1000 [00:00<00:03, 241.81it/s]\n",
      "LP: -403.1:   2%|▏         | 17/1000 [00:00<00:06, 162.85it/s]"
     ]
    },
    {
     "name": "stdout",
     "output_type": "stream",
     "text": [
      "Fitting 4 states...\n"
     ]
    },
    {
     "name": "stderr",
     "output_type": "stream",
     "text": [
      "Converged to LP: -426.6:   5%|▍         | 46/1000 [00:00<00:04, 210.60it/s]\n",
      "Converged to LP: -398.4:   9%|▊         | 87/1000 [00:00<00:03, 241.94it/s]\n",
      "Converged to LP: -420.1:  12%|█▏        | 122/1000 [00:00<00:04, 208.49it/s]\n",
      "Converged to LP: -409.8:  21%|██        | 211/1000 [00:00<00:02, 263.34it/s]\n",
      "Converged to LP: -396.8:  19%|█▉        | 192/1000 [00:00<00:03, 223.01it/s]\n",
      "LP: -473.6:   0%|          | 0/1000 [00:00<?, ?it/s]"
     ]
    },
    {
     "name": "stdout",
     "output_type": "stream",
     "text": [
      "Fitting 5 states...\n"
     ]
    },
    {
     "name": "stderr",
     "output_type": "stream",
     "text": [
      "Converged to LP: -446.3:  14%|█▎        | 135/1000 [00:00<00:04, 202.94it/s]\n",
      "Converged to LP: -456.9:  16%|█▌        | 157/1000 [00:00<00:03, 213.88it/s]\n",
      "Converged to LP: -439.0:  18%|█▊        | 184/1000 [00:00<00:03, 211.81it/s]\n",
      "Converged to LP: -448.3:  29%|██▊       | 287/1000 [00:01<00:03, 231.39it/s]\n",
      "Converged to LP: -464.1:  29%|██▊       | 286/1000 [00:01<00:03, 217.32it/s]\n",
      "Converged to LP: -266.5:   2%|▏         | 22/1000 [00:00<00:03, 278.41it/s]\n",
      "LP: -265.3:   3%|▎         | 29/1000 [00:00<00:03, 288.06it/s]"
     ]
    },
    {
     "name": "stdout",
     "output_type": "stream",
     "text": [
      "Fitting session 3...\n",
      "Fitting 2 states...\n"
     ]
    },
    {
     "name": "stderr",
     "output_type": "stream",
     "text": [
      "Converged to LP: -264.9:   6%|▋         | 65/1000 [00:00<00:02, 323.30it/s]\n",
      "Converged to LP: -275.2:  13%|█▎        | 129/1000 [00:00<00:02, 314.31it/s]\n",
      "Converged to LP: -264.9:  22%|██▏       | 217/1000 [00:00<00:01, 422.46it/s]\n",
      "Converged to LP: -272.1:  23%|██▎       | 233/1000 [00:00<00:01, 389.92it/s]\n",
      "Converged to LP: -303.5:   2%|▏         | 20/1000 [00:00<00:04, 227.35it/s]\n",
      "Converged to LP: -298.1:   2%|▎         | 25/1000 [00:00<00:04, 221.91it/s]\n",
      "LP: -312.0:   2%|▏         | 20/1000 [00:00<00:05, 190.82it/s]"
     ]
    },
    {
     "name": "stdout",
     "output_type": "stream",
     "text": [
      "Fitting 3 states...\n"
     ]
    },
    {
     "name": "stderr",
     "output_type": "stream",
     "text": [
      "Converged to LP: -299.8:   5%|▍         | 47/1000 [00:00<00:03, 239.93it/s]\n",
      "Converged to LP: -307.7:   5%|▌         | 54/1000 [00:00<00:03, 243.24it/s]\n",
      "Converged to LP: -309.7:  12%|█▏        | 124/1000 [00:00<00:03, 285.24it/s]\n",
      "LP: -361.0:   0%|          | 0/1000 [00:00<?, ?it/s]"
     ]
    },
    {
     "name": "stdout",
     "output_type": "stream",
     "text": [
      "Fitting 4 states...\n"
     ]
    },
    {
     "name": "stderr",
     "output_type": "stream",
     "text": [
      "Converged to LP: -342.2:   9%|▉         | 90/1000 [00:00<00:04, 214.53it/s]\n",
      "Converged to LP: -342.2:  12%|█▏        | 124/1000 [00:00<00:03, 255.82it/s]\n",
      "Converged to LP: -346.0:  19%|█▉        | 190/1000 [00:00<00:03, 247.54it/s]\n",
      "Converged to LP: -352.3:  24%|██▍       | 244/1000 [00:00<00:02, 264.27it/s]\n",
      "Converged to LP: -346.6:  28%|██▊       | 281/1000 [00:01<00:03, 228.68it/s]\n",
      "LP: -415.8:   0%|          | 0/1000 [00:00<?, ?it/s]"
     ]
    },
    {
     "name": "stdout",
     "output_type": "stream",
     "text": [
      "Fitting 5 states...\n"
     ]
    },
    {
     "name": "stderr",
     "output_type": "stream",
     "text": [
      "Converged to LP: -401.2:   8%|▊         | 84/1000 [00:00<00:05, 173.46it/s]\n",
      "Converged to LP: -388.0:  10%|█         | 104/1000 [00:00<00:04, 192.58it/s]\n",
      "Converged to LP: -396.2:  15%|█▍        | 147/1000 [00:00<00:03, 217.42it/s]\n",
      "Converged to LP: -397.0:  17%|█▋        | 168/1000 [00:00<00:04, 201.90it/s]\n",
      "Converged to LP: -388.6:  22%|██▏       | 224/1000 [00:01<00:03, 204.13it/s]\n",
      "Converged to LP: -372.4:   1%|▏         | 14/1000 [00:00<00:03, 309.58it/s]\n",
      "Converged to LP: -375.0:   2%|▏         | 24/1000 [00:00<00:02, 328.63it/s]\n",
      "Converged to LP: -374.7:   3%|▎         | 27/1000 [00:00<00:03, 315.41it/s]\n",
      "Converged to LP: -380.6:   4%|▎         | 35/1000 [00:00<00:03, 300.81it/s]\n",
      "LP: -381.4:   3%|▎         | 31/1000 [00:00<00:03, 301.88it/s]"
     ]
    },
    {
     "name": "stdout",
     "output_type": "stream",
     "text": [
      "Fitting session 4...\n",
      "Fitting 2 states...\n"
     ]
    },
    {
     "name": "stderr",
     "output_type": "stream",
     "text": [
      "Converged to LP: -381.4:   6%|▋         | 64/1000 [00:00<00:02, 323.60it/s]\n",
      "Converged to LP: -408.8:   2%|▏         | 19/1000 [00:00<00:04, 235.24it/s]\n",
      "Converged to LP: -423.7:   2%|▎         | 25/1000 [00:00<00:04, 240.57it/s]\n",
      "LP: -411.2:   2%|▏         | 22/1000 [00:00<00:04, 215.44it/s]"
     ]
    },
    {
     "name": "stdout",
     "output_type": "stream",
     "text": [
      "Fitting 3 states...\n"
     ]
    },
    {
     "name": "stderr",
     "output_type": "stream",
     "text": [
      "Converged to LP: -411.2:   4%|▍         | 44/1000 [00:00<00:03, 264.40it/s]\n",
      "Converged to LP: -418.8:   6%|▌         | 55/1000 [00:00<00:03, 252.95it/s]\n",
      "Converged to LP: -409.0:   7%|▋         | 69/1000 [00:00<00:03, 256.74it/s]\n",
      "LP: -452.0:   0%|          | 0/1000 [00:00<?, ?it/s]"
     ]
    },
    {
     "name": "stdout",
     "output_type": "stream",
     "text": [
      "Fitting 4 states...\n"
     ]
    },
    {
     "name": "stderr",
     "output_type": "stream",
     "text": [
      "Converged to LP: -457.0:   2%|▎         | 25/1000 [00:00<00:04, 210.90it/s]\n",
      "Converged to LP: -459.7:   8%|▊         | 76/1000 [00:00<00:04, 216.21it/s]\n",
      "Converged to LP: -463.5:   8%|▊         | 85/1000 [00:00<00:03, 244.38it/s]\n",
      "Converged to LP: -450.6:  14%|█▍        | 145/1000 [00:00<00:03, 254.84it/s]\n",
      "Converged to LP: -455.8:  16%|█▌        | 158/1000 [00:00<00:03, 221.45it/s]\n",
      "LP: -491.8:   1%|          | 12/1000 [00:00<00:08, 116.85it/s]"
     ]
    },
    {
     "name": "stdout",
     "output_type": "stream",
     "text": [
      "Fitting 5 states...\n"
     ]
    },
    {
     "name": "stderr",
     "output_type": "stream",
     "text": [
      "Converged to LP: -498.0:   6%|▌         | 55/1000 [00:00<00:05, 185.15it/s]\n",
      "LP: -506.7:  12%|█▏        | 115/1000 [00:00<00:04, 204.45it/s], 195.82it/s]\n",
      "Converged to LP: -505.8:  20%|█▉        | 195/1000 [00:00<00:03, 205.28it/s]\n",
      "Converged to LP: -492.7:  22%|██▏       | 216/1000 [00:00<00:03, 220.57it/s]\n",
      "Converged to LP: -488.1:  21%|██        | 209/1000 [00:01<00:03, 204.74it/s]\n",
      "Converged to LP: -301.2:   1%|          | 7/1000 [00:00<00:04, 238.23it/s]\n",
      "Converged to LP: -305.4:   1%|          | 8/1000 [00:00<00:04, 246.21it/s]\n",
      "Converged to LP: -306.2:   1%|          | 10/1000 [00:00<00:04, 235.02it/s]\n",
      "Converged to LP: -301.1:   1%|          | 12/1000 [00:00<00:03, 269.42it/s]\n",
      "Converged to LP: -316.8:   2%|▏         | 15/1000 [00:00<00:05, 190.61it/s]\n",
      "Converged to LP: -336.0:   1%|          | 8/1000 [00:00<00:04, 201.08it/s]\n",
      "Converged to LP: -336.1:   1%|          | 10/1000 [00:00<00:04, 239.31it/s]\n",
      "Converged to LP: -354.7:   1%|          | 9/1000 [00:00<00:04, 207.10it/s]\n"
     ]
    },
    {
     "name": "stdout",
     "output_type": "stream",
     "text": [
      "Fitting session 5...\n",
      "Fitting 2 states...\n",
      "Fitting 3 states...\n",
      "Fitting 4 states...\n"
     ]
    },
    {
     "name": "stderr",
     "output_type": "stream",
     "text": [
      "Converged to LP: -338.0:   1%|          | 12/1000 [00:00<00:04, 241.66it/s]\n",
      "Converged to LP: -341.2:   1%|▏         | 13/1000 [00:00<00:04, 229.28it/s]\n",
      "Converged to LP: -394.2:   7%|▋         | 66/1000 [00:00<00:03, 238.16it/s]\n",
      "Converged to LP: -376.2:   6%|▋         | 65/1000 [00:00<00:04, 199.52it/s]\n",
      "Converged to LP: -376.3:   8%|▊         | 82/1000 [00:00<00:03, 241.51it/s]\n",
      "Converged to LP: -375.4:  10%|█         | 104/1000 [00:00<00:03, 241.98it/s]\n",
      "Converged to LP: -378.3:  22%|██▎       | 225/1000 [00:00<00:02, 263.29it/s]\n",
      "LP: -420.4:   2%|▏         | 15/1000 [00:00<00:06, 144.22it/s]"
     ]
    },
    {
     "name": "stdout",
     "output_type": "stream",
     "text": [
      "Fitting 5 states...\n"
     ]
    },
    {
     "name": "stderr",
     "output_type": "stream",
     "text": [
      "Converged to LP: -418.7:   8%|▊         | 75/1000 [00:00<00:04, 187.88it/s]\n",
      "Converged to LP: -439.4:   9%|▉         | 91/1000 [00:00<00:04, 188.33it/s]\n",
      "Converged to LP: -422.0:   9%|▉         | 93/1000 [00:00<00:04, 187.60it/s]\n",
      "Converged to LP: -424.2:  12%|█▏        | 124/1000 [00:00<00:03, 219.79it/s]\n",
      "Converged to LP: -428.6:  15%|█▌        | 151/1000 [00:00<00:03, 217.83it/s]\n",
      "LP: -254.5:   0%|          | 0/1000 [00:00<?, ?it/s]"
     ]
    },
    {
     "name": "stdout",
     "output_type": "stream",
     "text": [
      "Fitting session 6...\n",
      "Fitting 2 states...\n"
     ]
    },
    {
     "name": "stderr",
     "output_type": "stream",
     "text": [
      "Converged to LP: -254.5:   1%|          | 12/1000 [00:00<00:02, 351.95it/s]\n",
      "Converged to LP: -267.4:   4%|▍         | 43/1000 [00:00<00:03, 285.00it/s]\n",
      "Converged to LP: -253.6:   9%|▉         | 94/1000 [00:00<00:02, 342.18it/s]\n",
      "Converged to LP: -266.4:  15%|█▍        | 149/1000 [00:00<00:02, 374.13it/s]\n",
      "Converged to LP: -259.4:  17%|█▋        | 168/1000 [00:00<00:02, 372.94it/s]\n",
      "Converged to LP: -314.0:   3%|▎         | 30/1000 [00:00<00:04, 231.05it/s]\n",
      "LP: -307.2:   2%|▏         | 23/1000 [00:00<00:04, 226.37it/s]"
     ]
    },
    {
     "name": "stdout",
     "output_type": "stream",
     "text": [
      "Fitting 3 states...\n"
     ]
    },
    {
     "name": "stderr",
     "output_type": "stream",
     "text": [
      "Converged to LP: -288.9:   5%|▌         | 50/1000 [00:00<00:03, 244.63it/s]\n",
      "Converged to LP: -296.1:   6%|▌         | 59/1000 [00:00<00:03, 257.25it/s]\n",
      "Converged to LP: -304.2:   8%|▊         | 82/1000 [00:00<00:03, 276.14it/s]\n",
      "Converged to LP: -305.4:  17%|█▋        | 168/1000 [00:00<00:02, 299.00it/s]\n"
     ]
    },
    {
     "name": "stdout",
     "output_type": "stream",
     "text": [
      "Fitting 4 states...\n"
     ]
    },
    {
     "name": "stderr",
     "output_type": "stream",
     "text": [
      "Converged to LP: -343.5:   5%|▌         | 50/1000 [00:00<00:04, 198.31it/s]\n",
      "Converged to LP: -345.8:   6%|▋         | 65/1000 [00:00<00:04, 233.30it/s]\n",
      "Converged to LP: -353.7:  11%|█         | 106/1000 [00:00<00:03, 239.27it/s]\n",
      "Converged to LP: -342.7:  11%|█         | 110/1000 [00:00<00:04, 219.90it/s]\n",
      "Converged to LP: -339.9:  27%|██▋       | 272/1000 [00:01<00:02, 269.28it/s]\n",
      "LP: -398.0:   2%|▏         | 17/1000 [00:00<00:06, 163.07it/s]"
     ]
    },
    {
     "name": "stdout",
     "output_type": "stream",
     "text": [
      "Fitting 5 states...\n"
     ]
    },
    {
     "name": "stderr",
     "output_type": "stream",
     "text": [
      "Converged to LP: -398.0:   4%|▎         | 37/1000 [00:00<00:05, 177.92it/s]\n",
      "Converged to LP: -400.1:   5%|▍         | 46/1000 [00:00<00:05, 183.06it/s]\n",
      "Converged to LP: -379.4:   7%|▋         | 73/1000 [00:00<00:04, 201.49it/s]\n",
      "Converged to LP: -402.6:  10%|█         | 105/1000 [00:00<00:04, 218.46it/s]\n",
      "Converged to LP: -386.6:  15%|█▍        | 147/1000 [00:00<00:04, 198.93it/s]\n",
      "LP: -248.5:   0%|          | 0/1000 [00:00<?, ?it/s]"
     ]
    },
    {
     "name": "stdout",
     "output_type": "stream",
     "text": [
      "Fitting session 7...\n",
      "Fitting 2 states...\n"
     ]
    },
    {
     "name": "stderr",
     "output_type": "stream",
     "text": [
      "Converged to LP: -248.4:   2%|▏         | 15/1000 [00:00<00:03, 296.27it/s]\n",
      "Converged to LP: -260.2:   3%|▎         | 27/1000 [00:00<00:03, 302.75it/s]\n",
      "Converged to LP: -249.6:   3%|▎         | 32/1000 [00:00<00:03, 265.38it/s]\n",
      "Converged to LP: -256.1:  14%|█▍        | 139/1000 [00:00<00:02, 334.91it/s]\n",
      "Converged to LP: -248.9:  25%|██▌       | 251/1000 [00:00<00:01, 380.20it/s]\n",
      "Converged to LP: -294.6:   3%|▎         | 28/1000 [00:00<00:03, 255.03it/s]\n",
      "LP: -300.3:   2%|▏         | 22/1000 [00:00<00:04, 212.15it/s]"
     ]
    },
    {
     "name": "stdout",
     "output_type": "stream",
     "text": [
      "Fitting 3 states...\n"
     ]
    },
    {
     "name": "stderr",
     "output_type": "stream",
     "text": [
      "Converged to LP: -292.9:   7%|▋         | 66/1000 [00:00<00:03, 268.93it/s]\n",
      "Converged to LP: -299.3:  12%|█▏        | 115/1000 [00:00<00:03, 277.03it/s]\n",
      "Converged to LP: -298.4:  11%|█▏        | 113/1000 [00:00<00:03, 257.88it/s]\n",
      "Converged to LP: -291.1:  14%|█▍        | 145/1000 [00:00<00:03, 270.65it/s]\n",
      "LP: -344.6:   0%|          | 0/1000 [00:00<?, ?it/s]"
     ]
    },
    {
     "name": "stdout",
     "output_type": "stream",
     "text": [
      "Fitting 4 states...\n"
     ]
    },
    {
     "name": "stderr",
     "output_type": "stream",
     "text": [
      "Converged to LP: -339.8:  13%|█▎        | 130/1000 [00:00<00:03, 260.39it/s]\n",
      "Converged to LP: -329.0:  14%|█▍        | 143/1000 [00:00<00:03, 240.19it/s]\n",
      "Converged to LP: -338.7:  24%|██▎       | 237/1000 [00:00<00:03, 239.30it/s]\n",
      "Converged to LP: -329.3:  34%|███▍      | 340/1000 [00:01<00:02, 260.27it/s]\n",
      "Converged to LP: -333.0:  50%|████▉     | 496/1000 [00:01<00:01, 272.93it/s]\n",
      "LP: -410.2:   0%|          | 0/1000 [00:00<?, ?it/s]"
     ]
    },
    {
     "name": "stdout",
     "output_type": "stream",
     "text": [
      "Fitting 5 states...\n"
     ]
    },
    {
     "name": "stderr",
     "output_type": "stream",
     "text": [
      "Converged to LP: -388.4:   9%|▉         | 90/1000 [00:00<00:04, 209.80it/s]\n",
      "Converged to LP: -388.1:  10%|█         | 101/1000 [00:00<00:04, 197.24it/s]\n",
      "Converged to LP: -379.9:  11%|█         | 109/1000 [00:00<00:04, 182.70it/s]\n",
      "Converged to LP: -382.8:  15%|█▍        | 149/1000 [00:00<00:04, 211.03it/s]\n",
      "Converged to LP: -378.4:  24%|██▎       | 236/1000 [00:01<00:03, 195.55it/s]\n",
      "LP: -367.3:   0%|          | 0/1000 [00:00<?, ?it/s]"
     ]
    },
    {
     "name": "stdout",
     "output_type": "stream",
     "text": [
      "Fitting session 8...\n",
      "Fitting 2 states...\n",
      "Fitting 3 states...\n"
     ]
    },
    {
     "name": "stderr",
     "output_type": "stream",
     "text": [
      "Converged to LP: -366.5:   1%|          | 9/1000 [00:00<00:03, 301.96it/s]\n",
      "Converged to LP: -355.7:   1%|          | 9/1000 [00:00<00:03, 299.46it/s]\n",
      "Converged to LP: -356.1:   1%|          | 12/1000 [00:00<00:03, 295.66it/s]\n",
      "Converged to LP: -365.0:   1%|▏         | 14/1000 [00:00<00:03, 322.86it/s]\n",
      "Converged to LP: -362.4:   1%|          | 9/1000 [00:00<00:05, 173.11it/s]\n",
      "Converged to LP: -401.4:   2%|▏         | 17/1000 [00:00<00:04, 235.48it/s]\n",
      "Converged to LP: -399.7:   2%|▏         | 22/1000 [00:00<00:04, 238.76it/s]\n",
      "Converged to LP: -408.9:   4%|▍         | 41/1000 [00:00<00:03, 263.99it/s]\n",
      "Converged to LP: -398.6:   4%|▍         | 45/1000 [00:00<00:03, 267.55it/s]\n",
      "Converged to LP: -400.5:   8%|▊         | 77/1000 [00:00<00:03, 236.83it/s]\n",
      "LP: -455.0:   0%|          | 0/1000 [00:00<?, ?it/s]"
     ]
    },
    {
     "name": "stdout",
     "output_type": "stream",
     "text": [
      "Fitting 4 states...\n"
     ]
    },
    {
     "name": "stderr",
     "output_type": "stream",
     "text": [
      "Converged to LP: -443.8:   4%|▍         | 44/1000 [00:00<00:04, 225.62it/s]\n",
      "Converged to LP: -440.6:   5%|▌         | 54/1000 [00:00<00:04, 224.06it/s]\n",
      "Converged to LP: -442.5:   9%|▊         | 86/1000 [00:00<00:03, 244.54it/s]\n",
      "Converged to LP: -454.3:  14%|█▎        | 137/1000 [00:00<00:03, 264.86it/s]\n",
      "Converged to LP: -443.1:  32%|███▎      | 325/1000 [00:01<00:02, 266.32it/s]\n",
      "LP: -507.1:   0%|          | 0/1000 [00:00<?, ?it/s]"
     ]
    },
    {
     "name": "stdout",
     "output_type": "stream",
     "text": [
      "Fitting 5 states...\n"
     ]
    },
    {
     "name": "stderr",
     "output_type": "stream",
     "text": [
      "Converged to LP: -490.3:   8%|▊         | 80/1000 [00:00<00:05, 177.72it/s]\n",
      "Converged to LP: -488.3:   9%|▉         | 92/1000 [00:00<00:04, 190.54it/s]\n",
      "Converged to LP: -472.1:  10%|█         | 103/1000 [00:00<00:05, 174.73it/s]\n",
      "Converged to LP: -483.4:  17%|█▋        | 174/1000 [00:00<00:03, 217.86it/s]\n",
      "Converged to LP: -479.5:  21%|██        | 208/1000 [00:01<00:03, 203.91it/s]\n",
      "Converged to LP: -341.4:   1%|          | 7/1000 [00:00<00:03, 307.49it/s]\n",
      "Converged to LP: -330.8:   1%|          | 6/1000 [00:00<00:03, 319.28it/s]\n",
      "Converged to LP: -339.4:   1%|          | 8/1000 [00:00<00:03, 284.32it/s]\n",
      "Converged to LP: -335.1:   1%|          | 9/1000 [00:00<00:03, 324.52it/s]\n",
      "Converged to LP: -337.6:   1%|          | 6/1000 [00:00<00:05, 169.45it/s]\n",
      "Converged to LP: -382.6:   1%|          | 8/1000 [00:00<00:04, 219.65it/s]\n",
      "Converged to LP: -385.0:   2%|▏         | 18/1000 [00:00<00:04, 242.73it/s]\n",
      "Converged to LP: -380.1:   2%|▏         | 20/1000 [00:00<00:03, 246.49it/s]\n",
      "Converged to LP: -375.0:   2%|▏         | 24/1000 [00:00<00:03, 248.12it/s]\n",
      "Converged to LP: -375.8:   3%|▎         | 26/1000 [00:00<00:04, 241.28it/s]\n",
      "LP: -425.2:   0%|          | 0/1000 [00:00<?, ?it/s]"
     ]
    },
    {
     "name": "stdout",
     "output_type": "stream",
     "text": [
      "Fitting session 9...\n",
      "Fitting 2 states...\n",
      "Fitting 3 states...\n",
      "Fitting 4 states...\n"
     ]
    },
    {
     "name": "stderr",
     "output_type": "stream",
     "text": [
      "Converged to LP: -415.9:   3%|▎         | 27/1000 [00:00<00:05, 184.50it/s]\n",
      "Converged to LP: -417.4:   4%|▍         | 39/1000 [00:00<00:04, 237.70it/s]\n",
      "Converged to LP: -419.8:  12%|█▏        | 115/1000 [00:00<00:03, 240.32it/s]\n",
      "Converged to LP: -416.8:  12%|█▏        | 118/1000 [00:00<00:03, 235.12it/s]\n",
      "Converged to LP: -422.0:  12%|█▏        | 121/1000 [00:00<00:04, 218.30it/s]\n",
      "LP: -461.0:   0%|          | 0/1000 [00:00<?, ?it/s]"
     ]
    },
    {
     "name": "stdout",
     "output_type": "stream",
     "text": [
      "Fitting 5 states...\n"
     ]
    },
    {
     "name": "stderr",
     "output_type": "stream",
     "text": [
      "Converged to LP: -447.7:   4%|▍         | 44/1000 [00:00<00:05, 190.05it/s]\n",
      "Converged to LP: -441.5:   8%|▊         | 79/1000 [00:00<00:04, 213.91it/s]\n",
      "Converged to LP: -445.8:   7%|▋         | 74/1000 [00:00<00:05, 181.19it/s]\n",
      "Converged to LP: -457.7:   9%|▉         | 88/1000 [00:00<00:04, 201.16it/s]\n",
      "Converged to LP: -450.4:  10%|█         | 100/1000 [00:00<00:04, 194.61it/s]\n",
      "Converged to LP: -336.4:   1%|          | 11/1000 [00:00<00:05, 177.89it/s]\n",
      "Converged to LP: -347.7:   4%|▎         | 35/1000 [00:00<00:03, 319.58it/s]\n",
      "Converged to LP: -334.6:   5%|▍         | 47/1000 [00:00<00:02, 334.32it/s]\n",
      "LP: -337.6:   3%|▎         | 30/1000 [00:00<00:03, 297.72it/s]"
     ]
    },
    {
     "name": "stdout",
     "output_type": "stream",
     "text": [
      "Fitting session 10...\n",
      "Fitting 2 states...\n"
     ]
    },
    {
     "name": "stderr",
     "output_type": "stream",
     "text": [
      "Converged to LP: -329.5:   4%|▍         | 40/1000 [00:00<00:03, 272.94it/s]\n",
      "Converged to LP: -336.3:  13%|█▎        | 133/1000 [00:00<00:02, 314.97it/s]\n",
      "LP: -383.6:   2%|▏         | 23/1000 [00:00<00:04, 224.54it/s]"
     ]
    },
    {
     "name": "stdout",
     "output_type": "stream",
     "text": [
      "Fitting 3 states...\n"
     ]
    },
    {
     "name": "stderr",
     "output_type": "stream",
     "text": [
      "Converged to LP: -391.2:   5%|▌         | 50/1000 [00:00<00:03, 251.97it/s]\n",
      "Converged to LP: -372.6:   5%|▌         | 52/1000 [00:00<00:04, 235.71it/s]\n",
      "Converged to LP: -375.7:   6%|▌         | 55/1000 [00:00<00:03, 241.18it/s]\n",
      "Converged to LP: -376.4:   7%|▋         | 74/1000 [00:00<00:03, 272.73it/s]\n",
      "Converged to LP: -381.2:  12%|█▏        | 122/1000 [00:00<00:03, 246.40it/s]\n",
      "LP: -453.1:   0%|          | 0/1000 [00:00<?, ?it/s]"
     ]
    },
    {
     "name": "stdout",
     "output_type": "stream",
     "text": [
      "Fitting 4 states...\n"
     ]
    },
    {
     "name": "stderr",
     "output_type": "stream",
     "text": [
      "Converged to LP: -408.9:   5%|▌         | 54/1000 [00:00<00:04, 195.05it/s]\n",
      "Converged to LP: -412.4:   6%|▌         | 58/1000 [00:00<00:04, 195.65it/s]\n",
      "Converged to LP: -412.6:  17%|█▋        | 174/1000 [00:00<00:03, 255.00it/s]\n",
      "Converged to LP: -433.5:  17%|█▋        | 173/1000 [00:00<00:03, 218.19it/s]\n",
      "Converged to LP: -424.2:  24%|██▍       | 242/1000 [00:00<00:02, 257.48it/s]\n",
      "LP: -488.9:   0%|          | 0/1000 [00:00<?, ?it/s]"
     ]
    },
    {
     "name": "stdout",
     "output_type": "stream",
     "text": [
      "Fitting 5 states...\n"
     ]
    },
    {
     "name": "stderr",
     "output_type": "stream",
     "text": [
      "Converged to LP: -466.2:  10%|▉         | 99/1000 [00:00<00:05, 179.11it/s]\n",
      "Converged to LP: -463.8:  15%|█▌        | 151/1000 [00:00<00:03, 215.89it/s]\n",
      "Converged to LP: -463.8:  18%|█▊        | 185/1000 [00:00<00:03, 207.04it/s]\n",
      "Converged to LP: -458.3:  37%|███▋      | 374/1000 [00:01<00:02, 215.04it/s]\n",
      "Converged to LP: -461.7:  45%|████▌     | 453/1000 [00:02<00:02, 220.75it/s]\n",
      "LP: -347.6:   0%|          | 0/1000 [00:00<?, ?it/s]"
     ]
    },
    {
     "name": "stdout",
     "output_type": "stream",
     "text": [
      "Fitting session 11...\n",
      "Fitting 2 states...\n",
      "Fitting 3 states...\n"
     ]
    },
    {
     "name": "stderr",
     "output_type": "stream",
     "text": [
      "Converged to LP: -341.6:   1%|▏         | 14/1000 [00:00<00:03, 248.50it/s]\n",
      "Converged to LP: -334.9:   2%|▏         | 17/1000 [00:00<00:03, 276.66it/s]\n",
      "Converged to LP: -347.4:   2%|▏         | 20/1000 [00:00<00:03, 309.89it/s]\n",
      "Converged to LP: -353.7:   2%|▎         | 25/1000 [00:00<00:03, 298.79it/s]\n",
      "Converged to LP: -349.2:   6%|▌         | 59/1000 [00:00<00:03, 313.06it/s]\n",
      "Converged to LP: -376.0:   2%|▏         | 24/1000 [00:00<00:04, 230.70it/s]\n",
      "Converged to LP: -387.1:   3%|▎         | 33/1000 [00:00<00:04, 232.13it/s]\n",
      "Converged to LP: -371.4:   4%|▍         | 42/1000 [00:00<00:04, 204.36it/s]\n",
      "Converged to LP: -395.9:   6%|▋         | 63/1000 [00:00<00:04, 227.47it/s]\n",
      "Converged to LP: -379.9:   9%|▉         | 89/1000 [00:00<00:03, 272.30it/s]\n",
      "LP: -419.2:   0%|          | 0/1000 [00:00<?, ?it/s]"
     ]
    },
    {
     "name": "stdout",
     "output_type": "stream",
     "text": [
      "Fitting 4 states...\n"
     ]
    },
    {
     "name": "stderr",
     "output_type": "stream",
     "text": [
      "Converged to LP: -424.8:  10%|▉         | 96/1000 [00:00<00:03, 233.64it/s]\n",
      "Converged to LP: -424.1:  12%|█▏        | 119/1000 [00:00<00:03, 224.34it/s]\n",
      "Converged to LP: -419.7:  18%|█▊        | 178/1000 [00:00<00:03, 238.45it/s]\n",
      "Converged to LP: -412.4:  19%|█▉        | 193/1000 [00:00<00:03, 248.72it/s]\n",
      "Converged to LP: -425.4:  19%|█▊        | 186/1000 [00:00<00:03, 237.21it/s]\n",
      "LP: -478.1:   0%|          | 0/1000 [00:00<?, ?it/s]"
     ]
    },
    {
     "name": "stdout",
     "output_type": "stream",
     "text": [
      "Fitting 5 states...\n"
     ]
    },
    {
     "name": "stderr",
     "output_type": "stream",
     "text": [
      "Converged to LP: -455.3:  15%|█▌        | 151/1000 [00:00<00:04, 171.52it/s]\n",
      "Converged to LP: -462.6:  22%|██▏       | 224/1000 [00:01<00:03, 196.10it/s]\n",
      "Converged to LP: -471.6:  24%|██▎       | 237/1000 [00:01<00:03, 206.35it/s]\n",
      "Converged to LP: -447.5:  34%|███▍      | 338/1000 [00:01<00:02, 221.63it/s]\n",
      "Converged to LP: -468.1:  31%|███       | 311/1000 [00:01<00:03, 203.04it/s]\n",
      "Converged to LP: -319.5:   1%|          | 9/1000 [00:00<00:04, 246.27it/s]\n",
      "Converged to LP: -322.0:   1%|▏         | 14/1000 [00:00<00:03, 289.25it/s]\n",
      "Converged to LP: -318.9:   2%|▎         | 25/1000 [00:00<00:03, 294.85it/s]\n",
      "Converged to LP: -323.8:   3%|▎         | 32/1000 [00:00<00:03, 298.59it/s]\n",
      "LP: -323.6:   3%|▎         | 30/1000 [00:00<00:03, 297.56it/s]"
     ]
    },
    {
     "name": "stdout",
     "output_type": "stream",
     "text": [
      "Fitting session 12...\n",
      "Fitting 2 states...\n"
     ]
    },
    {
     "name": "stderr",
     "output_type": "stream",
     "text": [
      "Converged to LP: -317.8:   6%|▌         | 60/1000 [00:00<00:03, 306.46it/s]\n",
      "Converged to LP: -364.8:   2%|▏         | 19/1000 [00:00<00:03, 256.53it/s]\n",
      "Converged to LP: -360.4:   2%|▏         | 21/1000 [00:00<00:04, 244.35it/s]\n",
      "Converged to LP: -363.8:   3%|▎         | 27/1000 [00:00<00:03, 258.68it/s]\n",
      "Converged to LP: -363.5:   4%|▎         | 36/1000 [00:00<00:03, 254.40it/s]\n",
      "LP: -355.4:   2%|▏         | 22/1000 [00:00<00:04, 219.02it/s]"
     ]
    },
    {
     "name": "stdout",
     "output_type": "stream",
     "text": [
      "Fitting 3 states...\n",
      "Fitting 4 states...\n"
     ]
    },
    {
     "name": "stderr",
     "output_type": "stream",
     "text": [
      "Converged to LP: -355.4:   4%|▍         | 42/1000 [00:00<00:03, 256.15it/s]\n",
      "Converged to LP: -402.5:  10%|▉         | 99/1000 [00:00<00:03, 227.68it/s]\n",
      "Converged to LP: -409.5:  11%|█         | 111/1000 [00:00<00:03, 250.03it/s]\n",
      "Converged to LP: -400.9:  12%|█▏        | 124/1000 [00:00<00:03, 248.50it/s]\n",
      "Converged to LP: -389.5:  13%|█▎        | 126/1000 [00:00<00:04, 217.47it/s]\n",
      "Converged to LP: -403.3:  22%|██▏       | 218/1000 [00:00<00:02, 267.43it/s]\n",
      "LP: -440.7:   1%|▏         | 14/1000 [00:00<00:07, 138.10it/s]"
     ]
    },
    {
     "name": "stdout",
     "output_type": "stream",
     "text": [
      "Fitting 5 states...\n"
     ]
    },
    {
     "name": "stderr",
     "output_type": "stream",
     "text": [
      "Converged to LP: -439.3:   9%|▉         | 89/1000 [00:00<00:05, 182.06it/s]\n",
      "Converged to LP: -447.4:  12%|█▏        | 116/1000 [00:00<00:04, 207.82it/s]\n",
      "Converged to LP: -439.3:  15%|█▍        | 146/1000 [00:00<00:04, 196.23it/s]\n",
      "Converged to LP: -431.7:  15%|█▍        | 147/1000 [00:00<00:04, 182.84it/s]\n",
      "Converged to LP: -453.0:  25%|██▍       | 248/1000 [00:01<00:03, 221.64it/s]\n",
      "LP: -346.1:   0%|          | 0/1000 [00:00<?, ?it/s]"
     ]
    },
    {
     "name": "stdout",
     "output_type": "stream",
     "text": [
      "Fitting session 13...\n",
      "Fitting 2 states...\n",
      "Fitting 3 states...\n"
     ]
    },
    {
     "name": "stderr",
     "output_type": "stream",
     "text": [
      "Converged to LP: -346.1:   1%|▏         | 14/1000 [00:00<00:03, 255.29it/s]\n",
      "Converged to LP: -353.6:   2%|▏         | 17/1000 [00:00<00:03, 277.66it/s]\n",
      "Converged to LP: -355.8:   3%|▎         | 29/1000 [00:00<00:03, 291.64it/s]\n",
      "Converged to LP: -349.6:   4%|▎         | 36/1000 [00:00<00:03, 293.88it/s]\n",
      "Converged to LP: -343.4:   4%|▍         | 39/1000 [00:00<00:03, 312.58it/s]\n",
      "Converged to LP: -390.2:   3%|▎         | 26/1000 [00:00<00:04, 241.65it/s]\n",
      "Converged to LP: -396.8:   3%|▎         | 27/1000 [00:00<00:03, 251.74it/s]\n",
      "Converged to LP: -382.6:   3%|▎         | 29/1000 [00:00<00:03, 266.70it/s]\n",
      "Converged to LP: -388.4:   3%|▎         | 26/1000 [00:00<00:04, 229.01it/s]\n",
      "Converged to LP: -388.9:   6%|▋         | 65/1000 [00:00<00:03, 241.89it/s]\n",
      "LP: -428.2:   0%|          | 0/1000 [00:00<?, ?it/s]"
     ]
    },
    {
     "name": "stdout",
     "output_type": "stream",
     "text": [
      "Fitting 4 states...\n"
     ]
    },
    {
     "name": "stderr",
     "output_type": "stream",
     "text": [
      "Converged to LP: -435.7:   5%|▍         | 49/1000 [00:00<00:04, 205.52it/s]\n",
      "Converged to LP: -425.1:   7%|▋         | 67/1000 [00:00<00:04, 220.54it/s]\n",
      "Converged to LP: -433.3:   9%|▉         | 91/1000 [00:00<00:04, 221.79it/s]\n",
      "Converged to LP: -422.6:  17%|█▋        | 171/1000 [00:00<00:03, 255.57it/s]\n",
      "Converged to LP: -431.2:  21%|██        | 211/1000 [00:00<00:03, 251.74it/s]\n",
      "LP: -475.5:   2%|▏         | 16/1000 [00:00<00:06, 152.64it/s]"
     ]
    },
    {
     "name": "stdout",
     "output_type": "stream",
     "text": [
      "Fitting 5 states...\n"
     ]
    },
    {
     "name": "stderr",
     "output_type": "stream",
     "text": [
      "Converged to LP: -467.5:   4%|▍         | 44/1000 [00:00<00:06, 151.06it/s]\n",
      "Converged to LP: -467.4:   9%|▉         | 92/1000 [00:00<00:04, 200.40it/s]\n",
      "Converged to LP: -471.4:  14%|█▎        | 137/1000 [00:00<00:04, 206.99it/s]\n",
      "Converged to LP: -474.5:  16%|█▋        | 164/1000 [00:00<00:04, 184.15it/s]\n",
      "Converged to LP: -474.4:  38%|███▊      | 384/1000 [00:01<00:03, 202.19it/s]\n",
      "Converged to LP: -339.3:   1%|▏         | 13/1000 [00:00<00:03, 300.93it/s]\n",
      "LP: -338.9:   0%|          | 0/1000 [00:00<?, ?it/s]09.87it/s]"
     ]
    },
    {
     "name": "stdout",
     "output_type": "stream",
     "text": [
      "Fitting session 14...\n",
      "Fitting 2 states...\n",
      "Fitting 3 states...\n"
     ]
    },
    {
     "name": "stderr",
     "output_type": "stream",
     "text": [
      "Converged to LP: -329.1:   3%|▎         | 32/1000 [00:00<00:03, 313.77it/s]\n",
      "Converged to LP: -337.0:   3%|▎         | 34/1000 [00:00<00:03, 310.19it/s]\n",
      "Converged to LP: -338.9:   4%|▎         | 37/1000 [00:00<00:03, 300.35it/s]\n",
      "Converged to LP: -340.7:   3%|▎         | 30/1000 [00:00<00:03, 244.61it/s]\n",
      "Converged to LP: -380.9:   3%|▎         | 27/1000 [00:00<00:03, 244.50it/s]\n",
      "Converged to LP: -375.7:   6%|▌         | 60/1000 [00:00<00:03, 255.43it/s]\n",
      "Converged to LP: -376.4:   7%|▋         | 72/1000 [00:00<00:03, 244.68it/s]\n",
      "Converged to LP: -372.0:   8%|▊         | 79/1000 [00:00<00:03, 248.71it/s]\n",
      "Converged to LP: -376.7:   8%|▊         | 82/1000 [00:00<00:04, 225.85it/s]\n",
      "LP: -415.7:   2%|▏         | 16/1000 [00:00<00:06, 157.43it/s]"
     ]
    },
    {
     "name": "stdout",
     "output_type": "stream",
     "text": [
      "Fitting 4 states...\n"
     ]
    },
    {
     "name": "stderr",
     "output_type": "stream",
     "text": [
      "Converged to LP: -424.9:   5%|▌         | 54/1000 [00:00<00:04, 198.86it/s]\n",
      "Converged to LP: -428.0:   7%|▋         | 68/1000 [00:00<00:04, 211.53it/s]\n",
      "Converged to LP: -414.1:   7%|▋         | 66/1000 [00:00<00:05, 180.42it/s]\n",
      "Converged to LP: -412.8:   8%|▊         | 82/1000 [00:00<00:04, 200.99it/s]\n",
      "Converged to LP: -414.8:  14%|█▍        | 139/1000 [00:00<00:03, 235.27it/s]\n"
     ]
    },
    {
     "name": "stdout",
     "output_type": "stream",
     "text": [
      "Fitting 5 states...\n"
     ]
    },
    {
     "name": "stderr",
     "output_type": "stream",
     "text": [
      "Converged to LP: -438.5:   6%|▌         | 59/1000 [00:00<00:06, 146.26it/s]\n",
      "Converged to LP: -461.4:  17%|█▋        | 173/1000 [00:00<00:04, 193.47it/s]\n",
      "Converged to LP: -467.1:  25%|██▌       | 253/1000 [00:01<00:03, 201.37it/s]\n",
      "Converged to LP: -455.7:  41%|████      | 409/1000 [00:01<00:02, 216.11it/s]\n",
      "Converged to LP: -452.4:  39%|███▉      | 389/1000 [00:01<00:03, 197.59it/s]\n",
      "LP: -271.3:   0%|          | 0/1000 [00:00<?, ?it/s]"
     ]
    },
    {
     "name": "stdout",
     "output_type": "stream",
     "text": [
      "Fitting session 15...\n",
      "Fitting 2 states...\n",
      "Fitting 3 states...\n"
     ]
    },
    {
     "name": "stderr",
     "output_type": "stream",
     "text": [
      "Converged to LP: -273.7:   1%|▏         | 13/1000 [00:00<00:03, 294.98it/s]\n",
      "Converged to LP: -261.5:   2%|▏         | 21/1000 [00:00<00:02, 331.65it/s]\n",
      "Converged to LP: -270.8:   2%|▏         | 21/1000 [00:00<00:03, 291.76it/s]\n",
      "Converged to LP: -259.4:   3%|▎         | 32/1000 [00:00<00:03, 309.31it/s]\n",
      "Converged to LP: -263.0:   4%|▍         | 39/1000 [00:00<00:02, 327.42it/s]\n",
      "Converged to LP: -298.6:   1%|          | 12/1000 [00:00<00:04, 216.00it/s]\n",
      "Converged to LP: -308.4:   1%|▏         | 13/1000 [00:00<00:05, 196.45it/s]\n",
      "Converged to LP: -294.4:   2%|▏         | 21/1000 [00:00<00:04, 219.98it/s]\n",
      "Converged to LP: -299.6:   3%|▎         | 28/1000 [00:00<00:04, 237.61it/s]\n",
      "Converged to LP: -305.7:   5%|▍         | 49/1000 [00:00<00:04, 233.69it/s]\n",
      "LP: -347.2:   0%|          | 0/1000 [00:00<?, ?it/s]"
     ]
    },
    {
     "name": "stdout",
     "output_type": "stream",
     "text": [
      "Fitting 4 states...\n"
     ]
    },
    {
     "name": "stderr",
     "output_type": "stream",
     "text": [
      "Converged to LP: -339.2:   8%|▊         | 85/1000 [00:00<00:03, 231.53it/s]\n",
      "Converged to LP: -354.5:  12%|█▏        | 121/1000 [00:00<00:03, 256.39it/s]\n",
      "Converged to LP: -340.4:  12%|█▏        | 119/1000 [00:00<00:04, 218.71it/s]\n",
      "Converged to LP: -344.1:  15%|█▍        | 149/1000 [00:00<00:03, 239.63it/s]\n",
      "Converged to LP: -350.1:  19%|█▉        | 188/1000 [00:00<00:03, 257.64it/s]\n",
      "LP: -397.8:   2%|▏         | 16/1000 [00:00<00:06, 150.39it/s]"
     ]
    },
    {
     "name": "stdout",
     "output_type": "stream",
     "text": [
      "Fitting 5 states...\n"
     ]
    },
    {
     "name": "stderr",
     "output_type": "stream",
     "text": [
      "Converged to LP: -393.1:   9%|▉         | 91/1000 [00:00<00:04, 185.72it/s]\n",
      "Converged to LP: -381.1:  11%|█         | 109/1000 [00:00<00:04, 186.70it/s]\n",
      "Converged to LP: -391.6:  13%|█▎        | 132/1000 [00:00<00:04, 192.15it/s]\n",
      "Converged to LP: -381.8:  17%|█▋        | 168/1000 [00:00<00:03, 216.98it/s]\n",
      "Converged to LP: -382.6:  16%|█▌        | 162/1000 [00:00<00:04, 203.33it/s]\n"
     ]
    }
   ],
   "source": [
    "# session-wise fitting with 5 fold cross-validation\n",
    "models_session_state_fold_off_med, train_ll_session_off_med, test_ll_session_off_med = session_wise_fit_cv(choices_session_wise, inputs_session_wise, masks=masks_session_wise,\n",
    "                                                                                    n_sessions=len(off_med_sessions), init_params=init_params, n_iters= 1000)"
   ]
  },
  {
   "cell_type": "code",
   "execution_count": null,
   "metadata": {},
   "outputs": [],
   "source": [
    "off_medication_results = {\n",
    "    'global':{\n",
    "\t\t'inputs': off_med_inputs_aggregate,\n",
    "\t\t'choices': off_med_choices_aggregate,\n",
    "\t\t'masks': off_med_masks_aggregate,\n",
    "\t\t'models': models_glm_hmm_off_med,\n",
    "\t\t'fit_lls': fit_lls_glm_hmm_off_med,\n",
    "\t\t'best_params': init_params\n",
    "\t},\n",
    "\t'session':{\n",
    "\t\t# 'session_ids': off_med_sessions,\n",
    "        'unnormalized_inputs': unnormalized_off_med_inputs,\n",
    "\t\t'inputs': inputs_session_wise,\n",
    "\t\t'choices': choices_session_wise,\n",
    "\t\t'masks': masks_session_wise,\n",
    "\t\t'reaction_time': reaction_time_session_wise,\n",
    "\t\t'models': models_session_state_fold_off_med,\n",
    "\t\t'train_lls': train_ll_session_off_med,\n",
    "\t\t'test_lls': test_ll_session_off_med\n",
    "\t}\n",
    "}\n",
    "\n",
    "\n",
    "with open(Path(processed_dir, f'glm_hmm_off_meds_result.pkl'), 'wb') as f:\n",
    "    pickle.dump(off_medication_results, f)"
   ]
  },
  {
   "cell_type": "markdown",
   "metadata": {},
   "source": [
    "### On medication sessions"
   ]
  },
  {
   "cell_type": "code",
   "execution_count": 102,
   "metadata": {},
   "outputs": [],
   "source": [
    "inputs_session_wise = []\n",
    "choices_session_wise = []\n",
    "invalid_idx_session_wise = []\n",
    "masks_session_wise = []\n",
    "reaction_time_session_wise = []\n",
    "\n",
    "# on medication sessions\n",
    "for session in on_med_sessions:\n",
    "    session_data = data[data['session_id'] == session].reset_index(drop=True)\n",
    "\n",
    "\n",
    "    invalid_idx = np.where(session_data.outcome < 0)[0]\n",
    "    valid_idx = np.where(session_data.outcome >= 0)[0]\n",
    "\n",
    "    inputs = prepare_input_data(session_data, input_dim, invalid_idx)\n",
    "    choices = session_data.choice.values.reshape(-1,1).astype('int')\n",
    "\n",
    "    # for training, replace -1 with random sample from 0,1\n",
    "    choices[choices == -1] = npr.choice([0,1],invalid_idx.shape[0])\n",
    "    mask = np.ones_like(choices, dtype=bool)\n",
    "    mask[invalid_idx] = 0\n",
    "    reaction_time = np.array(session_data.reaction_time)\n",
    "\n",
    "    masks_session_wise.append(mask)\n",
    "    inputs_session_wise += inputs\n",
    "    choices_session_wise.append(choices)\n",
    "    reaction_time_session_wise.append(reaction_time)\n",
    "\n",
    "on_med_inputs_aggregate, on_med_choices_aggregate, on_med_masks_aggregate = [], [], []\n",
    "on_med_inputs_aggregate.append(np.vstack(inputs_session_wise))\n",
    "on_med_choices_aggregate.append(np.vstack(choices_session_wise))\n",
    "on_med_masks_aggregate.append(np.vstack(masks_session_wise))\n",
    "\n",
    "unnormalized_on_med_inputs = copy.deepcopy(inputs_session_wise)\n",
    "\n",
    "# scaling signed coherence\n",
    "on_med_inputs_aggregate[0][on_med_masks_aggregate[0][:,0],0] = preprocessing.scale(on_med_inputs_aggregate[0][on_med_masks_aggregate[0][:,0],0], axis=0)\n",
    "for idx in range(len(on_med_sessions)):\n",
    "    inputs_session_wise[idx][masks_session_wise[idx][:,0],0] = preprocessing.scale(inputs_session_wise[idx][masks_session_wise[idx][:,0],0], axis=0)\n"
   ]
  },
  {
   "cell_type": "code",
   "execution_count": 103,
   "metadata": {},
   "outputs": [
    {
     "name": "stdout",
     "output_type": "stream",
     "text": [
      "Fitting GLM globally...\n"
     ]
    },
    {
     "data": {
      "application/vnd.jupyter.widget-view+json": {
       "model_id": "c012ab2b713c40619a08c337b5eabfea",
       "version_major": 2,
       "version_minor": 0
      },
      "text/plain": [
       "  0%|          | 0/1000 [00:00<?, ?it/s]"
      ]
     },
     "metadata": {},
     "output_type": "display_data"
    },
    {
     "name": "stdout",
     "output_type": "stream",
     "text": [
      "Fitting 2 states...\n"
     ]
    },
    {
     "name": "stderr",
     "output_type": "stream",
     "text": [
      "Converged to LP: -5013.1:   4%|▍         | 43/1000 [00:01<00:24, 39.37it/s]\n",
      "Converged to LP: -5013.1:   5%|▍         | 46/1000 [00:01<00:23, 41.31it/s]\n",
      "Converged to LP: -5013.1:   5%|▌         | 53/1000 [00:01<00:23, 40.71it/s]\n",
      "Converged to LP: -5013.1:   4%|▎         | 37/1000 [00:01<00:35, 26.87it/s]\n",
      "Converged to LP: -5013.1:   8%|▊         | 76/1000 [00:01<00:22, 41.76it/s]\n",
      "Converged to LP: -5013.1:   8%|▊         | 78/1000 [00:01<00:22, 41.83it/s]\n",
      "Converged to LP: -5013.1:   8%|▊         | 76/1000 [00:02<00:25, 36.67it/s]\n",
      "Converged to LP: -5013.1:   9%|▉         | 92/1000 [00:02<00:24, 37.67it/s]\n",
      "Converged to LP: -5013.1:  10%|█         | 102/1000 [00:02<00:21, 41.06it/s]\n",
      "Converged to LP: -5013.1:  10%|▉         | 99/1000 [00:02<00:23, 38.43it/s]\n",
      "Converged to LP: -5013.1:  11%|█▏        | 114/1000 [00:02<00:20, 43.03it/s]\n",
      "Converged to LP: -5013.1:  11%|█         | 107/1000 [00:02<00:23, 38.82it/s]\n",
      "Converged to LP: -5013.1:  10%|▉         | 97/1000 [00:02<00:25, 34.77it/s]\n",
      "Converged to LP: -5013.1:  11%|█         | 106/1000 [00:02<00:24, 36.49it/s]\n",
      "Converged to LP: -5013.1:  11%|█         | 112/1000 [00:02<00:23, 37.44it/s]\n",
      "Converged to LP: -5013.1:  12%|█▏        | 115/1000 [00:03<00:23, 37.91it/s]\n",
      "Converged to LP: -5013.1:  13%|█▎        | 128/1000 [00:03<00:21, 40.69it/s]\n",
      "Converged to LP: -5013.1:  14%|█▍        | 138/1000 [00:03<00:22, 39.15it/s]\n",
      "Converged to LP: -5013.1:  14%|█▍        | 142/1000 [00:03<00:22, 38.65it/s]\n",
      "Converged to LP: -5013.1:  17%|█▋        | 166/1000 [00:03<00:19, 41.99it/s]\n",
      "LP: -5271.7:   0%|          | 0/1000 [00:00<?, ?it/s]"
     ]
    },
    {
     "name": "stdout",
     "output_type": "stream",
     "text": [
      "Fitting 3 states...\n"
     ]
    },
    {
     "name": "stderr",
     "output_type": "stream",
     "text": [
      "Converged to LP: -5052.3:  11%|█         | 110/1000 [00:03<00:28, 31.74it/s]\n",
      "Converged to LP: -4976.7:  14%|█▎        | 135/1000 [00:04<00:29, 29.17it/s]\n",
      "Converged to LP: -4976.7:  14%|█▍        | 143/1000 [00:04<00:29, 29.30it/s]\n",
      "Converged to LP: -4976.7:  11%|█         | 106/1000 [00:05<00:43, 20.63it/s]\n",
      "Converged to LP: -4976.7:  15%|█▍        | 148/1000 [00:05<00:31, 27.48it/s]\n",
      "Converged to LP: -4976.7:  15%|█▌        | 154/1000 [00:05<00:30, 28.17it/s]\n",
      "Converged to LP: -4976.7:  12%|█▏        | 122/1000 [00:05<00:40, 21.61it/s]\n",
      "Converged to LP: -4976.7:  12%|█▏        | 123/1000 [00:05<00:41, 21.38it/s]\n",
      "Converged to LP: -4976.7:  17%|█▋        | 173/1000 [00:05<00:27, 30.06it/s]\n",
      "Converged to LP: -4976.7:  17%|█▋        | 171/1000 [00:06<00:29, 27.65it/s]\n",
      "Converged to LP: -4976.7:  14%|█▍        | 145/1000 [00:06<00:38, 22.49it/s]\n",
      "Converged to LP: -4976.7:  16%|█▌        | 158/1000 [00:06<00:36, 22.97it/s]\n",
      "Converged to LP: -4976.7:  22%|██▏       | 218/1000 [00:07<00:26, 29.88it/s]\n",
      "Converged to LP: -4976.7:  24%|██▍       | 242/1000 [00:08<00:25, 29.56it/s]\n",
      "Converged to LP: -4976.7:  19%|█▉        | 191/1000 [00:08<00:35, 23.07it/s]\n",
      "Converged to LP: -4976.7:  22%|██▏       | 217/1000 [00:08<00:30, 25.88it/s]\n",
      "Converged to LP: -4976.7:  26%|██▋       | 264/1000 [00:08<00:23, 30.69it/s]\n",
      "Converged to LP: -4976.7:  23%|██▎       | 226/1000 [00:08<00:30, 25.27it/s]\n",
      "Converged to LP: -5052.2:  32%|███▏      | 319/1000 [00:11<00:23, 28.55it/s]\n",
      "Converged to LP: -4976.7:  34%|███▎      | 337/1000 [00:11<00:23, 28.15it/s]\n",
      "LP: -5318.3:   0%|          | 2/1000 [00:00<01:18, 12.72it/s]"
     ]
    },
    {
     "name": "stdout",
     "output_type": "stream",
     "text": [
      "Fitting 4 states...\n"
     ]
    },
    {
     "name": "stderr",
     "output_type": "stream",
     "text": [
      "Converged to LP: -4991.1:  15%|█▌        | 154/1000 [00:06<00:35, 23.71it/s]\n",
      "Converged to LP: -5011.7:  17%|█▋        | 171/1000 [00:07<00:36, 22.53it/s]\n",
      "Converged to LP: -5012.7:  26%|██▋       | 264/1000 [00:10<00:30, 24.12it/s]\n",
      "Converged to LP: -5019.1:  28%|██▊       | 283/1000 [00:11<00:30, 23.89it/s]\n",
      "Converged to LP: -5011.7:  28%|██▊       | 275/1000 [00:12<00:32, 22.18it/s]\n",
      "Converged to LP: -5016.1:  34%|███▍      | 342/1000 [00:13<00:25, 26.13it/s]\n",
      "Converged to LP: -4973.2:  28%|██▊       | 285/1000 [00:14<00:36, 19.85it/s]\n",
      "Converged to LP: -5011.3:  31%|███       | 309/1000 [00:16<00:36, 19.11it/s]\n",
      "Converged to LP: -4974.2:  43%|████▎     | 432/1000 [00:17<00:23, 24.51it/s]\n",
      "Converged to LP: -4972.8:  36%|███▌      | 360/1000 [00:17<00:31, 20.05it/s]\n",
      "Converged to LP: -4999.1:  51%|█████▏    | 514/1000 [00:21<00:20, 23.78it/s]\n",
      "Converged to LP: -4974.2:  48%|████▊     | 479/1000 [00:23<00:25, 20.38it/s]\n",
      "Converged to LP: -5011.3:  71%|███████   | 710/1000 [00:24<00:10, 28.49it/s]\n",
      "Converged to LP: -4973.2:  70%|███████   | 704/1000 [00:27<00:11, 25.89it/s]\n",
      "Converged to LP: -4990.0:  76%|███████▌  | 761/1000 [00:30<00:09, 24.95it/s]\n",
      "Converged to LP: -4990.0:  92%|█████████▏| 924/1000 [00:31<00:02, 28.99it/s]\n",
      "Converged to LP: -4990.0:  96%|█████████▌| 962/1000 [00:33<00:01, 28.62it/s]\n",
      "LP: -4990.0: 100%|██████████| 1000/1000 [00:33<00:00, 29.43it/s]\n",
      "LP: -4990.0: 100%|██████████| 1000/1000 [00:36<00:00, 27.40it/s]\n",
      "LP: -5000.1: 100%|██████████| 1000/1000 [00:36<00:00, 27.05it/s]\n",
      "LP: -5374.6:   0%|          | 0/1000 [00:00<?, ?it/s].18it/s]"
     ]
    },
    {
     "name": "stdout",
     "output_type": "stream",
     "text": [
      "Fitting 5 states...\n"
     ]
    },
    {
     "name": "stderr",
     "output_type": "stream",
     "text": [
      "Converged to LP: -5012.2:  38%|███▊      | 380/1000 [00:18<00:30, 20.29it/s]\n",
      "Converged to LP: -5016.6:  35%|███▌      | 351/1000 [00:21<00:40, 16.18it/s]\n",
      "Converged to LP: -4993.8:  42%|████▏     | 424/1000 [00:23<00:32, 17.74it/s]\n",
      "Converged to LP: -5033.9:  50%|████▉     | 497/1000 [00:25<00:25, 19.73it/s]\n",
      "Converged to LP: -5013.0:  38%|███▊      | 378/1000 [00:25<00:42, 14.62it/s]\n",
      "Converged to LP: -5000.9:  58%|█████▊    | 584/1000 [00:26<00:19, 21.73it/s]\n",
      "Converged to LP: -4997.8:  52%|█████▏    | 516/1000 [00:27<00:25, 18.62it/s]\n",
      "Converged to LP: -4994.4:  52%|█████▏    | 522/1000 [00:29<00:26, 17.85it/s]\n",
      "Converged to LP: -4997.8:  61%|██████    | 606/1000 [00:29<00:19, 20.63it/s]\n",
      "Converged to LP: -5038.3:  61%|██████▏   | 614/1000 [00:30<00:18, 20.36it/s]\n",
      "Converged to LP: -4998.1:  58%|█████▊    | 583/1000 [00:30<00:21, 19.02it/s]\n",
      "Converged to LP: -5007.9:  64%|██████▎   | 636/1000 [00:31<00:17, 20.27it/s]\n",
      "Converged to LP: -5043.4:  71%|███████▏  | 714/1000 [00:37<00:15, 18.94it/s]\n",
      "Converged to LP: -5018.0:  79%|███████▉  | 788/1000 [00:41<00:11, 19.21it/s]\n",
      "LP: -4985.1: 100%|██████████| 1000/1000 [00:44<00:00, 22.68it/s]\n",
      "LP: -5000.9: 100%|██████████| 1000/1000 [00:45<00:00, 22.21it/s]\n",
      "Converged to LP: -5038.6:  92%|█████████▏| 917/1000 [00:45<00:04, 20.11it/s]\n",
      "LP: -5012.3: 100%|██████████| 1000/1000 [00:48<00:00, 20.63it/s]\n",
      "Converged to LP: -5009.3:  94%|█████████▎| 936/1000 [00:48<00:03, 19.29it/s]\n",
      "LP: -5009.7: 100%|██████████| 1000/1000 [00:51<00:00, 19.52it/s]\n"
     ]
    }
   ],
   "source": [
    "models_glm_hmm_on_med, fit_lls_glm_hmm_on_med = global_fit(on_med_choices_aggregate, on_med_inputs_aggregate, masks=on_med_masks_aggregate, n_iters= 1000, n_initializations=20)"
   ]
  },
  {
   "cell_type": "code",
   "execution_count": 104,
   "metadata": {},
   "outputs": [],
   "source": [
    "# get best model of 20 initializations for each state\n",
    "init_params = {\n",
    "    'glm_weights': {},\n",
    "    'transition_matrices': {}\n",
    "}\n",
    "for n_states in np.arange(2,6):\n",
    "    best_idx = fit_lls_glm_hmm_on_med[n_states].index(max(fit_lls_glm_hmm_on_med[n_states]))\n",
    "    init_params['glm_weights'][n_states] = models_glm_hmm_on_med[n_states][best_idx].observations.params\n",
    "    init_params['transition_matrices'][n_states] = models_glm_hmm_on_med[n_states][best_idx].transitions.params"
   ]
  },
  {
   "cell_type": "code",
   "execution_count": 105,
   "metadata": {},
   "outputs": [
    {
     "name": "stdout",
     "output_type": "stream",
     "text": [
      "Fitting session 0...\n",
      "Fitting 2 states...\n",
      "Fitting 3 states...\n"
     ]
    },
    {
     "name": "stderr",
     "output_type": "stream",
     "text": [
      "Converged to LP: -300.3:   1%|          | 10/1000 [00:00<00:03, 272.50it/s]\n",
      "Converged to LP: -298.1:   1%|▏         | 13/1000 [00:00<00:03, 296.31it/s]\n",
      "LP: -288.2:   0%|          | 0/1000 [00:00<?, ?it/s]0:00<00:03, 304.94it/s]\n",
      "Converged to LP: -301.3:   3%|▎         | 33/1000 [00:00<00:03, 316.88it/s]\n",
      "Converged to LP: -288.2:   4%|▎         | 35/1000 [00:00<00:03, 303.37it/s]\n",
      "Converged to LP: -349.5:   1%|          | 11/1000 [00:00<00:04, 243.55it/s]\n",
      "Converged to LP: -335.1:   2%|▏         | 17/1000 [00:00<00:03, 246.78it/s]\n",
      "Converged to LP: -338.5:   2%|▏         | 21/1000 [00:00<00:04, 236.25it/s]\n",
      "Converged to LP: -337.3:   2%|▏         | 24/1000 [00:00<00:04, 241.86it/s]\n",
      "Converged to LP: -334.1:  11%|█         | 107/1000 [00:00<00:03, 241.35it/s]\n",
      "LP: -387.4:   0%|          | 0/1000 [00:00<?, ?it/s]"
     ]
    },
    {
     "name": "stdout",
     "output_type": "stream",
     "text": [
      "Fitting 4 states...\n"
     ]
    },
    {
     "name": "stderr",
     "output_type": "stream",
     "text": [
      "Converged to LP: -385.5:   2%|▏         | 16/1000 [00:00<00:07, 138.97it/s]\n",
      "Converged to LP: -391.4:   2%|▏         | 23/1000 [00:00<00:04, 196.63it/s]\n",
      "Converged to LP: -381.0:   2%|▏         | 23/1000 [00:00<00:05, 179.09it/s]\n",
      "Converged to LP: -377.3:   3%|▎         | 27/1000 [00:00<00:05, 177.50it/s]\n",
      "Converged to LP: -380.4:  11%|█         | 108/1000 [00:00<00:04, 203.63it/s]\n",
      "LP: -420.3:   0%|          | 0/1000 [00:00<?, ?it/s]"
     ]
    },
    {
     "name": "stdout",
     "output_type": "stream",
     "text": [
      "Fitting 5 states...\n"
     ]
    },
    {
     "name": "stderr",
     "output_type": "stream",
     "text": [
      "Converged to LP: -411.6:   5%|▍         | 47/1000 [00:00<00:05, 168.99it/s]\n",
      "Converged to LP: -412.8:   5%|▍         | 49/1000 [00:00<00:05, 170.31it/s]\n",
      "Converged to LP: -417.3:   5%|▌         | 51/1000 [00:00<00:05, 170.61it/s]\n",
      "Converged to LP: -415.7:   9%|▉         | 88/1000 [00:00<00:04, 192.08it/s]\n",
      "Converged to LP: -422.1:  22%|██▏       | 223/1000 [00:01<00:03, 218.85it/s]\n",
      "LP: -401.9:   0%|          | 0/1000 [00:00<?, ?it/s]0:00<00:03, 293.16it/s]\n",
      "Converged to LP: -401.9:   1%|          | 11/1000 [00:00<00:03, 278.90it/s]\n",
      "Converged to LP: -415.7:   2%|▏         | 21/1000 [00:00<00:02, 352.72it/s]\n",
      "LP: -417.2:   0%|          | 0/1000 [00:00<?, ?it/s]"
     ]
    },
    {
     "name": "stdout",
     "output_type": "stream",
     "text": [
      "Fitting session 1...\n",
      "Fitting 2 states...\n",
      "Fitting 3 states...\n"
     ]
    },
    {
     "name": "stderr",
     "output_type": "stream",
     "text": [
      "Converged to LP: -413.6:   3%|▎         | 26/1000 [00:00<00:03, 294.62it/s]\n",
      "Converged to LP: -408.6:   5%|▌         | 52/1000 [00:00<00:02, 405.78it/s]\n",
      "Converged to LP: -461.8:   2%|▏         | 16/1000 [00:00<00:03, 262.91it/s]\n",
      "Converged to LP: -444.7:   1%|▏         | 14/1000 [00:00<00:04, 216.07it/s]\n",
      "Converged to LP: -448.1:   2%|▏         | 15/1000 [00:00<00:05, 168.37it/s]\n",
      "Converged to LP: -459.1:   3%|▎         | 34/1000 [00:00<00:04, 208.87it/s]\n",
      "Converged to LP: -451.0:  10%|▉         | 97/1000 [00:00<00:03, 282.73it/s]\n",
      "Converged to LP: -491.4:   1%|          | 9/1000 [00:00<00:06, 158.18it/s]\n",
      "Converged to LP: -501.3:   1%|          | 12/1000 [00:00<00:06, 164.42it/s]\n",
      "Converged to LP: -487.7:   2%|▏         | 16/1000 [00:00<00:05, 176.45it/s]\n",
      "Converged to LP: -494.0:   2%|▏         | 22/1000 [00:00<00:04, 200.05it/s]\n",
      "LP: -492.7:   2%|▏         | 22/1000 [00:00<00:04, 218.20it/s]"
     ]
    },
    {
     "name": "stdout",
     "output_type": "stream",
     "text": [
      "Fitting 4 states...\n"
     ]
    },
    {
     "name": "stderr",
     "output_type": "stream",
     "text": [
      "Converged to LP: -489.7:   6%|▌         | 61/1000 [00:00<00:04, 212.88it/s]\n",
      "LP: -535.9:   0%|          | 0/1000 [00:00<?, ?it/s]"
     ]
    },
    {
     "name": "stdout",
     "output_type": "stream",
     "text": [
      "Fitting 5 states...\n"
     ]
    },
    {
     "name": "stderr",
     "output_type": "stream",
     "text": [
      "Converged to LP: -535.5:   3%|▎         | 34/1000 [00:00<00:05, 176.39it/s]\n",
      "Converged to LP: -544.5:   4%|▍         | 39/1000 [00:00<00:05, 190.79it/s]\n",
      "Converged to LP: -551.5:   4%|▍         | 38/1000 [00:00<00:05, 188.04it/s]\n",
      "Converged to LP: -532.9:   4%|▍         | 44/1000 [00:00<00:05, 188.30it/s]\n",
      "Converged to LP: -527.8:   6%|▌         | 56/1000 [00:00<00:05, 167.09it/s]\n",
      "Converged to LP: -307.7:   1%|          | 8/1000 [00:00<00:03, 300.42it/s]\n",
      "Converged to LP: -298.9:   1%|          | 6/1000 [00:00<00:04, 203.07it/s]\n",
      "Converged to LP: -305.9:   1%|          | 9/1000 [00:00<00:03, 318.32it/s]\n",
      "Converged to LP: -310.3:   1%|          | 10/1000 [00:00<00:03, 254.20it/s]\n",
      "Converged to LP: -309.6:   3%|▎         | 28/1000 [00:00<00:03, 301.27it/s]\n",
      "LP: -345.2:   0%|          | 0/1000 [00:00<?, ?it/s]"
     ]
    },
    {
     "name": "stdout",
     "output_type": "stream",
     "text": [
      "Fitting session 2...\n",
      "Fitting 2 states...\n",
      "Fitting 3 states...\n"
     ]
    },
    {
     "name": "stderr",
     "output_type": "stream",
     "text": [
      "Converged to LP: -336.4:   2%|▏         | 19/1000 [00:00<00:04, 237.03it/s]\n",
      "Converged to LP: -347.4:   3%|▎         | 29/1000 [00:00<00:03, 248.82it/s]\n",
      "Converged to LP: -347.8:   4%|▎         | 37/1000 [00:00<00:03, 296.43it/s]\n",
      "Converged to LP: -341.6:   4%|▎         | 36/1000 [00:00<00:03, 262.67it/s]\n",
      "Converged to LP: -347.2:   9%|▉         | 88/1000 [00:00<00:02, 333.22it/s]\n",
      "Converged to LP: -396.3:   2%|▏         | 15/1000 [00:00<00:04, 216.02it/s]\n",
      "Converged to LP: -377.4:   1%|          | 12/1000 [00:00<00:05, 166.52it/s]\n",
      "Converged to LP: -394.5:   1%|▏         | 13/1000 [00:00<00:06, 156.41it/s]\n",
      "Converged to LP: -388.1:   2%|▏         | 20/1000 [00:00<00:04, 211.12it/s]\n",
      "LP: -387.4:   2%|▏         | 22/1000 [00:00<00:04, 216.31it/s]"
     ]
    },
    {
     "name": "stdout",
     "output_type": "stream",
     "text": [
      "Fitting 4 states...\n",
      "Fitting 5 states...\n"
     ]
    },
    {
     "name": "stderr",
     "output_type": "stream",
     "text": [
      "Converged to LP: -387.4:   4%|▍         | 44/1000 [00:00<00:04, 229.35it/s]\n",
      "Converged to LP: -437.9:   3%|▎         | 27/1000 [00:00<00:04, 196.51it/s]\n",
      "Converged to LP: -428.6:   3%|▎         | 29/1000 [00:00<00:05, 176.98it/s]\n",
      "Converged to LP: -436.1:   5%|▌         | 52/1000 [00:00<00:04, 198.99it/s]\n",
      "Converged to LP: -440.0:   6%|▌         | 62/1000 [00:00<00:04, 215.66it/s]\n",
      "Converged to LP: -437.1:  20%|██        | 200/1000 [00:00<00:03, 263.14it/s]\n",
      "LP: -295.2:   0%|          | 0/1000 [00:00<?, ?it/s]"
     ]
    },
    {
     "name": "stdout",
     "output_type": "stream",
     "text": [
      "Fitting session 3...\n",
      "Fitting 2 states...\n"
     ]
    },
    {
     "name": "stderr",
     "output_type": "stream",
     "text": [
      "Converged to LP: -255.9:   1%|          | 11/1000 [00:00<00:03, 296.31it/s]\n",
      "Converged to LP: -245.9:   1%|          | 10/1000 [00:00<00:03, 270.49it/s]\n",
      "Converged to LP: -261.3:   2%|▏         | 15/1000 [00:00<00:03, 316.44it/s]\n",
      "Converged to LP: -247.5:   4%|▍         | 45/1000 [00:00<00:02, 318.44it/s]\n",
      "Converged to LP: -244.7:   8%|▊         | 84/1000 [00:00<00:02, 310.85it/s]\n",
      "Converged to LP: -281.7:   1%|          | 10/1000 [00:00<00:04, 202.28it/s]\n",
      "Converged to LP: -287.6:   1%|          | 11/1000 [00:00<00:04, 210.98it/s]\n",
      "LP: -298.5:   2%|▏         | 23/1000 [00:00<00:04, 223.68it/s]"
     ]
    },
    {
     "name": "stdout",
     "output_type": "stream",
     "text": [
      "Fitting 3 states...\n",
      "Fitting 4 states...\n"
     ]
    },
    {
     "name": "stderr",
     "output_type": "stream",
     "text": [
      "Converged to LP: -285.6:   3%|▎         | 34/1000 [00:00<00:03, 256.01it/s]\n",
      "Converged to LP: -293.9:   3%|▎         | 34/1000 [00:00<00:04, 240.76it/s]\n",
      "Converged to LP: -298.5:   4%|▎         | 35/1000 [00:00<00:04, 240.72it/s]\n",
      "Converged to LP: -331.0:   2%|▏         | 23/1000 [00:00<00:05, 187.29it/s]\n",
      "Converged to LP: -321.8:   2%|▏         | 24/1000 [00:00<00:04, 199.00it/s]\n",
      "Converged to LP: -328.3:   4%|▎         | 36/1000 [00:00<00:04, 203.61it/s]\n",
      "Converged to LP: -335.8:   4%|▍         | 42/1000 [00:00<00:04, 192.04it/s]\n",
      "Converged to LP: -335.9:   6%|▌         | 57/1000 [00:00<00:04, 206.88it/s]\n",
      "LP: -381.6:   0%|          | 0/1000 [00:00<?, ?it/s]"
     ]
    },
    {
     "name": "stdout",
     "output_type": "stream",
     "text": [
      "Fitting 5 states...\n"
     ]
    },
    {
     "name": "stderr",
     "output_type": "stream",
     "text": [
      "Converged to LP: -380.6:   4%|▎         | 37/1000 [00:00<00:05, 182.75it/s]\n",
      "Converged to LP: -381.5:   6%|▋         | 64/1000 [00:00<00:04, 224.45it/s]\n",
      "Converged to LP: -369.0:   6%|▌         | 55/1000 [00:00<00:05, 184.53it/s]\n",
      "Converged to LP: -380.7:   7%|▋         | 72/1000 [00:00<00:05, 172.61it/s]\n",
      "Converged to LP: -377.0:  18%|█▊        | 179/1000 [00:00<00:04, 189.63it/s]\n",
      "Converged to LP: -286.8:   2%|▏         | 18/1000 [00:00<00:03, 291.52it/s]\n",
      "Converged to LP: -289.6:   2%|▏         | 22/1000 [00:00<00:03, 297.49it/s]\n",
      "Converged to LP: -287.3:   2%|▏         | 23/1000 [00:00<00:03, 259.74it/s]\n",
      "Converged to LP: -292.3:   3%|▎         | 29/1000 [00:00<00:03, 313.90it/s]\n",
      "Converged to LP: -300.0:   3%|▎         | 31/1000 [00:00<00:03, 274.37it/s]\n",
      "LP: -339.6:   0%|          | 0/1000 [00:00<?, ?it/s]"
     ]
    },
    {
     "name": "stdout",
     "output_type": "stream",
     "text": [
      "Fitting session 4...\n",
      "Fitting 2 states...\n",
      "Fitting 3 states...\n"
     ]
    },
    {
     "name": "stderr",
     "output_type": "stream",
     "text": [
      "Converged to LP: -324.9:   4%|▎         | 37/1000 [00:00<00:03, 253.83it/s]\n",
      "Converged to LP: -316.2:   4%|▍         | 38/1000 [00:00<00:03, 250.37it/s]\n",
      "Converged to LP: -331.5:   4%|▍         | 41/1000 [00:00<00:03, 258.42it/s]\n",
      "Converged to LP: -324.9:   5%|▌         | 51/1000 [00:00<00:04, 227.59it/s]\n",
      "Converged to LP: -321.0:   6%|▌         | 59/1000 [00:00<00:04, 230.75it/s]\n",
      "Converged to LP: -368.5:   3%|▎         | 31/1000 [00:00<00:04, 218.75it/s]\n",
      "Converged to LP: -360.7:   3%|▎         | 27/1000 [00:00<00:05, 171.79it/s]\n",
      "LP: -358.2:   2%|▏         | 18/1000 [00:00<00:05, 172.00it/s]"
     ]
    },
    {
     "name": "stdout",
     "output_type": "stream",
     "text": [
      "Fitting 4 states...\n"
     ]
    },
    {
     "name": "stderr",
     "output_type": "stream",
     "text": [
      "Converged to LP: -357.7:   4%|▎         | 35/1000 [00:00<00:05, 178.48it/s]\n",
      "Converged to LP: -354.9:   6%|▋         | 65/1000 [00:00<00:04, 209.35it/s]\n",
      "Converged to LP: -361.3:  11%|█         | 110/1000 [00:00<00:03, 227.81it/s]\n",
      "LP: -412.9:   0%|          | 0/1000 [00:00<?, ?it/s]"
     ]
    },
    {
     "name": "stdout",
     "output_type": "stream",
     "text": [
      "Fitting 5 states...\n"
     ]
    },
    {
     "name": "stderr",
     "output_type": "stream",
     "text": [
      "Converged to LP: -402.5:   2%|▏         | 22/1000 [00:00<00:06, 157.68it/s]\n",
      "Converged to LP: -408.8:   4%|▎         | 37/1000 [00:00<00:05, 165.58it/s]\n",
      "Converged to LP: -409.4:   4%|▍         | 38/1000 [00:00<00:05, 165.91it/s]\n",
      "Converged to LP: -410.7:  12%|█▏        | 121/1000 [00:00<00:04, 190.13it/s]\n",
      "Converged to LP: -398.0:  18%|█▊        | 178/1000 [00:00<00:04, 185.58it/s]\n",
      "Converged to LP: -323.1:   1%|          | 10/1000 [00:00<00:03, 278.03it/s]\n",
      "Converged to LP: -316.1:   2%|▏         | 18/1000 [00:00<00:03, 310.80it/s]\n",
      "Converged to LP: -318.6:   2%|▏         | 20/1000 [00:00<00:03, 291.64it/s]\n",
      "LP: -318.6:   3%|▎         | 31/1000 [00:00<00:03, 303.44it/s]"
     ]
    },
    {
     "name": "stdout",
     "output_type": "stream",
     "text": [
      "Fitting session 5...\n",
      "Fitting 2 states...\n"
     ]
    },
    {
     "name": "stderr",
     "output_type": "stream",
     "text": [
      "Converged to LP: -317.9:   6%|▋         | 64/1000 [00:00<00:03, 311.52it/s]\n",
      "Converged to LP: -317.0:   8%|▊         | 78/1000 [00:00<00:02, 318.48it/s]\n",
      "LP: -356.3:   0%|          | 0/1000 [00:00<?, ?it/s]"
     ]
    },
    {
     "name": "stdout",
     "output_type": "stream",
     "text": [
      "Fitting 3 states...\n"
     ]
    },
    {
     "name": "stderr",
     "output_type": "stream",
     "text": [
      "Converged to LP: -356.3:   2%|▏         | 19/1000 [00:00<00:03, 247.81it/s]\n",
      "Converged to LP: -355.4:   2%|▏         | 19/1000 [00:00<00:04, 214.40it/s]\n",
      "Converged to LP: -359.8:   2%|▎         | 25/1000 [00:00<00:03, 251.53it/s]\n",
      "Converged to LP: -356.1:   6%|▋         | 65/1000 [00:00<00:04, 231.68it/s]\n",
      "Converged to LP: -352.6:   9%|▊         | 87/1000 [00:00<00:03, 268.33it/s]\n",
      "LP: -394.5:   2%|▏         | 16/1000 [00:00<00:06, 154.63it/s]"
     ]
    },
    {
     "name": "stdout",
     "output_type": "stream",
     "text": [
      "Fitting 4 states...\n"
     ]
    },
    {
     "name": "stderr",
     "output_type": "stream",
     "text": [
      "Converged to LP: -394.4:   4%|▍         | 42/1000 [00:00<00:04, 198.97it/s]\n",
      "Converged to LP: -396.3:   5%|▌         | 50/1000 [00:00<00:04, 216.09it/s]\n",
      "Converged to LP: -401.6:   5%|▌         | 50/1000 [00:00<00:04, 210.54it/s]\n",
      "Converged to LP: -394.8:   7%|▋         | 66/1000 [00:00<00:04, 195.58it/s]\n",
      "Converged to LP: -395.0:  10%|█         | 100/1000 [00:00<00:04, 206.32it/s]\n",
      "LP: -444.8:   0%|          | 0/1000 [00:00<?, ?it/s]"
     ]
    },
    {
     "name": "stdout",
     "output_type": "stream",
     "text": [
      "Fitting 5 states...\n"
     ]
    },
    {
     "name": "stderr",
     "output_type": "stream",
     "text": [
      "Converged to LP: -437.6:   3%|▎         | 32/1000 [00:00<00:06, 149.70it/s]\n",
      "Converged to LP: -436.8:   4%|▍         | 39/1000 [00:00<00:05, 160.45it/s]\n",
      "Converged to LP: -435.5:  14%|█▍        | 144/1000 [00:00<00:04, 201.84it/s]\n",
      "Converged to LP: -433.5:  22%|██▏       | 215/1000 [00:00<00:03, 217.34it/s]\n",
      "Converged to LP: -432.6:  20%|█▉        | 196/1000 [00:01<00:04, 191.40it/s]\n",
      "LP: -300.3:   0%|          | 0/1000 [00:00<?, ?it/s]"
     ]
    },
    {
     "name": "stdout",
     "output_type": "stream",
     "text": [
      "Fitting session 6...\n",
      "Fitting 2 states...\n"
     ]
    },
    {
     "name": "stderr",
     "output_type": "stream",
     "text": [
      "Converged to LP: -292.5:   4%|▎         | 35/1000 [00:00<00:02, 334.06it/s]\n",
      "Converged to LP: -299.5:   4%|▍         | 40/1000 [00:00<00:03, 319.03it/s]\n",
      "Converged to LP: -286.8:  11%|█         | 108/1000 [00:00<00:02, 310.91it/s]\n",
      "Converged to LP: -293.3:  13%|█▎        | 133/1000 [00:00<00:02, 339.04it/s]\n",
      "Converged to LP: -297.9:  20%|██        | 205/1000 [00:00<00:02, 353.40it/s]\n",
      "LP: -337.0:   0%|          | 0/1000 [00:00<?, ?it/s]"
     ]
    },
    {
     "name": "stdout",
     "output_type": "stream",
     "text": [
      "Fitting 3 states...\n"
     ]
    },
    {
     "name": "stderr",
     "output_type": "stream",
     "text": [
      "Converged to LP: -327.5:   3%|▎         | 28/1000 [00:00<00:03, 252.74it/s]\n",
      "Converged to LP: -333.6:   4%|▎         | 35/1000 [00:00<00:04, 231.38it/s]\n",
      "Converged to LP: -332.9:   4%|▎         | 36/1000 [00:00<00:04, 225.51it/s]\n",
      "Converged to LP: -327.9:   6%|▌         | 60/1000 [00:00<00:03, 237.71it/s]\n",
      "Converged to LP: -326.1:  11%|█▏        | 113/1000 [00:00<00:03, 274.33it/s]\n",
      "LP: -396.2:   0%|          | 0/1000 [00:00<?, ?it/s]"
     ]
    },
    {
     "name": "stdout",
     "output_type": "stream",
     "text": [
      "Fitting 4 states...\n"
     ]
    },
    {
     "name": "stderr",
     "output_type": "stream",
     "text": [
      "Converged to LP: -370.2:   4%|▍         | 38/1000 [00:00<00:05, 166.36it/s]\n",
      "Converged to LP: -372.9:   5%|▍         | 48/1000 [00:00<00:04, 197.23it/s]\n",
      "Converged to LP: -369.6:   6%|▋         | 63/1000 [00:00<00:04, 218.26it/s]\n",
      "Converged to LP: -362.5:   9%|▉         | 93/1000 [00:00<00:04, 199.02it/s]\n",
      "Converged to LP: -375.8:  13%|█▎        | 129/1000 [00:00<00:04, 209.89it/s]\n",
      "LP: -453.1:   0%|          | 0/1000 [00:00<?, ?it/s]"
     ]
    },
    {
     "name": "stdout",
     "output_type": "stream",
     "text": [
      "Fitting 5 states...\n"
     ]
    },
    {
     "name": "stderr",
     "output_type": "stream",
     "text": [
      "Converged to LP: -409.5:   4%|▎         | 37/1000 [00:00<00:06, 154.93it/s]\n",
      "Converged to LP: -407.8:   4%|▍         | 44/1000 [00:00<00:05, 172.98it/s]\n",
      "Converged to LP: -420.0:   5%|▌         | 52/1000 [00:00<00:05, 186.61it/s]\n",
      "Converged to LP: -414.2:   7%|▋         | 70/1000 [00:00<00:04, 188.01it/s]\n",
      "Converged to LP: -409.4:   8%|▊         | 84/1000 [00:00<00:04, 192.89it/s]\n",
      "Converged to LP: -290.9:   2%|▏         | 15/1000 [00:00<00:03, 285.93it/s]\n",
      "Converged to LP: -288.8:   1%|▏         | 14/1000 [00:00<00:04, 218.79it/s]\n",
      "Converged to LP: -273.2:   2%|▎         | 25/1000 [00:00<00:03, 304.17it/s]\n",
      "Converged to LP: -286.2:   3%|▎         | 28/1000 [00:00<00:03, 285.22it/s]\n",
      "Converged to LP: -290.0:   3%|▎         | 26/1000 [00:00<00:03, 255.04it/s]\n",
      "LP: -332.4:   0%|          | 0/1000 [00:00<?, ?it/s]"
     ]
    },
    {
     "name": "stdout",
     "output_type": "stream",
     "text": [
      "Fitting session 7...\n",
      "Fitting 2 states...\n",
      "Fitting 3 states...\n"
     ]
    },
    {
     "name": "stderr",
     "output_type": "stream",
     "text": [
      "Converged to LP: -322.7:   2%|▏         | 19/1000 [00:00<00:04, 220.80it/s]\n",
      "Converged to LP: -330.4:   2%|▏         | 24/1000 [00:00<00:03, 244.61it/s]\n",
      "Converged to LP: -318.3:   3%|▎         | 32/1000 [00:00<00:04, 237.53it/s]\n",
      "Converged to LP: -324.3:   3%|▎         | 32/1000 [00:00<00:04, 201.48it/s]\n",
      "Converged to LP: -320.9:   5%|▌         | 53/1000 [00:00<00:03, 268.50it/s]\n",
      "LP: -365.3:   0%|          | 0/1000 [00:00<?, ?it/s]"
     ]
    },
    {
     "name": "stdout",
     "output_type": "stream",
     "text": [
      "Fitting 4 states...\n"
     ]
    },
    {
     "name": "stderr",
     "output_type": "stream",
     "text": [
      "Converged to LP: -365.5:   2%|▏         | 20/1000 [00:00<00:05, 183.80it/s]\n",
      "Converged to LP: -362.9:   2%|▎         | 25/1000 [00:00<00:05, 184.08it/s]\n",
      "Converged to LP: -359.6:   4%|▎         | 35/1000 [00:00<00:04, 214.65it/s]\n",
      "Converged to LP: -363.0:   4%|▍         | 41/1000 [00:00<00:04, 238.43it/s]\n",
      "Converged to LP: -361.8:  15%|█▌        | 152/1000 [00:00<00:03, 245.44it/s]\n",
      "LP: -440.2:   0%|          | 0/1000 [00:00<?, ?it/s]"
     ]
    },
    {
     "name": "stdout",
     "output_type": "stream",
     "text": [
      "Fitting 5 states...\n"
     ]
    },
    {
     "name": "stderr",
     "output_type": "stream",
     "text": [
      "Converged to LP: -402.1:   6%|▋         | 63/1000 [00:00<00:05, 178.48it/s]\n",
      "Converged to LP: -403.1:   8%|▊         | 75/1000 [00:00<00:04, 191.36it/s]\n",
      "Converged to LP: -407.3:  11%|█         | 110/1000 [00:00<00:04, 194.50it/s]\n",
      "Converged to LP: -393.3:  17%|█▋        | 170/1000 [00:00<00:04, 198.64it/s]\n",
      "Converged to LP: -394.5:  20%|██        | 202/1000 [00:00<00:03, 217.08it/s]\n",
      "Converged to LP: -304.2:   1%|          | 8/1000 [00:00<00:03, 271.10it/s]\n",
      "Converged to LP: -318.7:   1%|          | 11/1000 [00:00<00:03, 325.96it/s]\n",
      "Converged to LP: -307.7:   1%|          | 10/1000 [00:00<00:03, 311.09it/s]\n",
      "Converged to LP: -318.8:   2%|▏         | 19/1000 [00:00<00:03, 296.54it/s]\n",
      "LP: -318.9:   0%|          | 0/1000 [00:00<?, ?it/s]"
     ]
    },
    {
     "name": "stdout",
     "output_type": "stream",
     "text": [
      "Fitting session 8...\n",
      "Fitting 2 states...\n",
      "Fitting 3 states...\n"
     ]
    },
    {
     "name": "stderr",
     "output_type": "stream",
     "text": [
      "Converged to LP: -316.0:   6%|▌         | 59/1000 [00:00<00:02, 320.86it/s]\n",
      "Converged to LP: -354.3:   2%|▏         | 22/1000 [00:00<00:05, 183.79it/s]\n",
      "Converged to LP: -349.1:   3%|▎         | 32/1000 [00:00<00:03, 243.48it/s]\n",
      "Converged to LP: -359.1:   3%|▎         | 32/1000 [00:00<00:04, 205.26it/s]\n",
      "Converged to LP: -358.4:   5%|▌         | 52/1000 [00:00<00:03, 256.29it/s]\n",
      "Converged to LP: -339.2:   7%|▋         | 69/1000 [00:00<00:03, 255.29it/s]\n",
      "LP: -416.5:   0%|          | 0/1000 [00:00<?, ?it/s]"
     ]
    },
    {
     "name": "stdout",
     "output_type": "stream",
     "text": [
      "Fitting 4 states...\n"
     ]
    },
    {
     "name": "stderr",
     "output_type": "stream",
     "text": [
      "Converged to LP: -377.9:   2%|▏         | 16/1000 [00:00<00:05, 171.48it/s]\n",
      "Converged to LP: -406.2:   3%|▎         | 30/1000 [00:00<00:04, 215.66it/s]\n",
      "Converged to LP: -393.5:   4%|▍         | 38/1000 [00:00<00:05, 189.67it/s]\n",
      "Converged to LP: -384.1:   5%|▌         | 52/1000 [00:00<00:04, 189.74it/s]\n",
      "Converged to LP: -393.3:   8%|▊         | 83/1000 [00:00<00:04, 200.96it/s]\n"
     ]
    },
    {
     "name": "stdout",
     "output_type": "stream",
     "text": [
      "Fitting 5 states...\n"
     ]
    },
    {
     "name": "stderr",
     "output_type": "stream",
     "text": [
      "Converged to LP: -427.4:   2%|▏         | 24/1000 [00:00<00:05, 178.83it/s]\n",
      "Converged to LP: -437.9:   4%|▍         | 43/1000 [00:00<00:05, 174.15it/s]\n",
      "Converged to LP: -450.0:   6%|▋         | 64/1000 [00:00<00:04, 189.93it/s]\n",
      "Converged to LP: -437.9:   6%|▋         | 63/1000 [00:00<00:05, 169.20it/s]\n",
      "Converged to LP: -442.9:   8%|▊         | 79/1000 [00:00<00:05, 170.88it/s]\n",
      "Converged to LP: -264.7:   1%|          | 8/1000 [00:00<00:03, 284.74it/s]\n",
      "Converged to LP: -251.2:   1%|          | 12/1000 [00:00<00:03, 321.78it/s]\n",
      "Converged to LP: -251.6:   1%|          | 12/1000 [00:00<00:02, 334.83it/s]\n",
      "Converged to LP: -273.0:   1%|▏         | 14/1000 [00:00<00:03, 323.86it/s]\n",
      "LP: -257.7:   3%|▎         | 30/1000 [00:00<00:03, 297.15it/s]"
     ]
    },
    {
     "name": "stdout",
     "output_type": "stream",
     "text": [
      "Fitting session 9...\n",
      "Fitting 2 states...\n"
     ]
    },
    {
     "name": "stderr",
     "output_type": "stream",
     "text": [
      "Converged to LP: -256.4:   7%|▋         | 73/1000 [00:00<00:02, 312.66it/s]\n",
      "Converged to LP: -313.0:   2%|▏         | 17/1000 [00:00<00:04, 234.57it/s]\n",
      "Converged to LP: -298.2:   2%|▏         | 23/1000 [00:00<00:03, 270.19it/s]\n",
      "LP: -301.3:   0%|          | 0/1000 [00:00<?, ?it/s]"
     ]
    },
    {
     "name": "stdout",
     "output_type": "stream",
     "text": [
      "Fitting 3 states...\n"
     ]
    },
    {
     "name": "stderr",
     "output_type": "stream",
     "text": [
      "Converged to LP: -300.0:   3%|▎         | 34/1000 [00:00<00:04, 232.11it/s]\n",
      "Converged to LP: -303.2:   4%|▎         | 35/1000 [00:00<00:03, 245.13it/s]\n",
      "Converged to LP: -292.1:   6%|▌         | 56/1000 [00:00<00:03, 265.99it/s]\n",
      "Converged to LP: -341.1:   1%|          | 9/1000 [00:00<00:05, 174.81it/s]\n",
      "LP: -339.2:   0%|          | 0/1000 [00:00<?, ?it/s]"
     ]
    },
    {
     "name": "stdout",
     "output_type": "stream",
     "text": [
      "Fitting 4 states...\n"
     ]
    },
    {
     "name": "stderr",
     "output_type": "stream",
     "text": [
      "Converged to LP: -353.0:   2%|▏         | 15/1000 [00:00<00:05, 177.15it/s]\n",
      "Converged to LP: -339.2:   2%|▏         | 18/1000 [00:00<00:04, 204.03it/s]\n",
      "Converged to LP: -358.2:   3%|▎         | 32/1000 [00:00<00:04, 217.97it/s]\n",
      "Converged to LP: -349.7:   8%|▊         | 84/1000 [00:00<00:03, 258.08it/s]\n",
      "LP: -381.7:   2%|▏         | 17/1000 [00:00<00:05, 167.29it/s]"
     ]
    },
    {
     "name": "stdout",
     "output_type": "stream",
     "text": [
      "Fitting 5 states...\n"
     ]
    },
    {
     "name": "stderr",
     "output_type": "stream",
     "text": [
      "Converged to LP: -367.3:   4%|▍         | 44/1000 [00:00<00:05, 181.89it/s]\n",
      "Converged to LP: -386.4:   6%|▋         | 65/1000 [00:00<00:05, 177.87it/s]\n",
      "LP: -379.5:   8%|▊         | 81/1000 [00:00<00:04, 206.02it/s], 165.68it/s]\n",
      "Converged to LP: -399.2:  10%|█         | 102/1000 [00:00<00:04, 195.80it/s]\n",
      "Converged to LP: -379.3:  19%|█▉        | 192/1000 [00:00<00:03, 216.32it/s]\n",
      "Converged to LP: -309.6:   1%|▏         | 13/1000 [00:00<00:03, 312.68it/s]\n",
      "LP: -299.2:   0%|          | 0/1000 [00:00<?, ?it/s]"
     ]
    },
    {
     "name": "stdout",
     "output_type": "stream",
     "text": [
      "Fitting session 10...\n",
      "Fitting 2 states...\n",
      "Fitting 3 states...\n"
     ]
    },
    {
     "name": "stderr",
     "output_type": "stream",
     "text": [
      "Converged to LP: -315.9:   2%|▏         | 19/1000 [00:00<00:03, 264.34it/s]\n",
      "Converged to LP: -323.0:   3%|▎         | 31/1000 [00:00<00:02, 356.50it/s]\n",
      "Converged to LP: -307.6:   2%|▏         | 23/1000 [00:00<00:03, 252.73it/s]\n",
      "Converged to LP: -299.1:   3%|▎         | 31/1000 [00:00<00:03, 315.12it/s]\n",
      "Converged to LP: -359.6:   2%|▏         | 19/1000 [00:00<00:05, 181.06it/s]\n",
      "Converged to LP: -349.1:   4%|▍         | 38/1000 [00:00<00:03, 245.25it/s]\n",
      "Converged to LP: -347.2:   3%|▎         | 34/1000 [00:00<00:04, 204.01it/s]\n",
      "Converged to LP: -344.5:   5%|▌         | 54/1000 [00:00<00:03, 245.18it/s]\n",
      "Converged to LP: -353.0:  19%|█▊        | 186/1000 [00:00<00:03, 264.38it/s]\n",
      "LP: -393.6:   0%|          | 0/1000 [00:00<?, ?it/s]"
     ]
    },
    {
     "name": "stdout",
     "output_type": "stream",
     "text": [
      "Fitting 4 states...\n"
     ]
    },
    {
     "name": "stderr",
     "output_type": "stream",
     "text": [
      "Converged to LP: -387.8:   4%|▍         | 44/1000 [00:00<00:04, 208.11it/s]\n",
      "Converged to LP: -402.3:  10%|▉         | 99/1000 [00:00<00:04, 222.64it/s]\n",
      "Converged to LP: -385.4:  10%|█         | 100/1000 [00:00<00:04, 187.11it/s]\n",
      "Converged to LP: -398.6:  15%|█▌        | 152/1000 [00:00<00:03, 221.25it/s]\n",
      "Converged to LP: -397.9:  16%|█▌        | 158/1000 [00:00<00:03, 227.22it/s]\n",
      "LP: -438.1:   2%|▏         | 18/1000 [00:00<00:05, 176.86it/s]"
     ]
    },
    {
     "name": "stdout",
     "output_type": "stream",
     "text": [
      "Fitting 5 states...\n"
     ]
    },
    {
     "name": "stderr",
     "output_type": "stream",
     "text": [
      "Converged to LP: -435.5:   5%|▌         | 52/1000 [00:00<00:05, 182.36it/s]\n",
      "Converged to LP: -446.5:   6%|▌         | 62/1000 [00:00<00:05, 167.31it/s]\n",
      "Converged to LP: -438.7:   8%|▊         | 84/1000 [00:00<00:04, 191.89it/s]\n",
      "Converged to LP: -437.8:  11%|█         | 112/1000 [00:00<00:04, 195.56it/s]\n",
      "Converged to LP: -433.9:  14%|█▎        | 135/1000 [00:00<00:04, 207.97it/s]\n",
      "Converged to LP: -353.3:   1%|          | 9/1000 [00:00<00:03, 300.49it/s]\n",
      "Converged to LP: -341.8:   1%|          | 10/1000 [00:00<00:03, 275.20it/s]\n",
      "Converged to LP: -342.7:   2%|▏         | 16/1000 [00:00<00:03, 290.38it/s]\n",
      "Converged to LP: -345.2:   2%|▏         | 19/1000 [00:00<00:03, 290.45it/s]\n",
      "LP: -354.9:   0%|          | 0/1000 [00:00<?, ?it/s]"
     ]
    },
    {
     "name": "stdout",
     "output_type": "stream",
     "text": [
      "Fitting session 11...\n",
      "Fitting 2 states...\n",
      "Fitting 3 states...\n"
     ]
    },
    {
     "name": "stderr",
     "output_type": "stream",
     "text": [
      "Converged to LP: -354.9:   4%|▍         | 45/1000 [00:00<00:02, 324.14it/s]\n",
      "Converged to LP: -387.9:   1%|▏         | 14/1000 [00:00<00:04, 204.20it/s]\n",
      "Converged to LP: -387.0:   2%|▏         | 16/1000 [00:00<00:04, 208.75it/s]\n",
      "Converged to LP: -400.7:   2%|▏         | 18/1000 [00:00<00:04, 230.08it/s]\n",
      "Converged to LP: -387.1:   2%|▏         | 19/1000 [00:00<00:04, 206.12it/s]\n",
      "Converged to LP: -386.5:   5%|▌         | 51/1000 [00:00<00:03, 243.76it/s]\n",
      "Converged to LP: -434.8:   2%|▏         | 17/1000 [00:00<00:05, 166.64it/s]\n",
      "LP: -436.6:   2%|▏         | 17/1000 [00:00<00:05, 166.12it/s]"
     ]
    },
    {
     "name": "stdout",
     "output_type": "stream",
     "text": [
      "Fitting 4 states...\n"
     ]
    },
    {
     "name": "stderr",
     "output_type": "stream",
     "text": [
      "Converged to LP: -436.6:   2%|▏         | 18/1000 [00:00<00:05, 164.91it/s]\n",
      "Converged to LP: -430.5:   2%|▏         | 20/1000 [00:00<00:05, 165.02it/s]\n",
      "Converged to LP: -430.6:   5%|▍         | 46/1000 [00:00<00:04, 216.94it/s]\n",
      "Converged to LP: -435.0:  10%|█         | 104/1000 [00:00<00:04, 223.61it/s]\n",
      "LP: -479.6:   0%|          | 0/1000 [00:00<?, ?it/s]"
     ]
    },
    {
     "name": "stdout",
     "output_type": "stream",
     "text": [
      "Fitting 5 states...\n"
     ]
    },
    {
     "name": "stderr",
     "output_type": "stream",
     "text": [
      "Converged to LP: -465.4:   5%|▌         | 53/1000 [00:00<00:05, 167.07it/s]\n",
      "Converged to LP: -473.0:   7%|▋         | 69/1000 [00:00<00:05, 175.43it/s]\n",
      "Converged to LP: -456.8:  12%|█▏        | 117/1000 [00:00<00:04, 205.30it/s]\n",
      "Converged to LP: -451.8:  14%|█▍        | 138/1000 [00:00<00:04, 190.56it/s]\n",
      "Converged to LP: -469.4:  14%|█▍        | 144/1000 [00:00<00:04, 187.06it/s]\n",
      "Converged to LP: -331.7:   1%|          | 9/1000 [00:00<00:03, 313.37it/s]\n",
      "Converged to LP: -331.4:   1%|          | 12/1000 [00:00<00:03, 303.02it/s]\n",
      "Converged to LP: -339.0:   2%|▏         | 16/1000 [00:00<00:03, 299.24it/s]\n",
      "LP: -331.9:   0%|          | 0/1000 [00:00<?, ?it/s]"
     ]
    },
    {
     "name": "stdout",
     "output_type": "stream",
     "text": [
      "Fitting session 12...\n",
      "Fitting 2 states...\n",
      "Fitting 3 states...\n"
     ]
    },
    {
     "name": "stderr",
     "output_type": "stream",
     "text": [
      "Converged to LP: -339.6:   3%|▎         | 32/1000 [00:00<00:03, 302.53it/s]\n",
      "Converged to LP: -331.8:   4%|▎         | 35/1000 [00:00<00:02, 325.97it/s]\n",
      "Converged to LP: -373.3:   2%|▏         | 15/1000 [00:00<00:05, 172.00it/s]\n",
      "Converged to LP: -376.2:   3%|▎         | 28/1000 [00:00<00:04, 240.23it/s]\n",
      "Converged to LP: -373.9:   2%|▏         | 21/1000 [00:00<00:05, 170.90it/s]\n",
      "Converged to LP: -374.6:   3%|▎         | 33/1000 [00:00<00:03, 244.46it/s]\n",
      "Converged to LP: -380.8:   4%|▍         | 45/1000 [00:00<00:04, 237.53it/s]\n",
      "Converged to LP: -413.5:   1%|▏         | 14/1000 [00:00<00:05, 173.14it/s]\n",
      "Converged to LP: -415.8:   2%|▏         | 19/1000 [00:00<00:05, 183.23it/s]\n",
      "LP: -431.4:   2%|▏         | 19/1000 [00:00<00:05, 186.96it/s]"
     ]
    },
    {
     "name": "stdout",
     "output_type": "stream",
     "text": [
      "Fitting 4 states...\n"
     ]
    },
    {
     "name": "stderr",
     "output_type": "stream",
     "text": [
      "Converged to LP: -421.5:   3%|▎         | 32/1000 [00:00<00:04, 194.80it/s]\n",
      "Converged to LP: -431.2:   4%|▍         | 39/1000 [00:00<00:04, 201.48it/s]\n",
      "Converged to LP: -418.2:   5%|▌         | 50/1000 [00:00<00:04, 213.00it/s]\n",
      "LP: -461.9:   2%|▏         | 16/1000 [00:00<00:06, 153.33it/s]"
     ]
    },
    {
     "name": "stdout",
     "output_type": "stream",
     "text": [
      "Fitting 5 states...\n"
     ]
    },
    {
     "name": "stderr",
     "output_type": "stream",
     "text": [
      "Converged to LP: -461.1:   3%|▎         | 29/1000 [00:00<00:05, 164.78it/s]\n",
      "Converged to LP: -461.9:   4%|▍         | 43/1000 [00:00<00:05, 182.41it/s]\n",
      "Converged to LP: -469.0:   5%|▍         | 46/1000 [00:00<00:05, 173.33it/s]\n",
      "Converged to LP: -451.7:   5%|▍         | 47/1000 [00:00<00:05, 163.20it/s]\n",
      "Converged to LP: -459.5:  10%|█         | 100/1000 [00:00<00:04, 193.16it/s]\n",
      "Converged to LP: -339.0:   1%|          | 7/1000 [00:00<00:03, 311.25it/s]\n",
      "Converged to LP: -340.8:   1%|          | 7/1000 [00:00<00:03, 293.69it/s]\n",
      "Converged to LP: -334.0:   1%|          | 8/1000 [00:00<00:03, 306.42it/s]\n",
      "Converged to LP: -338.8:   1%|          | 7/1000 [00:00<00:03, 284.12it/s]\n",
      "Converged to LP: -343.0:   2%|▏         | 17/1000 [00:00<00:03, 300.50it/s]\n",
      "Converged to LP: -374.2:   2%|▏         | 16/1000 [00:00<00:04, 212.01it/s]\n",
      "Converged to LP: -381.9:   2%|▏         | 17/1000 [00:00<00:04, 213.11it/s]\n",
      "Converged to LP: -383.7:   2%|▏         | 22/1000 [00:00<00:04, 237.46it/s]\n",
      "Converged to LP: -381.7:   3%|▎         | 27/1000 [00:00<00:04, 229.07it/s]\n"
     ]
    },
    {
     "name": "stdout",
     "output_type": "stream",
     "text": [
      "Fitting session 13...\n",
      "Fitting 2 states...\n",
      "Fitting 3 states...\n"
     ]
    },
    {
     "name": "stderr",
     "output_type": "stream",
     "text": [
      "Converged to LP: -382.7:  15%|█▍        | 148/1000 [00:00<00:03, 251.76it/s]\n",
      "LP: -428.2:   2%|▏         | 17/1000 [00:00<00:05, 167.21it/s]"
     ]
    },
    {
     "name": "stdout",
     "output_type": "stream",
     "text": [
      "Fitting 4 states...\n"
     ]
    },
    {
     "name": "stderr",
     "output_type": "stream",
     "text": [
      "Converged to LP: -428.4:   3%|▎         | 27/1000 [00:00<00:05, 187.27it/s]\n",
      "Converged to LP: -426.3:   3%|▎         | 31/1000 [00:00<00:05, 177.67it/s]\n",
      "Converged to LP: -428.2:   4%|▍         | 42/1000 [00:00<00:04, 197.14it/s]\n",
      "Converged to LP: -412.4:   6%|▌         | 58/1000 [00:00<00:04, 213.41it/s]\n",
      "Converged to LP: -421.2:  12%|█▏        | 117/1000 [00:00<00:03, 222.38it/s]\n",
      "LP: -509.8:   0%|          | 0/1000 [00:00<?, ?it/s]"
     ]
    },
    {
     "name": "stdout",
     "output_type": "stream",
     "text": [
      "Fitting 5 states...\n"
     ]
    },
    {
     "name": "stderr",
     "output_type": "stream",
     "text": [
      "Converged to LP: -469.2:   2%|▎         | 25/1000 [00:00<00:06, 146.84it/s]\n",
      "Converged to LP: -467.3:   5%|▌         | 51/1000 [00:00<00:05, 167.74it/s]\n",
      "Converged to LP: -459.1:   6%|▌         | 59/1000 [00:00<00:04, 188.97it/s]\n",
      "Converged to LP: -457.1:   5%|▌         | 54/1000 [00:00<00:05, 172.32it/s]\n",
      "Converged to LP: -466.1:  10%|▉         | 99/1000 [00:00<00:04, 197.41it/s]\n",
      "Converged to LP: -339.0:   2%|▏         | 15/1000 [00:00<00:03, 252.88it/s]\n",
      "Converged to LP: -348.6:   2%|▏         | 24/1000 [00:00<00:03, 294.42it/s]\n",
      "Converged to LP: -348.3:   2%|▎         | 25/1000 [00:00<00:03, 303.44it/s]\n",
      "LP: -346.9:   0%|          | 0/1000 [00:00<?, ?it/s]"
     ]
    },
    {
     "name": "stdout",
     "output_type": "stream",
     "text": [
      "Fitting session 14...\n",
      "Fitting 2 states...\n",
      "Fitting 3 states...\n"
     ]
    },
    {
     "name": "stderr",
     "output_type": "stream",
     "text": [
      "Converged to LP: -346.9:   3%|▎         | 27/1000 [00:00<00:03, 284.47it/s]\n",
      "Converged to LP: -351.7:   4%|▍         | 42/1000 [00:00<00:03, 293.31it/s]\n",
      "Converged to LP: -390.1:   2%|▏         | 23/1000 [00:00<00:04, 220.81it/s]\n",
      "Converged to LP: -390.4:   3%|▎         | 28/1000 [00:00<00:04, 236.81it/s]\n",
      "Converged to LP: -395.5:   6%|▌         | 59/1000 [00:00<00:03, 250.61it/s]\n",
      "Converged to LP: -380.7:   7%|▋         | 68/1000 [00:00<00:04, 224.27it/s]\n",
      "Converged to LP: -373.7:  12%|█▏        | 117/1000 [00:00<00:03, 244.42it/s]\n",
      "LP: -431.0:   0%|          | 0/1000 [00:00<?, ?it/s]"
     ]
    },
    {
     "name": "stdout",
     "output_type": "stream",
     "text": [
      "Fitting 4 states...\n"
     ]
    },
    {
     "name": "stderr",
     "output_type": "stream",
     "text": [
      "Converged to LP: -425.3:   3%|▎         | 28/1000 [00:00<00:05, 169.65it/s]\n",
      "Converged to LP: -433.5:   3%|▎         | 29/1000 [00:00<00:05, 176.67it/s]\n",
      "Converged to LP: -427.7:   3%|▎         | 28/1000 [00:00<00:06, 159.87it/s]\n",
      "Converged to LP: -427.8:  11%|█▏        | 113/1000 [00:00<00:03, 222.66it/s]\n",
      "Converged to LP: -438.4:  17%|█▋        | 167/1000 [00:00<00:04, 193.28it/s]\n",
      "LP: -506.2:   0%|          | 0/1000 [00:00<?, ?it/s]"
     ]
    },
    {
     "name": "stdout",
     "output_type": "stream",
     "text": [
      "Fitting 5 states...\n"
     ]
    },
    {
     "name": "stderr",
     "output_type": "stream",
     "text": [
      "Converged to LP: -485.2:   2%|▏         | 22/1000 [00:00<00:07, 130.08it/s]\n",
      "Converged to LP: -467.0:   7%|▋         | 73/1000 [00:00<00:05, 166.35it/s]\n",
      "Converged to LP: -462.3:  13%|█▎        | 129/1000 [00:00<00:04, 177.42it/s]\n",
      "Converged to LP: -467.8:  14%|█▍        | 138/1000 [00:00<00:04, 177.12it/s]\n",
      "Converged to LP: -446.5:  18%|█▊        | 176/1000 [00:00<00:04, 178.25it/s]\n",
      "LP: -302.2:   0%|          | 0/1000 [00:00<?, ?it/s]"
     ]
    },
    {
     "name": "stdout",
     "output_type": "stream",
     "text": [
      "Fitting session 15...\n",
      "Fitting 2 states...\n",
      "Fitting 3 states...\n"
     ]
    },
    {
     "name": "stderr",
     "output_type": "stream",
     "text": [
      "Converged to LP: -302.2:   1%|          | 9/1000 [00:00<00:03, 275.36it/s]\n",
      "Converged to LP: -300.0:   1%|          | 9/1000 [00:00<00:03, 263.63it/s]\n",
      "Converged to LP: -292.9:   1%|          | 9/1000 [00:00<00:03, 298.29it/s]\n",
      "Converged to LP: -301.4:   2%|▏         | 19/1000 [00:00<00:03, 309.83it/s]\n",
      "Converged to LP: -304.2:   2%|▏         | 17/1000 [00:00<00:03, 287.55it/s]\n",
      "Converged to LP: -335.3:   3%|▎         | 33/1000 [00:00<00:03, 245.21it/s]\n",
      "Converged to LP: -348.7:   5%|▌         | 51/1000 [00:00<00:03, 286.79it/s]\n",
      "Converged to LP: -350.9:   6%|▌         | 55/1000 [00:00<00:03, 293.77it/s]\n",
      "Converged to LP: -340.7:   4%|▍         | 44/1000 [00:00<00:04, 228.54it/s]\n",
      "Converged to LP: -338.9:  41%|████      | 408/1000 [00:01<00:01, 301.29it/s]\n"
     ]
    },
    {
     "name": "stdout",
     "output_type": "stream",
     "text": [
      "Fitting 4 states...\n"
     ]
    },
    {
     "name": "stderr",
     "output_type": "stream",
     "text": [
      "Converged to LP: -381.2:   3%|▎         | 28/1000 [00:00<00:05, 190.41it/s]\n",
      "Converged to LP: -383.7:   5%|▌         | 50/1000 [00:00<00:04, 206.65it/s]\n",
      "Converged to LP: -381.4:   5%|▌         | 52/1000 [00:00<00:04, 210.17it/s]\n",
      "Converged to LP: -385.6:   6%|▌         | 60/1000 [00:00<00:04, 208.33it/s]\n",
      "Converged to LP: -390.6:   7%|▋         | 66/1000 [00:00<00:04, 205.32it/s]\n",
      "LP: -425.1:   0%|          | 0/1000 [00:00<?, ?it/s]"
     ]
    },
    {
     "name": "stdout",
     "output_type": "stream",
     "text": [
      "Fitting 5 states...\n"
     ]
    },
    {
     "name": "stderr",
     "output_type": "stream",
     "text": [
      "Converged to LP: -423.1:   2%|▎         | 25/1000 [00:00<00:06, 147.26it/s]\n",
      "Converged to LP: -420.0:   4%|▎         | 35/1000 [00:00<00:05, 167.34it/s]\n",
      "Converged to LP: -432.8:   4%|▍         | 41/1000 [00:00<00:05, 171.16it/s]\n",
      "Converged to LP: -429.4:  10%|▉         | 95/1000 [00:00<00:04, 207.08it/s]\n",
      "Converged to LP: -429.5:  16%|█▌        | 159/1000 [00:00<00:04, 195.78it/s]\n"
     ]
    }
   ],
   "source": [
    "# session-wise fitting with 5 fold cross-validation\n",
    "models_session_state_fold_on_med, train_ll_session_on_med, test_ll_session_on_med = session_wise_fit_cv(choices_session_wise, inputs_session_wise, masks=masks_session_wise,\n",
    "                                                                                    n_sessions=len(on_med_sessions), init_params=init_params, n_iters= 1000)"
   ]
  },
  {
   "cell_type": "code",
   "execution_count": 106,
   "metadata": {},
   "outputs": [],
   "source": [
    "on_medication_results = {\n",
    "    'global':{\n",
    "\t\t'inputs': on_med_inputs_aggregate,\n",
    "\t\t'choices': on_med_choices_aggregate,\n",
    "\t\t'masks': on_med_masks_aggregate,\n",
    "\t\t'models': models_glm_hmm_on_med,\n",
    "\t\t'fit_lls': fit_lls_glm_hmm_on_med,\n",
    "\t\t'best_params': init_params\n",
    "\t},\n",
    "\t'session':{\n",
    "\t\t'session_ids': on_med_sessions,\n",
    "        'unnormalized_inputs': unnormalized_on_med_inputs,\n",
    "\t\t'inputs': inputs_session_wise,\n",
    "\t\t'choices': choices_session_wise,\n",
    "\t\t'masks': masks_session_wise,\n",
    "\t\t'reaction_time': reaction_time_session_wise,\n",
    "\t\t'models': models_session_state_fold_on_med,\n",
    "\t\t'train_lls': train_ll_session_on_med,\n",
    "\t\t'test_lls': test_ll_session_on_med\n",
    "\t}\n",
    "}\n",
    "\n",
    "with open(Path(processed_dir, f'glm_hmm_on_meds_result.pkl'), 'wb') as f:\n",
    "    pickle.dump(on_medication_results, f)"
   ]
  },
  {
   "cell_type": "code",
   "execution_count": 107,
   "metadata": {},
   "outputs": [],
   "source": [
    "glm_hmm_results = {\n",
    "    \"off_med_global\": off_medication_results['global'],\n",
    "    \"on_med_global\": on_medication_results['global'],\n",
    "    \"session_wise\": {\n",
    "        \"session_ids\": off_medication_results['session']['session_ids'].tolist() + on_medication_results['session']['session_ids'].tolist(),\n",
    "        \"unnormalized_inputs\": off_medication_results['session']['unnormalized_inputs'] + on_medication_results['session']['unnormalized_inputs'],\n",
    "\t\t\"inputs\": off_medication_results['session']['inputs'] + on_medication_results['session']['inputs'],\n",
    "\t\t\"choices\": off_medication_results['session']['choices'] + on_medication_results['session']['choices'],\n",
    "\t\t\"masks\": off_medication_results['session']['masks'] + on_medication_results['session']['masks'],\n",
    "\t\t\"reaction_time\": off_medication_results['session']['reaction_time'] + on_medication_results['session']['reaction_time'],\n",
    "        \"train_ll\": np.concatenate([off_medication_results['session']['train_lls'], on_medication_results['session']['train_lls']], axis=0),\n",
    "        \"test_ll\": np.concatenate([off_medication_results['session']['test_lls'], on_medication_results['session']['test_lls']], axis=0)\n",
    "    }\n",
    "}\n",
    "\n",
    "glm_hmm_results['session_wise']['models'] = models_session_state_fold_off_med\n",
    "# Shift the keys of on-medication models and merge\n",
    "off_session_len = len(models_session_state_fold_off_med)  # Fix variable name\n",
    "glm_hmm_results['session_wise']['models'].update({\n",
    "    key + off_session_len: value for key, value in models_session_state_fold_on_med.items()\n",
    "})\n",
    "\n",
    "\n",
    "with open(Path(processed_dir, f'glm_hmm_result.pkl'), 'wb') as f:\n",
    "    pickle.dump(glm_hmm_results, f)\n"
   ]
  }
 ],
 "metadata": {
  "kernelspec": {
   "display_name": "Python 3",
   "language": "python",
   "name": "python3"
  },
  "language_info": {
   "codemirror_mode": {
    "name": "ipython",
    "version": 3
   },
   "file_extension": ".py",
   "mimetype": "text/x-python",
   "name": "python",
   "nbconvert_exporter": "python",
   "pygments_lexer": "ipython3",
   "version": "3.10.12"
  }
 },
 "nbformat": 4,
 "nbformat_minor": 2
}
