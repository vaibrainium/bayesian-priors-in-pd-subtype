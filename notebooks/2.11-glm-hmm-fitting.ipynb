{
 "cells": [
  {
   "cell_type": "code",
   "execution_count": 1,
   "metadata": {},
   "outputs": [],
   "source": [
    "%matplotlib inline\n",
    "%load_ext autoreload\n",
    "%autoreload 2"
   ]
  },
  {
   "cell_type": "code",
   "execution_count": 2,
   "metadata": {},
   "outputs": [],
   "source": [
    "import numpy as np\n",
    "import numpy.random as npr\n",
    "import pandas as pd\n",
    "import matplotlib.pyplot as plt\n",
    "import ssm\n",
    "from sklearn import preprocessing\n",
    "from sklearn.model_selection import KFold\n",
    "from scipy import stats\n",
    "\n",
    "from notebooks.imports import *\n",
    "from config import dir_config, main_config\n",
    "from src.utils.glm_hmm_utils import *\n",
    "import pickle\n",
    "import copy"
   ]
  },
  {
   "cell_type": "markdown",
   "metadata": {},
   "source": [
    "### Configuration"
   ]
  },
  {
   "cell_type": "code",
   "execution_count": 3,
   "metadata": {},
   "outputs": [],
   "source": [
    "from config import dir_config, main_config\n",
    "\n",
    "raw_dir = Path(dir_config.data.raw)\n",
    "processed_dir = Path(dir_config.data.processed)\n",
    "\n",
    "metadata = pd.read_csv(Path(processed_dir, \"processed_metadata_accu_60.csv\"))\n",
    "data = pd.read_csv(Path(processed_dir, \"processed_data_accu_60_all.csv\"))"
   ]
  },
  {
   "cell_type": "code",
   "execution_count": 4,
   "metadata": {},
   "outputs": [],
   "source": [
    "experiment_sites = [\"Stanford\"]\n",
    "\n",
    "metadata = metadata[metadata['experiment_site'].isin(experiment_sites)].reset_index(drop=True)\n",
    "data = data[data['subject_id'].isin(metadata['subject_id'])].reset_index(drop=True)\n",
    "\n",
    "# add session_id to data with matching subject_id and medication\n",
    "metadata['session_id'] = metadata[['subject_id', 'treatment']].apply(lambda x: '_'.join(x.astype(str).str.upper()), axis=1)\n",
    "data['session_id'] = data[['subject_id', 'medication']].apply(lambda x: '_'.join(x.astype(str).str.upper()), axis=1)\n",
    "data.choice = data.choice.fillna(-1).astype(int)\n",
    "data.target = data.target.fillna(-1).astype(int)\n",
    "data.outcome = data.outcome.fillna(-1).astype(int)"
   ]
  },
  {
   "cell_type": "markdown",
   "metadata": {},
   "source": [
    "### Helper Functions"
   ]
  },
  {
   "cell_type": "code",
   "execution_count": 5,
   "metadata": {},
   "outputs": [],
   "source": [
    "def extract_previous_data(trial_data, invalid_idx):\n",
    "    npr.seed(1)\n",
    "    prev_choice = np.hstack([trial_data.choice[0], trial_data.choice[:-1]])  # 0:awayPrior, 1:toPrior of previous valid trial\n",
    "    prev_target = np.hstack([trial_data.target[0], trial_data.target[:-1]]) * 2 - 1  # 0:awayPrior, 1:toPrior of previous valid trial\n",
    "    prev_color = np.hstack([trial_data.color[0], trial_data.color[:-1]])  # 0:equalPrior, 1:UnequalPrior of previous valid trial\n",
    "\n",
    "    # indices where the previous trial is invalid/valid\n",
    "    prev_invalid_idx = np.array(invalid_idx) + 1\n",
    "    if 0 in invalid_idx:\n",
    "        prev_invalid_idx = np.append(0, prev_invalid_idx)\n",
    "    prev_valid_idx = np.setdiff1d(np.arange(len(trial_data)), prev_invalid_idx)\n",
    "\n",
    "    for i in prev_invalid_idx[prev_invalid_idx < len(trial_data)]:\n",
    "        if i < prev_valid_idx[0]: #randomly sample if no previous valid trials\n",
    "            prev_choice[i] = np.random.binomial(1,0.5)\n",
    "            prev_target[i] = np.random.binomial(1,0.5) * 2 - 1\n",
    "            prev_color[i]  = np.random.binomial(1,0.5)\n",
    "        else:\n",
    "            last_valid =  np.where(prev_valid_idx<i)[0][-1]\n",
    "            prev_choice[i] = prev_choice[prev_valid_idx[last_valid]]\n",
    "            prev_target[i] = prev_target[prev_valid_idx[last_valid]]\n",
    "            prev_color[i] = prev_color[prev_valid_idx[last_valid]]\n",
    "\n",
    "    prev_choice = (prev_choice * 2) - 1 # -1:awayPrior, 1:toPrior of previous valid trial\n",
    "    return prev_choice.astype(int), prev_target.astype(int), prev_color.astype(int)\n",
    "\n",
    "def prepare_input_data(data, input_dim, invalid_idx):\n",
    "    X = np.ones((1, data.shape[0], input_dim))\n",
    "\n",
    "    X[0,:,0] = data.signed_coherence / 100\n",
    "    X[0,:,1] = data.color\n",
    "    X[0,:,3], X[0,:,4], X[0,:,5] = extract_previous_data(data, invalid_idx)\n",
    "    return list(X)"
   ]
  },
  {
   "cell_type": "markdown",
   "metadata": {},
   "source": [
    "### Data processing"
   ]
  },
  {
   "cell_type": "code",
   "execution_count": 6,
   "metadata": {},
   "outputs": [
    {
     "name": "stdout",
     "output_type": "stream",
     "text": [
      "------------- info ----------------\n",
      "<class 'pandas.core.frame.DataFrame'>\n",
      "RangeIndex: 20585 entries, 0 to 20584\n",
      "Data columns (total 15 columns):\n",
      " #   Column            Non-Null Count  Dtype  \n",
      "---  ------            --------------  -----  \n",
      " 0   subject_id        20585 non-null  object \n",
      " 1   medication        20585 non-null  object \n",
      " 2   prior             20585 non-null  object \n",
      " 3   prior_direction   20585 non-null  object \n",
      " 4   prior_color       20585 non-null  object \n",
      " 5   color             20307 non-null  float64\n",
      " 6   coherence         20307 non-null  float64\n",
      " 7   target            20585 non-null  int64  \n",
      " 8   is_valid          20585 non-null  bool   \n",
      " 9   outcome           20585 non-null  int64  \n",
      " 10  choice            20585 non-null  int64  \n",
      " 11  reaction_time     20585 non-null  float64\n",
      " 12  session_filename  20585 non-null  object \n",
      " 13  signed_coherence  20307 non-null  float64\n",
      " 14  session_id        20585 non-null  object \n",
      "dtypes: bool(1), float64(4), int64(3), object(7)\n",
      "memory usage: 2.2+ MB\n",
      "None\n",
      "------------- Head ----------------\n",
      "  subject_id medication prior prior_direction prior_color  color  coherence  \\\n",
      "0        P11        off    gr           right       green    1.0       13.0   \n",
      "1        P11        off    gr           right       green    1.0        0.0   \n",
      "2        P11        off    gr           right       green    0.0        0.0   \n",
      "3        P11        off    gr           right       green    1.0        0.0   \n",
      "4        P11        off    gr           right       green    1.0      100.0   \n",
      "\n",
      "   target  is_valid  outcome  choice  reaction_time    session_filename  \\\n",
      "0       0      True        0       1    1605.292423  P11_OFFmeds_gr.mat   \n",
      "1       1      True        0       0    1444.102487  P11_OFFmeds_gr.mat   \n",
      "2       0      True        0       1    1314.854267  P11_OFFmeds_gr.mat   \n",
      "3       1     False       -1      -1    1648.912344  P11_OFFmeds_gr.mat   \n",
      "4       0      True        1       0     712.549048  P11_OFFmeds_gr.mat   \n",
      "\n",
      "   signed_coherence session_id  \n",
      "0             -13.0    P11_OFF  \n",
      "1               0.0    P11_OFF  \n",
      "2              -0.0    P11_OFF  \n",
      "3               0.0    P11_OFF  \n",
      "4            -100.0    P11_OFF  \n",
      "\n",
      "\n",
      "------------- describe ----------------\n",
      "\n",
      "\n",
      "              color     coherence        target       outcome        choice  \\\n",
      "count  20307.000000  20307.000000  20585.000000  20585.000000  20585.000000   \n",
      "mean       0.499975     37.134880      0.594462      0.642798      0.499247   \n",
      "std        0.500012     38.531784      0.517784      0.562396      0.580242   \n",
      "min        0.000000      0.000000     -1.000000     -1.000000     -1.000000   \n",
      "25%        0.000000     13.000000      0.000000      0.000000      0.000000   \n",
      "50%        0.000000     35.000000      1.000000      1.000000      1.000000   \n",
      "75%        1.000000    100.000000      1.000000      1.000000      1.000000   \n",
      "max        1.000000    100.000000      1.000000      1.000000      1.000000   \n",
      "\n",
      "       reaction_time  signed_coherence  \n",
      "count   2.058500e+04      20307.000000  \n",
      "mean    5.530039e+02          8.597429  \n",
      "std     4.950787e+04         52.818994  \n",
      "min    -7.102090e+06       -100.000000  \n",
      "25%     6.816330e+02        -13.000000  \n",
      "50%     8.382396e+02          0.000000  \n",
      "75%     1.077466e+03         35.000000  \n",
      "max     1.821451e+03        100.000000  \n",
      "------------- nan counts ----------------\n",
      "subject_id            0\n",
      "medication            0\n",
      "prior                 0\n",
      "prior_direction       0\n",
      "prior_color           0\n",
      "color               278\n",
      "coherence           278\n",
      "target                0\n",
      "is_valid              0\n",
      "outcome               0\n",
      "choice                0\n",
      "reaction_time         0\n",
      "session_filename      0\n",
      "signed_coherence    278\n",
      "session_id            0\n",
      "dtype: int64\n",
      "\n",
      "\n",
      "------------- dtypes ----------------\n",
      "\n",
      "\n",
      "subject_id           object\n",
      "medication           object\n",
      "prior                object\n",
      "prior_direction      object\n",
      "prior_color          object\n",
      "color               float64\n",
      "coherence           float64\n",
      "target                int64\n",
      "is_valid               bool\n",
      "outcome               int64\n",
      "choice                int64\n",
      "reaction_time       float64\n",
      "session_filename     object\n",
      "signed_coherence    float64\n",
      "session_id           object\n",
      "dtype: object\n",
      "\n",
      "\n",
      "------------- shape ----------------\n",
      "\n",
      "\n",
      "(20585, 15)\n"
     ]
    }
   ],
   "source": [
    "print(\"------------- info ----------------\")\n",
    "print(data.info())\n",
    "print(\"------------- Head ----------------\")\n",
    "print(data.head())\n",
    "print(\"\\n\\n------------- describe ----------------\\n\\n\")\n",
    "print(data.describe())\n",
    "print(\"------------- nan counts ----------------\")\n",
    "print(data.isnull().sum())\n",
    "print(\"\\n\\n------------- dtypes ----------------\\n\\n\")\n",
    "print(data.dtypes)\n",
    "print(\"\\n\\n------------- shape ----------------\\n\\n\")\n",
    "print(data.shape)"
   ]
  },
  {
   "cell_type": "markdown",
   "metadata": {},
   "source": [
    "#### Data preparation"
   ]
  },
  {
   "cell_type": "code",
   "execution_count": 7,
   "metadata": {},
   "outputs": [
    {
     "data": {
      "text/plain": [
       "(array(['P1_OFF', 'P3_OFF', 'P4_OFF', 'P6_OFF', 'P7_OFF', 'P9_OFF',\n",
       "        'P11_OFF', 'P12_OFF', 'P13_OFF', 'P17_OFF', 'P18_OFF', 'P19_OFF',\n",
       "        'P20_OFF', 'P22_OFF', 'P23_OFF', 'P24_OFF'], dtype=object),\n",
       " array(['P1_ON', 'P3_ON', 'P4_ON', 'P6_ON', 'P7_ON', 'P9_ON', 'P11_ON',\n",
       "        'P12_ON', 'P13_ON', 'P17_ON', 'P18_ON', 'P19_ON', 'P20_ON',\n",
       "        'P22_ON', 'P23_ON', 'P24_ON'], dtype=object))"
      ]
     },
     "execution_count": 7,
     "metadata": {},
     "output_type": "execute_result"
    }
   ],
   "source": [
    "off_med_sessions = metadata[metadata['treatment'] == 'OFF'].session_id.unique()\n",
    "on_med_sessions = metadata[metadata['treatment'] == 'ON'].session_id.unique()\n",
    "off_med_sessions, on_med_sessions"
   ]
  },
  {
   "cell_type": "markdown",
   "metadata": {},
   "source": [
    "#### Create design matrix (input, output, mask)"
   ]
  },
  {
   "cell_type": "code",
   "execution_count": 8,
   "metadata": {},
   "outputs": [],
   "source": [
    "n_states = 2       # number of discrete states\n",
    "obs_dim = 1           # number of observed dimensions: choice(toPrior/awayPrior)\n",
    "num_categories = 2    # number of categories for output\n",
    "input_dim = 6        # input dimensions: current signed coherence, current stimulus color, 1(bias), previous choice(toPrior/awayPrior), previous target side(toPrior/awayPrior), previous color(toPrior/awayPrior)"
   ]
  },
  {
   "cell_type": "markdown",
   "metadata": {},
   "source": [
    "### Off medication sessions"
   ]
  },
  {
   "cell_type": "code",
   "execution_count": 9,
   "metadata": {},
   "outputs": [],
   "source": [
    "inputs_session_wise = []\n",
    "choices_session_wise = []\n",
    "invalid_idx_session_wise = []\n",
    "masks_session_wise = []\n",
    "reaction_time_session_wise = []\n",
    "\n",
    "# off medication sessions\n",
    "for session in off_med_sessions:\n",
    "    session_data = data[data['session_id'] == session].reset_index(drop=True)\n",
    "\n",
    "\n",
    "    invalid_idx = np.where(session_data.outcome < 0)[0]\n",
    "    valid_idx = np.where(session_data.outcome >= 0)[0]\n",
    "\n",
    "    inputs = prepare_input_data(session_data, input_dim, invalid_idx)\n",
    "    choices = session_data.choice.values.reshape(-1,1).astype('int')\n",
    "\n",
    "    # for training, replace -1 with random sample from 0,1\n",
    "    choices[choices == -1] = npr.choice([0,1],invalid_idx.shape[0])\n",
    "    mask = np.ones_like(choices, dtype=bool)\n",
    "    mask[invalid_idx] = 0\n",
    "    reaction_time = np.array(session_data.reaction_time)\n",
    "\n",
    "    masks_session_wise.append(mask)\n",
    "    inputs_session_wise += inputs\n",
    "    choices_session_wise.append(choices)\n",
    "    reaction_time_session_wise.append(reaction_time)\n",
    "\n",
    "off_med_inputs_aggregate, off_med_choices_aggregate, off_med_masks_aggregate = [], [], []\n",
    "off_med_inputs_aggregate.append(np.vstack(inputs_session_wise))\n",
    "off_med_choices_aggregate.append(np.vstack(choices_session_wise))\n",
    "off_med_masks_aggregate.append(np.vstack(masks_session_wise))\n",
    "\n",
    "unnormalized_off_med_inputs = copy.deepcopy(inputs_session_wise)\n",
    "\n",
    "# scaling signed coherence\n",
    "off_med_inputs_aggregate[0][off_med_masks_aggregate[0][:,0],0] = preprocessing.scale(off_med_inputs_aggregate[0][off_med_masks_aggregate[0][:,0],0], axis=0)\n",
    "for idx in range(len(off_med_sessions)):\n",
    "    inputs_session_wise[idx][masks_session_wise[idx][:,0]] = preprocessing.scale(inputs_session_wise[idx][masks_session_wise[idx][:,0]], axis=0)\n"
   ]
  },
  {
   "cell_type": "code",
   "execution_count": null,
   "metadata": {},
   "outputs": [
    {
     "name": "stdout",
     "output_type": "stream",
     "text": [
      "Fitting GLM globally...\n"
     ]
    },
    {
     "data": {
      "application/vnd.jupyter.widget-view+json": {
       "model_id": "60884f8ca49940b0988ef0a5fe4510e7",
       "version_major": 2,
       "version_minor": 0
      },
      "text/plain": [
       "  0%|          | 0/1000 [00:00<?, ?it/s]"
      ]
     },
     "metadata": {},
     "output_type": "display_data"
    },
    {
     "name": "stdout",
     "output_type": "stream",
     "text": [
      "Fitting 2 states...\n"
     ]
    }
   ],
   "source": [
    "models_glm_hmm_off_med, fit_lls_glm_hmm_off_med = global_fit(off_med_choices_aggregate, off_med_inputs_aggregate, masks=off_med_masks_aggregate, n_iters= 1000, n_initializations=20)"
   ]
  },
  {
   "cell_type": "code",
   "execution_count": null,
   "metadata": {},
   "outputs": [],
   "source": [
    "# get best model of 20 initializations for each state\n",
    "init_params = {\n",
    "    'glm_weights': {},\n",
    "    'transition_matrices': {}\n",
    "}\n",
    "for n_states in np.arange(2,6):\n",
    "    best_idx = fit_lls_glm_hmm_off_med[n_states].index(max(fit_lls_glm_hmm_off_med[n_states]))\n",
    "    init_params['glm_weights'][n_states] = models_glm_hmm_off_med[n_states][best_idx].observations.params\n",
    "    init_params['transition_matrices'][n_states] = models_glm_hmm_off_med[n_states][best_idx].transitions.params"
   ]
  },
  {
   "cell_type": "code",
   "execution_count": null,
   "metadata": {},
   "outputs": [
    {
     "name": "stdout",
     "output_type": "stream",
     "text": [
      "Fitting session 0...\n",
      "Fitting 2 states...\n"
     ]
    },
    {
     "name": "stderr",
     "output_type": "stream",
     "text": [
      "Converged to LP: -318.9:   2%|▏         | 20/1000 [00:00<00:05, 185.92it/s]\n",
      "Converged to LP: -319.2:   2%|▎         | 25/1000 [00:00<00:05, 168.07it/s]\n",
      "Converged to LP: -310.4:   2%|▎         | 25/1000 [00:00<00:05, 187.86it/s]\n",
      "Converged to LP: -315.1:   4%|▍         | 41/1000 [00:00<00:03, 240.75it/s]\n",
      "Converged to LP: -316.8:   9%|▉         | 88/1000 [00:00<00:04, 212.52it/s]\n"
     ]
    },
    {
     "name": "stdout",
     "output_type": "stream",
     "text": [
      "Fitting 3 states...\n"
     ]
    },
    {
     "name": "stderr",
     "output_type": "stream",
     "text": [
      "Converged to LP: -356.6:   2%|▏         | 24/1000 [00:00<00:06, 142.74it/s]\n",
      "Converged to LP: -361.6:   4%|▎         | 36/1000 [00:00<00:05, 171.42it/s]\n",
      "Converged to LP: -353.5:   7%|▋         | 74/1000 [00:00<00:04, 223.96it/s]\n",
      "Converged to LP: -346.6:  11%|█         | 110/1000 [00:00<00:04, 200.32it/s]\n",
      "Converged to LP: -353.5:  11%|█         | 106/1000 [00:00<00:04, 188.61it/s]\n"
     ]
    },
    {
     "name": "stdout",
     "output_type": "stream",
     "text": [
      "Fitting 4 states...\n"
     ]
    },
    {
     "name": "stderr",
     "output_type": "stream",
     "text": [
      "Converged to LP: -397.2:   8%|▊         | 75/1000 [00:00<00:05, 178.03it/s]\n",
      "Converged to LP: -396.7:   8%|▊         | 80/1000 [00:00<00:05, 159.70it/s]\n",
      "Converged to LP: -397.8:   9%|▉         | 94/1000 [00:00<00:04, 182.88it/s]\n",
      "Converged to LP: -398.5:  16%|█▋        | 163/1000 [00:00<00:04, 202.11it/s]\n",
      "Converged to LP: -388.2:  16%|█▌        | 157/1000 [00:00<00:04, 180.34it/s]\n"
     ]
    },
    {
     "name": "stdout",
     "output_type": "stream",
     "text": [
      "Fitting 5 states...\n"
     ]
    },
    {
     "name": "stderr",
     "output_type": "stream",
     "text": [
      "Converged to LP: -458.8:   4%|▍         | 38/1000 [00:00<00:06, 137.44it/s]\n",
      "Converged to LP: -437.0:  12%|█▏        | 122/1000 [00:00<00:05, 158.63it/s]\n",
      "Converged to LP: -455.1:  17%|█▋        | 170/1000 [00:00<00:04, 176.91it/s]\n",
      "Converged to LP: -439.5:  19%|█▉        | 192/1000 [00:01<00:05, 160.50it/s]\n",
      "Converged to LP: -429.2:  33%|███▎      | 328/1000 [00:01<00:03, 186.56it/s]\n"
     ]
    },
    {
     "name": "stdout",
     "output_type": "stream",
     "text": [
      "Fitting session 1...\n",
      "Fitting 2 states...\n"
     ]
    },
    {
     "name": "stderr",
     "output_type": "stream",
     "text": [
      "Converged to LP: -301.8:   1%|          | 6/1000 [00:00<00:11, 84.22it/s]\n",
      "Converged to LP: -308.5:   1%|          | 9/1000 [00:00<00:09, 104.00it/s]\n",
      "Converged to LP: -314.0:   2%|▏         | 22/1000 [00:00<00:05, 177.74it/s]\n",
      "Converged to LP: -316.7:   3%|▎         | 32/1000 [00:00<00:05, 192.69it/s]\n",
      "Converged to LP: -314.0:   1%|          | 8/1000 [00:00<00:09, 109.60it/s]\n"
     ]
    },
    {
     "name": "stdout",
     "output_type": "stream",
     "text": [
      "Fitting 3 states...\n"
     ]
    },
    {
     "name": "stderr",
     "output_type": "stream",
     "text": [
      "Converged to LP: -357.5:   1%|▏         | 13/1000 [00:00<00:09, 109.50it/s]\n",
      "Converged to LP: -343.4:   1%|          | 10/1000 [00:00<00:09, 101.22it/s]\n",
      "Converged to LP: -351.3:   1%|          | 11/1000 [00:00<00:08, 114.64it/s]\n",
      "Converged to LP: -348.3:   2%|▏         | 16/1000 [00:00<00:07, 132.71it/s]\n",
      "Converged to LP: -354.8:   7%|▋         | 73/1000 [00:00<00:05, 169.09it/s]\n",
      "LP: -396.3:   2%|▏         | 15/1000 [00:00<00:06, 148.02it/s]"
     ]
    },
    {
     "name": "stdout",
     "output_type": "stream",
     "text": [
      "Fitting 4 states...\n"
     ]
    },
    {
     "name": "stderr",
     "output_type": "stream",
     "text": [
      "Converged to LP: -392.3:   4%|▍         | 38/1000 [00:00<00:06, 141.63it/s]\n",
      "Converged to LP: -393.3:  15%|█▌        | 151/1000 [00:00<00:04, 192.94it/s]\n",
      "Converged to LP: -387.6:  15%|█▌        | 151/1000 [00:00<00:04, 189.07it/s]\n",
      "Converged to LP: -385.0:   2%|▏         | 24/1000 [00:00<00:07, 132.15it/s]\n",
      "Converged to LP: -399.0:   5%|▌         | 50/1000 [00:00<00:05, 165.88it/s]\n",
      "LP: -435.4:   1%|          | 7/1000 [00:00<00:15, 65.26it/s]s]"
     ]
    },
    {
     "name": "stdout",
     "output_type": "stream",
     "text": [
      "Fitting 5 states...\n"
     ]
    },
    {
     "name": "stderr",
     "output_type": "stream",
     "text": [
      "Converged to LP: -431.8:   6%|▌         | 59/1000 [00:00<00:06, 149.07it/s]\n",
      "Converged to LP: -442.2:   8%|▊         | 80/1000 [00:00<00:06, 144.20it/s]\n",
      "Converged to LP: -437.1:   9%|▉         | 92/1000 [00:00<00:05, 160.65it/s]\n",
      "Converged to LP: -416.5:  13%|█▎        | 130/1000 [00:00<00:04, 196.37it/s]\n",
      "Converged to LP: -432.6:  15%|█▍        | 149/1000 [00:00<00:04, 177.34it/s]\n",
      "Converged to LP: -332.9:   1%|          | 12/1000 [00:00<00:06, 153.57it/s]\n",
      "Converged to LP: -343.9:   2%|▏         | 20/1000 [00:00<00:04, 218.84it/s]\n",
      "LP: -356.9:   0%|          | 0/1000 [00:00<?, ?it/s]71.80it/s]"
     ]
    },
    {
     "name": "stdout",
     "output_type": "stream",
     "text": [
      "Fitting session 2...\n",
      "Fitting 2 states...\n",
      "Fitting 3 states...\n"
     ]
    },
    {
     "name": "stderr",
     "output_type": "stream",
     "text": [
      "Converged to LP: -350.1:   2%|▏         | 18/1000 [00:00<00:05, 178.39it/s]\n",
      "Converged to LP: -355.6:   3%|▎         | 27/1000 [00:00<00:04, 212.21it/s]\n",
      "Converged to LP: -353.5:   4%|▎         | 37/1000 [00:00<00:04, 205.12it/s]\n",
      "Converged to LP: -370.7:   2%|▏         | 21/1000 [00:00<00:05, 191.06it/s]\n",
      "Converged to LP: -402.0:   2%|▎         | 25/1000 [00:00<00:04, 195.32it/s]\n",
      "Converged to LP: -397.8:   3%|▎         | 31/1000 [00:00<00:04, 217.04it/s]\n",
      "Converged to LP: -384.8:   6%|▋         | 65/1000 [00:00<00:04, 213.59it/s]\n",
      "Converged to LP: -378.1:  12%|█▏        | 118/1000 [00:00<00:03, 227.71it/s]\n"
     ]
    },
    {
     "name": "stdout",
     "output_type": "stream",
     "text": [
      "Fitting 4 states...\n"
     ]
    },
    {
     "name": "stderr",
     "output_type": "stream",
     "text": [
      "Converged to LP: -417.9:   5%|▌         | 50/1000 [00:00<00:05, 186.26it/s]\n",
      "Converged to LP: -436.0:   7%|▋         | 68/1000 [00:00<00:05, 169.47it/s]\n",
      "Converged to LP: -440.9:   8%|▊         | 81/1000 [00:00<00:05, 181.41it/s]\n",
      "Converged to LP: -431.3:  10%|▉         | 98/1000 [00:00<00:04, 183.00it/s]\n",
      "Converged to LP: -417.0:   8%|▊         | 82/1000 [00:00<00:06, 132.61it/s]\n",
      "LP: -485.2:   1%|          | 11/1000 [00:00<00:09, 105.49it/s]"
     ]
    },
    {
     "name": "stdout",
     "output_type": "stream",
     "text": [
      "Fitting 5 states...\n"
     ]
    },
    {
     "name": "stderr",
     "output_type": "stream",
     "text": [
      "Converged to LP: -475.8:   8%|▊         | 84/1000 [00:00<00:06, 145.91it/s]\n",
      "Converged to LP: -459.3:   8%|▊         | 82/1000 [00:00<00:07, 125.34it/s]\n",
      "Converged to LP: -460.7:  13%|█▎        | 128/1000 [00:01<00:06, 127.55it/s]\n",
      "Converged to LP: -483.2:  20%|█▉        | 195/1000 [00:01<00:04, 173.41it/s]\n",
      "Converged to LP: -470.8:  30%|██▉       | 296/1000 [00:01<00:04, 172.41it/s]\n",
      "LP: -293.3:   0%|          | 0/1000 [00:00<?, ?it/s]"
     ]
    },
    {
     "name": "stdout",
     "output_type": "stream",
     "text": [
      "Fitting session 3...\n",
      "Fitting 2 states...\n"
     ]
    },
    {
     "name": "stderr",
     "output_type": "stream",
     "text": [
      "Converged to LP: -297.3:   4%|▍         | 38/1000 [00:00<00:03, 254.22it/s]\n",
      "Converged to LP: -275.2:   4%|▎         | 35/1000 [00:00<00:04, 235.53it/s]\n",
      "Converged to LP: -287.6:   9%|▉         | 90/1000 [00:00<00:02, 314.98it/s]\n",
      "Converged to LP: -294.5:  12%|█▏        | 117/1000 [00:00<00:02, 333.99it/s]\n",
      "Converged to LP: -286.3:  12%|█▎        | 125/1000 [00:00<00:03, 230.98it/s]\n",
      "LP: -338.7:   1%|▏         | 13/1000 [00:00<00:07, 125.76it/s]"
     ]
    },
    {
     "name": "stdout",
     "output_type": "stream",
     "text": [
      "Fitting 3 states...\n"
     ]
    },
    {
     "name": "stderr",
     "output_type": "stream",
     "text": [
      "Converged to LP: -335.3:   3%|▎         | 29/1000 [00:00<00:05, 190.22it/s]\n",
      "Converged to LP: -335.8:   4%|▍         | 45/1000 [00:00<00:06, 149.88it/s]\n",
      "Converged to LP: -330.8:   6%|▌         | 62/1000 [00:00<00:05, 173.93it/s]\n",
      "Converged to LP: -333.4:  10%|█         | 105/1000 [00:00<00:04, 218.42it/s]\n",
      "Converged to LP: -310.7:  24%|██▍       | 239/1000 [00:01<00:03, 222.85it/s]\n",
      "LP: -392.0:   0%|          | 0/1000 [00:00<?, ?it/s]"
     ]
    },
    {
     "name": "stdout",
     "output_type": "stream",
     "text": [
      "Fitting 4 states...\n"
     ]
    },
    {
     "name": "stderr",
     "output_type": "stream",
     "text": [
      "Converged to LP: -374.8:   5%|▍         | 46/1000 [00:00<00:06, 139.15it/s]\n",
      "Converged to LP: -375.1:   8%|▊         | 79/1000 [00:00<00:04, 185.45it/s]\n",
      "Converged to LP: -374.5:  28%|██▊       | 280/1000 [00:01<00:03, 232.14it/s]\n",
      "Converged to LP: -362.3:  29%|██▊       | 287/1000 [00:01<00:03, 212.81it/s]\n",
      "Converged to LP: -365.1:  61%|██████    | 606/1000 [00:02<00:01, 232.93it/s]\n",
      "LP: -430.2:   0%|          | 0/1000 [00:00<?, ?it/s]"
     ]
    },
    {
     "name": "stdout",
     "output_type": "stream",
     "text": [
      "Fitting 5 states...\n"
     ]
    },
    {
     "name": "stderr",
     "output_type": "stream",
     "text": [
      "Converged to LP: -412.1:   6%|▌         | 58/1000 [00:00<00:06, 155.74it/s]\n",
      "Converged to LP: -410.3:  13%|█▎        | 132/1000 [00:00<00:05, 161.34it/s]\n",
      "Converged to LP: -413.7:  15%|█▌        | 153/1000 [00:00<00:04, 179.07it/s]\n",
      "Converged to LP: -406.5:  20%|██        | 201/1000 [00:01<00:05, 153.07it/s]\n",
      "Converged to LP: -400.8:  26%|██▋       | 263/1000 [00:01<00:04, 180.85it/s]\n",
      "LP: -409.8:   0%|          | 0/1000 [00:00<?, ?it/s]"
     ]
    },
    {
     "name": "stdout",
     "output_type": "stream",
     "text": [
      "Fitting session 4...\n",
      "Fitting 2 states...\n"
     ]
    },
    {
     "name": "stderr",
     "output_type": "stream",
     "text": [
      "Converged to LP: -378.7:   1%|▏         | 13/1000 [00:00<00:03, 257.81it/s]\n",
      "Converged to LP: -382.0:   2%|▏         | 18/1000 [00:00<00:03, 303.93it/s]\n",
      "Converged to LP: -376.4:   5%|▌         | 50/1000 [00:00<00:03, 241.27it/s]\n",
      "Converged to LP: -384.4:   7%|▋         | 68/1000 [00:00<00:03, 253.07it/s]\n",
      "Converged to LP: -388.6:   9%|▉         | 90/1000 [00:00<00:03, 301.27it/s]\n",
      "Converged to LP: -416.8:   1%|▏         | 13/1000 [00:00<00:05, 185.30it/s]\n",
      "LP: -429.3:   0%|          | 0/1000 [00:00<?, ?it/s]"
     ]
    },
    {
     "name": "stdout",
     "output_type": "stream",
     "text": [
      "Fitting 3 states...\n",
      "Fitting 4 states...\n"
     ]
    },
    {
     "name": "stderr",
     "output_type": "stream",
     "text": [
      "Converged to LP: -421.3:   2%|▏         | 16/1000 [00:00<00:06, 153.59it/s]\n",
      "Converged to LP: -426.7:   2%|▎         | 25/1000 [00:00<00:05, 183.62it/s]\n",
      "Converged to LP: -421.6:   4%|▎         | 37/1000 [00:00<00:04, 229.17it/s]\n",
      "Converged to LP: -428.7:   4%|▍         | 39/1000 [00:00<00:04, 209.02it/s]\n",
      "Converged to LP: -460.6:   4%|▍         | 43/1000 [00:00<00:05, 185.32it/s]\n",
      "Converged to LP: -455.8:   4%|▍         | 44/1000 [00:00<00:05, 173.80it/s]\n",
      "Converged to LP: -463.3:  13%|█▎        | 133/1000 [00:00<00:04, 185.93it/s]\n",
      "Converged to LP: -453.1:  21%|██        | 212/1000 [00:00<00:03, 220.84it/s]\n",
      "Converged to LP: -469.9:  21%|██        | 210/1000 [00:00<00:03, 212.43it/s]\n",
      "LP: -517.5:   0%|          | 0/1000 [00:00<?, ?it/s]"
     ]
    },
    {
     "name": "stdout",
     "output_type": "stream",
     "text": [
      "Fitting 5 states...\n"
     ]
    },
    {
     "name": "stderr",
     "output_type": "stream",
     "text": [
      "Converged to LP: -499.7:   5%|▌         | 52/1000 [00:00<00:07, 133.86it/s]\n",
      "Converged to LP: -494.2:   7%|▋         | 68/1000 [00:00<00:06, 155.15it/s]\n",
      "Converged to LP: -491.9:  10%|▉         | 97/1000 [00:00<00:05, 170.48it/s]\n",
      "Converged to LP: -496.5:   9%|▉         | 89/1000 [00:00<00:05, 153.90it/s]\n",
      "Converged to LP: -508.3:  15%|█▌        | 150/1000 [00:00<00:05, 160.25it/s]\n",
      "Converged to LP: -392.2:   1%|          | 7/1000 [00:00<00:05, 185.83it/s]\n",
      "Converged to LP: -387.3:   1%|          | 11/1000 [00:00<00:04, 233.71it/s]\n",
      "Converged to LP: -392.8:   1%|          | 11/1000 [00:00<00:04, 205.18it/s]\n",
      "Converged to LP: -398.1:   1%|          | 11/1000 [00:00<00:04, 205.80it/s]\n",
      "Converged to LP: -383.3:   2%|▏         | 17/1000 [00:00<00:04, 230.85it/s]\n",
      "Converged to LP: -418.3:   1%|          | 8/1000 [00:00<00:06, 162.22it/s]\n",
      "Converged to LP: -429.6:   1%|          | 9/1000 [00:00<00:05, 167.24it/s]\n",
      "Converged to LP: -430.2:   1%|          | 10/1000 [00:00<00:05, 183.06it/s]\n",
      "Converged to LP: -438.9:   1%|          | 11/1000 [00:00<00:05, 169.71it/s]\n",
      "LP: -423.9:   0%|          | 0/1000 [00:00<?, ?it/s]"
     ]
    },
    {
     "name": "stdout",
     "output_type": "stream",
     "text": [
      "Fitting session 5...\n",
      "Fitting 2 states...\n",
      "Fitting 3 states...\n",
      "Fitting 4 states...\n"
     ]
    },
    {
     "name": "stderr",
     "output_type": "stream",
     "text": [
      "Converged to LP: -423.9:   1%|          | 12/1000 [00:00<00:06, 157.54it/s]\n",
      "Converged to LP: -434.7:   4%|▍         | 44/1000 [00:00<00:05, 167.87it/s]\n",
      "Converged to LP: -430.9:   4%|▍         | 39/1000 [00:00<00:06, 143.53it/s]\n",
      "Converged to LP: -441.8:   6%|▌         | 59/1000 [00:00<00:04, 195.13it/s]\n",
      "Converged to LP: -437.1:   7%|▋         | 66/1000 [00:00<00:04, 192.25it/s]\n",
      "Converged to LP: -450.2:   8%|▊         | 75/1000 [00:00<00:05, 178.09it/s]\n",
      "LP: -498.0:   1%|          | 9/1000 [00:00<00:12, 80.88it/s]s]"
     ]
    },
    {
     "name": "stdout",
     "output_type": "stream",
     "text": [
      "Fitting 5 states...\n"
     ]
    },
    {
     "name": "stderr",
     "output_type": "stream",
     "text": [
      "Converged to LP: -492.0:   4%|▍         | 41/1000 [00:00<00:06, 143.66it/s]\n",
      "Converged to LP: -498.4:   5%|▌         | 52/1000 [00:00<00:05, 161.64it/s]\n",
      "Converged to LP: -483.2:   5%|▍         | 47/1000 [00:00<00:06, 140.45it/s]\n",
      "Converged to LP: -511.3:   5%|▌         | 51/1000 [00:00<00:07, 125.99it/s]\n",
      "Converged to LP: -490.5:   7%|▋         | 68/1000 [00:00<00:07, 126.63it/s]\n",
      "LP: -277.2:   0%|          | 0/1000 [00:00<?, ?it/s]"
     ]
    },
    {
     "name": "stdout",
     "output_type": "stream",
     "text": [
      "Fitting session 6...\n",
      "Fitting 2 states...\n"
     ]
    },
    {
     "name": "stderr",
     "output_type": "stream",
     "text": [
      "Converged to LP: -256.5:   1%|          | 11/1000 [00:00<00:03, 273.62it/s]\n",
      "Converged to LP: -269.5:   1%|          | 11/1000 [00:00<00:03, 262.28it/s]\n",
      "Converged to LP: -270.3:   2%|▎         | 25/1000 [00:00<00:04, 243.65it/s]\n",
      "Converged to LP: -270.0:   6%|▋         | 65/1000 [00:00<00:03, 262.44it/s]\n",
      "Converged to LP: -266.6:  13%|█▎        | 133/1000 [00:00<00:02, 319.80it/s]\n",
      "Converged to LP: -314.6:   2%|▏         | 19/1000 [00:00<00:05, 192.12it/s]\n",
      "LP: -313.8:   1%|          | 12/1000 [00:00<00:08, 114.72it/s]"
     ]
    },
    {
     "name": "stdout",
     "output_type": "stream",
     "text": [
      "Fitting 3 states...\n"
     ]
    },
    {
     "name": "stderr",
     "output_type": "stream",
     "text": [
      "Converged to LP: -297.4:   4%|▍         | 42/1000 [00:00<00:04, 213.48it/s]\n",
      "Converged to LP: -310.1:   4%|▎         | 36/1000 [00:00<00:06, 138.15it/s]\n",
      "Converged to LP: -312.5:   4%|▍         | 44/1000 [00:00<00:06, 151.67it/s]\n",
      "Converged to LP: -296.9:  19%|█▊        | 186/1000 [00:00<00:03, 225.25it/s]\n",
      "LP: -357.7:   1%|          | 10/1000 [00:00<00:10, 98.22it/s]]"
     ]
    },
    {
     "name": "stdout",
     "output_type": "stream",
     "text": [
      "Fitting 4 states...\n"
     ]
    },
    {
     "name": "stderr",
     "output_type": "stream",
     "text": [
      "Converged to LP: -350.4:   6%|▌         | 57/1000 [00:00<00:05, 172.57it/s]\n",
      "Converged to LP: -356.0:   7%|▋         | 71/1000 [00:00<00:05, 156.29it/s]\n",
      "Converged to LP: -341.1:   7%|▋         | 68/1000 [00:00<00:06, 142.54it/s]\n",
      "Converged to LP: -350.9:  17%|█▋        | 171/1000 [00:00<00:04, 189.62it/s]\n",
      "Converged to LP: -354.7:  24%|██▍       | 244/1000 [00:01<00:03, 202.66it/s]\n",
      "LP: -399.0:   1%|▏         | 14/1000 [00:00<00:07, 134.80it/s]"
     ]
    },
    {
     "name": "stdout",
     "output_type": "stream",
     "text": [
      "Fitting 5 states...\n"
     ]
    },
    {
     "name": "stderr",
     "output_type": "stream",
     "text": [
      "Converged to LP: -400.2:   5%|▌         | 51/1000 [00:00<00:05, 164.93it/s]\n",
      "Converged to LP: -402.7:   7%|▋         | 66/1000 [00:00<00:05, 184.83it/s]\n",
      "Converged to LP: -403.8:   5%|▌         | 54/1000 [00:00<00:06, 136.23it/s]\n",
      "Converged to LP: -385.0:  23%|██▎       | 229/1000 [00:01<00:04, 183.73it/s]\n",
      "Converged to LP: -385.5:  28%|██▊       | 284/1000 [00:01<00:04, 156.62it/s]\n",
      "Converged to LP: -284.4:   2%|▏         | 17/1000 [00:00<00:03, 286.24it/s]\n",
      "Converged to LP: -289.2:   2%|▎         | 25/1000 [00:00<00:03, 268.31it/s]\n",
      "Converged to LP: -282.7:   2%|▏         | 17/1000 [00:00<00:05, 177.44it/s]\n",
      "Converged to LP: -276.0:   3%|▎         | 31/1000 [00:00<00:04, 223.29it/s]\n",
      "LP: -284.2:   2%|▏         | 17/1000 [00:00<00:05, 168.39it/s]"
     ]
    },
    {
     "name": "stdout",
     "output_type": "stream",
     "text": [
      "Fitting session 7...\n",
      "Fitting 2 states...\n"
     ]
    },
    {
     "name": "stderr",
     "output_type": "stream",
     "text": [
      "Converged to LP: -281.6:  10%|▉         | 95/1000 [00:00<00:03, 271.58it/s]\n"
     ]
    },
    {
     "name": "stdout",
     "output_type": "stream",
     "text": [
      "Fitting 3 states...\n"
     ]
    },
    {
     "name": "stderr",
     "output_type": "stream",
     "text": [
      "Converged to LP: -328.8:   2%|▏         | 22/1000 [00:00<00:07, 139.30it/s]\n",
      "Converged to LP: -326.7:   4%|▍         | 42/1000 [00:00<00:04, 232.65it/s]\n",
      "Converged to LP: -326.5:   4%|▍         | 43/1000 [00:00<00:04, 233.46it/s]\n",
      "Converged to LP: -322.3:   4%|▍         | 39/1000 [00:00<00:05, 187.75it/s]\n",
      "Converged to LP: -332.3:   5%|▍         | 49/1000 [00:00<00:04, 226.94it/s]\n",
      "LP: -376.6:   1%|▏         | 14/1000 [00:00<00:07, 139.85it/s]"
     ]
    },
    {
     "name": "stdout",
     "output_type": "stream",
     "text": [
      "Fitting 4 states...\n"
     ]
    },
    {
     "name": "stderr",
     "output_type": "stream",
     "text": [
      "Converged to LP: -364.9:   9%|▉         | 94/1000 [00:00<00:04, 181.35it/s]\n",
      "Converged to LP: -360.6:  20%|█▉        | 196/1000 [00:01<00:04, 171.56it/s]\n",
      "Converged to LP: -363.2:  23%|██▎       | 230/1000 [00:01<00:03, 199.11it/s]\n",
      "Converged to LP: -351.5:  34%|███▍      | 342/1000 [00:01<00:03, 194.56it/s]\n",
      "Converged to LP: -369.1:  62%|██████▏   | 622/1000 [00:02<00:01, 212.03it/s]\n",
      "LP: -431.3:   0%|          | 0/1000 [00:00<?, ?it/s]"
     ]
    },
    {
     "name": "stdout",
     "output_type": "stream",
     "text": [
      "Fitting 5 states...\n"
     ]
    },
    {
     "name": "stderr",
     "output_type": "stream",
     "text": [
      "Converged to LP: -408.8:   8%|▊         | 83/1000 [00:00<00:05, 154.38it/s]\n",
      "Converged to LP: -418.8:  12%|█▏        | 120/1000 [00:00<00:06, 130.86it/s]\n",
      "Converged to LP: -408.4:  27%|██▋       | 267/1000 [00:01<00:03, 192.59it/s]\n",
      "Converged to LP: -417.9:  36%|███▋      | 365/1000 [00:01<00:03, 191.55it/s]\n",
      "Converged to LP: -403.0:  36%|███▋      | 365/1000 [00:02<00:03, 159.31it/s]\n",
      "Converged to LP: -373.1:   1%|          | 10/1000 [00:00<00:03, 273.24it/s]\n",
      "Converged to LP: -360.0:   1%|          | 10/1000 [00:00<00:03, 247.88it/s]\n",
      "Converged to LP: -363.9:   1%|          | 12/1000 [00:00<00:03, 266.08it/s]\n",
      "Converged to LP: -373.7:   1%|▏         | 13/1000 [00:00<00:03, 260.19it/s]\n",
      "Converged to LP: -367.7:   2%|▏         | 19/1000 [00:00<00:05, 170.50it/s]\n",
      "LP: -418.1:   0%|          | 0/1000 [00:00<?, ?it/s]"
     ]
    },
    {
     "name": "stdout",
     "output_type": "stream",
     "text": [
      "Fitting session 8...\n",
      "Fitting 2 states...\n",
      "Fitting 3 states...\n"
     ]
    },
    {
     "name": "stderr",
     "output_type": "stream",
     "text": [
      "Converged to LP: -418.1:   2%|▏         | 15/1000 [00:00<00:04, 218.80it/s]\n",
      "Converged to LP: -403.7:   1%|          | 12/1000 [00:00<00:05, 189.79it/s]\n",
      "Converged to LP: -416.0:   2%|▏         | 19/1000 [00:00<00:04, 230.96it/s]\n",
      "Converged to LP: -409.4:   2%|▏         | 15/1000 [00:00<00:06, 143.23it/s]\n",
      "Converged to LP: -407.7:   6%|▌         | 57/1000 [00:00<00:04, 219.63it/s]\n"
     ]
    },
    {
     "name": "stdout",
     "output_type": "stream",
     "text": [
      "Fitting 4 states...\n"
     ]
    },
    {
     "name": "stderr",
     "output_type": "stream",
     "text": [
      "Converged to LP: -447.4:   5%|▍         | 47/1000 [00:00<00:05, 177.08it/s]\n",
      "Converged to LP: -451.3:   8%|▊         | 85/1000 [00:00<00:06, 144.01it/s]\n",
      "Converged to LP: -454.9:  11%|█         | 112/1000 [00:00<00:05, 172.10it/s]\n",
      "Converged to LP: -443.4:  13%|█▎        | 134/1000 [00:00<00:04, 187.44it/s]\n",
      "Converged to LP: -447.7:  25%|██▌       | 251/1000 [00:01<00:03, 228.92it/s]\n",
      "LP: -502.9:   0%|          | 0/1000 [00:00<?, ?it/s]"
     ]
    },
    {
     "name": "stdout",
     "output_type": "stream",
     "text": [
      "Fitting 5 states...\n"
     ]
    },
    {
     "name": "stderr",
     "output_type": "stream",
     "text": [
      "Converged to LP: -480.3:  10%|▉         | 95/1000 [00:00<00:06, 144.96it/s]\n",
      "Converged to LP: -481.8:  11%|█         | 112/1000 [00:00<00:05, 156.45it/s]\n",
      "Converged to LP: -494.1:  12%|█▏        | 122/1000 [00:00<00:06, 144.88it/s]\n",
      "Converged to LP: -499.1:  13%|█▎        | 129/1000 [00:00<00:05, 149.97it/s]\n",
      "Converged to LP: -478.8:  21%|██        | 210/1000 [00:01<00:05, 154.56it/s]\n",
      "Converged to LP: -346.5:   1%|          | 6/1000 [00:00<00:03, 264.47it/s]\n",
      "Converged to LP: -348.6:   1%|          | 7/1000 [00:00<00:03, 286.68it/s]\n",
      "Converged to LP: -346.4:   1%|          | 8/1000 [00:00<00:03, 269.52it/s]\n",
      "Converged to LP: -338.2:   1%|          | 6/1000 [00:00<00:05, 173.64it/s]\n",
      "Converged to LP: -339.2:   1%|          | 11/1000 [00:00<00:04, 211.68it/s]\n",
      "LP: -392.5:   0%|          | 0/1000 [00:00<?, ?it/s]"
     ]
    },
    {
     "name": "stdout",
     "output_type": "stream",
     "text": [
      "Fitting session 9...\n",
      "Fitting 2 states...\n",
      "Fitting 3 states...\n"
     ]
    },
    {
     "name": "stderr",
     "output_type": "stream",
     "text": [
      "Converged to LP: -391.4:   2%|▏         | 21/1000 [00:00<00:03, 249.77it/s]\n",
      "Converged to LP: -382.0:   2%|▏         | 18/1000 [00:00<00:04, 226.30it/s]\n",
      "Converged to LP: -392.5:   3%|▎         | 30/1000 [00:00<00:03, 253.96it/s]\n",
      "Converged to LP: -381.7:   4%|▍         | 39/1000 [00:00<00:04, 229.47it/s]\n",
      "Converged to LP: -392.0:   6%|▋         | 65/1000 [00:00<00:04, 233.58it/s]\n"
     ]
    },
    {
     "name": "stdout",
     "output_type": "stream",
     "text": [
      "Fitting 4 states...\n"
     ]
    },
    {
     "name": "stderr",
     "output_type": "stream",
     "text": [
      "Converged to LP: -436.2:   3%|▎         | 33/1000 [00:00<00:05, 189.28it/s]\n",
      "Converged to LP: -423.9:   4%|▍         | 42/1000 [00:00<00:06, 149.06it/s]\n",
      "Converged to LP: -419.5:   8%|▊         | 81/1000 [00:00<00:04, 205.78it/s]\n",
      "Converged to LP: -402.2:  15%|█▌        | 151/1000 [00:00<00:04, 197.51it/s]\n",
      "Converged to LP: -431.2:  15%|█▍        | 146/1000 [00:00<00:04, 189.90it/s]\n",
      "LP: -486.8:   0%|          | 0/1000 [00:00<?, ?it/s]"
     ]
    },
    {
     "name": "stdout",
     "output_type": "stream",
     "text": [
      "Fitting 5 states...\n"
     ]
    },
    {
     "name": "stderr",
     "output_type": "stream",
     "text": [
      "Converged to LP: -454.2:   4%|▎         | 37/1000 [00:00<00:09, 96.32it/s]\n",
      "Converged to LP: -475.4:   8%|▊         | 83/1000 [00:00<00:05, 175.39it/s]\n",
      "Converged to LP: -460.6:  10%|█         | 105/1000 [00:00<00:05, 165.25it/s]\n",
      "Converged to LP: -459.7:   9%|▉         | 90/1000 [00:00<00:06, 135.34it/s]\n",
      "Converged to LP: -461.5:  12%|█▏        | 117/1000 [00:00<00:05, 163.43it/s]\n",
      "Converged to LP: -337.3:   1%|▏         | 14/1000 [00:00<00:03, 247.28it/s]\n",
      "LP: -330.4:   3%|▎         | 27/1000 [00:00<00:03, 263.91it/s]"
     ]
    },
    {
     "name": "stdout",
     "output_type": "stream",
     "text": [
      "Fitting session 10...\n",
      "Fitting 2 states...\n"
     ]
    },
    {
     "name": "stderr",
     "output_type": "stream",
     "text": [
      "Converged to LP: -330.4:   4%|▍         | 40/1000 [00:00<00:03, 290.45it/s]\n",
      "Converged to LP: -335.8:  10%|▉         | 95/1000 [00:00<00:02, 307.29it/s]\n",
      "Converged to LP: -336.7:  11%|█         | 108/1000 [00:00<00:03, 255.25it/s]\n",
      "Converged to LP: -346.6:  30%|███       | 300/1000 [00:01<00:02, 285.56it/s]\n",
      "LP: -380.0:   0%|          | 0/1000 [00:00<?, ?it/s]"
     ]
    },
    {
     "name": "stdout",
     "output_type": "stream",
     "text": [
      "Fitting 3 states...\n"
     ]
    },
    {
     "name": "stderr",
     "output_type": "stream",
     "text": [
      "Converged to LP: -385.8:   8%|▊         | 77/1000 [00:00<00:05, 184.35it/s]\n",
      "Converged to LP: -373.5:  12%|█▎        | 125/1000 [00:00<00:04, 218.31it/s]\n",
      "Converged to LP: -377.8:  12%|█▏        | 121/1000 [00:00<00:04, 191.05it/s]\n",
      "Converged to LP: -376.2:  15%|█▍        | 149/1000 [00:00<00:03, 228.31it/s]\n",
      "Converged to LP: -375.7:  16%|█▋        | 164/1000 [00:00<00:03, 247.07it/s]\n"
     ]
    },
    {
     "name": "stdout",
     "output_type": "stream",
     "text": [
      "Fitting 4 states...\n"
     ]
    },
    {
     "name": "stderr",
     "output_type": "stream",
     "text": [
      "Converged to LP: -413.9:   7%|▋         | 69/1000 [00:00<00:05, 178.64it/s]\n",
      "Converged to LP: -439.2:   9%|▉         | 91/1000 [00:00<00:04, 199.06it/s]\n",
      "Converged to LP: -418.3:   9%|▉         | 93/1000 [00:00<00:05, 172.73it/s]\n",
      "Converged to LP: -419.3:  19%|█▉        | 192/1000 [00:00<00:03, 207.94it/s]\n",
      "Converged to LP: -413.3:  32%|███▏      | 319/1000 [00:01<00:03, 199.15it/s]\n",
      "LP: -486.0:   0%|          | 0/1000 [00:00<?, ?it/s]"
     ]
    },
    {
     "name": "stdout",
     "output_type": "stream",
     "text": [
      "Fitting 5 states...\n"
     ]
    },
    {
     "name": "stderr",
     "output_type": "stream",
     "text": [
      "Converged to LP: -451.5:  11%|█▏        | 113/1000 [00:00<00:05, 165.88it/s]\n",
      "Converged to LP: -449.9:  14%|█▍        | 140/1000 [00:00<00:05, 153.69it/s]\n",
      "Converged to LP: -471.6:  19%|█▉        | 193/1000 [00:01<00:04, 175.57it/s]\n",
      "Converged to LP: -471.9:  25%|██▍       | 247/1000 [00:01<00:04, 177.51it/s]\n",
      "Converged to LP: -453.4:  30%|██▉       | 299/1000 [00:01<00:03, 175.49it/s]\n",
      "Converged to LP: -387.5:   1%|          | 12/1000 [00:00<00:05, 182.25it/s]\n",
      "LP: -374.7:   2%|▏         | 24/1000 [00:00<00:04, 235.42it/s]"
     ]
    },
    {
     "name": "stdout",
     "output_type": "stream",
     "text": [
      "Fitting session 11...\n",
      "Fitting 2 states...\n"
     ]
    },
    {
     "name": "stderr",
     "output_type": "stream",
     "text": [
      "Converged to LP: -374.7:   3%|▎         | 26/1000 [00:00<00:04, 237.90it/s]\n",
      "Converged to LP: -377.5:   3%|▎         | 33/1000 [00:00<00:03, 275.19it/s]\n",
      "Converged to LP: -372.8:   4%|▎         | 37/1000 [00:00<00:03, 273.81it/s]\n",
      "Converged to LP: -376.7:  10%|▉         | 97/1000 [00:00<00:03, 286.06it/s]\n",
      "LP: -419.9:   2%|▏         | 20/1000 [00:00<00:05, 192.09it/s], 207.87it/s]\n",
      "Converged to LP: -419.8:   3%|▎         | 31/1000 [00:00<00:04, 208.15it/s]\n",
      "Converged to LP: -411.8:   2%|▎         | 25/1000 [00:00<00:05, 163.33it/s]\n",
      "LP: -407.0:   2%|▏         | 19/1000 [00:00<00:05, 183.10it/s]"
     ]
    },
    {
     "name": "stdout",
     "output_type": "stream",
     "text": [
      "Fitting 3 states...\n"
     ]
    },
    {
     "name": "stderr",
     "output_type": "stream",
     "text": [
      "Converged to LP: -404.2:   6%|▋         | 64/1000 [00:00<00:04, 207.26it/s]\n",
      "Converged to LP: -431.1:  10%|▉         | 97/1000 [00:00<00:03, 235.36it/s]\n",
      "LP: -464.5:   1%|▏         | 13/1000 [00:00<00:07, 127.15it/s]"
     ]
    },
    {
     "name": "stdout",
     "output_type": "stream",
     "text": [
      "Fitting 4 states...\n"
     ]
    },
    {
     "name": "stderr",
     "output_type": "stream",
     "text": [
      "Converged to LP: -464.9:   7%|▋         | 72/1000 [00:00<00:05, 177.51it/s]\n",
      "Converged to LP: -437.7:  10%|▉         | 97/1000 [00:00<00:05, 176.66it/s]\n",
      "Converged to LP: -449.5:   9%|▉         | 94/1000 [00:00<00:05, 151.06it/s]\n",
      "Converged to LP: -451.5:  13%|█▎        | 127/1000 [00:00<00:05, 145.79it/s]\n",
      "Converged to LP: -459.6:  18%|█▊        | 183/1000 [00:01<00:04, 178.24it/s]\n",
      "LP: -504.2:   0%|          | 0/1000 [00:00<?, ?it/s]5.36it/s]]"
     ]
    },
    {
     "name": "stdout",
     "output_type": "stream",
     "text": [
      "Fitting 5 states...\n"
     ]
    },
    {
     "name": "stderr",
     "output_type": "stream",
     "text": [
      "Converged to LP: -503.3:  10%|█         | 102/1000 [00:00<00:05, 151.53it/s]\n",
      "Converged to LP: -490.0:  12%|█▏        | 122/1000 [00:00<00:05, 156.86it/s]\n",
      "Converged to LP: -492.2:  13%|█▎        | 131/1000 [00:00<00:05, 153.17it/s]\n",
      "Converged to LP: -502.5:  17%|█▋        | 166/1000 [00:01<00:05, 163.76it/s]\n",
      "Converged to LP: -497.3:  27%|██▋       | 272/1000 [00:01<00:04, 173.78it/s]\n",
      "Converged to LP: -354.0:   1%|▏         | 14/1000 [00:00<00:04, 213.30it/s]\n",
      "Converged to LP: -358.6:   3%|▎         | 26/1000 [00:00<00:03, 261.83it/s]\n",
      "Converged to LP: -359.1:   2%|▏         | 18/1000 [00:00<00:05, 169.97it/s]\n",
      "Converged to LP: -357.8:   3%|▎         | 31/1000 [00:00<00:04, 210.42it/s]\n",
      "Converged to LP: -368.4:   4%|▍         | 39/1000 [00:00<00:03, 257.76it/s]\n"
     ]
    },
    {
     "name": "stdout",
     "output_type": "stream",
     "text": [
      "Fitting session 12...\n",
      "Fitting 2 states...\n",
      "Fitting 3 states...\n"
     ]
    },
    {
     "name": "stderr",
     "output_type": "stream",
     "text": [
      "Converged to LP: -404.8:   2%|▏         | 20/1000 [00:00<00:04, 220.59it/s]\n",
      "Converged to LP: -406.1:   2%|▎         | 25/1000 [00:00<00:04, 242.38it/s]\n",
      "Converged to LP: -400.1:   2%|▏         | 24/1000 [00:00<00:04, 196.82it/s]\n",
      "Converged to LP: -409.1:   4%|▍         | 38/1000 [00:00<00:05, 178.15it/s]\n",
      "Converged to LP: -388.8:   8%|▊         | 79/1000 [00:00<00:04, 185.33it/s]\n",
      "LP: -442.8:   2%|▏         | 15/1000 [00:00<00:06, 141.47it/s]"
     ]
    },
    {
     "name": "stdout",
     "output_type": "stream",
     "text": [
      "Fitting 4 states...\n"
     ]
    },
    {
     "name": "stderr",
     "output_type": "stream",
     "text": [
      "Converged to LP: -443.4:   8%|▊         | 79/1000 [00:00<00:04, 198.67it/s]\n",
      "Converged to LP: -422.3:   7%|▋         | 67/1000 [00:00<00:06, 146.20it/s]\n",
      "Converged to LP: -429.3:   9%|▉         | 93/1000 [00:00<00:05, 172.19it/s]\n",
      "Converged to LP: -434.1:  11%|█         | 108/1000 [00:00<00:04, 196.02it/s]\n",
      "Converged to LP: -432.9:  22%|██▏       | 224/1000 [00:01<00:03, 207.52it/s]\n",
      "LP: -496.8:   0%|          | 0/1000 [00:00<?, ?it/s]"
     ]
    },
    {
     "name": "stdout",
     "output_type": "stream",
     "text": [
      "Fitting 5 states...\n"
     ]
    },
    {
     "name": "stderr",
     "output_type": "stream",
     "text": [
      "Converged to LP: -474.7:   6%|▌         | 61/1000 [00:00<00:07, 131.24it/s]\n",
      "Converged to LP: -482.5:   5%|▌         | 50/1000 [00:00<00:09, 104.99it/s]\n",
      "Converged to LP: -476.6:   6%|▋         | 64/1000 [00:00<00:08, 108.87it/s]\n",
      "Converged to LP: -477.8:   9%|▉         | 92/1000 [00:00<00:06, 132.06it/s]\n",
      "Converged to LP: -477.3:  20%|█▉        | 197/1000 [00:01<00:04, 162.96it/s]\n",
      "Converged to LP: -381.2:   2%|▏         | 15/1000 [00:00<00:03, 261.61it/s]\n",
      "Converged to LP: -378.1:   1%|▏         | 14/1000 [00:00<00:04, 200.94it/s]\n",
      "Converged to LP: -377.5:   2%|▏         | 15/1000 [00:00<00:05, 165.68it/s]\n",
      "Converged to LP: -373.0:   2%|▏         | 17/1000 [00:00<00:05, 183.14it/s]\n"
     ]
    },
    {
     "name": "stdout",
     "output_type": "stream",
     "text": [
      "Fitting session 13...\n",
      "Fitting 2 states...\n"
     ]
    },
    {
     "name": "stderr",
     "output_type": "stream",
     "text": [
      "Converged to LP: -368.6:  20%|█▉        | 198/1000 [00:00<00:02, 292.52it/s]\n",
      "LP: -448.0:   0%|          | 0/1000 [00:00<?, ?it/s]"
     ]
    },
    {
     "name": "stdout",
     "output_type": "stream",
     "text": [
      "Fitting 3 states...\n"
     ]
    },
    {
     "name": "stderr",
     "output_type": "stream",
     "text": [
      "Converged to LP: -426.0:   2%|▏         | 18/1000 [00:00<00:06, 153.58it/s]\n",
      "Converged to LP: -411.8:   2%|▎         | 25/1000 [00:00<00:05, 163.07it/s]\n",
      "Converged to LP: -414.3:  10%|▉         | 95/1000 [00:00<00:04, 223.43it/s]\n",
      "Converged to LP: -412.1:  20%|██        | 200/1000 [00:00<00:03, 219.32it/s]\n",
      "Converged to LP: -412.1:  24%|██▍       | 241/1000 [00:01<00:03, 217.58it/s]\n",
      "LP: -452.5:   1%|▏         | 14/1000 [00:00<00:07, 137.25it/s]"
     ]
    },
    {
     "name": "stdout",
     "output_type": "stream",
     "text": [
      "Fitting 4 states...\n"
     ]
    },
    {
     "name": "stderr",
     "output_type": "stream",
     "text": [
      "Converged to LP: -440.9:   7%|▋         | 67/1000 [00:00<00:05, 158.81it/s]\n",
      "Converged to LP: -455.8:   8%|▊         | 80/1000 [00:00<00:07, 127.89it/s]\n",
      "Converged to LP: -446.1:  17%|█▋        | 168/1000 [00:00<00:03, 209.99it/s]\n",
      "Converged to LP: -443.8:  16%|█▌        | 156/1000 [00:00<00:04, 171.09it/s]\n",
      "Converged to LP: -451.9:  21%|██        | 211/1000 [00:01<00:04, 179.01it/s]\n",
      "LP: -515.2:   1%|          | 8/1000 [00:00<00:13, 73.04it/s]s]"
     ]
    },
    {
     "name": "stdout",
     "output_type": "stream",
     "text": [
      "Fitting 5 states...\n"
     ]
    },
    {
     "name": "stderr",
     "output_type": "stream",
     "text": [
      "Converged to LP: -500.0:   6%|▌         | 57/1000 [00:00<00:06, 157.11it/s]\n",
      "Converged to LP: -502.4:   9%|▊         | 87/1000 [00:00<00:08, 113.39it/s]\n",
      "Converged to LP: -476.3:  13%|█▎        | 130/1000 [00:00<00:06, 135.34it/s]\n",
      "Converged to LP: -492.8:  24%|██▍       | 241/1000 [00:01<00:04, 155.85it/s]\n",
      "Converged to LP: -497.6:  26%|██▋       | 265/1000 [00:01<00:04, 167.05it/s]\n",
      "Converged to LP: -343.4:   2%|▏         | 17/1000 [00:00<00:03, 265.59it/s]\n",
      "Converged to LP: -341.9:   2%|▏         | 23/1000 [00:00<00:03, 285.98it/s]\n",
      "LP: -335.3:   2%|▏         | 22/1000 [00:00<00:04, 210.84it/s]"
     ]
    },
    {
     "name": "stdout",
     "output_type": "stream",
     "text": [
      "Fitting session 14...\n",
      "Fitting 2 states...\n"
     ]
    },
    {
     "name": "stderr",
     "output_type": "stream",
     "text": [
      "Converged to LP: -340.1:   3%|▎         | 30/1000 [00:00<00:05, 192.35it/s]\n",
      "Converged to LP: -343.5:   4%|▍         | 42/1000 [00:00<00:03, 259.15it/s]\n",
      "Converged to LP: -329.5:  13%|█▎        | 127/1000 [00:00<00:03, 260.90it/s]\n",
      "LP: -385.5:   0%|          | 0/1000 [00:00<?, ?it/s]"
     ]
    },
    {
     "name": "stdout",
     "output_type": "stream",
     "text": [
      "Fitting 3 states...\n"
     ]
    },
    {
     "name": "stderr",
     "output_type": "stream",
     "text": [
      "Converged to LP: -385.6:   3%|▎         | 26/1000 [00:00<00:04, 200.01it/s]\n",
      "Converged to LP: -386.1:   5%|▌         | 51/1000 [00:00<00:04, 225.47it/s]\n",
      "Converged to LP: -379.7:   5%|▌         | 52/1000 [00:00<00:04, 201.03it/s]\n",
      "Converged to LP: -369.9:   8%|▊         | 75/1000 [00:00<00:03, 238.00it/s]\n",
      "Converged to LP: -385.0:   6%|▌         | 62/1000 [00:00<00:05, 184.34it/s]\n",
      "LP: -429.9:   1%|▏         | 13/1000 [00:00<00:07, 129.36it/s]"
     ]
    },
    {
     "name": "stdout",
     "output_type": "stream",
     "text": [
      "Fitting 4 states...\n"
     ]
    },
    {
     "name": "stderr",
     "output_type": "stream",
     "text": [
      "Converged to LP: -425.0:   8%|▊         | 81/1000 [00:00<00:04, 185.27it/s]\n",
      "Converged to LP: -426.9:   7%|▋         | 68/1000 [00:00<00:06, 133.91it/s]\n",
      "Converged to LP: -419.3:  13%|█▎        | 126/1000 [00:00<00:04, 186.72it/s]\n",
      "Converged to LP: -434.3:  18%|█▊        | 185/1000 [00:00<00:03, 225.17it/s]\n",
      "Converged to LP: -428.8:  19%|█▊        | 186/1000 [00:00<00:03, 216.80it/s]\n",
      "LP: -489.0:   0%|          | 0/1000 [00:00<?, ?it/s]"
     ]
    },
    {
     "name": "stdout",
     "output_type": "stream",
     "text": [
      "Fitting 5 states...\n"
     ]
    },
    {
     "name": "stderr",
     "output_type": "stream",
     "text": [
      "Converged to LP: -457.0:   6%|▋         | 64/1000 [00:00<00:08, 116.31it/s]\n",
      "Converged to LP: -453.0:  14%|█▎        | 135/1000 [00:00<00:05, 168.88it/s]\n",
      "Converged to LP: -465.1:  16%|█▌        | 157/1000 [00:01<00:05, 142.85it/s]\n",
      "Converged to LP: -465.8:  21%|██        | 208/1000 [00:01<00:04, 184.95it/s]\n",
      "Converged to LP: -463.8:  28%|██▊       | 275/1000 [00:01<00:04, 177.02it/s]\n",
      "Converged to LP: -311.2:   2%|▏         | 15/1000 [00:00<00:03, 277.34it/s]\n",
      "LP: -298.8:   0%|          | 0/1000 [00:00<?, ?it/s]"
     ]
    },
    {
     "name": "stdout",
     "output_type": "stream",
     "text": [
      "Fitting session 15...\n",
      "Fitting 2 states...\n"
     ]
    },
    {
     "name": "stderr",
     "output_type": "stream",
     "text": [
      "Converged to LP: -302.7:   3%|▎         | 26/1000 [00:00<00:03, 257.15it/s]\n",
      "Converged to LP: -291.6:   6%|▌         | 61/1000 [00:00<00:03, 277.31it/s]\n",
      "Converged to LP: -307.8:   6%|▌         | 57/1000 [00:00<00:04, 197.55it/s]\n",
      "Converged to LP: -298.5:   6%|▌         | 60/1000 [00:00<00:04, 206.79it/s]\n"
     ]
    },
    {
     "name": "stdout",
     "output_type": "stream",
     "text": [
      "Fitting 3 states...\n"
     ]
    },
    {
     "name": "stderr",
     "output_type": "stream",
     "text": [
      "Converged to LP: -343.4:   2%|▏         | 18/1000 [00:00<00:08, 120.40it/s]\n",
      "Converged to LP: -340.8:   3%|▎         | 30/1000 [00:00<00:06, 147.74it/s]\n",
      "Converged to LP: -341.2:   4%|▍         | 39/1000 [00:00<00:05, 184.19it/s]\n",
      "Converged to LP: -342.5:   6%|▌         | 57/1000 [00:00<00:05, 182.85it/s]\n",
      "Converged to LP: -355.6:   8%|▊         | 81/1000 [00:00<00:05, 178.18it/s]\n",
      "LP: -391.2:   1%|▏         | 14/1000 [00:00<00:07, 136.46it/s]"
     ]
    },
    {
     "name": "stdout",
     "output_type": "stream",
     "text": [
      "Fitting 4 states...\n"
     ]
    },
    {
     "name": "stderr",
     "output_type": "stream",
     "text": [
      "Converged to LP: -390.9:   6%|▌         | 61/1000 [00:00<00:04, 188.97it/s]\n",
      "Converged to LP: -378.5:   6%|▌         | 56/1000 [00:00<00:05, 168.69it/s]\n",
      "Converged to LP: -374.7:   8%|▊         | 83/1000 [00:00<00:04, 196.96it/s]\n",
      "Converged to LP: -378.9:  14%|█▎        | 137/1000 [00:00<00:04, 187.71it/s]\n",
      "Converged to LP: -375.7:  18%|█▊        | 182/1000 [00:00<00:03, 213.91it/s]\n",
      "LP: -436.3:   0%|          | 0/1000 [00:00<?, ?it/s]"
     ]
    },
    {
     "name": "stdout",
     "output_type": "stream",
     "text": [
      "Fitting 5 states...\n"
     ]
    },
    {
     "name": "stderr",
     "output_type": "stream",
     "text": [
      "Converged to LP: -429.9:   9%|▉         | 91/1000 [00:00<00:06, 135.64it/s]\n",
      "Converged to LP: -420.3:  16%|█▌        | 160/1000 [00:00<00:04, 179.92it/s]\n",
      "Converged to LP: -416.3:  21%|██▏       | 213/1000 [00:01<00:04, 170.09it/s]\n",
      "Converged to LP: -423.0:  16%|█▌        | 162/1000 [00:01<00:06, 123.59it/s]\n",
      "Converged to LP: -425.3:  29%|██▉       | 293/1000 [00:01<00:04, 172.47it/s]\n"
     ]
    }
   ],
   "source": [
    "# session-wise fitting with 5 fold cross-validation\n",
    "models_session_state_fold_off_med, train_ll_session_off_med, test_ll_session_off_med = session_wise_fit_cv(choices_session_wise, inputs_session_wise, masks=masks_session_wise,\n",
    "                                                                                    n_sessions=len(off_med_sessions), init_params=init_params, n_iters= 1000)"
   ]
  },
  {
   "cell_type": "code",
   "execution_count": null,
   "metadata": {},
   "outputs": [],
   "source": [
    "off_medication_results = {\n",
    "    'global':{\n",
    "\t\t'inputs': off_med_inputs_aggregate,\n",
    "\t\t'choices': off_med_choices_aggregate,\n",
    "\t\t'masks': off_med_masks_aggregate,\n",
    "\t\t'models': models_glm_hmm_off_med,\n",
    "\t\t'fit_lls': fit_lls_glm_hmm_off_med,\n",
    "\t\t'best_params': init_params\n",
    "\t},\n",
    "\t'session':{\n",
    "\t\t'session_ids': off_med_sessions,\n",
    "        'unnormalized_inputs': unnormalized_off_med_inputs,\n",
    "\t\t'inputs': inputs_session_wise,\n",
    "\t\t'choices': choices_session_wise,\n",
    "\t\t'masks': masks_session_wise,\n",
    "\t\t'reaction_time': reaction_time_session_wise,\n",
    "\t\t'models': models_session_state_fold_off_med,\n",
    "\t\t'train_lls': train_ll_session_off_med,\n",
    "\t\t'test_lls': test_ll_session_off_med\n",
    "\t}\n",
    "}\n",
    "\n",
    "\n",
    "with open(Path(processed_dir, f'glm_hmm_off_meds_result.pkl'), 'wb') as f:\n",
    "    pickle.dump(off_medication_results, f)"
   ]
  },
  {
   "cell_type": "markdown",
   "metadata": {},
   "source": [
    "### On medication sessions"
   ]
  },
  {
   "cell_type": "code",
   "execution_count": null,
   "metadata": {},
   "outputs": [],
   "source": [
    "inputs_session_wise = []\n",
    "choices_session_wise = []\n",
    "invalid_idx_session_wise = []\n",
    "masks_session_wise = []\n",
    "reaction_time_session_wise = []\n",
    "\n",
    "# on medication sessions\n",
    "for session in on_med_sessions:\n",
    "    session_data = data[data['session_id'] == session].reset_index(drop=True)\n",
    "\n",
    "\n",
    "    invalid_idx = np.where(session_data.outcome < 0)[0]\n",
    "    valid_idx = np.where(session_data.outcome >= 0)[0]\n",
    "\n",
    "    inputs = prepare_input_data(session_data, input_dim, invalid_idx)\n",
    "    choices = session_data.choice.values.reshape(-1,1).astype('int')\n",
    "\n",
    "    # for training, replace -1 with random sample from 0,1\n",
    "    choices[choices == -1] = npr.choice([0,1],invalid_idx.shape[0])\n",
    "    mask = np.ones_like(choices, dtype=bool)\n",
    "    mask[invalid_idx] = 0\n",
    "    reaction_time = np.array(session_data.reaction_time)\n",
    "\n",
    "    masks_session_wise.append(mask)\n",
    "    inputs_session_wise += inputs\n",
    "    choices_session_wise.append(choices)\n",
    "    reaction_time_session_wise.append(reaction_time)\n",
    "\n",
    "on_med_inputs_aggregate, on_med_choices_aggregate, on_med_masks_aggregate = [], [], []\n",
    "on_med_inputs_aggregate.append(np.vstack(inputs_session_wise))\n",
    "on_med_choices_aggregate.append(np.vstack(choices_session_wise))\n",
    "on_med_masks_aggregate.append(np.vstack(masks_session_wise))\n",
    "\n",
    "unnormalized_on_med_inputs = copy.deepcopy(inputs_session_wise)\n",
    "\n",
    "# scaling signed coherence\n",
    "on_med_inputs_aggregate[0][on_med_masks_aggregate[0][:,0],0] = preprocessing.scale(on_med_inputs_aggregate[0][on_med_masks_aggregate[0][:,0],0], axis=0)\n",
    "for idx in range(len(on_med_sessions)):\n",
    "    inputs_session_wise[idx][masks_session_wise[idx][:,0]] = preprocessing.scale(inputs_session_wise[idx][masks_session_wise[idx][:,0]], axis=0)\n"
   ]
  },
  {
   "cell_type": "code",
   "execution_count": null,
   "metadata": {},
   "outputs": [
    {
     "name": "stdout",
     "output_type": "stream",
     "text": [
      "Fitting GLM globally...\n"
     ]
    },
    {
     "data": {
      "application/vnd.jupyter.widget-view+json": {
       "model_id": "16a311abd3dd426781c7b399ebcc36d8",
       "version_major": 2,
       "version_minor": 0
      },
      "text/plain": [
       "  0%|          | 0/1000 [00:00<?, ?it/s]"
      ]
     },
     "metadata": {},
     "output_type": "display_data"
    },
    {
     "name": "stdout",
     "output_type": "stream",
     "text": [
      "Fitting 2 states...\n"
     ]
    },
    {
     "name": "stderr",
     "output_type": "stream",
     "text": [
      "Converged to LP: -5361.9:   0%|          | 2/1000 [00:09<1:21:19,  4.89s/it]\n",
      "Converged to LP: -5132.0:   7%|▋         | 66/1000 [00:11<02:45,  5.65it/s]\n",
      "Converged to LP: -5132.0:   7%|▋         | 74/1000 [00:11<02:29,  6.19it/s]\n",
      "Converged to LP: -5132.0:   9%|▉         | 89/1000 [00:12<02:03,  7.38it/s]\n",
      "Converged to LP: -5132.0:   7%|▋         | 70/1000 [00:12<02:41,  5.75it/s]\n",
      "Converged to LP: -5132.0:  10%|▉         | 95/1000 [00:12<01:57,  7.70it/s]\n",
      "Converged to LP: -5132.0:  10%|▉         | 97/1000 [00:12<01:56,  7.77it/s]\n",
      "Converged to LP: -5132.0:  11%|█         | 108/1000 [00:12<01:45,  8.49it/s]\n",
      "Converged to LP: -5132.0:  11%|█         | 111/1000 [00:12<01:41,  8.73it/s]\n",
      "Converged to LP: -5132.0:  12%|█▏        | 118/1000 [00:12<01:35,  9.24it/s]\n",
      "Converged to LP: -5132.0:  10%|█         | 100/1000 [00:13<01:57,  7.69it/s]\n",
      "Converged to LP: -5132.0:  10%|█         | 104/1000 [00:13<01:53,  7.89it/s]\n",
      "Converged to LP: -5132.0:  11%|█         | 110/1000 [00:13<01:46,  8.32it/s]\n",
      "Converged to LP: -5132.0:  12%|█▏        | 117/1000 [00:13<01:40,  8.78it/s]\n",
      "Converged to LP: -5132.0:  11%|█         | 108/1000 [00:13<01:51,  7.98it/s]\n",
      "Converged to LP: -5132.0:  14%|█▍        | 141/1000 [00:13<01:23, 10.26it/s]\n",
      "Converged to LP: -5132.0:  11%|█         | 112/1000 [00:13<01:48,  8.19it/s]\n",
      "Converged to LP: -5132.0:  13%|█▎        | 127/1000 [00:13<01:35,  9.17it/s]\n",
      "Converged to LP: -5132.0:  16%|█▌        | 156/1000 [00:14<01:20, 10.45it/s]\n",
      "Converged to LP: -5301.8:  38%|███▊      | 377/1000 [00:18<00:30, 20.13it/s]\n",
      "LP: -5409.5:   0%|          | 0/1000 [00:00<?, ?it/s]"
     ]
    },
    {
     "name": "stdout",
     "output_type": "stream",
     "text": [
      "Fitting 3 states...\n"
     ]
    },
    {
     "name": "stderr",
     "output_type": "stream",
     "text": [
      "Converged to LP: -5075.2:   6%|▌         | 62/1000 [00:02<00:44, 21.02it/s]\n",
      "Converged to LP: -5075.4:   9%|▉         | 89/1000 [00:04<00:44, 20.28it/s]\n",
      "Converged to LP: -5075.4:   7%|▋         | 70/1000 [00:03<00:49, 18.80it/s]\n",
      "Converged to LP: -5075.4:   9%|▉         | 92/1000 [00:04<00:44, 20.22it/s]\n",
      "Converged to LP: -5075.4:  10%|█         | 100/1000 [00:04<00:43, 20.51it/s]\n",
      "Converged to LP: -5075.4:  11%|█         | 107/1000 [00:05<00:45, 19.73it/s]\n",
      "Converged to LP: -5075.4:  13%|█▎        | 134/1000 [00:06<00:42, 20.50it/s]\n",
      "Converged to LP: -5075.4:  12%|█▏        | 124/1000 [00:06<00:42, 20.41it/s]\n",
      "Converged to LP: -5075.4:  14%|█▎        | 135/1000 [00:06<00:42, 20.56it/s]\n",
      "Converged to LP: -5075.2:  17%|█▋        | 173/1000 [00:06<00:33, 24.77it/s]\n",
      "Converged to LP: -5075.4:  14%|█▍        | 139/1000 [00:06<00:42, 20.28it/s]\n",
      "Converged to LP: -5075.4:  19%|█▉        | 189/1000 [00:08<00:36, 22.46it/s]\n",
      "Converged to LP: -5075.1:  18%|█▊        | 177/1000 [00:08<00:38, 21.51it/s]\n",
      "Converged to LP: -5071.3:  26%|██▌       | 261/1000 [00:11<00:33, 22.24it/s]\n",
      "Converged to LP: -5071.3:  28%|██▊       | 281/1000 [00:11<00:29, 24.56it/s]\n",
      "Converged to LP: -5075.4:  32%|███▏      | 320/1000 [00:13<00:28, 24.16it/s]\n",
      "Converged to LP: -5155.5:  44%|████▍     | 438/1000 [00:14<00:19, 29.44it/s]\n",
      "Converged to LP: -5156.3:  47%|████▋     | 473/1000 [00:15<00:17, 30.73it/s]\n",
      "Converged to LP: -5071.3:  40%|████      | 400/1000 [00:15<00:23, 25.46it/s]\n",
      "Converged to LP: -5156.3:  56%|█████▋    | 565/1000 [00:18<00:14, 30.79it/s]\n",
      "LP: -5522.4:   0%|          | 0/1000 [00:00<?, ?it/s]"
     ]
    },
    {
     "name": "stdout",
     "output_type": "stream",
     "text": [
      "Fitting 4 states...\n"
     ]
    },
    {
     "name": "stderr",
     "output_type": "stream",
     "text": [
      "Converged to LP: -5455.8:   2%|▏         | 18/1000 [00:00<00:45, 21.65it/s]\n",
      "Converged to LP: -5107.4:  18%|█▊        | 185/1000 [00:10<00:45, 17.83it/s]\n",
      "Converged to LP: -5031.9:  16%|█▌        | 157/1000 [00:10<00:56, 14.94it/s]\n",
      "Converged to LP: -5031.9:  20%|██        | 203/1000 [00:13<00:52, 15.31it/s]\n",
      "Converged to LP: -5111.0:  29%|██▊       | 287/1000 [00:13<00:34, 20.62it/s]\n",
      "Converged to LP: -5111.5:  29%|██▉       | 294/1000 [00:14<00:33, 20.80it/s]\n",
      "Converged to LP: -5112.2:  31%|███       | 309/1000 [00:15<00:34, 20.25it/s]\n",
      "Converged to LP: -5111.0:  33%|███▎      | 333/1000 [00:16<00:32, 20.25it/s]\n",
      "Converged to LP: -5031.9:  30%|██▉       | 295/1000 [00:16<00:39, 17.66it/s]\n",
      "Converged to LP: -5108.5:  29%|██▉       | 294/1000 [00:17<00:41, 17.15it/s]\n",
      "Converged to LP: -5115.4:  39%|███▉      | 393/1000 [00:20<00:31, 19.47it/s]\n",
      "Converged to LP: -5115.2:  42%|████▏     | 423/1000 [00:20<00:27, 20.62it/s]\n",
      "Converged to LP: -5034.4:  45%|████▍     | 449/1000 [00:22<00:27, 20.37it/s]\n",
      "Converged to LP: -5031.9:  47%|████▋     | 469/1000 [00:24<00:28, 18.79it/s]\n",
      "Converged to LP: -5120.2:  51%|█████     | 512/1000 [00:25<00:23, 20.39it/s]\n",
      "Converged to LP: -5109.0:  61%|██████    | 610/1000 [00:26<00:16, 22.99it/s]\n",
      "Converged to LP: -5034.4:  54%|█████▍    | 538/1000 [00:27<00:23, 19.88it/s]\n",
      "Converged to LP: -5096.7:  61%|██████    | 606/1000 [00:29<00:19, 20.41it/s]\n",
      "Converged to LP: -5096.6:  64%|██████▍   | 642/1000 [00:29<00:16, 21.42it/s]\n",
      "Converged to LP: -5125.2:  66%|██████▌   | 656/1000 [00:31<00:16, 21.00it/s]\n",
      "LP: -5516.6:   0%|          | 0/1000 [00:00<?, ?it/s]"
     ]
    },
    {
     "name": "stdout",
     "output_type": "stream",
     "text": [
      "Fitting 5 states...\n"
     ]
    },
    {
     "name": "stderr",
     "output_type": "stream",
     "text": [
      "Converged to LP: -5147.0:  29%|██▊       | 287/1000 [00:17<00:43, 16.47it/s]\n",
      "Converged to LP: -5144.7:  39%|███▉      | 394/1000 [00:25<00:38, 15.75it/s]\n",
      "Converged to LP: -5069.8:  36%|███▋      | 365/1000 [00:26<00:45, 13.99it/s]\n",
      "Converged to LP: -5144.5:  52%|█████▏    | 515/1000 [00:32<00:30, 15.77it/s]\n",
      "Converged to LP: -5029.6:  49%|████▊     | 486/1000 [00:34<00:36, 14.24it/s]\n",
      "Converged to LP: -5071.2:  60%|█████▉    | 597/1000 [00:37<00:25, 15.97it/s]\n",
      "Converged to LP: -5162.9:  60%|██████    | 602/1000 [00:37<00:24, 15.93it/s]\n",
      "Converged to LP: -5064.0:  60%|██████    | 603/1000 [00:42<00:27, 14.18it/s]\n",
      "Converged to LP: -5069.8:  72%|███████▏  | 721/1000 [00:43<00:16, 16.76it/s]\n",
      "Converged to LP: -5065.1:  70%|███████   | 701/1000 [00:44<00:18, 15.87it/s]\n",
      "Converged to LP: -5059.1:  67%|██████▋   | 673/1000 [00:44<00:21, 15.17it/s]\n",
      "Converged to LP: -5064.4:  71%|███████▏  | 714/1000 [00:45<00:18, 15.86it/s]\n",
      "Converged to LP: -5059.1:  75%|███████▍  | 748/1000 [00:46<00:15, 15.95it/s]\n",
      "Converged to LP: -5066.6:  74%|███████▍  | 741/1000 [00:47<00:16, 15.56it/s]\n",
      "Converged to LP: -5074.1:  76%|███████▋  | 765/1000 [00:50<00:15, 15.23it/s]\n",
      "Converged to LP: -5030.5:  77%|███████▋  | 774/1000 [00:51<00:14, 15.17it/s]\n",
      "LP: -5119.8: 100%|██████████| 1000/1000 [00:51<00:00, 19.42it/s]\n",
      "Converged to LP: -5059.1:  89%|████████▉ | 893/1000 [00:51<00:06, 17.28it/s]\n",
      "Converged to LP: -5146.8:  93%|█████████▎| 927/1000 [00:53<00:04, 17.22it/s]\n",
      "LP: -5060.2: 100%|██████████| 1000/1000 [01:00<00:00, 16.43it/s]\n"
     ]
    }
   ],
   "source": [
    "models_glm_hmm_on_med, fit_lls_glm_hmm_on_med = global_fit(on_med_choices_aggregate, on_med_inputs_aggregate, masks=on_med_masks_aggregate, n_iters= 1000, n_initializations=20)"
   ]
  },
  {
   "cell_type": "code",
   "execution_count": null,
   "metadata": {},
   "outputs": [],
   "source": [
    "# get best model of 20 initializations for each state\n",
    "init_params = {\n",
    "    'glm_weights': {},\n",
    "    'transition_matrices': {}\n",
    "}\n",
    "for n_states in np.arange(2,6):\n",
    "    best_idx = fit_lls_glm_hmm_on_med[n_states].index(max(fit_lls_glm_hmm_on_med[n_states]))\n",
    "    init_params['glm_weights'][n_states] = models_glm_hmm_on_med[n_states][best_idx].observations.params\n",
    "    init_params['transition_matrices'][n_states] = models_glm_hmm_on_med[n_states][best_idx].transitions.params"
   ]
  },
  {
   "cell_type": "code",
   "execution_count": null,
   "metadata": {},
   "outputs": [
    {
     "name": "stdout",
     "output_type": "stream",
     "text": [
      "Fitting session 0...\n",
      "Fitting 2 states...\n"
     ]
    },
    {
     "name": "stderr",
     "output_type": "stream",
     "text": [
      "Converged to LP: -318.9:   2%|▏         | 20/1000 [00:00<00:05, 185.92it/s]\n",
      "Converged to LP: -319.2:   2%|▎         | 25/1000 [00:00<00:05, 168.07it/s]\n",
      "Converged to LP: -310.4:   2%|▎         | 25/1000 [00:00<00:05, 187.86it/s]\n",
      "Converged to LP: -315.1:   4%|▍         | 41/1000 [00:00<00:03, 240.75it/s]\n",
      "Converged to LP: -316.8:   9%|▉         | 88/1000 [00:00<00:04, 212.52it/s]\n"
     ]
    },
    {
     "name": "stdout",
     "output_type": "stream",
     "text": [
      "Fitting 3 states...\n"
     ]
    },
    {
     "name": "stderr",
     "output_type": "stream",
     "text": [
      "Converged to LP: -356.6:   2%|▏         | 24/1000 [00:00<00:06, 142.74it/s]\n",
      "Converged to LP: -361.6:   4%|▎         | 36/1000 [00:00<00:05, 171.42it/s]\n",
      "Converged to LP: -353.5:   7%|▋         | 74/1000 [00:00<00:04, 223.96it/s]\n",
      "Converged to LP: -346.6:  11%|█         | 110/1000 [00:00<00:04, 200.32it/s]\n",
      "Converged to LP: -353.5:  11%|█         | 106/1000 [00:00<00:04, 188.61it/s]\n"
     ]
    },
    {
     "name": "stdout",
     "output_type": "stream",
     "text": [
      "Fitting 4 states...\n"
     ]
    },
    {
     "name": "stderr",
     "output_type": "stream",
     "text": [
      "Converged to LP: -397.2:   8%|▊         | 75/1000 [00:00<00:05, 178.03it/s]\n",
      "Converged to LP: -396.7:   8%|▊         | 80/1000 [00:00<00:05, 159.70it/s]\n",
      "Converged to LP: -397.8:   9%|▉         | 94/1000 [00:00<00:04, 182.88it/s]\n",
      "Converged to LP: -398.5:  16%|█▋        | 163/1000 [00:00<00:04, 202.11it/s]\n",
      "Converged to LP: -388.2:  16%|█▌        | 157/1000 [00:00<00:04, 180.34it/s]\n"
     ]
    },
    {
     "name": "stdout",
     "output_type": "stream",
     "text": [
      "Fitting 5 states...\n"
     ]
    },
    {
     "name": "stderr",
     "output_type": "stream",
     "text": [
      "Converged to LP: -458.8:   4%|▍         | 38/1000 [00:00<00:06, 137.44it/s]\n",
      "Converged to LP: -437.0:  12%|█▏        | 122/1000 [00:00<00:05, 158.63it/s]\n",
      "Converged to LP: -455.1:  17%|█▋        | 170/1000 [00:00<00:04, 176.91it/s]\n",
      "Converged to LP: -439.5:  19%|█▉        | 192/1000 [00:01<00:05, 160.50it/s]\n",
      "Converged to LP: -429.2:  33%|███▎      | 328/1000 [00:01<00:03, 186.56it/s]\n"
     ]
    },
    {
     "name": "stdout",
     "output_type": "stream",
     "text": [
      "Fitting session 1...\n",
      "Fitting 2 states...\n"
     ]
    },
    {
     "name": "stderr",
     "output_type": "stream",
     "text": [
      "Converged to LP: -301.8:   1%|          | 6/1000 [00:00<00:11, 84.22it/s]\n",
      "Converged to LP: -308.5:   1%|          | 9/1000 [00:00<00:09, 104.00it/s]\n",
      "Converged to LP: -314.0:   2%|▏         | 22/1000 [00:00<00:05, 177.74it/s]\n",
      "Converged to LP: -316.7:   3%|▎         | 32/1000 [00:00<00:05, 192.69it/s]\n",
      "Converged to LP: -314.0:   1%|          | 8/1000 [00:00<00:09, 109.60it/s]\n"
     ]
    },
    {
     "name": "stdout",
     "output_type": "stream",
     "text": [
      "Fitting 3 states...\n"
     ]
    },
    {
     "name": "stderr",
     "output_type": "stream",
     "text": [
      "Converged to LP: -357.5:   1%|▏         | 13/1000 [00:00<00:09, 109.50it/s]\n",
      "Converged to LP: -343.4:   1%|          | 10/1000 [00:00<00:09, 101.22it/s]\n",
      "Converged to LP: -351.3:   1%|          | 11/1000 [00:00<00:08, 114.64it/s]\n",
      "Converged to LP: -348.3:   2%|▏         | 16/1000 [00:00<00:07, 132.71it/s]\n",
      "Converged to LP: -354.8:   7%|▋         | 73/1000 [00:00<00:05, 169.09it/s]\n",
      "LP: -396.3:   2%|▏         | 15/1000 [00:00<00:06, 148.02it/s]"
     ]
    },
    {
     "name": "stdout",
     "output_type": "stream",
     "text": [
      "Fitting 4 states...\n"
     ]
    },
    {
     "name": "stderr",
     "output_type": "stream",
     "text": [
      "Converged to LP: -392.3:   4%|▍         | 38/1000 [00:00<00:06, 141.63it/s]\n",
      "Converged to LP: -393.3:  15%|█▌        | 151/1000 [00:00<00:04, 192.94it/s]\n",
      "Converged to LP: -387.6:  15%|█▌        | 151/1000 [00:00<00:04, 189.07it/s]\n",
      "Converged to LP: -385.0:   2%|▏         | 24/1000 [00:00<00:07, 132.15it/s]\n",
      "Converged to LP: -399.0:   5%|▌         | 50/1000 [00:00<00:05, 165.88it/s]\n",
      "LP: -435.4:   1%|          | 7/1000 [00:00<00:15, 65.26it/s]s]"
     ]
    },
    {
     "name": "stdout",
     "output_type": "stream",
     "text": [
      "Fitting 5 states...\n"
     ]
    },
    {
     "name": "stderr",
     "output_type": "stream",
     "text": [
      "Converged to LP: -431.8:   6%|▌         | 59/1000 [00:00<00:06, 149.07it/s]\n",
      "Converged to LP: -442.2:   8%|▊         | 80/1000 [00:00<00:06, 144.20it/s]\n",
      "Converged to LP: -437.1:   9%|▉         | 92/1000 [00:00<00:05, 160.65it/s]\n",
      "Converged to LP: -416.5:  13%|█▎        | 130/1000 [00:00<00:04, 196.37it/s]\n",
      "Converged to LP: -432.6:  15%|█▍        | 149/1000 [00:00<00:04, 177.34it/s]\n",
      "Converged to LP: -332.9:   1%|          | 12/1000 [00:00<00:06, 153.57it/s]\n",
      "Converged to LP: -343.9:   2%|▏         | 20/1000 [00:00<00:04, 218.84it/s]\n",
      "LP: -356.9:   0%|          | 0/1000 [00:00<?, ?it/s]71.80it/s]"
     ]
    },
    {
     "name": "stdout",
     "output_type": "stream",
     "text": [
      "Fitting session 2...\n",
      "Fitting 2 states...\n",
      "Fitting 3 states...\n"
     ]
    },
    {
     "name": "stderr",
     "output_type": "stream",
     "text": [
      "Converged to LP: -350.1:   2%|▏         | 18/1000 [00:00<00:05, 178.39it/s]\n",
      "Converged to LP: -355.6:   3%|▎         | 27/1000 [00:00<00:04, 212.21it/s]\n",
      "Converged to LP: -353.5:   4%|▎         | 37/1000 [00:00<00:04, 205.12it/s]\n",
      "Converged to LP: -370.7:   2%|▏         | 21/1000 [00:00<00:05, 191.06it/s]\n",
      "Converged to LP: -402.0:   2%|▎         | 25/1000 [00:00<00:04, 195.32it/s]\n",
      "Converged to LP: -397.8:   3%|▎         | 31/1000 [00:00<00:04, 217.04it/s]\n",
      "Converged to LP: -384.8:   6%|▋         | 65/1000 [00:00<00:04, 213.59it/s]\n",
      "Converged to LP: -378.1:  12%|█▏        | 118/1000 [00:00<00:03, 227.71it/s]\n"
     ]
    },
    {
     "name": "stdout",
     "output_type": "stream",
     "text": [
      "Fitting 4 states...\n"
     ]
    },
    {
     "name": "stderr",
     "output_type": "stream",
     "text": [
      "Converged to LP: -417.9:   5%|▌         | 50/1000 [00:00<00:05, 186.26it/s]\n",
      "Converged to LP: -436.0:   7%|▋         | 68/1000 [00:00<00:05, 169.47it/s]\n",
      "Converged to LP: -440.9:   8%|▊         | 81/1000 [00:00<00:05, 181.41it/s]\n",
      "Converged to LP: -431.3:  10%|▉         | 98/1000 [00:00<00:04, 183.00it/s]\n",
      "Converged to LP: -417.0:   8%|▊         | 82/1000 [00:00<00:06, 132.61it/s]\n",
      "LP: -485.2:   1%|          | 11/1000 [00:00<00:09, 105.49it/s]"
     ]
    },
    {
     "name": "stdout",
     "output_type": "stream",
     "text": [
      "Fitting 5 states...\n"
     ]
    },
    {
     "name": "stderr",
     "output_type": "stream",
     "text": [
      "Converged to LP: -475.8:   8%|▊         | 84/1000 [00:00<00:06, 145.91it/s]\n",
      "Converged to LP: -459.3:   8%|▊         | 82/1000 [00:00<00:07, 125.34it/s]\n",
      "Converged to LP: -460.7:  13%|█▎        | 128/1000 [00:01<00:06, 127.55it/s]\n",
      "Converged to LP: -483.2:  20%|█▉        | 195/1000 [00:01<00:04, 173.41it/s]\n",
      "Converged to LP: -470.8:  30%|██▉       | 296/1000 [00:01<00:04, 172.41it/s]\n",
      "LP: -293.3:   0%|          | 0/1000 [00:00<?, ?it/s]"
     ]
    },
    {
     "name": "stdout",
     "output_type": "stream",
     "text": [
      "Fitting session 3...\n",
      "Fitting 2 states...\n"
     ]
    },
    {
     "name": "stderr",
     "output_type": "stream",
     "text": [
      "Converged to LP: -297.3:   4%|▍         | 38/1000 [00:00<00:03, 254.22it/s]\n",
      "Converged to LP: -275.2:   4%|▎         | 35/1000 [00:00<00:04, 235.53it/s]\n",
      "Converged to LP: -287.6:   9%|▉         | 90/1000 [00:00<00:02, 314.98it/s]\n",
      "Converged to LP: -294.5:  12%|█▏        | 117/1000 [00:00<00:02, 333.99it/s]\n",
      "Converged to LP: -286.3:  12%|█▎        | 125/1000 [00:00<00:03, 230.98it/s]\n",
      "LP: -338.7:   1%|▏         | 13/1000 [00:00<00:07, 125.76it/s]"
     ]
    },
    {
     "name": "stdout",
     "output_type": "stream",
     "text": [
      "Fitting 3 states...\n"
     ]
    },
    {
     "name": "stderr",
     "output_type": "stream",
     "text": [
      "Converged to LP: -335.3:   3%|▎         | 29/1000 [00:00<00:05, 190.22it/s]\n",
      "Converged to LP: -335.8:   4%|▍         | 45/1000 [00:00<00:06, 149.88it/s]\n",
      "Converged to LP: -330.8:   6%|▌         | 62/1000 [00:00<00:05, 173.93it/s]\n",
      "Converged to LP: -333.4:  10%|█         | 105/1000 [00:00<00:04, 218.42it/s]\n",
      "Converged to LP: -310.7:  24%|██▍       | 239/1000 [00:01<00:03, 222.85it/s]\n",
      "LP: -392.0:   0%|          | 0/1000 [00:00<?, ?it/s]"
     ]
    },
    {
     "name": "stdout",
     "output_type": "stream",
     "text": [
      "Fitting 4 states...\n"
     ]
    },
    {
     "name": "stderr",
     "output_type": "stream",
     "text": [
      "Converged to LP: -374.8:   5%|▍         | 46/1000 [00:00<00:06, 139.15it/s]\n",
      "Converged to LP: -375.1:   8%|▊         | 79/1000 [00:00<00:04, 185.45it/s]\n",
      "Converged to LP: -374.5:  28%|██▊       | 280/1000 [00:01<00:03, 232.14it/s]\n",
      "Converged to LP: -362.3:  29%|██▊       | 287/1000 [00:01<00:03, 212.81it/s]\n",
      "Converged to LP: -365.1:  61%|██████    | 606/1000 [00:02<00:01, 232.93it/s]\n",
      "LP: -430.2:   0%|          | 0/1000 [00:00<?, ?it/s]"
     ]
    },
    {
     "name": "stdout",
     "output_type": "stream",
     "text": [
      "Fitting 5 states...\n"
     ]
    },
    {
     "name": "stderr",
     "output_type": "stream",
     "text": [
      "Converged to LP: -412.1:   6%|▌         | 58/1000 [00:00<00:06, 155.74it/s]\n",
      "Converged to LP: -410.3:  13%|█▎        | 132/1000 [00:00<00:05, 161.34it/s]\n",
      "Converged to LP: -413.7:  15%|█▌        | 153/1000 [00:00<00:04, 179.07it/s]\n",
      "Converged to LP: -406.5:  20%|██        | 201/1000 [00:01<00:05, 153.07it/s]\n",
      "Converged to LP: -400.8:  26%|██▋       | 263/1000 [00:01<00:04, 180.85it/s]\n",
      "LP: -409.8:   0%|          | 0/1000 [00:00<?, ?it/s]"
     ]
    },
    {
     "name": "stdout",
     "output_type": "stream",
     "text": [
      "Fitting session 4...\n",
      "Fitting 2 states...\n"
     ]
    },
    {
     "name": "stderr",
     "output_type": "stream",
     "text": [
      "Converged to LP: -378.7:   1%|▏         | 13/1000 [00:00<00:03, 257.81it/s]\n",
      "Converged to LP: -382.0:   2%|▏         | 18/1000 [00:00<00:03, 303.93it/s]\n",
      "Converged to LP: -376.4:   5%|▌         | 50/1000 [00:00<00:03, 241.27it/s]\n",
      "Converged to LP: -384.4:   7%|▋         | 68/1000 [00:00<00:03, 253.07it/s]\n",
      "Converged to LP: -388.6:   9%|▉         | 90/1000 [00:00<00:03, 301.27it/s]\n",
      "Converged to LP: -416.8:   1%|▏         | 13/1000 [00:00<00:05, 185.30it/s]\n",
      "LP: -429.3:   0%|          | 0/1000 [00:00<?, ?it/s]"
     ]
    },
    {
     "name": "stdout",
     "output_type": "stream",
     "text": [
      "Fitting 3 states...\n",
      "Fitting 4 states...\n"
     ]
    },
    {
     "name": "stderr",
     "output_type": "stream",
     "text": [
      "Converged to LP: -421.3:   2%|▏         | 16/1000 [00:00<00:06, 153.59it/s]\n",
      "Converged to LP: -426.7:   2%|▎         | 25/1000 [00:00<00:05, 183.62it/s]\n",
      "Converged to LP: -421.6:   4%|▎         | 37/1000 [00:00<00:04, 229.17it/s]\n",
      "Converged to LP: -428.7:   4%|▍         | 39/1000 [00:00<00:04, 209.02it/s]\n",
      "Converged to LP: -460.6:   4%|▍         | 43/1000 [00:00<00:05, 185.32it/s]\n",
      "Converged to LP: -455.8:   4%|▍         | 44/1000 [00:00<00:05, 173.80it/s]\n",
      "Converged to LP: -463.3:  13%|█▎        | 133/1000 [00:00<00:04, 185.93it/s]\n",
      "Converged to LP: -453.1:  21%|██        | 212/1000 [00:00<00:03, 220.84it/s]\n",
      "Converged to LP: -469.9:  21%|██        | 210/1000 [00:00<00:03, 212.43it/s]\n",
      "LP: -517.5:   0%|          | 0/1000 [00:00<?, ?it/s]"
     ]
    },
    {
     "name": "stdout",
     "output_type": "stream",
     "text": [
      "Fitting 5 states...\n"
     ]
    },
    {
     "name": "stderr",
     "output_type": "stream",
     "text": [
      "Converged to LP: -499.7:   5%|▌         | 52/1000 [00:00<00:07, 133.86it/s]\n",
      "Converged to LP: -494.2:   7%|▋         | 68/1000 [00:00<00:06, 155.15it/s]\n",
      "Converged to LP: -491.9:  10%|▉         | 97/1000 [00:00<00:05, 170.48it/s]\n",
      "Converged to LP: -496.5:   9%|▉         | 89/1000 [00:00<00:05, 153.90it/s]\n",
      "Converged to LP: -508.3:  15%|█▌        | 150/1000 [00:00<00:05, 160.25it/s]\n",
      "Converged to LP: -392.2:   1%|          | 7/1000 [00:00<00:05, 185.83it/s]\n",
      "Converged to LP: -387.3:   1%|          | 11/1000 [00:00<00:04, 233.71it/s]\n",
      "Converged to LP: -392.8:   1%|          | 11/1000 [00:00<00:04, 205.18it/s]\n",
      "Converged to LP: -398.1:   1%|          | 11/1000 [00:00<00:04, 205.80it/s]\n",
      "Converged to LP: -383.3:   2%|▏         | 17/1000 [00:00<00:04, 230.85it/s]\n",
      "Converged to LP: -418.3:   1%|          | 8/1000 [00:00<00:06, 162.22it/s]\n",
      "Converged to LP: -429.6:   1%|          | 9/1000 [00:00<00:05, 167.24it/s]\n",
      "Converged to LP: -430.2:   1%|          | 10/1000 [00:00<00:05, 183.06it/s]\n",
      "Converged to LP: -438.9:   1%|          | 11/1000 [00:00<00:05, 169.71it/s]\n",
      "LP: -423.9:   0%|          | 0/1000 [00:00<?, ?it/s]"
     ]
    },
    {
     "name": "stdout",
     "output_type": "stream",
     "text": [
      "Fitting session 5...\n",
      "Fitting 2 states...\n",
      "Fitting 3 states...\n",
      "Fitting 4 states...\n"
     ]
    },
    {
     "name": "stderr",
     "output_type": "stream",
     "text": [
      "Converged to LP: -423.9:   1%|          | 12/1000 [00:00<00:06, 157.54it/s]\n",
      "Converged to LP: -434.7:   4%|▍         | 44/1000 [00:00<00:05, 167.87it/s]\n",
      "Converged to LP: -430.9:   4%|▍         | 39/1000 [00:00<00:06, 143.53it/s]\n",
      "Converged to LP: -441.8:   6%|▌         | 59/1000 [00:00<00:04, 195.13it/s]\n",
      "Converged to LP: -437.1:   7%|▋         | 66/1000 [00:00<00:04, 192.25it/s]\n",
      "Converged to LP: -450.2:   8%|▊         | 75/1000 [00:00<00:05, 178.09it/s]\n",
      "LP: -498.0:   1%|          | 9/1000 [00:00<00:12, 80.88it/s]s]"
     ]
    },
    {
     "name": "stdout",
     "output_type": "stream",
     "text": [
      "Fitting 5 states...\n"
     ]
    },
    {
     "name": "stderr",
     "output_type": "stream",
     "text": [
      "Converged to LP: -492.0:   4%|▍         | 41/1000 [00:00<00:06, 143.66it/s]\n",
      "Converged to LP: -498.4:   5%|▌         | 52/1000 [00:00<00:05, 161.64it/s]\n",
      "Converged to LP: -483.2:   5%|▍         | 47/1000 [00:00<00:06, 140.45it/s]\n",
      "Converged to LP: -511.3:   5%|▌         | 51/1000 [00:00<00:07, 125.99it/s]\n",
      "Converged to LP: -490.5:   7%|▋         | 68/1000 [00:00<00:07, 126.63it/s]\n",
      "LP: -277.2:   0%|          | 0/1000 [00:00<?, ?it/s]"
     ]
    },
    {
     "name": "stdout",
     "output_type": "stream",
     "text": [
      "Fitting session 6...\n",
      "Fitting 2 states...\n"
     ]
    },
    {
     "name": "stderr",
     "output_type": "stream",
     "text": [
      "Converged to LP: -256.5:   1%|          | 11/1000 [00:00<00:03, 273.62it/s]\n",
      "Converged to LP: -269.5:   1%|          | 11/1000 [00:00<00:03, 262.28it/s]\n",
      "Converged to LP: -270.3:   2%|▎         | 25/1000 [00:00<00:04, 243.65it/s]\n",
      "Converged to LP: -270.0:   6%|▋         | 65/1000 [00:00<00:03, 262.44it/s]\n",
      "Converged to LP: -266.6:  13%|█▎        | 133/1000 [00:00<00:02, 319.80it/s]\n",
      "Converged to LP: -314.6:   2%|▏         | 19/1000 [00:00<00:05, 192.12it/s]\n",
      "LP: -313.8:   1%|          | 12/1000 [00:00<00:08, 114.72it/s]"
     ]
    },
    {
     "name": "stdout",
     "output_type": "stream",
     "text": [
      "Fitting 3 states...\n"
     ]
    },
    {
     "name": "stderr",
     "output_type": "stream",
     "text": [
      "Converged to LP: -297.4:   4%|▍         | 42/1000 [00:00<00:04, 213.48it/s]\n",
      "Converged to LP: -310.1:   4%|▎         | 36/1000 [00:00<00:06, 138.15it/s]\n",
      "Converged to LP: -312.5:   4%|▍         | 44/1000 [00:00<00:06, 151.67it/s]\n",
      "Converged to LP: -296.9:  19%|█▊        | 186/1000 [00:00<00:03, 225.25it/s]\n",
      "LP: -357.7:   1%|          | 10/1000 [00:00<00:10, 98.22it/s]]"
     ]
    },
    {
     "name": "stdout",
     "output_type": "stream",
     "text": [
      "Fitting 4 states...\n"
     ]
    },
    {
     "name": "stderr",
     "output_type": "stream",
     "text": [
      "Converged to LP: -350.4:   6%|▌         | 57/1000 [00:00<00:05, 172.57it/s]\n",
      "Converged to LP: -356.0:   7%|▋         | 71/1000 [00:00<00:05, 156.29it/s]\n",
      "Converged to LP: -341.1:   7%|▋         | 68/1000 [00:00<00:06, 142.54it/s]\n",
      "Converged to LP: -350.9:  17%|█▋        | 171/1000 [00:00<00:04, 189.62it/s]\n",
      "Converged to LP: -354.7:  24%|██▍       | 244/1000 [00:01<00:03, 202.66it/s]\n",
      "LP: -399.0:   1%|▏         | 14/1000 [00:00<00:07, 134.80it/s]"
     ]
    },
    {
     "name": "stdout",
     "output_type": "stream",
     "text": [
      "Fitting 5 states...\n"
     ]
    },
    {
     "name": "stderr",
     "output_type": "stream",
     "text": [
      "Converged to LP: -400.2:   5%|▌         | 51/1000 [00:00<00:05, 164.93it/s]\n",
      "Converged to LP: -402.7:   7%|▋         | 66/1000 [00:00<00:05, 184.83it/s]\n",
      "Converged to LP: -403.8:   5%|▌         | 54/1000 [00:00<00:06, 136.23it/s]\n",
      "Converged to LP: -385.0:  23%|██▎       | 229/1000 [00:01<00:04, 183.73it/s]\n",
      "Converged to LP: -385.5:  28%|██▊       | 284/1000 [00:01<00:04, 156.62it/s]\n",
      "Converged to LP: -284.4:   2%|▏         | 17/1000 [00:00<00:03, 286.24it/s]\n",
      "Converged to LP: -289.2:   2%|▎         | 25/1000 [00:00<00:03, 268.31it/s]\n",
      "Converged to LP: -282.7:   2%|▏         | 17/1000 [00:00<00:05, 177.44it/s]\n",
      "Converged to LP: -276.0:   3%|▎         | 31/1000 [00:00<00:04, 223.29it/s]\n",
      "LP: -284.2:   2%|▏         | 17/1000 [00:00<00:05, 168.39it/s]"
     ]
    },
    {
     "name": "stdout",
     "output_type": "stream",
     "text": [
      "Fitting session 7...\n",
      "Fitting 2 states...\n"
     ]
    },
    {
     "name": "stderr",
     "output_type": "stream",
     "text": [
      "Converged to LP: -281.6:  10%|▉         | 95/1000 [00:00<00:03, 271.58it/s]\n"
     ]
    },
    {
     "name": "stdout",
     "output_type": "stream",
     "text": [
      "Fitting 3 states...\n"
     ]
    },
    {
     "name": "stderr",
     "output_type": "stream",
     "text": [
      "Converged to LP: -328.8:   2%|▏         | 22/1000 [00:00<00:07, 139.30it/s]\n",
      "Converged to LP: -326.7:   4%|▍         | 42/1000 [00:00<00:04, 232.65it/s]\n",
      "Converged to LP: -326.5:   4%|▍         | 43/1000 [00:00<00:04, 233.46it/s]\n",
      "Converged to LP: -322.3:   4%|▍         | 39/1000 [00:00<00:05, 187.75it/s]\n",
      "Converged to LP: -332.3:   5%|▍         | 49/1000 [00:00<00:04, 226.94it/s]\n",
      "LP: -376.6:   1%|▏         | 14/1000 [00:00<00:07, 139.85it/s]"
     ]
    },
    {
     "name": "stdout",
     "output_type": "stream",
     "text": [
      "Fitting 4 states...\n"
     ]
    },
    {
     "name": "stderr",
     "output_type": "stream",
     "text": [
      "Converged to LP: -364.9:   9%|▉         | 94/1000 [00:00<00:04, 181.35it/s]\n",
      "Converged to LP: -360.6:  20%|█▉        | 196/1000 [00:01<00:04, 171.56it/s]\n",
      "Converged to LP: -363.2:  23%|██▎       | 230/1000 [00:01<00:03, 199.11it/s]\n",
      "Converged to LP: -351.5:  34%|███▍      | 342/1000 [00:01<00:03, 194.56it/s]\n",
      "Converged to LP: -369.1:  62%|██████▏   | 622/1000 [00:02<00:01, 212.03it/s]\n",
      "LP: -431.3:   0%|          | 0/1000 [00:00<?, ?it/s]"
     ]
    },
    {
     "name": "stdout",
     "output_type": "stream",
     "text": [
      "Fitting 5 states...\n"
     ]
    },
    {
     "name": "stderr",
     "output_type": "stream",
     "text": [
      "Converged to LP: -408.8:   8%|▊         | 83/1000 [00:00<00:05, 154.38it/s]\n",
      "Converged to LP: -418.8:  12%|█▏        | 120/1000 [00:00<00:06, 130.86it/s]\n",
      "Converged to LP: -408.4:  27%|██▋       | 267/1000 [00:01<00:03, 192.59it/s]\n",
      "Converged to LP: -417.9:  36%|███▋      | 365/1000 [00:01<00:03, 191.55it/s]\n",
      "Converged to LP: -403.0:  36%|███▋      | 365/1000 [00:02<00:03, 159.31it/s]\n",
      "Converged to LP: -373.1:   1%|          | 10/1000 [00:00<00:03, 273.24it/s]\n",
      "Converged to LP: -360.0:   1%|          | 10/1000 [00:00<00:03, 247.88it/s]\n",
      "Converged to LP: -363.9:   1%|          | 12/1000 [00:00<00:03, 266.08it/s]\n",
      "Converged to LP: -373.7:   1%|▏         | 13/1000 [00:00<00:03, 260.19it/s]\n",
      "Converged to LP: -367.7:   2%|▏         | 19/1000 [00:00<00:05, 170.50it/s]\n",
      "LP: -418.1:   0%|          | 0/1000 [00:00<?, ?it/s]"
     ]
    },
    {
     "name": "stdout",
     "output_type": "stream",
     "text": [
      "Fitting session 8...\n",
      "Fitting 2 states...\n",
      "Fitting 3 states...\n"
     ]
    },
    {
     "name": "stderr",
     "output_type": "stream",
     "text": [
      "Converged to LP: -418.1:   2%|▏         | 15/1000 [00:00<00:04, 218.80it/s]\n",
      "Converged to LP: -403.7:   1%|          | 12/1000 [00:00<00:05, 189.79it/s]\n",
      "Converged to LP: -416.0:   2%|▏         | 19/1000 [00:00<00:04, 230.96it/s]\n",
      "Converged to LP: -409.4:   2%|▏         | 15/1000 [00:00<00:06, 143.23it/s]\n",
      "Converged to LP: -407.7:   6%|▌         | 57/1000 [00:00<00:04, 219.63it/s]\n"
     ]
    },
    {
     "name": "stdout",
     "output_type": "stream",
     "text": [
      "Fitting 4 states...\n"
     ]
    },
    {
     "name": "stderr",
     "output_type": "stream",
     "text": [
      "Converged to LP: -447.4:   5%|▍         | 47/1000 [00:00<00:05, 177.08it/s]\n",
      "Converged to LP: -451.3:   8%|▊         | 85/1000 [00:00<00:06, 144.01it/s]\n",
      "Converged to LP: -454.9:  11%|█         | 112/1000 [00:00<00:05, 172.10it/s]\n",
      "Converged to LP: -443.4:  13%|█▎        | 134/1000 [00:00<00:04, 187.44it/s]\n",
      "Converged to LP: -447.7:  25%|██▌       | 251/1000 [00:01<00:03, 228.92it/s]\n",
      "LP: -502.9:   0%|          | 0/1000 [00:00<?, ?it/s]"
     ]
    },
    {
     "name": "stdout",
     "output_type": "stream",
     "text": [
      "Fitting 5 states...\n"
     ]
    },
    {
     "name": "stderr",
     "output_type": "stream",
     "text": [
      "Converged to LP: -480.3:  10%|▉         | 95/1000 [00:00<00:06, 144.96it/s]\n",
      "Converged to LP: -481.8:  11%|█         | 112/1000 [00:00<00:05, 156.45it/s]\n",
      "Converged to LP: -494.1:  12%|█▏        | 122/1000 [00:00<00:06, 144.88it/s]\n",
      "Converged to LP: -499.1:  13%|█▎        | 129/1000 [00:00<00:05, 149.97it/s]\n",
      "Converged to LP: -478.8:  21%|██        | 210/1000 [00:01<00:05, 154.56it/s]\n",
      "Converged to LP: -346.5:   1%|          | 6/1000 [00:00<00:03, 264.47it/s]\n",
      "Converged to LP: -348.6:   1%|          | 7/1000 [00:00<00:03, 286.68it/s]\n",
      "Converged to LP: -346.4:   1%|          | 8/1000 [00:00<00:03, 269.52it/s]\n",
      "Converged to LP: -338.2:   1%|          | 6/1000 [00:00<00:05, 173.64it/s]\n",
      "Converged to LP: -339.2:   1%|          | 11/1000 [00:00<00:04, 211.68it/s]\n",
      "LP: -392.5:   0%|          | 0/1000 [00:00<?, ?it/s]"
     ]
    },
    {
     "name": "stdout",
     "output_type": "stream",
     "text": [
      "Fitting session 9...\n",
      "Fitting 2 states...\n",
      "Fitting 3 states...\n"
     ]
    },
    {
     "name": "stderr",
     "output_type": "stream",
     "text": [
      "Converged to LP: -391.4:   2%|▏         | 21/1000 [00:00<00:03, 249.77it/s]\n",
      "Converged to LP: -382.0:   2%|▏         | 18/1000 [00:00<00:04, 226.30it/s]\n",
      "Converged to LP: -392.5:   3%|▎         | 30/1000 [00:00<00:03, 253.96it/s]\n",
      "Converged to LP: -381.7:   4%|▍         | 39/1000 [00:00<00:04, 229.47it/s]\n",
      "Converged to LP: -392.0:   6%|▋         | 65/1000 [00:00<00:04, 233.58it/s]\n"
     ]
    },
    {
     "name": "stdout",
     "output_type": "stream",
     "text": [
      "Fitting 4 states...\n"
     ]
    },
    {
     "name": "stderr",
     "output_type": "stream",
     "text": [
      "Converged to LP: -436.2:   3%|▎         | 33/1000 [00:00<00:05, 189.28it/s]\n",
      "Converged to LP: -423.9:   4%|▍         | 42/1000 [00:00<00:06, 149.06it/s]\n",
      "Converged to LP: -419.5:   8%|▊         | 81/1000 [00:00<00:04, 205.78it/s]\n",
      "Converged to LP: -402.2:  15%|█▌        | 151/1000 [00:00<00:04, 197.51it/s]\n",
      "Converged to LP: -431.2:  15%|█▍        | 146/1000 [00:00<00:04, 189.90it/s]\n",
      "LP: -486.8:   0%|          | 0/1000 [00:00<?, ?it/s]"
     ]
    },
    {
     "name": "stdout",
     "output_type": "stream",
     "text": [
      "Fitting 5 states...\n"
     ]
    },
    {
     "name": "stderr",
     "output_type": "stream",
     "text": [
      "Converged to LP: -454.2:   4%|▎         | 37/1000 [00:00<00:09, 96.32it/s]\n",
      "Converged to LP: -475.4:   8%|▊         | 83/1000 [00:00<00:05, 175.39it/s]\n",
      "Converged to LP: -460.6:  10%|█         | 105/1000 [00:00<00:05, 165.25it/s]\n",
      "Converged to LP: -459.7:   9%|▉         | 90/1000 [00:00<00:06, 135.34it/s]\n",
      "Converged to LP: -461.5:  12%|█▏        | 117/1000 [00:00<00:05, 163.43it/s]\n",
      "Converged to LP: -337.3:   1%|▏         | 14/1000 [00:00<00:03, 247.28it/s]\n",
      "LP: -330.4:   3%|▎         | 27/1000 [00:00<00:03, 263.91it/s]"
     ]
    },
    {
     "name": "stdout",
     "output_type": "stream",
     "text": [
      "Fitting session 10...\n",
      "Fitting 2 states...\n"
     ]
    },
    {
     "name": "stderr",
     "output_type": "stream",
     "text": [
      "Converged to LP: -330.4:   4%|▍         | 40/1000 [00:00<00:03, 290.45it/s]\n",
      "Converged to LP: -335.8:  10%|▉         | 95/1000 [00:00<00:02, 307.29it/s]\n",
      "Converged to LP: -336.7:  11%|█         | 108/1000 [00:00<00:03, 255.25it/s]\n",
      "Converged to LP: -346.6:  30%|███       | 300/1000 [00:01<00:02, 285.56it/s]\n",
      "LP: -380.0:   0%|          | 0/1000 [00:00<?, ?it/s]"
     ]
    },
    {
     "name": "stdout",
     "output_type": "stream",
     "text": [
      "Fitting 3 states...\n"
     ]
    },
    {
     "name": "stderr",
     "output_type": "stream",
     "text": [
      "Converged to LP: -385.8:   8%|▊         | 77/1000 [00:00<00:05, 184.35it/s]\n",
      "Converged to LP: -373.5:  12%|█▎        | 125/1000 [00:00<00:04, 218.31it/s]\n",
      "Converged to LP: -377.8:  12%|█▏        | 121/1000 [00:00<00:04, 191.05it/s]\n",
      "Converged to LP: -376.2:  15%|█▍        | 149/1000 [00:00<00:03, 228.31it/s]\n",
      "Converged to LP: -375.7:  16%|█▋        | 164/1000 [00:00<00:03, 247.07it/s]\n"
     ]
    },
    {
     "name": "stdout",
     "output_type": "stream",
     "text": [
      "Fitting 4 states...\n"
     ]
    },
    {
     "name": "stderr",
     "output_type": "stream",
     "text": [
      "Converged to LP: -413.9:   7%|▋         | 69/1000 [00:00<00:05, 178.64it/s]\n",
      "Converged to LP: -439.2:   9%|▉         | 91/1000 [00:00<00:04, 199.06it/s]\n",
      "Converged to LP: -418.3:   9%|▉         | 93/1000 [00:00<00:05, 172.73it/s]\n",
      "Converged to LP: -419.3:  19%|█▉        | 192/1000 [00:00<00:03, 207.94it/s]\n",
      "Converged to LP: -413.3:  32%|███▏      | 319/1000 [00:01<00:03, 199.15it/s]\n",
      "LP: -486.0:   0%|          | 0/1000 [00:00<?, ?it/s]"
     ]
    },
    {
     "name": "stdout",
     "output_type": "stream",
     "text": [
      "Fitting 5 states...\n"
     ]
    },
    {
     "name": "stderr",
     "output_type": "stream",
     "text": [
      "Converged to LP: -451.5:  11%|█▏        | 113/1000 [00:00<00:05, 165.88it/s]\n",
      "Converged to LP: -449.9:  14%|█▍        | 140/1000 [00:00<00:05, 153.69it/s]\n",
      "Converged to LP: -471.6:  19%|█▉        | 193/1000 [00:01<00:04, 175.57it/s]\n",
      "Converged to LP: -471.9:  25%|██▍       | 247/1000 [00:01<00:04, 177.51it/s]\n",
      "Converged to LP: -453.4:  30%|██▉       | 299/1000 [00:01<00:03, 175.49it/s]\n",
      "Converged to LP: -387.5:   1%|          | 12/1000 [00:00<00:05, 182.25it/s]\n",
      "LP: -374.7:   2%|▏         | 24/1000 [00:00<00:04, 235.42it/s]"
     ]
    },
    {
     "name": "stdout",
     "output_type": "stream",
     "text": [
      "Fitting session 11...\n",
      "Fitting 2 states...\n"
     ]
    },
    {
     "name": "stderr",
     "output_type": "stream",
     "text": [
      "Converged to LP: -374.7:   3%|▎         | 26/1000 [00:00<00:04, 237.90it/s]\n",
      "Converged to LP: -377.5:   3%|▎         | 33/1000 [00:00<00:03, 275.19it/s]\n",
      "Converged to LP: -372.8:   4%|▎         | 37/1000 [00:00<00:03, 273.81it/s]\n",
      "Converged to LP: -376.7:  10%|▉         | 97/1000 [00:00<00:03, 286.06it/s]\n",
      "LP: -419.9:   2%|▏         | 20/1000 [00:00<00:05, 192.09it/s], 207.87it/s]\n",
      "Converged to LP: -419.8:   3%|▎         | 31/1000 [00:00<00:04, 208.15it/s]\n",
      "Converged to LP: -411.8:   2%|▎         | 25/1000 [00:00<00:05, 163.33it/s]\n",
      "LP: -407.0:   2%|▏         | 19/1000 [00:00<00:05, 183.10it/s]"
     ]
    },
    {
     "name": "stdout",
     "output_type": "stream",
     "text": [
      "Fitting 3 states...\n"
     ]
    },
    {
     "name": "stderr",
     "output_type": "stream",
     "text": [
      "Converged to LP: -404.2:   6%|▋         | 64/1000 [00:00<00:04, 207.26it/s]\n",
      "Converged to LP: -431.1:  10%|▉         | 97/1000 [00:00<00:03, 235.36it/s]\n",
      "LP: -464.5:   1%|▏         | 13/1000 [00:00<00:07, 127.15it/s]"
     ]
    },
    {
     "name": "stdout",
     "output_type": "stream",
     "text": [
      "Fitting 4 states...\n"
     ]
    },
    {
     "name": "stderr",
     "output_type": "stream",
     "text": [
      "Converged to LP: -464.9:   7%|▋         | 72/1000 [00:00<00:05, 177.51it/s]\n",
      "Converged to LP: -437.7:  10%|▉         | 97/1000 [00:00<00:05, 176.66it/s]\n",
      "Converged to LP: -449.5:   9%|▉         | 94/1000 [00:00<00:05, 151.06it/s]\n",
      "Converged to LP: -451.5:  13%|█▎        | 127/1000 [00:00<00:05, 145.79it/s]\n",
      "Converged to LP: -459.6:  18%|█▊        | 183/1000 [00:01<00:04, 178.24it/s]\n",
      "LP: -504.2:   0%|          | 0/1000 [00:00<?, ?it/s]5.36it/s]]"
     ]
    },
    {
     "name": "stdout",
     "output_type": "stream",
     "text": [
      "Fitting 5 states...\n"
     ]
    },
    {
     "name": "stderr",
     "output_type": "stream",
     "text": [
      "Converged to LP: -503.3:  10%|█         | 102/1000 [00:00<00:05, 151.53it/s]\n",
      "Converged to LP: -490.0:  12%|█▏        | 122/1000 [00:00<00:05, 156.86it/s]\n",
      "Converged to LP: -492.2:  13%|█▎        | 131/1000 [00:00<00:05, 153.17it/s]\n",
      "Converged to LP: -502.5:  17%|█▋        | 166/1000 [00:01<00:05, 163.76it/s]\n",
      "Converged to LP: -497.3:  27%|██▋       | 272/1000 [00:01<00:04, 173.78it/s]\n",
      "Converged to LP: -354.0:   1%|▏         | 14/1000 [00:00<00:04, 213.30it/s]\n",
      "Converged to LP: -358.6:   3%|▎         | 26/1000 [00:00<00:03, 261.83it/s]\n",
      "Converged to LP: -359.1:   2%|▏         | 18/1000 [00:00<00:05, 169.97it/s]\n",
      "Converged to LP: -357.8:   3%|▎         | 31/1000 [00:00<00:04, 210.42it/s]\n",
      "Converged to LP: -368.4:   4%|▍         | 39/1000 [00:00<00:03, 257.76it/s]\n"
     ]
    },
    {
     "name": "stdout",
     "output_type": "stream",
     "text": [
      "Fitting session 12...\n",
      "Fitting 2 states...\n",
      "Fitting 3 states...\n"
     ]
    },
    {
     "name": "stderr",
     "output_type": "stream",
     "text": [
      "Converged to LP: -404.8:   2%|▏         | 20/1000 [00:00<00:04, 220.59it/s]\n",
      "Converged to LP: -406.1:   2%|▎         | 25/1000 [00:00<00:04, 242.38it/s]\n",
      "Converged to LP: -400.1:   2%|▏         | 24/1000 [00:00<00:04, 196.82it/s]\n",
      "Converged to LP: -409.1:   4%|▍         | 38/1000 [00:00<00:05, 178.15it/s]\n",
      "Converged to LP: -388.8:   8%|▊         | 79/1000 [00:00<00:04, 185.33it/s]\n",
      "LP: -442.8:   2%|▏         | 15/1000 [00:00<00:06, 141.47it/s]"
     ]
    },
    {
     "name": "stdout",
     "output_type": "stream",
     "text": [
      "Fitting 4 states...\n"
     ]
    },
    {
     "name": "stderr",
     "output_type": "stream",
     "text": [
      "Converged to LP: -443.4:   8%|▊         | 79/1000 [00:00<00:04, 198.67it/s]\n",
      "Converged to LP: -422.3:   7%|▋         | 67/1000 [00:00<00:06, 146.20it/s]\n",
      "Converged to LP: -429.3:   9%|▉         | 93/1000 [00:00<00:05, 172.19it/s]\n",
      "Converged to LP: -434.1:  11%|█         | 108/1000 [00:00<00:04, 196.02it/s]\n",
      "Converged to LP: -432.9:  22%|██▏       | 224/1000 [00:01<00:03, 207.52it/s]\n",
      "LP: -496.8:   0%|          | 0/1000 [00:00<?, ?it/s]"
     ]
    },
    {
     "name": "stdout",
     "output_type": "stream",
     "text": [
      "Fitting 5 states...\n"
     ]
    },
    {
     "name": "stderr",
     "output_type": "stream",
     "text": [
      "Converged to LP: -474.7:   6%|▌         | 61/1000 [00:00<00:07, 131.24it/s]\n",
      "Converged to LP: -482.5:   5%|▌         | 50/1000 [00:00<00:09, 104.99it/s]\n",
      "Converged to LP: -476.6:   6%|▋         | 64/1000 [00:00<00:08, 108.87it/s]\n",
      "Converged to LP: -477.8:   9%|▉         | 92/1000 [00:00<00:06, 132.06it/s]\n",
      "Converged to LP: -477.3:  20%|█▉        | 197/1000 [00:01<00:04, 162.96it/s]\n",
      "Converged to LP: -381.2:   2%|▏         | 15/1000 [00:00<00:03, 261.61it/s]\n",
      "Converged to LP: -378.1:   1%|▏         | 14/1000 [00:00<00:04, 200.94it/s]\n",
      "Converged to LP: -377.5:   2%|▏         | 15/1000 [00:00<00:05, 165.68it/s]\n",
      "Converged to LP: -373.0:   2%|▏         | 17/1000 [00:00<00:05, 183.14it/s]\n"
     ]
    },
    {
     "name": "stdout",
     "output_type": "stream",
     "text": [
      "Fitting session 13...\n",
      "Fitting 2 states...\n"
     ]
    },
    {
     "name": "stderr",
     "output_type": "stream",
     "text": [
      "Converged to LP: -368.6:  20%|█▉        | 198/1000 [00:00<00:02, 292.52it/s]\n",
      "LP: -448.0:   0%|          | 0/1000 [00:00<?, ?it/s]"
     ]
    },
    {
     "name": "stdout",
     "output_type": "stream",
     "text": [
      "Fitting 3 states...\n"
     ]
    },
    {
     "name": "stderr",
     "output_type": "stream",
     "text": [
      "Converged to LP: -426.0:   2%|▏         | 18/1000 [00:00<00:06, 153.58it/s]\n",
      "Converged to LP: -411.8:   2%|▎         | 25/1000 [00:00<00:05, 163.07it/s]\n",
      "Converged to LP: -414.3:  10%|▉         | 95/1000 [00:00<00:04, 223.43it/s]\n",
      "Converged to LP: -412.1:  20%|██        | 200/1000 [00:00<00:03, 219.32it/s]\n",
      "Converged to LP: -412.1:  24%|██▍       | 241/1000 [00:01<00:03, 217.58it/s]\n",
      "LP: -452.5:   1%|▏         | 14/1000 [00:00<00:07, 137.25it/s]"
     ]
    },
    {
     "name": "stdout",
     "output_type": "stream",
     "text": [
      "Fitting 4 states...\n"
     ]
    },
    {
     "name": "stderr",
     "output_type": "stream",
     "text": [
      "Converged to LP: -440.9:   7%|▋         | 67/1000 [00:00<00:05, 158.81it/s]\n",
      "Converged to LP: -455.8:   8%|▊         | 80/1000 [00:00<00:07, 127.89it/s]\n",
      "Converged to LP: -446.1:  17%|█▋        | 168/1000 [00:00<00:03, 209.99it/s]\n",
      "Converged to LP: -443.8:  16%|█▌        | 156/1000 [00:00<00:04, 171.09it/s]\n",
      "Converged to LP: -451.9:  21%|██        | 211/1000 [00:01<00:04, 179.01it/s]\n",
      "LP: -515.2:   1%|          | 8/1000 [00:00<00:13, 73.04it/s]s]"
     ]
    },
    {
     "name": "stdout",
     "output_type": "stream",
     "text": [
      "Fitting 5 states...\n"
     ]
    },
    {
     "name": "stderr",
     "output_type": "stream",
     "text": [
      "Converged to LP: -500.0:   6%|▌         | 57/1000 [00:00<00:06, 157.11it/s]\n",
      "Converged to LP: -502.4:   9%|▊         | 87/1000 [00:00<00:08, 113.39it/s]\n",
      "Converged to LP: -476.3:  13%|█▎        | 130/1000 [00:00<00:06, 135.34it/s]\n",
      "Converged to LP: -492.8:  24%|██▍       | 241/1000 [00:01<00:04, 155.85it/s]\n",
      "Converged to LP: -497.6:  26%|██▋       | 265/1000 [00:01<00:04, 167.05it/s]\n",
      "Converged to LP: -343.4:   2%|▏         | 17/1000 [00:00<00:03, 265.59it/s]\n",
      "Converged to LP: -341.9:   2%|▏         | 23/1000 [00:00<00:03, 285.98it/s]\n",
      "LP: -335.3:   2%|▏         | 22/1000 [00:00<00:04, 210.84it/s]"
     ]
    },
    {
     "name": "stdout",
     "output_type": "stream",
     "text": [
      "Fitting session 14...\n",
      "Fitting 2 states...\n"
     ]
    },
    {
     "name": "stderr",
     "output_type": "stream",
     "text": [
      "Converged to LP: -340.1:   3%|▎         | 30/1000 [00:00<00:05, 192.35it/s]\n",
      "Converged to LP: -343.5:   4%|▍         | 42/1000 [00:00<00:03, 259.15it/s]\n",
      "Converged to LP: -329.5:  13%|█▎        | 127/1000 [00:00<00:03, 260.90it/s]\n",
      "LP: -385.5:   0%|          | 0/1000 [00:00<?, ?it/s]"
     ]
    },
    {
     "name": "stdout",
     "output_type": "stream",
     "text": [
      "Fitting 3 states...\n"
     ]
    },
    {
     "name": "stderr",
     "output_type": "stream",
     "text": [
      "Converged to LP: -385.6:   3%|▎         | 26/1000 [00:00<00:04, 200.01it/s]\n",
      "Converged to LP: -386.1:   5%|▌         | 51/1000 [00:00<00:04, 225.47it/s]\n",
      "Converged to LP: -379.7:   5%|▌         | 52/1000 [00:00<00:04, 201.03it/s]\n",
      "Converged to LP: -369.9:   8%|▊         | 75/1000 [00:00<00:03, 238.00it/s]\n",
      "Converged to LP: -385.0:   6%|▌         | 62/1000 [00:00<00:05, 184.34it/s]\n",
      "LP: -429.9:   1%|▏         | 13/1000 [00:00<00:07, 129.36it/s]"
     ]
    },
    {
     "name": "stdout",
     "output_type": "stream",
     "text": [
      "Fitting 4 states...\n"
     ]
    },
    {
     "name": "stderr",
     "output_type": "stream",
     "text": [
      "Converged to LP: -425.0:   8%|▊         | 81/1000 [00:00<00:04, 185.27it/s]\n",
      "Converged to LP: -426.9:   7%|▋         | 68/1000 [00:00<00:06, 133.91it/s]\n",
      "Converged to LP: -419.3:  13%|█▎        | 126/1000 [00:00<00:04, 186.72it/s]\n",
      "Converged to LP: -434.3:  18%|█▊        | 185/1000 [00:00<00:03, 225.17it/s]\n",
      "Converged to LP: -428.8:  19%|█▊        | 186/1000 [00:00<00:03, 216.80it/s]\n",
      "LP: -489.0:   0%|          | 0/1000 [00:00<?, ?it/s]"
     ]
    },
    {
     "name": "stdout",
     "output_type": "stream",
     "text": [
      "Fitting 5 states...\n"
     ]
    },
    {
     "name": "stderr",
     "output_type": "stream",
     "text": [
      "Converged to LP: -457.0:   6%|▋         | 64/1000 [00:00<00:08, 116.31it/s]\n",
      "Converged to LP: -453.0:  14%|█▎        | 135/1000 [00:00<00:05, 168.88it/s]\n",
      "Converged to LP: -465.1:  16%|█▌        | 157/1000 [00:01<00:05, 142.85it/s]\n",
      "Converged to LP: -465.8:  21%|██        | 208/1000 [00:01<00:04, 184.95it/s]\n",
      "Converged to LP: -463.8:  28%|██▊       | 275/1000 [00:01<00:04, 177.02it/s]\n",
      "Converged to LP: -311.2:   2%|▏         | 15/1000 [00:00<00:03, 277.34it/s]\n",
      "LP: -298.8:   0%|          | 0/1000 [00:00<?, ?it/s]"
     ]
    },
    {
     "name": "stdout",
     "output_type": "stream",
     "text": [
      "Fitting session 15...\n",
      "Fitting 2 states...\n"
     ]
    },
    {
     "name": "stderr",
     "output_type": "stream",
     "text": [
      "Converged to LP: -302.7:   3%|▎         | 26/1000 [00:00<00:03, 257.15it/s]\n",
      "Converged to LP: -291.6:   6%|▌         | 61/1000 [00:00<00:03, 277.31it/s]\n",
      "Converged to LP: -307.8:   6%|▌         | 57/1000 [00:00<00:04, 197.55it/s]\n",
      "Converged to LP: -298.5:   6%|▌         | 60/1000 [00:00<00:04, 206.79it/s]\n"
     ]
    },
    {
     "name": "stdout",
     "output_type": "stream",
     "text": [
      "Fitting 3 states...\n"
     ]
    },
    {
     "name": "stderr",
     "output_type": "stream",
     "text": [
      "Converged to LP: -343.4:   2%|▏         | 18/1000 [00:00<00:08, 120.40it/s]\n",
      "Converged to LP: -340.8:   3%|▎         | 30/1000 [00:00<00:06, 147.74it/s]\n",
      "Converged to LP: -341.2:   4%|▍         | 39/1000 [00:00<00:05, 184.19it/s]\n",
      "Converged to LP: -342.5:   6%|▌         | 57/1000 [00:00<00:05, 182.85it/s]\n",
      "Converged to LP: -355.6:   8%|▊         | 81/1000 [00:00<00:05, 178.18it/s]\n",
      "LP: -391.2:   1%|▏         | 14/1000 [00:00<00:07, 136.46it/s]"
     ]
    },
    {
     "name": "stdout",
     "output_type": "stream",
     "text": [
      "Fitting 4 states...\n"
     ]
    },
    {
     "name": "stderr",
     "output_type": "stream",
     "text": [
      "Converged to LP: -390.9:   6%|▌         | 61/1000 [00:00<00:04, 188.97it/s]\n",
      "Converged to LP: -378.5:   6%|▌         | 56/1000 [00:00<00:05, 168.69it/s]\n",
      "Converged to LP: -374.7:   8%|▊         | 83/1000 [00:00<00:04, 196.96it/s]\n",
      "Converged to LP: -378.9:  14%|█▎        | 137/1000 [00:00<00:04, 187.71it/s]\n",
      "Converged to LP: -375.7:  18%|█▊        | 182/1000 [00:00<00:03, 213.91it/s]\n",
      "LP: -436.3:   0%|          | 0/1000 [00:00<?, ?it/s]"
     ]
    },
    {
     "name": "stdout",
     "output_type": "stream",
     "text": [
      "Fitting 5 states...\n"
     ]
    },
    {
     "name": "stderr",
     "output_type": "stream",
     "text": [
      "Converged to LP: -429.9:   9%|▉         | 91/1000 [00:00<00:06, 135.64it/s]\n",
      "Converged to LP: -420.3:  16%|█▌        | 160/1000 [00:00<00:04, 179.92it/s]\n",
      "Converged to LP: -416.3:  21%|██▏       | 213/1000 [00:01<00:04, 170.09it/s]\n",
      "Converged to LP: -423.0:  16%|█▌        | 162/1000 [00:01<00:06, 123.59it/s]\n",
      "Converged to LP: -425.3:  29%|██▉       | 293/1000 [00:01<00:04, 172.47it/s]\n"
     ]
    }
   ],
   "source": [
    "# session-wise fitting with 5 fold cross-validation\n",
    "models_session_state_fold_on_med, train_ll_session_on_med, test_ll_session_on_med = session_wise_fit_cv(choices_session_wise, inputs_session_wise, masks=masks_session_wise,\n",
    "                                                                                    n_sessions=len(on_med_sessions), init_params=init_params, n_iters= 1000)"
   ]
  },
  {
   "cell_type": "code",
   "execution_count": null,
   "metadata": {},
   "outputs": [],
   "source": [
    "on_medication_results = {\n",
    "    'global':{\n",
    "\t\t'inputs': on_med_inputs_aggregate,\n",
    "\t\t'choices': on_med_choices_aggregate,\n",
    "\t\t'masks': on_med_masks_aggregate,\n",
    "\t\t'models': models_glm_hmm_on_med,\n",
    "\t\t'fit_lls': fit_lls_glm_hmm_on_med,\n",
    "\t\t'best_params': init_params\n",
    "\t},\n",
    "\t'session':{\n",
    "\t\t'session_ids': on_med_sessions,\n",
    "        'unnormalized_inputs': unnormalized_on_med_inputs,\n",
    "\t\t'inputs': inputs_session_wise,\n",
    "\t\t'choices': choices_session_wise,\n",
    "\t\t'masks': masks_session_wise,\n",
    "\t\t'reaction_time': reaction_time_session_wise,\n",
    "\t\t'models': models_session_state_fold_on_med,\n",
    "\t\t'train_lls': train_ll_session_on_med,\n",
    "\t\t'test_lls': test_ll_session_on_med\n",
    "\t}\n",
    "}\n",
    "\n",
    "\n",
    "with open(Path(processed_dir, f'glm_hmm_on_meds_result.pkl'), 'wb') as f:\n",
    "    pickle.dump(on_medication_results, f)"
   ]
  }
 ],
 "metadata": {
  "kernelspec": {
   "display_name": "Python 3",
   "language": "python",
   "name": "python3"
  },
  "language_info": {
   "codemirror_mode": {
    "name": "ipython",
    "version": 3
   },
   "file_extension": ".py",
   "mimetype": "text/x-python",
   "name": "python",
   "nbconvert_exporter": "python",
   "pygments_lexer": "ipython3",
   "version": "3.10.12"
  }
 },
 "nbformat": 4,
 "nbformat_minor": 2
}
