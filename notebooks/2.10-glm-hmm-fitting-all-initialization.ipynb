{
 "cells": [
  {
   "cell_type": "code",
   "execution_count": 16,
   "metadata": {},
   "outputs": [
    {
     "name": "stdout",
     "output_type": "stream",
     "text": [
      "The autoreload extension is already loaded. To reload it, use:\n",
      "  %reload_ext autoreload\n"
     ]
    }
   ],
   "source": [
    "%matplotlib inline\n",
    "%load_ext autoreload\n",
    "%autoreload 2"
   ]
  },
  {
   "cell_type": "code",
   "execution_count": 17,
   "metadata": {},
   "outputs": [],
   "source": [
    "import numpy as np\n",
    "import numpy.random as npr\n",
    "import pandas as pd\n",
    "import matplotlib.pyplot as plt\n",
    "import ssm\n",
    "from sklearn import preprocessing\n",
    "from sklearn.model_selection import KFold\n",
    "from scipy import stats\n",
    "\n",
    "from notebooks.imports import *\n",
    "from config import dir_config, main_config\n",
    "from src.utils.glm_hmm_utils import *\n",
    "import pickle\n",
    "import copy"
   ]
  },
  {
   "cell_type": "markdown",
   "metadata": {},
   "source": [
    "### Configuration"
   ]
  },
  {
   "cell_type": "code",
   "execution_count": 18,
   "metadata": {},
   "outputs": [],
   "source": [
    "from config import dir_config, main_config\n",
    "\n",
    "raw_dir = Path(dir_config.data.raw)\n",
    "processed_dir = Path(dir_config.data.processed)\n",
    "\n",
    "metadata = pd.read_csv(Path(processed_dir, \"processed_metadata_accu_60.csv\"))\n",
    "data = pd.read_csv(Path(processed_dir, \"processed_data_accu_60_all.csv\"))"
   ]
  },
  {
   "cell_type": "code",
   "execution_count": 19,
   "metadata": {},
   "outputs": [],
   "source": [
    "experiment_sites = [\"Stanford\"]\n",
    "\n",
    "metadata = metadata[metadata['experiment_site'].isin(experiment_sites)].reset_index(drop=True)\n",
    "data = data[data['subject_id'].isin(metadata['subject_id'])].reset_index(drop=True)\n",
    "\n",
    "# add session_id to data with matching subject_id and medication\n",
    "metadata['session_id'] = metadata[['subject_id', 'treatment']].apply(lambda x: '_'.join(x.astype(str).str.upper()), axis=1)\n",
    "data['session_id'] = data[['subject_id', 'medication']].apply(lambda x: '_'.join(x.astype(str).str.upper()), axis=1)\n",
    "data.choice = data.choice.fillna(-1).astype(int)\n",
    "data.target = data.target.fillna(-1).astype(int)\n",
    "data.outcome = data.outcome.fillna(-1).astype(int)"
   ]
  },
  {
   "cell_type": "markdown",
   "metadata": {},
   "source": [
    "### Helper Functions"
   ]
  },
  {
   "cell_type": "code",
   "execution_count": 20,
   "metadata": {},
   "outputs": [],
   "source": [
    "def extract_previous_trial_data(trial_data, invalid_idx):\n",
    "    npr.seed(1)\n",
    "    prev_choice = np.hstack([trial_data.choice[0], trial_data.choice[:-1]])  # 0:awayPrior, 1:toPrior of previous valid trial\n",
    "    prev_target = np.hstack([trial_data.target[0], trial_data.target[:-1]]) * 2 - 1  # 0:awayPrior, 1:toPrior of previous valid trial\n",
    "    prev_color = np.hstack([trial_data.color[0], trial_data.color[:-1]])  # 0:equalPrior, 1:UnequalPrior of previous valid trial\n",
    "\n",
    "    # indices where the previous trial is invalid/valid\n",
    "    prev_invalid_idx = np.array(invalid_idx) + 1\n",
    "    if 0 in invalid_idx:\n",
    "        prev_invalid_idx = np.append(0, prev_invalid_idx)\n",
    "    prev_valid_idx = np.setdiff1d(np.arange(len(trial_data)), prev_invalid_idx)\n",
    "\n",
    "    for i in prev_invalid_idx[prev_invalid_idx < len(trial_data)]:\n",
    "        if i < prev_valid_idx[0]: #randomly sample if no previous valid trials\n",
    "            prev_choice[i] = np.random.binomial(1,0.5)\n",
    "            prev_target[i] = np.random.binomial(1,0.5) * 2 - 1\n",
    "            prev_color[i]  = np.random.binomial(1,0.5)\n",
    "        else:\n",
    "            last_valid =  np.where(prev_valid_idx<i)[0][-1]\n",
    "            prev_choice[i] = prev_choice[prev_valid_idx[last_valid]]\n",
    "            prev_target[i] = prev_target[prev_valid_idx[last_valid]]\n",
    "            prev_color[i] = prev_color[prev_valid_idx[last_valid]]\n",
    "\n",
    "    prev_choice = (prev_choice * 2) - 1 # -1:awayPrior, 1:toPrior of previous valid trial\n",
    "    return prev_choice.astype(int), prev_target.astype(int), prev_color.astype(int)\n",
    "\n",
    "def prepare_input_data(data, input_dim, invalid_idx):\n",
    "    X = np.ones((1, data.shape[0], input_dim))\n",
    "\n",
    "    X[0,:,0] = data.signed_coherence / 100\n",
    "    X[0,:,1] = data.color\n",
    "\n",
    "    prev_choice, prev_target, prev_color = extract_previous_trial_data(data, invalid_idx)\n",
    "    if input_dim == 4:\n",
    "        X[0,:,3] = prev_choice\n",
    "    elif input_dim == 5:\n",
    "        X[0,:,3] = prev_choice\n",
    "        X[0,:,4] = prev_target\n",
    "    elif input_dim == 6:\n",
    "        X[0,:,3] = prev_choice\n",
    "        X[0,:,4] = prev_target\n",
    "        X[0,:,5] = prev_color\n",
    "    return list(X)"
   ]
  },
  {
   "cell_type": "markdown",
   "metadata": {},
   "source": [
    "### Data processing"
   ]
  },
  {
   "cell_type": "code",
   "execution_count": 21,
   "metadata": {},
   "outputs": [
    {
     "name": "stdout",
     "output_type": "stream",
     "text": [
      "------------- info ----------------\n",
      "<class 'pandas.core.frame.DataFrame'>\n",
      "RangeIndex: 20585 entries, 0 to 20584\n",
      "Data columns (total 15 columns):\n",
      " #   Column            Non-Null Count  Dtype  \n",
      "---  ------            --------------  -----  \n",
      " 0   subject_id        20585 non-null  object \n",
      " 1   medication        20585 non-null  object \n",
      " 2   prior             20585 non-null  object \n",
      " 3   prior_direction   20585 non-null  object \n",
      " 4   prior_color       20585 non-null  object \n",
      " 5   color             20307 non-null  float64\n",
      " 6   coherence         20307 non-null  float64\n",
      " 7   target            20585 non-null  int64  \n",
      " 8   is_valid          20585 non-null  bool   \n",
      " 9   outcome           20585 non-null  int64  \n",
      " 10  choice            20585 non-null  int64  \n",
      " 11  reaction_time     20585 non-null  float64\n",
      " 12  session_filename  20585 non-null  object \n",
      " 13  signed_coherence  20307 non-null  float64\n",
      " 14  session_id        20585 non-null  object \n",
      "dtypes: bool(1), float64(4), int64(3), object(7)\n",
      "memory usage: 2.2+ MB\n",
      "None\n",
      "------------- Head ----------------\n",
      "  subject_id medication prior prior_direction prior_color  color  coherence  \\\n",
      "0        P11        off    gr           right       green    1.0       13.0   \n",
      "1        P11        off    gr           right       green    1.0        0.0   \n",
      "2        P11        off    gr           right       green    0.0        0.0   \n",
      "3        P11        off    gr           right       green    1.0        0.0   \n",
      "4        P11        off    gr           right       green    1.0      100.0   \n",
      "\n",
      "   target  is_valid  outcome  choice  reaction_time    session_filename  \\\n",
      "0       0      True        0       1    1605.292423  P11_OFFmeds_gr.mat   \n",
      "1       1      True        0       0    1444.102487  P11_OFFmeds_gr.mat   \n",
      "2       0      True        0       1    1314.854267  P11_OFFmeds_gr.mat   \n",
      "3       1     False       -1      -1    1648.912344  P11_OFFmeds_gr.mat   \n",
      "4       0      True        1       0     712.549048  P11_OFFmeds_gr.mat   \n",
      "\n",
      "   signed_coherence session_id  \n",
      "0             -13.0    P11_OFF  \n",
      "1               0.0    P11_OFF  \n",
      "2              -0.0    P11_OFF  \n",
      "3               0.0    P11_OFF  \n",
      "4            -100.0    P11_OFF  \n",
      "\n",
      "\n",
      "------------- describe ----------------\n",
      "\n",
      "\n",
      "              color     coherence        target       outcome        choice  \\\n",
      "count  20307.000000  20307.000000  20585.000000  20585.000000  20585.000000   \n",
      "mean       0.499975     37.134880      0.594462      0.642798      0.499247   \n",
      "std        0.500012     38.531784      0.517784      0.562396      0.580242   \n",
      "min        0.000000      0.000000     -1.000000     -1.000000     -1.000000   \n",
      "25%        0.000000     13.000000      0.000000      0.000000      0.000000   \n",
      "50%        0.000000     35.000000      1.000000      1.000000      1.000000   \n",
      "75%        1.000000    100.000000      1.000000      1.000000      1.000000   \n",
      "max        1.000000    100.000000      1.000000      1.000000      1.000000   \n",
      "\n",
      "       reaction_time  signed_coherence  \n",
      "count   2.058500e+04      20307.000000  \n",
      "mean    5.530039e+02          8.597429  \n",
      "std     4.950787e+04         52.818994  \n",
      "min    -7.102090e+06       -100.000000  \n",
      "25%     6.816330e+02        -13.000000  \n",
      "50%     8.382396e+02          0.000000  \n",
      "75%     1.077466e+03         35.000000  \n",
      "max     1.821451e+03        100.000000  \n",
      "------------- nan counts ----------------\n",
      "subject_id            0\n",
      "medication            0\n",
      "prior                 0\n",
      "prior_direction       0\n",
      "prior_color           0\n",
      "color               278\n",
      "coherence           278\n",
      "target                0\n",
      "is_valid              0\n",
      "outcome               0\n",
      "choice                0\n",
      "reaction_time         0\n",
      "session_filename      0\n",
      "signed_coherence    278\n",
      "session_id            0\n",
      "dtype: int64\n",
      "\n",
      "\n",
      "------------- dtypes ----------------\n",
      "\n",
      "\n",
      "subject_id           object\n",
      "medication           object\n",
      "prior                object\n",
      "prior_direction      object\n",
      "prior_color          object\n",
      "color               float64\n",
      "coherence           float64\n",
      "target                int64\n",
      "is_valid               bool\n",
      "outcome               int64\n",
      "choice                int64\n",
      "reaction_time       float64\n",
      "session_filename     object\n",
      "signed_coherence    float64\n",
      "session_id           object\n",
      "dtype: object\n",
      "\n",
      "\n",
      "------------- shape ----------------\n",
      "\n",
      "\n",
      "(20585, 15)\n"
     ]
    }
   ],
   "source": [
    "print(\"------------- info ----------------\")\n",
    "print(data.info())\n",
    "print(\"------------- Head ----------------\")\n",
    "print(data.head())\n",
    "print(\"\\n\\n------------- describe ----------------\\n\\n\")\n",
    "print(data.describe())\n",
    "print(\"------------- nan counts ----------------\")\n",
    "print(data.isnull().sum())\n",
    "print(\"\\n\\n------------- dtypes ----------------\\n\\n\")\n",
    "print(data.dtypes)\n",
    "print(\"\\n\\n------------- shape ----------------\\n\\n\")\n",
    "print(data.shape)"
   ]
  },
  {
   "cell_type": "markdown",
   "metadata": {},
   "source": [
    "#### Data preparation"
   ]
  },
  {
   "cell_type": "markdown",
   "metadata": {},
   "source": [
    "#### Create design matrix (input, output, mask)"
   ]
  },
  {
   "cell_type": "code",
   "execution_count": 22,
   "metadata": {},
   "outputs": [],
   "source": [
    "n_states = 2       # number of discrete states\n",
    "obs_dim = 1           # number of observed dimensions: choice(toPrior/awayPrior)\n",
    "num_categories = 2    # number of categories for output\n",
    "input_dim = 5        # input dimensions: current signed coherence, current stimulus color, 1(bias), previous choice(toPrior/awayPrior), previous target side(toPrior/awayPrior), previous color(toPrior/awayPrior)"
   ]
  },
  {
   "cell_type": "code",
   "execution_count": null,
   "metadata": {},
   "outputs": [],
   "source": [
    "inputs_session_wise = []\n",
    "choices_session_wise = []\n",
    "invalid_idx_session_wise = []\n",
    "masks_session_wise = []\n",
    "reaction_time_session_wise = []\n",
    "\n",
    "# off medication sessions\n",
    "for session in metadata.session_id.unique():\n",
    "    session_data = data[data['session_id'] == session].reset_index(drop=True)\n",
    "\n",
    "\n",
    "    invalid_idx = np.where(session_data.outcome < 0)[0]\n",
    "    valid_idx = np.where(session_data.outcome >= 0)[0]\n",
    "\n",
    "    inputs = prepare_input_data(session_data, input_dim, invalid_idx)\n",
    "    choices = session_data.choice.values.reshape(-1,1).astype('int')\n",
    "\n",
    "    # for training, replace -1 with random sample from 0,1\n",
    "    choices[choices == -1] = npr.choice([0,1],invalid_idx.shape[0])\n",
    "    mask = np.ones_like(choices, dtype=bool)\n",
    "    mask[invalid_idx] = 0\n",
    "    reaction_time = np.array(session_data.reaction_time)\n",
    "\n",
    "    masks_session_wise.append(mask)\n",
    "    inputs_session_wise += inputs\n",
    "    choices_session_wise.append(choices)\n",
    "    reaction_time_session_wise.append(reaction_time)\n",
    "\n",
    "inputs_aggregate, choices_aggregate, masks_aggregate = [], [], []\n",
    "inputs_aggregate.append(np.vstack(inputs_session_wise))\n",
    "choices_aggregate.append(np.vstack(choices_session_wise))\n",
    "masks_aggregate.append(np.vstack(masks_session_wise))\n",
    "\n",
    "unnormalized_inputs = copy.deepcopy(inputs_session_wise)\n",
    "\n",
    "# scaling signed coherence\n",
    "inputs_aggregate[0][masks_aggregate[0][:,0],0] = preprocessing.scale(inputs_aggregate[0][masks_aggregate[0][:,0],0], axis=0)\n",
    "for idx in range(len(metadata.session_id.unique())):\n",
    "    inputs_session_wise[idx][masks_session_wise[idx][:,0],0] = preprocessing.scale(inputs_session_wise[idx][masks_session_wise[idx][:,0],0], axis=0)\n"
   ]
  },
  {
   "cell_type": "code",
   "execution_count": 24,
   "metadata": {},
   "outputs": [
    {
     "name": "stdout",
     "output_type": "stream",
     "text": [
      "Fitting GLM globally...\n"
     ]
    },
    {
     "data": {
      "application/vnd.jupyter.widget-view+json": {
       "model_id": "6f4d1e8343364e5f878bdfd341fbe8fe",
       "version_major": 2,
       "version_minor": 0
      },
      "text/plain": [
       "  0%|          | 0/1000 [00:00<?, ?it/s]"
      ]
     },
     "metadata": {},
     "output_type": "display_data"
    },
    {
     "name": "stdout",
     "output_type": "stream",
     "text": [
      "Fitting 2 states...\n"
     ]
    },
    {
     "name": "stderr",
     "output_type": "stream",
     "text": [
      "Converged to LP: -10072.1:   2%|▏         | 19/1000 [00:01<01:22, 11.86it/s]\n",
      "Converged to LP: -10072.1:   7%|▋         | 68/1000 [00:05<01:13, 12.69it/s]\n",
      "Converged to LP: -10072.1:   7%|▋         | 74/1000 [00:05<01:13, 12.63it/s]\n",
      "Converged to LP: -10072.1:   8%|▊         | 75/1000 [00:05<01:12, 12.83it/s]\n",
      "Converged to LP: -10072.1:   8%|▊         | 76/1000 [00:06<01:13, 12.60it/s]\n",
      "Converged to LP: -10072.1:   8%|▊         | 78/1000 [00:05<01:10, 13.09it/s]\n",
      "Converged to LP: -10072.1:   8%|▊         | 80/1000 [00:06<01:12, 12.71it/s]\n",
      "Converged to LP: -10072.1:   9%|▊         | 87/1000 [00:06<01:09, 13.18it/s]\n",
      "Converged to LP: -10072.1:  10%|▉         | 95/1000 [00:07<01:09, 13.08it/s]\n",
      "Converged to LP: -10072.1:  10%|▉         | 98/1000 [00:07<01:07, 13.33it/s]\n",
      "Converged to LP: -10072.1:  10%|█         | 101/1000 [00:07<01:06, 13.42it/s]\n",
      "Converged to LP: -10072.1:  10%|█         | 104/1000 [00:07<01:06, 13.40it/s]\n",
      "Converged to LP: -10072.1:  11%|█         | 107/1000 [00:07<01:06, 13.44it/s]\n",
      "Converged to LP: -10072.1:  11%|█         | 107/1000 [00:07<01:05, 13.54it/s]\n",
      "Converged to LP: -10072.1:  11%|█         | 108/1000 [00:08<01:06, 13.33it/s]\n",
      "Converged to LP: -10072.1:  11%|█         | 109/1000 [00:08<01:08, 13.06it/s]\n",
      "Converged to LP: -10072.1:  12%|█▏        | 119/1000 [00:08<01:03, 13.85it/s]\n",
      "Converged to LP: -10072.1:  13%|█▎        | 130/1000 [00:09<01:02, 13.87it/s]\n",
      "Converged to LP: -10072.1:  14%|█▍        | 141/1000 [00:09<01:00, 14.23it/s]\n",
      "Converged to LP: -10072.1:  19%|█▉        | 189/1000 [00:12<00:53, 15.13it/s]\n",
      "LP: -10651.3:   0%|          | 0/1000 [00:00<?, ?it/s]"
     ]
    },
    {
     "name": "stdout",
     "output_type": "stream",
     "text": [
      "Fitting 3 states...\n"
     ]
    },
    {
     "name": "stderr",
     "output_type": "stream",
     "text": [
      "Converged to LP: -9915.4:  10%|█         | 102/1000 [00:10<01:33,  9.64it/s]\n",
      "Converged to LP: -9915.4:  10%|█         | 105/1000 [00:11<01:36,  9.31it/s]\n",
      "Converged to LP: -9915.5:  12%|█▏        | 116/1000 [00:12<01:34,  9.32it/s]\n",
      "Converged to LP: -9915.4:  14%|█▎        | 137/1000 [00:14<01:34,  9.15it/s]\n",
      "Converged to LP: -9915.4:  17%|█▋        | 167/1000 [00:17<01:26,  9.65it/s]\n",
      "Converged to LP: -9915.5:  17%|█▋        | 167/1000 [00:17<01:28,  9.38it/s]\n",
      "Converged to LP: -9915.4:  17%|█▋        | 174/1000 [00:18<01:26,  9.60it/s]\n",
      "Converged to LP: -9915.5:  20%|█▉        | 197/1000 [00:20<01:24,  9.51it/s]\n",
      "Converged to LP: -9915.5:  20%|██        | 204/1000 [00:21<01:22,  9.67it/s]\n",
      "Converged to LP: -9915.4:  21%|██▏       | 213/1000 [00:21<01:20,  9.74it/s]\n",
      "Converged to LP: -9915.4:  21%|██▏       | 214/1000 [00:21<01:19,  9.94it/s]\n",
      "Converged to LP: -9915.5:  22%|██▎       | 225/1000 [00:22<01:17, 10.00it/s]\n",
      "Converged to LP: -9915.4:  24%|██▍       | 244/1000 [00:24<01:15, 10.07it/s]\n",
      "Converged to LP: -9915.5:  26%|██▌       | 256/1000 [00:25<01:13, 10.08it/s]\n",
      "Converged to LP: -9915.4:  26%|██▌       | 257/1000 [00:25<01:12, 10.19it/s]\n",
      "Converged to LP: -9915.5:  28%|██▊       | 278/1000 [00:27<01:11, 10.12it/s]\n",
      "Converged to LP: -10098.0:  35%|███▌      | 352/1000 [00:26<00:49, 13.15it/s]\n",
      "Converged to LP: -10099.3:  32%|███▏      | 317/1000 [00:27<00:59, 11.56it/s]\n",
      "Converged to LP: -10099.5:  40%|███▉      | 395/1000 [00:32<00:49, 12.30it/s]\n",
      "Converged to LP: -9915.4:  38%|███▊      | 376/1000 [00:36<01:00, 10.34it/s]\n",
      "LP: -10595.9:   0%|          | 1/1000 [00:00<02:00,  8.28it/s]"
     ]
    },
    {
     "name": "stdout",
     "output_type": "stream",
     "text": [
      "Fitting 4 states...\n"
     ]
    },
    {
     "name": "stderr",
     "output_type": "stream",
     "text": [
      "Converged to LP: -9830.4:  14%|█▍        | 142/1000 [00:19<01:59,  7.16it/s]\n",
      "Converged to LP: -9830.6:  18%|█▊        | 177/1000 [00:23<01:46,  7.69it/s]\n",
      "Converged to LP: -9830.7:  19%|█▉        | 191/1000 [00:23<01:39,  8.10it/s]\n",
      "Converged to LP: -9830.4:  22%|██▏       | 223/1000 [00:29<01:44,  7.44it/s]\n",
      "Converged to LP: -9830.4:  24%|██▍       | 242/1000 [00:32<01:42,  7.41it/s]\n",
      "Converged to LP: -9830.4:  28%|██▊       | 281/1000 [00:36<01:32,  7.75it/s]\n",
      "Converged to LP: -9830.4:  32%|███▎      | 325/1000 [00:42<01:29,  7.57it/s]\n",
      "Converged to LP: -9925.1:  39%|███▉      | 394/1000 [00:44<01:07,  8.92it/s]\n",
      "Converged to LP: -9830.6:  36%|███▌      | 358/1000 [00:44<01:20,  8.00it/s]\n",
      "Converged to LP: -9830.4:  41%|████      | 409/1000 [00:51<01:13,  7.99it/s]\n",
      "Converged to LP: -9947.1:  53%|█████▎    | 530/1000 [00:53<00:47,  9.93it/s]\n",
      "Converged to LP: -9925.1:  49%|████▉     | 493/1000 [00:56<00:57,  8.80it/s]\n",
      "Converged to LP: -9830.4:  48%|████▊     | 477/1000 [00:58<01:03,  8.22it/s]\n",
      "Converged to LP: -9830.4:  50%|████▉     | 498/1000 [01:00<01:00,  8.28it/s]\n",
      "Converged to LP: -9830.7:  57%|█████▋    | 573/1000 [01:01<00:45,  9.30it/s]\n",
      "Converged to LP: -9944.1:  57%|█████▋    | 568/1000 [01:07<00:51,  8.44it/s]\n",
      "Converged to LP: -9830.4:  59%|█████▊    | 586/1000 [01:09<00:48,  8.48it/s]\n",
      "Converged to LP: -9830.4:  67%|██████▋   | 669/1000 [01:11<00:35,  9.38it/s]\n",
      "LP: -9948.7: 100%|██████████| 1000/1000 [01:29<00:00, 11.23it/s]\n",
      "LP: -10117.6: 100%|██████████| 1000/1000 [01:31<00:00, 10.99it/s]\n",
      "LP: -10699.4:   0%|          | 0/1000 [00:00<?, ?it/s]"
     ]
    },
    {
     "name": "stdout",
     "output_type": "stream",
     "text": [
      "Fitting 5 states...\n"
     ]
    },
    {
     "name": "stderr",
     "output_type": "stream",
     "text": [
      "Converged to LP: -10606.2:   3%|▎         | 33/1000 [00:04<02:00,  8.04it/s]\n",
      "Converged to LP: -9806.4:  32%|███▏      | 317/1000 [00:48<01:45,  6.50it/s]\n",
      "Converged to LP: -9849.0:  46%|████▌     | 457/1000 [01:04<01:16,  7.11it/s]\n",
      "Converged to LP: -9953.2:  51%|█████     | 506/1000 [01:16<01:14,  6.64it/s]\n",
      "Converged to LP: -9806.4:  50%|█████     | 501/1000 [01:17<01:16,  6.49it/s]\n",
      "Converged to LP: -9816.2:  50%|█████     | 501/1000 [01:17<01:17,  6.46it/s]\n",
      "Converged to LP: -9861.8:  57%|█████▋    | 574/1000 [01:17<00:57,  7.39it/s]\n",
      "Converged to LP: -9862.4:  66%|██████▋   | 663/1000 [01:30<00:45,  7.33it/s]\n",
      "Converged to LP: -9865.2:  72%|███████▏  | 715/1000 [01:35<00:38,  7.45it/s]\n",
      "Converged to LP: -9848.6:  78%|███████▊  | 782/1000 [01:46<00:29,  7.35it/s]\n",
      "Converged to LP: -9809.4:  75%|███████▌  | 754/1000 [01:46<00:34,  7.08it/s]\n",
      "Converged to LP: -9862.1:  77%|███████▋  | 766/1000 [01:46<00:32,  7.17it/s]\n",
      "Converged to LP: -9851.2:  92%|█████████▏| 922/1000 [01:59<00:10,  7.70it/s]\n",
      "LP: -9959.7: 100%|██████████| 1000/1000 [02:00<00:00,  8.30it/s]\n",
      "LP: -9958.5: 100%|██████████| 1000/1000 [02:06<00:00,  7.90it/s]\n",
      "LP: -9848.3: 100%|██████████| 1000/1000 [02:08<00:00,  7.80it/s]\n",
      "LP: -9933.3: 100%|██████████| 1000/1000 [02:08<00:00,  7.78it/s]\n",
      "LP: -9957.8: 100%|██████████| 1000/1000 [02:08<00:00,  7.76it/s]\n",
      "LP: -9848.7: 100%|██████████| 1000/1000 [02:09<00:00,  7.71it/s]\n",
      "LP: -9845.6: 100%|██████████| 1000/1000 [02:09<00:00,  7.69it/s]\n"
     ]
    }
   ],
   "source": [
    "models_glm_hmm, fit_lls_glm_hmm = global_fit(choices_aggregate, inputs_aggregate, masks=masks_aggregate, n_iters= 1000, n_initializations=20)"
   ]
  },
  {
   "cell_type": "code",
   "execution_count": 25,
   "metadata": {},
   "outputs": [],
   "source": [
    "# get best model of 20 initializations for each state\n",
    "init_params = {\n",
    "    'glm_weights': {},\n",
    "    'transition_matrices': {}\n",
    "}\n",
    "for n_states in np.arange(2,6):\n",
    "    best_idx = fit_lls_glm_hmm[n_states].index(max(fit_lls_glm_hmm[n_states]))\n",
    "    init_params['glm_weights'][n_states] = models_glm_hmm[n_states][best_idx].observations.params\n",
    "    init_params['transition_matrices'][n_states] = models_glm_hmm[n_states][best_idx].transitions.params"
   ]
  },
  {
   "cell_type": "code",
   "execution_count": 27,
   "metadata": {},
   "outputs": [
    {
     "name": "stdout",
     "output_type": "stream",
     "text": [
      "Fitting session 0...\n",
      "Fitting 2 states...\n"
     ]
    },
    {
     "name": "stderr",
     "output_type": "stream",
     "text": [
      "Converged to LP: -303.7:   2%|▏         | 16/1000 [00:00<00:05, 186.30it/s]\n",
      "Converged to LP: -298.0:   2%|▏         | 17/1000 [00:00<00:04, 227.10it/s]\n",
      "Converged to LP: -300.3:   4%|▍         | 38/1000 [00:00<00:04, 213.54it/s]\n",
      "Converged to LP: -305.3:   3%|▎         | 31/1000 [00:00<00:05, 168.37it/s]\n",
      "Converged to LP: -291.0:  20%|█▉        | 195/1000 [00:00<00:03, 216.75it/s]\n",
      "LP: -336.3:   0%|          | 0/1000 [00:00<?, ?it/s]"
     ]
    },
    {
     "name": "stdout",
     "output_type": "stream",
     "text": [
      "Fitting 3 states...\n"
     ]
    },
    {
     "name": "stderr",
     "output_type": "stream",
     "text": [
      "Converged to LP: -333.9:   2%|▏         | 20/1000 [00:00<00:08, 122.04it/s]\n",
      "Converged to LP: -335.8:   2%|▏         | 24/1000 [00:00<00:06, 148.06it/s]\n",
      "Converged to LP: -327.6:   4%|▍         | 39/1000 [00:00<00:06, 149.25it/s]\n",
      "Converged to LP: -330.9:   5%|▍         | 49/1000 [00:00<00:06, 141.22it/s]\n",
      "Converged to LP: -324.9:  18%|█▊        | 177/1000 [00:01<00:04, 175.52it/s]\n",
      "LP: -376.3:   0%|          | 0/1000 [00:00<?, ?it/s]"
     ]
    },
    {
     "name": "stdout",
     "output_type": "stream",
     "text": [
      "Fitting 4 states...\n"
     ]
    },
    {
     "name": "stderr",
     "output_type": "stream",
     "text": [
      "Converged to LP: -367.8:   4%|▍         | 42/1000 [00:00<00:07, 130.92it/s]\n",
      "Converged to LP: -353.0:   5%|▍         | 48/1000 [00:00<00:07, 134.76it/s]\n",
      "Converged to LP: -365.2:  13%|█▎        | 132/1000 [00:00<00:05, 160.48it/s]\n",
      "Converged to LP: -364.7:  14%|█▍        | 144/1000 [00:01<00:06, 132.33it/s]\n",
      "Converged to LP: -365.2:  16%|█▋        | 163/1000 [00:01<00:06, 123.03it/s]\n",
      "LP: -404.7:   1%|          | 10/1000 [00:00<00:10, 93.84it/s]"
     ]
    },
    {
     "name": "stdout",
     "output_type": "stream",
     "text": [
      "Fitting 5 states...\n"
     ]
    },
    {
     "name": "stderr",
     "output_type": "stream",
     "text": [
      "Converged to LP: -384.8:   5%|▌         | 54/1000 [00:00<00:07, 121.43it/s]\n",
      "Converged to LP: -397.2:   6%|▌         | 60/1000 [00:00<00:08, 113.70it/s]\n",
      "Converged to LP: -396.3:   5%|▌         | 54/1000 [00:00<00:09, 99.03it/s] \n",
      "Converged to LP: -400.4:   9%|▉         | 93/1000 [00:00<00:07, 122.58it/s]\n",
      "Converged to LP: -393.2:  23%|██▎       | 228/1000 [00:01<00:05, 140.40it/s]\n",
      "Converged to LP: -277.3:   1%|          | 7/1000 [00:00<00:05, 188.63it/s]\n",
      "Converged to LP: -286.3:   1%|          | 10/1000 [00:00<00:05, 184.28it/s]\n",
      "Converged to LP: -283.9:   2%|▏         | 18/1000 [00:00<00:04, 214.65it/s]\n",
      "LP: -286.0:   0%|          | 0/1000 [00:00<?, ?it/s]"
     ]
    },
    {
     "name": "stdout",
     "output_type": "stream",
     "text": [
      "Fitting session 1...\n",
      "Fitting 2 states...\n"
     ]
    },
    {
     "name": "stderr",
     "output_type": "stream",
     "text": [
      "Converged to LP: -286.0:   3%|▎         | 26/1000 [00:00<00:04, 215.05it/s]\n",
      "Converged to LP: -278.9:   6%|▋         | 64/1000 [00:00<00:04, 208.64it/s]\n",
      "Converged to LP: -322.0:   2%|▏         | 15/1000 [00:00<00:06, 153.32it/s]\n",
      "Converged to LP: -322.9:   2%|▏         | 16/1000 [00:00<00:05, 171.10it/s]\n",
      "Converged to LP: -313.5:   2%|▏         | 23/1000 [00:00<00:06, 161.57it/s]\n",
      "LP: -316.6:   1%|          | 11/1000 [00:00<00:09, 108.47it/s]"
     ]
    },
    {
     "name": "stdout",
     "output_type": "stream",
     "text": [
      "Fitting 3 states...\n"
     ]
    },
    {
     "name": "stderr",
     "output_type": "stream",
     "text": [
      "Converged to LP: -315.1:   5%|▍         | 46/1000 [00:00<00:05, 162.47it/s]\n",
      "Converged to LP: -316.2:   6%|▌         | 56/1000 [00:00<00:06, 157.30it/s]\n",
      "LP: -376.0:   0%|          | 0/1000 [00:00<?, ?it/s]"
     ]
    },
    {
     "name": "stdout",
     "output_type": "stream",
     "text": [
      "Fitting 4 states...\n"
     ]
    },
    {
     "name": "stderr",
     "output_type": "stream",
     "text": [
      "Converged to LP: -355.4:   6%|▌         | 61/1000 [00:00<00:06, 140.96it/s]\n",
      "Converged to LP: -346.5:   7%|▋         | 70/1000 [00:00<00:08, 114.34it/s]\n",
      "Converged to LP: -354.9:  11%|█         | 110/1000 [00:00<00:07, 126.79it/s]\n",
      "Converged to LP: -350.6:  14%|█▍        | 143/1000 [00:00<00:05, 145.88it/s]\n",
      "Converged to LP: -354.1:  15%|█▌        | 151/1000 [00:01<00:06, 128.08it/s]\n",
      "LP: -414.1:   0%|          | 0/1000 [00:00<?, ?it/s]"
     ]
    },
    {
     "name": "stdout",
     "output_type": "stream",
     "text": [
      "Fitting 5 states...\n"
     ]
    },
    {
     "name": "stderr",
     "output_type": "stream",
     "text": [
      "Converged to LP: -387.2:   5%|▍         | 46/1000 [00:00<00:08, 117.52it/s]\n",
      "Converged to LP: -390.5:   5%|▌         | 54/1000 [00:00<00:07, 122.95it/s]\n",
      "Converged to LP: -378.8:   6%|▌         | 62/1000 [00:00<00:08, 109.92it/s]\n",
      "Converged to LP: -383.9:  12%|█▏        | 118/1000 [00:00<00:06, 128.07it/s]\n",
      "Converged to LP: -388.3:  30%|███       | 301/1000 [00:02<00:05, 136.37it/s]\n",
      "Converged to LP: -284.2:   1%|          | 6/1000 [00:00<00:05, 170.73it/s]\n",
      "LP: -296.6:   0%|          | 0/1000 [00:00<?, ?it/s]"
     ]
    },
    {
     "name": "stdout",
     "output_type": "stream",
     "text": [
      "Fitting session 2...\n",
      "Fitting 2 states...\n",
      "Fitting 3 states...\n"
     ]
    },
    {
     "name": "stderr",
     "output_type": "stream",
     "text": [
      "Converged to LP: -293.7:   1%|          | 8/1000 [00:00<00:05, 183.35it/s]\n",
      "Converged to LP: -290.8:   1%|          | 10/1000 [00:00<00:05, 192.47it/s]\n",
      "Converged to LP: -296.4:   1%|          | 9/1000 [00:00<00:05, 187.54it/s]\n",
      "Converged to LP: -294.1:   2%|▏         | 15/1000 [00:00<00:04, 209.50it/s]\n",
      "Converged to LP: -330.4:   2%|▏         | 20/1000 [00:00<00:05, 195.04it/s]\n",
      "Converged to LP: -326.2:   2%|▏         | 18/1000 [00:00<00:06, 142.58it/s]\n",
      "Converged to LP: -325.7:   3%|▎         | 31/1000 [00:00<00:05, 176.47it/s]\n",
      "Converged to LP: -326.5:   8%|▊         | 75/1000 [00:00<00:04, 225.91it/s]\n",
      "Converged to LP: -320.7:  23%|██▎       | 233/1000 [00:00<00:03, 247.37it/s]\n",
      "  0%|          | 0/1000 [00:00<?, ?it/s]00<?, ?it/s]"
     ]
    },
    {
     "name": "stdout",
     "output_type": "stream",
     "text": [
      "Fitting 4 states...\n"
     ]
    },
    {
     "name": "stderr",
     "output_type": "stream",
     "text": [
      "Converged to LP: -353.2:   2%|▏         | 21/1000 [00:00<00:09, 108.19it/s]\n",
      "Converged to LP: -362.0:   3%|▎         | 30/1000 [00:00<00:07, 127.64it/s]\n",
      "Converged to LP: -361.7:   6%|▌         | 60/1000 [00:00<00:05, 169.11it/s]\n",
      "Converged to LP: -357.3:   7%|▋         | 69/1000 [00:00<00:05, 182.66it/s]\n",
      "Converged to LP: -361.0:   6%|▋         | 63/1000 [00:00<00:06, 137.64it/s]\n",
      "LP: -390.2:   1%|          | 8/1000 [00:00<00:12, 79.81it/s]]]"
     ]
    },
    {
     "name": "stdout",
     "output_type": "stream",
     "text": [
      "Fitting 5 states...\n"
     ]
    },
    {
     "name": "stderr",
     "output_type": "stream",
     "text": [
      "Converged to LP: -395.2:   3%|▎         | 33/1000 [00:00<00:07, 125.58it/s]\n",
      "Converged to LP: -387.0:   4%|▍         | 40/1000 [00:00<00:07, 131.77it/s]\n",
      "Converged to LP: -389.6:   4%|▎         | 37/1000 [00:00<00:07, 123.49it/s]\n",
      "Converged to LP: -388.9:  10%|▉         | 98/1000 [00:00<00:06, 139.56it/s]\n",
      "Converged to LP: -397.3:  15%|█▍        | 147/1000 [00:00<00:04, 171.31it/s]\n",
      "LP: -389.9:   0%|          | 0/1000 [00:00<?, ?it/s]"
     ]
    },
    {
     "name": "stdout",
     "output_type": "stream",
     "text": [
      "Fitting session 3...\n",
      "Fitting 2 states...\n"
     ]
    },
    {
     "name": "stderr",
     "output_type": "stream",
     "text": [
      "Converged to LP: -389.9:   1%|          | 11/1000 [00:00<00:05, 195.67it/s]\n",
      "Converged to LP: -391.7:   1%|          | 12/1000 [00:00<00:06, 161.27it/s]\n",
      "Converged to LP: -400.3:   2%|▏         | 20/1000 [00:00<00:04, 238.72it/s]\n",
      "Converged to LP: -398.8:   3%|▎         | 29/1000 [00:00<00:05, 161.97it/s]\n",
      "Converged to LP: -393.5:   4%|▎         | 37/1000 [00:00<00:04, 196.82it/s]\n",
      "LP: -434.2:   0%|          | 0/1000 [00:00<?, ?it/s]"
     ]
    },
    {
     "name": "stdout",
     "output_type": "stream",
     "text": [
      "Fitting 3 states...\n"
     ]
    },
    {
     "name": "stderr",
     "output_type": "stream",
     "text": [
      "Converged to LP: -440.4:   1%|▏         | 14/1000 [00:00<00:07, 130.17it/s]\n",
      "Converged to LP: -436.6:   2%|▏         | 19/1000 [00:00<00:06, 141.79it/s]\n",
      "Converged to LP: -430.6:   2%|▏         | 17/1000 [00:00<00:07, 126.42it/s]\n",
      "Converged to LP: -426.7:   2%|▎         | 25/1000 [00:00<00:07, 130.04it/s]\n",
      "Converged to LP: -422.3:   7%|▋         | 73/1000 [00:00<00:05, 166.25it/s]\n",
      "Converged to LP: -476.6:   2%|▏         | 15/1000 [00:00<00:07, 133.62it/s]\n",
      "LP: -459.5:   1%|          | 11/1000 [00:00<00:09, 103.44it/s]"
     ]
    },
    {
     "name": "stdout",
     "output_type": "stream",
     "text": [
      "Fitting 4 states...\n"
     ]
    },
    {
     "name": "stderr",
     "output_type": "stream",
     "text": [
      "Converged to LP: -466.9:   3%|▎         | 27/1000 [00:00<00:07, 122.23it/s]\n",
      "Converged to LP: -458.9:   6%|▌         | 55/1000 [00:00<00:06, 140.44it/s]\n",
      "Converged to LP: -462.9:   9%|▉         | 93/1000 [00:00<00:05, 157.47it/s]\n",
      "Converged to LP: -461.7:  31%|███▏      | 314/1000 [00:01<00:03, 188.68it/s]\n",
      "LP: -513.9:   1%|          | 9/1000 [00:00<00:11, 89.88it/s]s]"
     ]
    },
    {
     "name": "stdout",
     "output_type": "stream",
     "text": [
      "Fitting 5 states...\n"
     ]
    },
    {
     "name": "stderr",
     "output_type": "stream",
     "text": [
      "Converged to LP: -506.8:   3%|▎         | 33/1000 [00:00<00:07, 130.21it/s]\n",
      "Converged to LP: -507.5:   5%|▌         | 51/1000 [00:00<00:07, 122.75it/s]\n",
      "Converged to LP: -492.1:   5%|▌         | 52/1000 [00:00<00:07, 122.00it/s]\n",
      "Converged to LP: -494.7:  13%|█▎        | 128/1000 [00:01<00:07, 115.65it/s]\n",
      "Converged to LP: -496.3:  23%|██▎       | 231/1000 [00:01<00:05, 134.30it/s]\n",
      "LP: -320.1:   0%|          | 0/1000 [00:00<?, ?it/s]"
     ]
    },
    {
     "name": "stdout",
     "output_type": "stream",
     "text": [
      "Fitting session 4...\n",
      "Fitting 2 states...\n"
     ]
    },
    {
     "name": "stderr",
     "output_type": "stream",
     "text": [
      "Converged to LP: -329.6:   2%|▏         | 18/1000 [00:00<00:04, 204.68it/s]\n",
      "Converged to LP: -330.0:   2%|▏         | 22/1000 [00:00<00:04, 197.48it/s]\n",
      "Converged to LP: -310.8:   2%|▏         | 19/1000 [00:00<00:05, 169.92it/s]\n",
      "Converged to LP: -298.5:   3%|▎         | 26/1000 [00:00<00:04, 197.14it/s]\n",
      "Converged to LP: -328.2:   4%|▍         | 43/1000 [00:00<00:04, 202.43it/s]\n",
      "LP: -344.9:   1%|          | 12/1000 [00:00<00:08, 115.21it/s]"
     ]
    },
    {
     "name": "stdout",
     "output_type": "stream",
     "text": [
      "Fitting 3 states...\n"
     ]
    },
    {
     "name": "stderr",
     "output_type": "stream",
     "text": [
      "Converged to LP: -365.7:   4%|▍         | 39/1000 [00:00<00:06, 150.30it/s]\n",
      "Converged to LP: -361.7:   4%|▍         | 41/1000 [00:00<00:06, 156.60it/s]\n",
      "Converged to LP: -335.2:   4%|▍         | 40/1000 [00:00<00:07, 132.88it/s]\n",
      "Converged to LP: -346.3:   5%|▌         | 50/1000 [00:00<00:05, 160.91it/s]\n",
      "Converged to LP: -337.6:   5%|▌         | 50/1000 [00:00<00:07, 127.59it/s]\n",
      "LP: -396.9:   1%|          | 9/1000 [00:00<00:11, 87.52it/s]s]"
     ]
    },
    {
     "name": "stdout",
     "output_type": "stream",
     "text": [
      "Fitting 4 states...\n"
     ]
    },
    {
     "name": "stderr",
     "output_type": "stream",
     "text": [
      "Converged to LP: -390.7:   4%|▍         | 41/1000 [00:00<00:09, 96.22it/s] \n",
      "Converged to LP: -394.3:   6%|▌         | 59/1000 [00:00<00:07, 118.37it/s]\n",
      "Converged to LP: -376.4:   8%|▊         | 80/1000 [00:00<00:06, 148.44it/s]\n",
      "Converged to LP: -367.0:  10%|█         | 105/1000 [00:00<00:05, 152.74it/s]\n",
      "Converged to LP: -364.5:  13%|█▎        | 131/1000 [00:00<00:05, 153.67it/s]\n",
      "LP: -411.1:   0%|          | 0/1000 [00:00<?, ?it/s]"
     ]
    },
    {
     "name": "stdout",
     "output_type": "stream",
     "text": [
      "Fitting 5 states...\n"
     ]
    },
    {
     "name": "stderr",
     "output_type": "stream",
     "text": [
      "Converged to LP: -402.6:   4%|▍         | 44/1000 [00:00<00:08, 111.49it/s]\n",
      "Converged to LP: -396.2:   7%|▋         | 66/1000 [00:00<00:08, 114.13it/s]\n",
      "Converged to LP: -426.0:   7%|▋         | 70/1000 [00:00<00:08, 115.79it/s]\n",
      "Converged to LP: -421.4:  10%|█         | 103/1000 [00:00<00:06, 134.43it/s]\n",
      "Converged to LP: -408.8:  18%|█▊        | 178/1000 [00:01<00:05, 139.41it/s]\n",
      "LP: -326.3:   0%|          | 0/1000 [00:00<?, ?it/s]"
     ]
    },
    {
     "name": "stdout",
     "output_type": "stream",
     "text": [
      "Fitting session 5...\n",
      "Fitting 2 states...\n",
      "Fitting 3 states...\n"
     ]
    },
    {
     "name": "stderr",
     "output_type": "stream",
     "text": [
      "Converged to LP: -284.2:   1%|          | 6/1000 [00:00<00:04, 222.54it/s]\n",
      "Converged to LP: -293.7:   1%|          | 8/1000 [00:00<00:04, 238.88it/s]\n",
      "Converged to LP: -296.4:   1%|          | 9/1000 [00:00<00:04, 226.05it/s]\n",
      "Converged to LP: -290.8:   1%|          | 10/1000 [00:00<00:05, 184.87it/s]\n",
      "Converged to LP: -294.1:   2%|▏         | 15/1000 [00:00<00:04, 199.65it/s]\n",
      "Converged to LP: -330.4:   2%|▏         | 20/1000 [00:00<00:04, 202.92it/s]\n",
      "Converged to LP: -326.2:   2%|▏         | 18/1000 [00:00<00:05, 164.92it/s]\n",
      "Converged to LP: -325.7:   3%|▎         | 31/1000 [00:00<00:06, 159.51it/s]\n",
      "Converged to LP: -326.5:   8%|▊         | 75/1000 [00:00<00:04, 222.85it/s]\n",
      "Converged to LP: -320.7:  23%|██▎       | 233/1000 [00:00<00:02, 264.31it/s]\n",
      "LP: -373.4:   0%|          | 0/1000 [00:00<?, ?it/s]"
     ]
    },
    {
     "name": "stdout",
     "output_type": "stream",
     "text": [
      "Fitting 4 states...\n"
     ]
    },
    {
     "name": "stderr",
     "output_type": "stream",
     "text": [
      "Converged to LP: -353.2:   2%|▏         | 21/1000 [00:00<00:07, 135.78it/s]\n",
      "Converged to LP: -362.0:   3%|▎         | 30/1000 [00:00<00:07, 124.23it/s]\n",
      "Converged to LP: -361.7:   6%|▌         | 60/1000 [00:00<00:05, 180.29it/s]\n",
      "Converged to LP: -357.3:   7%|▋         | 69/1000 [00:00<00:05, 182.97it/s]\n",
      "Converged to LP: -361.0:   6%|▋         | 63/1000 [00:00<00:05, 158.41it/s]\n",
      "  0%|          | 0/1000 [00:00<?, ?it/s]00<?, ?it/s]"
     ]
    },
    {
     "name": "stdout",
     "output_type": "stream",
     "text": [
      "Fitting 5 states...\n"
     ]
    },
    {
     "name": "stderr",
     "output_type": "stream",
     "text": [
      "Converged to LP: -395.2:   3%|▎         | 33/1000 [00:00<00:09, 99.91it/s] \n",
      "Converged to LP: -389.6:   4%|▎         | 37/1000 [00:00<00:09, 106.58it/s]\n",
      "Converged to LP: -387.0:   4%|▍         | 40/1000 [00:00<00:08, 107.28it/s]\n",
      "Converged to LP: -388.9:  10%|▉         | 98/1000 [00:00<00:07, 126.81it/s]\n",
      "Converged to LP: -397.3:  15%|█▍        | 147/1000 [00:01<00:06, 132.80it/s]\n",
      "Converged to LP: -251.4:   1%|          | 11/1000 [00:00<00:07, 131.87it/s]\n",
      "LP: -261.6:   0%|          | 0/1000 [00:00<?, ?it/s]"
     ]
    },
    {
     "name": "stdout",
     "output_type": "stream",
     "text": [
      "Fitting session 6...\n",
      "Fitting 2 states...\n"
     ]
    },
    {
     "name": "stderr",
     "output_type": "stream",
     "text": [
      "Converged to LP: -252.9:   2%|▏         | 24/1000 [00:00<00:04, 209.63it/s]\n",
      "Converged to LP: -259.9:   9%|▉         | 88/1000 [00:00<00:04, 204.98it/s]\n",
      "Converged to LP: -249.7:  16%|█▌        | 157/1000 [00:00<00:03, 278.97it/s]\n",
      "Converged to LP: -256.6:  18%|█▊        | 185/1000 [00:00<00:03, 264.16it/s]\n",
      "Converged to LP: -274.9:   2%|▏         | 16/1000 [00:00<00:07, 128.50it/s]\n",
      "LP: -287.6:   1%|▏         | 13/1000 [00:00<00:07, 127.65it/s]"
     ]
    },
    {
     "name": "stdout",
     "output_type": "stream",
     "text": [
      "Fitting 3 states...\n"
     ]
    },
    {
     "name": "stderr",
     "output_type": "stream",
     "text": [
      "Converged to LP: -281.4:   3%|▎         | 31/1000 [00:00<00:07, 130.70it/s]\n",
      "Converged to LP: -285.4:   4%|▍         | 45/1000 [00:00<00:06, 158.58it/s]\n",
      "Converged to LP: -277.3:   7%|▋         | 66/1000 [00:00<00:06, 142.45it/s]\n",
      "Converged to LP: -286.1:  15%|█▌        | 150/1000 [00:00<00:04, 202.35it/s]\n",
      "LP: -327.2:   0%|          | 0/1000 [00:00<?, ?it/s]"
     ]
    },
    {
     "name": "stdout",
     "output_type": "stream",
     "text": [
      "Fitting 4 states...\n"
     ]
    },
    {
     "name": "stderr",
     "output_type": "stream",
     "text": [
      "Converged to LP: -325.3:  13%|█▎        | 126/1000 [00:00<00:05, 168.51it/s]\n",
      "Converged to LP: -317.0:  15%|█▌        | 154/1000 [00:00<00:05, 156.73it/s]\n",
      "Converged to LP: -322.3:  19%|█▊        | 187/1000 [00:01<00:05, 162.07it/s]\n",
      "Converged to LP: -312.2:  20%|██        | 205/1000 [00:01<00:04, 164.06it/s]\n",
      "Converged to LP: -314.0:  24%|██▎       | 237/1000 [00:01<00:04, 172.86it/s]\n",
      "LP: -365.8:   0%|          | 0/1000 [00:00<?, ?it/s]"
     ]
    },
    {
     "name": "stdout",
     "output_type": "stream",
     "text": [
      "Fitting 5 states...\n"
     ]
    },
    {
     "name": "stderr",
     "output_type": "stream",
     "text": [
      "Converged to LP: -346.1:   5%|▌         | 53/1000 [00:00<00:07, 122.06it/s]\n",
      "Converged to LP: -351.7:   8%|▊         | 85/1000 [00:00<00:06, 132.95it/s]\n",
      "Converged to LP: -357.9:   9%|▊         | 86/1000 [00:00<00:08, 103.16it/s]\n",
      "Converged to LP: -354.1:  25%|██▌       | 251/1000 [00:01<00:05, 145.78it/s]\n",
      "Converged to LP: -350.2:  34%|███▍      | 339/1000 [00:02<00:04, 145.85it/s]\n",
      "Converged to LP: -231.2:   1%|          | 10/1000 [00:00<00:05, 190.51it/s]\n",
      "Converged to LP: -246.6:   2%|▏         | 15/1000 [00:00<00:04, 198.50it/s]\n",
      "Converged to LP: -240.2:   2%|▏         | 16/1000 [00:00<00:05, 177.04it/s]\n",
      "LP: -232.2:   2%|▏         | 19/1000 [00:00<00:05, 185.23it/s]"
     ]
    },
    {
     "name": "stdout",
     "output_type": "stream",
     "text": [
      "Fitting session 7...\n",
      "Fitting 2 states...\n"
     ]
    },
    {
     "name": "stderr",
     "output_type": "stream",
     "text": [
      "Converged to LP: -232.2:   4%|▎         | 35/1000 [00:00<00:04, 220.70it/s]\n",
      "Converged to LP: -229.4:   6%|▋         | 63/1000 [00:00<00:04, 201.94it/s]\n",
      "LP: -286.5:   0%|          | 0/1000 [00:00<?, ?it/s]"
     ]
    },
    {
     "name": "stdout",
     "output_type": "stream",
     "text": [
      "Fitting 3 states...\n"
     ]
    },
    {
     "name": "stderr",
     "output_type": "stream",
     "text": [
      "Converged to LP: -267.2:   2%|▏         | 18/1000 [00:00<00:06, 163.18it/s]\n",
      "Converged to LP: -260.1:   2%|▏         | 24/1000 [00:00<00:06, 149.49it/s]\n",
      "Converged to LP: -277.3:   4%|▎         | 35/1000 [00:00<00:05, 163.71it/s]\n",
      "Converged to LP: -272.9:   4%|▍         | 40/1000 [00:00<00:05, 167.90it/s]\n",
      "Converged to LP: -261.7:   8%|▊         | 78/1000 [00:00<00:04, 195.81it/s]\n",
      "LP: -357.0:   0%|          | 0/1000 [00:00<?, ?it/s]"
     ]
    },
    {
     "name": "stdout",
     "output_type": "stream",
     "text": [
      "Fitting 4 states...\n"
     ]
    },
    {
     "name": "stderr",
     "output_type": "stream",
     "text": [
      "Converged to LP: -295.4:   8%|▊         | 77/1000 [00:00<00:06, 136.99it/s]\n",
      "Converged to LP: -310.2:   8%|▊         | 77/1000 [00:00<00:07, 129.36it/s]\n",
      "Converged to LP: -292.8:  14%|█▍        | 143/1000 [00:00<00:05, 146.65it/s]\n",
      "Converged to LP: -296.6:  15%|█▍        | 146/1000 [00:01<00:06, 135.26it/s]\n",
      "Converged to LP: -308.3:  20%|██        | 202/1000 [00:01<00:05, 154.13it/s]\n",
      "LP: -350.2:   0%|          | 0/1000 [00:00<?, ?it/s]08.29it/s]"
     ]
    },
    {
     "name": "stdout",
     "output_type": "stream",
     "text": [
      "Fitting 5 states...\n"
     ]
    },
    {
     "name": "stderr",
     "output_type": "stream",
     "text": [
      "Converged to LP: -350.8:   3%|▎         | 30/1000 [00:00<00:07, 122.46it/s]\n",
      "Converged to LP: -326.3:   4%|▍         | 40/1000 [00:00<00:08, 114.50it/s]\n",
      "Converged to LP: -336.6:   4%|▎         | 35/1000 [00:00<00:10, 90.49it/s]\n",
      "Converged to LP: -348.6:   5%|▌         | 53/1000 [00:00<00:07, 123.55it/s]\n",
      "Converged to LP: -330.2:   8%|▊         | 76/1000 [00:00<00:06, 132.77it/s]\n",
      "Converged to LP: -358.2:   1%|          | 11/1000 [00:00<00:06, 154.82it/s]\n",
      "Converged to LP: -360.7:   1%|▏         | 13/1000 [00:00<00:05, 173.76it/s]\n",
      "Converged to LP: -368.5:   2%|▏         | 16/1000 [00:00<00:06, 159.77it/s]\n",
      "LP: -371.2:   2%|▏         | 20/1000 [00:00<00:04, 198.63it/s]"
     ]
    },
    {
     "name": "stdout",
     "output_type": "stream",
     "text": [
      "Fitting session 8...\n",
      "Fitting 2 states...\n"
     ]
    },
    {
     "name": "stderr",
     "output_type": "stream",
     "text": [
      "Converged to LP: -356.5:   3%|▎         | 32/1000 [00:00<00:05, 172.02it/s]\n",
      "Converged to LP: -370.0:   4%|▍         | 38/1000 [00:00<00:04, 198.47it/s]\n",
      "Converged to LP: -388.5:   1%|▏         | 13/1000 [00:00<00:05, 166.13it/s]\n",
      "Converged to LP: -392.3:   1%|          | 10/1000 [00:00<00:08, 118.72it/s]\n",
      "LP: -398.9:   1%|▏         | 13/1000 [00:00<00:07, 128.55it/s]"
     ]
    },
    {
     "name": "stdout",
     "output_type": "stream",
     "text": [
      "Fitting 3 states...\n"
     ]
    },
    {
     "name": "stderr",
     "output_type": "stream",
     "text": [
      "Converged to LP: -403.6:   4%|▍         | 40/1000 [00:00<00:05, 179.64it/s]\n",
      "Converged to LP: -397.6:   6%|▋         | 63/1000 [00:00<00:05, 178.43it/s]\n",
      "Converged to LP: -387.6:  11%|█         | 109/1000 [00:00<00:05, 166.71it/s]\n",
      "LP: -448.0:   0%|          | 0/1000 [00:00<?, ?it/s]"
     ]
    },
    {
     "name": "stdout",
     "output_type": "stream",
     "text": [
      "Fitting 4 states...\n"
     ]
    },
    {
     "name": "stderr",
     "output_type": "stream",
     "text": [
      "Converged to LP: -420.8:   1%|          | 12/1000 [00:00<00:09, 107.54it/s]\n",
      "Converged to LP: -419.9:   2%|▏         | 18/1000 [00:00<00:07, 129.09it/s]\n",
      "Converged to LP: -433.4:   3%|▎         | 31/1000 [00:00<00:06, 141.37it/s]\n",
      "Converged to LP: -425.7:   3%|▎         | 30/1000 [00:00<00:07, 129.17it/s]\n",
      "Converged to LP: -432.7:   4%|▎         | 35/1000 [00:00<00:07, 136.70it/s]\n",
      "LP: -459.3:   1%|          | 10/1000 [00:00<00:10, 94.07it/s]]"
     ]
    },
    {
     "name": "stdout",
     "output_type": "stream",
     "text": [
      "Fitting 5 states...\n"
     ]
    },
    {
     "name": "stderr",
     "output_type": "stream",
     "text": [
      "Converged to LP: -459.2:   2%|▏         | 24/1000 [00:00<00:07, 129.84it/s]\n",
      "Converged to LP: -454.9:   4%|▍         | 41/1000 [00:00<00:08, 113.54it/s]\n",
      "Converged to LP: -461.7:   4%|▍         | 41/1000 [00:00<00:08, 110.99it/s]\n",
      "Converged to LP: -456.4:   8%|▊         | 76/1000 [00:00<00:06, 146.01it/s]\n",
      "Converged to LP: -470.2:   9%|▉         | 90/1000 [00:00<00:06, 144.05it/s]\n",
      "Converged to LP: -275.1:   2%|▏         | 17/1000 [00:00<00:04, 208.31it/s]\n",
      "Converged to LP: -275.1:   2%|▏         | 17/1000 [00:00<00:04, 219.08it/s]\n",
      "Converged to LP: -272.7:   2%|▏         | 18/1000 [00:00<00:04, 201.06it/s]\n",
      "Converged to LP: -288.0:   2%|▎         | 25/1000 [00:00<00:04, 199.21it/s]\n",
      "LP: -279.1:   2%|▏         | 21/1000 [00:00<00:04, 207.80it/s]"
     ]
    },
    {
     "name": "stdout",
     "output_type": "stream",
     "text": [
      "Fitting session 9...\n",
      "Fitting 2 states...\n"
     ]
    },
    {
     "name": "stderr",
     "output_type": "stream",
     "text": [
      "Converged to LP: -278.4:   6%|▌         | 58/1000 [00:00<00:04, 221.21it/s]\n",
      "LP: -309.5:   0%|          | 0/1000 [00:00<?, ?it/s]"
     ]
    },
    {
     "name": "stdout",
     "output_type": "stream",
     "text": [
      "Fitting 3 states...\n"
     ]
    },
    {
     "name": "stderr",
     "output_type": "stream",
     "text": [
      "Converged to LP: -309.4:   2%|▏         | 23/1000 [00:00<00:05, 170.43it/s]\n",
      "Converged to LP: -303.9:   2%|▎         | 25/1000 [00:00<00:07, 128.70it/s]\n",
      "Converged to LP: -304.5:   6%|▌         | 56/1000 [00:00<00:06, 149.34it/s]\n",
      "Converged to LP: -320.9:   6%|▌         | 60/1000 [00:00<00:06, 143.28it/s]\n",
      "Converged to LP: -299.1:   6%|▌         | 58/1000 [00:00<00:06, 142.70it/s]\n",
      "LP: -381.7:   0%|          | 0/1000 [00:00<?, ?it/s]"
     ]
    },
    {
     "name": "stdout",
     "output_type": "stream",
     "text": [
      "Fitting 4 states...\n"
     ]
    },
    {
     "name": "stderr",
     "output_type": "stream",
     "text": [
      "Converged to LP: -352.3:   4%|▎         | 35/1000 [00:00<00:08, 118.65it/s]\n",
      "Converged to LP: -342.8:   8%|▊         | 76/1000 [00:00<00:05, 154.51it/s]\n",
      "Converged to LP: -334.1:   8%|▊         | 79/1000 [00:00<00:07, 124.13it/s]\n",
      "Converged to LP: -326.8:  10%|█         | 101/1000 [00:00<00:06, 132.02it/s]\n",
      "Converged to LP: -337.3:  11%|█         | 108/1000 [00:00<00:06, 134.12it/s]\n",
      "LP: -420.3:   0%|          | 0/1000 [00:00<?, ?it/s]"
     ]
    },
    {
     "name": "stdout",
     "output_type": "stream",
     "text": [
      "Fitting 5 states...\n"
     ]
    },
    {
     "name": "stderr",
     "output_type": "stream",
     "text": [
      "Converged to LP: -376.8:   7%|▋         | 70/1000 [00:00<00:07, 126.54it/s]\n",
      "Converged to LP: -360.7:   7%|▋         | 69/1000 [00:00<00:08, 103.99it/s]\n",
      "Converged to LP: -376.3:  10%|█         | 101/1000 [00:00<00:07, 127.94it/s]\n",
      "Converged to LP: -373.9:  12%|█▏        | 123/1000 [00:00<00:06, 143.67it/s]\n",
      "Converged to LP: -366.9:  17%|█▋        | 166/1000 [00:01<00:06, 132.96it/s]\n",
      "Converged to LP: -301.5:   3%|▎         | 26/1000 [00:00<00:04, 211.32it/s]\n",
      "LP: -304.1:   2%|▏         | 22/1000 [00:00<00:04, 211.69it/s]"
     ]
    },
    {
     "name": "stdout",
     "output_type": "stream",
     "text": [
      "Fitting session 10...\n",
      "Fitting 2 states...\n"
     ]
    },
    {
     "name": "stderr",
     "output_type": "stream",
     "text": [
      "Converged to LP: -304.5:   4%|▍         | 41/1000 [00:00<00:05, 168.27it/s]\n",
      "Converged to LP: -303.0:   6%|▌         | 56/1000 [00:00<00:05, 171.89it/s]\n",
      "Converged to LP: -303.0:   7%|▋         | 72/1000 [00:00<00:04, 215.49it/s]\n",
      "Converged to LP: -301.0:   9%|▉         | 93/1000 [00:00<00:04, 186.94it/s]\n",
      "LP: -341.8:   0%|          | 0/1000 [00:00<?, ?it/s]"
     ]
    },
    {
     "name": "stdout",
     "output_type": "stream",
     "text": [
      "Fitting 3 states...\n"
     ]
    },
    {
     "name": "stderr",
     "output_type": "stream",
     "text": [
      "Converged to LP: -332.9:   2%|▏         | 21/1000 [00:00<00:05, 174.10it/s]\n",
      "Converged to LP: -333.4:   4%|▍         | 42/1000 [00:00<00:05, 162.88it/s]\n",
      "Converged to LP: -332.1:   6%|▌         | 61/1000 [00:00<00:05, 171.44it/s]\n",
      "Converged to LP: -330.7:   7%|▋         | 66/1000 [00:00<00:05, 176.54it/s]\n",
      "Converged to LP: -335.5:   7%|▋         | 68/1000 [00:00<00:05, 164.06it/s]\n",
      "LP: -400.4:   0%|          | 0/1000 [00:00<?, ?it/s]"
     ]
    },
    {
     "name": "stdout",
     "output_type": "stream",
     "text": [
      "Fitting 4 states...\n"
     ]
    },
    {
     "name": "stderr",
     "output_type": "stream",
     "text": [
      "Converged to LP: -366.5:   6%|▌         | 57/1000 [00:00<00:06, 137.82it/s]\n",
      "Converged to LP: -365.7:   7%|▋         | 66/1000 [00:00<00:08, 112.41it/s]\n",
      "Converged to LP: -360.9:  12%|█▏        | 119/1000 [00:00<00:07, 124.75it/s]\n",
      "Converged to LP: -363.7:  16%|█▌        | 155/1000 [00:01<00:05, 153.79it/s]\n",
      "Converged to LP: -363.9:  23%|██▎       | 230/1000 [00:01<00:04, 184.87it/s]\n",
      "LP: -413.9:   1%|          | 10/1000 [00:00<00:10, 94.86it/s]"
     ]
    },
    {
     "name": "stdout",
     "output_type": "stream",
     "text": [
      "Fitting 5 states...\n"
     ]
    },
    {
     "name": "stderr",
     "output_type": "stream",
     "text": [
      "Converged to LP: -401.4:   4%|▎         | 36/1000 [00:00<00:08, 110.99it/s]\n",
      "Converged to LP: -403.4:   5%|▌         | 54/1000 [00:00<00:08, 110.62it/s]\n",
      "Converged to LP: -397.8:   8%|▊         | 75/1000 [00:00<00:07, 125.85it/s]\n",
      "Converged to LP: -403.4:  11%|█         | 110/1000 [00:00<00:06, 137.11it/s]\n",
      "Converged to LP: -403.3:  28%|██▊       | 280/1000 [00:01<00:05, 142.31it/s]\n",
      "LP: -345.7:   0%|          | 0/1000 [00:00<?, ?it/s]"
     ]
    },
    {
     "name": "stdout",
     "output_type": "stream",
     "text": [
      "Fitting session 11...\n",
      "Fitting 2 states...\n",
      "Fitting 3 states...\n"
     ]
    },
    {
     "name": "stderr",
     "output_type": "stream",
     "text": [
      "Converged to LP: -291.5:   1%|          | 7/1000 [00:00<00:05, 192.17it/s]\n",
      "Converged to LP: -286.4:   1%|          | 8/1000 [00:00<00:05, 195.45it/s]\n",
      "Converged to LP: -303.3:   1%|          | 11/1000 [00:00<00:05, 187.05it/s]\n",
      "Converged to LP: -289.5:   2%|▏         | 18/1000 [00:00<00:05, 170.10it/s]\n",
      "Converged to LP: -298.7:   2%|▏         | 19/1000 [00:00<00:05, 168.57it/s]\n",
      "LP: -323.0:   0%|          | 0/1000 [00:00<?, ?it/s]0:00<00:06, 155.53it/s]\n",
      "Converged to LP: -323.0:   1%|          | 11/1000 [00:00<00:07, 132.42it/s]\n",
      "Converged to LP: -329.4:   1%|          | 10/1000 [00:00<00:07, 127.59it/s]\n",
      "Converged to LP: -324.0:   1%|          | 12/1000 [00:00<00:07, 134.96it/s]\n",
      "Converged to LP: -316.2:   6%|▌         | 62/1000 [00:00<00:05, 180.43it/s]\n",
      "LP: -349.3:   1%|          | 8/1000 [00:00<00:12, 78.54it/s]s]"
     ]
    },
    {
     "name": "stdout",
     "output_type": "stream",
     "text": [
      "Fitting 4 states...\n"
     ]
    },
    {
     "name": "stderr",
     "output_type": "stream",
     "text": [
      "Converged to LP: -361.5:   4%|▍         | 38/1000 [00:00<00:05, 167.14it/s]\n",
      "Converged to LP: -367.9:   4%|▍         | 41/1000 [00:00<00:06, 159.30it/s]\n",
      "Converged to LP: -355.3:   4%|▎         | 35/1000 [00:00<00:07, 132.19it/s]\n",
      "Converged to LP: -357.8:   4%|▎         | 37/1000 [00:00<00:07, 133.10it/s]\n",
      "Converged to LP: -348.6:   4%|▍         | 39/1000 [00:00<00:08, 113.38it/s]\n",
      "LP: -407.9:   1%|          | 7/1000 [00:00<00:14, 68.02it/s]"
     ]
    },
    {
     "name": "stdout",
     "output_type": "stream",
     "text": [
      "Fitting 5 states...\n"
     ]
    },
    {
     "name": "stderr",
     "output_type": "stream",
     "text": [
      "Converged to LP: -396.0:   2%|▏         | 23/1000 [00:00<00:10, 88.99it/s]\n",
      "Converged to LP: -396.2:   4%|▍         | 42/1000 [00:00<00:06, 136.86it/s]\n",
      "Converged to LP: -386.2:   5%|▌         | 52/1000 [00:00<00:07, 135.03it/s]\n",
      "Converged to LP: -389.9:   5%|▍         | 48/1000 [00:00<00:07, 119.92it/s]\n",
      "Converged to LP: -407.2:   5%|▌         | 51/1000 [00:00<00:07, 124.50it/s]\n",
      "Converged to LP: -279.7:   3%|▎         | 27/1000 [00:00<00:04, 241.94it/s]\n",
      "LP: -281.4:   2%|▏         | 18/1000 [00:00<00:05, 180.00it/s]"
     ]
    },
    {
     "name": "stdout",
     "output_type": "stream",
     "text": [
      "Fitting session 12...\n",
      "Fitting 2 states...\n"
     ]
    },
    {
     "name": "stderr",
     "output_type": "stream",
     "text": [
      "Converged to LP: -274.6:   6%|▌         | 60/1000 [00:00<00:04, 222.95it/s]\n",
      "Converged to LP: -280.3:   9%|▉         | 89/1000 [00:00<00:03, 233.63it/s]\n",
      "Converged to LP: -281.6:  15%|█▍        | 147/1000 [00:00<00:03, 220.32it/s]\n",
      "Converged to LP: -281.1:  15%|█▍        | 147/1000 [00:00<00:03, 214.85it/s]\n",
      "LP: -318.9:   0%|          | 0/1000 [00:00<?, ?it/s]"
     ]
    },
    {
     "name": "stdout",
     "output_type": "stream",
     "text": [
      "Fitting 3 states...\n"
     ]
    },
    {
     "name": "stderr",
     "output_type": "stream",
     "text": [
      "Converged to LP: -314.2:   5%|▍         | 46/1000 [00:00<00:06, 156.62it/s]\n",
      "Converged to LP: -314.6:   6%|▌         | 56/1000 [00:00<00:06, 152.15it/s]\n",
      "Converged to LP: -308.1:   9%|▉         | 91/1000 [00:00<00:04, 187.83it/s]\n",
      "Converged to LP: -311.3:   9%|▊         | 87/1000 [00:00<00:05, 167.87it/s]\n",
      "Converged to LP: -314.9:  13%|█▎        | 133/1000 [00:00<00:05, 164.61it/s]\n",
      "LP: -365.0:   0%|          | 0/1000 [00:00<?, ?it/s]"
     ]
    },
    {
     "name": "stdout",
     "output_type": "stream",
     "text": [
      "Fitting 4 states...\n"
     ]
    },
    {
     "name": "stderr",
     "output_type": "stream",
     "text": [
      "Converged to LP: -343.9:   5%|▌         | 50/1000 [00:00<00:07, 126.34it/s]\n",
      "Converged to LP: -346.3:   5%|▌         | 53/1000 [00:00<00:07, 128.80it/s]\n",
      "Converged to LP: -334.6:  15%|█▍        | 148/1000 [00:00<00:05, 150.77it/s]\n",
      "Converged to LP: -341.3:  20%|█▉        | 198/1000 [00:01<00:05, 138.09it/s]\n",
      "Converged to LP: -337.7:  28%|██▊       | 279/1000 [00:01<00:04, 156.67it/s]\n",
      "LP: -393.4:   0%|          | 0/1000 [00:00<?, ?it/s]"
     ]
    },
    {
     "name": "stdout",
     "output_type": "stream",
     "text": [
      "Fitting 5 states...\n"
     ]
    },
    {
     "name": "stderr",
     "output_type": "stream",
     "text": [
      "Converged to LP: -376.2:   5%|▍         | 49/1000 [00:00<00:07, 123.96it/s]\n",
      "Converged to LP: -387.4:   5%|▌         | 52/1000 [00:00<00:07, 123.30it/s]\n",
      "Converged to LP: -381.0:   7%|▋         | 70/1000 [00:00<00:06, 133.70it/s]\n",
      "Converged to LP: -379.1:   6%|▌         | 56/1000 [00:00<00:09, 94.49it/s]\n",
      "Converged to LP: -373.9:  10%|█         | 101/1000 [00:00<00:06, 132.48it/s]\n",
      "Converged to LP: -240.2:   1%|          | 11/1000 [00:00<00:04, 226.17it/s]\n",
      "LP: -256.1:   0%|          | 0/1000 [00:00<?, ?it/s]"
     ]
    },
    {
     "name": "stdout",
     "output_type": "stream",
     "text": [
      "Fitting session 13...\n",
      "Fitting 2 states...\n"
     ]
    },
    {
     "name": "stderr",
     "output_type": "stream",
     "text": [
      "Converged to LP: -251.0:   5%|▍         | 47/1000 [00:00<00:04, 196.73it/s]\n",
      "Converged to LP: -238.7:  10%|█         | 102/1000 [00:00<00:04, 205.85it/s]\n",
      "Converged to LP: -251.1:  13%|█▎        | 134/1000 [00:00<00:03, 252.46it/s]\n",
      "Converged to LP: -244.7:  16%|█▌        | 161/1000 [00:00<00:03, 265.21it/s]\n",
      "LP: -277.7:   0%|          | 0/1000 [00:00<?, ?it/s]"
     ]
    },
    {
     "name": "stdout",
     "output_type": "stream",
     "text": [
      "Fitting 3 states...\n"
     ]
    },
    {
     "name": "stderr",
     "output_type": "stream",
     "text": [
      "Converged to LP: -274.4:   4%|▍         | 42/1000 [00:00<00:05, 168.14it/s]\n",
      "Converged to LP: -282.0:   7%|▋         | 66/1000 [00:00<00:05, 169.99it/s]\n",
      "Converged to LP: -267.5:   7%|▋         | 73/1000 [00:00<00:05, 162.98it/s]\n",
      "Converged to LP: -281.4:  12%|█▏        | 115/1000 [00:00<00:04, 196.18it/s]\n",
      "Converged to LP: -286.6:  11%|█         | 106/1000 [00:00<00:05, 151.56it/s]\n",
      "LP: -311.4:   1%|          | 12/1000 [00:00<00:08, 112.87it/s]"
     ]
    },
    {
     "name": "stdout",
     "output_type": "stream",
     "text": [
      "Fitting 4 states...\n"
     ]
    },
    {
     "name": "stderr",
     "output_type": "stream",
     "text": [
      "Converged to LP: -321.5:   6%|▌         | 57/1000 [00:00<00:07, 125.94it/s]\n",
      "Converged to LP: -308.1:  11%|█         | 108/1000 [00:00<00:05, 154.54it/s]\n",
      "Converged to LP: -320.6:   9%|▉         | 94/1000 [00:00<00:07, 126.05it/s]\n",
      "Converged to LP: -322.0:  13%|█▎        | 130/1000 [00:00<00:05, 149.70it/s]\n",
      "Converged to LP: -305.4:  22%|██▏       | 219/1000 [00:01<00:04, 165.65it/s]\n",
      "LP: -377.8:   0%|          | 0/1000 [00:00<?, ?it/s]"
     ]
    },
    {
     "name": "stdout",
     "output_type": "stream",
     "text": [
      "Fitting 5 states...\n"
     ]
    },
    {
     "name": "stderr",
     "output_type": "stream",
     "text": [
      "Converged to LP: -361.5:   6%|▌         | 55/1000 [00:00<00:09, 94.55it/s] \n",
      "Converged to LP: -344.1:   7%|▋         | 72/1000 [00:00<00:08, 114.74it/s]\n",
      "Converged to LP: -353.9:  13%|█▎        | 126/1000 [00:00<00:06, 137.51it/s]\n",
      "Converged to LP: -344.6:  14%|█▎        | 137/1000 [00:01<00:06, 134.53it/s]\n",
      "Converged to LP: -344.7:  13%|█▎        | 127/1000 [00:01<00:07, 119.02it/s]\n",
      "Converged to LP: -277.4:   1%|          | 10/1000 [00:00<00:05, 184.31it/s]\n",
      "Converged to LP: -266.5:   2%|▏         | 22/1000 [00:00<00:04, 210.23it/s]\n",
      "LP: -273.8:   2%|▏         | 15/1000 [00:00<00:06, 149.04it/s]"
     ]
    },
    {
     "name": "stdout",
     "output_type": "stream",
     "text": [
      "Fitting session 14...\n",
      "Fitting 2 states...\n"
     ]
    },
    {
     "name": "stderr",
     "output_type": "stream",
     "text": [
      "Converged to LP: -279.3:   3%|▎         | 26/1000 [00:00<00:05, 172.05it/s]\n",
      "Converged to LP: -273.8:   3%|▎         | 27/1000 [00:00<00:06, 159.51it/s]\n",
      "Converged to LP: -261.3:   5%|▍         | 46/1000 [00:00<00:04, 194.96it/s]\n",
      "LP: -298.4:   0%|          | 0/1000 [00:00<?, ?it/s]38.65it/s]"
     ]
    },
    {
     "name": "stdout",
     "output_type": "stream",
     "text": [
      "Fitting 3 states...\n"
     ]
    },
    {
     "name": "stderr",
     "output_type": "stream",
     "text": [
      "Converged to LP: -298.4:   2%|▏         | 23/1000 [00:00<00:05, 173.76it/s]\n",
      "Converged to LP: -301.4:   2%|▎         | 25/1000 [00:00<00:06, 143.32it/s]\n",
      "Converged to LP: -312.8:   4%|▍         | 38/1000 [00:00<00:05, 180.61it/s]\n",
      "Converged to LP: -301.9:   9%|▉         | 92/1000 [00:00<00:04, 191.59it/s]\n",
      "Converged to LP: -292.3:  16%|█▌        | 162/1000 [00:00<00:04, 193.86it/s]\n",
      "LP: -349.6:   0%|          | 0/1000 [00:00<?, ?it/s]"
     ]
    },
    {
     "name": "stdout",
     "output_type": "stream",
     "text": [
      "Fitting 4 states...\n"
     ]
    },
    {
     "name": "stderr",
     "output_type": "stream",
     "text": [
      "Converged to LP: -333.4:   6%|▌         | 55/1000 [00:00<00:06, 141.72it/s]\n",
      "Converged to LP: -345.0:   7%|▋         | 74/1000 [00:00<00:06, 138.57it/s]\n",
      "Converged to LP: -336.4:   9%|▉         | 90/1000 [00:00<00:05, 158.59it/s]\n",
      "Converged to LP: -330.3:  17%|█▋        | 168/1000 [00:01<00:04, 167.10it/s]\n",
      "Converged to LP: -329.2:  24%|██▎       | 236/1000 [00:01<00:04, 169.73it/s]\n",
      "LP: -377.8:   0%|          | 0/1000 [00:00<?, ?it/s]"
     ]
    },
    {
     "name": "stdout",
     "output_type": "stream",
     "text": [
      "Fitting 5 states...\n"
     ]
    },
    {
     "name": "stderr",
     "output_type": "stream",
     "text": [
      "Converged to LP: -369.0:   5%|▍         | 48/1000 [00:00<00:07, 122.17it/s]\n",
      "Converged to LP: -367.0:   4%|▍         | 43/1000 [00:00<00:09, 104.99it/s]\n",
      "Converged to LP: -372.2:  13%|█▎        | 129/1000 [00:01<00:06, 127.80it/s]\n",
      "Converged to LP: -377.2:  18%|█▊        | 178/1000 [00:01<00:06, 135.51it/s]\n",
      "Converged to LP: -368.3:  23%|██▎       | 228/1000 [00:01<00:05, 132.96it/s]\n",
      "Converged to LP: -233.1:   2%|▏         | 16/1000 [00:00<00:05, 174.71it/s]\n",
      "LP: -235.5:   2%|▏         | 23/1000 [00:00<00:04, 224.79it/s]"
     ]
    },
    {
     "name": "stdout",
     "output_type": "stream",
     "text": [
      "Fitting session 15...\n",
      "Fitting 2 states...\n"
     ]
    },
    {
     "name": "stderr",
     "output_type": "stream",
     "text": [
      "Converged to LP: -234.2:   4%|▎         | 36/1000 [00:00<00:04, 227.33it/s]\n",
      "Converged to LP: -245.5:  16%|█▌        | 155/1000 [00:00<00:03, 254.90it/s]\n",
      "Converged to LP: -235.1:  18%|█▊        | 178/1000 [00:00<00:02, 292.11it/s]\n",
      "Converged to LP: -240.6:  15%|█▌        | 152/1000 [00:00<00:03, 243.27it/s]\n",
      "LP: -278.2:   1%|▏         | 14/1000 [00:00<00:07, 134.21it/s]"
     ]
    },
    {
     "name": "stdout",
     "output_type": "stream",
     "text": [
      "Fitting 3 states...\n"
     ]
    },
    {
     "name": "stderr",
     "output_type": "stream",
     "text": [
      "Converged to LP: -269.4:   3%|▎         | 34/1000 [00:00<00:06, 158.88it/s]\n",
      "Converged to LP: -265.5:   5%|▍         | 48/1000 [00:00<00:05, 164.04it/s]\n",
      "Converged to LP: -268.9:   8%|▊         | 83/1000 [00:00<00:04, 191.04it/s]\n",
      "Converged to LP: -276.4:  14%|█▍        | 141/1000 [00:00<00:04, 193.37it/s]\n",
      "Converged to LP: -275.7:  35%|███▌      | 354/1000 [00:01<00:02, 221.50it/s]\n",
      "LP: -308.1:   1%|          | 11/1000 [00:00<00:09, 103.92it/s]"
     ]
    },
    {
     "name": "stdout",
     "output_type": "stream",
     "text": [
      "Fitting 4 states...\n"
     ]
    },
    {
     "name": "stderr",
     "output_type": "stream",
     "text": [
      "Converged to LP: -308.3:   5%|▌         | 51/1000 [00:00<00:06, 136.61it/s]\n",
      "Converged to LP: -313.7:   9%|▉         | 91/1000 [00:00<00:05, 153.91it/s]\n",
      "Converged to LP: -300.7:   9%|▉         | 92/1000 [00:00<00:05, 155.28it/s]\n",
      "Converged to LP: -310.6:  10%|█         | 103/1000 [00:00<00:06, 148.44it/s]\n",
      "Converged to LP: -300.2:  13%|█▎        | 127/1000 [00:00<00:05, 147.52it/s]\n",
      "LP: -344.0:   0%|          | 0/1000 [00:00<?, ?it/s]"
     ]
    },
    {
     "name": "stdout",
     "output_type": "stream",
     "text": [
      "Fitting 5 states...\n"
     ]
    },
    {
     "name": "stderr",
     "output_type": "stream",
     "text": [
      "Converged to LP: -344.7:   3%|▎         | 29/1000 [00:00<00:10, 92.11it/s]\n",
      "Converged to LP: -340.7:   6%|▌         | 56/1000 [00:00<00:07, 134.53it/s]\n",
      "Converged to LP: -348.1:   5%|▌         | 54/1000 [00:00<00:07, 124.29it/s]\n",
      "Converged to LP: -343.4:  13%|█▎        | 134/1000 [00:00<00:06, 135.06it/s]\n",
      "Converged to LP: -341.8:  14%|█▎        | 137/1000 [00:00<00:06, 139.31it/s]\n",
      "Converged to LP: -351.2:   1%|          | 8/1000 [00:00<00:04, 214.91it/s]\n",
      "Converged to LP: -340.6:   1%|          | 12/1000 [00:00<00:04, 226.67it/s]\n",
      "Converged to LP: -341.2:   1%|          | 8/1000 [00:00<00:06, 164.24it/s]\n",
      "Converged to LP: -345.5:   1%|▏         | 13/1000 [00:00<00:05, 182.91it/s]\n",
      "Converged to LP: -349.7:   1%|▏         | 13/1000 [00:00<00:04, 208.11it/s]\n",
      "LP: -394.0:   0%|          | 0/1000 [00:00<?, ?it/s]"
     ]
    },
    {
     "name": "stdout",
     "output_type": "stream",
     "text": [
      "Fitting session 16...\n",
      "Fitting 2 states...\n",
      "Fitting 3 states...\n"
     ]
    },
    {
     "name": "stderr",
     "output_type": "stream",
     "text": [
      "Converged to LP: -379.8:   1%|          | 11/1000 [00:00<00:07, 127.91it/s]\n",
      "Converged to LP: -385.9:   2%|▏         | 20/1000 [00:00<00:05, 177.84it/s]\n",
      "Converged to LP: -376.5:   3%|▎         | 27/1000 [00:00<00:06, 154.13it/s]\n",
      "Converged to LP: -386.4:   2%|▏         | 23/1000 [00:00<00:07, 130.50it/s]\n",
      "Converged to LP: -372.2:   7%|▋         | 67/1000 [00:00<00:06, 152.53it/s]\n",
      "LP: -421.6:   1%|          | 9/1000 [00:00<00:11, 86.13it/s]s]"
     ]
    },
    {
     "name": "stdout",
     "output_type": "stream",
     "text": [
      "Fitting 4 states...\n"
     ]
    },
    {
     "name": "stderr",
     "output_type": "stream",
     "text": [
      "Converged to LP: -410.6:   6%|▌         | 59/1000 [00:00<00:08, 109.81it/s]\n",
      "Converged to LP: -416.7:   6%|▌         | 57/1000 [00:00<00:08, 106.78it/s]\n",
      "Converged to LP: -415.6:   6%|▋         | 65/1000 [00:00<00:08, 106.24it/s]\n",
      "Converged to LP: -410.0:  14%|█▍        | 144/1000 [00:01<00:06, 139.57it/s]\n",
      "Converged to LP: -405.9:  15%|█▌        | 152/1000 [00:01<00:06, 136.14it/s]\n",
      "LP: -473.4:   0%|          | 0/1000 [00:00<?, ?it/s]"
     ]
    },
    {
     "name": "stdout",
     "output_type": "stream",
     "text": [
      "Fitting 5 states...\n"
     ]
    },
    {
     "name": "stderr",
     "output_type": "stream",
     "text": [
      "Converged to LP: -453.7:   6%|▌         | 56/1000 [00:00<00:08, 117.39it/s]\n",
      "Converged to LP: -453.8:   5%|▌         | 53/1000 [00:00<00:08, 110.34it/s]\n",
      "Converged to LP: -445.2:   6%|▌         | 55/1000 [00:00<00:10, 86.26it/s]\n",
      "Converged to LP: -442.9:  12%|█▏        | 115/1000 [00:01<00:07, 114.83it/s]\n",
      "Converged to LP: -435.4:  16%|█▌        | 162/1000 [00:01<00:06, 131.78it/s]\n",
      "Converged to LP: -303.8:   1%|          | 11/1000 [00:00<00:04, 224.88it/s]\n",
      "Converged to LP: -307.2:   1%|          | 12/1000 [00:00<00:04, 217.44it/s]\n",
      "Converged to LP: -292.4:   1%|          | 12/1000 [00:00<00:05, 173.76it/s]\n",
      "Converged to LP: -286.8:   2%|▏         | 23/1000 [00:00<00:04, 201.40it/s]\n",
      "LP: -303.1:   2%|▏         | 18/1000 [00:00<00:05, 175.04it/s]"
     ]
    },
    {
     "name": "stdout",
     "output_type": "stream",
     "text": [
      "Fitting session 17...\n",
      "Fitting 2 states...\n"
     ]
    },
    {
     "name": "stderr",
     "output_type": "stream",
     "text": [
      "Converged to LP: -302.3:   6%|▌         | 57/1000 [00:00<00:04, 205.42it/s]\n",
      "LP: -341.7:   0%|          | 0/1000 [00:00<?, ?it/s]"
     ]
    },
    {
     "name": "stdout",
     "output_type": "stream",
     "text": [
      "Fitting 3 states...\n"
     ]
    },
    {
     "name": "stderr",
     "output_type": "stream",
     "text": [
      "Converged to LP: -316.9:   2%|▏         | 23/1000 [00:00<00:08, 121.49it/s]\n",
      "Converged to LP: -335.4:   4%|▍         | 41/1000 [00:00<00:05, 182.56it/s]\n",
      "Converged to LP: -332.9:   7%|▋         | 66/1000 [00:00<00:05, 171.04it/s]\n",
      "Converged to LP: -334.7:   8%|▊         | 76/1000 [00:00<00:05, 171.24it/s]\n",
      "Converged to LP: -326.0:   7%|▋         | 72/1000 [00:00<00:07, 131.63it/s]\n",
      "LP: -375.4:   1%|          | 11/1000 [00:00<00:09, 104.69it/s]"
     ]
    },
    {
     "name": "stdout",
     "output_type": "stream",
     "text": [
      "Fitting 4 states...\n"
     ]
    },
    {
     "name": "stderr",
     "output_type": "stream",
     "text": [
      "Converged to LP: -371.2:   7%|▋         | 66/1000 [00:00<00:06, 143.20it/s]\n",
      "Converged to LP: -367.1:   6%|▌         | 61/1000 [00:00<00:07, 132.20it/s]\n",
      "Converged to LP: -352.3:   9%|▉         | 93/1000 [00:00<00:05, 161.29it/s]\n",
      "Converged to LP: -358.3:   8%|▊         | 75/1000 [00:00<00:07, 127.36it/s]\n",
      "Converged to LP: -370.3:  13%|█▎        | 126/1000 [00:00<00:05, 154.79it/s]\n",
      "LP: -406.9:   0%|          | 0/1000 [00:00<?, ?it/s]"
     ]
    },
    {
     "name": "stdout",
     "output_type": "stream",
     "text": [
      "Fitting 5 states...\n"
     ]
    },
    {
     "name": "stderr",
     "output_type": "stream",
     "text": [
      "Converged to LP: -383.4:   4%|▍         | 38/1000 [00:00<00:11, 85.09it/s]\n",
      "Converged to LP: -398.2:   5%|▌         | 53/1000 [00:00<00:10, 93.35it/s] \n",
      "Converged to LP: -407.9:   7%|▋         | 66/1000 [00:00<00:08, 114.78it/s]\n",
      "Converged to LP: -401.0:  10%|▉         | 97/1000 [00:00<00:07, 127.58it/s]\n",
      "Converged to LP: -392.9:  34%|███▍      | 343/1000 [00:02<00:04, 135.49it/s]\n",
      "Converged to LP: -322.5:   1%|          | 6/1000 [00:00<00:04, 207.54it/s]\n",
      "Converged to LP: -325.9:   1%|          | 6/1000 [00:00<00:04, 210.97it/s]\n",
      "Converged to LP: -323.8:   1%|          | 7/1000 [00:00<00:05, 192.53it/s]\n",
      "Converged to LP: -316.9:   1%|          | 6/1000 [00:00<00:05, 178.33it/s]\n",
      "Converged to LP: -321.5:   1%|          | 9/1000 [00:00<00:05, 193.50it/s]\n",
      "Converged to LP: -360.0:   1%|          | 11/1000 [00:00<00:06, 141.81it/s]\n",
      "Converged to LP: -355.0:   2%|▏         | 15/1000 [00:00<00:06, 157.70it/s]\n",
      "LP: -353.0:   2%|▏         | 17/1000 [00:00<00:05, 166.43it/s]"
     ]
    },
    {
     "name": "stdout",
     "output_type": "stream",
     "text": [
      "Fitting session 18...\n",
      "Fitting 2 states...\n",
      "Fitting 3 states...\n"
     ]
    },
    {
     "name": "stderr",
     "output_type": "stream",
     "text": [
      "Converged to LP: -357.5:   2%|▏         | 21/1000 [00:00<00:05, 169.62it/s]\n",
      "Converged to LP: -346.2:   3%|▎         | 26/1000 [00:00<00:06, 157.32it/s]\n",
      "Converged to LP: -347.1:   5%|▌         | 50/1000 [00:00<00:06, 154.17it/s]\n",
      "LP: -388.6:   1%|          | 12/1000 [00:00<00:08, 112.79it/s]"
     ]
    },
    {
     "name": "stdout",
     "output_type": "stream",
     "text": [
      "Fitting 4 states...\n"
     ]
    },
    {
     "name": "stderr",
     "output_type": "stream",
     "text": [
      "Converged to LP: -385.2:   6%|▌         | 57/1000 [00:00<00:06, 141.42it/s]\n",
      "Converged to LP: -380.3:   5%|▌         | 51/1000 [00:00<00:09, 102.36it/s]\n",
      "Converged to LP: -392.7:   7%|▋         | 73/1000 [00:00<00:07, 130.39it/s]\n",
      "Converged to LP: -395.4:   8%|▊         | 81/1000 [00:00<00:07, 128.70it/s]\n",
      "Converged to LP: -388.7:  12%|█▏        | 119/1000 [00:00<00:05, 162.35it/s]\n",
      "LP: -445.2:   0%|          | 0/1000 [00:00<?, ?it/s]"
     ]
    },
    {
     "name": "stdout",
     "output_type": "stream",
     "text": [
      "Fitting 5 states...\n"
     ]
    },
    {
     "name": "stderr",
     "output_type": "stream",
     "text": [
      "Converged to LP: -412.2:   5%|▌         | 54/1000 [00:00<00:07, 119.37it/s]\n",
      "Converged to LP: -402.3:   8%|▊         | 84/1000 [00:00<00:07, 122.28it/s]\n",
      "Converged to LP: -421.5:  11%|█▏        | 113/1000 [00:00<00:06, 137.64it/s]\n",
      "Converged to LP: -420.1:  12%|█▏        | 119/1000 [00:00<00:06, 129.37it/s]\n",
      "Converged to LP: -426.7:  17%|█▋        | 168/1000 [00:01<00:06, 134.41it/s]\n",
      "Converged to LP: -263.1:   1%|▏         | 14/1000 [00:00<00:04, 206.88it/s]\n",
      "Converged to LP: -252.1:   1%|          | 12/1000 [00:00<00:04, 205.72it/s]\n",
      "Converged to LP: -238.5:   1%|▏         | 14/1000 [00:00<00:04, 204.55it/s]\n",
      "Converged to LP: -243.1:   2%|▏         | 17/1000 [00:00<00:05, 172.74it/s]\n",
      "LP: -244.3:   2%|▏         | 15/1000 [00:00<00:06, 143.18it/s]"
     ]
    },
    {
     "name": "stdout",
     "output_type": "stream",
     "text": [
      "Fitting session 19...\n",
      "Fitting 2 states...\n"
     ]
    },
    {
     "name": "stderr",
     "output_type": "stream",
     "text": [
      "Converged to LP: -243.6:   4%|▍         | 41/1000 [00:00<00:06, 159.57it/s]\n",
      "Converged to LP: -275.9:   1%|▏         | 14/1000 [00:00<00:06, 164.32it/s]\n",
      "Converged to LP: -287.4:   1%|▏         | 14/1000 [00:00<00:07, 138.91it/s]\n",
      "Converged to LP: -277.5:   2%|▏         | 15/1000 [00:00<00:06, 144.76it/s]\n",
      "LP: -278.0:   1%|▏         | 14/1000 [00:00<00:07, 136.69it/s]"
     ]
    },
    {
     "name": "stdout",
     "output_type": "stream",
     "text": [
      "Fitting 3 states...\n"
     ]
    },
    {
     "name": "stderr",
     "output_type": "stream",
     "text": [
      "Converged to LP: -277.8:   2%|▏         | 19/1000 [00:00<00:06, 140.87it/s]\n",
      "Converged to LP: -282.4:   6%|▋         | 64/1000 [00:00<00:05, 185.32it/s]\n",
      "LP: -316.6:   1%|          | 9/1000 [00:00<00:12, 82.22it/s]]]"
     ]
    },
    {
     "name": "stdout",
     "output_type": "stream",
     "text": [
      "Fitting 4 states...\n"
     ]
    },
    {
     "name": "stderr",
     "output_type": "stream",
     "text": [
      "Converged to LP: -309.1:   3%|▎         | 29/1000 [00:00<00:07, 128.31it/s]\n",
      "Converged to LP: -310.3:   4%|▎         | 37/1000 [00:00<00:09, 105.24it/s]\n",
      "Converged to LP: -313.7:   6%|▌         | 61/1000 [00:00<00:06, 136.81it/s]\n",
      "Converged to LP: -319.0:  11%|█▏        | 113/1000 [00:00<00:05, 174.47it/s]\n",
      "Converged to LP: -316.7:  24%|██▎       | 235/1000 [00:01<00:04, 173.71it/s]\n",
      "LP: -347.1:   1%|          | 9/1000 [00:00<00:11, 87.25it/s]]"
     ]
    },
    {
     "name": "stdout",
     "output_type": "stream",
     "text": [
      "Fitting 5 states...\n"
     ]
    },
    {
     "name": "stderr",
     "output_type": "stream",
     "text": [
      "Converged to LP: -357.3:   2%|▏         | 21/1000 [00:00<00:08, 113.62it/s]\n",
      "Converged to LP: -339.2:   3%|▎         | 32/1000 [00:00<00:09, 97.24it/s] \n",
      "Converged to LP: -355.1:   8%|▊         | 77/1000 [00:00<00:08, 110.97it/s]\n",
      "Converged to LP: -347.6:  18%|█▊        | 178/1000 [00:01<00:05, 144.39it/s]\n",
      "Converged to LP: -342.2:  22%|██▏       | 216/1000 [00:01<00:04, 156.83it/s]\n"
     ]
    },
    {
     "name": "stdout",
     "output_type": "stream",
     "text": [
      "Fitting session 20...\n",
      "Fitting 2 states...\n"
     ]
    },
    {
     "name": "stderr",
     "output_type": "stream",
     "text": [
      "Converged to LP: -294.6:   1%|          | 12/1000 [00:00<00:05, 185.53it/s]\n",
      "Converged to LP: -292.3:   2%|▏         | 17/1000 [00:00<00:05, 181.76it/s]\n",
      "Converged to LP: -308.2:   2%|▏         | 21/1000 [00:00<00:05, 184.71it/s]\n",
      "Converged to LP: -300.5:   2%|▏         | 23/1000 [00:00<00:05, 190.22it/s]\n",
      "Converged to LP: -284.5:   4%|▍         | 45/1000 [00:00<00:03, 240.47it/s]\n"
     ]
    },
    {
     "name": "stdout",
     "output_type": "stream",
     "text": [
      "Fitting 3 states...\n"
     ]
    },
    {
     "name": "stderr",
     "output_type": "stream",
     "text": [
      "Converged to LP: -340.5:   2%|▏         | 19/1000 [00:00<00:06, 150.35it/s]\n",
      "Converged to LP: -324.5:   2%|▏         | 22/1000 [00:00<00:08, 118.61it/s]\n",
      "Converged to LP: -335.6:   3%|▎         | 32/1000 [00:00<00:05, 164.42it/s]\n",
      "Converged to LP: -321.8:   5%|▌         | 53/1000 [00:00<00:05, 170.79it/s]\n",
      "Converged to LP: -324.0:  15%|█▍        | 147/1000 [00:00<00:04, 192.50it/s]\n",
      "LP: -377.2:   0%|          | 0/1000 [00:00<?, ?it/s]"
     ]
    },
    {
     "name": "stdout",
     "output_type": "stream",
     "text": [
      "Fitting 4 states...\n"
     ]
    },
    {
     "name": "stderr",
     "output_type": "stream",
     "text": [
      "Converged to LP: -358.9:   7%|▋         | 73/1000 [00:00<00:07, 117.12it/s]\n",
      "Converged to LP: -357.1:  11%|█         | 110/1000 [00:00<00:06, 130.76it/s]\n",
      "Converged to LP: -371.5:  20%|██        | 200/1000 [00:01<00:05, 153.15it/s]\n",
      "Converged to LP: -357.0:  24%|██▎       | 235/1000 [00:01<00:04, 178.87it/s]\n",
      "Converged to LP: -365.0:  39%|███▉      | 390/1000 [00:02<00:03, 167.50it/s]\n",
      "LP: -419.3:   1%|          | 9/1000 [00:00<00:11, 88.27it/s]]]"
     ]
    },
    {
     "name": "stdout",
     "output_type": "stream",
     "text": [
      "Fitting 5 states...\n"
     ]
    },
    {
     "name": "stderr",
     "output_type": "stream",
     "text": [
      "Converged to LP: -405.8:   7%|▋         | 70/1000 [00:00<00:07, 126.06it/s]\n",
      "Converged to LP: -389.9:  10%|▉         | 98/1000 [00:00<00:06, 136.92it/s]\n",
      "Converged to LP: -405.3:  10%|▉         | 96/1000 [00:00<00:07, 125.31it/s]\n",
      "Converged to LP: -392.8:  20%|██        | 203/1000 [00:01<00:05, 153.85it/s]\n",
      "Converged to LP: -411.6:  21%|██        | 209/1000 [00:01<00:05, 144.65it/s]\n",
      "LP: -337.9:   0%|          | 0/1000 [00:00<?, ?it/s]"
     ]
    },
    {
     "name": "stdout",
     "output_type": "stream",
     "text": [
      "Fitting session 21...\n",
      "Fitting 2 states...\n"
     ]
    },
    {
     "name": "stderr",
     "output_type": "stream",
     "text": [
      "Converged to LP: -329.9:   1%|          | 10/1000 [00:00<00:06, 152.05it/s]\n",
      "Converged to LP: -325.4:   4%|▎         | 35/1000 [00:00<00:04, 226.30it/s]\n",
      "Converged to LP: -322.4:   4%|▍         | 41/1000 [00:00<00:04, 202.91it/s]\n",
      "Converged to LP: -332.9:  17%|█▋        | 168/1000 [00:00<00:03, 228.48it/s]\n",
      "Converged to LP: -315.3:  19%|█▉        | 194/1000 [00:00<00:03, 225.36it/s]\n"
     ]
    },
    {
     "name": "stdout",
     "output_type": "stream",
     "text": [
      "Fitting 3 states...\n"
     ]
    },
    {
     "name": "stderr",
     "output_type": "stream",
     "text": [
      "Converged to LP: -355.7:   2%|▏         | 23/1000 [00:00<00:06, 156.39it/s]\n",
      "Converged to LP: -363.8:   2%|▎         | 25/1000 [00:00<00:06, 161.40it/s]\n",
      "Converged to LP: -349.5:   8%|▊         | 75/1000 [00:00<00:05, 163.20it/s]\n",
      "Converged to LP: -369.9:  10%|█         | 102/1000 [00:00<00:05, 173.77it/s]\n",
      "Converged to LP: -356.6:  13%|█▎        | 127/1000 [00:00<00:04, 188.27it/s]\n",
      "LP: -406.0:   1%|▏         | 14/1000 [00:00<00:07, 135.45it/s]"
     ]
    },
    {
     "name": "stdout",
     "output_type": "stream",
     "text": [
      "Fitting 4 states...\n"
     ]
    },
    {
     "name": "stderr",
     "output_type": "stream",
     "text": [
      "Converged to LP: -383.0:   4%|▍         | 39/1000 [00:00<00:07, 133.98it/s]\n",
      "Converged to LP: -404.8:   8%|▊         | 75/1000 [00:00<00:05, 154.43it/s]\n",
      "Converged to LP: -389.6:  10%|█         | 100/1000 [00:00<00:05, 166.80it/s]\n",
      "Converged to LP: -397.0:  10%|█         | 105/1000 [00:00<00:05, 163.55it/s]\n",
      "Converged to LP: -391.7:  20%|█▉        | 198/1000 [00:01<00:05, 145.85it/s]\n",
      "LP: -441.3:   1%|          | 7/1000 [00:00<00:14, 67.97it/s]]"
     ]
    },
    {
     "name": "stdout",
     "output_type": "stream",
     "text": [
      "Fitting 5 states...\n"
     ]
    },
    {
     "name": "stderr",
     "output_type": "stream",
     "text": [
      "Converged to LP: -418.4:   3%|▎         | 29/1000 [00:00<00:08, 114.99it/s]\n",
      "Converged to LP: -426.8:   6%|▋         | 63/1000 [00:00<00:07, 124.85it/s]\n",
      "Converged to LP: -439.3:  11%|█▏        | 114/1000 [00:00<00:06, 133.62it/s]\n",
      "Converged to LP: -432.7:  12%|█▏        | 120/1000 [00:00<00:06, 126.96it/s]\n",
      "Converged to LP: -421.5:  18%|█▊        | 179/1000 [00:01<00:05, 140.97it/s]\n",
      "Converged to LP: -337.7:   1%|▏         | 14/1000 [00:00<00:04, 212.95it/s]\n",
      "Converged to LP: -327.3:   2%|▏         | 15/1000 [00:00<00:05, 193.33it/s]\n",
      "LP: -327.7:   0%|          | 0/1000 [00:00<?, ?it/s]"
     ]
    },
    {
     "name": "stdout",
     "output_type": "stream",
     "text": [
      "Fitting session 22...\n",
      "Fitting 2 states...\n"
     ]
    },
    {
     "name": "stderr",
     "output_type": "stream",
     "text": [
      "Converged to LP: -330.2:   2%|▏         | 20/1000 [00:00<00:04, 204.02it/s]\n",
      "Converged to LP: -339.8:   6%|▌         | 62/1000 [00:00<00:03, 237.02it/s]\n",
      "Converged to LP: -326.2:  14%|█▍        | 143/1000 [00:00<00:03, 227.56it/s]\n",
      "LP: -365.7:   0%|          | 0/1000 [00:00<?, ?it/s]"
     ]
    },
    {
     "name": "stdout",
     "output_type": "stream",
     "text": [
      "Fitting 3 states...\n"
     ]
    },
    {
     "name": "stderr",
     "output_type": "stream",
     "text": [
      "Converged to LP: -363.7:   1%|▏         | 14/1000 [00:00<00:06, 146.92it/s]\n",
      "Converged to LP: -377.9:   2%|▏         | 16/1000 [00:00<00:06, 159.69it/s]\n",
      "Converged to LP: -365.2:   2%|▎         | 25/1000 [00:00<00:06, 156.92it/s]\n",
      "Converged to LP: -363.1:   5%|▍         | 49/1000 [00:00<00:05, 177.14it/s]\n",
      "Converged to LP: -356.6:  21%|██▏       | 214/1000 [00:01<00:04, 170.68it/s]\n",
      "LP: -431.6:   0%|          | 0/1000 [00:00<?, ?it/s]"
     ]
    },
    {
     "name": "stdout",
     "output_type": "stream",
     "text": [
      "Fitting 4 states...\n"
     ]
    },
    {
     "name": "stderr",
     "output_type": "stream",
     "text": [
      "Converged to LP: -399.6:   2%|▎         | 25/1000 [00:00<00:08, 120.30it/s]\n",
      "Converged to LP: -395.1:   2%|▏         | 22/1000 [00:00<00:11, 84.91it/s]\n",
      "Converged to LP: -394.9:   4%|▎         | 36/1000 [00:00<00:07, 134.86it/s]\n",
      "Converged to LP: -408.5:   5%|▌         | 53/1000 [00:00<00:07, 129.92it/s]\n",
      "Converged to LP: -393.6:   9%|▉         | 94/1000 [00:00<00:06, 137.37it/s]\n",
      "LP: -445.7:   1%|          | 10/1000 [00:00<00:10, 96.91it/s]]"
     ]
    },
    {
     "name": "stdout",
     "output_type": "stream",
     "text": [
      "Fitting 5 states...\n"
     ]
    },
    {
     "name": "stderr",
     "output_type": "stream",
     "text": [
      "Converged to LP: -434.9:   2%|▏         | 21/1000 [00:00<00:08, 110.66it/s]\n",
      "Converged to LP: -428.5:   3%|▎         | 31/1000 [00:00<00:09, 104.11it/s]\n",
      "Converged to LP: -438.0:   6%|▌         | 61/1000 [00:00<00:07, 129.65it/s]\n",
      "Converged to LP: -432.4:  10%|▉         | 95/1000 [00:00<00:06, 140.02it/s]\n",
      "Converged to LP: -429.8:   9%|▉         | 94/1000 [00:00<00:07, 117.15it/s]\n",
      "Converged to LP: -332.8:   2%|▏         | 21/1000 [00:00<00:04, 241.82it/s]\n",
      "LP: -326.8:   2%|▏         | 19/1000 [00:00<00:05, 189.02it/s]"
     ]
    },
    {
     "name": "stdout",
     "output_type": "stream",
     "text": [
      "Fitting session 23...\n",
      "Fitting 2 states...\n"
     ]
    },
    {
     "name": "stderr",
     "output_type": "stream",
     "text": [
      "Converged to LP: -338.7:   2%|▏         | 21/1000 [00:00<00:04, 214.98it/s]\n",
      "Converged to LP: -318.7:   4%|▎         | 35/1000 [00:00<00:05, 192.12it/s]\n",
      "Converged to LP: -325.5:   4%|▍         | 43/1000 [00:00<00:04, 207.29it/s]\n",
      "Converged to LP: -333.4:   9%|▉         | 91/1000 [00:00<00:04, 209.93it/s]\n",
      "LP: -377.4:   0%|          | 0/1000 [00:00<?, ?it/s]"
     ]
    },
    {
     "name": "stdout",
     "output_type": "stream",
     "text": [
      "Fitting 3 states...\n"
     ]
    },
    {
     "name": "stderr",
     "output_type": "stream",
     "text": [
      "Converged to LP: -360.0:   2%|▏         | 23/1000 [00:00<00:05, 166.78it/s]\n",
      "Converged to LP: -364.7:   2%|▏         | 16/1000 [00:00<00:08, 114.93it/s]\n",
      "Converged to LP: -374.3:   3%|▎         | 26/1000 [00:00<00:05, 173.12it/s]\n",
      "Converged to LP: -372.5:   4%|▍         | 40/1000 [00:00<00:05, 173.49it/s]\n",
      "Converged to LP: -354.7:   7%|▋         | 68/1000 [00:00<00:05, 167.49it/s]\n",
      "LP: -400.9:   0%|          | 0/1000 [00:00<?, ?it/s]"
     ]
    },
    {
     "name": "stdout",
     "output_type": "stream",
     "text": [
      "Fitting 4 states...\n"
     ]
    },
    {
     "name": "stderr",
     "output_type": "stream",
     "text": [
      "Converged to LP: -408.4:   3%|▎         | 32/1000 [00:00<00:07, 124.99it/s]\n",
      "Converged to LP: -395.7:   4%|▍         | 40/1000 [00:00<00:09, 101.98it/s]\n",
      "Converged to LP: -393.8:   6%|▌         | 60/1000 [00:00<00:06, 138.22it/s]\n",
      "Converged to LP: -386.9:   8%|▊         | 85/1000 [00:00<00:07, 123.92it/s]\n",
      "Converged to LP: -404.1:  11%|█         | 107/1000 [00:00<00:08, 109.39it/s]\n",
      "LP: -456.0:   0%|          | 0/1000 [00:00<?, ?it/s]"
     ]
    },
    {
     "name": "stdout",
     "output_type": "stream",
     "text": [
      "Fitting 5 states...\n"
     ]
    },
    {
     "name": "stderr",
     "output_type": "stream",
     "text": [
      "Converged to LP: -447.6:   3%|▎         | 28/1000 [00:00<00:08, 119.21it/s]\n",
      "Converged to LP: -428.0:   2%|▏         | 24/1000 [00:00<00:10, 94.17it/s]\n",
      "Converged to LP: -433.9:   6%|▌         | 55/1000 [00:00<00:08, 106.69it/s]\n",
      "Converged to LP: -422.5:  10%|▉         | 99/1000 [00:00<00:06, 139.57it/s]\n",
      "Converged to LP: -425.2:  12%|█▏        | 120/1000 [00:00<00:06, 136.71it/s]\n",
      "Converged to LP: -316.1:   1%|          | 11/1000 [00:00<00:04, 215.06it/s]\n",
      "Converged to LP: -323.7:   1%|          | 12/1000 [00:00<00:06, 159.98it/s]\n",
      "Converged to LP: -319.6:   2%|▏         | 19/1000 [00:00<00:04, 206.85it/s]\n",
      "Converged to LP: -316.9:   2%|▏         | 20/1000 [00:00<00:05, 183.96it/s]\n",
      "Converged to LP: -324.6:   4%|▎         | 36/1000 [00:00<00:04, 209.87it/s]\n"
     ]
    },
    {
     "name": "stdout",
     "output_type": "stream",
     "text": [
      "Fitting session 24...\n",
      "Fitting 2 states...\n",
      "Fitting 3 states...\n"
     ]
    },
    {
     "name": "stderr",
     "output_type": "stream",
     "text": [
      "Converged to LP: -353.5:   2%|▏         | 21/1000 [00:00<00:07, 130.31it/s]\n",
      "Converged to LP: -351.4:   4%|▍         | 38/1000 [00:00<00:06, 152.10it/s]\n",
      "Converged to LP: -351.9:   4%|▍         | 43/1000 [00:00<00:05, 165.86it/s]\n",
      "Converged to LP: -352.8:   4%|▍         | 45/1000 [00:00<00:06, 153.93it/s]\n",
      "Converged to LP: -361.1:  28%|██▊       | 276/1000 [00:01<00:04, 153.00it/s]\n",
      "LP: -414.0:   0%|          | 0/1000 [00:00<?, ?it/s]"
     ]
    },
    {
     "name": "stdout",
     "output_type": "stream",
     "text": [
      "Fitting 4 states...\n"
     ]
    },
    {
     "name": "stderr",
     "output_type": "stream",
     "text": [
      "Converged to LP: -384.0:   5%|▍         | 48/1000 [00:00<00:07, 135.04it/s]\n",
      "Converged to LP: -385.6:   5%|▌         | 54/1000 [00:00<00:08, 108.49it/s]\n",
      "Converged to LP: -388.4:   7%|▋         | 67/1000 [00:00<00:07, 118.91it/s]\n",
      "Converged to LP: -394.9:   9%|▉         | 91/1000 [00:00<00:06, 141.41it/s]\n",
      "Converged to LP: -389.5:  18%|█▊        | 184/1000 [00:01<00:05, 146.82it/s]\n",
      "LP: -425.1:   1%|          | 10/1000 [00:00<00:10, 98.88it/s]"
     ]
    },
    {
     "name": "stdout",
     "output_type": "stream",
     "text": [
      "Fitting 5 states...\n"
     ]
    },
    {
     "name": "stderr",
     "output_type": "stream",
     "text": [
      "Converged to LP: -422.6:   6%|▌         | 55/1000 [00:00<00:07, 131.60it/s]\n",
      "Converged to LP: -424.8:   8%|▊         | 85/1000 [00:00<00:08, 101.86it/s]\n",
      "Converged to LP: -428.0:  11%|█         | 110/1000 [00:00<00:07, 126.09it/s]\n",
      "Converged to LP: -419.5:  14%|█▍        | 139/1000 [00:01<00:06, 126.71it/s]\n",
      "Converged to LP: -417.7:  16%|█▋        | 163/1000 [00:01<00:07, 116.50it/s]\n",
      "Converged to LP: -300.5:   2%|▏         | 16/1000 [00:00<00:05, 181.49it/s]\n",
      "Converged to LP: -306.4:   2%|▏         | 23/1000 [00:00<00:04, 199.00it/s]\n",
      "LP: -309.4:   2%|▏         | 18/1000 [00:00<00:05, 179.18it/s]"
     ]
    },
    {
     "name": "stdout",
     "output_type": "stream",
     "text": [
      "Fitting session 25...\n",
      "Fitting 2 states...\n"
     ]
    },
    {
     "name": "stderr",
     "output_type": "stream",
     "text": [
      "Converged to LP: -309.4:   3%|▎         | 30/1000 [00:00<00:05, 190.92it/s]\n",
      "Converged to LP: -305.8:   5%|▍         | 47/1000 [00:00<00:04, 203.17it/s]\n",
      "Converged to LP: -300.9:  14%|█▍        | 144/1000 [00:00<00:03, 239.35it/s]\n",
      "Converged to LP: -334.8:   2%|▏         | 17/1000 [00:00<00:05, 173.57it/s]\n",
      "LP: -343.5:   2%|▏         | 18/1000 [00:00<00:05, 179.02it/s]"
     ]
    },
    {
     "name": "stdout",
     "output_type": "stream",
     "text": [
      "Fitting 3 states...\n"
     ]
    },
    {
     "name": "stderr",
     "output_type": "stream",
     "text": [
      "Converged to LP: -334.4:   2%|▏         | 19/1000 [00:00<00:06, 142.71it/s]\n",
      "Converged to LP: -343.5:   3%|▎         | 28/1000 [00:00<00:05, 191.25it/s]\n",
      "Converged to LP: -341.8:   5%|▌         | 51/1000 [00:00<00:05, 186.61it/s]\n",
      "Converged to LP: -342.2:   6%|▌         | 62/1000 [00:00<00:05, 186.64it/s]\n"
     ]
    },
    {
     "name": "stdout",
     "output_type": "stream",
     "text": [
      "Fitting 4 states...\n"
     ]
    },
    {
     "name": "stderr",
     "output_type": "stream",
     "text": [
      "Converged to LP: -374.8:   4%|▍         | 41/1000 [00:00<00:06, 137.89it/s]\n",
      "Converged to LP: -373.3:   4%|▍         | 41/1000 [00:00<00:06, 141.11it/s]\n",
      "Converged to LP: -383.8:   7%|▋         | 67/1000 [00:00<00:06, 150.54it/s]\n",
      "Converged to LP: -371.0:  16%|█▋        | 164/1000 [00:01<00:05, 148.71it/s]\n",
      "Converged to LP: -372.3:  22%|██▏       | 217/1000 [00:01<00:04, 172.94it/s]\n",
      "LP: -408.5:   1%|          | 10/1000 [00:00<00:10, 95.22it/s]]"
     ]
    },
    {
     "name": "stdout",
     "output_type": "stream",
     "text": [
      "Fitting 5 states...\n"
     ]
    },
    {
     "name": "stderr",
     "output_type": "stream",
     "text": [
      "Converged to LP: -403.1:   4%|▎         | 35/1000 [00:00<00:08, 116.67it/s]\n",
      "Converged to LP: -405.1:   6%|▋         | 63/1000 [00:00<00:07, 127.72it/s]\n",
      "Converged to LP: -406.2:   9%|▊         | 86/1000 [00:00<00:07, 127.38it/s]\n",
      "Converged to LP: -402.1:  10%|▉         | 95/1000 [00:00<00:07, 116.11it/s]\n",
      "Converged to LP: -402.3:  12%|█▎        | 125/1000 [00:00<00:06, 137.64it/s]\n",
      "LP: -345.2:   0%|          | 0/1000 [00:00<?, ?it/s]"
     ]
    },
    {
     "name": "stdout",
     "output_type": "stream",
     "text": [
      "Fitting session 26...\n",
      "Fitting 2 states...\n"
     ]
    },
    {
     "name": "stderr",
     "output_type": "stream",
     "text": [
      "Converged to LP: -331.0:   1%|          | 12/1000 [00:00<00:06, 159.57it/s]\n",
      "Converged to LP: -338.2:   2%|▏         | 21/1000 [00:00<00:05, 192.38it/s]\n",
      "Converged to LP: -335.8:   3%|▎         | 29/1000 [00:00<00:04, 198.38it/s]\n",
      "Converged to LP: -340.7:   3%|▎         | 31/1000 [00:00<00:04, 196.35it/s]\n",
      "Converged to LP: -328.0:   4%|▎         | 36/1000 [00:00<00:04, 197.07it/s]\n",
      "LP: -370.2:   0%|          | 0/1000 [00:00<?, ?it/s]"
     ]
    },
    {
     "name": "stdout",
     "output_type": "stream",
     "text": [
      "Fitting 3 states...\n"
     ]
    },
    {
     "name": "stderr",
     "output_type": "stream",
     "text": [
      "Converged to LP: -364.4:   1%|▏         | 14/1000 [00:00<00:07, 129.46it/s]\n",
      "Converged to LP: -375.0:   4%|▎         | 37/1000 [00:00<00:06, 154.25it/s]\n",
      "Converged to LP: -365.2:   5%|▍         | 46/1000 [00:00<00:05, 176.09it/s]\n",
      "Converged to LP: -375.6:   6%|▌         | 58/1000 [00:00<00:05, 172.37it/s]\n",
      "Converged to LP: -361.9:   8%|▊         | 78/1000 [00:00<00:05, 158.35it/s]\n",
      "LP: -414.2:   1%|          | 12/1000 [00:00<00:08, 111.73it/s]"
     ]
    },
    {
     "name": "stdout",
     "output_type": "stream",
     "text": [
      "Fitting 4 states...\n"
     ]
    },
    {
     "name": "stderr",
     "output_type": "stream",
     "text": [
      "Converged to LP: -395.2:   2%|▏         | 21/1000 [00:00<00:07, 122.90it/s]\n",
      "Converged to LP: -397.1:   6%|▌         | 56/1000 [00:00<00:06, 136.78it/s]\n",
      "Converged to LP: -396.7:   6%|▌         | 62/1000 [00:00<00:07, 119.55it/s]\n",
      "Converged to LP: -397.4:   8%|▊         | 75/1000 [00:00<00:07, 124.48it/s]\n",
      "Converged to LP: -397.7:   8%|▊         | 83/1000 [00:00<00:06, 136.04it/s]\n",
      "LP: -452.5:   0%|          | 0/1000 [00:00<?, ?it/s]"
     ]
    },
    {
     "name": "stdout",
     "output_type": "stream",
     "text": [
      "Fitting 5 states...\n"
     ]
    },
    {
     "name": "stderr",
     "output_type": "stream",
     "text": [
      "Converged to LP: -436.8:   7%|▋         | 68/1000 [00:00<00:08, 111.19it/s]\n",
      "Converged to LP: -433.0:   7%|▋         | 70/1000 [00:00<00:08, 114.91it/s]\n",
      "Converged to LP: -433.5:   6%|▌         | 60/1000 [00:00<00:11, 85.00it/s]\n",
      "Converged to LP: -435.0:  13%|█▎        | 133/1000 [00:01<00:06, 124.56it/s]\n",
      "Converged to LP: -435.4:  13%|█▎        | 126/1000 [00:01<00:08, 108.99it/s]\n",
      "Converged to LP: -329.9:   1%|          | 9/1000 [00:00<00:04, 226.66it/s]\n",
      "Converged to LP: -325.4:   1%|          | 10/1000 [00:00<00:04, 209.55it/s]\n",
      "Converged to LP: -324.7:   1%|          | 9/1000 [00:00<00:04, 205.23it/s]\n",
      "Converged to LP: -330.3:   1%|          | 9/1000 [00:00<00:06, 153.17it/s]\n",
      "Converged to LP: -329.8:   1%|          | 9/1000 [00:00<00:06, 159.55it/s]\n",
      "LP: -369.5:   0%|          | 0/1000 [00:00<?, ?it/s]"
     ]
    },
    {
     "name": "stdout",
     "output_type": "stream",
     "text": [
      "Fitting session 27...\n",
      "Fitting 2 states...\n",
      "Fitting 3 states...\n"
     ]
    },
    {
     "name": "stderr",
     "output_type": "stream",
     "text": [
      "Converged to LP: -364.5:   2%|▏         | 19/1000 [00:00<00:07, 138.56it/s]\n",
      "Converged to LP: -363.4:   2%|▏         | 20/1000 [00:00<00:06, 153.36it/s]\n",
      "Converged to LP: -357.9:   3%|▎         | 31/1000 [00:00<00:05, 167.08it/s]\n",
      "Converged to LP: -362.1:   3%|▎         | 31/1000 [00:00<00:07, 131.81it/s]\n",
      "Converged to LP: -360.5:   9%|▉         | 91/1000 [00:00<00:04, 185.33it/s]\n",
      "LP: -401.7:   1%|          | 12/1000 [00:00<00:08, 113.98it/s]"
     ]
    },
    {
     "name": "stdout",
     "output_type": "stream",
     "text": [
      "Fitting 4 states...\n"
     ]
    },
    {
     "name": "stderr",
     "output_type": "stream",
     "text": [
      "Converged to LP: -395.1:   3%|▎         | 29/1000 [00:00<00:09, 100.35it/s]\n",
      "Converged to LP: -395.6:   4%|▍         | 39/1000 [00:00<00:07, 125.45it/s]\n",
      "Converged to LP: -399.3:   8%|▊         | 84/1000 [00:00<00:05, 154.78it/s]\n",
      "Converged to LP: -398.0:   9%|▉         | 92/1000 [00:00<00:06, 140.26it/s]\n",
      "Converged to LP: -390.3:  17%|█▋        | 174/1000 [00:01<00:05, 140.59it/s]\n",
      "LP: -444.8:   1%|          | 8/1000 [00:00<00:12, 78.20it/s]]"
     ]
    },
    {
     "name": "stdout",
     "output_type": "stream",
     "text": [
      "Fitting 5 states...\n"
     ]
    },
    {
     "name": "stderr",
     "output_type": "stream",
     "text": [
      "Converged to LP: -434.9:   7%|▋         | 66/1000 [00:00<00:07, 125.74it/s]\n",
      "Converged to LP: -435.3:   6%|▋         | 65/1000 [00:00<00:08, 115.63it/s]\n",
      "Converged to LP: -427.5:  11%|█         | 111/1000 [00:00<00:07, 124.83it/s]\n",
      "Converged to LP: -422.9:   9%|▉         | 89/1000 [00:00<00:09, 99.51it/s] \n",
      "Converged to LP: -437.5:  14%|█▎        | 135/1000 [00:01<00:07, 123.26it/s]\n",
      "LP: -342.1:   0%|          | 0/1000 [00:00<?, ?it/s]"
     ]
    },
    {
     "name": "stdout",
     "output_type": "stream",
     "text": [
      "Fitting session 28...\n",
      "Fitting 2 states...\n"
     ]
    },
    {
     "name": "stderr",
     "output_type": "stream",
     "text": [
      "Converged to LP: -332.8:   2%|▏         | 15/1000 [00:00<00:05, 173.58it/s]\n",
      "Converged to LP: -333.3:   2%|▏         | 20/1000 [00:00<00:04, 199.47it/s]\n",
      "Converged to LP: -332.7:   2%|▏         | 23/1000 [00:00<00:05, 183.07it/s]\n",
      "Converged to LP: -333.5:   5%|▍         | 49/1000 [00:00<00:04, 202.97it/s]\n",
      "Converged to LP: -338.5:  10%|▉         | 98/1000 [00:00<00:03, 230.34it/s]\n",
      "LP: -367.6:   1%|          | 10/1000 [00:00<00:10, 98.15it/s]]"
     ]
    },
    {
     "name": "stdout",
     "output_type": "stream",
     "text": [
      "Fitting 3 states...\n"
     ]
    },
    {
     "name": "stderr",
     "output_type": "stream",
     "text": [
      "Converged to LP: -372.2:   3%|▎         | 34/1000 [00:00<00:06, 145.94it/s]\n",
      "Converged to LP: -366.7:   3%|▎         | 32/1000 [00:00<00:07, 127.64it/s]\n",
      "Converged to LP: -365.8:   5%|▌         | 54/1000 [00:00<00:06, 153.26it/s]\n",
      "Converged to LP: -367.4:   6%|▌         | 55/1000 [00:00<00:07, 127.16it/s]\n",
      "Converged to LP: -366.0:   7%|▋         | 69/1000 [00:00<00:06, 134.17it/s]\n",
      "LP: -412.6:   0%|          | 0/1000 [00:00<?, ?it/s]"
     ]
    },
    {
     "name": "stdout",
     "output_type": "stream",
     "text": [
      "Fitting 4 states...\n"
     ]
    },
    {
     "name": "stderr",
     "output_type": "stream",
     "text": [
      "Converged to LP: -407.5:   6%|▌         | 57/1000 [00:00<00:06, 136.55it/s]\n",
      "Converged to LP: -401.0:   7%|▋         | 69/1000 [00:00<00:08, 110.49it/s]\n",
      "Converged to LP: -398.6:   8%|▊         | 81/1000 [00:00<00:08, 104.27it/s]\n",
      "Converged to LP: -400.9:  14%|█▎        | 136/1000 [00:01<00:06, 127.43it/s]\n",
      "Converged to LP: -397.6:  13%|█▎        | 127/1000 [00:01<00:07, 117.63it/s]\n",
      "LP: -440.7:   1%|          | 9/1000 [00:00<00:11, 89.42it/s]]"
     ]
    },
    {
     "name": "stdout",
     "output_type": "stream",
     "text": [
      "Fitting 5 states...\n"
     ]
    },
    {
     "name": "stderr",
     "output_type": "stream",
     "text": [
      "Converged to LP: -433.4:   5%|▌         | 54/1000 [00:00<00:08, 112.70it/s]\n",
      "Converged to LP: -442.6:   5%|▍         | 49/1000 [00:00<00:10, 88.48it/s]\n",
      "Converged to LP: -429.2:   9%|▊         | 86/1000 [00:00<00:07, 115.08it/s]\n",
      "Converged to LP: -433.5:  12%|█▏        | 115/1000 [00:00<00:06, 128.90it/s]\n",
      "Converged to LP: -428.4:  20%|██        | 200/1000 [00:01<00:06, 132.16it/s]\n",
      "LP: -326.4:   0%|          | 0/1000 [00:00<?, ?it/s]"
     ]
    },
    {
     "name": "stdout",
     "output_type": "stream",
     "text": [
      "Fitting session 29...\n",
      "Fitting 2 states...\n"
     ]
    },
    {
     "name": "stderr",
     "output_type": "stream",
     "text": [
      "Converged to LP: -326.5:   2%|▏         | 23/1000 [00:00<00:04, 195.90it/s]\n",
      "Converged to LP: -325.0:   3%|▎         | 31/1000 [00:00<00:04, 223.45it/s]\n",
      "Converged to LP: -323.4:   3%|▎         | 32/1000 [00:00<00:04, 213.43it/s]\n",
      "Converged to LP: -314.1:   5%|▍         | 47/1000 [00:00<00:05, 177.88it/s]\n",
      "Converged to LP: -324.2:   5%|▌         | 52/1000 [00:00<00:05, 184.58it/s]\n",
      "LP: -364.3:   2%|▏         | 16/1000 [00:00<00:06, 150.68it/s]"
     ]
    },
    {
     "name": "stdout",
     "output_type": "stream",
     "text": [
      "Fitting 3 states...\n"
     ]
    },
    {
     "name": "stderr",
     "output_type": "stream",
     "text": [
      "Converged to LP: -359.5:   3%|▎         | 27/1000 [00:00<00:05, 165.66it/s]\n",
      "Converged to LP: -350.8:   3%|▎         | 29/1000 [00:00<00:06, 157.42it/s]\n",
      "Converged to LP: -353.3:   7%|▋         | 66/1000 [00:00<00:05, 161.72it/s]\n",
      "Converged to LP: -358.5:   9%|▉         | 91/1000 [00:00<00:04, 186.94it/s]\n",
      "Converged to LP: -359.5:  11%|█         | 107/1000 [00:00<00:05, 168.73it/s]\n",
      "LP: -387.9:   0%|          | 0/1000 [00:00<?, ?it/s]"
     ]
    },
    {
     "name": "stdout",
     "output_type": "stream",
     "text": [
      "Fitting 4 states...\n"
     ]
    },
    {
     "name": "stderr",
     "output_type": "stream",
     "text": [
      "Converged to LP: -384.7:  13%|█▎        | 133/1000 [00:00<00:05, 155.11it/s]\n",
      "Converged to LP: -394.6:  14%|█▍        | 141/1000 [00:00<00:05, 159.17it/s]\n",
      "Converged to LP: -382.7:  15%|█▍        | 149/1000 [00:01<00:06, 133.41it/s]\n",
      "Converged to LP: -397.3:  16%|█▌        | 157/1000 [00:01<00:06, 134.99it/s]\n",
      "Converged to LP: -383.4:  18%|█▊        | 182/1000 [00:01<00:05, 153.58it/s]\n",
      "LP: -437.3:   0%|          | 0/1000 [00:00<?, ?it/s]"
     ]
    },
    {
     "name": "stdout",
     "output_type": "stream",
     "text": [
      "Fitting 5 states...\n"
     ]
    },
    {
     "name": "stderr",
     "output_type": "stream",
     "text": [
      "Converged to LP: -430.8:   4%|▍         | 41/1000 [00:00<00:09, 104.82it/s]\n",
      "Converged to LP: -414.2:  11%|█         | 106/1000 [00:00<00:07, 121.64it/s]\n",
      "Converged to LP: -420.2:  15%|█▌        | 150/1000 [00:01<00:06, 130.66it/s]\n",
      "Converged to LP: -417.9:  22%|██▏       | 216/1000 [00:01<00:05, 139.88it/s]\n",
      "Converged to LP: -420.8:  27%|██▋       | 274/1000 [00:01<00:04, 151.55it/s]\n",
      "Converged to LP: -258.7:   1%|          | 11/1000 [00:00<00:05, 197.05it/s]\n",
      "Converged to LP: -244.0:   1%|          | 11/1000 [00:00<00:05, 167.59it/s]\n",
      "Converged to LP: -247.1:   1%|▏         | 13/1000 [00:00<00:04, 203.33it/s]\n",
      "Converged to LP: -257.3:   2%|▏         | 20/1000 [00:00<00:05, 195.88it/s]\n"
     ]
    },
    {
     "name": "stdout",
     "output_type": "stream",
     "text": [
      "Fitting session 30...\n",
      "Fitting 2 states...\n",
      "Fitting 3 states...\n"
     ]
    },
    {
     "name": "stderr",
     "output_type": "stream",
     "text": [
      "Converged to LP: -251.7:   4%|▍         | 40/1000 [00:00<00:04, 238.58it/s]\n",
      "Converged to LP: -275.4:   1%|▏         | 14/1000 [00:00<00:06, 142.44it/s]\n",
      "Converged to LP: -283.7:   4%|▎         | 36/1000 [00:00<00:05, 167.83it/s]\n",
      "Converged to LP: -270.8:   4%|▎         | 37/1000 [00:00<00:06, 154.31it/s]\n",
      "Converged to LP: -277.0:   4%|▍         | 41/1000 [00:00<00:05, 170.03it/s]\n",
      "Converged to LP: -283.7:   5%|▍         | 47/1000 [00:00<00:05, 160.64it/s]\n",
      "LP: -359.8:   0%|          | 0/1000 [00:00<?, ?it/s]"
     ]
    },
    {
     "name": "stdout",
     "output_type": "stream",
     "text": [
      "Fitting 4 states...\n"
     ]
    },
    {
     "name": "stderr",
     "output_type": "stream",
     "text": [
      "Converged to LP: -312.2:   3%|▎         | 34/1000 [00:00<00:07, 129.30it/s]\n",
      "Converged to LP: -316.4:   5%|▍         | 49/1000 [00:00<00:07, 120.28it/s]\n",
      "Converged to LP: -308.3:   6%|▌         | 62/1000 [00:00<00:07, 120.93it/s]\n",
      "Converged to LP: -317.5:   9%|▊         | 87/1000 [00:00<00:06, 142.77it/s]\n",
      "Converged to LP: -313.5:  24%|██▍       | 240/1000 [00:01<00:04, 165.05it/s]\n",
      "LP: -357.8:   1%|          | 11/1000 [00:00<00:09, 103.22it/s]"
     ]
    },
    {
     "name": "stdout",
     "output_type": "stream",
     "text": [
      "Fitting 5 states...\n"
     ]
    },
    {
     "name": "stderr",
     "output_type": "stream",
     "text": [
      "Converged to LP: -357.5:   4%|▎         | 36/1000 [00:00<00:07, 125.59it/s]\n",
      "Converged to LP: -346.8:   2%|▎         | 25/1000 [00:00<00:12, 80.79it/s]\n",
      "Converged to LP: -340.6:   5%|▍         | 46/1000 [00:00<00:08, 113.04it/s]\n",
      "Converged to LP: -346.2:   6%|▌         | 59/1000 [00:00<00:07, 121.69it/s]\n",
      "Converged to LP: -349.6:   7%|▋         | 74/1000 [00:00<00:07, 122.09it/s]\n",
      "Converged to LP: -287.0:   1%|          | 9/1000 [00:00<00:04, 208.10it/s]\n",
      "Converged to LP: -285.3:   1%|          | 8/1000 [00:00<00:05, 168.69it/s]\n",
      "Converged to LP: -277.7:   1%|          | 9/1000 [00:00<00:04, 209.69it/s]\n",
      "Converged to LP: -286.9:   1%|          | 12/1000 [00:00<00:04, 214.66it/s]\n",
      "Converged to LP: -291.1:   1%|          | 10/1000 [00:00<00:06, 145.91it/s]\n",
      "LP: -321.2:   0%|          | 0/1000 [00:00<?, ?it/s]"
     ]
    },
    {
     "name": "stdout",
     "output_type": "stream",
     "text": [
      "Fitting session 31...\n",
      "Fitting 2 states...\n",
      "Fitting 3 states...\n"
     ]
    },
    {
     "name": "stderr",
     "output_type": "stream",
     "text": [
      "Converged to LP: -321.6:   2%|▏         | 18/1000 [00:00<00:08, 121.35it/s]\n",
      "Converged to LP: -322.9:   4%|▎         | 36/1000 [00:00<00:05, 168.04it/s]\n",
      "Converged to LP: -311.1:   3%|▎         | 26/1000 [00:00<00:08, 117.84it/s]\n",
      "Converged to LP: -314.5:  10%|▉         | 96/1000 [00:00<00:05, 163.88it/s]\n",
      "Converged to LP: -313.5:  22%|██▎       | 225/1000 [00:01<00:04, 173.24it/s]\n",
      "LP: -362.0:   1%|▏         | 13/1000 [00:00<00:07, 124.29it/s]"
     ]
    },
    {
     "name": "stdout",
     "output_type": "stream",
     "text": [
      "Fitting 4 states...\n"
     ]
    },
    {
     "name": "stderr",
     "output_type": "stream",
     "text": [
      "Converged to LP: -340.3:   2%|▏         | 18/1000 [00:00<00:08, 115.85it/s]\n",
      "Converged to LP: -361.4:   5%|▌         | 52/1000 [00:00<00:06, 152.52it/s]\n",
      "Converged to LP: -352.6:   8%|▊         | 78/1000 [00:00<00:06, 149.01it/s]\n",
      "Converged to LP: -346.2:  14%|█▍        | 140/1000 [00:00<00:05, 150.71it/s]\n",
      "Converged to LP: -351.6:  27%|██▋       | 267/1000 [00:01<00:04, 156.28it/s]\n",
      "LP: -407.0:   0%|          | 0/1000 [00:00<?, ?it/s]"
     ]
    },
    {
     "name": "stdout",
     "output_type": "stream",
     "text": [
      "Fitting 5 states...\n"
     ]
    },
    {
     "name": "stderr",
     "output_type": "stream",
     "text": [
      "Converged to LP: -376.1:   3%|▎         | 28/1000 [00:00<00:08, 110.89it/s]\n",
      "Converged to LP: -397.7:   5%|▌         | 53/1000 [00:00<00:08, 108.59it/s]\n",
      "Converged to LP: -391.0:   7%|▋         | 69/1000 [00:00<00:08, 114.48it/s]\n",
      "Converged to LP: -383.8:  13%|█▎        | 133/1000 [00:01<00:06, 128.23it/s]\n",
      "Converged to LP: -383.7:  21%|██▏       | 214/1000 [00:01<00:05, 139.81it/s]\n"
     ]
    }
   ],
   "source": [
    "# session-wise fitting with 5 fold cross-validation\n",
    "models_session_state_fold, train_ll_session, test_ll_session = session_wise_fit_cv(choices_session_wise, inputs_session_wise, masks=masks_session_wise,\n",
    "                                                                                    n_sessions=len(metadata.session_id.unique()), init_params=init_params, n_iters= 1000)"
   ]
  },
  {
   "cell_type": "code",
   "execution_count": 35,
   "metadata": {},
   "outputs": [],
   "source": [
    "results = {\n",
    "    'global':{\n",
    "\t\t'inputs': inputs_aggregate,\n",
    "\t\t'choices': choices_aggregate,\n",
    "\t\t'masks': masks_aggregate,\n",
    "\t\t'models': models_glm_hmm,\n",
    "\t\t'fit_lls': fit_lls_glm_hmm,\n",
    "\t\t'best_params': init_params\n",
    "\t},\n",
    "\t'session_wise':{\n",
    "\t\t'session_ids': metadata.session_id.unique(),\n",
    "        'unnormalized_inputs': unnormalized_inputs,\n",
    "\t\t'inputs': inputs_session_wise,\n",
    "\t\t'choices': choices_session_wise,\n",
    "\t\t'masks': masks_session_wise,\n",
    "\t\t'reaction_time': reaction_time_session_wise,\n",
    "\t\t'models': models_session_state_fold,\n",
    "\t\t'train_ll': train_ll_session,\n",
    "\t\t'test_ll': test_ll_session\n",
    "\t}\n",
    "}\n",
    "\n",
    "\n",
    "with open(Path(processed_dir, f'glm_hmm_result.pkl'), 'wb') as f:\n",
    "    pickle.dump(results, f)"
   ]
  }
 ],
 "metadata": {
  "kernelspec": {
   "display_name": "Python 3",
   "language": "python",
   "name": "python3"
  },
  "language_info": {
   "codemirror_mode": {
    "name": "ipython",
    "version": 3
   },
   "file_extension": ".py",
   "mimetype": "text/x-python",
   "name": "python",
   "nbconvert_exporter": "python",
   "pygments_lexer": "ipython3",
   "version": "3.10.12"
  }
 },
 "nbformat": 4,
 "nbformat_minor": 2
}
