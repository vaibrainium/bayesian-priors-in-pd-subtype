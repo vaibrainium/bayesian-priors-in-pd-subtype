{
 "cells": [
  {
   "cell_type": "code",
   "execution_count": 1,
   "metadata": {},
   "outputs": [],
   "source": [
    "%matplotlib inline\n",
    "%load_ext autoreload\n",
    "%autoreload 2\n",
    "from notebooks.imports import *\n",
    "\n",
    "import scipy.io as sio\n",
    "import h5py\n",
    "\n",
    "import hdf5storage"
   ]
  },
  {
   "cell_type": "markdown",
   "metadata": {},
   "source": [
    "### Load Configs"
   ]
  },
  {
   "cell_type": "code",
   "execution_count": 2,
   "metadata": {},
   "outputs": [],
   "source": [
    "from config import dir_config, main_config\n",
    "\n",
    "raw_dir = Path(dir_config.data.raw)\n",
    "processed_dir = Path(dir_config.data.processed)\n"
   ]
  },
  {
   "cell_type": "markdown",
   "metadata": {},
   "source": [
    "### Utils functions"
   ]
  },
  {
   "cell_type": "code",
   "execution_count": 3,
   "metadata": {},
   "outputs": [],
   "source": [
    "def determine_choice(row):\n",
    "    if row['is_valid']:\n",
    "        if row['outcome']:\n",
    "            return row['target']\n",
    "        else:\n",
    "            return 'left' if row['target'] == 'right' else 'right'\n",
    "    else:\n",
    "        return np.NaN\n",
    "\n",
    "def get_prior_condition(df):\n",
    "    valid_df = df[df['is_valid']].copy()  # Ensure valid_df is a copy to avoid SettingWithCopyWarning\n",
    "\n",
    "    # Calculate trial counts and percentages for each condition within valid trials\n",
    "    condition_counts = valid_df.groupby(['target', 'color']).size().reset_index(name='counts')\n",
    "    total_counts = condition_counts.groupby('color')['counts'].transform('sum')\n",
    "    condition_counts['percentage'] = (condition_counts['counts'] / total_counts) * 100\n",
    "\n",
    "    # Filter conditions meeting the 60% criterion\n",
    "    conditions_met = condition_counts[(condition_counts['percentage'] > 60)].copy()  # Make a copy to safely modify\n",
    "\n",
    "    # Prepare the output based on conditions met\n",
    "    if not conditions_met.empty:\n",
    "        # Use .loc to modify 'condition' column safely\n",
    "        conditions_met.loc[:, 'condition'] = conditions_met.apply(lambda x: 'gr' if x['target'] == \"right\" and x['color'] == \"green\"\n",
    "                                                                else ('gl' if x['target'] == \"left\" and x['color'] == \"green\"\n",
    "                                                                        else ('rr' if x['target'] == \"right\" and x['color'] == \"red\"\n",
    "                                                                            else 'rl')), axis=1)\n",
    "        return conditions_met[['condition', 'target', 'color']].values.tolist()[0]\n",
    "    else:\n",
    "        return ['eq', -1, -1]"
   ]
  },
  {
   "cell_type": "markdown",
   "metadata": {},
   "source": [
    "### Raw Data Column Description\n",
    "#### Codes\n",
    "    - 1001              Start trial\n",
    "    - 2500              Fixation point ON\n",
    "    - 2000              Targets appears (white choice cue for correct)\n",
    "    - 2009              Distractor appears (white choice cue for wrong)\n",
    "    - 4000:4001     Target (correct choice) is left (4000) or right (4001)\n",
    "    - 4100:4199     Difficulty levels or coherence levels (4100= easiest)\n",
    "    - 5000              Glass pattern appears\n",
    "    - 5500              Glass pattern disappears\n",
    "    - 5001              (invalid trial)\tFailed to hold fixation\n",
    "    - 5004              (invalid trial)\tFailed to hold target\n",
    "    - 5005              (invalid trial)\tAnticipatory saccade\n",
    "    - 5006              Chose distractor (wrong choice)\n",
    "    - 5007              Failed to respond on time\n",
    "    - 5510              Correct choice\n",
    "    - 1503              The actual key press\n",
    "    - 6101:6102     Glass pattern color (6101: green)\n",
    "##### Events (starting with one)\n",
    "    - 3rd column: GP orientation \n",
    "    - 4th column: % coherence {4100:100; 4101:35; 4102:13; 4103:0}\n",
    "    - 5th column: GP color\n",
    "    - 9th column: correct? \n",
    "##### Time (starting with one)\n",
    "    - Reaction Time: 8th column - 7th column"
   ]
  },
  {
   "cell_type": "markdown",
   "metadata": {},
   "source": [
    "## Compiling data from all subjects"
   ]
  },
  {
   "cell_type": "code",
   "execution_count": 4,
   "metadata": {},
   "outputs": [],
   "source": [
    "reject_subject = main_config['moca_rejection']"
   ]
  },
  {
   "cell_type": "code",
   "execution_count": 5,
   "metadata": {},
   "outputs": [],
   "source": [
    "subject_metadata = pd.read_csv(raw_dir / 'session_metadata.csv')\n",
    "subjects_from_metadata = subject_metadata['subject_id'].unique()\n",
    "\n",
    "# get all .mat files from the raw data directory\n",
    "raw_mat_files = list(Path(raw_dir).glob(\"*.mat\"))\n",
    "subjects_from_data_file = [f.stem.split(\"_\")[0] for f in raw_mat_files]"
   ]
  },
  {
   "cell_type": "code",
   "execution_count": 6,
   "metadata": {},
   "outputs": [],
   "source": [
    "# remove rejected subjects from subjects_from_metadata and subjects_from_data_file\n",
    "subjects_from_metadata = [s for s in subjects_from_metadata if s not in reject_subject]\n",
    "subjects_from_data_file = [s for s in subjects_from_data_file if s not in reject_subject]"
   ]
  },
  {
   "cell_type": "code",
   "execution_count": 7,
   "metadata": {},
   "outputs": [
    {
     "name": "stdout",
     "output_type": "stream",
     "text": [
      "Metadata contains extra: set()\n",
      "Data files contain extra: set()\n",
      "40 40\n"
     ]
    }
   ],
   "source": [
    "# look for differences between the two sets\n",
    "print(f\"Metadata contains extra: {set(subjects_from_metadata) - set(subjects_from_data_file)}\")\n",
    "print(f\"Data files contain extra: {set(subjects_from_data_file) - set(subjects_from_metadata)}\")\n",
    "print(len(set(subjects_from_data_file)), len(set(subjects_from_metadata)))\n",
    "\n",
    "assert len(set(subjects_from_data_file)) == len(set(subjects_from_metadata)), \"Mismatch between metadata and data files\""
   ]
  },
  {
   "cell_type": "code",
   "execution_count": 8,
   "metadata": {},
   "outputs": [],
   "source": [
    "aggregate_df_list = []  # Use a list to collect DataFrames\n",
    "\n",
    "for session_file in raw_mat_files:\n",
    "    session_data = hdf5storage.loadmat(str(session_file))\n",
    "\n",
    "    df = pd.DataFrame({\n",
    "        'color': np.select([session_data['event'][:, 4] == 6101, session_data['event'][:, 4] == 6102], ['green', 'red'], default=np.NaN),\n",
    "        'coherence': np.select([session_data['event'][:, 3] == 4100, session_data['event'][:, 3] == 4101, session_data['event'][:, 3] == 4102, session_data['event'][:, 3] == 4103], [100, 35, 13, 0], default=np.NaN),\n",
    "        'target': np.select([session_data['event'][:, 2] == 4000, session_data['event'][:, 2] == 4001], ['left', 'right'], default=np.NaN)\n",
    "    })\n",
    "\n",
    "    invalid_trials = np.sort(np.where((session_data['event'][:, 8] == 5007) | (session_data['event'][:, 7] == 5005) | (session_data['event'][:, 7] == 0) | (session_data['event'][:, 7] == 5008))[0])\n",
    "    df['is_valid'] = True\n",
    "    df.loc[invalid_trials, 'is_valid'] = False\n",
    "\n",
    "    df['outcome'] = False\n",
    "    df.loc[np.where(session_data['event'][:, 8] == 5510)[0], 'outcome'] = True\n",
    "\n",
    "    df['choice'] = df.apply(determine_choice, axis=1)\n",
    "    df['reaction_time'] = session_data['time'][:, 7] - session_data['time'][:, 6]\n",
    "\n",
    "    df['prior'], df['prior_direction'], df['prior_color'] = get_prior_condition(df)\n",
    "\n",
    "    df['subject_id'] = session_file.name.split('_')[0]\n",
    "    df['medication'] = session_file.name.split('_')[-2]\n",
    "    df['medication'] = df['medication'].apply(lambda x: x[:-4].lower())\n",
    "    df['session_name'] = session_file.name\n",
    "\n",
    "    aggregate_df_list.append(df)  # Append DataFrame to the list\n",
    "\n",
    "# Concatenate all DataFrames in the list at once\n",
    "aggregate_df = pd.concat(aggregate_df_list, ignore_index=True)\n",
    "\n",
    "# replace empty strings with NaN\n",
    "aggregate_df.replace('', np.nan, inplace=True)\n"
   ]
  },
  {
   "cell_type": "code",
   "execution_count": 9,
   "metadata": {},
   "outputs": [],
   "source": [
    "# rearrange columns\n",
    "aggregate_df = aggregate_df[['subject_id', 'medication', 'prior', 'prior_direction', 'prior_color', 'color', 'coherence', 'target', 'is_valid', 'outcome', 'choice', 'reaction_time', \"session_name\"]]"
   ]
  },
  {
   "cell_type": "code",
   "execution_count": 10,
   "metadata": {},
   "outputs": [],
   "source": [
    "aggregate_df.to_csv(Path(raw_dir, 'aggregate_data.csv'), index=False)"
   ]
  }
 ],
 "metadata": {
  "kernelspec": {
   "display_name": "Python 3",
   "language": "python",
   "name": "python3"
  },
  "language_info": {
   "codemirror_mode": {
    "name": "ipython",
    "version": 3
   },
   "file_extension": ".py",
   "mimetype": "text/x-python",
   "name": "python",
   "nbconvert_exporter": "python",
   "pygments_lexer": "ipython3",
   "version": "3.10.12"
  }
 },
 "nbformat": 4,
 "nbformat_minor": 2
}
