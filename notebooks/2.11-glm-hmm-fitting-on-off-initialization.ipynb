{
 "cells": [
  {
   "cell_type": "code",
   "execution_count": 20,
   "metadata": {},
   "outputs": [],
   "source": [
    "%matplotlib inline\n",
    "%load_ext autoreload\n",
    "%autoreload 2"
   ]
  },
  {
   "cell_type": "code",
   "execution_count": 1,
   "metadata": {},
   "outputs": [],
   "source": [
    "import numpy as np\n",
    "import numpy.random as npr\n",
    "import pandas as pd\n",
    "import matplotlib.pyplot as plt\n",
    "import ssm\n",
    "from sklearn import preprocessing\n",
    "from sklearn.model_selection import KFold\n",
    "from scipy import stats\n",
    "\n",
    "from notebooks.imports import *\n",
    "from config import dir_config, main_config\n",
    "from src.utils.glm_hmm_utils import *\n",
    "import pickle\n",
    "import copy"
   ]
  },
  {
   "cell_type": "markdown",
   "metadata": {},
   "source": [
    "### Configuration"
   ]
  },
  {
   "cell_type": "code",
   "execution_count": 2,
   "metadata": {},
   "outputs": [],
   "source": [
    "from config import dir_config, main_config\n",
    "\n",
    "raw_dir = Path(dir_config.data.raw)\n",
    "processed_dir = Path(dir_config.data.processed)\n",
    "\n",
    "metadata = pd.read_csv(Path(processed_dir, \"processed_metadata_accu_60.csv\"))\n",
    "data = pd.read_csv(Path(processed_dir, \"processed_data_accu_60_all.csv\"))"
   ]
  },
  {
   "cell_type": "code",
   "execution_count": 3,
   "metadata": {},
   "outputs": [],
   "source": [
    "experiment_sites = [\"Stanford\"]\n",
    "\n",
    "metadata = metadata[metadata['experiment_site'].isin(experiment_sites)].reset_index(drop=True)\n",
    "data = data[data['subject_id'].isin(metadata['subject_id'])].reset_index(drop=True)\n",
    "\n",
    "# add session_id to data with matching subject_id and medication\n",
    "metadata['session_id'] = metadata[['subject_id', 'treatment']].apply(lambda x: '_'.join(x.astype(str).str.upper()), axis=1)\n",
    "data['session_id'] = data[['subject_id', 'medication']].apply(lambda x: '_'.join(x.astype(str).str.upper()), axis=1)\n",
    "data.choice = data.choice.fillna(-1).astype(int)\n",
    "data.target = data.target.fillna(-1).astype(int)\n",
    "data.outcome = data.outcome.fillna(-1).astype(int)"
   ]
  },
  {
   "cell_type": "markdown",
   "metadata": {},
   "source": [
    "### Helper Functions"
   ]
  },
  {
   "cell_type": "code",
   "execution_count": 4,
   "metadata": {},
   "outputs": [],
   "source": [
    "def extract_previous_trial_data(trial_data, invalid_idx):\n",
    "    npr.seed(1)\n",
    "    prev_choice = np.hstack([trial_data.choice[0], trial_data.choice[:-1]])  # 0:awayPrior, 1:toPrior of previous valid trial\n",
    "    prev_target = np.hstack([trial_data.target[0], trial_data.target[:-1]]) * 2 - 1  # 0:awayPrior, 1:toPrior of previous valid trial\n",
    "    prev_color = np.hstack([trial_data.color[0], trial_data.color[:-1]])  # 0:equalPrior, 1:UnequalPrior of previous valid trial\n",
    "\n",
    "    # indices where the previous trial is invalid/valid\n",
    "    prev_invalid_idx = np.array(invalid_idx) + 1\n",
    "    if 0 in invalid_idx:\n",
    "        prev_invalid_idx = np.append(0, prev_invalid_idx)\n",
    "    prev_valid_idx = np.setdiff1d(np.arange(len(trial_data)), prev_invalid_idx)\n",
    "\n",
    "    for i in prev_invalid_idx[prev_invalid_idx < len(trial_data)]:\n",
    "        if i < prev_valid_idx[0]: #randomly sample if no previous valid trials\n",
    "            prev_choice[i] = np.random.binomial(1,0.5)\n",
    "            prev_target[i] = np.random.binomial(1,0.5) * 2 - 1\n",
    "            prev_color[i]  = np.random.binomial(1,0.5)\n",
    "        else:\n",
    "            last_valid =  np.where(prev_valid_idx<i)[0][-1]\n",
    "            prev_choice[i] = prev_choice[prev_valid_idx[last_valid]]\n",
    "            prev_target[i] = prev_target[prev_valid_idx[last_valid]]\n",
    "            prev_color[i] = prev_color[prev_valid_idx[last_valid]]\n",
    "\n",
    "    prev_choice = (prev_choice * 2) - 1 # -1:awayPrior, 1:toPrior of previous valid trial\n",
    "    return prev_choice.astype(int), prev_target.astype(int), prev_color.astype(int)\n",
    "\n",
    "def prepare_input_data(data, input_dim, invalid_idx):\n",
    "    X = np.ones((1, data.shape[0], input_dim))\n",
    "\n",
    "    X[0,:,0] = data.signed_coherence / 100\n",
    "    X[0,:,1] = data.color\n",
    "\n",
    "    prev_choice, prev_target, prev_color = extract_previous_trial_data(data, invalid_idx)\n",
    "    if input_dim == 4:\n",
    "        X[0,:,3] = prev_choice\n",
    "    elif input_dim == 5:\n",
    "        X[0,:,3] = prev_choice\n",
    "        X[0,:,4] = prev_target\n",
    "    elif input_dim == 6:\n",
    "        X[0,:,3] = prev_choice\n",
    "        X[0,:,4] = prev_target\n",
    "        X[0,:,5] = prev_color\n",
    "    return list(X)"
   ]
  },
  {
   "cell_type": "markdown",
   "metadata": {},
   "source": [
    "### Data processing"
   ]
  },
  {
   "cell_type": "code",
   "execution_count": 5,
   "metadata": {},
   "outputs": [
    {
     "name": "stdout",
     "output_type": "stream",
     "text": [
      "------------- info ----------------\n",
      "<class 'pandas.core.frame.DataFrame'>\n",
      "RangeIndex: 20585 entries, 0 to 20584\n",
      "Data columns (total 15 columns):\n",
      " #   Column            Non-Null Count  Dtype  \n",
      "---  ------            --------------  -----  \n",
      " 0   subject_id        20585 non-null  object \n",
      " 1   medication        20585 non-null  object \n",
      " 2   prior             20585 non-null  object \n",
      " 3   prior_direction   20585 non-null  object \n",
      " 4   prior_color       20585 non-null  object \n",
      " 5   color             20307 non-null  float64\n",
      " 6   coherence         20307 non-null  float64\n",
      " 7   target            20585 non-null  int64  \n",
      " 8   is_valid          20585 non-null  bool   \n",
      " 9   outcome           20585 non-null  int64  \n",
      " 10  choice            20585 non-null  int64  \n",
      " 11  reaction_time     20585 non-null  float64\n",
      " 12  session_filename  20585 non-null  object \n",
      " 13  signed_coherence  20307 non-null  float64\n",
      " 14  session_id        20585 non-null  object \n",
      "dtypes: bool(1), float64(4), int64(3), object(7)\n",
      "memory usage: 2.2+ MB\n",
      "None\n",
      "------------- Head ----------------\n",
      "  subject_id medication prior prior_direction prior_color  color  coherence  \\\n",
      "0        P11        off    gr           right       green    1.0       13.0   \n",
      "1        P11        off    gr           right       green    1.0        0.0   \n",
      "2        P11        off    gr           right       green    0.0        0.0   \n",
      "3        P11        off    gr           right       green    1.0        0.0   \n",
      "4        P11        off    gr           right       green    1.0      100.0   \n",
      "\n",
      "   target  is_valid  outcome  choice  reaction_time    session_filename  \\\n",
      "0       0      True        0       1    1605.292423  P11_OFFmeds_gr.mat   \n",
      "1       1      True        0       0    1444.102487  P11_OFFmeds_gr.mat   \n",
      "2       0      True        0       1    1314.854267  P11_OFFmeds_gr.mat   \n",
      "3       1     False       -1      -1    1648.912344  P11_OFFmeds_gr.mat   \n",
      "4       0      True        1       0     712.549048  P11_OFFmeds_gr.mat   \n",
      "\n",
      "   signed_coherence session_id  \n",
      "0             -13.0    P11_OFF  \n",
      "1               0.0    P11_OFF  \n",
      "2              -0.0    P11_OFF  \n",
      "3               0.0    P11_OFF  \n",
      "4            -100.0    P11_OFF  \n",
      "\n",
      "\n",
      "------------- describe ----------------\n",
      "\n",
      "\n",
      "              color     coherence        target       outcome        choice  \\\n",
      "count  20307.000000  20307.000000  20585.000000  20585.000000  20585.000000   \n",
      "mean       0.499975     37.134880      0.594462      0.642798      0.499247   \n",
      "std        0.500012     38.531784      0.517784      0.562396      0.580242   \n",
      "min        0.000000      0.000000     -1.000000     -1.000000     -1.000000   \n",
      "25%        0.000000     13.000000      0.000000      0.000000      0.000000   \n",
      "50%        0.000000     35.000000      1.000000      1.000000      1.000000   \n",
      "75%        1.000000    100.000000      1.000000      1.000000      1.000000   \n",
      "max        1.000000    100.000000      1.000000      1.000000      1.000000   \n",
      "\n",
      "       reaction_time  signed_coherence  \n",
      "count   2.058500e+04      20307.000000  \n",
      "mean    5.530039e+02          8.597429  \n",
      "std     4.950787e+04         52.818994  \n",
      "min    -7.102090e+06       -100.000000  \n",
      "25%     6.816330e+02        -13.000000  \n",
      "50%     8.382396e+02          0.000000  \n",
      "75%     1.077466e+03         35.000000  \n",
      "max     1.821451e+03        100.000000  \n",
      "------------- nan counts ----------------\n",
      "subject_id            0\n",
      "medication            0\n",
      "prior                 0\n",
      "prior_direction       0\n",
      "prior_color           0\n",
      "color               278\n",
      "coherence           278\n",
      "target                0\n",
      "is_valid              0\n",
      "outcome               0\n",
      "choice                0\n",
      "reaction_time         0\n",
      "session_filename      0\n",
      "signed_coherence    278\n",
      "session_id            0\n",
      "dtype: int64\n",
      "\n",
      "\n",
      "------------- dtypes ----------------\n",
      "\n",
      "\n",
      "subject_id           object\n",
      "medication           object\n",
      "prior                object\n",
      "prior_direction      object\n",
      "prior_color          object\n",
      "color               float64\n",
      "coherence           float64\n",
      "target                int64\n",
      "is_valid               bool\n",
      "outcome               int64\n",
      "choice                int64\n",
      "reaction_time       float64\n",
      "session_filename     object\n",
      "signed_coherence    float64\n",
      "session_id           object\n",
      "dtype: object\n",
      "\n",
      "\n",
      "------------- shape ----------------\n",
      "\n",
      "\n",
      "(20585, 15)\n"
     ]
    }
   ],
   "source": [
    "print(\"------------- info ----------------\")\n",
    "print(data.info())\n",
    "print(\"------------- Head ----------------\")\n",
    "print(data.head())\n",
    "print(\"\\n\\n------------- describe ----------------\\n\\n\")\n",
    "print(data.describe())\n",
    "print(\"------------- nan counts ----------------\")\n",
    "print(data.isnull().sum())\n",
    "print(\"\\n\\n------------- dtypes ----------------\\n\\n\")\n",
    "print(data.dtypes)\n",
    "print(\"\\n\\n------------- shape ----------------\\n\\n\")\n",
    "print(data.shape)"
   ]
  },
  {
   "cell_type": "markdown",
   "metadata": {},
   "source": [
    "#### Data preparation"
   ]
  },
  {
   "cell_type": "code",
   "execution_count": 6,
   "metadata": {},
   "outputs": [
    {
     "data": {
      "text/plain": [
       "(array(['P1_OFF', 'P3_OFF', 'P4_OFF', 'P6_OFF', 'P7_OFF', 'P9_OFF',\n",
       "        'P11_OFF', 'P12_OFF', 'P13_OFF', 'P17_OFF', 'P18_OFF', 'P19_OFF',\n",
       "        'P20_OFF', 'P22_OFF', 'P23_OFF', 'P24_OFF'], dtype=object),\n",
       " array(['P1_ON', 'P3_ON', 'P4_ON', 'P6_ON', 'P7_ON', 'P9_ON', 'P11_ON',\n",
       "        'P12_ON', 'P13_ON', 'P17_ON', 'P18_ON', 'P19_ON', 'P20_ON',\n",
       "        'P22_ON', 'P23_ON', 'P24_ON'], dtype=object))"
      ]
     },
     "execution_count": 6,
     "metadata": {},
     "output_type": "execute_result"
    }
   ],
   "source": [
    "off_med_sessions = metadata[metadata['treatment'] == 'OFF'].session_id.unique()\n",
    "on_med_sessions = metadata[metadata['treatment'] == 'ON'].session_id.unique()\n",
    "off_med_sessions, on_med_sessions"
   ]
  },
  {
   "cell_type": "markdown",
   "metadata": {},
   "source": [
    "#### Create design matrix (input, output, mask)"
   ]
  },
  {
   "cell_type": "code",
   "execution_count": 7,
   "metadata": {},
   "outputs": [],
   "source": [
    "n_states = 2       # number of discrete states\n",
    "obs_dim = 1           # number of observed dimensions: choice(toPrior/awayPrior)\n",
    "num_categories = 2    # number of categories for output\n",
    "input_dim = 5        # input dimensions: current signed coherence, current stimulus color, 1(bias), previous choice(toPrior/awayPrior), previous target side(toPrior/awayPrior), previous color(toPrior/awayPrior)"
   ]
  },
  {
   "cell_type": "markdown",
   "metadata": {},
   "source": [
    "### Off medication sessions"
   ]
  },
  {
   "cell_type": "code",
   "execution_count": 8,
   "metadata": {},
   "outputs": [],
   "source": [
    "inputs_session_wise = []\n",
    "choices_session_wise = []\n",
    "invalid_idx_session_wise = []\n",
    "masks_session_wise = []\n",
    "reaction_time_session_wise = []\n",
    "\n",
    "# off medication sessions\n",
    "for session in off_med_sessions:\n",
    "    session_data = data[data['session_id'] == session].reset_index(drop=True)\n",
    "\n",
    "\n",
    "    invalid_idx = np.where(session_data.outcome < 0)[0]\n",
    "    valid_idx = np.where(session_data.outcome >= 0)[0]\n",
    "\n",
    "    inputs = prepare_input_data(session_data, input_dim, invalid_idx)\n",
    "    choices = session_data.choice.values.reshape(-1,1).astype('int')\n",
    "\n",
    "    # for training, replace -1 with random sample from 0,1\n",
    "    choices[choices == -1] = npr.choice([0,1],invalid_idx.shape[0])\n",
    "    mask = np.ones_like(choices, dtype=bool)\n",
    "    mask[invalid_idx] = 0\n",
    "    reaction_time = np.array(session_data.reaction_time)\n",
    "\n",
    "    masks_session_wise.append(mask)\n",
    "    inputs_session_wise += inputs\n",
    "    choices_session_wise.append(choices)\n",
    "    reaction_time_session_wise.append(reaction_time)\n",
    "\n",
    "off_med_inputs_aggregate, off_med_choices_aggregate, off_med_masks_aggregate = [], [], []\n",
    "off_med_inputs_aggregate.append(np.vstack(inputs_session_wise))\n",
    "off_med_choices_aggregate.append(np.vstack(choices_session_wise))\n",
    "off_med_masks_aggregate.append(np.vstack(masks_session_wise))\n",
    "\n",
    "unnormalized_off_med_inputs = copy.deepcopy(inputs_session_wise)\n",
    "\n",
    "# scaling signed coherence\n",
    "off_med_inputs_aggregate[0][off_med_masks_aggregate[0][:,0],0] = preprocessing.scale(off_med_inputs_aggregate[0][off_med_masks_aggregate[0][:,0],0], axis=0)\n",
    "for idx in range(len(off_med_sessions)):\n",
    "    inputs_session_wise[idx][masks_session_wise[idx][:,0],0] = preprocessing.scale(inputs_session_wise[idx][masks_session_wise[idx][:,0],0], axis=0)\n"
   ]
  },
  {
   "cell_type": "code",
   "execution_count": 9,
   "metadata": {},
   "outputs": [
    {
     "name": "stdout",
     "output_type": "stream",
     "text": [
      "Fitting GLM globally...\n"
     ]
    },
    {
     "data": {
      "application/vnd.jupyter.widget-view+json": {
       "model_id": "ea1f43fe51534743ae4f7a2d936492fb",
       "version_major": 2,
       "version_minor": 0
      },
      "text/plain": [
       "  0%|          | 0/1000 [00:00<?, ?it/s]"
      ]
     },
     "metadata": {},
     "output_type": "display_data"
    },
    {
     "name": "stdout",
     "output_type": "stream",
     "text": [
      "Fitting 2 states...\n"
     ]
    },
    {
     "name": "stderr",
     "output_type": "stream",
     "text": [
      "Converged to LP: -5116.8:   3%|▎         | 27/1000 [00:01<00:40, 24.30it/s]\n",
      "Converged to LP: -5116.8:   8%|▊         | 82/1000 [00:03<00:35, 25.66it/s]\n",
      "Converged to LP: -5116.8:   9%|▉         | 89/1000 [00:03<00:36, 25.19it/s]\n",
      "Converged to LP: -5116.8:   8%|▊         | 77/1000 [00:03<00:41, 22.30it/s]\n",
      "Converged to LP: -5116.8:   8%|▊         | 85/1000 [00:03<00:36, 25.38it/s]\n",
      "Converged to LP: -5116.8:   9%|▉         | 92/1000 [00:03<00:36, 24.64it/s]\n",
      "Converged to LP: -5116.8:  10%|▉         | 99/1000 [00:03<00:36, 24.86it/s]\n",
      "Converged to LP: -5116.8:  10%|▉         | 99/1000 [00:04<00:37, 24.13it/s]\n",
      "Converged to LP: -5116.8:  10%|█         | 101/1000 [00:04<00:35, 24.97it/s]\n",
      "Converged to LP: -5116.8:  10%|█         | 105/1000 [00:04<00:34, 25.70it/s]\n",
      "Converged to LP: -5116.8:  11%|█         | 106/1000 [00:04<00:34, 25.63it/s]\n",
      "Converged to LP: -5116.8:  11%|█         | 112/1000 [00:04<00:34, 26.07it/s]\n",
      "Converged to LP: -5116.8:  11%|█         | 111/1000 [00:04<00:34, 26.13it/s]\n",
      "Converged to LP: -5116.8:  11%|█         | 112/1000 [00:04<00:34, 26.00it/s]\n",
      "Converged to LP: -5116.8:  11%|█         | 109/1000 [00:04<00:37, 24.01it/s]\n",
      "Converged to LP: -5116.8:  11%|█         | 112/1000 [00:04<00:35, 24.70it/s]\n",
      "Converged to LP: -5116.8:  13%|█▎        | 132/1000 [00:04<00:32, 26.76it/s]\n",
      "Converged to LP: -5116.8:  12%|█▏        | 123/1000 [00:04<00:34, 25.42it/s]\n",
      "Converged to LP: -5116.8:  15%|█▍        | 147/1000 [00:05<00:31, 27.49it/s]\n",
      "Converged to LP: -5286.5:  31%|███       | 308/1000 [00:08<00:20, 34.27it/s]\n",
      "LP: -5410.8:   0%|          | 0/1000 [00:00<?, ?it/s]"
     ]
    },
    {
     "name": "stdout",
     "output_type": "stream",
     "text": [
      "Fitting 3 states...\n"
     ]
    },
    {
     "name": "stderr",
     "output_type": "stream",
     "text": [
      "Converged to LP: -5052.6:   9%|▉         | 94/1000 [00:05<00:50, 17.77it/s]\n",
      "Converged to LP: -5052.6:  11%|█         | 111/1000 [00:06<00:48, 18.44it/s]\n",
      "Converged to LP: -5052.8:  10%|█         | 101/1000 [00:06<00:55, 16.33it/s]\n",
      "Converged to LP: -5052.8:  12%|█▎        | 125/1000 [00:07<00:50, 17.30it/s]\n",
      "Converged to LP: -5052.8:  21%|██▏       | 213/1000 [00:11<00:41, 19.04it/s]\n",
      "Converged to LP: -5052.8:  19%|█▉        | 193/1000 [00:10<00:43, 18.75it/s]\n",
      "Converged to LP: -5052.8:  21%|██        | 212/1000 [00:11<00:42, 18.70it/s]\n",
      "Converged to LP: -5052.8:  20%|█▉        | 196/1000 [00:10<00:42, 18.71it/s]\n",
      "Converged to LP: -5052.8:  22%|██▏       | 219/1000 [00:11<00:42, 18.45it/s]\n",
      "Converged to LP: -5135.2:  26%|██▋       | 264/1000 [00:11<00:31, 23.40it/s]\n",
      "Converged to LP: -5052.8:  25%|██▍       | 246/1000 [00:12<00:38, 19.50it/s]\n",
      "Converged to LP: -5052.8:  27%|██▋       | 267/1000 [00:13<00:38, 19.09it/s]\n",
      "Converged to LP: -5052.8:  26%|██▌       | 260/1000 [00:13<00:38, 19.46it/s]\n",
      "Converged to LP: -5052.8:  29%|██▉       | 290/1000 [00:14<00:35, 20.14it/s]\n",
      "Converged to LP: -5052.8:  28%|██▊       | 279/1000 [00:14<00:37, 19.08it/s]\n",
      "Converged to LP: -5052.6:  29%|██▊       | 287/1000 [00:13<00:34, 20.69it/s]\n",
      "Converged to LP: -5052.8:  29%|██▉       | 288/1000 [00:14<00:35, 20.17it/s]\n",
      "Converged to LP: -5052.8:  32%|███▏      | 316/1000 [00:15<00:33, 20.42it/s]\n",
      "Converged to LP: -5139.7:  40%|████      | 405/1000 [00:16<00:24, 23.93it/s]\n",
      "Converged to LP: -5133.4:  50%|█████     | 504/1000 [00:20<00:20, 24.39it/s]\n",
      "LP: -5442.7:   0%|          | 0/1000 [00:00<?, ?it/s]"
     ]
    },
    {
     "name": "stdout",
     "output_type": "stream",
     "text": [
      "Fitting 4 states...\n"
     ]
    },
    {
     "name": "stderr",
     "output_type": "stream",
     "text": [
      "Converged to LP: -5002.5:  14%|█▎        | 135/1000 [00:09<01:02, 13.84it/s]\n",
      "Converged to LP: -5001.4:  16%|█▌        | 158/1000 [00:10<00:56, 14.84it/s]\n",
      "Converged to LP: -5002.5:  18%|█▊        | 185/1000 [00:13<00:57, 14.14it/s]\n",
      "Converged to LP: -5081.1:  26%|██▌       | 260/1000 [00:16<00:47, 15.68it/s]\n",
      "Converged to LP: -5002.5:  26%|██▌       | 261/1000 [00:17<00:50, 14.53it/s]\n",
      "Converged to LP: -5074.1:  34%|███▍      | 338/1000 [00:20<00:40, 16.51it/s]\n",
      "Converged to LP: -5085.0:  40%|███▉      | 398/1000 [00:22<00:34, 17.49it/s]\n",
      "Converged to LP: -5002.5:  33%|███▎      | 326/1000 [00:22<00:47, 14.31it/s]\n",
      "Converged to LP: -5074.6:  40%|███▉      | 396/1000 [00:24<00:36, 16.43it/s]\n",
      "Converged to LP: -5084.8:  45%|████▌     | 452/1000 [00:25<00:30, 17.87it/s]\n",
      "Converged to LP: -5064.3:  44%|████▍     | 445/1000 [00:25<00:31, 17.40it/s]\n",
      "Converged to LP: -5064.0:  45%|████▍     | 448/1000 [00:27<00:33, 16.29it/s]\n",
      "Converged to LP: -5063.8:  52%|█████▏    | 516/1000 [00:29<00:27, 17.69it/s]\n",
      "Converged to LP: -5072.4:  54%|█████▍    | 538/1000 [00:29<00:25, 18.26it/s]\n",
      "Converged to LP: -5084.7:  50%|████▉     | 498/1000 [00:29<00:30, 16.71it/s]\n",
      "Converged to LP: -5005.1:  56%|█████▌    | 558/1000 [00:31<00:25, 17.56it/s]\n",
      "Converged to LP: -5002.5:  58%|█████▊    | 576/1000 [00:35<00:26, 16.19it/s]\n",
      "Converged to LP: -5063.8:  73%|███████▎  | 731/1000 [00:36<00:13, 19.88it/s]\n",
      "Converged to LP: -5005.1:  77%|███████▋  | 770/1000 [00:41<00:12, 18.45it/s]\n",
      "LP: -5081.3: 100%|██████████| 1000/1000 [00:50<00:00, 19.73it/s]\n",
      "LP: -5481.0:   0%|          | 1/1000 [00:00<01:59,  8.35it/s]"
     ]
    },
    {
     "name": "stdout",
     "output_type": "stream",
     "text": [
      "Fitting 5 states...\n"
     ]
    },
    {
     "name": "stderr",
     "output_type": "stream",
     "text": [
      "Converged to LP: -5463.9:   3%|▎         | 31/1000 [00:02<01:07, 14.46it/s]\n",
      "Converged to LP: -5036.7:  36%|███▋      | 363/1000 [00:27<00:47, 13.31it/s]\n",
      "Converged to LP: -4994.2:  39%|███▉      | 394/1000 [00:30<00:47, 12.79it/s]\n",
      "Converged to LP: -4994.2:  37%|███▋      | 371/1000 [00:30<00:52, 12.02it/s]\n",
      "Converged to LP: -5032.4:  46%|████▌     | 457/1000 [00:32<00:38, 14.16it/s]\n",
      "Converged to LP: -5026.0:  50%|████▉     | 499/1000 [00:37<00:37, 13.19it/s]\n",
      "Converged to LP: -5107.4:  60%|█████▉    | 595/1000 [00:44<00:30, 13.49it/s]\n",
      "Converged to LP: -5125.5:  66%|██████▋   | 663/1000 [00:47<00:24, 13.92it/s]\n",
      "Converged to LP: -5025.9:  67%|██████▋   | 668/1000 [00:49<00:24, 13.46it/s]\n",
      "Converged to LP: -5115.6:  75%|███████▌  | 754/1000 [00:51<00:16, 14.76it/s]\n",
      "Converged to LP: -5030.0:  73%|███████▎  | 734/1000 [00:51<00:18, 14.21it/s]\n",
      "Converged to LP: -5024.0:  73%|███████▎  | 734/1000 [00:52<00:19, 13.91it/s]\n",
      "Converged to LP: -5026.5:  86%|████████▌ | 855/1000 [00:58<00:09, 14.57it/s]\n",
      "Converged to LP: -5030.0:  88%|████████▊ | 880/1000 [00:59<00:08, 14.82it/s]\n",
      "Converged to LP: -5097.8:  93%|█████████▎| 931/1000 [01:00<00:04, 15.30it/s]\n",
      "Converged to LP: -5027.6:  93%|█████████▎| 930/1000 [01:02<00:04, 14.97it/s]\n",
      "LP: -5105.4: 100%|██████████| 1000/1000 [01:02<00:00, 15.99it/s]\n",
      "Converged to LP: -5093.5:  97%|█████████▋| 966/1000 [01:03<00:02, 15.11it/s]\n",
      "LP: -5109.5: 100%|██████████| 1000/1000 [01:04<00:00, 15.57it/s]\n",
      "LP: -5097.8: 100%|██████████| 1000/1000 [01:05<00:00, 15.34it/s]\n"
     ]
    }
   ],
   "source": [
    "models_glm_hmm_off_med, fit_lls_glm_hmm_off_med = global_fit(off_med_choices_aggregate, off_med_inputs_aggregate, masks=off_med_masks_aggregate, n_iters= 1000, n_initializations=20)"
   ]
  },
  {
   "cell_type": "code",
   "execution_count": 10,
   "metadata": {},
   "outputs": [],
   "source": [
    "# get best model of 20 initializations for each state\n",
    "init_params = {\n",
    "    'glm_weights': {},\n",
    "    'transition_matrices': {}\n",
    "}\n",
    "for n_states in np.arange(2,6):\n",
    "    best_idx = fit_lls_glm_hmm_off_med[n_states].index(max(fit_lls_glm_hmm_off_med[n_states]))\n",
    "    init_params['glm_weights'][n_states] = models_glm_hmm_off_med[n_states][best_idx].observations.params\n",
    "    init_params['transition_matrices'][n_states] = models_glm_hmm_off_med[n_states][best_idx].transitions.params"
   ]
  },
  {
   "cell_type": "code",
   "execution_count": 11,
   "metadata": {},
   "outputs": [
    {
     "name": "stdout",
     "output_type": "stream",
     "text": [
      "Fitting session 0...\n",
      "Fitting 2 states...\n"
     ]
    },
    {
     "name": "stderr",
     "output_type": "stream",
     "text": [
      "Converged to LP: -303.7:   2%|▏         | 15/1000 [00:00<00:04, 214.48it/s]\n",
      "Converged to LP: -298.0:   2%|▏         | 15/1000 [00:00<00:04, 230.64it/s]\n",
      "Converged to LP: -306.3:   2%|▏         | 15/1000 [00:00<00:04, 200.89it/s]\n",
      "Converged to LP: -305.3:   3%|▎         | 31/1000 [00:00<00:06, 155.17it/s]\n",
      "Converged to LP: -288.1:  14%|█▍        | 145/1000 [00:00<00:03, 228.78it/s]\n",
      "Converged to LP: -329.8:   2%|▏         | 18/1000 [00:00<00:06, 149.96it/s]\n",
      "Converged to LP: -336.2:   2%|▏         | 21/1000 [00:00<00:06, 149.73it/s]\n",
      "Converged to LP: -333.0:   3%|▎         | 27/1000 [00:00<00:05, 190.35it/s]\n",
      "LP: -331.0:   1%|          | 12/1000 [00:00<00:08, 114.98it/s]"
     ]
    },
    {
     "name": "stdout",
     "output_type": "stream",
     "text": [
      "Fitting 3 states...\n"
     ]
    },
    {
     "name": "stderr",
     "output_type": "stream",
     "text": [
      "Converged to LP: -335.8:   3%|▎         | 26/1000 [00:00<00:06, 152.81it/s]\n",
      "Converged to LP: -330.9:   5%|▍         | 46/1000 [00:00<00:05, 172.06it/s]\n",
      "LP: -370.6:   0%|          | 0/1000 [00:00<?, ?it/s]"
     ]
    },
    {
     "name": "stdout",
     "output_type": "stream",
     "text": [
      "Fitting 4 states...\n"
     ]
    },
    {
     "name": "stderr",
     "output_type": "stream",
     "text": [
      "Converged to LP: -364.5:   7%|▋         | 68/1000 [00:00<00:06, 143.42it/s]\n",
      "Converged to LP: -368.6:   8%|▊         | 85/1000 [00:00<00:06, 144.84it/s]\n",
      "Converged to LP: -366.9:  15%|█▍        | 146/1000 [00:01<00:07, 117.57it/s]\n",
      "Converged to LP: -351.1:  30%|███       | 303/1000 [00:01<00:04, 159.16it/s]\n",
      "Converged to LP: -362.7:  51%|█████     | 512/1000 [00:03<00:03, 129.77it/s]\n"
     ]
    },
    {
     "name": "stdout",
     "output_type": "stream",
     "text": [
      "Fitting 5 states...\n"
     ]
    },
    {
     "name": "stderr",
     "output_type": "stream",
     "text": [
      "Converged to LP: -394.2:   4%|▍         | 41/1000 [00:00<00:07, 125.28it/s]\n",
      "Converged to LP: -397.9:   5%|▌         | 52/1000 [00:00<00:07, 128.41it/s]\n",
      "Converged to LP: -397.1:   6%|▋         | 65/1000 [00:00<00:07, 126.33it/s]\n",
      "Converged to LP: -393.6:   7%|▋         | 72/1000 [00:00<00:07, 116.64it/s]\n",
      "Converged to LP: -382.2:   7%|▋         | 70/1000 [00:00<00:10, 90.67it/s] \n",
      "LP: -341.9:   0%|          | 0/1000 [00:00<?, ?it/s]"
     ]
    },
    {
     "name": "stdout",
     "output_type": "stream",
     "text": [
      "Fitting session 1...\n",
      "Fitting 2 states...\n",
      "Fitting 3 states...\n"
     ]
    },
    {
     "name": "stderr",
     "output_type": "stream",
     "text": [
      "Converged to LP: -293.7:   1%|          | 8/1000 [00:00<00:06, 161.19it/s]\n",
      "Converged to LP: -284.2:   1%|          | 7/1000 [00:00<00:14, 68.96it/s]\n",
      "Converged to LP: -290.5:   1%|          | 9/1000 [00:00<00:12, 80.42it/s]\n",
      "Converged to LP: -296.4:   1%|          | 10/1000 [00:00<00:10, 95.21it/s]\n",
      "Converged to LP: -294.1:   1%|▏         | 14/1000 [00:00<00:10, 90.74it/s]\n",
      "Converged to LP: -317.4:   1%|          | 11/1000 [00:00<00:07, 134.65it/s]\n",
      "Converged to LP: -326.2:   1%|▏         | 13/1000 [00:00<00:10, 93.13it/s]\n",
      "Converged to LP: -329.6:   2%|▏         | 20/1000 [00:00<00:07, 136.36it/s]\n",
      "Converged to LP: -330.4:   2%|▏         | 18/1000 [00:00<00:09, 108.57it/s]\n",
      "Converged to LP: -325.7:   5%|▌         | 54/1000 [00:00<00:07, 126.20it/s]\n"
     ]
    },
    {
     "name": "stdout",
     "output_type": "stream",
     "text": [
      "Fitting 4 states...\n"
     ]
    },
    {
     "name": "stderr",
     "output_type": "stream",
     "text": [
      "Converged to LP: -367.8:   8%|▊         | 81/1000 [00:00<00:09, 101.27it/s]\n",
      "Converged to LP: -357.6:   6%|▌         | 62/1000 [00:00<00:13, 68.78it/s]\n",
      "Converged to LP: -352.6:   7%|▋         | 71/1000 [00:00<00:12, 72.06it/s]\n",
      "Converged to LP: -362.9:   9%|▉         | 94/1000 [00:01<00:09, 92.57it/s] \n",
      "Converged to LP: -363.1:  47%|████▋     | 468/1000 [00:02<00:03, 169.20it/s]\n",
      "LP: -405.4:   0%|          | 0/1000 [00:00<?, ?it/s]"
     ]
    },
    {
     "name": "stdout",
     "output_type": "stream",
     "text": [
      "Fitting 5 states...\n"
     ]
    },
    {
     "name": "stderr",
     "output_type": "stream",
     "text": [
      "Converged to LP: -401.6:   3%|▎         | 29/1000 [00:00<00:07, 128.51it/s]\n",
      "Converged to LP: -391.8:   4%|▍         | 39/1000 [00:00<00:07, 129.32it/s]\n",
      "Converged to LP: -380.8:   4%|▍         | 38/1000 [00:00<00:07, 122.93it/s]\n",
      "Converged to LP: -399.5:   4%|▍         | 41/1000 [00:00<00:07, 124.47it/s]\n",
      "Converged to LP: -394.0:   9%|▉         | 89/1000 [00:00<00:08, 111.22it/s]\n",
      "LP: -329.8:   0%|          | 0/1000 [00:00<?, ?it/s]"
     ]
    },
    {
     "name": "stdout",
     "output_type": "stream",
     "text": [
      "Fitting session 2...\n",
      "Fitting 2 states...\n"
     ]
    },
    {
     "name": "stderr",
     "output_type": "stream",
     "text": [
      "Converged to LP: -310.8:   1%|▏         | 14/1000 [00:00<00:05, 185.34it/s]\n",
      "Converged to LP: -298.5:   2%|▏         | 16/1000 [00:00<00:05, 168.76it/s]\n",
      "Converged to LP: -330.0:   2%|▏         | 20/1000 [00:00<00:04, 198.16it/s]\n",
      "Converged to LP: -317.4:   3%|▎         | 29/1000 [00:00<00:05, 185.36it/s]\n",
      "Converged to LP: -328.2:   4%|▍         | 43/1000 [00:00<00:04, 215.38it/s]\n",
      "LP: -354.3:   0%|          | 0/1000 [00:00<?, ?it/s]"
     ]
    },
    {
     "name": "stdout",
     "output_type": "stream",
     "text": [
      "Fitting 3 states...\n"
     ]
    },
    {
     "name": "stderr",
     "output_type": "stream",
     "text": [
      "Converged to LP: -346.3:   2%|▏         | 23/1000 [00:00<00:06, 140.35it/s]\n",
      "Converged to LP: -335.0:   5%|▌         | 50/1000 [00:00<00:06, 157.79it/s]\n",
      "Converged to LP: -337.5:   5%|▍         | 48/1000 [00:00<00:06, 151.48it/s]\n",
      "Converged to LP: -360.9:   5%|▌         | 52/1000 [00:00<00:07, 130.11it/s]\n",
      "Converged to LP: -356.9:  26%|██▌       | 261/1000 [00:01<00:04, 167.81it/s]\n",
      "LP: -378.2:   0%|          | 0/1000 [00:00<?, ?it/s]"
     ]
    },
    {
     "name": "stdout",
     "output_type": "stream",
     "text": [
      "Fitting 4 states...\n"
     ]
    },
    {
     "name": "stderr",
     "output_type": "stream",
     "text": [
      "Converged to LP: -377.8:  11%|█         | 106/1000 [00:00<00:05, 149.13it/s]\n",
      "Converged to LP: -391.9:  10%|▉         | 96/1000 [00:00<00:07, 126.68it/s]\n",
      "Converged to LP: -389.0:  14%|█▍        | 143/1000 [00:01<00:06, 128.16it/s]\n",
      "Converged to LP: -370.1:  19%|█▉        | 192/1000 [00:01<00:05, 154.76it/s]\n",
      "Converged to LP: -364.4:  18%|█▊        | 177/1000 [00:01<00:06, 126.48it/s]\n",
      "LP: -411.2:   1%|          | 9/1000 [00:00<00:11, 86.41it/s]"
     ]
    },
    {
     "name": "stdout",
     "output_type": "stream",
     "text": [
      "Fitting 5 states...\n"
     ]
    },
    {
     "name": "stderr",
     "output_type": "stream",
     "text": [
      "Converged to LP: -407.9:   8%|▊         | 80/1000 [00:00<00:07, 127.58it/s]\n",
      "Converged to LP: -408.7:  10%|▉         | 95/1000 [00:00<00:07, 128.31it/s]\n",
      "Converged to LP: -424.8:  13%|█▎        | 131/1000 [00:00<00:06, 135.69it/s]\n",
      "Converged to LP: -400.8:  18%|█▊        | 183/1000 [00:01<00:05, 136.65it/s]\n",
      "Converged to LP: -426.6:  46%|████▋     | 464/1000 [00:03<00:03, 151.80it/s]\n",
      "Converged to LP: -251.5:   1%|          | 11/1000 [00:00<00:06, 155.05it/s]\n"
     ]
    },
    {
     "name": "stdout",
     "output_type": "stream",
     "text": [
      "Fitting session 3...\n",
      "Fitting 2 states...\n"
     ]
    },
    {
     "name": "stderr",
     "output_type": "stream",
     "text": [
      "Converged to LP: -252.9:   2%|▎         | 25/1000 [00:00<00:04, 212.95it/s]\n",
      "Converged to LP: -259.9:   9%|▉         | 91/1000 [00:00<00:04, 219.33it/s]\n",
      "Converged to LP: -249.7:  16%|█▌        | 157/1000 [00:00<00:03, 271.63it/s]\n",
      "Converged to LP: -256.6:  21%|██        | 211/1000 [00:00<00:02, 267.20it/s]\n",
      "LP: -282.4:   0%|          | 0/1000 [00:00<?, ?it/s]"
     ]
    },
    {
     "name": "stdout",
     "output_type": "stream",
     "text": [
      "Fitting 3 states...\n"
     ]
    },
    {
     "name": "stderr",
     "output_type": "stream",
     "text": [
      "Converged to LP: -274.8:   2%|▏         | 18/1000 [00:00<00:06, 147.99it/s]\n",
      "Converged to LP: -281.4:   4%|▍         | 41/1000 [00:00<00:04, 196.80it/s]\n",
      "Converged to LP: -285.3:   5%|▌         | 52/1000 [00:00<00:05, 172.93it/s]\n",
      "Converged to LP: -277.3:   6%|▌         | 61/1000 [00:00<00:06, 150.87it/s]\n",
      "Converged to LP: -287.1:  11%|█         | 110/1000 [00:00<00:05, 149.42it/s]\n",
      "LP: -321.2:   1%|          | 10/1000 [00:00<00:10, 93.34it/s]]"
     ]
    },
    {
     "name": "stdout",
     "output_type": "stream",
     "text": [
      "Fitting 4 states...\n"
     ]
    },
    {
     "name": "stderr",
     "output_type": "stream",
     "text": [
      "Converged to LP: -317.6:  18%|█▊        | 176/1000 [00:01<00:05, 147.33it/s]\n",
      "Converged to LP: -316.6:  19%|█▊        | 187/1000 [00:01<00:05, 156.94it/s]\n",
      "Converged to LP: -312.4:  20%|█▉        | 197/1000 [00:01<00:05, 154.73it/s]\n",
      "Converged to LP: -311.0:  48%|████▊     | 484/1000 [00:03<00:03, 149.16it/s]\n",
      "Converged to LP: -307.6:  64%|██████▍   | 638/1000 [00:03<00:02, 171.32it/s]\n",
      "LP: -373.0:   0%|          | 0/1000 [00:00<?, ?it/s]"
     ]
    },
    {
     "name": "stdout",
     "output_type": "stream",
     "text": [
      "Fitting 5 states...\n"
     ]
    },
    {
     "name": "stderr",
     "output_type": "stream",
     "text": [
      "Converged to LP: -352.3:  14%|█▍        | 142/1000 [00:00<00:05, 144.36it/s]\n",
      "Converged to LP: -365.6:  15%|█▍        | 149/1000 [00:01<00:06, 122.34it/s]\n",
      "Converged to LP: -361.7:  16%|█▌        | 162/1000 [00:01<00:06, 129.83it/s]\n",
      "Converged to LP: -359.1:  21%|██▏       | 213/1000 [00:01<00:06, 121.34it/s]\n",
      "Converged to LP: -345.0:  29%|██▊       | 287/1000 [00:02<00:05, 135.41it/s]\n",
      "Converged to LP: -358.2:   1%|          | 10/1000 [00:00<00:06, 154.11it/s]\n",
      "Converged to LP: -359.8:   2%|▏         | 20/1000 [00:00<00:05, 195.13it/s]\n",
      "LP: -370.8:   2%|▏         | 18/1000 [00:00<00:05, 179.99it/s]"
     ]
    },
    {
     "name": "stdout",
     "output_type": "stream",
     "text": [
      "Fitting session 4...\n",
      "Fitting 2 states...\n"
     ]
    },
    {
     "name": "stderr",
     "output_type": "stream",
     "text": [
      "Converged to LP: -370.0:   4%|▎         | 36/1000 [00:00<00:04, 193.14it/s]\n",
      "Converged to LP: -356.9:   6%|▌         | 60/1000 [00:00<00:05, 170.11it/s]\n",
      "Converged to LP: -365.8:   8%|▊         | 85/1000 [00:00<00:04, 203.74it/s]\n",
      "LP: -388.5:   1%|▏         | 14/1000 [00:00<00:07, 138.85it/s]"
     ]
    },
    {
     "name": "stdout",
     "output_type": "stream",
     "text": [
      "Fitting 3 states...\n"
     ]
    },
    {
     "name": "stderr",
     "output_type": "stream",
     "text": [
      "Converged to LP: -388.5:   2%|▏         | 18/1000 [00:00<00:06, 148.64it/s]\n",
      "Converged to LP: -396.7:   3%|▎         | 31/1000 [00:00<00:06, 153.62it/s]\n",
      "Converged to LP: -403.5:   4%|▍         | 44/1000 [00:00<00:05, 174.38it/s]\n",
      "Converged to LP: -390.5:   4%|▍         | 41/1000 [00:00<00:05, 160.50it/s]\n",
      "Converged to LP: -387.6:  11%|█         | 109/1000 [00:00<00:06, 136.40it/s]\n",
      "LP: -435.1:   1%|          | 10/1000 [00:00<00:09, 99.27it/s]]"
     ]
    },
    {
     "name": "stdout",
     "output_type": "stream",
     "text": [
      "Fitting 4 states...\n"
     ]
    },
    {
     "name": "stderr",
     "output_type": "stream",
     "text": [
      "Converged to LP: -438.0:   4%|▍         | 43/1000 [00:00<00:07, 128.11it/s]\n",
      "Converged to LP: -425.6:   7%|▋         | 67/1000 [00:00<00:05, 168.31it/s]\n",
      "Converged to LP: -428.4:   6%|▌         | 56/1000 [00:00<00:07, 133.53it/s]\n",
      "Converged to LP: -429.8:   6%|▋         | 63/1000 [00:00<00:07, 130.91it/s]\n",
      "Converged to LP: -423.9:  12%|█▏        | 117/1000 [00:00<00:06, 136.63it/s]\n",
      "LP: -471.3:   0%|          | 0/1000 [00:00<?, ?it/s]"
     ]
    },
    {
     "name": "stdout",
     "output_type": "stream",
     "text": [
      "Fitting 5 states...\n"
     ]
    },
    {
     "name": "stderr",
     "output_type": "stream",
     "text": [
      "Converged to LP: -472.8:   6%|▋         | 63/1000 [00:00<00:07, 122.18it/s]\n",
      "Converged to LP: -461.8:   8%|▊         | 83/1000 [00:00<00:06, 132.05it/s]\n",
      "Converged to LP: -454.0:  10%|▉         | 95/1000 [00:00<00:06, 134.91it/s]\n",
      "Converged to LP: -453.6:   8%|▊         | 75/1000 [00:00<00:09, 99.74it/s] \n",
      "Converged to LP: -472.1:  13%|█▎        | 128/1000 [00:01<00:06, 125.29it/s]\n",
      "LP: -295.0:   0%|          | 0/1000 [00:00<?, ?it/s]"
     ]
    },
    {
     "name": "stdout",
     "output_type": "stream",
     "text": [
      "Fitting session 5...\n",
      "Fitting 2 states...\n",
      "Fitting 3 states...\n"
     ]
    },
    {
     "name": "stderr",
     "output_type": "stream",
     "text": [
      "Converged to LP: -307.3:   1%|          | 11/1000 [00:00<00:05, 194.88it/s]\n",
      "Converged to LP: -298.2:   1%|          | 9/1000 [00:00<00:07, 139.66it/s]\n",
      "Converged to LP: -291.5:   1%|          | 9/1000 [00:00<00:07, 125.33it/s]\n",
      "Converged to LP: -283.7:   1%|▏         | 14/1000 [00:00<00:05, 171.89it/s]\n",
      "Converged to LP: -286.6:   1%|          | 12/1000 [00:00<00:06, 156.45it/s]\n",
      "Converged to LP: -314.4:   1%|          | 9/1000 [00:00<00:05, 169.19it/s]\n",
      "Converged to LP: -315.8:   1%|          | 8/1000 [00:00<00:07, 125.17it/s]\n",
      "Converged to LP: -324.0:   1%|          | 11/1000 [00:00<00:06, 154.77it/s]\n",
      "Converged to LP: -329.5:   1%|          | 10/1000 [00:00<00:09, 108.54it/s]\n",
      "Converged to LP: -316.2:   1%|▏         | 13/1000 [00:00<00:07, 135.46it/s]\n",
      "LP: -403.3:   0%|          | 0/1000 [00:00<?, ?it/s]"
     ]
    },
    {
     "name": "stdout",
     "output_type": "stream",
     "text": [
      "Fitting 4 states...\n"
     ]
    },
    {
     "name": "stderr",
     "output_type": "stream",
     "text": [
      "Converged to LP: -349.5:   2%|▏         | 19/1000 [00:00<00:07, 130.58it/s]\n",
      "Converged to LP: -365.0:   2%|▏         | 16/1000 [00:00<00:10, 96.35it/s]\n",
      "Converged to LP: -348.4:   3%|▎         | 26/1000 [00:00<00:06, 149.45it/s]\n",
      "Converged to LP: -356.7:   3%|▎         | 32/1000 [00:00<00:09, 103.24it/s]\n",
      "Converged to LP: -352.1:   6%|▌         | 56/1000 [00:00<00:06, 143.75it/s]\n",
      "LP: -438.1:   0%|          | 0/1000 [00:00<?, ?it/s]"
     ]
    },
    {
     "name": "stdout",
     "output_type": "stream",
     "text": [
      "Fitting 5 states...\n"
     ]
    },
    {
     "name": "stderr",
     "output_type": "stream",
     "text": [
      "Converged to LP: -382.4:  14%|█▍        | 145/1000 [00:01<00:06, 131.70it/s]\n",
      "Converged to LP: -402.8:  14%|█▍        | 139/1000 [00:01<00:08, 104.43it/s]\n",
      "Converged to LP: -386.7:  15%|█▌        | 150/1000 [00:01<00:08, 102.86it/s]\n",
      "Converged to LP: -388.4:  16%|█▌        | 159/1000 [00:01<00:07, 105.95it/s]\n",
      "Converged to LP: -380.1:  24%|██▍       | 242/1000 [00:01<00:06, 124.33it/s]\n",
      "Converged to LP: -240.2:   1%|          | 11/1000 [00:00<00:05, 196.98it/s]\n",
      "LP: -255.5:   2%|▏         | 21/1000 [00:00<00:04, 209.55it/s]"
     ]
    },
    {
     "name": "stdout",
     "output_type": "stream",
     "text": [
      "Fitting session 6...\n",
      "Fitting 2 states...\n"
     ]
    },
    {
     "name": "stderr",
     "output_type": "stream",
     "text": [
      "Converged to LP: -251.0:   5%|▍         | 48/1000 [00:00<00:04, 217.42it/s]\n",
      "Converged to LP: -238.7:  10%|█         | 102/1000 [00:00<00:03, 247.41it/s]\n",
      "Converged to LP: -251.2:  13%|█▎        | 133/1000 [00:00<00:03, 249.33it/s]\n",
      "Converged to LP: -244.7:  16%|█▌        | 158/1000 [00:00<00:03, 264.75it/s]\n",
      "LP: -274.2:   0%|          | 0/1000 [00:00<?, ?it/s]"
     ]
    },
    {
     "name": "stdout",
     "output_type": "stream",
     "text": [
      "Fitting 3 states...\n"
     ]
    },
    {
     "name": "stderr",
     "output_type": "stream",
     "text": [
      "Converged to LP: -274.1:   2%|▏         | 21/1000 [00:00<00:06, 161.20it/s]\n",
      "Converged to LP: -281.9:   6%|▌         | 58/1000 [00:00<00:05, 179.40it/s]\n",
      "Converged to LP: -268.6:   6%|▌         | 56/1000 [00:00<00:05, 166.25it/s]\n",
      "Converged to LP: -286.8:  11%|█         | 109/1000 [00:00<00:05, 150.47it/s]\n",
      "Converged to LP: -282.3:  16%|█▋        | 165/1000 [00:00<00:03, 212.00it/s]\n",
      "LP: -329.6:   0%|          | 0/1000 [00:00<?, ?it/s]"
     ]
    },
    {
     "name": "stdout",
     "output_type": "stream",
     "text": [
      "Fitting 4 states...\n"
     ]
    },
    {
     "name": "stderr",
     "output_type": "stream",
     "text": [
      "Converged to LP: -311.2:   9%|▊         | 86/1000 [00:00<00:05, 159.50it/s]\n",
      "Converged to LP: -315.8:   9%|▉         | 94/1000 [00:00<00:07, 114.71it/s]\n",
      "Converged to LP: -304.3:  20%|██        | 202/1000 [00:01<00:04, 163.34it/s]\n",
      "Converged to LP: -315.5:  21%|██        | 207/1000 [00:01<00:05, 158.47it/s]\n",
      "Converged to LP: -319.5:  24%|██▍       | 244/1000 [00:01<00:04, 158.83it/s]\n",
      "LP: -352.4:   1%|          | 9/1000 [00:00<00:11, 83.89it/s]]"
     ]
    },
    {
     "name": "stdout",
     "output_type": "stream",
     "text": [
      "Fitting 5 states...\n"
     ]
    },
    {
     "name": "stderr",
     "output_type": "stream",
     "text": [
      "Converged to LP: -359.9:   4%|▍         | 42/1000 [00:00<00:09, 97.39it/s] \n",
      "Converged to LP: -353.1:   6%|▋         | 64/1000 [00:00<00:08, 109.25it/s]\n",
      "Converged to LP: -351.7:   7%|▋         | 68/1000 [00:00<00:08, 114.91it/s]\n",
      "Converged to LP: -343.7:  11%|█         | 106/1000 [00:00<00:07, 127.65it/s]\n",
      "Converged to LP: -342.4:  10%|█         | 102/1000 [00:00<00:07, 119.36it/s]\n",
      "Converged to LP: -233.1:   1%|▏         | 14/1000 [00:00<00:04, 198.53it/s]\n",
      "LP: -241.4:   2%|▏         | 21/1000 [00:00<00:04, 206.71it/s]"
     ]
    },
    {
     "name": "stdout",
     "output_type": "stream",
     "text": [
      "Fitting session 7...\n",
      "Fitting 2 states...\n"
     ]
    },
    {
     "name": "stderr",
     "output_type": "stream",
     "text": [
      "Converged to LP: -234.2:   4%|▎         | 36/1000 [00:00<00:04, 230.36it/s]\n",
      "Converged to LP: -241.4:   4%|▍         | 41/1000 [00:00<00:04, 220.77it/s]\n",
      "Converged to LP: -235.1:  18%|█▊        | 184/1000 [00:00<00:02, 287.18it/s]\n",
      "Converged to LP: -245.6:  16%|█▌        | 160/1000 [00:00<00:04, 202.18it/s]\n",
      "LP: -276.3:   1%|▏         | 13/1000 [00:00<00:07, 129.83it/s]"
     ]
    },
    {
     "name": "stdout",
     "output_type": "stream",
     "text": [
      "Fitting 3 states...\n"
     ]
    },
    {
     "name": "stderr",
     "output_type": "stream",
     "text": [
      "Converged to LP: -272.0:   3%|▎         | 28/1000 [00:00<00:05, 164.81it/s]\n",
      "Converged to LP: -276.2:   3%|▎         | 30/1000 [00:00<00:06, 158.58it/s]\n",
      "Converged to LP: -269.4:   4%|▎         | 37/1000 [00:00<00:07, 134.08it/s]\n",
      "Converged to LP: -268.6:  18%|█▊        | 182/1000 [00:00<00:03, 210.18it/s]\n",
      "Converged to LP: -275.8:  28%|██▊       | 281/1000 [00:01<00:03, 216.02it/s]\n",
      "LP: -321.4:   0%|          | 0/1000 [00:00<?, ?it/s]"
     ]
    },
    {
     "name": "stdout",
     "output_type": "stream",
     "text": [
      "Fitting 4 states...\n"
     ]
    },
    {
     "name": "stderr",
     "output_type": "stream",
     "text": [
      "Converged to LP: -312.8:  10%|▉         | 95/1000 [00:00<00:06, 148.92it/s]\n",
      "Converged to LP: -304.2:  13%|█▎        | 127/1000 [00:00<00:05, 153.58it/s]\n",
      "Converged to LP: -302.0:  14%|█▎        | 136/1000 [00:00<00:05, 151.97it/s]\n",
      "Converged to LP: -310.4:  16%|█▋        | 165/1000 [00:01<00:05, 153.73it/s]\n",
      "Converged to LP: -305.4:  34%|███▍      | 341/1000 [00:01<00:03, 174.68it/s]\n",
      "LP: -364.2:   0%|          | 0/1000 [00:00<?, ?it/s]"
     ]
    },
    {
     "name": "stdout",
     "output_type": "stream",
     "text": [
      "Fitting 5 states...\n"
     ]
    },
    {
     "name": "stderr",
     "output_type": "stream",
     "text": [
      "Converged to LP: -353.1:   4%|▍         | 40/1000 [00:00<00:06, 138.37it/s]\n",
      "Converged to LP: -351.6:   3%|▎         | 33/1000 [00:00<00:08, 110.32it/s]\n",
      "Converged to LP: -336.7:   6%|▌         | 57/1000 [00:00<00:07, 131.83it/s]\n",
      "Converged to LP: -359.1:   5%|▍         | 49/1000 [00:00<00:08, 111.24it/s]\n",
      "Converged to LP: -340.6:  14%|█▍        | 141/1000 [00:01<00:06, 132.74it/s]\n",
      "LP: -364.5:   0%|          | 0/1000 [00:00<?, ?it/s]"
     ]
    },
    {
     "name": "stdout",
     "output_type": "stream",
     "text": [
      "Fitting session 8...\n",
      "Fitting 2 states...\n",
      "Fitting 3 states...\n"
     ]
    },
    {
     "name": "stderr",
     "output_type": "stream",
     "text": [
      "Converged to LP: -351.2:   1%|          | 9/1000 [00:00<00:05, 184.61it/s]\n",
      "Converged to LP: -340.6:   1%|▏         | 13/1000 [00:00<00:04, 216.85it/s]\n",
      "Converged to LP: -341.2:   1%|          | 9/1000 [00:00<00:06, 160.18it/s]\n",
      "Converged to LP: -349.7:   1%|▏         | 14/1000 [00:00<00:04, 202.72it/s]\n",
      "Converged to LP: -345.5:   2%|▏         | 17/1000 [00:00<00:06, 157.49it/s]\n",
      "Converged to LP: -379.8:   1%|▏         | 14/1000 [00:00<00:06, 154.80it/s]\n",
      "Converged to LP: -376.5:   2%|▏         | 19/1000 [00:00<00:06, 148.70it/s]\n",
      "Converged to LP: -384.1:   3%|▎         | 29/1000 [00:00<00:06, 161.43it/s]\n",
      "Converged to LP: -385.9:   4%|▎         | 37/1000 [00:00<00:05, 178.34it/s]\n",
      "Converged to LP: -371.9:  10%|▉         | 95/1000 [00:00<00:05, 163.37it/s]\n",
      "LP: -418.1:   1%|          | 12/1000 [00:00<00:08, 114.39it/s]"
     ]
    },
    {
     "name": "stdout",
     "output_type": "stream",
     "text": [
      "Fitting 4 states...\n"
     ]
    },
    {
     "name": "stderr",
     "output_type": "stream",
     "text": [
      "Converged to LP: -418.8:   2%|▏         | 20/1000 [00:00<00:08, 111.23it/s]\n",
      "Converged to LP: -413.1:   4%|▎         | 37/1000 [00:00<00:06, 139.08it/s]\n",
      "Converged to LP: -418.5:   5%|▌         | 52/1000 [00:00<00:06, 139.29it/s]\n",
      "Converged to LP: -417.2:  14%|█▍        | 141/1000 [00:00<00:05, 170.52it/s]\n",
      "Converged to LP: -411.8:  14%|█▍        | 143/1000 [00:00<00:05, 155.56it/s]\n",
      "LP: -447.5:   1%|          | 8/1000 [00:00<00:12, 77.17it/s]s]"
     ]
    },
    {
     "name": "stdout",
     "output_type": "stream",
     "text": [
      "Fitting 5 states...\n"
     ]
    },
    {
     "name": "stderr",
     "output_type": "stream",
     "text": [
      "Converged to LP: -444.0:   5%|▍         | 46/1000 [00:00<00:08, 109.84it/s]\n",
      "Converged to LP: -442.3:   5%|▌         | 52/1000 [00:00<00:08, 116.38it/s]\n",
      "Converged to LP: -453.8:   7%|▋         | 68/1000 [00:00<00:08, 113.05it/s]\n",
      "Converged to LP: -448.7:   6%|▌         | 60/1000 [00:00<00:10, 92.07it/s] \n",
      "Converged to LP: -445.4:  10%|▉         | 99/1000 [00:00<00:08, 112.58it/s]\n",
      "Converged to LP: -322.5:   1%|          | 6/1000 [00:00<00:05, 195.74it/s]\n",
      "Converged to LP: -325.9:   1%|          | 7/1000 [00:00<00:05, 195.45it/s]\n",
      "Converged to LP: -316.9:   1%|          | 6/1000 [00:00<00:05, 182.79it/s]\n",
      "Converged to LP: -323.8:   1%|          | 8/1000 [00:00<00:05, 166.29it/s]\n",
      "Converged to LP: -321.5:   1%|          | 10/1000 [00:00<00:04, 200.10it/s]\n",
      "LP: -358.3:   0%|          | 0/1000 [00:00<?, ?it/s]"
     ]
    },
    {
     "name": "stdout",
     "output_type": "stream",
     "text": [
      "Fitting session 9...\n",
      "Fitting 2 states...\n",
      "Fitting 3 states...\n"
     ]
    },
    {
     "name": "stderr",
     "output_type": "stream",
     "text": [
      "Converged to LP: -354.2:   1%|▏         | 13/1000 [00:00<00:06, 152.57it/s]\n",
      "Converged to LP: -360.0:   2%|▏         | 15/1000 [00:00<00:07, 125.45it/s]\n",
      "Converged to LP: -357.5:   2%|▏         | 19/1000 [00:00<00:06, 155.30it/s]\n",
      "Converged to LP: -349.9:   4%|▍         | 40/1000 [00:00<00:05, 171.22it/s]\n",
      "Converged to LP: -354.7:  10%|▉         | 99/1000 [00:00<00:05, 167.82it/s]\n",
      "LP: -403.3:   0%|          | 0/1000 [00:00<?, ?it/s]"
     ]
    },
    {
     "name": "stdout",
     "output_type": "stream",
     "text": [
      "Fitting 4 states...\n"
     ]
    },
    {
     "name": "stderr",
     "output_type": "stream",
     "text": [
      "Converged to LP: -396.0:   7%|▋         | 71/1000 [00:00<00:05, 161.25it/s]\n",
      "Converged to LP: -397.6:  10%|█         | 100/1000 [00:00<00:05, 151.93it/s]\n",
      "Converged to LP: -390.5:  14%|█▎        | 135/1000 [00:00<00:05, 164.31it/s]\n",
      "Converged to LP: -398.6:  15%|█▍        | 148/1000 [00:00<00:05, 159.45it/s]\n",
      "Converged to LP: -387.8:  27%|██▋       | 267/1000 [00:01<00:04, 182.44it/s]\n",
      "LP: -424.4:   1%|          | 10/1000 [00:00<00:10, 96.73it/s]]"
     ]
    },
    {
     "name": "stdout",
     "output_type": "stream",
     "text": [
      "Fitting 5 states...\n"
     ]
    },
    {
     "name": "stderr",
     "output_type": "stream",
     "text": [
      "Converged to LP: -413.8:   4%|▍         | 40/1000 [00:00<00:09, 99.67it/s]\n",
      "Converged to LP: -406.5:   5%|▍         | 46/1000 [00:00<00:08, 113.11it/s]\n",
      "Converged to LP: -419.5:   5%|▍         | 47/1000 [00:00<00:08, 108.29it/s]\n",
      "Converged to LP: -421.6:   7%|▋         | 73/1000 [00:00<00:07, 116.29it/s]\n",
      "Converged to LP: -430.9:  16%|█▌        | 156/1000 [00:01<00:06, 129.71it/s]\n",
      "Converged to LP: -328.2:   2%|▏         | 24/1000 [00:00<00:04, 210.45it/s]\n",
      "Converged to LP: -325.4:   3%|▎         | 29/1000 [00:00<00:04, 218.38it/s]\n",
      "LP: -322.0:   2%|▏         | 19/1000 [00:00<00:05, 179.90it/s]"
     ]
    },
    {
     "name": "stdout",
     "output_type": "stream",
     "text": [
      "Fitting session 10...\n",
      "Fitting 2 states...\n"
     ]
    },
    {
     "name": "stderr",
     "output_type": "stream",
     "text": [
      "Converged to LP: -321.2:   9%|▉         | 91/1000 [00:00<00:04, 222.29it/s]\n",
      "Converged to LP: -332.0:  11%|█▏        | 113/1000 [00:00<00:05, 161.09it/s]\n",
      "Converged to LP: -315.3:  19%|█▊        | 186/1000 [00:00<00:04, 188.15it/s]\n",
      "LP: -365.6:   1%|          | 12/1000 [00:00<00:08, 112.47it/s]"
     ]
    },
    {
     "name": "stdout",
     "output_type": "stream",
     "text": [
      "Fitting 3 states...\n"
     ]
    },
    {
     "name": "stderr",
     "output_type": "stream",
     "text": [
      "Converged to LP: -358.2:   4%|▍         | 42/1000 [00:00<00:05, 168.69it/s]\n",
      "Converged to LP: -358.7:   8%|▊         | 75/1000 [00:00<00:05, 176.80it/s]\n",
      "Converged to LP: -349.6:   7%|▋         | 69/1000 [00:00<00:06, 150.90it/s]\n",
      "Converged to LP: -369.8:  10%|█         | 101/1000 [00:00<00:06, 138.06it/s]\n",
      "Converged to LP: -356.9:  28%|██▊       | 285/1000 [00:01<00:04, 161.68it/s]\n",
      "LP: -407.4:   0%|          | 0/1000 [00:00<?, ?it/s]"
     ]
    },
    {
     "name": "stdout",
     "output_type": "stream",
     "text": [
      "Fitting 4 states...\n"
     ]
    },
    {
     "name": "stderr",
     "output_type": "stream",
     "text": [
      "Converged to LP: -384.4:  11%|█         | 106/1000 [00:00<00:06, 146.17it/s]\n",
      "Converged to LP: -389.5:  11%|█         | 109/1000 [00:00<00:06, 138.24it/s]\n",
      "Converged to LP: -387.6:  12%|█▏        | 122/1000 [00:00<00:06, 136.43it/s]\n",
      "Converged to LP: -383.1:  12%|█▏        | 123/1000 [00:00<00:06, 132.62it/s]\n",
      "Converged to LP: -405.1:  24%|██▍       | 245/1000 [00:01<00:05, 145.35it/s]\n",
      "LP: -449.6:   1%|          | 11/1000 [00:00<00:09, 101.83it/s]"
     ]
    },
    {
     "name": "stdout",
     "output_type": "stream",
     "text": [
      "Fitting 5 states...\n"
     ]
    },
    {
     "name": "stderr",
     "output_type": "stream",
     "text": [
      "Converged to LP: -439.0:   7%|▋         | 67/1000 [00:00<00:08, 105.70it/s]\n",
      "Converged to LP: -407.8:  10%|▉         | 95/1000 [00:00<00:07, 114.94it/s]\n",
      "Converged to LP: -413.1:  15%|█▌        | 152/1000 [00:01<00:07, 120.36it/s]\n",
      "Converged to LP: -422.6:  26%|██▌       | 255/1000 [00:01<00:04, 150.09it/s]\n",
      "Converged to LP: -422.0:  39%|███▊      | 387/1000 [00:02<00:04, 132.43it/s]\n",
      "Converged to LP: -331.8:   1%|          | 10/1000 [00:00<00:04, 211.33it/s]\n",
      "LP: -339.2:   0%|          | 0/1000 [00:00<?, ?it/s]"
     ]
    },
    {
     "name": "stdout",
     "output_type": "stream",
     "text": [
      "Fitting session 11...\n",
      "Fitting 2 states...\n",
      "Fitting 3 states...\n"
     ]
    },
    {
     "name": "stderr",
     "output_type": "stream",
     "text": [
      "Converged to LP: -339.2:   1%|▏         | 14/1000 [00:00<00:06, 159.90it/s]\n",
      "Converged to LP: -325.5:   2%|▏         | 24/1000 [00:00<00:05, 183.00it/s]\n",
      "Converged to LP: -338.7:   2%|▏         | 23/1000 [00:00<00:05, 183.17it/s]\n",
      "Converged to LP: -332.8:   3%|▎         | 30/1000 [00:00<00:04, 215.01it/s]\n",
      "Converged to LP: -374.3:   2%|▏         | 15/1000 [00:00<00:06, 142.86it/s]\n",
      "Converged to LP: -360.0:   2%|▏         | 21/1000 [00:00<00:06, 156.71it/s]\n",
      "Converged to LP: -355.1:   5%|▍         | 47/1000 [00:00<00:06, 154.09it/s]\n",
      "Converged to LP: -372.5:   7%|▋         | 68/1000 [00:00<00:05, 164.46it/s]\n",
      "Converged to LP: -364.2:   7%|▋         | 74/1000 [00:00<00:05, 155.78it/s]\n",
      "LP: -404.2:   0%|          | 0/1000 [00:00<?, ?it/s]"
     ]
    },
    {
     "name": "stdout",
     "output_type": "stream",
     "text": [
      "Fitting 4 states...\n"
     ]
    },
    {
     "name": "stderr",
     "output_type": "stream",
     "text": [
      "Converged to LP: -397.8:   4%|▍         | 40/1000 [00:00<00:06, 152.80it/s]\n",
      "Converged to LP: -408.3:   3%|▎         | 27/1000 [00:00<00:09, 101.42it/s]\n",
      "Converged to LP: -403.6:  10%|█         | 100/1000 [00:00<00:07, 127.98it/s]\n",
      "Converged to LP: -387.8:  15%|█▌        | 154/1000 [00:01<00:05, 149.42it/s]\n",
      "Converged to LP: -395.2:  20%|█▉        | 195/1000 [00:01<00:05, 145.38it/s]\n",
      "LP: -453.1:   0%|          | 0/1000 [00:00<?, ?it/s]"
     ]
    },
    {
     "name": "stdout",
     "output_type": "stream",
     "text": [
      "Fitting 5 states...\n"
     ]
    },
    {
     "name": "stderr",
     "output_type": "stream",
     "text": [
      "Converged to LP: -421.5:   5%|▌         | 51/1000 [00:00<00:10, 93.25it/s] \n",
      "Converged to LP: -425.9:   6%|▌         | 56/1000 [00:00<00:09, 98.66it/s] \n",
      "Converged to LP: -432.5:  17%|█▋        | 171/1000 [00:01<00:05, 142.08it/s]\n",
      "Converged to LP: -436.8:  18%|█▊        | 175/1000 [00:01<00:06, 130.59it/s]\n",
      "Converged to LP: -445.2:  18%|█▊        | 178/1000 [00:01<00:06, 132.08it/s]\n",
      "Converged to LP: -306.4:   1%|▏         | 13/1000 [00:00<00:04, 210.50it/s]\n",
      "Converged to LP: -304.0:   1%|          | 10/1000 [00:00<00:07, 133.73it/s]\n",
      "Converged to LP: -303.3:   2%|▏         | 16/1000 [00:00<00:05, 178.64it/s]\n",
      "Converged to LP: -309.4:   2%|▏         | 20/1000 [00:00<00:05, 179.73it/s]\n",
      "LP: -306.0:   2%|▏         | 18/1000 [00:00<00:05, 172.04it/s]"
     ]
    },
    {
     "name": "stdout",
     "output_type": "stream",
     "text": [
      "Fitting session 12...\n",
      "Fitting 2 states...\n"
     ]
    },
    {
     "name": "stderr",
     "output_type": "stream",
     "text": [
      "Converged to LP: -305.8:   4%|▍         | 40/1000 [00:00<00:04, 196.66it/s]\n",
      "LP: -344.9:   2%|▏         | 16/1000 [00:00<00:06, 152.98it/s]"
     ]
    },
    {
     "name": "stdout",
     "output_type": "stream",
     "text": [
      "Fitting 3 states...\n"
     ]
    },
    {
     "name": "stderr",
     "output_type": "stream",
     "text": [
      "Converged to LP: -334.9:   2%|▏         | 22/1000 [00:00<00:05, 169.23it/s]\n",
      "Converged to LP: -343.5:   2%|▏         | 24/1000 [00:00<00:05, 173.95it/s]\n",
      "Converged to LP: -341.8:   5%|▍         | 49/1000 [00:00<00:06, 153.40it/s]\n",
      "Converged to LP: -339.1:   9%|▊         | 86/1000 [00:00<00:04, 223.85it/s]\n",
      "Converged to LP: -341.5:   7%|▋         | 72/1000 [00:00<00:05, 180.14it/s]\n",
      "LP: -382.4:   1%|▏         | 13/1000 [00:00<00:07, 124.14it/s]"
     ]
    },
    {
     "name": "stdout",
     "output_type": "stream",
     "text": [
      "Fitting 4 states...\n"
     ]
    },
    {
     "name": "stderr",
     "output_type": "stream",
     "text": [
      "Converged to LP: -370.7:   4%|▎         | 35/1000 [00:00<00:06, 147.36it/s]\n",
      "Converged to LP: -381.8:   5%|▍         | 48/1000 [00:00<00:05, 162.27it/s]\n",
      "Converged to LP: -375.8:   5%|▍         | 49/1000 [00:00<00:06, 153.58it/s]\n",
      "Converged to LP: -368.5:  12%|█▏        | 115/1000 [00:00<00:05, 172.08it/s]\n",
      "Converged to LP: -373.1:  15%|█▍        | 148/1000 [00:00<00:05, 165.34it/s]\n",
      "LP: -428.8:   0%|          | 0/1000 [00:00<?, ?it/s]"
     ]
    },
    {
     "name": "stdout",
     "output_type": "stream",
     "text": [
      "Fitting 5 states...\n"
     ]
    },
    {
     "name": "stderr",
     "output_type": "stream",
     "text": [
      "Converged to LP: -409.8:  11%|█         | 112/1000 [00:01<00:08, 102.16it/s]\n",
      "Converged to LP: -406.8:  14%|█▍        | 144/1000 [00:01<00:06, 126.49it/s]\n",
      "Converged to LP: -408.0:  17%|█▋        | 170/1000 [00:01<00:07, 110.01it/s]\n",
      "Converged to LP: -409.7:  20%|██        | 204/1000 [00:01<00:06, 121.82it/s]\n",
      "Converged to LP: -398.8:  21%|██        | 208/1000 [00:01<00:06, 114.30it/s]\n",
      "LP: -367.3:   0%|          | 0/1000 [00:00<?, ?it/s]"
     ]
    },
    {
     "name": "stdout",
     "output_type": "stream",
     "text": [
      "Fitting session 13...\n",
      "Fitting 2 states...\n",
      "Fitting 3 states...\n"
     ]
    },
    {
     "name": "stderr",
     "output_type": "stream",
     "text": [
      "Converged to LP: -331.0:   1%|          | 12/1000 [00:00<00:05, 173.58it/s]\n",
      "Converged to LP: -335.9:   2%|▏         | 21/1000 [00:00<00:05, 182.99it/s]\n",
      "Converged to LP: -338.2:   2%|▏         | 17/1000 [00:00<00:06, 145.78it/s]\n",
      "Converged to LP: -340.7:   3%|▎         | 27/1000 [00:00<00:05, 193.46it/s]\n",
      "Converged to LP: -328.0:   4%|▎         | 37/1000 [00:00<00:04, 216.17it/s]\n",
      "Converged to LP: -364.4:   2%|▏         | 22/1000 [00:00<00:06, 161.35it/s]\n",
      "Converged to LP: -367.1:   6%|▌         | 55/1000 [00:00<00:05, 165.76it/s]\n",
      "Converged to LP: -365.2:   8%|▊         | 82/1000 [00:00<00:05, 180.48it/s]\n",
      "Converged to LP: -362.1:   6%|▌         | 61/1000 [00:00<00:07, 127.97it/s]\n",
      "Converged to LP: -369.4:  12%|█▏        | 124/1000 [00:00<00:05, 150.53it/s]\n",
      "LP: -402.9:   1%|          | 9/1000 [00:00<00:11, 89.22it/s]]]"
     ]
    },
    {
     "name": "stdout",
     "output_type": "stream",
     "text": [
      "Fitting 4 states...\n"
     ]
    },
    {
     "name": "stderr",
     "output_type": "stream",
     "text": [
      "Converged to LP: -399.8:   5%|▌         | 54/1000 [00:00<00:08, 109.60it/s]\n",
      "Converged to LP: -404.4:   8%|▊         | 79/1000 [00:00<00:06, 149.09it/s]\n",
      "Converged to LP: -391.1:   8%|▊         | 75/1000 [00:00<00:06, 133.42it/s]\n",
      "Converged to LP: -399.3:   9%|▉         | 92/1000 [00:00<00:07, 120.46it/s]\n",
      "Converged to LP: -404.3:  15%|█▍        | 147/1000 [00:01<00:05, 146.98it/s]\n",
      "LP: -438.7:   1%|          | 9/1000 [00:00<00:11, 84.79it/s]"
     ]
    },
    {
     "name": "stdout",
     "output_type": "stream",
     "text": [
      "Fitting 5 states...\n"
     ]
    },
    {
     "name": "stderr",
     "output_type": "stream",
     "text": [
      "Converged to LP: -434.5:   8%|▊         | 78/1000 [00:00<00:07, 117.27it/s]\n",
      "Converged to LP: -426.7:  16%|█▌        | 155/1000 [00:01<00:05, 146.33it/s]\n",
      "Converged to LP: -435.5:  23%|██▎       | 229/1000 [00:02<00:06, 112.40it/s]\n",
      "Converged to LP: -438.5:  23%|██▎       | 233/1000 [00:02<00:07, 108.14it/s]\n",
      "Converged to LP: -438.5:  28%|██▊       | 282/1000 [00:02<00:05, 130.20it/s]\n",
      "LP: -316.2:   0%|          | 0/1000 [00:00<?, ?it/s]"
     ]
    },
    {
     "name": "stdout",
     "output_type": "stream",
     "text": [
      "Fitting session 14...\n",
      "Fitting 2 states...\n"
     ]
    },
    {
     "name": "stderr",
     "output_type": "stream",
     "text": [
      "Converged to LP: -323.9:   2%|▏         | 20/1000 [00:00<00:04, 210.20it/s]\n",
      "Converged to LP: -326.5:   2%|▏         | 21/1000 [00:00<00:05, 179.97it/s]\n",
      "Converged to LP: -323.4:   3%|▎         | 31/1000 [00:00<00:04, 209.97it/s]\n",
      "Converged to LP: -314.1:   4%|▍         | 45/1000 [00:00<00:04, 235.03it/s]\n",
      "Converged to LP: -324.2:   5%|▌         | 51/1000 [00:00<00:05, 163.28it/s]\n",
      "LP: -359.6:   1%|▏         | 14/1000 [00:00<00:07, 135.87it/s]"
     ]
    },
    {
     "name": "stdout",
     "output_type": "stream",
     "text": [
      "Fitting 3 states...\n"
     ]
    },
    {
     "name": "stderr",
     "output_type": "stream",
     "text": [
      "Converged to LP: -359.5:   2%|▏         | 19/1000 [00:00<00:06, 147.34it/s]\n",
      "Converged to LP: -350.8:   3%|▎         | 30/1000 [00:00<00:07, 121.99it/s]\n",
      "Converged to LP: -353.3:   4%|▍         | 44/1000 [00:00<00:06, 154.33it/s]\n",
      "Converged to LP: -358.5:   8%|▊         | 82/1000 [00:00<00:05, 174.17it/s]\n",
      "Converged to LP: -359.5:  10%|▉         | 97/1000 [00:00<00:05, 159.20it/s]\n",
      "LP: -403.5:   0%|          | 0/1000 [00:00<?, ?it/s]"
     ]
    },
    {
     "name": "stdout",
     "output_type": "stream",
     "text": [
      "Fitting 4 states...\n"
     ]
    },
    {
     "name": "stderr",
     "output_type": "stream",
     "text": [
      "Converged to LP: -388.2:   5%|▍         | 46/1000 [00:00<00:07, 127.32it/s]\n",
      "Converged to LP: -388.1:   9%|▊         | 86/1000 [00:00<00:06, 145.32it/s]\n",
      "Converged to LP: -381.8:  12%|█▏        | 115/1000 [00:00<00:06, 145.31it/s]\n",
      "Converged to LP: -391.9:  11%|█▏        | 114/1000 [00:00<00:06, 140.22it/s]\n",
      "Converged to LP: -386.3:  33%|███▎      | 333/1000 [00:02<00:04, 152.43it/s]\n",
      "LP: -432.2:   1%|          | 9/1000 [00:00<00:12, 81.00it/s]]"
     ]
    },
    {
     "name": "stdout",
     "output_type": "stream",
     "text": [
      "Fitting 5 states...\n"
     ]
    },
    {
     "name": "stderr",
     "output_type": "stream",
     "text": [
      "Converged to LP: -414.5:   6%|▋         | 65/1000 [00:00<00:07, 120.24it/s]\n",
      "Converged to LP: -411.6:   7%|▋         | 69/1000 [00:00<00:08, 114.93it/s]\n",
      "Converged to LP: -405.9:   7%|▋         | 67/1000 [00:00<00:08, 109.86it/s]\n",
      "Converged to LP: -402.2:  27%|██▋       | 269/1000 [00:01<00:05, 134.76it/s]\n",
      "Converged to LP: -414.0:  36%|███▌      | 361/1000 [00:02<00:04, 149.13it/s]\n",
      "Converged to LP: -258.7:   2%|▏         | 15/1000 [00:00<00:04, 203.63it/s]\n",
      "LP: -246.0:   2%|▏         | 21/1000 [00:00<00:04, 207.84it/s]"
     ]
    },
    {
     "name": "stdout",
     "output_type": "stream",
     "text": [
      "Fitting session 15...\n",
      "Fitting 2 states...\n"
     ]
    },
    {
     "name": "stderr",
     "output_type": "stream",
     "text": [
      "Converged to LP: -257.3:   3%|▎         | 28/1000 [00:00<00:04, 242.59it/s]\n",
      "Converged to LP: -247.0:   2%|▏         | 18/1000 [00:00<00:06, 154.99it/s]\n",
      "Converged to LP: -246.0:   3%|▎         | 27/1000 [00:00<00:04, 216.28it/s]\n",
      "Converged to LP: -251.6:   4%|▍         | 38/1000 [00:00<00:04, 211.04it/s]\n",
      "Converged to LP: -275.4:   1%|          | 12/1000 [00:00<00:06, 146.26it/s]\n",
      "Converged to LP: -287.0:   1%|          | 12/1000 [00:00<00:07, 129.71it/s]\n",
      "LP: -283.9:   1%|▏         | 14/1000 [00:00<00:07, 133.65it/s]"
     ]
    },
    {
     "name": "stdout",
     "output_type": "stream",
     "text": [
      "Fitting 3 states...\n"
     ]
    },
    {
     "name": "stderr",
     "output_type": "stream",
     "text": [
      "Converged to LP: -283.7:   4%|▎         | 35/1000 [00:00<00:05, 164.69it/s]\n",
      "Converged to LP: -270.8:   4%|▎         | 35/1000 [00:00<00:06, 147.07it/s]\n",
      "Converged to LP: -277.0:   4%|▍         | 43/1000 [00:00<00:05, 173.91it/s]\n",
      "LP: -318.2:   0%|          | 0/1000 [00:00<?, ?it/s]"
     ]
    },
    {
     "name": "stdout",
     "output_type": "stream",
     "text": [
      "Fitting 4 states...\n"
     ]
    },
    {
     "name": "stderr",
     "output_type": "stream",
     "text": [
      "Converged to LP: -316.8:   5%|▍         | 47/1000 [00:00<00:07, 128.41it/s]\n",
      "Converged to LP: -307.4:   8%|▊         | 76/1000 [00:00<00:06, 141.87it/s]\n",
      "Converged to LP: -310.8:   9%|▉         | 91/1000 [00:00<00:05, 158.98it/s]\n",
      "Converged to LP: -313.7:  10%|█         | 103/1000 [00:00<00:05, 151.78it/s]\n",
      "Converged to LP: -306.8:  18%|█▊        | 182/1000 [00:01<00:05, 160.18it/s]\n",
      "LP: -360.7:   0%|          | 0/1000 [00:00<?, ?it/s].73it/s]"
     ]
    },
    {
     "name": "stdout",
     "output_type": "stream",
     "text": [
      "Fitting 5 states...\n"
     ]
    },
    {
     "name": "stderr",
     "output_type": "stream",
     "text": [
      "Converged to LP: -347.1:   7%|▋         | 74/1000 [00:00<00:07, 116.06it/s]\n",
      "Converged to LP: -347.8:   8%|▊         | 75/1000 [00:00<00:08, 104.40it/s]\n",
      "Converged to LP: -331.8:  13%|█▎        | 126/1000 [00:01<00:07, 124.15it/s]\n",
      "Converged to LP: -352.5:  10%|█         | 103/1000 [00:01<00:09, 97.27it/s]\n",
      "Converged to LP: -345.5:  25%|██▌       | 253/1000 [00:01<00:05, 146.76it/s]\n"
     ]
    }
   ],
   "source": [
    "# session-wise fitting with 5 fold cross-validation\n",
    "models_session_state_fold_off_med, train_ll_session_off_med, test_ll_session_off_med = session_wise_fit_cv(choices_session_wise, inputs_session_wise, masks=masks_session_wise,\n",
    "                                                                                    n_sessions=len(off_med_sessions), init_params=init_params, n_iters= 1000)"
   ]
  },
  {
   "cell_type": "code",
   "execution_count": 12,
   "metadata": {},
   "outputs": [],
   "source": [
    "off_medication_results = {\n",
    "    'global':{\n",
    "\t\t'inputs': off_med_inputs_aggregate,\n",
    "\t\t'choices': off_med_choices_aggregate,\n",
    "\t\t'masks': off_med_masks_aggregate,\n",
    "\t\t'models': models_glm_hmm_off_med,\n",
    "\t\t'fit_lls': fit_lls_glm_hmm_off_med,\n",
    "\t\t'best_params': init_params\n",
    "\t},\n",
    "\t'session':{\n",
    "\t\t'session_ids': off_med_sessions,\n",
    "        'unnormalized_inputs': unnormalized_off_med_inputs,\n",
    "\t\t'inputs': inputs_session_wise,\n",
    "\t\t'choices': choices_session_wise,\n",
    "\t\t'masks': masks_session_wise,\n",
    "\t\t'reaction_time': reaction_time_session_wise,\n",
    "\t\t'models': models_session_state_fold_off_med,\n",
    "\t\t'train_lls': train_ll_session_off_med,\n",
    "\t\t'test_lls': test_ll_session_off_med\n",
    "\t}\n",
    "}\n",
    "\n",
    "\n",
    "with open(Path(processed_dir, f'glm_hmm_off_meds_result.pkl'), 'wb') as f:\n",
    "    pickle.dump(off_medication_results, f)"
   ]
  },
  {
   "cell_type": "markdown",
   "metadata": {},
   "source": [
    "### On medication sessions"
   ]
  },
  {
   "cell_type": "code",
   "execution_count": 13,
   "metadata": {},
   "outputs": [],
   "source": [
    "inputs_session_wise = []\n",
    "choices_session_wise = []\n",
    "invalid_idx_session_wise = []\n",
    "masks_session_wise = []\n",
    "reaction_time_session_wise = []\n",
    "\n",
    "# on medication sessions\n",
    "for session in on_med_sessions:\n",
    "    session_data = data[data['session_id'] == session].reset_index(drop=True)\n",
    "\n",
    "\n",
    "    invalid_idx = np.where(session_data.outcome < 0)[0]\n",
    "    valid_idx = np.where(session_data.outcome >= 0)[0]\n",
    "\n",
    "    inputs = prepare_input_data(session_data, input_dim, invalid_idx)\n",
    "    choices = session_data.choice.values.reshape(-1,1).astype('int')\n",
    "\n",
    "    # for training, replace -1 with random sample from 0,1\n",
    "    choices[choices == -1] = npr.choice([0,1],invalid_idx.shape[0])\n",
    "    mask = np.ones_like(choices, dtype=bool)\n",
    "    mask[invalid_idx] = 0\n",
    "    reaction_time = np.array(session_data.reaction_time)\n",
    "\n",
    "    masks_session_wise.append(mask)\n",
    "    inputs_session_wise += inputs\n",
    "    choices_session_wise.append(choices)\n",
    "    reaction_time_session_wise.append(reaction_time)\n",
    "\n",
    "on_med_inputs_aggregate, on_med_choices_aggregate, on_med_masks_aggregate = [], [], []\n",
    "on_med_inputs_aggregate.append(np.vstack(inputs_session_wise))\n",
    "on_med_choices_aggregate.append(np.vstack(choices_session_wise))\n",
    "on_med_masks_aggregate.append(np.vstack(masks_session_wise))\n",
    "\n",
    "unnormalized_on_med_inputs = copy.deepcopy(inputs_session_wise)\n",
    "\n",
    "# scaling signed coherence\n",
    "on_med_inputs_aggregate[0][on_med_masks_aggregate[0][:,0],0] = preprocessing.scale(on_med_inputs_aggregate[0][on_med_masks_aggregate[0][:,0],0], axis=0)\n",
    "for idx in range(len(on_med_sessions)):\n",
    "    inputs_session_wise[idx][masks_session_wise[idx][:,0],0] = preprocessing.scale(inputs_session_wise[idx][masks_session_wise[idx][:,0],0], axis=0)\n"
   ]
  },
  {
   "cell_type": "code",
   "execution_count": 14,
   "metadata": {},
   "outputs": [
    {
     "name": "stdout",
     "output_type": "stream",
     "text": [
      "Fitting GLM globally...\n"
     ]
    },
    {
     "data": {
      "application/vnd.jupyter.widget-view+json": {
       "model_id": "2dbdd2cb64394b62a6fcb362daead3a0",
       "version_major": 2,
       "version_minor": 0
      },
      "text/plain": [
       "  0%|          | 0/1000 [00:00<?, ?it/s]"
      ]
     },
     "metadata": {},
     "output_type": "display_data"
    },
    {
     "name": "stdout",
     "output_type": "stream",
     "text": [
      "Fitting 2 states...\n"
     ]
    },
    {
     "name": "stderr",
     "output_type": "stream",
     "text": [
      "Converged to LP: -4996.7:   3%|▎         | 33/1000 [00:01<00:52, 18.31it/s]\n",
      "Converged to LP: -4996.7:   9%|▉         | 90/1000 [00:04<00:44, 20.35it/s]\n",
      "Converged to LP: -4996.7:  10%|▉         | 97/1000 [00:04<00:42, 21.16it/s]\n",
      "Converged to LP: -4996.7:   8%|▊         | 81/1000 [00:05<00:59, 15.43it/s]\n",
      "Converged to LP: -4996.7:   8%|▊         | 84/1000 [00:05<00:57, 15.93it/s]\n",
      "Converged to LP: -4996.7:  12%|█▏        | 123/1000 [00:05<00:38, 22.83it/s]\n",
      "Converged to LP: -4996.7:   9%|▊         | 87/1000 [00:05<01:02, 14.69it/s]\n",
      "Converged to LP: -4996.7:  12%|█▏        | 123/1000 [00:06<00:43, 20.37it/s]\n",
      "Converged to LP: -4996.7:   9%|▉         | 89/1000 [00:06<01:01, 14.79it/s]\n",
      "Converged to LP: -4996.7:   8%|▊         | 82/1000 [00:06<01:08, 13.46it/s]\n",
      "Converged to LP: -4996.7:  12%|█▏        | 116/1000 [00:06<00:46, 19.02it/s]\n",
      "Converged to LP: -4996.7:  11%|█▏        | 113/1000 [00:06<00:49, 18.01it/s]\n",
      "Converged to LP: -4996.7:  11%|█         | 111/1000 [00:06<00:50, 17.57it/s]\n",
      "Converged to LP: -4996.7:  13%|█▎        | 126/1000 [00:06<00:44, 19.72it/s]\n",
      "Converged to LP: -4996.7:  12%|█▏        | 119/1000 [00:06<00:50, 17.33it/s]\n",
      "Converged to LP: -4996.7:  14%|█▍        | 140/1000 [00:07<00:43, 19.95it/s]\n",
      "Converged to LP: -4996.7:  14%|█▎        | 135/1000 [00:07<00:47, 18.25it/s]\n",
      "Converged to LP: -4996.7:  16%|█▋        | 164/1000 [00:07<00:39, 21.07it/s]\n",
      "Converged to LP: -4996.7:  15%|█▌        | 154/1000 [00:08<00:43, 19.23it/s]\n",
      "Converged to LP: -4996.7:  20%|█▉        | 199/1000 [00:09<00:36, 21.69it/s]\n",
      "LP: -5323.1:   0%|          | 0/1000 [00:00<?, ?it/s]"
     ]
    },
    {
     "name": "stdout",
     "output_type": "stream",
     "text": [
      "Fitting 3 states...\n"
     ]
    },
    {
     "name": "stderr",
     "output_type": "stream",
     "text": [
      "Converged to LP: -4956.1:  11%|█         | 110/1000 [00:06<00:48, 18.20it/s]\n",
      "Converged to LP: -4956.1:  13%|█▎        | 132/1000 [00:07<00:47, 18.17it/s]\n",
      "Converged to LP: -4956.1:  14%|█▎        | 135/1000 [00:07<00:49, 17.63it/s]\n",
      "Converged to LP: -4956.2:  17%|█▋        | 170/1000 [00:09<00:45, 18.25it/s]\n",
      "Converged to LP: -4956.1:  18%|█▊        | 181/1000 [00:10<00:46, 17.72it/s]\n",
      "Converged to LP: -4956.1:  22%|██▏       | 218/1000 [00:11<00:41, 18.90it/s]\n",
      "Converged to LP: -4956.1:  21%|██        | 206/1000 [00:11<00:44, 17.82it/s]\n",
      "Converged to LP: -4956.1:  25%|██▍       | 249/1000 [00:13<00:40, 18.47it/s]\n",
      "Converged to LP: -4956.1:  27%|██▋       | 267/1000 [00:13<00:38, 19.14it/s]\n",
      "Converged to LP: -4956.1:  26%|██▋       | 263/1000 [00:14<00:40, 18.33it/s]\n",
      "Converged to LP: -4956.1:  28%|██▊       | 284/1000 [00:15<00:38, 18.55it/s]\n",
      "Converged to LP: -4956.1:  29%|██▉       | 288/1000 [00:15<00:37, 18.76it/s]\n",
      "Converged to LP: -4956.1:  30%|██▉       | 298/1000 [00:15<00:36, 19.35it/s]\n",
      "Converged to LP: -4956.1:  30%|███       | 303/1000 [00:15<00:36, 19.19it/s]\n",
      "Converged to LP: -4956.2:  29%|██▉       | 294/1000 [00:15<00:38, 18.42it/s]\n",
      "Converged to LP: -4956.1:  31%|███       | 312/1000 [00:16<00:36, 18.84it/s]\n",
      "Converged to LP: -4956.1:  35%|███▍      | 348/1000 [00:17<00:33, 19.59it/s]\n",
      "Converged to LP: -4956.1:  35%|███▍      | 348/1000 [00:17<00:33, 19.44it/s]\n",
      "Converged to LP: -4956.1:  39%|███▉      | 392/1000 [00:19<00:30, 19.94it/s]\n",
      "Converged to LP: -4956.1:  42%|████▏     | 423/1000 [00:20<00:27, 20.79it/s]\n",
      "LP: -5305.0:   0%|          | 1/1000 [00:00<01:45,  9.49it/s]"
     ]
    },
    {
     "name": "stdout",
     "output_type": "stream",
     "text": [
      "Fitting 4 states...\n"
     ]
    },
    {
     "name": "stderr",
     "output_type": "stream",
     "text": [
      "Converged to LP: -4992.6:  24%|██▍       | 242/1000 [00:16<00:53, 14.29it/s]\n",
      "Converged to LP: -4944.5:  23%|██▎       | 233/1000 [00:16<00:55, 13.76it/s]\n",
      "Converged to LP: -4975.0:  34%|███▍      | 338/1000 [00:19<00:38, 17.33it/s]\n",
      "Converged to LP: -4948.8:  31%|███       | 311/1000 [00:20<00:45, 15.08it/s]\n",
      "Converged to LP: -4970.2:  32%|███▏      | 315/1000 [00:20<00:45, 15.08it/s]\n",
      "Converged to LP: -4988.8:  34%|███▎      | 337/1000 [00:22<00:44, 14.94it/s]\n",
      "Converged to LP: -4944.5:  33%|███▎      | 327/1000 [00:24<00:49, 13.58it/s]\n",
      "Converged to LP: -4944.5:  38%|███▊      | 380/1000 [00:26<00:43, 14.11it/s]\n",
      "Converged to LP: -4945.3:  42%|████▏     | 419/1000 [00:29<00:41, 14.08it/s]\n",
      "Converged to LP: -4945.3:  49%|████▉     | 494/1000 [00:32<00:33, 15.10it/s]\n",
      "Converged to LP: -4945.3:  51%|█████     | 509/1000 [00:34<00:32, 14.96it/s]\n",
      "Converged to LP: -4971.5:  59%|█████▉    | 594/1000 [00:34<00:23, 17.32it/s]\n",
      "Converged to LP: -4961.8:  59%|█████▊    | 586/1000 [00:34<00:24, 16.82it/s]\n",
      "Converged to LP: -4944.3:  59%|█████▊    | 586/1000 [00:37<00:26, 15.62it/s]\n",
      "Converged to LP: -4945.3:  58%|█████▊    | 580/1000 [00:38<00:27, 15.23it/s]\n",
      "Converged to LP: -4961.8:  84%|████████▍ | 838/1000 [00:47<00:09, 17.67it/s]\n",
      "Converged to LP: -4961.8:  91%|█████████▏| 914/1000 [00:48<00:04, 18.87it/s]\n",
      "Converged to LP: -4944.5:  91%|█████████ | 906/1000 [00:51<00:05, 17.51it/s]\n",
      "LP: -4944.3: 100%|██████████| 1000/1000 [00:52<00:00, 18.99it/s]\n",
      "LP: -4983.2: 100%|██████████| 1000/1000 [00:53<00:00, 18.86it/s]\n",
      "LP: -5334.5:   0%|          | 0/1000 [00:00<?, ?it/s]"
     ]
    },
    {
     "name": "stdout",
     "output_type": "stream",
     "text": [
      "Fitting 5 states...\n"
     ]
    },
    {
     "name": "stderr",
     "output_type": "stream",
     "text": [
      "Converged to LP: -5013.8:  37%|███▋      | 368/1000 [00:28<00:48, 13.13it/s]\n",
      "Converged to LP: -4945.8:  31%|███       | 308/1000 [00:29<01:05, 10.58it/s]\n",
      "Converged to LP: -4958.8:  37%|███▋      | 368/1000 [00:34<00:59, 10.58it/s]\n",
      "Converged to LP: -5011.5:  47%|████▋     | 466/1000 [00:36<00:41, 12.90it/s]\n",
      "Converged to LP: -4950.9:  48%|████▊     | 482/1000 [00:37<00:40, 12.73it/s]\n",
      "Converged to LP: -4950.9:  44%|████▍     | 438/1000 [00:38<00:48, 11.50it/s]\n",
      "Converged to LP: -4961.9:  59%|█████▉    | 592/1000 [00:48<00:33, 12.13it/s]\n",
      "Converged to LP: -4961.9:  60%|██████    | 601/1000 [00:49<00:32, 12.22it/s]\n",
      "Converged to LP: -4959.2:  64%|██████▎   | 635/1000 [00:50<00:29, 12.48it/s]\n",
      "Converged to LP: -4962.1:  74%|███████▎  | 737/1000 [00:56<00:20, 12.99it/s]\n",
      "Converged to LP: -4951.5:  72%|███████▏  | 722/1000 [00:59<00:22, 12.22it/s]\n",
      "Converged to LP: -4977.2:  87%|████████▋ | 873/1000 [01:07<00:09, 12.92it/s]\n",
      "LP: -4968.7: 100%|██████████| 1000/1000 [01:08<00:00, 14.55it/s]\n",
      "Converged to LP: -4963.8:  90%|█████████ | 903/1000 [01:08<00:07, 13.10it/s]\n",
      "LP: -5001.6: 100%|██████████| 1000/1000 [01:09<00:00, 14.46it/s]\n",
      "LP: -4995.5: 100%|██████████| 1000/1000 [01:09<00:00, 14.38it/s]\n",
      "LP: -4960.5: 100%|██████████| 1000/1000 [01:11<00:00, 14.07it/s]\n",
      "LP: -4964.4: 100%|██████████| 1000/1000 [01:14<00:00, 13.50it/s]\n",
      "LP: -4974.7: 100%|██████████| 1000/1000 [01:16<00:00, 13.03it/s]\n",
      "LP: -4965.5: 100%|██████████| 1000/1000 [01:16<00:00, 13.01it/s]\n"
     ]
    }
   ],
   "source": [
    "models_glm_hmm_on_med, fit_lls_glm_hmm_on_med = global_fit(on_med_choices_aggregate, on_med_inputs_aggregate, masks=on_med_masks_aggregate, n_iters= 1000, n_initializations=20)"
   ]
  },
  {
   "cell_type": "code",
   "execution_count": 15,
   "metadata": {},
   "outputs": [],
   "source": [
    "# get best model of 20 initializations for each state\n",
    "init_params = {\n",
    "    'glm_weights': {},\n",
    "    'transition_matrices': {}\n",
    "}\n",
    "for n_states in np.arange(2,6):\n",
    "    best_idx = fit_lls_glm_hmm_on_med[n_states].index(max(fit_lls_glm_hmm_on_med[n_states]))\n",
    "    init_params['glm_weights'][n_states] = models_glm_hmm_on_med[n_states][best_idx].observations.params\n",
    "    init_params['transition_matrices'][n_states] = models_glm_hmm_on_med[n_states][best_idx].transitions.params"
   ]
  },
  {
   "cell_type": "code",
   "execution_count": 16,
   "metadata": {},
   "outputs": [
    {
     "name": "stdout",
     "output_type": "stream",
     "text": [
      "Fitting session 0...\n",
      "Fitting 2 states...\n"
     ]
    },
    {
     "name": "stderr",
     "output_type": "stream",
     "text": [
      "Converged to LP: -277.3:   1%|          | 9/1000 [00:00<00:06, 155.48it/s]\n",
      "Converged to LP: -286.3:   1%|▏         | 13/1000 [00:00<00:05, 182.06it/s]\n",
      "LP: -284.3:   2%|▏         | 18/1000 [00:00<00:05, 173.77it/s], 183.44it/s]\n",
      "Converged to LP: -281.2:   4%|▍         | 43/1000 [00:00<00:04, 237.01it/s]\n",
      "Converged to LP: -284.3:   4%|▍         | 40/1000 [00:00<00:04, 204.33it/s]\n"
     ]
    },
    {
     "name": "stdout",
     "output_type": "stream",
     "text": [
      "Fitting 3 states...\n"
     ]
    },
    {
     "name": "stderr",
     "output_type": "stream",
     "text": [
      "Converged to LP: -316.4:   2%|▏         | 15/1000 [00:00<00:08, 118.62it/s]\n",
      "Converged to LP: -322.0:   2%|▏         | 21/1000 [00:00<00:08, 116.12it/s]\n",
      "Converged to LP: -317.2:   2%|▏         | 20/1000 [00:00<00:10, 97.86it/s]\n",
      "Converged to LP: -317.1:   4%|▍         | 39/1000 [00:00<00:06, 142.73it/s]\n",
      "Converged to LP: -319.8:   6%|▌         | 59/1000 [00:00<00:07, 123.54it/s]\n",
      "LP: -360.0:   1%|          | 11/1000 [00:00<00:09, 101.91it/s]"
     ]
    },
    {
     "name": "stdout",
     "output_type": "stream",
     "text": [
      "Fitting 4 states...\n"
     ]
    },
    {
     "name": "stderr",
     "output_type": "stream",
     "text": [
      "Converged to LP: -361.2:   1%|▏         | 13/1000 [00:00<00:09, 105.33it/s]\n",
      "Converged to LP: -359.9:   3%|▎         | 26/1000 [00:00<00:08, 116.57it/s]\n",
      "Converged to LP: -356.8:   4%|▎         | 35/1000 [00:00<00:08, 114.73it/s]\n",
      "Converged to LP: -355.5:   4%|▎         | 37/1000 [00:00<00:09, 106.94it/s]\n",
      "Converged to LP: -350.3:   8%|▊         | 82/1000 [00:00<00:06, 150.53it/s]\n",
      "LP: -400.5:   1%|          | 10/1000 [00:00<00:10, 98.62it/s]"
     ]
    },
    {
     "name": "stdout",
     "output_type": "stream",
     "text": [
      "Fitting 5 states...\n"
     ]
    },
    {
     "name": "stderr",
     "output_type": "stream",
     "text": [
      "Converged to LP: -391.0:   3%|▎         | 32/1000 [00:00<00:08, 110.66it/s]\n",
      "Converged to LP: -387.1:   8%|▊         | 78/1000 [00:00<00:06, 136.82it/s]\n",
      "Converged to LP: -395.1:  16%|█▋        | 164/1000 [00:01<00:06, 136.80it/s]\n",
      "Converged to LP: -383.0:  14%|█▍        | 144/1000 [00:01<00:07, 119.72it/s]\n",
      "Converged to LP: -388.6:  20%|█▉        | 195/1000 [00:01<00:05, 145.81it/s]\n",
      "LP: -394.8:   0%|          | 0/1000 [00:00<?, ?it/s]"
     ]
    },
    {
     "name": "stdout",
     "output_type": "stream",
     "text": [
      "Fitting session 1...\n",
      "Fitting 2 states...\n",
      "Fitting 3 states...\n"
     ]
    },
    {
     "name": "stderr",
     "output_type": "stream",
     "text": [
      "Converged to LP: -393.6:   1%|          | 9/1000 [00:00<00:06, 149.41it/s]\n",
      "Converged to LP: -389.9:   1%|          | 12/1000 [00:00<00:05, 170.09it/s]\n",
      "Converged to LP: -400.0:   2%|▏         | 17/1000 [00:00<00:04, 207.47it/s]\n",
      "Converged to LP: -391.7:   2%|▏         | 16/1000 [00:00<00:05, 189.97it/s]\n",
      "Converged to LP: -398.8:   3%|▎         | 33/1000 [00:00<00:04, 207.71it/s]\n",
      "Converged to LP: -438.8:   2%|▏         | 17/1000 [00:00<00:05, 186.81it/s]\n",
      "Converged to LP: -440.9:   2%|▏         | 16/1000 [00:00<00:06, 148.55it/s]\n",
      "Converged to LP: -429.1:   2%|▏         | 24/1000 [00:00<00:06, 147.73it/s]\n",
      "Converged to LP: -430.6:   2%|▏         | 22/1000 [00:00<00:07, 132.02it/s]\n",
      "Converged to LP: -428.1:  22%|██▏       | 221/1000 [00:01<00:05, 150.81it/s]\n",
      "LP: -486.6:   0%|          | 0/1000 [00:00<?, ?it/s]"
     ]
    },
    {
     "name": "stdout",
     "output_type": "stream",
     "text": [
      "Fitting 4 states...\n"
     ]
    },
    {
     "name": "stderr",
     "output_type": "stream",
     "text": [
      "Converged to LP: -461.1:   2%|▏         | 19/1000 [00:00<00:08, 109.19it/s]\n",
      "Converged to LP: -462.7:   7%|▋         | 71/1000 [00:00<00:06, 148.85it/s]\n",
      "Converged to LP: -460.1:   8%|▊         | 79/1000 [00:00<00:06, 151.09it/s]\n",
      "Converged to LP: -471.6:   9%|▉         | 94/1000 [00:00<00:07, 127.51it/s]\n",
      "Converged to LP: -467.0:  19%|█▊        | 187/1000 [00:01<00:05, 141.06it/s]\n",
      "LP: -510.2:   0%|          | 0/1000 [00:00<?, ?it/s]"
     ]
    },
    {
     "name": "stdout",
     "output_type": "stream",
     "text": [
      "Fitting 5 states...\n"
     ]
    },
    {
     "name": "stderr",
     "output_type": "stream",
     "text": [
      "Converged to LP: -506.9:   3%|▎         | 31/1000 [00:00<00:09, 101.28it/s]\n",
      "Converged to LP: -499.9:   4%|▍         | 45/1000 [00:00<00:07, 128.06it/s]\n",
      "Converged to LP: -507.1:   6%|▌         | 61/1000 [00:00<00:07, 133.95it/s]\n",
      "Converged to LP: -513.6:   6%|▋         | 64/1000 [00:00<00:09, 103.97it/s]\n",
      "Converged to LP: -487.9:   9%|▉         | 91/1000 [00:00<00:07, 118.76it/s]\n",
      "Converged to LP: -284.2:   1%|          | 6/1000 [00:00<00:05, 183.82it/s]\n",
      "Converged to LP: -293.7:   1%|          | 8/1000 [00:00<00:04, 211.32it/s]\n",
      "Converged to LP: -296.4:   1%|          | 8/1000 [00:00<00:04, 227.53it/s]\n",
      "Converged to LP: -290.8:   1%|          | 9/1000 [00:00<00:05, 187.43it/s]\n",
      "Converged to LP: -294.1:   2%|▏         | 17/1000 [00:00<00:05, 169.49it/s]\n",
      "LP: -349.9:   0%|          | 0/1000 [00:00<?, ?it/s]"
     ]
    },
    {
     "name": "stdout",
     "output_type": "stream",
     "text": [
      "Fitting session 2...\n",
      "Fitting 2 states...\n",
      "Fitting 3 states...\n"
     ]
    },
    {
     "name": "stderr",
     "output_type": "stream",
     "text": [
      "Converged to LP: -326.9:   1%|▏         | 13/1000 [00:00<00:06, 160.52it/s]\n",
      "Converged to LP: -319.3:   3%|▎         | 28/1000 [00:00<00:05, 186.44it/s]\n",
      "Converged to LP: -329.4:   3%|▎         | 27/1000 [00:00<00:06, 157.86it/s]\n",
      "Converged to LP: -325.9:   3%|▎         | 30/1000 [00:00<00:05, 166.87it/s]\n",
      "Converged to LP: -323.2:   8%|▊         | 84/1000 [00:00<00:04, 218.97it/s]\n",
      "LP: -386.1:   0%|          | 0/1000 [00:00<?, ?it/s]"
     ]
    },
    {
     "name": "stdout",
     "output_type": "stream",
     "text": [
      "Fitting 4 states...\n"
     ]
    },
    {
     "name": "stderr",
     "output_type": "stream",
     "text": [
      "Converged to LP: -368.7:   2%|▏         | 24/1000 [00:00<00:06, 143.49it/s]\n",
      "Converged to LP: -362.6:   5%|▌         | 53/1000 [00:00<00:05, 165.13it/s]\n",
      "Converged to LP: -353.7:   6%|▌         | 56/1000 [00:00<00:06, 153.10it/s]\n",
      "Converged to LP: -350.6:   7%|▋         | 74/1000 [00:00<00:06, 143.65it/s]\n",
      "Converged to LP: -361.7:   8%|▊         | 83/1000 [00:00<00:06, 147.21it/s]\n",
      "LP: -412.5:   0%|          | 0/1000 [00:00<?, ?it/s]"
     ]
    },
    {
     "name": "stdout",
     "output_type": "stream",
     "text": [
      "Fitting 5 states...\n"
     ]
    },
    {
     "name": "stderr",
     "output_type": "stream",
     "text": [
      "Converged to LP: -400.0:   3%|▎         | 31/1000 [00:00<00:08, 108.46it/s]\n",
      "Converged to LP: -391.7:   4%|▍         | 41/1000 [00:00<00:07, 129.24it/s]\n",
      "Converged to LP: -401.7:   6%|▋         | 64/1000 [00:00<00:06, 142.64it/s]\n",
      "Converged to LP: -386.4:   7%|▋         | 74/1000 [00:00<00:07, 120.76it/s]\n",
      "Converged to LP: -388.7:  11%|█         | 106/1000 [00:00<00:05, 151.59it/s]\n",
      "Converged to LP: -231.2:   1%|          | 10/1000 [00:00<00:06, 147.66it/s]\n",
      "Converged to LP: -246.6:   2%|▏         | 15/1000 [00:00<00:05, 171.86it/s]\n",
      "Converged to LP: -240.2:   2%|▏         | 21/1000 [00:00<00:04, 196.45it/s]\n",
      "LP: -236.2:   2%|▏         | 17/1000 [00:00<00:05, 165.98it/s]"
     ]
    },
    {
     "name": "stdout",
     "output_type": "stream",
     "text": [
      "Fitting session 3...\n",
      "Fitting 2 states...\n"
     ]
    },
    {
     "name": "stderr",
     "output_type": "stream",
     "text": [
      "Converged to LP: -232.2:   3%|▎         | 31/1000 [00:00<00:04, 196.36it/s]\n",
      "Converged to LP: -229.6:   6%|▋         | 64/1000 [00:00<00:05, 180.41it/s]\n",
      "Converged to LP: -259.0:   1%|          | 10/1000 [00:00<00:08, 116.41it/s]\n",
      "Converged to LP: -273.1:   2%|▏         | 17/1000 [00:00<00:06, 157.32it/s]\n",
      "LP: -262.6:   1%|▏         | 14/1000 [00:00<00:07, 135.70it/s]"
     ]
    },
    {
     "name": "stdout",
     "output_type": "stream",
     "text": [
      "Fitting 3 states...\n"
     ]
    },
    {
     "name": "stderr",
     "output_type": "stream",
     "text": [
      "Converged to LP: -263.7:   2%|▏         | 22/1000 [00:00<00:08, 116.39it/s]\n",
      "Converged to LP: -262.5:   4%|▍         | 38/1000 [00:00<00:05, 168.35it/s]\n",
      "Converged to LP: -277.3:   4%|▎         | 36/1000 [00:00<00:06, 145.66it/s]\n",
      "LP: -315.1:   1%|          | 12/1000 [00:00<00:08, 118.97it/s]"
     ]
    },
    {
     "name": "stdout",
     "output_type": "stream",
     "text": [
      "Fitting 4 states...\n"
     ]
    },
    {
     "name": "stderr",
     "output_type": "stream",
     "text": [
      "Converged to LP: -305.0:   5%|▌         | 51/1000 [00:00<00:07, 132.34it/s]\n",
      "Converged to LP: -288.9:   5%|▌         | 53/1000 [00:00<00:07, 133.41it/s]\n",
      "Converged to LP: -305.4:   5%|▍         | 46/1000 [00:00<00:09, 103.98it/s]\n",
      "Converged to LP: -306.8:   6%|▋         | 63/1000 [00:00<00:06, 137.13it/s]\n",
      "Converged to LP: -290.3:   9%|▉         | 89/1000 [00:00<00:06, 138.81it/s]\n",
      "LP: -336.2:   0%|          | 0/1000 [00:00<?, ?it/s]"
     ]
    },
    {
     "name": "stdout",
     "output_type": "stream",
     "text": [
      "Fitting 5 states...\n"
     ]
    },
    {
     "name": "stderr",
     "output_type": "stream",
     "text": [
      "Converged to LP: -344.1:   2%|▏         | 22/1000 [00:00<00:10, 89.17it/s]\n",
      "Converged to LP: -332.4:   3%|▎         | 30/1000 [00:00<00:08, 110.96it/s]\n",
      "Converged to LP: -336.6:   3%|▎         | 34/1000 [00:00<00:10, 94.61it/s]\n",
      "Converged to LP: -350.8:  10%|▉         | 98/1000 [00:00<00:06, 139.11it/s]\n",
      "Converged to LP: -331.9:  15%|█▍        | 149/1000 [00:01<00:06, 125.65it/s]\n",
      "Converged to LP: -275.1:   2%|▏         | 19/1000 [00:00<00:04, 202.89it/s]\n",
      "LP: -273.9:   0%|          | 0/1000 [00:00<?, ?it/s]"
     ]
    },
    {
     "name": "stdout",
     "output_type": "stream",
     "text": [
      "Fitting session 4...\n",
      "Fitting 2 states...\n"
     ]
    },
    {
     "name": "stderr",
     "output_type": "stream",
     "text": [
      "Converged to LP: -275.1:   2%|▏         | 18/1000 [00:00<00:04, 196.53it/s]\n",
      "Converged to LP: -272.7:   3%|▎         | 28/1000 [00:00<00:04, 195.47it/s]\n",
      "Converged to LP: -288.0:   3%|▎         | 27/1000 [00:00<00:05, 180.89it/s]\n",
      "Converged to LP: -278.4:   6%|▌         | 59/1000 [00:00<00:04, 203.33it/s]\n"
     ]
    },
    {
     "name": "stdout",
     "output_type": "stream",
     "text": [
      "Fitting 3 states...\n"
     ]
    },
    {
     "name": "stderr",
     "output_type": "stream",
     "text": [
      "Converged to LP: -303.9:   4%|▎         | 36/1000 [00:00<00:05, 163.31it/s]\n",
      "Converged to LP: -306.2:   4%|▍         | 43/1000 [00:00<00:05, 188.72it/s]\n",
      "Converged to LP: -316.3:   4%|▎         | 35/1000 [00:00<00:07, 135.80it/s]\n",
      "Converged to LP: -304.5:   6%|▌         | 58/1000 [00:00<00:05, 177.22it/s]\n",
      "Converged to LP: -299.1:   6%|▌         | 62/1000 [00:00<00:05, 165.30it/s]\n",
      "LP: -379.4:   0%|          | 0/1000 [00:00<?, ?it/s]"
     ]
    },
    {
     "name": "stdout",
     "output_type": "stream",
     "text": [
      "Fitting 4 states...\n"
     ]
    },
    {
     "name": "stderr",
     "output_type": "stream",
     "text": [
      "Converged to LP: -336.6:   2%|▏         | 16/1000 [00:00<00:07, 124.20it/s]\n",
      "Converged to LP: -336.2:   2%|▏         | 24/1000 [00:00<00:07, 129.00it/s]\n",
      "Converged to LP: -343.6:   3%|▎         | 34/1000 [00:00<00:07, 131.81it/s]\n",
      "Converged to LP: -330.5:   4%|▎         | 35/1000 [00:00<00:10, 92.55it/s]\n",
      "Converged to LP: -341.7:  10%|█         | 102/1000 [00:00<00:06, 149.51it/s]\n",
      "LP: -376.0:   1%|          | 7/1000 [00:00<00:16, 61.61it/s]]"
     ]
    },
    {
     "name": "stdout",
     "output_type": "stream",
     "text": [
      "Fitting 5 states...\n"
     ]
    },
    {
     "name": "stderr",
     "output_type": "stream",
     "text": [
      "Converged to LP: -362.7:   5%|▌         | 51/1000 [00:00<00:07, 128.49it/s]\n",
      "Converged to LP: -372.2:   6%|▌         | 56/1000 [00:00<00:08, 114.18it/s]\n",
      "Converged to LP: -360.9:   8%|▊         | 83/1000 [00:00<00:06, 135.46it/s]\n",
      "Converged to LP: -374.0:   8%|▊         | 82/1000 [00:00<00:07, 123.32it/s]\n",
      "Converged to LP: -370.7:   7%|▋         | 67/1000 [00:00<00:10, 90.89it/s]\n",
      "Converged to LP: -303.8:   2%|▏         | 20/1000 [00:00<00:05, 180.29it/s]\n",
      "Converged to LP: -307.8:   2%|▏         | 24/1000 [00:00<00:05, 193.68it/s]\n",
      "Converged to LP: -301.5:   3%|▎         | 26/1000 [00:00<00:06, 158.49it/s]\n",
      "LP: -302.4:   2%|▏         | 22/1000 [00:00<00:04, 209.46it/s]"
     ]
    },
    {
     "name": "stdout",
     "output_type": "stream",
     "text": [
      "Fitting session 5...\n",
      "Fitting 2 states...\n"
     ]
    },
    {
     "name": "stderr",
     "output_type": "stream",
     "text": [
      "Converged to LP: -301.6:   6%|▌         | 59/1000 [00:00<00:04, 221.59it/s]\n",
      "Converged to LP: -303.0:   6%|▋         | 63/1000 [00:00<00:04, 209.93it/s]\n",
      "LP: -339.5:   0%|          | 0/1000 [00:00<?, ?it/s]"
     ]
    },
    {
     "name": "stdout",
     "output_type": "stream",
     "text": [
      "Fitting 3 states...\n"
     ]
    },
    {
     "name": "stderr",
     "output_type": "stream",
     "text": [
      "Converged to LP: -332.9:   2%|▏         | 18/1000 [00:00<00:05, 168.89it/s]\n",
      "Converged to LP: -338.3:   2%|▎         | 25/1000 [00:00<00:06, 154.68it/s]\n",
      "Converged to LP: -333.8:   2%|▏         | 23/1000 [00:00<00:07, 136.05it/s]\n",
      "Converged to LP: -330.7:   6%|▋         | 64/1000 [00:00<00:05, 171.09it/s]\n",
      "Converged to LP: -334.2:   7%|▋         | 72/1000 [00:00<00:07, 116.12it/s]\n",
      "LP: -375.8:   0%|          | 0/1000 [00:00<?, ?it/s]"
     ]
    },
    {
     "name": "stdout",
     "output_type": "stream",
     "text": [
      "Fitting 4 states...\n"
     ]
    },
    {
     "name": "stderr",
     "output_type": "stream",
     "text": [
      "Converged to LP: -366.3:   3%|▎         | 29/1000 [00:00<00:07, 130.06it/s]\n",
      "Converged to LP: -371.1:   5%|▍         | 46/1000 [00:00<00:06, 138.87it/s]\n",
      "Converged to LP: -368.1:   5%|▍         | 46/1000 [00:00<00:09, 102.54it/s]\n",
      "Converged to LP: -366.3:   5%|▌         | 52/1000 [00:00<00:08, 107.71it/s]\n",
      "Converged to LP: -358.8:  17%|█▋        | 170/1000 [00:01<00:05, 143.32it/s]\n",
      "LP: -412.4:   0%|          | 0/1000 [00:00<?, ?it/s]"
     ]
    },
    {
     "name": "stdout",
     "output_type": "stream",
     "text": [
      "Fitting 5 states...\n"
     ]
    },
    {
     "name": "stderr",
     "output_type": "stream",
     "text": [
      "Converged to LP: -409.2:   4%|▍         | 39/1000 [00:00<00:09, 97.70it/s]\n",
      "Converged to LP: -396.4:   5%|▌         | 50/1000 [00:00<00:08, 110.74it/s]\n",
      "Converged to LP: -404.5:  11%|█         | 112/1000 [00:00<00:06, 129.53it/s]\n",
      "Converged to LP: -400.4:  12%|█▏        | 121/1000 [00:00<00:07, 122.40it/s]\n",
      "Converged to LP: -395.4:  29%|██▊       | 287/1000 [00:01<00:04, 144.64it/s]\n",
      "Converged to LP: -280.1:   2%|▏         | 18/1000 [00:00<00:04, 196.82it/s]\n",
      "LP: -285.4:   0%|          | 0/1000 [00:00<?, ?it/s]"
     ]
    },
    {
     "name": "stdout",
     "output_type": "stream",
     "text": [
      "Fitting session 6...\n",
      "Fitting 2 states...\n"
     ]
    },
    {
     "name": "stderr",
     "output_type": "stream",
     "text": [
      "Converged to LP: -279.7:   3%|▎         | 30/1000 [00:00<00:04, 220.43it/s]\n",
      "Converged to LP: -280.4:   8%|▊         | 78/1000 [00:00<00:04, 221.28it/s]\n",
      "Converged to LP: -281.6:  15%|█▍        | 149/1000 [00:00<00:04, 212.31it/s]\n",
      "Converged to LP: -281.2:  15%|█▌        | 150/1000 [00:00<00:03, 214.14it/s]\n",
      "LP: -307.8:   1%|▏         | 14/1000 [00:00<00:07, 133.11it/s]"
     ]
    },
    {
     "name": "stdout",
     "output_type": "stream",
     "text": [
      "Fitting 3 states...\n"
     ]
    },
    {
     "name": "stderr",
     "output_type": "stream",
     "text": [
      "Converged to LP: -307.8:   3%|▎         | 34/1000 [00:00<00:05, 162.18it/s]\n",
      "Converged to LP: -304.9:   9%|▉         | 89/1000 [00:00<00:05, 181.08it/s]\n",
      "Converged to LP: -309.1:   7%|▋         | 71/1000 [00:00<00:06, 134.02it/s]\n",
      "Converged to LP: -305.7:  10%|█         | 101/1000 [00:00<00:05, 159.14it/s]\n",
      "Converged to LP: -306.1:  10%|█         | 102/1000 [00:00<00:05, 155.10it/s]\n",
      "LP: -353.0:   1%|▏         | 13/1000 [00:00<00:08, 121.51it/s]"
     ]
    },
    {
     "name": "stdout",
     "output_type": "stream",
     "text": [
      "Fitting 4 states...\n"
     ]
    },
    {
     "name": "stderr",
     "output_type": "stream",
     "text": [
      "Converged to LP: -343.2:   2%|▏         | 17/1000 [00:00<00:09, 103.37it/s]\n",
      "Converged to LP: -348.4:   7%|▋         | 66/1000 [00:00<00:06, 149.48it/s]\n",
      "Converged to LP: -338.0:   8%|▊         | 85/1000 [00:00<00:06, 134.00it/s]\n",
      "Converged to LP: -338.9:  11%|█         | 107/1000 [00:00<00:05, 151.15it/s]\n",
      "Converged to LP: -347.9:  20%|█▉        | 198/1000 [00:01<00:04, 161.09it/s]\n",
      "LP: -386.0:   0%|          | 0/1000 [00:00<?, ?it/s]"
     ]
    },
    {
     "name": "stdout",
     "output_type": "stream",
     "text": [
      "Fitting 5 states...\n"
     ]
    },
    {
     "name": "stderr",
     "output_type": "stream",
     "text": [
      "Converged to LP: -383.2:   4%|▍         | 45/1000 [00:00<00:07, 127.31it/s]\n",
      "Converged to LP: -378.5:   4%|▍         | 42/1000 [00:00<00:08, 117.31it/s]\n",
      "Converged to LP: -384.3:   5%|▍         | 49/1000 [00:00<00:07, 131.67it/s]\n",
      "Converged to LP: -387.3:   9%|▉         | 93/1000 [00:00<00:06, 141.52it/s]\n",
      "Converged to LP: -374.2:  17%|█▋        | 174/1000 [00:01<00:05, 138.75it/s]\n",
      "LP: -268.9:   0%|          | 0/1000 [00:00<?, ?it/s]"
     ]
    },
    {
     "name": "stdout",
     "output_type": "stream",
     "text": [
      "Fitting session 7...\n",
      "Fitting 2 states...\n"
     ]
    },
    {
     "name": "stderr",
     "output_type": "stream",
     "text": [
      "Converged to LP: -284.1:   1%|          | 9/1000 [00:00<00:04, 200.26it/s]\n",
      "Converged to LP: -278.9:   1%|▏         | 14/1000 [00:00<00:04, 237.70it/s]\n",
      "Converged to LP: -267.6:   2%|▏         | 24/1000 [00:00<00:04, 212.54it/s]\n",
      "Converged to LP: -273.8:   3%|▎         | 31/1000 [00:00<00:04, 214.90it/s]\n",
      "Converged to LP: -279.3:   5%|▍         | 49/1000 [00:00<00:04, 235.71it/s]\n",
      "LP: -321.3:   0%|          | 0/1000 [00:00<?, ?it/s]"
     ]
    },
    {
     "name": "stdout",
     "output_type": "stream",
     "text": [
      "Fitting 3 states...\n",
      "Fitting 4 states...\n"
     ]
    },
    {
     "name": "stderr",
     "output_type": "stream",
     "text": [
      "Converged to LP: -301.4:   1%|▏         | 14/1000 [00:00<00:06, 143.07it/s]\n",
      "Converged to LP: -300.5:   2%|▏         | 18/1000 [00:00<00:06, 156.61it/s]\n",
      "Converged to LP: -306.5:   2%|▏         | 21/1000 [00:00<00:06, 161.49it/s]\n",
      "Converged to LP: -299.8:   2%|▎         | 25/1000 [00:00<00:05, 179.00it/s]\n",
      "Converged to LP: -312.8:   3%|▎         | 31/1000 [00:00<00:05, 176.92it/s]\n",
      "Converged to LP: -331.9:   4%|▎         | 37/1000 [00:00<00:06, 141.28it/s]\n",
      "Converged to LP: -333.5:   4%|▍         | 42/1000 [00:00<00:07, 136.28it/s]\n",
      "Converged to LP: -342.8:   6%|▋         | 64/1000 [00:00<00:06, 144.82it/s]\n",
      "Converged to LP: -337.7:   6%|▌         | 62/1000 [00:00<00:08, 110.87it/s]\n",
      "Converged to LP: -335.1:   7%|▋         | 66/1000 [00:00<00:08, 115.54it/s]\n",
      "LP: -380.0:   0%|          | 0/1000 [00:00<?, ?it/s]"
     ]
    },
    {
     "name": "stdout",
     "output_type": "stream",
     "text": [
      "Fitting 5 states...\n"
     ]
    },
    {
     "name": "stderr",
     "output_type": "stream",
     "text": [
      "Converged to LP: -368.0:   4%|▎         | 36/1000 [00:00<00:09, 103.44it/s]\n",
      "Converged to LP: -374.3:  10%|█         | 103/1000 [00:00<00:07, 122.85it/s]\n",
      "Converged to LP: -380.8:  13%|█▎        | 127/1000 [00:01<00:08, 105.28it/s]\n",
      "Converged to LP: -368.9:  18%|█▊        | 178/1000 [00:01<00:06, 133.48it/s]\n",
      "Converged to LP: -362.5:  22%|██▏       | 221/1000 [00:01<00:06, 122.44it/s]\n",
      "LP: -303.8:   0%|          | 0/1000 [00:00<?, ?it/s]"
     ]
    },
    {
     "name": "stdout",
     "output_type": "stream",
     "text": [
      "Fitting session 8...\n",
      "Fitting 2 states...\n"
     ]
    },
    {
     "name": "stderr",
     "output_type": "stream",
     "text": [
      "Converged to LP: -303.8:   1%|          | 10/1000 [00:00<00:06, 161.87it/s]\n",
      "Converged to LP: -292.4:   1%|          | 10/1000 [00:00<00:10, 95.40it/s]\n",
      "Converged to LP: -304.1:   2%|▏         | 15/1000 [00:00<00:09, 104.56it/s]\n",
      "Converged to LP: -287.4:   2%|▏         | 23/1000 [00:00<00:09, 101.17it/s]\n",
      "Converged to LP: -302.3:   9%|▉         | 90/1000 [00:00<00:05, 169.33it/s]\n",
      "LP: -334.2:   0%|          | 0/1000 [00:00<?, ?it/s]"
     ]
    },
    {
     "name": "stdout",
     "output_type": "stream",
     "text": [
      "Fitting 3 states...\n"
     ]
    },
    {
     "name": "stderr",
     "output_type": "stream",
     "text": [
      "Converged to LP: -332.0:   4%|▎         | 35/1000 [00:00<00:09, 103.18it/s]\n",
      "Converged to LP: -326.5:   5%|▍         | 46/1000 [00:00<00:07, 131.13it/s]\n",
      "Converged to LP: -335.4:   7%|▋         | 66/1000 [00:00<00:06, 142.88it/s]\n",
      "Converged to LP: -334.7:   7%|▋         | 66/1000 [00:00<00:08, 112.26it/s]\n",
      "Converged to LP: -318.6:  10%|▉         | 96/1000 [00:00<00:06, 129.42it/s]\n",
      "LP: -381.3:   1%|▏         | 13/1000 [00:00<00:07, 129.94it/s]"
     ]
    },
    {
     "name": "stdout",
     "output_type": "stream",
     "text": [
      "Fitting 4 states...\n"
     ]
    },
    {
     "name": "stderr",
     "output_type": "stream",
     "text": [
      "Converged to LP: -381.3:   2%|▏         | 24/1000 [00:00<00:06, 149.65it/s]\n",
      "Converged to LP: -374.5:   2%|▏         | 23/1000 [00:00<00:06, 150.71it/s]\n",
      "Converged to LP: -366.6:   2%|▏         | 24/1000 [00:00<00:07, 124.34it/s]\n",
      "Converged to LP: -357.8:   3%|▎         | 26/1000 [00:00<00:09, 107.19it/s]\n",
      "Converged to LP: -362.7:   3%|▎         | 26/1000 [00:00<00:09, 105.19it/s]\n",
      "LP: -391.2:   0%|          | 0/1000 [00:00<?, ?it/s]"
     ]
    },
    {
     "name": "stdout",
     "output_type": "stream",
     "text": [
      "Fitting 5 states...\n"
     ]
    },
    {
     "name": "stderr",
     "output_type": "stream",
     "text": [
      "Converged to LP: -390.9:   3%|▎         | 31/1000 [00:00<00:07, 124.39it/s]\n",
      "Converged to LP: -392.7:   3%|▎         | 29/1000 [00:00<00:08, 108.32it/s]\n",
      "Converged to LP: -395.8:   3%|▎         | 29/1000 [00:00<00:09, 104.63it/s]\n",
      "Converged to LP: -401.9:   5%|▍         | 46/1000 [00:00<00:07, 122.62it/s]\n",
      "Converged to LP: -407.6:   9%|▉         | 91/1000 [00:00<00:06, 138.78it/s]\n",
      "LP: -252.1:   0%|          | 0/1000 [00:00<?, ?it/s]"
     ]
    },
    {
     "name": "stdout",
     "output_type": "stream",
     "text": [
      "Fitting session 9...\n",
      "Fitting 2 states...\n"
     ]
    },
    {
     "name": "stderr",
     "output_type": "stream",
     "text": [
      "Converged to LP: -241.7:   1%|          | 8/1000 [00:00<00:05, 195.27it/s]\n",
      "Converged to LP: -252.1:   1%|          | 7/1000 [00:00<00:05, 185.08it/s]\n",
      "Converged to LP: -281.0:   1%|          | 12/1000 [00:00<00:04, 236.40it/s]\n",
      "Converged to LP: -255.9:   2%|▏         | 17/1000 [00:00<00:03, 281.21it/s]\n",
      "Converged to LP: -243.6:   4%|▍         | 44/1000 [00:00<00:06, 153.58it/s]\n",
      "Converged to LP: -295.3:   2%|▏         | 15/1000 [00:00<00:06, 151.11it/s]\n",
      "Converged to LP: -280.9:   2%|▏         | 24/1000 [00:00<00:05, 193.52it/s]\n",
      "LP: -273.2:   2%|▏         | 17/1000 [00:00<00:05, 169.92it/s]"
     ]
    },
    {
     "name": "stdout",
     "output_type": "stream",
     "text": [
      "Fitting 3 states...\n"
     ]
    },
    {
     "name": "stderr",
     "output_type": "stream",
     "text": [
      "Converged to LP: -281.4:   2%|▏         | 24/1000 [00:00<00:06, 161.17it/s]\n",
      "Converged to LP: -272.1:   3%|▎         | 33/1000 [00:00<00:05, 165.39it/s]\n",
      "Converged to LP: -278.9:   6%|▋         | 65/1000 [00:00<00:07, 131.34it/s]\n",
      "LP: -329.9:   0%|          | 0/1000 [00:00<?, ?it/s]"
     ]
    },
    {
     "name": "stdout",
     "output_type": "stream",
     "text": [
      "Fitting 4 states...\n"
     ]
    },
    {
     "name": "stderr",
     "output_type": "stream",
     "text": [
      "Converged to LP: -310.3:   2%|▏         | 24/1000 [00:00<00:06, 142.08it/s]\n",
      "Converged to LP: -325.2:   3%|▎         | 29/1000 [00:00<00:06, 147.87it/s]\n",
      "Converged to LP: -306.0:   2%|▏         | 22/1000 [00:00<00:08, 111.99it/s]\n",
      "Converged to LP: -305.3:   4%|▍         | 38/1000 [00:00<00:07, 129.22it/s]\n",
      "Converged to LP: -319.6:   3%|▎         | 34/1000 [00:00<00:08, 113.55it/s]\n",
      "LP: -360.4:   1%|          | 9/1000 [00:00<00:11, 84.63it/s]s]"
     ]
    },
    {
     "name": "stdout",
     "output_type": "stream",
     "text": [
      "Fitting 5 states...\n"
     ]
    },
    {
     "name": "stderr",
     "output_type": "stream",
     "text": [
      "Converged to LP: -368.7:   4%|▍         | 42/1000 [00:00<00:07, 132.17it/s]\n",
      "Converged to LP: -345.8:   5%|▍         | 46/1000 [00:00<00:07, 120.83it/s]\n",
      "Converged to LP: -351.5:   7%|▋         | 71/1000 [00:00<00:06, 147.37it/s]\n",
      "Converged to LP: -356.1:   6%|▌         | 59/1000 [00:00<00:07, 121.99it/s]\n",
      "Converged to LP: -339.9:   7%|▋         | 69/1000 [00:00<00:07, 128.38it/s]\n"
     ]
    },
    {
     "name": "stdout",
     "output_type": "stream",
     "text": [
      "Fitting session 10...\n",
      "Fitting 2 states...\n"
     ]
    },
    {
     "name": "stderr",
     "output_type": "stream",
     "text": [
      "Converged to LP: -294.6:   1%|▏         | 14/1000 [00:00<00:05, 181.87it/s]\n",
      "Converged to LP: -308.2:   2%|▏         | 19/1000 [00:00<00:04, 221.61it/s]\n",
      "Converged to LP: -300.5:   2%|▏         | 19/1000 [00:00<00:04, 208.91it/s]\n",
      "Converged to LP: -292.3:   2%|▏         | 19/1000 [00:00<00:05, 183.78it/s]\n",
      "Converged to LP: -284.8:   6%|▌         | 57/1000 [00:00<00:04, 235.55it/s]\n",
      "LP: -325.0:   1%|          | 11/1000 [00:00<00:09, 107.34it/s]"
     ]
    },
    {
     "name": "stdout",
     "output_type": "stream",
     "text": [
      "Fitting 3 states...\n"
     ]
    },
    {
     "name": "stderr",
     "output_type": "stream",
     "text": [
      "Converged to LP: -340.8:   3%|▎         | 28/1000 [00:00<00:06, 152.82it/s]\n",
      "Converged to LP: -336.7:   3%|▎         | 32/1000 [00:00<00:05, 169.37it/s]\n",
      "Converged to LP: -324.6:   2%|▏         | 21/1000 [00:00<00:08, 112.82it/s]\n",
      "Converged to LP: -321.8:   4%|▍         | 41/1000 [00:00<00:05, 185.78it/s]\n",
      "Converged to LP: -324.0:  15%|█▌        | 152/1000 [00:00<00:04, 178.18it/s]\n",
      "LP: -362.3:   0%|          | 0/1000 [00:00<?, ?it/s]"
     ]
    },
    {
     "name": "stdout",
     "output_type": "stream",
     "text": [
      "Fitting 4 states...\n"
     ]
    },
    {
     "name": "stderr",
     "output_type": "stream",
     "text": [
      "Converged to LP: -358.9:   3%|▎         | 29/1000 [00:00<00:08, 109.86it/s]\n",
      "Converged to LP: -365.6:   4%|▎         | 36/1000 [00:00<00:07, 129.14it/s]\n",
      "Converged to LP: -361.9:   9%|▉         | 94/1000 [00:00<00:05, 152.90it/s]\n",
      "Converged to LP: -369.7:  18%|█▊        | 178/1000 [00:01<00:05, 137.22it/s]\n",
      "Converged to LP: -374.0:  21%|██▏       | 214/1000 [00:01<00:05, 147.35it/s]\n",
      "LP: -415.1:   0%|          | 0/1000 [00:00<?, ?it/s]"
     ]
    },
    {
     "name": "stdout",
     "output_type": "stream",
     "text": [
      "Fitting 5 states...\n"
     ]
    },
    {
     "name": "stderr",
     "output_type": "stream",
     "text": [
      "Converged to LP: -398.2:   7%|▋         | 73/1000 [00:00<00:06, 137.98it/s]\n",
      "Converged to LP: -411.5:  10%|▉         | 95/1000 [00:00<00:06, 129.94it/s]\n",
      "Converged to LP: -404.1:  11%|█         | 110/1000 [00:00<00:06, 127.27it/s]\n",
      "Converged to LP: -385.8:  14%|█▎        | 135/1000 [00:01<00:06, 127.54it/s]\n",
      "Converged to LP: -400.6:  48%|████▊     | 477/1000 [00:03<00:03, 140.11it/s]\n",
      "Converged to LP: -337.7:   1%|          | 8/1000 [00:00<00:05, 184.83it/s]\n",
      "Converged to LP: -336.1:   1%|          | 12/1000 [00:00<00:05, 190.88it/s]\n",
      "Converged to LP: -338.5:   1%|          | 11/1000 [00:00<00:06, 154.32it/s]\n",
      "Converged to LP: -346.6:   1%|          | 12/1000 [00:00<00:05, 184.98it/s]\n",
      "LP: -337.1:   0%|          | 0/1000 [00:00<?, ?it/s]"
     ]
    },
    {
     "name": "stdout",
     "output_type": "stream",
     "text": [
      "Fitting session 11...\n",
      "Fitting 2 states...\n",
      "Fitting 3 states...\n"
     ]
    },
    {
     "name": "stderr",
     "output_type": "stream",
     "text": [
      "Converged to LP: -337.1:   2%|▏         | 18/1000 [00:00<00:04, 205.02it/s]\n",
      "Converged to LP: -365.2:   2%|▏         | 15/1000 [00:00<00:07, 138.05it/s]\n",
      "Converged to LP: -363.8:   2%|▏         | 16/1000 [00:00<00:07, 140.38it/s]\n",
      "Converged to LP: -363.7:   2%|▏         | 17/1000 [00:00<00:06, 141.72it/s]\n",
      "Converged to LP: -377.9:   1%|▏         | 14/1000 [00:00<00:09, 106.30it/s]\n",
      "Converged to LP: -359.2:  11%|█         | 111/1000 [00:00<00:05, 165.98it/s]\n",
      "LP: -408.8:   1%|          | 10/1000 [00:00<00:10, 94.77it/s]]"
     ]
    },
    {
     "name": "stdout",
     "output_type": "stream",
     "text": [
      "Fitting 4 states...\n"
     ]
    },
    {
     "name": "stderr",
     "output_type": "stream",
     "text": [
      "Converged to LP: -397.6:   1%|▏         | 13/1000 [00:00<00:09, 100.63it/s]\n",
      "Converged to LP: -407.7:   2%|▏         | 22/1000 [00:00<00:08, 118.40it/s]\n",
      "Converged to LP: -404.3:   5%|▍         | 47/1000 [00:00<00:07, 135.64it/s]\n",
      "Converged to LP: -404.4:   6%|▋         | 65/1000 [00:00<00:07, 120.86it/s]\n",
      "Converged to LP: -389.2:   9%|▉         | 90/1000 [00:00<00:06, 133.64it/s]\n",
      "LP: -447.5:   0%|          | 0/1000 [00:00<?, ?it/s]"
     ]
    },
    {
     "name": "stdout",
     "output_type": "stream",
     "text": [
      "Fitting 5 states...\n"
     ]
    },
    {
     "name": "stderr",
     "output_type": "stream",
     "text": [
      "Converged to LP: -438.4:   6%|▌         | 60/1000 [00:00<00:08, 116.04it/s]\n",
      "Converged to LP: -426.0:   7%|▋         | 73/1000 [00:00<00:07, 117.50it/s]\n",
      "Converged to LP: -443.1:   9%|▉         | 94/1000 [00:00<00:07, 127.43it/s]\n",
      "Converged to LP: -427.1:  12%|█▏        | 119/1000 [00:00<00:06, 131.70it/s]\n",
      "Converged to LP: -420.8:  18%|█▊        | 175/1000 [00:01<00:06, 122.98it/s]\n",
      "LP: -320.3:   0%|          | 0/1000 [00:00<?, ?it/s]"
     ]
    },
    {
     "name": "stdout",
     "output_type": "stream",
     "text": [
      "Fitting session 12...\n",
      "Fitting 2 states...\n",
      "Fitting 3 states...\n"
     ]
    },
    {
     "name": "stderr",
     "output_type": "stream",
     "text": [
      "Converged to LP: -316.1:   1%|          | 9/1000 [00:00<00:05, 176.44it/s]\n",
      "Converged to LP: -326.7:   1%|▏         | 14/1000 [00:00<00:03, 249.99it/s]\n",
      "Converged to LP: -323.7:   1%|          | 11/1000 [00:00<00:05, 195.74it/s]\n",
      "Converged to LP: -315.9:   2%|▏         | 15/1000 [00:00<00:04, 221.97it/s]\n",
      "Converged to LP: -316.9:   2%|▏         | 18/1000 [00:00<00:04, 226.49it/s]\n",
      "Converged to LP: -353.1:   2%|▏         | 21/1000 [00:00<00:05, 171.83it/s]\n",
      "Converged to LP: -353.5:   2%|▏         | 23/1000 [00:00<00:05, 181.09it/s]\n",
      "Converged to LP: -353.7:   3%|▎         | 26/1000 [00:00<00:07, 133.40it/s]\n",
      "Converged to LP: -352.6:   4%|▍         | 41/1000 [00:00<00:05, 161.84it/s]\n",
      "Converged to LP: -359.8:   4%|▍         | 43/1000 [00:00<00:07, 135.81it/s]\n",
      "LP: -404.7:   0%|          | 0/1000 [00:00<?, ?it/s]"
     ]
    },
    {
     "name": "stdout",
     "output_type": "stream",
     "text": [
      "Fitting 4 states...\n"
     ]
    },
    {
     "name": "stderr",
     "output_type": "stream",
     "text": [
      "Converged to LP: -396.3:   2%|▎         | 25/1000 [00:00<00:07, 131.17it/s]\n",
      "Converged to LP: -391.0:   3%|▎         | 26/1000 [00:00<00:07, 135.21it/s]\n",
      "Converged to LP: -384.3:   3%|▎         | 33/1000 [00:00<00:07, 122.71it/s]\n",
      "Converged to LP: -393.3:   7%|▋         | 73/1000 [00:00<00:05, 161.40it/s]\n",
      "Converged to LP: -386.7:   8%|▊         | 76/1000 [00:00<00:06, 139.15it/s]\n",
      "LP: -446.6:   0%|          | 0/1000 [00:00<?, ?it/s]"
     ]
    },
    {
     "name": "stdout",
     "output_type": "stream",
     "text": [
      "Fitting 5 states...\n"
     ]
    },
    {
     "name": "stderr",
     "output_type": "stream",
     "text": [
      "Converged to LP: -417.9:   4%|▍         | 39/1000 [00:00<00:12, 76.41it/s]\n",
      "Converged to LP: -422.9:   8%|▊         | 76/1000 [00:00<00:07, 120.49it/s]\n",
      "Converged to LP: -437.9:  11%|█         | 106/1000 [00:00<00:07, 127.27it/s]\n",
      "Converged to LP: -413.3:  12%|█▎        | 125/1000 [00:01<00:08, 98.78it/s] \n",
      "Converged to LP: -422.8:  18%|█▊        | 176/1000 [00:01<00:07, 106.16it/s]\n",
      "LP: -343.9:   0%|          | 0/1000 [00:00<?, ?it/s]"
     ]
    },
    {
     "name": "stdout",
     "output_type": "stream",
     "text": [
      "Fitting session 13...\n",
      "Fitting 2 states...\n",
      "Fitting 3 states...\n"
     ]
    },
    {
     "name": "stderr",
     "output_type": "stream",
     "text": [
      "Converged to LP: -325.4:   1%|          | 7/1000 [00:00<00:04, 216.67it/s]\n",
      "Converged to LP: -330.3:   1%|          | 7/1000 [00:00<00:04, 217.69it/s]\n",
      "Converged to LP: -329.9:   1%|          | 8/1000 [00:00<00:04, 198.44it/s]\n",
      "Converged to LP: -327.9:   1%|          | 6/1000 [00:00<00:05, 182.59it/s]\n",
      "Converged to LP: -324.7:   1%|          | 8/1000 [00:00<00:04, 218.69it/s]\n",
      "Converged to LP: -357.9:   2%|▏         | 15/1000 [00:00<00:06, 147.18it/s]\n",
      "Converged to LP: -363.4:   2%|▏         | 16/1000 [00:00<00:06, 140.88it/s]\n",
      "Converged to LP: -362.1:   2%|▏         | 18/1000 [00:00<00:06, 140.67it/s]\n",
      "Converged to LP: -365.3:   2%|▏         | 20/1000 [00:00<00:06, 143.19it/s]\n",
      "Converged to LP: -364.4:   4%|▍         | 42/1000 [00:00<00:05, 163.12it/s]\n",
      "LP: -401.4:   0%|          | 0/1000 [00:00<?, ?it/s]"
     ]
    },
    {
     "name": "stdout",
     "output_type": "stream",
     "text": [
      "Fitting 4 states...\n"
     ]
    },
    {
     "name": "stderr",
     "output_type": "stream",
     "text": [
      "Converged to LP: -389.0:   2%|▏         | 18/1000 [00:00<00:08, 117.87it/s]\n",
      "Converged to LP: -398.0:   2%|▏         | 22/1000 [00:00<00:07, 123.14it/s]\n",
      "Converged to LP: -401.8:   3%|▎         | 30/1000 [00:00<00:07, 131.63it/s]\n",
      "Converged to LP: -401.3:   3%|▎         | 33/1000 [00:00<00:06, 140.42it/s]\n",
      "Converged to LP: -399.1:   3%|▎         | 33/1000 [00:00<00:07, 130.73it/s]\n",
      "LP: -444.0:   0%|          | 0/1000 [00:00<?, ?it/s]"
     ]
    },
    {
     "name": "stdout",
     "output_type": "stream",
     "text": [
      "Fitting 5 states...\n"
     ]
    },
    {
     "name": "stderr",
     "output_type": "stream",
     "text": [
      "Converged to LP: -429.7:   2%|▏         | 20/1000 [00:00<00:10, 96.68it/s] \n",
      "Converged to LP: -425.8:   2%|▎         | 25/1000 [00:00<00:09, 98.59it/s]\n",
      "Converged to LP: -430.6:   5%|▍         | 48/1000 [00:00<00:08, 115.34it/s]\n",
      "Converged to LP: -436.0:   6%|▌         | 55/1000 [00:00<00:08, 112.31it/s]\n",
      "Converged to LP: -433.6:   8%|▊         | 80/1000 [00:00<00:07, 128.09it/s]\n",
      "LP: -358.5:   0%|          | 0/1000 [00:00<?, ?it/s]"
     ]
    },
    {
     "name": "stdout",
     "output_type": "stream",
     "text": [
      "Fitting session 14...\n",
      "Fitting 2 states...\n"
     ]
    },
    {
     "name": "stderr",
     "output_type": "stream",
     "text": [
      "Converged to LP: -333.3:   2%|▏         | 19/1000 [00:00<00:05, 183.85it/s]\n",
      "Converged to LP: -332.8:   2%|▏         | 18/1000 [00:00<00:06, 158.64it/s]\n",
      "Converged to LP: -332.7:   2%|▏         | 22/1000 [00:00<00:06, 156.94it/s]\n",
      "Converged to LP: -333.5:   4%|▍         | 44/1000 [00:00<00:05, 186.96it/s]\n",
      "Converged to LP: -338.5:   7%|▋         | 67/1000 [00:00<00:04, 200.49it/s]\n",
      "LP: -367.8:   0%|          | 0/1000 [00:00<?, ?it/s]"
     ]
    },
    {
     "name": "stdout",
     "output_type": "stream",
     "text": [
      "Fitting 3 states...\n"
     ]
    },
    {
     "name": "stderr",
     "output_type": "stream",
     "text": [
      "Converged to LP: -367.4:   2%|▏         | 21/1000 [00:00<00:06, 157.56it/s]\n",
      "Converged to LP: -367.6:   2%|▏         | 19/1000 [00:00<00:07, 123.09it/s]\n",
      "Converged to LP: -367.6:   2%|▏         | 24/1000 [00:00<00:08, 114.37it/s]\n",
      "Converged to LP: -372.2:   4%|▎         | 37/1000 [00:00<00:07, 137.22it/s]\n",
      "Converged to LP: -364.0:   7%|▋         | 68/1000 [00:00<00:06, 152.77it/s]\n",
      "LP: -433.9:   0%|          | 0/1000 [00:00<?, ?it/s]"
     ]
    },
    {
     "name": "stdout",
     "output_type": "stream",
     "text": [
      "Fitting 4 states...\n"
     ]
    },
    {
     "name": "stderr",
     "output_type": "stream",
     "text": [
      "Converged to LP: -400.8:   2%|▏         | 20/1000 [00:00<00:09, 108.58it/s]\n",
      "Converged to LP: -402.1:   2%|▏         | 22/1000 [00:00<00:09, 100.45it/s]\n",
      "Converged to LP: -409.4:   4%|▍         | 40/1000 [00:00<00:07, 129.54it/s]\n",
      "Converged to LP: -403.3:   6%|▌         | 56/1000 [00:00<00:07, 133.17it/s]\n",
      "Converged to LP: -399.0:  12%|█▏        | 117/1000 [00:00<00:05, 147.61it/s]\n",
      "LP: -476.2:   0%|          | 0/1000 [00:00<?, ?it/s]"
     ]
    },
    {
     "name": "stdout",
     "output_type": "stream",
     "text": [
      "Fitting 5 states...\n"
     ]
    },
    {
     "name": "stderr",
     "output_type": "stream",
     "text": [
      "Converged to LP: -433.3:   5%|▍         | 48/1000 [00:00<00:09, 104.30it/s]\n",
      "Converged to LP: -433.6:   6%|▌         | 57/1000 [00:00<00:09, 101.59it/s]\n",
      "Converged to LP: -432.2:   8%|▊         | 75/1000 [00:00<00:08, 107.81it/s]\n",
      "Converged to LP: -445.4:  13%|█▎        | 127/1000 [00:01<00:07, 119.80it/s]\n",
      "Converged to LP: -431.7:  14%|█▍        | 143/1000 [00:01<00:06, 124.56it/s]\n",
      "Converged to LP: -285.3:   1%|          | 8/1000 [00:00<00:05, 180.36it/s]\n",
      "Converged to LP: -286.9:   1%|          | 11/1000 [00:00<00:04, 226.31it/s]\n",
      "Converged to LP: -287.0:   1%|          | 10/1000 [00:00<00:06, 161.55it/s]\n",
      "LP: -290.0:   0%|          | 0/1000 [00:00<?, ?it/s]"
     ]
    },
    {
     "name": "stdout",
     "output_type": "stream",
     "text": [
      "Fitting session 15...\n",
      "Fitting 2 states...\n",
      "Fitting 3 states...\n"
     ]
    },
    {
     "name": "stderr",
     "output_type": "stream",
     "text": [
      "Converged to LP: -282.9:   2%|▏         | 15/1000 [00:00<00:04, 242.25it/s]\n",
      "Converged to LP: -289.4:   3%|▎         | 26/1000 [00:00<00:04, 209.50it/s]\n",
      "Converged to LP: -327.4:   3%|▎         | 31/1000 [00:00<00:04, 195.93it/s]\n",
      "Converged to LP: -312.8:   3%|▎         | 32/1000 [00:00<00:05, 174.72it/s]\n",
      "Converged to LP: -318.0:   5%|▍         | 49/1000 [00:00<00:05, 182.41it/s]\n",
      "Converged to LP: -325.1:  13%|█▎        | 127/1000 [00:00<00:05, 173.88it/s]\n",
      "Converged to LP: -319.8:  29%|██▉       | 291/1000 [00:01<00:03, 187.45it/s]\n",
      "LP: -360.5:   1%|▏         | 13/1000 [00:00<00:07, 125.59it/s]"
     ]
    },
    {
     "name": "stdout",
     "output_type": "stream",
     "text": [
      "Fitting 4 states...\n"
     ]
    },
    {
     "name": "stderr",
     "output_type": "stream",
     "text": [
      "Converged to LP: -348.2:   3%|▎         | 30/1000 [00:00<00:07, 136.97it/s]\n",
      "Converged to LP: -350.8:   4%|▍         | 42/1000 [00:00<00:08, 112.19it/s]\n",
      "Converged to LP: -358.0:   7%|▋         | 69/1000 [00:00<00:06, 153.89it/s]\n",
      "Converged to LP: -355.2:   5%|▌         | 54/1000 [00:00<00:08, 111.87it/s]\n",
      "Converged to LP: -359.3:   7%|▋         | 72/1000 [00:00<00:06, 144.17it/s]\n",
      "LP: -397.0:   0%|          | 0/1000 [00:00<?, ?it/s]"
     ]
    },
    {
     "name": "stdout",
     "output_type": "stream",
     "text": [
      "Fitting 5 states...\n"
     ]
    },
    {
     "name": "stderr",
     "output_type": "stream",
     "text": [
      "Converged to LP: -377.7:   3%|▎         | 33/1000 [00:00<00:09, 107.32it/s]\n",
      "Converged to LP: -393.2:   6%|▌         | 55/1000 [00:00<00:07, 132.19it/s]\n",
      "Converged to LP: -385.0:   9%|▉         | 88/1000 [00:00<00:07, 125.52it/s]\n",
      "Converged to LP: -385.4:  14%|█▍        | 144/1000 [00:01<00:07, 119.80it/s]\n",
      "Converged to LP: -393.2:  17%|█▋        | 169/1000 [00:01<00:07, 116.20it/s]\n"
     ]
    }
   ],
   "source": [
    "# session-wise fitting with 5 fold cross-validation\n",
    "models_session_state_fold_on_med, train_ll_session_on_med, test_ll_session_on_med = session_wise_fit_cv(choices_session_wise, inputs_session_wise, masks=masks_session_wise,\n",
    "                                                                                    n_sessions=len(on_med_sessions), init_params=init_params, n_iters= 1000)"
   ]
  },
  {
   "cell_type": "code",
   "execution_count": 17,
   "metadata": {},
   "outputs": [],
   "source": [
    "on_medication_results = {\n",
    "    'global':{\n",
    "\t\t'inputs': on_med_inputs_aggregate,\n",
    "\t\t'choices': on_med_choices_aggregate,\n",
    "\t\t'masks': on_med_masks_aggregate,\n",
    "\t\t'models': models_glm_hmm_on_med,\n",
    "\t\t'fit_lls': fit_lls_glm_hmm_on_med,\n",
    "\t\t'best_params': init_params\n",
    "\t},\n",
    "\t'session':{\n",
    "\t\t'session_ids': on_med_sessions,\n",
    "        'unnormalized_inputs': unnormalized_on_med_inputs,\n",
    "\t\t'inputs': inputs_session_wise,\n",
    "\t\t'choices': choices_session_wise,\n",
    "\t\t'masks': masks_session_wise,\n",
    "\t\t'reaction_time': reaction_time_session_wise,\n",
    "\t\t'models': models_session_state_fold_on_med,\n",
    "\t\t'train_lls': train_ll_session_on_med,\n",
    "\t\t'test_lls': test_ll_session_on_med\n",
    "\t}\n",
    "}\n",
    "\n",
    "with open(Path(processed_dir, f'glm_hmm_on_meds_result.pkl'), 'wb') as f:\n",
    "    pickle.dump(on_medication_results, f)"
   ]
  },
  {
   "cell_type": "code",
   "execution_count": 18,
   "metadata": {},
   "outputs": [
    {
     "data": {
      "text/plain": [
       "dict_keys(['session_ids', 'unnormalized_inputs', 'inputs', 'choices', 'masks', 'reaction_time', 'models', 'train_lls', 'test_lls'])"
      ]
     },
     "execution_count": 18,
     "metadata": {},
     "output_type": "execute_result"
    }
   ],
   "source": [
    "off_medication_results[\"session\"].keys()\n"
   ]
  },
  {
   "cell_type": "code",
   "execution_count": 19,
   "metadata": {},
   "outputs": [],
   "source": [
    "glm_hmm_results = {\n",
    "    \"off_med_global\": off_medication_results['global'],\n",
    "    \"on_med_global\": on_medication_results['global'],\n",
    "    \"session_wise\": {\n",
    "        \"session_ids\": off_medication_results['session']['session_ids'].tolist() + on_medication_results['session']['session_ids'].tolist(),\n",
    "        \"unnormalized_inputs\": off_medication_results['session']['unnormalized_inputs'] + on_medication_results['session']['unnormalized_inputs'],\n",
    "\t\t\"inputs\": off_medication_results['session']['inputs'] + on_medication_results['session']['inputs'],\n",
    "\t\t\"choices\": off_medication_results['session']['choices'] + on_medication_results['session']['choices'],\n",
    "\t\t\"masks\": off_medication_results['session']['masks'] + on_medication_results['session']['masks'],\n",
    "\t\t\"reaction_time\": off_medication_results['session']['reaction_time'] + on_medication_results['session']['reaction_time'],\n",
    "        \"train_ll\": np.concatenate([off_medication_results['session']['train_lls'], on_medication_results['session']['train_lls']], axis=0),\n",
    "        \"test_ll\": np.concatenate([off_medication_results['session']['test_lls'], on_medication_results['session']['test_lls']], axis=0)\n",
    "    }\n",
    "}\n",
    "\n",
    "glm_hmm_results['session_wise']['models'] = models_session_state_fold_off_med\n",
    "# Shift the keys of on-medication models and merge\n",
    "off_session_len = len(models_session_state_fold_off_med)  # Fix variable name\n",
    "glm_hmm_results['session_wise']['models'].update({\n",
    "    key + off_session_len: value for key, value in models_session_state_fold_on_med.items()\n",
    "})\n",
    "\n",
    "\n",
    "with open(Path(processed_dir, f'glm_hmm_result.pkl'), 'wb') as f:\n",
    "    pickle.dump(glm_hmm_results, f)\n"
   ]
  }
 ],
 "metadata": {
  "kernelspec": {
   "display_name": "Python 3",
   "language": "python",
   "name": "python3"
  },
  "language_info": {
   "codemirror_mode": {
    "name": "ipython",
    "version": 3
   },
   "file_extension": ".py",
   "mimetype": "text/x-python",
   "name": "python",
   "nbconvert_exporter": "python",
   "pygments_lexer": "ipython3",
   "version": "3.10.12"
  }
 },
 "nbformat": 4,
 "nbformat_minor": 2
}
