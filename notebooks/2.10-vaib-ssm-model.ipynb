{
 "cells": [
  {
   "cell_type": "code",
   "execution_count": 1,
   "metadata": {},
   "outputs": [],
   "source": [
    "%matplotlib inline\n",
    "%load_ext autoreload\n",
    "%autoreload 2\n",
    "from notebooks.imports import *"
   ]
  },
  {
   "cell_type": "code",
   "execution_count": 2,
   "metadata": {},
   "outputs": [],
   "source": [
    "import warnings\n",
    "# suppress warnings\n",
    "warnings.filterwarnings(\"ignore\")\n",
    "\n",
    "import seaborn as sns\n",
    "import statsmodels.api as sm\n",
    "import statsmodels.formula.api as smf\n",
    "from scipy import stats\n",
    "import statsmodels.stats.api as sms\n",
    "import ssm\n",
    "from ssm.util import find_permutation\n",
    "from sklearn import preprocessing\n",
    "\n",
    "from src.utils import pmf_utils, plot_utils, glm_hmm_utils\n",
    "\n",
    "\n",
    "import numpy.random as npr\n",
    "npr.seed(0)"
   ]
  },
  {
   "cell_type": "markdown",
   "metadata": {},
   "source": [
    "### Load Config"
   ]
  },
  {
   "cell_type": "code",
   "execution_count": 4,
   "metadata": {},
   "outputs": [],
   "source": [
    "from config import dir_config, main_config\n",
    "\n",
    "raw_dir = Path(dir_config.data.raw)\n",
    "processed_dir = Path(dir_config.data.processed)\n"
   ]
  },
  {
   "cell_type": "markdown",
   "metadata": {},
   "source": [
    "### Utils functions"
   ]
  },
  {
   "cell_type": "code",
   "execution_count": null,
   "metadata": {},
   "outputs": [],
   "source": [
    "def extract_previous_trial_data(trial_data):\n",
    "    target = np.array(trial_data['target'])\n",
    "    prev_target = np.hstack([target[0] , target[:-1]])  # -1:awayRF, 1:toRF of previous valid trial\n",
    "    choice = np.array(trial_data.choice > 0)\n",
    "    prev_choice = np.hstack([choice[0], choice[:-1]])\n",
    "    outcome = np.array(trial_data.outcome.astype(int))\n",
    "    prev_outcome = np.hstack([outcome[0], outcome[:-1]])\n",
    "\n",
    "    prev_valid_idx = np.where(prev_outcome >= 0)[0]\n",
    "    prev_invalid_idx = [] #np.where(prev_outcome == -1)[0]\n",
    "\n",
    "    for i in prev_invalid_idx:\n",
    "        if i < prev_valid_idx[0]: #randomly sample if no previous valid trials\n",
    "            prev_choice[i] = np.random.binomial(1,0.5)\n",
    "            prev_target[i] = np.random.binomial(1,0.5) * 2 - 1\n",
    "        else:\n",
    "            last_valid =  np.where(prev_valid_idx<i)[0][-1]\n",
    "            prev_choice[i] = prev_choice[prev_valid_idx[last_valid]]\n",
    "            prev_target[i] = prev_target[prev_valid_idx[last_valid]]\n",
    "\n",
    "    prev_choice = (prev_choice * 2) - 1 # -1:awayRF, 1:toRF of previous valid trial\n",
    "    return prev_choice.astype(int), prev_target.astype(int)\n",
    "\n",
    "def prepare_input_data(data, input_dim):\n",
    "    X = np.ones((1, data.shape[0], input_dim))\n",
    "\n",
    "    current_stimulus = data.signed_coherence\n",
    "    current_stimulus = current_stimulus / 100\n",
    "    X[0,:,0] = current_stimulus\n",
    "    X[0, :, 1] = data.color\n",
    "    X[0,:,3], X[0,:,4] = extract_previous_trial_data(data)\n",
    "    return list(X)\n",
    "\n",
    "# def process_session_data(data):\n",
    "#     data['target'] = (2*data.target - 1).astype(int)\n",
    "#     data['choice'] = data['choice'].astype(int)\n",
    "#     data['signed_coherence'] = data['coherence'] * data['target']\n",
    "#     data['previous_target'] = data.target.shift(1)\n",
    "#     data.loc[data.index[0], 'previous_target'] = data.target.values[0]\n",
    "#     data['previous_choice'] = data.choice.shift(1)\n",
    "#     data.loc[data.index[0], 'previous_choice'] = data.choice.values[0]\n",
    "\n",
    "#     first_valid = np.where(data.outcome >= 0)[0][0]\n",
    "#     indices_to_change_previous_choice = data[data.previous_choice == -1].index\n",
    "\n",
    "#     for i in indices_to_change_previous_choice:\n",
    "#         if i < first_valid:\n",
    "#             data.loc[data.index[i], 'previous_choice'] = np.random.choice([-1, 1])\n",
    "#             data.loc[data.index[i], 'previous_target'] = np.random.choice([-1, 1])\n",
    "#         else:\n",
    "#             j=0\n",
    "#             while i - j >= 0 and data.at[data.index[i - j], 'previous_choice'] == -1:\n",
    "#                 j+=1\n",
    "#             data.loc[data.index[i], 'previous_choice'] = data.loc[data.index[i-j], 'previous_choice']\n",
    "#             data.loc[data.index[i], 'previous_target'] = data.loc[data.index[i-j], 'previous_target']\n",
    "\n",
    "\n",
    "#     data['previous_choice'].replace(0, -1, inplace=True) # remap previous choice to -1, 1\n",
    "\n",
    "#     return data\n",
    "\n",
    "\n",
    "def plot_model_fit(model, num_states, input_dim):\n",
    "\n",
    "    fix, axs = plt.subplots(2, 2, figsize=(12, 12))\n",
    "    axs = axs.ravel()\n",
    "    plt.subplots_adjust(hspace=0.5)  # Increase space between horizontal rows\n",
    "\n",
    "    cols = ['#ff7f00', '#4daf4a', '#377eb8']\n",
    "    recovered_weights = -model.observations.params\n",
    "    for k in range(num_states):\n",
    "        if k ==0:\n",
    "            axs[1].plot(range(input_dim), recovered_weights[k][0], color=cols[k],\n",
    "                        lw=1.5,  label = \"recovered\", linestyle = '--')\n",
    "        else:\n",
    "            axs[1].plot(range(input_dim), recovered_weights[k][0], color=cols[k],\n",
    "                        lw=1.5,  label = '', linestyle = '--')\n",
    "    axs[1].set_ylabel(\"GLM weight\", fontsize=15)\n",
    "    axs[1].set_xlabel(\"covariate\", fontsize=15)\n",
    "    axs[1].set_xticks([0, 1, 2, 3], ['stimulus', 'previous_choice,', 'previous_stimulus', 'bias'], fontsize=12, rotation=10)\n",
    "    axs[1].axhline(y=0, color=\"k\", alpha=0.5, ls=\"--\")\n",
    "    axs[1].legend(fontsize=12);\n",
    "    axs[1].set_title(\"Weight recovery\", fontsize=15)\n",
    "\n",
    "    recovered_trans_mat = np.exp(model.transitions.log_Ps)\n",
    "    axs[2].imshow(recovered_trans_mat, vmin=-0.8, vmax=1, cmap='bone')\n",
    "    for i in range(recovered_trans_mat.shape[0]):\n",
    "        for j in range(recovered_trans_mat.shape[1]):\n",
    "            text = axs[2].text(j, i, str(np.around(recovered_trans_mat[i, j], decimals=2)), ha=\"center\", va=\"center\",\n",
    "                            color=\"k\", fontsize=12)\n",
    "    axs[2].set_xlim(-0.5, num_states - 0.5)\n",
    "    axs[2].set_xticks(range(0, num_states), ('1', '2', '3'), fontsize=10)\n",
    "    axs[2].set_yticks(range(0, num_states), ('1', '2', '3'), fontsize=10)\n",
    "    axs[2].set_ylim(num_states - 0.5, -0.5)\n",
    "    axs[2].set_title(\"Transition Probability\", fontsize = 20)\n",
    "\n",
    "\n",
    "    posterior_probs = [model.expected_states(data=data, input=input)[0]\n",
    "                    for data, input\n",
    "                    in zip(choices, inputs)]\n",
    "\n",
    "    sess_id = 0 #session id; can choose any index between 0 and num_sess-1\n",
    "    for k in range(num_states):\n",
    "        axs[3].plot(posterior_probs[sess_id][:, k], label=\"State \" + str(k + 1), lw=2,\n",
    "                color=cols[k])\n",
    "    axs[3].set_ylim((-0.01, 1.01))\n",
    "    axs[3].set_yticks([0, 0.5, 1], [0, 0.5, 1], fontsize = 10)\n",
    "    axs[3].set_xlabel(\"trial #\", fontsize = 15)\n",
    "    axs[3].set_ylabel(\"p(state)\", fontsize = 15)\n",
    "    axs[3].set_title(\"State Transition\", fontsize = 20)"
   ]
  },
  {
   "cell_type": "markdown",
   "metadata": {},
   "source": [
    "### Import Data"
   ]
  },
  {
   "cell_type": "code",
   "execution_count": 5,
   "metadata": {},
   "outputs": [],
   "source": [
    "data = pd.read_csv(Path(processed_dir, \"processed_data60accu_allowed.csv\"), index_col=None)\n",
    "processed_metadata = pd.read_csv(Path(processed_dir, \"processed_metadata_60accu_allowed.csv\"), index_col=None)"
   ]
  },
  {
   "cell_type": "markdown",
   "metadata": {},
   "source": [
    "#### Pre-process data"
   ]
  },
  {
   "cell_type": "code",
   "execution_count": null,
   "metadata": {},
   "outputs": [],
   "source": [
    "# exclude the following subjects where categorization score is more than 3\n",
    "reject_subs = processed_metadata.loc[processed_metadata[\"categorization_score\"] > 3]['subject_id']\n",
    "processed_metadata = processed_metadata.loc[~processed_metadata[\"subject_id\"].isin(reject_subs)]\n",
    "\n",
    "# Getting indices of on and off treatment from same subject in processed metadata\n",
    "subject_treatment_idx = pd.DataFrame(columns=['subject', 'off', 'on'])\n",
    "subtype_idx = pd.DataFrame(columns=['subject', 'off', 'on'])\n",
    "\n",
    "for idx, sub in enumerate(processed_metadata['subject_id'].unique()):\n",
    "    sub_df = processed_metadata.loc[processed_metadata['subject_id'] == sub]\n",
    "    subject_treatment_idx.loc[idx] = [sub, sub_df.loc[sub_df['treatment'] == 'OFF'].index[0], sub_df.loc[sub_df['treatment'] == 'ON'].index[0]]\n",
    "\n",
    "    # print(f\"Subject {sub} has {sub_df['categorization_score'].values} categorization_score\")\n",
    "    if np.sum(np.isnan(sub_df['categorization_score'])) == 0:\n",
    "        # put off treatment first column and on treatment second column one row at a time\n",
    "        subtype_idx.loc[idx] = [sub, sub_df.loc[sub_df['treatment'] == 'OFF'].index[0], sub_df.loc[sub_df['treatment'] == 'ON'].index[0]]\n",
    "\n",
    "\n",
    "data[\"filename\"] = None\n",
    "for idx, subject in enumerate(subtype_idx.subject):\n",
    "    off_filename = processed_metadata.file_name[subtype_idx.off[idx]]\n",
    "    on_filename = processed_metadata.file_name[subtype_idx.on[idx]]\n",
    "\n",
    "    data.loc[(data['subject'] == subject) & (data['medication'] == 'off'), 'filename'] = off_filename\n",
    "    data.loc[(data['subject'] == subject) & (data['medication'] == 'on'), 'filename'] = on_filename\n",
    "\n",
    "sessions = processed_metadata.file_name[list(subtype_idx.off) + list(subtype_idx.on)].reset_index(drop=True)"
   ]
  },
  {
   "cell_type": "markdown",
   "metadata": {},
   "source": [
    "### Model Preparation"
   ]
  },
  {
   "cell_type": "code",
   "execution_count": 7,
   "metadata": {},
   "outputs": [],
   "source": [
    "_obs_dim = 1             # number of observed dimensions\n",
    "_num_categories = 2      # number of categories for output\n",
    "_input_dim = 5           # input dimensions"
   ]
  },
  {
   "cell_type": "markdown",
   "metadata": {},
   "source": [
    "### Data Preparation"
   ]
  },
  {
   "cell_type": "code",
   "execution_count": null,
   "metadata": {},
   "outputs": [],
   "source": [
    "inputs_session_wise = []\n",
    "choices_session_wise = []\n",
    "invalid_idx_session_wise = []\n",
    "masks_session_wise = []\n",
    "\n",
    "for session_id in sessions:\n",
    "    trial_data = data[data.filename == session_id].reset_index(drop=True)\n",
    "\n",
    "    inputs_session_wise += prepare_input_data(trial_data, _input_dim)\n",
    "    choices = np.array(trial_data.choice >= 0).reshape(-1,1).astype('int')\n",
    "\n",
    "    # masks_session_wise.append(np.array(choices >= 0))\n",
    "    masks_session_wise.append(np.ones(choices.shape, dtype=int))\n",
    "    invalid_idx = np.array([]) #np.where(choices == -1)[0].reshape(-1,1)\n",
    "    invalid_idx_session_wise.append(invalid_idx)\n",
    "\n",
    "    # for training, replace -1 with random sample from 0,1\n",
    "    choices[choices == -1] = npr.choice(1,invalid_idx.shape[0])\n",
    "\n",
    "    choices_session_wise.append(choices)\n",
    "\n",
    "inputs_aggregated, choices_aggregated, masks_aggregated = [], [], []\n",
    "inputs_aggregated.append(np.vstack(inputs_session_wise))\n",
    "choices_aggregated.append(np.vstack(choices_session_wise))\n",
    "masks_aggregated.append(np.vstack(masks_session_wise))\n",
    "\n",
    "# scaling signed coherence\n",
    "inputs_aggregated[0][:,0] = preprocessing.scale(inputs_aggregated[0][:, 0], axis=0)\n",
    "for idx_session in range(len(sessions)):\n",
    "    inputs_session_wise[idx_session][:,0] = preprocessing.scale(inputs_session_wise[idx_session][:, 0], axis=0)"
   ]
  },
  {
   "cell_type": "code",
   "execution_count": 127,
   "metadata": {},
   "outputs": [
    {
     "name": "stdout",
     "output_type": "stream",
     "text": [
      "Fitting GLM globally...\n"
     ]
    },
    {
     "data": {
      "application/vnd.jupyter.widget-view+json": {
       "model_id": "f36c068fcc2e431c8728eecdbf0e31f4",
       "version_major": 2,
       "version_minor": 0
      },
      "text/plain": [
       "  0%|          | 0/2000 [00:00<?, ?it/s]"
      ]
     },
     "metadata": {},
     "output_type": "display_data"
    },
    {
     "name": "stdout",
     "output_type": "stream",
     "text": [
      "Fitting 2 states...\n"
     ]
    },
    {
     "name": "stderr",
     "output_type": "stream",
     "text": [
      "Converged to LP: -8785.0:   1%|          | 15/2000 [00:04<10:29,  3.15it/s]\n",
      "Converged to LP: -8785.0:   4%|▍         | 78/2000 [00:08<03:17,  9.74it/s]\n",
      "Converged to LP: -8785.0:   4%|▍         | 86/2000 [00:08<03:02, 10.51it/s]\n",
      "Converged to LP: -8785.0:   5%|▍         | 93/2000 [00:08<02:52, 11.05it/s]\n",
      "Converged to LP: -8785.0:   5%|▍         | 91/2000 [00:08<03:02, 10.49it/s]\n",
      "Converged to LP: -8785.0:   4%|▍         | 88/2000 [00:08<03:06, 10.24it/s]\n",
      "Converged to LP: -8785.0:   5%|▍         | 92/2000 [00:08<03:01, 10.50it/s]\n",
      "Converged to LP: -8785.0:   5%|▍         | 99/2000 [00:09<02:57, 10.71it/s]\n",
      "Converged to LP: -8785.0:   6%|▌         | 112/2000 [00:09<02:40, 11.74it/s]\n",
      "Converged to LP: -8785.0:   6%|▌         | 114/2000 [00:09<02:39, 11.82it/s]\n",
      "Converged to LP: -8785.0:   5%|▌         | 107/2000 [00:09<02:51, 11.01it/s]\n",
      "Converged to LP: -8785.0:   6%|▌         | 117/2000 [00:09<02:40, 11.71it/s]\n",
      "Converged to LP: -8785.0:   6%|▌         | 121/2000 [00:09<02:33, 12.21it/s]\n",
      "Converged to LP: -8785.0:   6%|▌         | 113/2000 [00:10<02:49, 11.14it/s]\n",
      "Converged to LP: -8785.0:   6%|▌         | 123/2000 [00:10<02:36, 11.96it/s]\n",
      "Converged to LP: -8785.0:   6%|▌         | 121/2000 [00:10<02:39, 11.78it/s]\n",
      "Converged to LP: -8785.0:   7%|▋         | 135/2000 [00:10<02:26, 12.70it/s]\n",
      "Converged to LP: -8785.0:   8%|▊         | 150/2000 [00:11<02:17, 13.49it/s]\n",
      "Converged to LP: -8785.0:   7%|▋         | 146/2000 [00:11<02:22, 13.02it/s]\n",
      "Converged to LP: -8785.0:  10%|▉         | 197/2000 [00:12<01:58, 15.26it/s]\n"
     ]
    },
    {
     "name": "stdout",
     "output_type": "stream",
     "text": [
      "Fitting 3 states...\n"
     ]
    },
    {
     "name": "stderr",
     "output_type": "stream",
     "text": [
      "Converged to LP: -8667.0:   9%|▉         | 175/2000 [00:11<02:02, 14.88it/s]\n",
      "Converged to LP: -8667.0:   9%|▉         | 187/2000 [00:12<01:59, 15.21it/s]\n",
      "Converged to LP: -8667.0:  11%|█         | 216/2000 [00:14<01:57, 15.17it/s]\n",
      "Converged to LP: -8667.0:  12%|█▏        | 238/2000 [00:16<01:58, 14.86it/s]\n",
      "Converged to LP: -8667.0:  12%|█▏        | 233/2000 [00:16<02:01, 14.52it/s]\n",
      "Converged to LP: -8804.9:  14%|█▍        | 281/2000 [00:17<01:48, 15.82it/s]\n",
      "Converged to LP: -8667.0:  14%|█▍        | 281/2000 [00:19<02:00, 14.29it/s]\n",
      "Converged to LP: -8667.0:  14%|█▍        | 286/2000 [00:19<01:59, 14.35it/s]\n",
      "Converged to LP: -8667.0:  16%|█▌        | 318/2000 [00:20<01:49, 15.42it/s]\n",
      "Converged to LP: -8667.0:  16%|█▌        | 312/2000 [00:21<01:56, 14.48it/s]\n",
      "Converged to LP: -8667.0:  16%|█▌        | 319/2000 [00:21<01:54, 14.72it/s]\n",
      "Converged to LP: -8807.6:  19%|█▊        | 371/2000 [00:21<01:35, 17.03it/s]\n",
      "Converged to LP: -8667.0:  16%|█▌        | 324/2000 [00:21<01:53, 14.80it/s]\n",
      "Converged to LP: -8667.0:  17%|█▋        | 339/2000 [00:23<01:53, 14.67it/s]\n",
      "Converged to LP: -8667.0:  18%|█▊        | 358/2000 [00:23<01:48, 15.12it/s]\n",
      "Converged to LP: -8667.0:  21%|██▏       | 426/2000 [00:26<01:38, 15.90it/s]\n",
      "Converged to LP: -8667.0:  23%|██▎       | 453/2000 [00:27<01:32, 16.73it/s]\n",
      "Converged to LP: -8804.8:  27%|██▋       | 544/2000 [00:28<01:16, 19.15it/s]\n",
      "Converged to LP: -8667.0:  25%|██▌       | 500/2000 [00:29<01:27, 17.07it/s]\n",
      "Converged to LP: -8667.0:  33%|███▎      | 659/2000 [00:35<01:13, 18.32it/s]\n",
      "LP: -9199.8:   0%|          | 0/2000 [00:00<?, ?it/s]"
     ]
    },
    {
     "name": "stdout",
     "output_type": "stream",
     "text": [
      "Fitting 4 states...\n"
     ]
    },
    {
     "name": "stderr",
     "output_type": "stream",
     "text": [
      "Converged to LP: -8698.4:  11%|█▏        | 229/2000 [00:18<02:20, 12.58it/s]\n",
      "Converged to LP: -8618.2:   9%|▉         | 181/2000 [00:18<03:02,  9.98it/s]\n",
      "Converged to LP: -8697.9:  12%|█▏        | 239/2000 [00:19<02:25, 12.14it/s]\n",
      "Converged to LP: -8618.2:  11%|█         | 212/2000 [00:20<02:54, 10.22it/s]\n",
      "Converged to LP: -8618.2:  13%|█▎        | 268/2000 [00:25<02:43, 10.58it/s]\n",
      "Converged to LP: -8694.9:  16%|█▌        | 317/2000 [00:26<02:21, 11.89it/s]\n",
      "Converged to LP: -8618.2:  14%|█▍        | 286/2000 [00:27<02:44, 10.39it/s]\n",
      "Converged to LP: -8618.2:  17%|█▋        | 337/2000 [00:29<02:27, 11.28it/s]\n",
      "Converged to LP: -8618.2:  24%|██▍       | 480/2000 [00:38<02:01, 12.56it/s]\n",
      "Converged to LP: -8692.6:  24%|██▍       | 484/2000 [00:38<02:01, 12.43it/s]\n",
      "Converged to LP: -8681.1:  27%|██▋       | 532/2000 [00:39<01:49, 13.41it/s]\n",
      "Converged to LP: -8618.2:  24%|██▍       | 478/2000 [00:41<02:11, 11.61it/s]\n",
      "Converged to LP: -8618.2:  25%|██▍       | 491/2000 [00:43<02:13, 11.30it/s]\n",
      "Converged to LP: -8634.2:  29%|██▉       | 577/2000 [00:44<01:49, 13.00it/s]\n",
      "Converged to LP: -8618.2:  32%|███▏      | 649/2000 [00:47<01:39, 13.61it/s]\n",
      "Converged to LP: -8618.2:  34%|███▍      | 677/2000 [00:49<01:36, 13.73it/s]\n",
      "Converged to LP: -8634.2:  34%|███▎      | 674/2000 [00:49<01:37, 13.61it/s]\n",
      "Converged to LP: -8833.8:  46%|████▌     | 910/2000 [00:57<01:08, 15.96it/s]\n",
      "Converged to LP: -8681.4:  47%|████▋     | 931/2000 [01:02<01:12, 14.78it/s]\n",
      "Converged to LP: -8618.2:  68%|██████▊   | 1360/2000 [01:26<00:40, 15.75it/s]\n",
      "LP: -9295.2:   0%|          | 1/2000 [00:00<04:34,  7.27it/s]"
     ]
    },
    {
     "name": "stdout",
     "output_type": "stream",
     "text": [
      "Fitting 5 states...\n"
     ]
    },
    {
     "name": "stderr",
     "output_type": "stream",
     "text": [
      "Converged to LP: -9208.5:  10%|▉         | 196/2000 [00:16<02:32, 11.80it/s]\n",
      "Converged to LP: -8717.2:  20%|█▉        | 391/2000 [00:38<02:38, 10.12it/s]\n",
      "Converged to LP: -8647.6:  20%|██        | 406/2000 [00:44<02:53,  9.20it/s]\n",
      "Converged to LP: -8598.9:  20%|██        | 409/2000 [00:45<02:55,  9.06it/s]\n",
      "Converged to LP: -8599.4:  24%|██▍       | 484/2000 [00:48<02:30, 10.08it/s]\n",
      "Converged to LP: -8636.3:  26%|██▌       | 523/2000 [00:53<02:31,  9.74it/s]\n",
      "Converged to LP: -8715.7:  35%|███▍      | 699/2000 [01:05<02:01, 10.67it/s]\n",
      "Converged to LP: -8720.2:  35%|███▍      | 698/2000 [01:05<02:02, 10.64it/s]\n",
      "Converged to LP: -8636.0:  31%|███       | 623/2000 [01:06<02:27,  9.32it/s]\n",
      "Converged to LP: -8638.2:  39%|███▉      | 776/2000 [01:11<01:52, 10.84it/s]\n",
      "Converged to LP: -8645.1:  36%|███▌      | 721/2000 [01:13<02:11,  9.76it/s]\n",
      "Converged to LP: -8639.1:  40%|███▉      | 792/2000 [01:17<01:57, 10.27it/s]\n",
      "Converged to LP: -8598.9:  40%|████      | 806/2000 [01:21<02:00,  9.87it/s]\n",
      "Converged to LP: -8738.0:  48%|████▊     | 957/2000 [01:21<01:29, 11.70it/s]\n",
      "Converged to LP: -8714.2:  51%|█████     | 1024/2000 [01:27<01:23, 11.70it/s]\n",
      "Converged to LP: -8598.9:  49%|████▊     | 973/2000 [01:29<01:34, 10.91it/s]\n",
      "Converged to LP: -8650.1:  51%|█████▏    | 1029/2000 [01:30<01:25, 11.40it/s]\n",
      "Converged to LP: -8650.2:  53%|█████▎    | 1057/2000 [01:31<01:21, 11.50it/s]\n",
      "Converged to LP: -8731.0:  69%|██████▉   | 1388/2000 [01:48<00:47, 12.81it/s]\n",
      "LP: -8649.0: 100%|██████████| 2000/2000 [02:30<00:00, 13.26it/s]\n"
     ]
    }
   ],
   "source": [
    "models_glm_hmm, fit_lls_glm_hmm = glm_hmm_utils.global_fit(observations=choices_aggregated, inputs=inputs_aggregated, masks=masks_aggregated, n_iters=2000, n_initializations=20)"
   ]
  },
  {
   "cell_type": "code",
   "execution_count": 128,
   "metadata": {},
   "outputs": [],
   "source": [
    "global_fits = {\n",
    "    'models': models_glm_hmm,\n",
    "    'fits_lls_glm_hmm': fit_lls_glm_hmm,\n",
    "}\n",
    "\n",
    "with open(Path(processed_dir, 'models_glm_hmm_global.pkl'), 'wb') as f:\n",
    "    pickle.dump(global_fits, f)"
   ]
  },
  {
   "cell_type": "code",
   "execution_count": 132,
   "metadata": {},
   "outputs": [],
   "source": [
    "# get best model of 20 initializations for each state\n",
    "init_params = {\n",
    "    'glm_weights': {},\n",
    "    'transition_matrices': {}\n",
    "}\n",
    "for n_states in np.arange(2,6):\n",
    "    best_idx = np.argmax([np.max(arr) for arr in fit_lls_glm_hmm[n_states]])\n",
    "    init_params['glm_weights'][n_states] = models_glm_hmm[n_states][best_idx].observations.params\n",
    "    init_params['transition_matrices'][n_states] = models_glm_hmm[n_states][best_idx].transitions.params"
   ]
  },
  {
   "cell_type": "code",
   "execution_count": 133,
   "metadata": {},
   "outputs": [
    {
     "name": "stdout",
     "output_type": "stream",
     "text": [
      "Fitting session 0...\n",
      "Fitting 2 states...\n"
     ]
    },
    {
     "name": "stderr",
     "output_type": "stream",
     "text": [
      "Converged to LP: -305.9:   1%|          | 17/2000 [00:00<00:12, 153.38it/s]\n",
      "Converged to LP: -298.5:   1%|          | 13/2000 [00:00<00:10, 182.30it/s]\n",
      "Converged to LP: -298.7:   1%|          | 21/2000 [00:00<00:09, 208.24it/s]\n",
      "Converged to LP: -298.1:   2%|▏         | 34/2000 [00:00<00:07, 272.41it/s]\n",
      "Converged to LP: -300.0:   1%|          | 24/2000 [00:00<00:09, 218.77it/s]\n"
     ]
    },
    {
     "name": "stdout",
     "output_type": "stream",
     "text": [
      "Fitting 3 states...\n"
     ]
    },
    {
     "name": "stderr",
     "output_type": "stream",
     "text": [
      "Converged to LP: -333.0:   1%|          | 15/2000 [00:00<00:12, 162.98it/s]\n",
      "Converged to LP: -321.7:   2%|▏         | 35/2000 [00:00<00:09, 201.66it/s]\n",
      "Converged to LP: -329.1:   1%|          | 14/2000 [00:00<00:12, 152.87it/s]\n",
      "Converged to LP: -329.7:   1%|▏         | 25/2000 [00:00<00:13, 148.53it/s]\n",
      "Converged to LP: -320.7:   5%|▍         | 94/2000 [00:00<00:09, 193.26it/s]\n"
     ]
    },
    {
     "name": "stdout",
     "output_type": "stream",
     "text": [
      "Fitting 4 states...\n"
     ]
    },
    {
     "name": "stderr",
     "output_type": "stream",
     "text": [
      "Converged to LP: -368.2:   1%|          | 17/2000 [00:00<00:13, 149.07it/s]\n",
      "Converged to LP: -359.2:   1%|          | 23/2000 [00:00<00:19, 102.66it/s]\n",
      "Converged to LP: -353.1:   3%|▎         | 54/2000 [00:00<00:11, 172.54it/s]\n",
      "Converged to LP: -354.9:   3%|▎         | 57/2000 [00:00<00:14, 131.72it/s]\n",
      "Converged to LP: -361.7:   4%|▍         | 75/2000 [00:00<00:13, 145.47it/s]\n"
     ]
    },
    {
     "name": "stdout",
     "output_type": "stream",
     "text": [
      "Fitting 5 states...\n"
     ]
    },
    {
     "name": "stderr",
     "output_type": "stream",
     "text": [
      "Converged to LP: -393.4:   1%|          | 22/2000 [00:00<00:18, 109.85it/s]\n",
      "Converged to LP: -388.8:   2%|▏         | 33/2000 [00:00<00:17, 113.52it/s]\n",
      "Converged to LP: -401.9:   3%|▎         | 51/2000 [00:00<00:13, 149.55it/s]\n",
      "Converged to LP: -396.3:   4%|▍         | 85/2000 [00:00<00:12, 154.95it/s]\n",
      "Converged to LP: -385.7:   5%|▌         | 104/2000 [00:00<00:12, 150.55it/s]\n"
     ]
    },
    {
     "name": "stdout",
     "output_type": "stream",
     "text": [
      "Fitting session 1...\n",
      "Fitting 2 states...\n"
     ]
    },
    {
     "name": "stderr",
     "output_type": "stream",
     "text": [
      "Converged to LP: -324.5:   2%|▏         | 30/2000 [00:00<00:10, 192.27it/s]\n",
      "Converged to LP: -317.8:   1%|          | 15/2000 [00:00<00:15, 127.46it/s]\n",
      "Converged to LP: -320.3:   2%|▏         | 34/2000 [00:00<00:08, 229.28it/s]\n",
      "Converged to LP: -308.5:   1%|          | 16/2000 [00:00<00:11, 169.88it/s]\n",
      "Converged to LP: -318.4:   1%|          | 24/2000 [00:00<00:14, 140.69it/s]\n"
     ]
    },
    {
     "name": "stdout",
     "output_type": "stream",
     "text": [
      "Fitting 3 states...\n"
     ]
    },
    {
     "name": "stderr",
     "output_type": "stream",
     "text": [
      "Converged to LP: -345.1:   1%|          | 14/2000 [00:00<00:10, 196.71it/s]\n",
      "Converged to LP: -356.4:   1%|          | 16/2000 [00:00<00:11, 173.65it/s]\n",
      "Converged to LP: -352.0:   1%|          | 21/2000 [00:00<00:10, 183.02it/s]\n",
      "Converged to LP: -361.5:   1%|          | 14/2000 [00:00<00:19, 99.30it/s]\n",
      "Converged to LP: -358.2:   2%|▏         | 40/2000 [00:00<00:10, 188.54it/s]\n",
      "Converged to LP: -386.5:   1%|          | 15/2000 [00:00<00:11, 169.07it/s]\n",
      "LP: -381.6:   1%|          | 14/2000 [00:00<00:14, 138.94it/s]"
     ]
    },
    {
     "name": "stdout",
     "output_type": "stream",
     "text": [
      "Fitting 4 states...\n"
     ]
    },
    {
     "name": "stderr",
     "output_type": "stream",
     "text": [
      "Converged to LP: -377.5:   3%|▎         | 65/2000 [00:00<00:10, 181.57it/s]\n",
      "Converged to LP: -389.8:   3%|▎         | 60/2000 [00:00<00:12, 157.91it/s]\n",
      "Converged to LP: -387.7:   2%|▏         | 33/2000 [00:00<00:11, 165.82it/s]\n",
      "Converged to LP: -390.6:   2%|▏         | 34/2000 [00:00<00:11, 168.20it/s]\n",
      "LP: -420.1:   1%|          | 14/2000 [00:00<00:15, 131.66it/s]"
     ]
    },
    {
     "name": "stdout",
     "output_type": "stream",
     "text": [
      "Fitting 5 states...\n"
     ]
    },
    {
     "name": "stderr",
     "output_type": "stream",
     "text": [
      "Converged to LP: -420.1:   1%|▏         | 29/2000 [00:00<00:12, 155.77it/s]\n",
      "Converged to LP: -426.3:   2%|▏         | 36/2000 [00:00<00:13, 141.86it/s]\n",
      "Converged to LP: -425.5:   2%|▏         | 48/2000 [00:00<00:16, 119.53it/s]\n",
      "Converged to LP: -427.3:   3%|▎         | 51/2000 [00:00<00:16, 116.26it/s]\n",
      "Converged to LP: -410.4:   5%|▍         | 97/2000 [00:00<00:14, 135.86it/s]\n",
      "LP: -251.7:   0%|          | 0/2000 [00:00<?, ?it/s]"
     ]
    },
    {
     "name": "stdout",
     "output_type": "stream",
     "text": [
      "Fitting session 2...\n",
      "Fitting 2 states...\n"
     ]
    },
    {
     "name": "stderr",
     "output_type": "stream",
     "text": [
      "Converged to LP: -261.2:   1%|          | 15/2000 [00:00<00:08, 223.65it/s]\n",
      "Converged to LP: -251.3:   2%|▏         | 40/2000 [00:00<00:06, 299.61it/s]\n",
      "Converged to LP: -247.8:   4%|▍         | 78/2000 [00:00<00:06, 312.36it/s]\n",
      "Converged to LP: -254.8:   5%|▍         | 94/2000 [00:00<00:05, 346.17it/s]\n",
      "Converged to LP: -262.1:   9%|▉         | 189/2000 [00:00<00:04, 398.55it/s]\n",
      "LP: -286.4:   1%|          | 19/2000 [00:00<00:10, 183.13it/s]"
     ]
    },
    {
     "name": "stdout",
     "output_type": "stream",
     "text": [
      "Fitting 3 states...\n"
     ]
    },
    {
     "name": "stderr",
     "output_type": "stream",
     "text": [
      "Converged to LP: -286.4:   2%|▏         | 36/2000 [00:00<00:09, 203.90it/s]\n",
      "Converged to LP: -279.5:   2%|▏         | 32/2000 [00:00<00:12, 157.34it/s]\n",
      "Converged to LP: -277.6:   4%|▍         | 79/2000 [00:00<00:08, 235.40it/s]\n",
      "Converged to LP: -290.9:   4%|▍         | 89/2000 [00:00<00:08, 232.26it/s]\n",
      "Converged to LP: -281.0:   6%|▌         | 114/2000 [00:00<00:06, 282.51it/s]\n",
      "LP: -319.6:   1%|          | 14/2000 [00:00<00:14, 137.78it/s]"
     ]
    },
    {
     "name": "stdout",
     "output_type": "stream",
     "text": [
      "Fitting 4 states...\n"
     ]
    },
    {
     "name": "stderr",
     "output_type": "stream",
     "text": [
      "Converged to LP: -319.6:   2%|▏         | 35/2000 [00:00<00:10, 195.70it/s]\n",
      "Converged to LP: -323.3:   2%|▏         | 30/2000 [00:00<00:12, 155.97it/s]\n",
      "Converged to LP: -314.7:   4%|▍         | 90/2000 [00:00<00:09, 204.27it/s]\n",
      "Converged to LP: -327.7:   6%|▌         | 115/2000 [00:00<00:08, 219.21it/s]\n",
      "Converged to LP: -312.7:  10%|▉         | 190/2000 [00:00<00:07, 242.73it/s]\n",
      "LP: -356.6:   1%|          | 13/2000 [00:00<00:16, 123.30it/s]"
     ]
    },
    {
     "name": "stdout",
     "output_type": "stream",
     "text": [
      "Fitting 5 states...\n"
     ]
    },
    {
     "name": "stderr",
     "output_type": "stream",
     "text": [
      "Converged to LP: -373.1:   2%|▏         | 36/2000 [00:00<00:13, 140.36it/s]\n",
      "Converged to LP: -369.1:   2%|▏         | 31/2000 [00:00<00:18, 106.23it/s]\n",
      "Converged to LP: -358.8:   3%|▎         | 57/2000 [00:00<00:12, 156.29it/s]\n",
      "Converged to LP: -359.8:   3%|▎         | 60/2000 [00:00<00:13, 148.48it/s]\n",
      "Converged to LP: -353.6:   4%|▍         | 89/2000 [00:00<00:11, 173.66it/s]\n",
      "LP: -365.1:   0%|          | 0/2000 [00:00<?, ?it/s]"
     ]
    },
    {
     "name": "stdout",
     "output_type": "stream",
     "text": [
      "Fitting session 3...\n",
      "Fitting 2 states...\n",
      "Fitting 3 states...\n"
     ]
    },
    {
     "name": "stderr",
     "output_type": "stream",
     "text": [
      "Converged to LP: -365.1:   1%|          | 15/2000 [00:00<00:06, 297.22it/s]\n",
      "Converged to LP: -363.4:   1%|          | 18/2000 [00:00<00:08, 245.79it/s]\n",
      "Converged to LP: -354.9:   1%|          | 19/2000 [00:00<00:07, 256.02it/s]\n",
      "Converged to LP: -365.0:   3%|▎         | 51/2000 [00:00<00:06, 296.84it/s]\n",
      "Converged to LP: -366.9:   2%|▎         | 50/2000 [00:00<00:07, 272.31it/s]\n",
      "Converged to LP: -383.4:   0%|          | 9/2000 [00:00<00:17, 111.11it/s]\n",
      "Converged to LP: -395.8:   1%|          | 17/2000 [00:00<00:15, 128.14it/s]\n",
      "Converged to LP: -401.1:   1%|▏         | 29/2000 [00:00<00:09, 215.75it/s]\n",
      "Converged to LP: -393.3:   1%|▏         | 26/2000 [00:00<00:12, 159.68it/s]\n",
      "Converged to LP: -397.0:   2%|▎         | 50/2000 [00:00<00:08, 227.14it/s]\n",
      "LP: -459.1:   0%|          | 0/2000 [00:00<?, ?it/s]"
     ]
    },
    {
     "name": "stdout",
     "output_type": "stream",
     "text": [
      "Fitting 4 states...\n"
     ]
    },
    {
     "name": "stderr",
     "output_type": "stream",
     "text": [
      "Converged to LP: -434.2:   1%|          | 16/2000 [00:00<00:11, 170.36it/s]\n",
      "Converged to LP: -432.0:   1%|          | 15/2000 [00:00<00:11, 178.69it/s]\n",
      "Converged to LP: -423.0:   4%|▎         | 70/2000 [00:00<00:07, 245.19it/s]\n",
      "Converged to LP: -435.2:   6%|▌         | 123/2000 [00:00<00:08, 227.59it/s]\n",
      "Converged to LP: -421.3:  13%|█▎        | 267/2000 [00:01<00:06, 247.79it/s]\n",
      "LP: -463.2:   1%|          | 15/2000 [00:00<00:13, 148.41it/s]"
     ]
    },
    {
     "name": "stdout",
     "output_type": "stream",
     "text": [
      "Fitting 5 states...\n"
     ]
    },
    {
     "name": "stderr",
     "output_type": "stream",
     "text": [
      "Converged to LP: -476.7:   1%|          | 20/2000 [00:00<00:12, 156.87it/s]\n",
      "Converged to LP: -471.1:   1%|          | 17/2000 [00:00<00:19, 103.32it/s]\n",
      "Converged to LP: -459.5:   2%|▏         | 39/2000 [00:00<00:11, 174.28it/s]\n",
      "Converged to LP: -456.0:   3%|▎         | 64/2000 [00:00<00:11, 167.77it/s]\n",
      "Converged to LP: -462.1:   6%|▌         | 110/2000 [00:00<00:10, 174.29it/s]\n",
      "Converged to LP: -294.3:   0%|          | 8/2000 [00:00<00:07, 275.37it/s]\n",
      "Converged to LP: -295.3:   0%|          | 8/2000 [00:00<00:07, 249.64it/s]\n",
      "Converged to LP: -290.4:   1%|          | 13/2000 [00:00<00:07, 258.07it/s]\n",
      "Converged to LP: -285.6:   1%|          | 13/2000 [00:00<00:06, 287.88it/s]\n",
      "Converged to LP: -297.2:   1%|          | 18/2000 [00:00<00:07, 276.16it/s]\n",
      "LP: -322.0:   0%|          | 0/2000 [00:00<?, ?it/s]"
     ]
    },
    {
     "name": "stdout",
     "output_type": "stream",
     "text": [
      "Fitting session 4...\n",
      "Fitting 2 states...\n",
      "Fitting 3 states...\n",
      "Fitting 4 states...\n"
     ]
    },
    {
     "name": "stderr",
     "output_type": "stream",
     "text": [
      "Converged to LP: -322.0:   0%|          | 8/2000 [00:00<00:09, 213.98it/s]\n",
      "Converged to LP: -328.4:   0%|          | 9/2000 [00:00<00:08, 227.85it/s]\n",
      "Converged to LP: -316.2:   0%|          | 10/2000 [00:00<00:09, 201.61it/s]\n",
      "Converged to LP: -310.7:   1%|          | 11/2000 [00:00<00:08, 226.63it/s]\n",
      "Converged to LP: -325.8:   1%|          | 14/2000 [00:00<00:08, 225.90it/s]\n",
      "Converged to LP: -354.4:   1%|          | 11/2000 [00:00<00:12, 156.96it/s]\n",
      "Converged to LP: -363.0:   1%|          | 13/2000 [00:00<00:10, 185.50it/s]\n",
      "Converged to LP: -349.1:   1%|          | 11/2000 [00:00<00:13, 150.53it/s]\n",
      "Converged to LP: -342.4:   1%|          | 14/2000 [00:00<00:12, 156.29it/s]\n",
      "Converged to LP: -357.9:   2%|▏         | 32/2000 [00:00<00:10, 194.03it/s]\n",
      "LP: -398.0:   1%|          | 11/2000 [00:00<00:19, 104.21it/s]"
     ]
    },
    {
     "name": "stdout",
     "output_type": "stream",
     "text": [
      "Fitting 5 states...\n"
     ]
    },
    {
     "name": "stderr",
     "output_type": "stream",
     "text": [
      "Converged to LP: -388.8:   2%|▏         | 32/2000 [00:00<00:11, 164.68it/s]\n",
      "Converged to LP: -397.2:   2%|▏         | 38/2000 [00:00<00:11, 169.12it/s]\n",
      "Converged to LP: -386.3:   2%|▏         | 48/2000 [00:00<00:10, 182.47it/s]\n",
      "Converged to LP: -397.9:   3%|▎         | 57/2000 [00:00<00:11, 165.71it/s]\n",
      "Converged to LP: -376.8:   4%|▍         | 81/2000 [00:00<00:09, 196.40it/s]\n",
      "LP: -252.4:   1%|▏         | 28/2000 [00:00<00:07, 276.57it/s]"
     ]
    },
    {
     "name": "stdout",
     "output_type": "stream",
     "text": [
      "Fitting session 5...\n",
      "Fitting 2 states...\n"
     ]
    },
    {
     "name": "stderr",
     "output_type": "stream",
     "text": [
      "Converged to LP: -252.9:   6%|▌         | 115/2000 [00:00<00:06, 308.06it/s]\n",
      "Converged to LP: -228.8:   4%|▍         | 84/2000 [00:00<00:09, 206.27it/s]\n",
      "Converged to LP: -251.2:   8%|▊         | 159/2000 [00:00<00:05, 343.86it/s]\n",
      "Converged to LP: -245.7:   8%|▊         | 160/2000 [00:00<00:05, 329.20it/s]\n",
      "Converged to LP: -242.9:   7%|▋         | 144/2000 [00:00<00:06, 288.18it/s]\n",
      "LP: -300.6:   0%|          | 0/2000 [00:00<?, ?it/s]"
     ]
    },
    {
     "name": "stdout",
     "output_type": "stream",
     "text": [
      "Fitting 3 states...\n"
     ]
    },
    {
     "name": "stderr",
     "output_type": "stream",
     "text": [
      "Converged to LP: -284.7:   2%|▏         | 39/2000 [00:00<00:07, 249.18it/s]\n",
      "Converged to LP: -264.3:   3%|▎         | 62/2000 [00:00<00:08, 218.79it/s]\n",
      "Converged to LP: -275.0:   5%|▍         | 94/2000 [00:00<00:08, 234.58it/s]\n",
      "Converged to LP: -287.6:   5%|▌         | 105/2000 [00:00<00:07, 244.13it/s]\n",
      "Converged to LP: -288.8:   6%|▋         | 130/2000 [00:00<00:07, 260.17it/s]\n",
      "LP: -329.2:   0%|          | 9/2000 [00:00<00:22, 88.55it/s]s]"
     ]
    },
    {
     "name": "stdout",
     "output_type": "stream",
     "text": [
      "Fitting 4 states...\n"
     ]
    },
    {
     "name": "stderr",
     "output_type": "stream",
     "text": [
      "Converged to LP: -326.3:   1%|          | 19/2000 [00:00<00:17, 110.10it/s]\n",
      "Converged to LP: -302.0:   3%|▎         | 67/2000 [00:00<00:09, 207.79it/s]\n",
      "Converged to LP: -314.0:   5%|▌         | 101/2000 [00:00<00:10, 180.74it/s]\n",
      "Converged to LP: -316.2:  12%|█▏        | 233/2000 [00:01<00:08, 197.99it/s]\n",
      "Converged to LP: -320.0:  19%|█▊        | 372/2000 [00:01<00:08, 193.84it/s]\n",
      "LP: -389.1:   0%|          | 0/2000 [00:00<?, ?it/s]"
     ]
    },
    {
     "name": "stdout",
     "output_type": "stream",
     "text": [
      "Fitting 5 states...\n"
     ]
    },
    {
     "name": "stderr",
     "output_type": "stream",
     "text": [
      "Converged to LP: -355.4:   4%|▍         | 77/2000 [00:00<00:11, 164.07it/s]\n",
      "Converged to LP: -358.0:   5%|▍         | 97/2000 [00:00<00:15, 122.01it/s]\n",
      "Converged to LP: -352.2:   5%|▌         | 106/2000 [00:00<00:15, 124.73it/s]\n",
      "Converged to LP: -351.9:   7%|▋         | 146/2000 [00:01<00:14, 123.63it/s]\n",
      "Converged to LP: -334.3:  13%|█▎        | 258/2000 [00:01<00:11, 146.80it/s]\n",
      "Converged to LP: -346.6:   0%|          | 10/2000 [00:00<00:08, 231.60it/s]\n",
      "Converged to LP: -350.8:   0%|          | 9/2000 [00:00<00:07, 269.63it/s]\n",
      "Converged to LP: -340.8:   1%|          | 11/2000 [00:00<00:07, 258.20it/s]\n",
      "LP: -345.2:   0%|          | 0/2000 [00:00<?, ?it/s]"
     ]
    },
    {
     "name": "stdout",
     "output_type": "stream",
     "text": [
      "Fitting session 6...\n",
      "Fitting 2 states...\n",
      "Fitting 3 states...\n"
     ]
    },
    {
     "name": "stderr",
     "output_type": "stream",
     "text": [
      "Converged to LP: -345.2:   1%|          | 16/2000 [00:00<00:06, 312.69it/s]\n",
      "Converged to LP: -344.7:   1%|          | 13/2000 [00:00<00:10, 189.42it/s]\n",
      "Converged to LP: -380.8:   1%|          | 16/2000 [00:00<00:09, 217.04it/s]\n",
      "Converged to LP: -379.9:   1%|          | 19/2000 [00:00<00:08, 233.23it/s]\n",
      "Converged to LP: -382.6:   1%|          | 15/2000 [00:00<00:12, 155.61it/s]\n",
      "Converged to LP: -377.9:   1%|▏         | 25/2000 [00:00<00:08, 231.46it/s]\n",
      "Converged to LP: -384.5:   1%|          | 15/2000 [00:00<00:14, 132.74it/s]\n",
      "LP: -419.9:   0%|          | 0/2000 [00:00<?, ?it/s]"
     ]
    },
    {
     "name": "stdout",
     "output_type": "stream",
     "text": [
      "Fitting 4 states...\n"
     ]
    },
    {
     "name": "stderr",
     "output_type": "stream",
     "text": [
      "Converged to LP: -420.0:   1%|          | 16/2000 [00:00<00:11, 166.29it/s]\n",
      "Converged to LP: -413.8:   1%|          | 20/2000 [00:00<00:16, 119.40it/s]\n",
      "Converged to LP: -417.9:   1%|          | 23/2000 [00:00<00:14, 133.16it/s]\n",
      "Converged to LP: -417.0:   2%|▏         | 38/2000 [00:00<00:11, 175.29it/s]\n",
      "Converged to LP: -410.0:   3%|▎         | 53/2000 [00:00<00:10, 189.10it/s]\n",
      "Converged to LP: -448.0:   1%|          | 15/2000 [00:00<00:17, 115.89it/s]\n",
      "LP: -452.9:   1%|          | 12/2000 [00:00<00:17, 112.68it/s]"
     ]
    },
    {
     "name": "stdout",
     "output_type": "stream",
     "text": [
      "Fitting 5 states...\n"
     ]
    },
    {
     "name": "stderr",
     "output_type": "stream",
     "text": [
      "Converged to LP: -453.0:   1%|          | 22/2000 [00:00<00:15, 129.85it/s]\n",
      "Converged to LP: -460.5:   1%|          | 19/2000 [00:00<00:17, 110.29it/s]\n",
      "Converged to LP: -449.6:   1%|          | 24/2000 [00:00<00:15, 124.26it/s]\n",
      "Converged to LP: -455.6:   5%|▌         | 105/2000 [00:00<00:13, 135.85it/s]\n",
      "Converged to LP: -322.9:   0%|          | 6/2000 [00:00<00:07, 268.44it/s]\n",
      "Converged to LP: -322.4:   0%|          | 6/2000 [00:00<00:07, 270.89it/s]\n",
      "Converged to LP: -318.4:   0%|          | 7/2000 [00:00<00:09, 215.36it/s]\n",
      "Converged to LP: -322.5:   0%|          | 6/2000 [00:00<00:09, 211.93it/s]\n",
      "Converged to LP: -323.3:   0%|          | 10/2000 [00:00<00:07, 282.60it/s]\n",
      "Converged to LP: -359.4:   1%|          | 19/2000 [00:00<00:09, 215.15it/s]\n",
      "Converged to LP: -356.6:   1%|          | 15/2000 [00:00<00:11, 179.44it/s]\n",
      "Converged to LP: -358.0:   1%|▏         | 25/2000 [00:00<00:09, 217.94it/s]\n",
      "LP: -358.0:   1%|          | 19/2000 [00:00<00:10, 185.60it/s]"
     ]
    },
    {
     "name": "stdout",
     "output_type": "stream",
     "text": [
      "Fitting session 7...\n",
      "Fitting 2 states...\n",
      "Fitting 3 states...\n"
     ]
    },
    {
     "name": "stderr",
     "output_type": "stream",
     "text": [
      "Converged to LP: -358.0:   1%|          | 21/2000 [00:00<00:10, 190.39it/s]\n",
      "Converged to LP: -351.6:   3%|▎         | 59/2000 [00:00<00:07, 244.09it/s]\n",
      "LP: -396.1:   0%|          | 0/2000 [00:00<?, ?it/s]"
     ]
    },
    {
     "name": "stdout",
     "output_type": "stream",
     "text": [
      "Fitting 4 states...\n"
     ]
    },
    {
     "name": "stderr",
     "output_type": "stream",
     "text": [
      "Converged to LP: -393.7:   2%|▏         | 44/2000 [00:00<00:10, 184.00it/s]\n",
      "Converged to LP: -393.8:   2%|▏         | 38/2000 [00:00<00:14, 134.45it/s]\n",
      "Converged to LP: -388.2:   3%|▎         | 62/2000 [00:00<00:12, 156.69it/s]\n",
      "Converged to LP: -379.5:   4%|▍         | 90/2000 [00:00<00:11, 169.48it/s]\n",
      "Converged to LP: -395.0:   7%|▋         | 146/2000 [00:00<00:08, 221.12it/s]\n",
      "LP: -444.2:   0%|          | 0/2000 [00:00<?, ?it/s]"
     ]
    },
    {
     "name": "stdout",
     "output_type": "stream",
     "text": [
      "Fitting 5 states...\n"
     ]
    },
    {
     "name": "stderr",
     "output_type": "stream",
     "text": [
      "Converged to LP: -420.3:   1%|▏         | 25/2000 [00:00<00:16, 120.83it/s]\n",
      "Converged to LP: -417.5:   2%|▏         | 41/2000 [00:00<00:13, 148.82it/s]\n",
      "Converged to LP: -431.8:   2%|▏         | 46/2000 [00:00<00:14, 134.87it/s]\n",
      "Converged to LP: -410.9:   4%|▍         | 87/2000 [00:00<00:13, 138.09it/s]\n",
      "Converged to LP: -410.3:   4%|▍         | 86/2000 [00:00<00:15, 121.31it/s]\n",
      "Converged to LP: -315.5:   1%|          | 17/2000 [00:00<00:07, 271.90it/s]\n",
      "LP: -331.2:   0%|          | 0/2000 [00:00<?, ?it/s]"
     ]
    },
    {
     "name": "stdout",
     "output_type": "stream",
     "text": [
      "Fitting session 8...\n",
      "Fitting 2 states...\n"
     ]
    },
    {
     "name": "stderr",
     "output_type": "stream",
     "text": [
      "Converged to LP: -332.2:   2%|▏         | 37/2000 [00:00<00:09, 209.42it/s]\n",
      "Converged to LP: -327.9:   3%|▎         | 55/2000 [00:00<00:08, 230.51it/s]\n",
      "Converged to LP: -323.1:   3%|▎         | 61/2000 [00:00<00:08, 242.02it/s]\n",
      "Converged to LP: -323.2:  14%|█▎        | 271/2000 [00:00<00:05, 298.40it/s]\n",
      "Converged to LP: -364.1:   2%|▏         | 44/2000 [00:00<00:07, 251.65it/s]\n",
      "LP: -356.7:   1%|          | 23/2000 [00:00<00:08, 224.10it/s]"
     ]
    },
    {
     "name": "stdout",
     "output_type": "stream",
     "text": [
      "Fitting 3 states...\n"
     ]
    },
    {
     "name": "stderr",
     "output_type": "stream",
     "text": [
      "Converged to LP: -356.7:   2%|▏         | 43/2000 [00:00<00:08, 236.28it/s]\n",
      "Converged to LP: -360.0:   5%|▌         | 106/2000 [00:00<00:07, 246.28it/s]\n",
      "Converged to LP: -366.1:   8%|▊         | 156/2000 [00:00<00:08, 225.42it/s]\n",
      "Converged to LP: -357.8:   9%|▉         | 179/2000 [00:00<00:07, 256.46it/s]\n",
      "LP: -399.3:   0%|          | 0/2000 [00:00<?, ?it/s]"
     ]
    },
    {
     "name": "stdout",
     "output_type": "stream",
     "text": [
      "Fitting 4 states...\n"
     ]
    },
    {
     "name": "stderr",
     "output_type": "stream",
     "text": [
      "Converged to LP: -388.2:   1%|▏         | 25/2000 [00:00<00:13, 149.05it/s]\n",
      "Converged to LP: -401.5:   2%|▏         | 37/2000 [00:00<00:12, 154.12it/s]\n",
      "Converged to LP: -393.6:   2%|▏         | 35/2000 [00:00<00:13, 142.78it/s]\n",
      "Converged to LP: -401.0:   4%|▎         | 73/2000 [00:00<00:12, 159.74it/s]\n",
      "Converged to LP: -393.5:  11%|█▏        | 229/2000 [00:01<00:09, 181.57it/s]\n",
      "LP: -452.7:   0%|          | 0/2000 [00:00<?, ?it/s]"
     ]
    },
    {
     "name": "stdout",
     "output_type": "stream",
     "text": [
      "Fitting 5 states...\n"
     ]
    },
    {
     "name": "stderr",
     "output_type": "stream",
     "text": [
      "Converged to LP: -430.3:   2%|▏         | 40/2000 [00:00<00:11, 168.82it/s]\n",
      "Converged to LP: -421.7:   2%|▏         | 43/2000 [00:00<00:11, 173.17it/s]\n",
      "Converged to LP: -436.4:   2%|▏         | 42/2000 [00:00<00:12, 160.61it/s]\n",
      "Converged to LP: -427.8:   7%|▋         | 132/2000 [00:00<00:09, 192.04it/s]\n",
      "Converged to LP: -435.0:   6%|▌         | 113/2000 [00:00<00:13, 138.94it/s]\n"
     ]
    },
    {
     "name": "stdout",
     "output_type": "stream",
     "text": [
      "Fitting session 9...\n",
      "Fitting 2 states...\n"
     ]
    },
    {
     "name": "stderr",
     "output_type": "stream",
     "text": [
      "Converged to LP: -338.1:   1%|          | 21/2000 [00:00<00:06, 316.11it/s]\n",
      "Converged to LP: -330.2:   1%|          | 21/2000 [00:00<00:06, 329.00it/s]\n",
      "Converged to LP: -330.6:   1%|          | 24/2000 [00:00<00:06, 326.39it/s]\n",
      "Converged to LP: -330.5:   6%|▌         | 119/2000 [00:00<00:05, 334.39it/s]\n",
      "Converged to LP: -328.8:  13%|█▎        | 269/2000 [00:00<00:06, 279.77it/s]\n",
      "LP: -374.4:   0%|          | 0/2000 [00:00<?, ?it/s]"
     ]
    },
    {
     "name": "stdout",
     "output_type": "stream",
     "text": [
      "Fitting 3 states...\n"
     ]
    },
    {
     "name": "stderr",
     "output_type": "stream",
     "text": [
      "Converged to LP: -372.3:   1%|          | 16/2000 [00:00<00:08, 225.84it/s]\n",
      "Converged to LP: -363.0:   2%|▏         | 43/2000 [00:00<00:10, 180.05it/s]\n",
      "Converged to LP: -369.1:   3%|▎         | 68/2000 [00:00<00:09, 213.18it/s]\n",
      "Converged to LP: -360.7:   5%|▌         | 108/2000 [00:00<00:08, 222.26it/s]\n",
      "Converged to LP: -367.5:   7%|▋         | 143/2000 [00:00<00:06, 287.32it/s]\n",
      "LP: -406.5:   0%|          | 10/2000 [00:00<00:20, 97.84it/s]]"
     ]
    },
    {
     "name": "stdout",
     "output_type": "stream",
     "text": [
      "Fitting 4 states...\n"
     ]
    },
    {
     "name": "stderr",
     "output_type": "stream",
     "text": [
      "Converged to LP: -404.9:   1%|          | 16/2000 [00:00<00:16, 117.27it/s]\n",
      "Converged to LP: -398.1:   1%|          | 17/2000 [00:00<00:16, 122.80it/s]\n",
      "Converged to LP: -406.2:   1%|          | 21/2000 [00:00<00:12, 158.40it/s]\n",
      "Converged to LP: -401.5:   3%|▎         | 51/2000 [00:00<00:10, 192.92it/s]\n",
      "Converged to LP: -399.8:   2%|▏         | 43/2000 [00:00<00:15, 130.21it/s]\n",
      "Converged to LP: -440.2:   1%|          | 19/2000 [00:00<00:12, 153.62it/s]\n",
      "Converged to LP: -446.9:   1%|          | 15/2000 [00:00<00:20, 95.06it/s]\n",
      "LP: -445.3:   1%|          | 16/2000 [00:00<00:12, 159.17it/s]"
     ]
    },
    {
     "name": "stdout",
     "output_type": "stream",
     "text": [
      "Fitting 5 states...\n"
     ]
    },
    {
     "name": "stderr",
     "output_type": "stream",
     "text": [
      "Converged to LP: -434.5:   3%|▎         | 55/2000 [00:00<00:12, 160.71it/s]\n",
      "Converged to LP: -444.4:   4%|▍         | 89/2000 [00:00<00:10, 186.71it/s]\n",
      "Converged to LP: -438.6:   6%|▋         | 127/2000 [00:00<00:10, 178.97it/s]\n",
      "Converged to LP: -306.4:   0%|          | 10/2000 [00:00<00:10, 185.01it/s]\n",
      "Converged to LP: -304.0:   0%|          | 9/2000 [00:00<00:11, 170.68it/s]\n"
     ]
    },
    {
     "name": "stdout",
     "output_type": "stream",
     "text": [
      "Fitting session 10...\n",
      "Fitting 2 states...\n",
      "Fitting 3 states...\n"
     ]
    },
    {
     "name": "stderr",
     "output_type": "stream",
     "text": [
      "Converged to LP: -303.3:   1%|          | 17/2000 [00:00<00:08, 230.04it/s]\n",
      "Converged to LP: -309.4:   1%|          | 18/2000 [00:00<00:08, 234.63it/s]\n",
      "Converged to LP: -305.8:   2%|▏         | 39/2000 [00:00<00:07, 251.65it/s]\n",
      "Converged to LP: -340.0:   1%|          | 23/2000 [00:00<00:07, 254.72it/s]\n",
      "Converged to LP: -340.2:   1%|▏         | 28/2000 [00:00<00:11, 172.16it/s]\n",
      "Converged to LP: -341.5:   2%|▏         | 40/2000 [00:00<00:08, 225.60it/s]\n",
      "Converged to LP: -341.0:   2%|▎         | 50/2000 [00:00<00:09, 215.07it/s]\n",
      "Converged to LP: -335.6:   3%|▎         | 66/2000 [00:00<00:09, 203.61it/s]\n",
      "Converged to LP: -370.1:   1%|          | 15/2000 [00:00<00:12, 153.29it/s]\n",
      "Converged to LP: -377.3:   2%|▏         | 33/2000 [00:00<00:09, 201.22it/s]\n",
      "LP: -374.7:   1%|          | 11/2000 [00:00<00:18, 107.21it/s]"
     ]
    },
    {
     "name": "stdout",
     "output_type": "stream",
     "text": [
      "Fitting 4 states...\n"
     ]
    },
    {
     "name": "stderr",
     "output_type": "stream",
     "text": [
      "Converged to LP: -366.5:   2%|▏         | 48/2000 [00:00<00:11, 168.45it/s]\n",
      "Converged to LP: -371.4:   3%|▎         | 55/2000 [00:00<00:12, 156.89it/s]\n",
      "Converged to LP: -370.9:   7%|▋         | 138/2000 [00:00<00:09, 204.34it/s]\n",
      "LP: -419.8:   0%|          | 0/2000 [00:00<?, ?it/s]"
     ]
    },
    {
     "name": "stdout",
     "output_type": "stream",
     "text": [
      "Fitting 5 states...\n"
     ]
    },
    {
     "name": "stderr",
     "output_type": "stream",
     "text": [
      "Converged to LP: -409.1:   1%|          | 15/2000 [00:00<00:19, 99.83it/s]\n",
      "Converged to LP: -419.4:   2%|▏         | 36/2000 [00:00<00:11, 168.20it/s]\n",
      "Converged to LP: -404.1:   3%|▎         | 58/2000 [00:00<00:12, 157.31it/s]\n",
      "Converged to LP: -416.5:   8%|▊         | 154/2000 [00:00<00:09, 186.87it/s]\n",
      "Converged to LP: -408.9:  12%|█▏        | 240/2000 [00:01<00:10, 171.27it/s]\n",
      "LP: -325.1:   0%|          | 0/2000 [00:00<?, ?it/s]"
     ]
    },
    {
     "name": "stdout",
     "output_type": "stream",
     "text": [
      "Fitting session 11...\n",
      "Fitting 2 states...\n"
     ]
    },
    {
     "name": "stderr",
     "output_type": "stream",
     "text": [
      "Converged to LP: -325.1:   1%|          | 19/2000 [00:00<00:07, 254.49it/s]\n",
      "Converged to LP: -335.9:   1%|          | 14/2000 [00:00<00:10, 185.62it/s]\n",
      "Converged to LP: -342.6:   1%|          | 18/2000 [00:00<00:12, 162.05it/s]\n",
      "Converged to LP: -336.6:   1%|▏         | 25/2000 [00:00<00:10, 190.00it/s]\n",
      "Converged to LP: -334.0:   4%|▍         | 80/2000 [00:00<00:06, 274.82it/s]\n",
      "Converged to LP: -377.5:   1%|          | 13/2000 [00:00<00:14, 139.42it/s]\n",
      "Converged to LP: -371.1:   1%|          | 16/2000 [00:00<00:15, 127.57it/s]\n",
      "LP: -373.5:   1%|          | 12/2000 [00:00<00:16, 119.54it/s]"
     ]
    },
    {
     "name": "stdout",
     "output_type": "stream",
     "text": [
      "Fitting 3 states...\n"
     ]
    },
    {
     "name": "stderr",
     "output_type": "stream",
     "text": [
      "Converged to LP: -361.1:   2%|▏         | 44/2000 [00:00<00:12, 155.07it/s]\n",
      "Converged to LP: -370.8:   3%|▎         | 69/2000 [00:00<00:11, 163.37it/s]\n",
      "Converged to LP: -368.6:   4%|▍         | 89/2000 [00:00<00:09, 196.12it/s]\n",
      "LP: -406.8:   0%|          | 0/2000 [00:00<?, ?it/s]12.95it/s]"
     ]
    },
    {
     "name": "stdout",
     "output_type": "stream",
     "text": [
      "Fitting 4 states...\n"
     ]
    },
    {
     "name": "stderr",
     "output_type": "stream",
     "text": [
      "Converged to LP: -407.6:   1%|          | 23/2000 [00:00<00:15, 130.03it/s]\n",
      "Converged to LP: -408.1:   2%|▏         | 33/2000 [00:00<00:13, 149.82it/s]\n",
      "Converged to LP: -411.8:   2%|▏         | 32/2000 [00:00<00:14, 137.12it/s]\n",
      "Converged to LP: -399.6:   3%|▎         | 56/2000 [00:00<00:11, 170.11it/s]\n",
      "Converged to LP: -388.6:   3%|▎         | 51/2000 [00:00<00:15, 128.51it/s]\n",
      "LP: -438.8:   0%|          | 0/2000 [00:00<?, ?it/s]"
     ]
    },
    {
     "name": "stdout",
     "output_type": "stream",
     "text": [
      "Fitting 5 states...\n"
     ]
    },
    {
     "name": "stderr",
     "output_type": "stream",
     "text": [
      "Converged to LP: -437.4:   1%|          | 20/2000 [00:00<00:14, 135.45it/s]\n",
      "Converged to LP: -446.9:   1%|▏         | 28/2000 [00:00<00:14, 139.27it/s]\n",
      "Converged to LP: -445.8:   2%|▏         | 33/2000 [00:00<00:13, 142.38it/s]\n",
      "Converged to LP: -422.9:   4%|▍         | 87/2000 [00:00<00:13, 147.11it/s]\n",
      "Converged to LP: -430.1:  14%|█▍        | 282/2000 [00:01<00:09, 180.14it/s]\n",
      "Converged to LP: -325.6:   1%|          | 14/2000 [00:00<00:06, 308.93it/s]\n",
      "Converged to LP: -314.2:   1%|          | 14/2000 [00:00<00:09, 210.25it/s]\n",
      "Converged to LP: -318.1:   1%|          | 23/2000 [00:00<00:06, 314.01it/s]\n",
      "LP: -317.5:   2%|▏         | 31/2000 [00:00<00:06, 305.25it/s]"
     ]
    },
    {
     "name": "stdout",
     "output_type": "stream",
     "text": [
      "Fitting session 12...\n",
      "Fitting 2 states...\n"
     ]
    },
    {
     "name": "stderr",
     "output_type": "stream",
     "text": [
      "Converged to LP: -327.7:   6%|▋         | 129/2000 [00:00<00:06, 309.11it/s]\n",
      "Converged to LP: -312.3:   6%|▋         | 128/2000 [00:00<00:06, 289.53it/s]\n",
      "LP: -353.6:   0%|          | 0/2000 [00:00<?, ?it/s]"
     ]
    },
    {
     "name": "stdout",
     "output_type": "stream",
     "text": [
      "Fitting 3 states...\n"
     ]
    },
    {
     "name": "stderr",
     "output_type": "stream",
     "text": [
      "Converged to LP: -350.8:   1%|          | 14/2000 [00:00<00:15, 129.81it/s]\n",
      "Converged to LP: -364.7:   2%|▏         | 38/2000 [00:00<00:09, 210.94it/s]\n",
      "Converged to LP: -349.7:   2%|▎         | 50/2000 [00:00<00:10, 179.54it/s]\n",
      "Converged to LP: -362.8:   3%|▎         | 57/2000 [00:00<00:11, 168.46it/s]\n",
      "Converged to LP: -346.0:   4%|▍         | 87/2000 [00:00<00:09, 192.41it/s]\n",
      "LP: -423.0:   0%|          | 0/2000 [00:00<?, ?it/s]"
     ]
    },
    {
     "name": "stdout",
     "output_type": "stream",
     "text": [
      "Fitting 4 states...\n"
     ]
    },
    {
     "name": "stderr",
     "output_type": "stream",
     "text": [
      "Converged to LP: -397.1:   1%|          | 21/2000 [00:00<00:11, 172.43it/s]\n",
      "Converged to LP: -383.6:   1%|▏         | 26/2000 [00:00<00:11, 178.48it/s]\n",
      "Converged to LP: -388.8:   1%|▏         | 29/2000 [00:00<00:10, 190.26it/s]\n",
      "Converged to LP: -382.3:   1%|          | 22/2000 [00:00<00:15, 131.27it/s]\n",
      "Converged to LP: -393.7:   3%|▎         | 58/2000 [00:00<00:12, 155.67it/s]\n",
      "LP: -437.3:   0%|          | 0/2000 [00:00<?, ?it/s]"
     ]
    },
    {
     "name": "stdout",
     "output_type": "stream",
     "text": [
      "Fitting 5 states...\n"
     ]
    },
    {
     "name": "stderr",
     "output_type": "stream",
     "text": [
      "Converged to LP: -421.4:   1%|          | 22/2000 [00:00<00:12, 152.28it/s]\n",
      "Converged to LP: -412.6:   2%|▏         | 42/2000 [00:00<00:16, 120.53it/s]\n",
      "Converged to LP: -427.3:   3%|▎         | 60/2000 [00:00<00:11, 170.09it/s]\n",
      "Converged to LP: -427.9:   6%|▋         | 128/2000 [00:00<00:09, 188.92it/s]\n",
      "Converged to LP: -436.2:   8%|▊         | 151/2000 [00:00<00:08, 216.42it/s]\n",
      "Converged to LP: -248.8:   1%|          | 21/2000 [00:00<00:10, 194.89it/s]\n",
      "Converged to LP: -247.2:   2%|▏         | 42/2000 [00:00<00:05, 367.02it/s]\n",
      "Converged to LP: -266.3:   1%|          | 20/2000 [00:00<00:10, 185.74it/s]\n",
      "LP: -245.7:   1%|          | 22/2000 [00:00<00:09, 217.43it/s]"
     ]
    },
    {
     "name": "stdout",
     "output_type": "stream",
     "text": [
      "Fitting session 13...\n",
      "Fitting 2 states...\n"
     ]
    },
    {
     "name": "stderr",
     "output_type": "stream",
     "text": [
      "Converged to LP: -245.7:   2%|▏         | 41/2000 [00:00<00:07, 269.56it/s]\n",
      "Converged to LP: -257.7:   2%|▎         | 50/2000 [00:00<00:09, 212.68it/s]\n",
      "Converged to LP: -274.4:   1%|          | 13/2000 [00:00<00:10, 184.15it/s]\n",
      "LP: -294.6:   0%|          | 0/2000 [00:00<?, ?it/s]"
     ]
    },
    {
     "name": "stdout",
     "output_type": "stream",
     "text": [
      "Fitting 3 states...\n"
     ]
    },
    {
     "name": "stderr",
     "output_type": "stream",
     "text": [
      "Converged to LP: -271.8:   0%|          | 9/2000 [00:00<00:17, 113.32it/s]\n",
      "Converged to LP: -294.6:   1%|          | 14/2000 [00:00<00:14, 138.91it/s]\n",
      "Converged to LP: -276.1:   2%|▏         | 30/2000 [00:00<00:13, 143.42it/s]\n",
      "Converged to LP: -286.4:   3%|▎         | 57/2000 [00:00<00:09, 199.28it/s]\n",
      "Converged to LP: -329.4:   1%|          | 17/2000 [00:00<00:11, 178.62it/s]\n",
      "Converged to LP: -318.9:   1%|          | 24/2000 [00:00<00:11, 170.88it/s]\n",
      "Converged to LP: -310.5:   1%|▏         | 26/2000 [00:00<00:12, 164.10it/s]\n",
      "LP: -309.2:   1%|          | 16/2000 [00:00<00:13, 151.91it/s]"
     ]
    },
    {
     "name": "stdout",
     "output_type": "stream",
     "text": [
      "Fitting 4 states...\n"
     ]
    },
    {
     "name": "stderr",
     "output_type": "stream",
     "text": [
      "Converged to LP: -309.2:   2%|▏         | 37/2000 [00:00<00:10, 190.03it/s]\n",
      "Converged to LP: -306.6:   2%|▏         | 33/2000 [00:00<00:11, 164.10it/s]\n",
      "LP: -360.8:   0%|          | 8/2000 [00:00<00:26, 74.22it/s]s]"
     ]
    },
    {
     "name": "stdout",
     "output_type": "stream",
     "text": [
      "Fitting 5 states...\n"
     ]
    },
    {
     "name": "stderr",
     "output_type": "stream",
     "text": [
      "Converged to LP: -346.6:   1%|          | 21/2000 [00:00<00:19, 103.44it/s]\n",
      "Converged to LP: -357.4:   2%|▏         | 30/2000 [00:00<00:14, 139.02it/s]\n",
      "Converged to LP: -348.5:   2%|▏         | 32/2000 [00:00<00:14, 138.22it/s]\n",
      "Converged to LP: -359.4:   1%|▏         | 25/2000 [00:00<00:19, 100.50it/s]\n",
      "Converged to LP: -349.7:   2%|▎         | 50/2000 [00:00<00:14, 135.59it/s]\n",
      "Converged to LP: -284.5:   0%|          | 8/2000 [00:00<00:09, 218.30it/s]\n",
      "Converged to LP: -285.6:   0%|          | 9/2000 [00:00<00:10, 190.81it/s]\n",
      "Converged to LP: -289.0:   1%|          | 18/2000 [00:00<00:08, 220.23it/s]\n",
      "Converged to LP: -283.9:   1%|          | 21/2000 [00:00<00:08, 246.32it/s]\n",
      "LP: -279.7:   1%|          | 22/2000 [00:00<00:09, 209.24it/s]"
     ]
    },
    {
     "name": "stdout",
     "output_type": "stream",
     "text": [
      "Fitting session 14...\n",
      "Fitting 2 states...\n"
     ]
    },
    {
     "name": "stderr",
     "output_type": "stream",
     "text": [
      "Converged to LP: -279.6:   2%|▏         | 46/2000 [00:00<00:08, 220.94it/s]\n",
      "Converged to LP: -312.9:   1%|          | 17/2000 [00:00<00:11, 167.89it/s]\n",
      "Converged to LP: -320.2:   1%|▏         | 26/2000 [00:00<00:09, 218.35it/s]\n",
      "Converged to LP: -321.2:   1%|          | 17/2000 [00:00<00:14, 138.39it/s]\n",
      "Converged to LP: -321.7:   1%|          | 20/2000 [00:00<00:13, 149.41it/s]\n",
      "LP: -326.0:   1%|          | 21/2000 [00:00<00:09, 205.81it/s]"
     ]
    },
    {
     "name": "stdout",
     "output_type": "stream",
     "text": [
      "Fitting 3 states...\n"
     ]
    },
    {
     "name": "stderr",
     "output_type": "stream",
     "text": [
      "Converged to LP: -324.5:   4%|▎         | 70/2000 [00:00<00:09, 204.90it/s]\n",
      "LP: -381.6:   0%|          | 0/2000 [00:00<?, ?it/s]"
     ]
    },
    {
     "name": "stdout",
     "output_type": "stream",
     "text": [
      "Fitting 4 states...\n"
     ]
    },
    {
     "name": "stderr",
     "output_type": "stream",
     "text": [
      "Converged to LP: -359.7:   1%|          | 19/2000 [00:00<00:11, 175.31it/s]\n",
      "Converged to LP: -351.4:   2%|▏         | 46/2000 [00:00<00:10, 194.65it/s]\n",
      "Converged to LP: -353.0:   2%|▏         | 38/2000 [00:00<00:12, 163.39it/s]\n",
      "Converged to LP: -349.2:   3%|▎         | 59/2000 [00:00<00:10, 192.51it/s]\n",
      "Converged to LP: -357.6:   6%|▋         | 127/2000 [00:00<00:09, 203.74it/s]\n",
      "LP: -387.7:   0%|          | 7/2000 [00:00<00:31, 62.78it/s]"
     ]
    },
    {
     "name": "stdout",
     "output_type": "stream",
     "text": [
      "Fitting 5 states...\n"
     ]
    },
    {
     "name": "stderr",
     "output_type": "stream",
     "text": [
      "Converged to LP: -395.6:   2%|▏         | 31/2000 [00:00<00:18, 106.11it/s]\n",
      "Converged to LP: -386.6:   2%|▏         | 38/2000 [00:00<00:17, 113.80it/s]\n",
      "Converged to LP: -393.4:   2%|▏         | 45/2000 [00:00<00:15, 129.14it/s]\n",
      "Converged to LP: -385.0:   2%|▏         | 48/2000 [00:00<00:15, 128.14it/s]\n",
      "Converged to LP: -392.9:   4%|▍         | 87/2000 [00:00<00:11, 160.65it/s]\n",
      "LP: -284.1:   0%|          | 0/2000 [00:00<?, ?it/s]"
     ]
    },
    {
     "name": "stdout",
     "output_type": "stream",
     "text": [
      "Fitting session 15...\n",
      "Fitting 2 states...\n",
      "Fitting 3 states...\n"
     ]
    },
    {
     "name": "stderr",
     "output_type": "stream",
     "text": [
      "Converged to LP: -284.1:   0%|          | 9/2000 [00:00<00:05, 343.87it/s]\n",
      "Converged to LP: -293.8:   0%|          | 9/2000 [00:00<00:06, 300.56it/s]\n",
      "Converged to LP: -296.9:   1%|          | 14/2000 [00:00<00:06, 319.03it/s]\n",
      "Converged to LP: -295.9:   0%|          | 10/2000 [00:00<00:08, 240.20it/s]\n",
      "Converged to LP: -292.6:   0%|          | 10/2000 [00:00<00:09, 207.81it/s]\n",
      "Converged to LP: -330.9:   0%|          | 9/2000 [00:00<00:10, 193.44it/s]\n",
      "Converged to LP: -319.5:   1%|          | 11/2000 [00:00<00:10, 192.79it/s]\n",
      "Converged to LP: -326.2:   1%|          | 15/2000 [00:00<00:08, 235.68it/s]\n",
      "Converged to LP: -331.9:   1%|          | 11/2000 [00:00<00:15, 130.27it/s]\n",
      "Converged to LP: -330.3:   2%|▏         | 39/2000 [00:00<00:08, 224.44it/s]\n",
      "Converged to LP: -366.3:   1%|          | 13/2000 [00:00<00:10, 185.52it/s]\n",
      "Converged to LP: -365.1:   1%|▏         | 27/2000 [00:00<00:11, 175.98it/s]\n",
      "LP: -358.5:   1%|          | 18/2000 [00:00<00:11, 174.34it/s]"
     ]
    },
    {
     "name": "stdout",
     "output_type": "stream",
     "text": [
      "Fitting 4 states...\n"
     ]
    },
    {
     "name": "stderr",
     "output_type": "stream",
     "text": [
      "Converged to LP: -358.5:   2%|▏         | 36/2000 [00:00<00:09, 207.40it/s]\n",
      "Converged to LP: -353.8:   1%|          | 24/2000 [00:00<00:15, 126.18it/s]\n",
      "Converged to LP: -362.8:   3%|▎         | 54/2000 [00:00<00:14, 137.23it/s]\n",
      "Converged to LP: -402.3:   1%|          | 14/2000 [00:00<00:14, 138.21it/s]\n",
      "Converged to LP: -402.2:   1%|          | 22/2000 [00:00<00:12, 154.47it/s]\n",
      "Converged to LP: -398.4:   1%|          | 24/2000 [00:00<00:11, 176.75it/s]\n",
      "LP: -389.8:   0%|          | 9/2000 [00:00<00:23, 84.41it/s]"
     ]
    },
    {
     "name": "stdout",
     "output_type": "stream",
     "text": [
      "Fitting 5 states...\n"
     ]
    },
    {
     "name": "stderr",
     "output_type": "stream",
     "text": [
      "Converged to LP: -389.8:   1%|          | 22/2000 [00:00<00:18, 106.50it/s]\n",
      "Converged to LP: -401.3:   1%|▏         | 27/2000 [00:00<00:17, 112.98it/s]\n",
      "Converged to LP: -231.2:   0%|          | 10/2000 [00:00<00:07, 258.40it/s]\n",
      "Converged to LP: -240.2:   1%|          | 14/2000 [00:00<00:07, 259.12it/s]\n",
      "Converged to LP: -246.6:   1%|          | 14/2000 [00:00<00:07, 271.32it/s]\n",
      "LP: -236.2:   0%|          | 0/2000 [00:00<?, ?it/s]"
     ]
    },
    {
     "name": "stdout",
     "output_type": "stream",
     "text": [
      "Fitting session 16...\n",
      "Fitting 2 states...\n"
     ]
    },
    {
     "name": "stderr",
     "output_type": "stream",
     "text": [
      "Converged to LP: -232.1:   2%|▏         | 35/2000 [00:00<00:07, 248.45it/s]\n",
      "Converged to LP: -229.5:   3%|▎         | 63/2000 [00:00<00:07, 247.84it/s]\n",
      "LP: -284.3:   0%|          | 0/2000 [00:00<?, ?it/s]"
     ]
    },
    {
     "name": "stdout",
     "output_type": "stream",
     "text": [
      "Fitting 3 states...\n"
     ]
    },
    {
     "name": "stderr",
     "output_type": "stream",
     "text": [
      "Converged to LP: -259.0:   1%|          | 11/2000 [00:00<00:10, 188.70it/s]\n",
      "Converged to LP: -273.1:   1%|          | 17/2000 [00:00<00:10, 191.99it/s]\n",
      "Converged to LP: -264.0:   1%|          | 17/2000 [00:00<00:09, 213.76it/s]\n",
      "Converged to LP: -262.4:   2%|▏         | 39/2000 [00:00<00:07, 251.55it/s]\n",
      "Converged to LP: -274.0:   6%|▌         | 115/2000 [00:00<00:07, 249.94it/s]\n",
      "Converged to LP: -319.3:   1%|          | 16/2000 [00:00<00:11, 172.36it/s]\n",
      "Converged to LP: -309.8:   1%|          | 16/2000 [00:00<00:17, 110.47it/s]\n",
      "LP: -296.2:   0%|          | 9/2000 [00:00<00:23, 84.51it/s]s]"
     ]
    },
    {
     "name": "stdout",
     "output_type": "stream",
     "text": [
      "Fitting 4 states...\n"
     ]
    },
    {
     "name": "stderr",
     "output_type": "stream",
     "text": [
      "Converged to LP: -304.8:   3%|▎         | 56/2000 [00:00<00:10, 178.74it/s]\n",
      "Converged to LP: -300.8:   4%|▍         | 79/2000 [00:00<00:09, 205.27it/s]\n",
      "Converged to LP: -289.9:   3%|▎         | 62/2000 [00:00<00:13, 143.55it/s]\n",
      "LP: -340.7:   1%|          | 16/2000 [00:00<00:12, 155.86it/s]"
     ]
    },
    {
     "name": "stdout",
     "output_type": "stream",
     "text": [
      "Fitting 5 states...\n"
     ]
    },
    {
     "name": "stderr",
     "output_type": "stream",
     "text": [
      "Converged to LP: -359.4:   1%|          | 16/2000 [00:00<00:15, 130.62it/s]\n",
      "Converged to LP: -340.7:   1%|          | 21/2000 [00:00<00:12, 163.27it/s]\n",
      "Converged to LP: -342.8:   1%|          | 22/2000 [00:00<00:13, 147.20it/s]\n",
      "Converged to LP: -353.5:   1%|          | 24/2000 [00:00<00:14, 133.83it/s]\n",
      "Converged to LP: -333.3:   3%|▎         | 64/2000 [00:00<00:13, 146.99it/s]\n",
      "Converged to LP: -277.5:   0%|          | 10/2000 [00:00<00:07, 263.79it/s]\n",
      "Converged to LP: -279.6:   1%|          | 11/2000 [00:00<00:07, 260.10it/s]\n",
      "LP: -270.4:   0%|          | 0/2000 [00:00<?, ?it/s]"
     ]
    },
    {
     "name": "stdout",
     "output_type": "stream",
     "text": [
      "Fitting session 17...\n",
      "Fitting 2 states...\n",
      "Fitting 3 states...\n"
     ]
    },
    {
     "name": "stderr",
     "output_type": "stream",
     "text": [
      "Converged to LP: -280.7:   1%|          | 24/2000 [00:00<00:06, 300.87it/s]\n",
      "Converged to LP: -268.8:   2%|▏         | 39/2000 [00:00<00:06, 297.51it/s]\n",
      "Converged to LP: -278.6:   2%|▏         | 44/2000 [00:00<00:06, 303.03it/s]\n",
      "Converged to LP: -296.1:   1%|          | 18/2000 [00:00<00:09, 212.24it/s]\n",
      "Converged to LP: -309.1:   1%|▏         | 25/2000 [00:00<00:09, 214.43it/s]\n",
      "Converged to LP: -303.0:   1%|          | 23/2000 [00:00<00:11, 175.38it/s]\n",
      "Converged to LP: -306.7:   2%|▏         | 49/2000 [00:00<00:11, 172.36it/s]\n",
      "Converged to LP: -308.1:   3%|▎         | 65/2000 [00:00<00:09, 207.77it/s]\n",
      "LP: -330.5:   1%|          | 13/2000 [00:00<00:15, 127.20it/s]"
     ]
    },
    {
     "name": "stdout",
     "output_type": "stream",
     "text": [
      "Fitting 4 states...\n"
     ]
    },
    {
     "name": "stderr",
     "output_type": "stream",
     "text": [
      "Converged to LP: -342.8:   2%|▏         | 31/2000 [00:00<00:14, 134.94it/s]\n",
      "Converged to LP: -343.9:   2%|▏         | 42/2000 [00:00<00:11, 168.94it/s]\n",
      "Converged to LP: -333.9:   2%|▏         | 49/2000 [00:00<00:11, 165.15it/s]\n",
      "Converged to LP: -330.4:   4%|▍         | 87/2000 [00:00<00:10, 185.97it/s]\n",
      "Converged to LP: -342.9:   4%|▍         | 84/2000 [00:00<00:11, 163.22it/s]\n",
      "LP: -379.5:   0%|          | 0/2000 [00:00<?, ?it/s]"
     ]
    },
    {
     "name": "stdout",
     "output_type": "stream",
     "text": [
      "Fitting 5 states...\n"
     ]
    },
    {
     "name": "stderr",
     "output_type": "stream",
     "text": [
      "Converged to LP: -373.3:   1%|          | 22/2000 [00:00<00:13, 148.99it/s]\n",
      "Converged to LP: -380.8:   1%|          | 22/2000 [00:00<00:12, 154.69it/s]\n",
      "Converged to LP: -381.9:   2%|▏         | 34/2000 [00:00<00:15, 122.95it/s]\n",
      "Converged to LP: -372.4:   3%|▎         | 54/2000 [00:00<00:11, 175.82it/s]\n",
      "Converged to LP: -358.8:   4%|▍         | 84/2000 [00:00<00:12, 152.47it/s]\n",
      "LP: -304.6:   0%|          | 0/2000 [00:00<?, ?it/s]"
     ]
    },
    {
     "name": "stdout",
     "output_type": "stream",
     "text": [
      "Fitting session 18...\n",
      "Fitting 2 states...\n"
     ]
    },
    {
     "name": "stderr",
     "output_type": "stream",
     "text": [
      "Converged to LP: -283.0:   2%|▏         | 38/2000 [00:00<00:06, 288.55it/s]\n",
      "Converged to LP: -304.5:   3%|▎         | 55/2000 [00:00<00:06, 294.23it/s]\n",
      "Converged to LP: -309.8:   3%|▎         | 58/2000 [00:00<00:06, 291.10it/s]\n",
      "Converged to LP: -303.6:   3%|▎         | 56/2000 [00:00<00:08, 241.44it/s]\n",
      "Converged to LP: -313.3:  12%|█▏        | 230/2000 [00:00<00:05, 307.42it/s]\n",
      "Converged to LP: -309.3:   1%|          | 14/2000 [00:00<00:10, 193.29it/s]\n",
      "LP: -331.8:   1%|          | 20/2000 [00:00<00:10, 194.13it/s]"
     ]
    },
    {
     "name": "stdout",
     "output_type": "stream",
     "text": [
      "Fitting 3 states...\n"
     ]
    },
    {
     "name": "stderr",
     "output_type": "stream",
     "text": [
      "Converged to LP: -334.8:   2%|▏         | 31/2000 [00:00<00:10, 185.23it/s]\n",
      "Converged to LP: -331.8:   2%|▏         | 35/2000 [00:00<00:09, 209.67it/s]\n",
      "Converged to LP: -341.7:   3%|▎         | 69/2000 [00:00<00:09, 193.32it/s]\n",
      "Converged to LP: -341.1:   9%|▉         | 187/2000 [00:00<00:08, 210.58it/s]\n",
      "LP: -371.4:   0%|          | 0/2000 [00:00<?, ?it/s]"
     ]
    },
    {
     "name": "stdout",
     "output_type": "stream",
     "text": [
      "Fitting 4 states...\n"
     ]
    },
    {
     "name": "stderr",
     "output_type": "stream",
     "text": [
      "Converged to LP: -345.7:   1%|          | 15/2000 [00:00<00:17, 110.70it/s]\n",
      "Converged to LP: -369.9:   2%|▏         | 41/2000 [00:00<00:10, 184.31it/s]\n",
      "Converged to LP: -375.5:   2%|▏         | 36/2000 [00:00<00:11, 164.57it/s]\n",
      "Converged to LP: -371.9:   2%|▏         | 35/2000 [00:00<00:14, 133.26it/s]\n",
      "Converged to LP: -363.6:   3%|▎         | 69/2000 [00:00<00:09, 194.49it/s]\n",
      "LP: -417.1:   0%|          | 0/2000 [00:00<?, ?it/s]"
     ]
    },
    {
     "name": "stdout",
     "output_type": "stream",
     "text": [
      "Fitting 5 states...\n"
     ]
    },
    {
     "name": "stderr",
     "output_type": "stream",
     "text": [
      "Converged to LP: -379.1:   0%|          | 10/2000 [00:00<00:18, 110.48it/s]\n",
      "Converged to LP: -409.4:   2%|▏         | 42/2000 [00:00<00:15, 125.17it/s]\n",
      "Converged to LP: -399.0:   3%|▎         | 52/2000 [00:00<00:14, 129.94it/s]\n",
      "Converged to LP: -400.4:   3%|▎         | 55/2000 [00:00<00:15, 126.20it/s]\n",
      "Converged to LP: -405.9:   4%|▍         | 83/2000 [00:00<00:14, 130.63it/s]\n",
      "LP: -278.3:   0%|          | 0/2000 [00:00<?, ?it/s]"
     ]
    },
    {
     "name": "stdout",
     "output_type": "stream",
     "text": [
      "Fitting session 19...\n",
      "Fitting 2 states...\n"
     ]
    },
    {
     "name": "stderr",
     "output_type": "stream",
     "text": [
      "Converged to LP: -280.9:   2%|▏         | 47/2000 [00:00<00:06, 313.14it/s]\n",
      "Converged to LP: -274.2:   3%|▎         | 58/2000 [00:00<00:06, 286.21it/s]\n",
      "Converged to LP: -284.1:   3%|▎         | 69/2000 [00:00<00:05, 337.65it/s]\n",
      "Converged to LP: -269.0:   5%|▌         | 105/2000 [00:00<00:05, 363.41it/s]\n",
      "Converged to LP: -284.7:   6%|▋         | 130/2000 [00:00<00:06, 305.36it/s]\n"
     ]
    },
    {
     "name": "stdout",
     "output_type": "stream",
     "text": [
      "Fitting 3 states...\n"
     ]
    },
    {
     "name": "stderr",
     "output_type": "stream",
     "text": [
      "Converged to LP: -304.5:   1%|          | 19/2000 [00:00<00:09, 211.63it/s]\n",
      "Converged to LP: -299.8:   3%|▎         | 56/2000 [00:00<00:08, 228.20it/s]\n",
      "Converged to LP: -311.3:   4%|▍         | 85/2000 [00:00<00:08, 236.12it/s]\n",
      "Converged to LP: -301.7:   6%|▌         | 116/2000 [00:00<00:08, 223.56it/s]\n",
      "Converged to LP: -309.8:   7%|▋         | 148/2000 [00:00<00:07, 258.92it/s]\n",
      "LP: -371.2:   0%|          | 0/2000 [00:00<?, ?it/s]"
     ]
    },
    {
     "name": "stdout",
     "output_type": "stream",
     "text": [
      "Fitting 4 states...\n"
     ]
    },
    {
     "name": "stderr",
     "output_type": "stream",
     "text": [
      "Converged to LP: -331.9:   2%|▏         | 46/2000 [00:00<00:13, 141.24it/s]\n",
      "Converged to LP: -336.8:   3%|▎         | 66/2000 [00:00<00:09, 195.14it/s]\n",
      "Converged to LP: -354.0:   3%|▎         | 63/2000 [00:00<00:10, 179.29it/s]\n",
      "Converged to LP: -344.9:   5%|▍         | 97/2000 [00:00<00:11, 163.18it/s]\n",
      "Converged to LP: -336.6:   8%|▊         | 153/2000 [00:00<00:09, 191.40it/s]\n",
      "LP: -406.0:   0%|          | 0/2000 [00:00<?, ?it/s]"
     ]
    },
    {
     "name": "stdout",
     "output_type": "stream",
     "text": [
      "Fitting 5 states...\n"
     ]
    },
    {
     "name": "stderr",
     "output_type": "stream",
     "text": [
      "Converged to LP: -385.1:   1%|          | 14/2000 [00:00<00:14, 141.39it/s]\n",
      "Converged to LP: -375.2:   4%|▍         | 79/2000 [00:00<00:12, 154.00it/s]\n",
      "Converged to LP: -368.0:   5%|▌         | 103/2000 [00:00<00:11, 160.97it/s]\n",
      "Converged to LP: -383.1:   5%|▌         | 100/2000 [00:00<00:13, 142.25it/s]\n",
      "Converged to LP: -382.8:  13%|█▎        | 264/2000 [00:01<00:10, 169.19it/s]\n",
      "LP: -298.5:   0%|          | 0/2000 [00:00<?, ?it/s]"
     ]
    },
    {
     "name": "stdout",
     "output_type": "stream",
     "text": [
      "Fitting session 20...\n",
      "Fitting 2 states...\n",
      "Fitting 3 states...\n"
     ]
    },
    {
     "name": "stderr",
     "output_type": "stream",
     "text": [
      "Converged to LP: -302.2:   1%|          | 17/2000 [00:00<00:07, 272.07it/s]\n",
      "Converged to LP: -298.5:   1%|          | 12/2000 [00:00<00:10, 190.40it/s]\n",
      "Converged to LP: -294.1:   1%|          | 17/2000 [00:00<00:07, 279.58it/s]\n",
      "Converged to LP: -302.2:   1%|          | 20/2000 [00:00<00:09, 210.96it/s]\n",
      "Converged to LP: -292.6:   3%|▎         | 56/2000 [00:00<00:06, 305.23it/s]\n",
      "Converged to LP: -330.6:   1%|          | 16/2000 [00:00<00:09, 215.83it/s]\n",
      "Converged to LP: -327.8:   1%|          | 14/2000 [00:00<00:12, 164.89it/s]\n",
      "Converged to LP: -328.1:   2%|▏         | 32/2000 [00:00<00:11, 176.65it/s]\n",
      "Converged to LP: -335.5:   2%|▏         | 33/2000 [00:00<00:12, 156.92it/s]\n",
      "Converged to LP: -331.9:   2%|▎         | 50/2000 [00:00<00:08, 228.75it/s]\n",
      "LP: -394.4:   0%|          | 0/2000 [00:00<?, ?it/s]"
     ]
    },
    {
     "name": "stdout",
     "output_type": "stream",
     "text": [
      "Fitting 4 states...\n"
     ]
    },
    {
     "name": "stderr",
     "output_type": "stream",
     "text": [
      "Converged to LP: -361.0:   1%|▏         | 28/2000 [00:00<00:11, 169.61it/s]\n",
      "Converged to LP: -361.5:   3%|▎         | 60/2000 [00:00<00:10, 178.56it/s]\n",
      "Converged to LP: -364.5:   3%|▎         | 66/2000 [00:00<00:11, 168.25it/s]\n",
      "Converged to LP: -359.4:   6%|▌         | 123/2000 [00:00<00:10, 181.95it/s]\n",
      "Converged to LP: -349.8:   8%|▊         | 155/2000 [00:00<00:09, 201.15it/s]\n",
      "LP: -422.2:   0%|          | 0/2000 [00:00<?, ?it/s]"
     ]
    },
    {
     "name": "stdout",
     "output_type": "stream",
     "text": [
      "Fitting 5 states...\n"
     ]
    },
    {
     "name": "stderr",
     "output_type": "stream",
     "text": [
      "Converged to LP: -395.4:   1%|          | 24/2000 [00:00<00:17, 111.48it/s]\n",
      "Converged to LP: -395.6:   2%|▏         | 31/2000 [00:00<00:15, 127.64it/s]\n",
      "Converged to LP: -402.4:   2%|▏         | 42/2000 [00:00<00:18, 106.78it/s]\n",
      "Converged to LP: -398.5:   3%|▎         | 54/2000 [00:00<00:16, 121.25it/s]\n",
      "Converged to LP: -402.6:  14%|█▍        | 288/2000 [00:01<00:10, 166.72it/s]\n",
      "Converged to LP: -245.5:   0%|          | 8/2000 [00:00<00:07, 252.20it/s]\n",
      "Converged to LP: -243.3:   0%|          | 5/2000 [00:00<00:14, 139.51it/s]\n",
      "Converged to LP: -247.4:   0%|          | 10/2000 [00:00<00:07, 266.06it/s]\n",
      "Converged to LP: -252.4:   1%|          | 16/2000 [00:00<00:06, 302.42it/s]\n",
      "Converged to LP: -237.7:   1%|          | 17/2000 [00:00<00:07, 252.64it/s]\n",
      "LP: -275.2:   0%|          | 0/2000 [00:00<?, ?it/s]"
     ]
    },
    {
     "name": "stdout",
     "output_type": "stream",
     "text": [
      "Fitting session 21...\n",
      "Fitting 2 states...\n",
      "Fitting 3 states...\n"
     ]
    },
    {
     "name": "stderr",
     "output_type": "stream",
     "text": [
      "Converged to LP: -274.8:   1%|          | 18/2000 [00:00<00:07, 248.23it/s]\n",
      "Converged to LP: -290.1:   1%|          | 20/2000 [00:00<00:08, 244.26it/s]\n",
      "Converged to LP: -275.2:   1%|▏         | 27/2000 [00:00<00:09, 199.00it/s]\n",
      "Converged to LP: -269.0:   2%|▏         | 35/2000 [00:00<00:12, 156.09it/s]\n",
      "Converged to LP: -284.8:   5%|▍         | 99/2000 [00:00<00:07, 268.78it/s]\n",
      "LP: -324.8:   0%|          | 0/2000 [00:00<?, ?it/s]"
     ]
    },
    {
     "name": "stdout",
     "output_type": "stream",
     "text": [
      "Fitting 4 states...\n"
     ]
    },
    {
     "name": "stderr",
     "output_type": "stream",
     "text": [
      "Converged to LP: -311.0:   1%|▏         | 28/2000 [00:00<00:10, 186.91it/s]\n",
      "Converged to LP: -313.3:   1%|          | 17/2000 [00:00<00:18, 107.02it/s]\n",
      "Converged to LP: -312.4:   1%|          | 19/2000 [00:00<00:17, 116.22it/s]\n",
      "Converged to LP: -319.0:   2%|▏         | 38/2000 [00:00<00:10, 187.93it/s]\n",
      "Converged to LP: -320.5:   4%|▍         | 89/2000 [00:00<00:09, 208.05it/s]\n",
      "LP: -399.0:   0%|          | 0/2000 [00:00<?, ?it/s]"
     ]
    },
    {
     "name": "stdout",
     "output_type": "stream",
     "text": [
      "Fitting 5 states...\n"
     ]
    },
    {
     "name": "stderr",
     "output_type": "stream",
     "text": [
      "Converged to LP: -365.4:   1%|          | 20/2000 [00:00<00:13, 147.37it/s]\n",
      "Converged to LP: -353.2:   2%|▏         | 32/2000 [00:00<00:09, 203.09it/s]\n",
      "Converged to LP: -347.3:   2%|▏         | 36/2000 [00:00<00:12, 158.09it/s]\n",
      "Converged to LP: -344.8:   2%|▏         | 40/2000 [00:00<00:13, 144.24it/s]\n",
      "Converged to LP: -360.5:   2%|▏         | 44/2000 [00:00<00:12, 160.12it/s]\n",
      "Converged to LP: -289.2:   1%|▏         | 25/2000 [00:00<00:05, 367.79it/s]\n",
      "Converged to LP: -301.7:   1%|          | 18/2000 [00:00<00:06, 298.70it/s]\n",
      "Converged to LP: -298.1:   1%|          | 13/2000 [00:00<00:10, 184.28it/s]\n",
      "Converged to LP: -297.7:   2%|▏         | 33/2000 [00:00<00:06, 307.16it/s]\n",
      "LP: -296.8:   1%|          | 23/2000 [00:00<00:08, 222.35it/s]"
     ]
    },
    {
     "name": "stdout",
     "output_type": "stream",
     "text": [
      "Fitting session 22...\n",
      "Fitting 2 states...\n"
     ]
    },
    {
     "name": "stderr",
     "output_type": "stream",
     "text": [
      "Converged to LP: -296.5:   5%|▌         | 106/2000 [00:00<00:06, 300.16it/s]\n",
      "Converged to LP: -329.0:   1%|          | 17/2000 [00:00<00:13, 151.33it/s]\n",
      "Converged to LP: -335.6:   1%|          | 17/2000 [00:00<00:12, 159.00it/s]\n",
      "LP: -339.4:   1%|          | 13/2000 [00:00<00:15, 128.62it/s]"
     ]
    },
    {
     "name": "stdout",
     "output_type": "stream",
     "text": [
      "Fitting 3 states...\n"
     ]
    },
    {
     "name": "stderr",
     "output_type": "stream",
     "text": [
      "Converged to LP: -330.0:   2%|▏         | 40/2000 [00:00<00:10, 193.63it/s]\n",
      "Converged to LP: -325.1:   2%|▏         | 44/2000 [00:00<00:12, 156.23it/s]\n",
      "Converged to LP: -338.8:   4%|▎         | 70/2000 [00:00<00:09, 196.92it/s]\n"
     ]
    },
    {
     "name": "stdout",
     "output_type": "stream",
     "text": [
      "Fitting 4 states...\n"
     ]
    },
    {
     "name": "stderr",
     "output_type": "stream",
     "text": [
      "Converged to LP: -370.5:   1%|          | 23/2000 [00:00<00:11, 168.72it/s]\n",
      "Converged to LP: -364.0:   1%|          | 23/2000 [00:00<00:14, 134.51it/s]\n",
      "Converged to LP: -354.1:   3%|▎         | 54/2000 [00:00<00:15, 123.81it/s]\n",
      "Converged to LP: -363.3:   5%|▌         | 105/2000 [00:00<00:11, 163.49it/s]\n",
      "Converged to LP: -370.8:   5%|▌         | 103/2000 [00:00<00:12, 157.66it/s]\n",
      "LP: -413.5:   1%|          | 16/2000 [00:00<00:12, 156.25it/s]"
     ]
    },
    {
     "name": "stdout",
     "output_type": "stream",
     "text": [
      "Fitting 5 states...\n"
     ]
    },
    {
     "name": "stderr",
     "output_type": "stream",
     "text": [
      "Converged to LP: -392.5:   1%|          | 21/2000 [00:00<00:15, 128.93it/s]\n",
      "Converged to LP: -402.0:   1%|▏         | 28/2000 [00:00<00:13, 143.04it/s]\n",
      "Converged to LP: -409.9:   2%|▏         | 30/2000 [00:00<00:13, 141.63it/s]\n",
      "Converged to LP: -409.1:   2%|▏         | 48/2000 [00:00<00:14, 130.57it/s]\n",
      "Converged to LP: -399.5:  13%|█▎        | 259/2000 [00:01<00:10, 173.28it/s]\n",
      "LP: -332.0:   0%|          | 0/2000 [00:00<?, ?it/s]"
     ]
    },
    {
     "name": "stdout",
     "output_type": "stream",
     "text": [
      "Fitting session 23...\n",
      "Fitting 2 states...\n"
     ]
    },
    {
     "name": "stderr",
     "output_type": "stream",
     "text": [
      "Converged to LP: -331.8:   2%|▏         | 44/2000 [00:00<00:07, 259.07it/s]\n",
      "Converged to LP: -334.9:   3%|▎         | 51/2000 [00:00<00:06, 291.05it/s]\n",
      "Converged to LP: -332.0:   2%|▏         | 42/2000 [00:00<00:09, 212.43it/s]\n",
      "Converged to LP: -330.5:   3%|▎         | 56/2000 [00:00<00:09, 207.87it/s]\n",
      "Converged to LP: -332.9:   4%|▍         | 83/2000 [00:00<00:07, 248.85it/s]\n",
      "Converged to LP: -367.1:   1%|          | 15/2000 [00:00<00:11, 167.61it/s]\n",
      "LP: -365.4:   0%|          | 0/2000 [00:00<?, ?it/s]28.16it/s]"
     ]
    },
    {
     "name": "stdout",
     "output_type": "stream",
     "text": [
      "Fitting 3 states...\n"
     ]
    },
    {
     "name": "stderr",
     "output_type": "stream",
     "text": [
      "Converged to LP: -365.4:   1%|          | 20/2000 [00:00<00:10, 195.97it/s]\n",
      "Converged to LP: -364.1:   1%|          | 19/2000 [00:00<00:11, 172.64it/s]\n",
      "Converged to LP: -365.1:   1%|▏         | 28/2000 [00:00<00:12, 160.45it/s]\n",
      "Converged to LP: -368.9:   3%|▎         | 64/2000 [00:00<00:10, 193.46it/s]\n",
      "Converged to LP: -403.4:   0%|          | 10/2000 [00:00<00:18, 108.68it/s]\n",
      "Converged to LP: -401.6:   1%|          | 19/2000 [00:00<00:11, 175.64it/s]\n",
      "Converged to LP: -401.8:   1%|          | 17/2000 [00:00<00:14, 136.64it/s]\n",
      "Converged to LP: -395.9:   1%|          | 20/2000 [00:00<00:14, 136.76it/s]\n",
      "LP: -400.6:   1%|          | 11/2000 [00:00<00:18, 106.75it/s]"
     ]
    },
    {
     "name": "stdout",
     "output_type": "stream",
     "text": [
      "Fitting 4 states...\n",
      "Fitting 5 states...\n"
     ]
    },
    {
     "name": "stderr",
     "output_type": "stream",
     "text": [
      "Converged to LP: -400.6:   1%|▏         | 27/2000 [00:00<00:12, 154.55it/s]\n",
      "Converged to LP: -442.3:   1%|          | 20/2000 [00:00<00:11, 168.97it/s]\n",
      "Converged to LP: -435.2:   1%|          | 21/2000 [00:00<00:12, 155.51it/s]\n",
      "Converged to LP: -439.7:   1%|          | 22/2000 [00:00<00:16, 120.02it/s]\n",
      "Converged to LP: -439.9:   1%|▏         | 29/2000 [00:00<00:14, 131.74it/s]\n",
      "Converged to LP: -431.2:   2%|▏         | 38/2000 [00:00<00:12, 162.08it/s]\n",
      "Converged to LP: -312.9:   1%|          | 13/2000 [00:00<00:06, 326.18it/s]\n",
      "Converged to LP: -313.9:   1%|          | 12/2000 [00:00<00:09, 215.29it/s]\n",
      "LP: -321.0:   2%|▏         | 31/2000 [00:00<00:06, 306.26it/s]"
     ]
    },
    {
     "name": "stdout",
     "output_type": "stream",
     "text": [
      "Fitting session 24...\n",
      "Fitting 2 states...\n"
     ]
    },
    {
     "name": "stderr",
     "output_type": "stream",
     "text": [
      "Converged to LP: -331.0:   2%|▏         | 37/2000 [00:00<00:07, 264.85it/s]\n",
      "Converged to LP: -316.0:   4%|▍         | 90/2000 [00:00<00:06, 311.61it/s]\n",
      "Converged to LP: -320.9:   6%|▌         | 118/2000 [00:00<00:05, 342.12it/s]\n"
     ]
    },
    {
     "name": "stdout",
     "output_type": "stream",
     "text": [
      "Fitting 3 states...\n"
     ]
    },
    {
     "name": "stderr",
     "output_type": "stream",
     "text": [
      "Converged to LP: -347.9:   1%|          | 19/2000 [00:00<00:09, 206.96it/s]\n",
      "Converged to LP: -349.0:   1%|          | 17/2000 [00:00<00:13, 146.19it/s]\n",
      "Converged to LP: -345.7:   2%|▏         | 31/2000 [00:00<00:11, 173.74it/s]\n",
      "Converged to LP: -348.5:   6%|▌         | 122/2000 [00:00<00:08, 224.15it/s]\n",
      "Converged to LP: -364.3:   6%|▋         | 129/2000 [00:00<00:08, 222.29it/s]\n",
      "LP: -409.7:   0%|          | 0/2000 [00:00<?, ?it/s]"
     ]
    },
    {
     "name": "stdout",
     "output_type": "stream",
     "text": [
      "Fitting 4 states...\n"
     ]
    },
    {
     "name": "stderr",
     "output_type": "stream",
     "text": [
      "Converged to LP: -384.3:   1%|          | 17/2000 [00:00<00:19, 99.47it/s]\n",
      "Converged to LP: -384.9:   2%|▏         | 35/2000 [00:00<00:15, 128.70it/s]\n",
      "Converged to LP: -403.2:   2%|▏         | 41/2000 [00:00<00:13, 143.84it/s]\n",
      "Converged to LP: -385.0:   3%|▎         | 61/2000 [00:00<00:10, 180.43it/s]\n",
      "Converged to LP: -378.0:  14%|█▎        | 272/2000 [00:01<00:09, 185.02it/s]\n",
      "LP: -418.7:   1%|          | 13/2000 [00:00<00:16, 119.72it/s]"
     ]
    },
    {
     "name": "stdout",
     "output_type": "stream",
     "text": [
      "Fitting 5 states...\n"
     ]
    },
    {
     "name": "stderr",
     "output_type": "stream",
     "text": [
      "Converged to LP: -421.9:   1%|          | 21/2000 [00:00<00:19, 101.19it/s]\n",
      "Converged to LP: -427.4:   1%|▏         | 27/2000 [00:00<00:18, 107.53it/s]\n",
      "Converged to LP: -438.8:   2%|▏         | 47/2000 [00:00<00:15, 129.73it/s]\n",
      "Converged to LP: -423.5:   4%|▍         | 80/2000 [00:00<00:12, 152.51it/s]\n",
      "Converged to LP: -413.1:   4%|▍         | 77/2000 [00:00<00:15, 125.55it/s]\n",
      "Converged to LP: -329.9:   0%|          | 9/2000 [00:00<00:10, 187.14it/s]\n",
      "Converged to LP: -329.8:   1%|          | 11/2000 [00:00<00:06, 293.73it/s]\n",
      "Converged to LP: -330.3:   0%|          | 10/2000 [00:00<00:08, 223.76it/s]\n",
      "Converged to LP: -330.0:   1%|          | 15/2000 [00:00<00:06, 303.19it/s]\n",
      "Converged to LP: -325.4:   1%|          | 13/2000 [00:00<00:09, 205.38it/s]\n",
      "LP: -367.7:   0%|          | 0/2000 [00:00<?, ?it/s]"
     ]
    },
    {
     "name": "stdout",
     "output_type": "stream",
     "text": [
      "Fitting session 25...\n",
      "Fitting 2 states...\n",
      "Fitting 3 states...\n"
     ]
    },
    {
     "name": "stderr",
     "output_type": "stream",
     "text": [
      "Converged to LP: -363.4:   1%|          | 17/2000 [00:00<00:14, 138.41it/s]\n",
      "Converged to LP: -362.2:   1%|          | 21/2000 [00:00<00:14, 138.77it/s]\n",
      "Converged to LP: -355.2:   1%|          | 21/2000 [00:00<00:16, 117.86it/s]\n",
      "Converged to LP: -360.5:   5%|▌         | 102/2000 [00:00<00:08, 224.95it/s]\n",
      "Converged to LP: -364.3:   6%|▌         | 121/2000 [00:00<00:08, 217.90it/s]\n",
      "LP: -403.5:   0%|          | 0/2000 [00:00<?, ?it/s]"
     ]
    },
    {
     "name": "stdout",
     "output_type": "stream",
     "text": [
      "Fitting 4 states...\n"
     ]
    },
    {
     "name": "stderr",
     "output_type": "stream",
     "text": [
      "Converged to LP: -389.0:   1%|          | 19/2000 [00:00<00:14, 134.70it/s]\n",
      "Converged to LP: -398.1:   1%|▏         | 28/2000 [00:00<00:11, 165.19it/s]\n",
      "Converged to LP: -399.8:   2%|▏         | 38/2000 [00:00<00:11, 165.43it/s]\n",
      "Converged to LP: -399.3:   3%|▎         | 67/2000 [00:00<00:11, 165.28it/s]\n",
      "Converged to LP: -398.5:   3%|▎         | 67/2000 [00:00<00:11, 164.27it/s]\n",
      "LP: -441.3:   0%|          | 0/2000 [00:00<?, ?it/s]"
     ]
    },
    {
     "name": "stdout",
     "output_type": "stream",
     "text": [
      "Fitting 5 states...\n"
     ]
    },
    {
     "name": "stderr",
     "output_type": "stream",
     "text": [
      "Converged to LP: -436.2:   1%|          | 15/2000 [00:00<00:22, 89.67it/s]\n",
      "Converged to LP: -424.3:   2%|▏         | 33/2000 [00:00<00:13, 144.19it/s]\n",
      "Converged to LP: -430.9:   2%|▏         | 40/2000 [00:00<00:14, 138.80it/s]\n",
      "Converged to LP: -439.5:   2%|▏         | 47/2000 [00:00<00:12, 157.78it/s]\n",
      "Converged to LP: -435.9:   4%|▍         | 80/2000 [00:00<00:12, 151.78it/s]\n",
      "Converged to LP: -340.1:   1%|          | 18/2000 [00:00<00:10, 185.37it/s]\n",
      "LP: -332.9:   1%|          | 19/2000 [00:00<00:10, 186.96it/s]"
     ]
    },
    {
     "name": "stdout",
     "output_type": "stream",
     "text": [
      "Fitting session 26...\n",
      "Fitting 2 states...\n"
     ]
    },
    {
     "name": "stderr",
     "output_type": "stream",
     "text": [
      "Converged to LP: -334.4:   3%|▎         | 56/2000 [00:00<00:07, 272.43it/s]\n",
      "Converged to LP: -332.1:   3%|▎         | 55/2000 [00:00<00:09, 195.45it/s]\n",
      "Converged to LP: -334.0:   3%|▎         | 63/2000 [00:00<00:10, 186.39it/s]\n",
      "Converged to LP: -328.8:   4%|▎         | 70/2000 [00:00<00:09, 198.48it/s]\n",
      "Converged to LP: -361.3:   1%|          | 19/2000 [00:00<00:09, 219.32it/s]\n",
      "Converged to LP: -366.6:   1%|          | 23/2000 [00:00<00:10, 191.98it/s]\n",
      "LP: -372.0:   1%|          | 13/2000 [00:00<00:16, 123.90it/s]"
     ]
    },
    {
     "name": "stdout",
     "output_type": "stream",
     "text": [
      "Fitting 3 states...\n"
     ]
    },
    {
     "name": "stderr",
     "output_type": "stream",
     "text": [
      "Converged to LP: -369.9:   4%|▍         | 79/2000 [00:00<00:07, 251.18it/s]\n",
      "Converged to LP: -371.8:   3%|▎         | 52/2000 [00:00<00:12, 151.90it/s]\n",
      "Converged to LP: -369.3:   3%|▎         | 56/2000 [00:00<00:12, 150.14it/s]\n"
     ]
    },
    {
     "name": "stdout",
     "output_type": "stream",
     "text": [
      "Fitting 4 states...\n"
     ]
    },
    {
     "name": "stderr",
     "output_type": "stream",
     "text": [
      "Converged to LP: -397.3:   1%|▏         | 27/2000 [00:00<00:13, 141.28it/s]\n",
      "Converged to LP: -408.1:   2%|▏         | 39/2000 [00:00<00:10, 185.67it/s]\n",
      "Converged to LP: -398.0:   3%|▎         | 52/2000 [00:00<00:10, 182.31it/s]\n",
      "Converged to LP: -404.0:   4%|▍         | 80/2000 [00:00<00:09, 199.07it/s]\n",
      "Converged to LP: -405.1:   4%|▎         | 74/2000 [00:00<00:11, 174.49it/s]\n",
      "LP: -437.0:   1%|          | 13/2000 [00:00<00:15, 125.90it/s]"
     ]
    },
    {
     "name": "stdout",
     "output_type": "stream",
     "text": [
      "Fitting 5 states...\n"
     ]
    },
    {
     "name": "stderr",
     "output_type": "stream",
     "text": [
      "Converged to LP: -445.5:   1%|          | 24/2000 [00:00<00:13, 141.94it/s]\n",
      "Converged to LP: -434.9:   2%|▏         | 36/2000 [00:00<00:13, 140.95it/s]\n",
      "Converged to LP: -429.6:   2%|▏         | 33/2000 [00:00<00:18, 104.42it/s]\n",
      "Converged to LP: -435.8:   3%|▎         | 59/2000 [00:00<00:19, 101.77it/s]\n",
      "Converged to LP: -438.0:   4%|▍         | 82/2000 [00:00<00:17, 112.09it/s]\n",
      "Converged to LP: -287.4:   1%|          | 11/2000 [00:00<00:06, 301.44it/s]\n",
      "LP: -288.6:   0%|          | 0/2000 [00:00<?, ?it/s]"
     ]
    },
    {
     "name": "stdout",
     "output_type": "stream",
     "text": [
      "Fitting session 27...\n",
      "Fitting 2 states...\n",
      "Fitting 3 states...\n"
     ]
    },
    {
     "name": "stderr",
     "output_type": "stream",
     "text": [
      "Converged to LP: -280.4:   1%|          | 14/2000 [00:00<00:07, 279.14it/s]\n",
      "Converged to LP: -286.7:   1%|          | 11/2000 [00:00<00:09, 219.40it/s]\n",
      "Converged to LP: -288.6:   1%|          | 12/2000 [00:00<00:08, 241.51it/s]\n",
      "Converged to LP: -286.7:   1%|          | 18/2000 [00:00<00:08, 244.49it/s]\n",
      "Converged to LP: -316.6:   1%|▏         | 25/2000 [00:00<00:09, 205.63it/s]\n",
      "Converged to LP: -324.0:   1%|          | 22/2000 [00:00<00:11, 173.31it/s]\n",
      "Converged to LP: -322.1:   2%|▏         | 43/2000 [00:00<00:07, 245.52it/s]\n",
      "Converged to LP: -313.9:   5%|▌         | 106/2000 [00:00<00:09, 210.08it/s]\n",
      "Converged to LP: -321.9:  10%|█         | 207/2000 [00:00<00:07, 238.69it/s]\n",
      "LP: -354.0:   0%|          | 0/2000 [00:00<?, ?it/s]"
     ]
    },
    {
     "name": "stdout",
     "output_type": "stream",
     "text": [
      "Fitting 4 states...\n"
     ]
    },
    {
     "name": "stderr",
     "output_type": "stream",
     "text": [
      "Converged to LP: -355.9:   1%|▏         | 29/2000 [00:00<00:09, 197.31it/s]\n",
      "Converged to LP: -361.2:   1%|▏         | 28/2000 [00:00<00:13, 147.52it/s]\n",
      "Converged to LP: -350.3:   2%|▏         | 36/2000 [00:00<00:12, 151.17it/s]\n",
      "Converged to LP: -357.4:   3%|▎         | 57/2000 [00:00<00:14, 131.35it/s]\n",
      "Converged to LP: -346.6:   5%|▍         | 94/2000 [00:00<00:10, 177.81it/s]\n",
      "LP: -400.2:   1%|          | 13/2000 [00:00<00:15, 128.26it/s]"
     ]
    },
    {
     "name": "stdout",
     "output_type": "stream",
     "text": [
      "Fitting 5 states...\n"
     ]
    },
    {
     "name": "stderr",
     "output_type": "stream",
     "text": [
      "Converged to LP: -396.2:   1%|          | 23/2000 [00:00<00:18, 105.33it/s]\n",
      "Converged to LP: -387.1:   2%|▏         | 30/2000 [00:00<00:17, 111.03it/s]\n",
      "Converged to LP: -388.3:   2%|▎         | 50/2000 [00:00<00:13, 140.89it/s]\n",
      "Converged to LP: -396.8:   3%|▎         | 55/2000 [00:00<00:13, 147.59it/s]\n",
      "Converged to LP: -387.2:  31%|███       | 623/2000 [00:03<00:07, 173.78it/s]\n"
     ]
    }
   ],
   "source": [
    "# fit session-wise with 5 fold cross-validation\n",
    "models_session_state_fold, session_train_ll, session_test_ll = glm_hmm_utils.session_wise_fit_cv(observations=choices_session_wise, inputs=inputs_session_wise, masks=masks_session_wise,\n",
    "                                                                    n_sessions=len(sessions), init_params=init_params, n_iters=2000)"
   ]
  },
  {
   "cell_type": "code",
   "execution_count": 134,
   "metadata": {},
   "outputs": [],
   "source": [
    "session_wise_fits = {\n",
    "    'models': models_session_state_fold,\n",
    "    'train_ll': session_train_ll,\n",
    "    'test_ll': session_test_ll\n",
    "}\n",
    "\n",
    "with open(Path(processed_dir, 'models_glm_hmm_session_wise.pkl'), 'wb') as f:\n",
    "    pickle.dump(session_wise_fits, f)"
   ]
  },
  {
   "cell_type": "code",
   "execution_count": 155,
   "metadata": {},
   "outputs": [
    {
     "data": {
      "text/plain": [
       "array([-60.66123945, -61.58948388, -62.8121262 , -63.09914064])"
      ]
     },
     "execution_count": 155,
     "metadata": {},
     "output_type": "execute_result"
    }
   ],
   "source": [
    "np.mean(np.mean(session_wise_fits['test_ll'], axis=0), axis=1)"
   ]
  },
  {
   "cell_type": "code",
   "execution_count": 9,
   "metadata": {},
   "outputs": [],
   "source": [
    "with open(Path(processed_dir, 'models_glm_hmm_session_wise.pkl'), 'rb') as f:\n",
    "    session_wise_fits = pickle.load(f)"
   ]
  },
  {
   "cell_type": "code",
   "execution_count": null,
   "metadata": {},
   "outputs": [],
   "source": [
    "def plot_weights(model, input_dim, axs):\n",
    "    cols = ['#ff7f00', '#4daf4a', '#377eb8']\n",
    "    recovered_weights = -model.observations.params\n",
    "    for k in range(num_states):\n",
    "        axs.plot(range(input_dim), recovered_weights[k][0], color=cols[k],\n",
    "                        lw=1.5,  label = '', linestyle = '-')\n",
    "\n",
    "    axs.set_ylabel(\"GLM weight\", fontsize=15)\n",
    "    axs.set_xlabel(\"covariate\", fontsize=15)\n",
    "    axs.set_xticks([0, 1, 2, 3, 4], ['stimulus', 'color', 'bias', 'previous_choice,', 'previous_target'], fontsize=12, rotation=10)\n",
    "    axs.axhline(y=0, color=\"k\", alpha=0.5, ls=\"--\")\n",
    "    axs.legend(fontsize=12);\n",
    "    axs.set_title(\"Weight recovery\", fontsize=15)"
   ]
  },
  {
   "cell_type": "code",
   "execution_count": 11,
   "metadata": {},
   "outputs": [
    {
     "data": {
      "text/plain": [
       "0      Brady_P1_OFFmeds_rr.mat\n",
       "1       Trem_P4_OFFmeds_rl.mat\n",
       "2       Trem_P6_OFFmeds_gl.mat\n",
       "3       Trem_P7_OFFmeds_gr.mat\n",
       "4       Trem_P9_OFFmeds_rr.mat\n",
       "5      Trem_P11_OFFmeds_gr.mat\n",
       "6      Trem_P13_OFFmeds_rr.mat\n",
       "7      Trem_P17_OFFmeds_rr.mat\n",
       "8      Trem_P18_OFFmeds_gl.mat\n",
       "9      Trem_P19_OFFmeds_gr.mat\n",
       "10     Trem_P20_OFFmeds_gl.mat\n",
       "11    Brady_P22_OFFmeds_rr.mat\n",
       "12    Brady_P23_OFFmeds_gr.mat\n",
       "13    Brady_P24_OFFmeds_rl.mat\n",
       "14      Brady_P1_ONmeds_gr.mat\n",
       "15       Trem_P4_ONmeds_gl.mat\n",
       "16       Trem_P6_ONmeds_rl.mat\n",
       "17       Trem_P7_ONmeds_rr.mat\n",
       "18       Trem_P9_ONmeds_gr.mat\n",
       "19      Trem_P11_ONmeds_rr.mat\n",
       "20      Trem_P13_ONmeds_gr.mat\n",
       "21      Trem_P17_ONmeds_gr.mat\n",
       "22      Trem_P18_ONmeds_rl.mat\n",
       "23      Trem_P19_ONmeds_rr.mat\n",
       "24      Trem_P20_ONmeds_rl.mat\n",
       "25     Brady_P22_ONmeds_rl.mat\n",
       "26     Brady_P23_ONmeds_rr.mat\n",
       "27     Brady_P24_ONmeds_gl.mat\n",
       "Name: file_name, dtype: object"
      ]
     },
     "execution_count": 11,
     "metadata": {},
     "output_type": "execute_result"
    }
   ],
   "source": [
    "sessions"
   ]
  },
  {
   "cell_type": "code",
   "execution_count": 18,
   "metadata": {},
   "outputs": [
    {
     "ename": "TypeError",
     "evalue": "'float' object cannot be interpreted as an integer",
     "output_type": "error",
     "traceback": [
      "\u001b[0;31m---------------------------------------------------------------------------\u001b[0m",
      "\u001b[0;31mTypeError\u001b[0m                                 Traceback (most recent call last)",
      "Cell \u001b[0;32mIn[18], line 1\u001b[0m\n\u001b[0;32m----> 1\u001b[0m \u001b[38;5;28;43mrange\u001b[39;49m\u001b[43m(\u001b[49m\u001b[38;5;28;43mlen\u001b[39;49m\u001b[43m(\u001b[49m\u001b[43msessions\u001b[49m\u001b[43m)\u001b[49m\u001b[38;5;241;43m+\u001b[39;49m\u001b[38;5;241;43m1\u001b[39;49m\u001b[38;5;241;43m/\u001b[39;49m\u001b[38;5;241;43m2\u001b[39;49m\u001b[43m)\u001b[49m\n",
      "\u001b[0;31mTypeError\u001b[0m: 'float' object cannot be interpreted as an integer"
     ]
    }
   ],
   "source": [
    "range(len(sessions)+1/2)"
   ]
  },
  {
   "cell_type": "code",
   "execution_count": 14,
   "metadata": {},
   "outputs": [
    {
     "name": "stderr",
     "output_type": "stream",
     "text": [
      "No artists with labels found to put in legend.  Note that artists whose label start with an underscore are ignored when legend() is called with no argument.\n"
     ]
    },
    {
     "data": {
      "image/png": "[encoded data removed]",
      "text/plain": [
       "<Figure size 1200x600 with 2 Axes>"
      ]
     },
     "metadata": {},
     "output_type": "display_data"
    }
   ],
   "source": [
    "sub_idx = 0\n",
    "num_states = 2\n",
    "for sub_idx in range(14),\n",
    "    fig, axs = plt.subplots(1, 2, figsize=(12, 6))\n",
    "    plot_weights(session_wise_fits['models'][sub_idx][num_states][0], _input_dim, axs[0])\n",
    "    plot_weights(session_wise_fits['models'][sub_idx+14][num_states][0], _input_dim, axs[1])"
   ]
  },
  {
   "cell_type": "markdown",
   "metadata": {},
   "source": [
    "<br><br><br><br><br><br><br><br><br><br><br><br><br><br><br><br><br><br><br><br><br><br><br><br>"
   ]
  },
  {
   "cell_type": "markdown",
   "metadata": {},
   "source": [
    "# OLD CODE"
   ]
  },
  {
   "cell_type": "code",
   "execution_count": null,
   "metadata": {},
   "outputs": [],
   "source": [
    "\n",
    "x_hat = sim_x\n",
    "y_hat = np.mean(sim_y_hat, axis=1)\n",
    "y_std = np.std(sim_y_hat, axis=1)\n",
    "\n",
    "y_err = stats.sem(sim_y_hat, axis=1)\n",
    "\n",
    "plt.plot(x_hat, y_hat, label=\"Simulated\", color=\"blue\")\n",
    "plt.fill_between(x_hat, y_hat - y_std, y_hat + y_std, color=\"green\", alpha=1, label=\"Error Region\")\n",
    "# plt.fill_between(x_hat, y_hat - y_err, y_hat + y_err, color=\"green\", alpha=1, label=\"Error Region\")\n",
    "\n",
    "\n",
    "pos_coh, pos_psych, pos_model, pos_x_hat, pos_y_hat = utils.get_psychometric_data(example_session)\n",
    "plt.plot(pos_coh, pos_psych, 'o', label='data')"
   ]
  },
  {
   "cell_type": "code",
   "execution_count": null,
   "metadata": {},
   "outputs": [],
   "source": [
    "\n",
    "x_hat = sim_x\n",
    "y_hat = np.mean(sim_y_hat, axis=1)\n",
    "y_std = np.std(sim_y_hat, axis=1)\n",
    "\n",
    "y_err = stats.sem(sim_y_hat, axis=1)\n",
    "\n",
    "plt.plot(x_hat, y_hat, label=\"Simulated\", color=\"blue\")\n",
    "plt.fill_between(x_hat, y_hat - y_std, y_hat + y_std, color=\"green\", alpha=1, label=\"Error Region\")"
   ]
  },
  {
   "cell_type": "code",
   "execution_count": null,
   "metadata": {},
   "outputs": [],
   "source": [
    "sim_data = pd.DataFrame()\n",
    "sim_data['choice'] = np.array(choices_hat).flatten()\n",
    "sim_data['signed_coherence'] = data['signed_coherence'][filter].values\n",
    "\n",
    "\n",
    "pos_coh, pos_psych, pos_model, pos_x_hat, pos_y_hat = utils.get_psychometric_data(sim_data)\n",
    "\n",
    "plt.plot(pos_x_hat, pos_y_hat, label='sim')"
   ]
  },
  {
   "cell_type": "code",
   "execution_count": null,
   "metadata": {},
   "outputs": [],
   "source": [
    "plot_model_fit(glmhmm)"
   ]
  },
  {
   "cell_type": "code",
   "execution_count": null,
   "metadata": {},
   "outputs": [],
   "source": [
    "# choices_hat[0][mask],\n",
    "choices[0][mask].shape\n",
    "\n",
    "\n",
    "x = choices[0][np.where(mask == 1)]\n",
    "y = choices_hat[0][np.where(mask == 1)]\n",
    "\n",
    "np.mean(x == y)"
   ]
  },
  {
   "cell_type": "code",
   "execution_count": null,
   "metadata": {},
   "outputs": [],
   "source": [
    "loglikelihood_train, recovered_weights = fit_glm([this_inpt],\n",
    "                                                             [this_y], M, C)\n",
    "            weights_for_plotting = append_zeros(recovered_weights)\n",
    "            plot_input_vectors(weights_for_plotting,\n",
    "                               figure_directory,\n",
    "                               title=\"GLM fit; Final LL = \" +\n",
    "                               str(loglikelihood_train),\n",
    "                               save_title='init' + str(iter),\n",
    "                               labels_for_plot=labels_for_plot)\n",
    "            loglikelihood_train_vector.append(loglikelihood_train)"
   ]
  }
 ],
 "metadata": {
  "kernelspec": {
   "display_name": "Python 3",
   "language": "python",
   "name": "python3"
  },
  "language_info": {
   "codemirror_mode": {
    "name": "ipython",
    "version": 3
   },
   "file_extension": ".py",
   "mimetype": "text/x-python",
   "name": "python",
   "nbconvert_exporter": "python",
   "pygments_lexer": "ipython3",
   "version": "3.10.12"
  }
 },
 "nbformat": 4,
 "nbformat_minor": 2
}
